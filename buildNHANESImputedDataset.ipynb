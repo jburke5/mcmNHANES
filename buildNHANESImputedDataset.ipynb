{
 "cells": [
  {
   "cell_type": "markdown",
   "metadata": {},
   "source": [
    "# don't forget to hop into the conda3 virtual environment — source activate base\n",
    "\n",
    "To Dos:\n",
    "<ul>\n",
    "    <li> make sure to add smoking to the risk factor models</li>\n",
    "    <li> creatinine/GFR</li>\n",
    "    <li> build out the nhanes file loader method below into something prettier</li>\n",
    "</ul>"
   ]
  },
  {
   "cell_type": "code",
   "execution_count": 1,
   "metadata": {},
   "outputs": [],
   "source": [
    "%load_ext autoreload\n",
    "%autoreload 2\n",
    "\n",
    "import pandas as pd\n",
    "import numpy as np\n",
    "import os\n",
    "import shutil\n",
    "\n",
    "pd.set_option('display.max_columns', None)"
   ]
  },
  {
   "cell_type": "code",
   "execution_count": 2,
   "metadata": {},
   "outputs": [],
   "source": [
    "baseDir = \"/Users/burke/Documents/research/bpCog/nhanes/sourceData/\"\n",
    "os.chdir(baseDir)"
   ]
  },
  {
   "cell_type": "markdown",
   "metadata": {},
   "source": [
    "### Function to download NHANES files for specific variables"
   ]
  },
  {
   "cell_type": "code",
   "execution_count": 3,
   "metadata": {},
   "outputs": [],
   "source": [
    "import wget\n",
    "def downloadYear(year, stem):\n",
    "    plusOne = year + 1\n",
    "    dirName = \"nhanesRawData/\" + str(year) + \"-\" + str(plusOne)\n",
    "    os.chdir(dirName)\n",
    "    url = \"https://wwwn.cdc.gov/Nchs/Nhanes/\" + str(year) + \"-\" + str(plusOne) + \"/\" + stem + \".XPT\"\n",
    "    print(url)\n",
    "\n",
    "    fileName = wget.download(url, stem + \".XPT\")  \n",
    "    # Overwrite file if already exists\n",
    "    if os.path.exists(fileName):\n",
    "        shutil.move(fileName,stem + \".XPT\")\n",
    "    os.chdir(baseDir)\n",
    "    return pd.read_sas(os.path.join(dirName, stem + '.XPT'))\n",
    "   "
   ]
  },
  {
   "cell_type": "code",
   "execution_count": 4,
   "metadata": {},
   "outputs": [
    {
     "name": "stdout",
     "output_type": "stream",
     "text": [
      "https://wwwn.cdc.gov/Nchs/Nhanes/2017-2018/DEMO_J.XPT\n",
      "https://wwwn.cdc.gov/Nchs/Nhanes/2017-2018/MCQ_J.XPT\n",
      "https://wwwn.cdc.gov/Nchs/Nhanes/2017-2018/SMQ_J.XPT\n",
      "https://wwwn.cdc.gov/Nchs/Nhanes/2017-2018/DIQ_J.XPT\n",
      "https://wwwn.cdc.gov/Nchs/Nhanes/2017-2018/GHB_J.XPT\n",
      "https://wwwn.cdc.gov/Nchs/Nhanes/2017-2018/HDL_J.XPT\n",
      "https://wwwn.cdc.gov/Nchs/Nhanes/2017-2018/TCHOL_J.XPT\n",
      "https://wwwn.cdc.gov/Nchs/Nhanes/2017-2018/BMX_J.XPT\n",
      "https://wwwn.cdc.gov/Nchs/Nhanes/2017-2018/BPX_J.XPT\n"
     ]
    }
   ],
   "source": [
    "def loadBaseFilesForYear(year, suffix):\n",
    "    # looks like OGTT dropped in 2018...\n",
    "    baseFileStems = ['DEMO','MCQ', 'SMQ', 'DIQ','GHB', 'HDL', 'TCHOL', 'BMX', 'BPX']\n",
    "    for baseStem in baseFileStems:\n",
    "        downloadYear(year, baseStem+'_'+suffix)\n",
    "    \n",
    "    \n",
    "# loaded for prior years manually\n",
    "loadBaseFilesForYear(2017, 'J')"
   ]
  },
  {
   "cell_type": "code",
   "execution_count": 5,
   "metadata": {
    "scrolled": true
   },
   "outputs": [
    {
     "name": "stdout",
     "output_type": "stream",
     "text": [
      "https://wwwn.cdc.gov/Nchs/Nhanes/1999-2000/LAB10AM.XPT\n",
      "https://wwwn.cdc.gov/Nchs/Nhanes/2001-2002/L10_2_B.XPT\n",
      "https://wwwn.cdc.gov/Nchs/Nhanes/2003-2004/L10AM_C.XPT\n",
      "https://wwwn.cdc.gov/Nchs/Nhanes/2005-2006/GLU_D.XPT\n",
      "https://wwwn.cdc.gov/Nchs/Nhanes/2007-2008/GLU_E.XPT\n",
      "https://wwwn.cdc.gov/Nchs/Nhanes/2009-2010/GLU_F.XPT\n",
      "https://wwwn.cdc.gov/Nchs/Nhanes/2011-2012/GLU_G.XPT\n",
      "https://wwwn.cdc.gov/Nchs/Nhanes/2013-2014/GLU_H.XPT\n",
      "https://wwwn.cdc.gov/Nchs/Nhanes/2015-2016/GLU_I.XPT\n",
      "https://wwwn.cdc.gov/Nchs/Nhanes/2017-2018/GLU_J.XPT\n",
      "https://wwwn.cdc.gov/Nchs/Nhanes/1999-2000/PAQ.XPT\n",
      "https://wwwn.cdc.gov/Nchs/Nhanes/2001-2002/PAQ_B.XPT\n",
      "https://wwwn.cdc.gov/Nchs/Nhanes/2003-2004/PAQ_C.XPT\n",
      "https://wwwn.cdc.gov/Nchs/Nhanes/2005-2006/PAQ_D.XPT\n",
      "https://wwwn.cdc.gov/Nchs/Nhanes/2007-2008/PAQ_E.XPT\n",
      "https://wwwn.cdc.gov/Nchs/Nhanes/2009-2010/PAQ_F.XPT\n",
      "https://wwwn.cdc.gov/Nchs/Nhanes/2011-2012/PAQ_G.XPT\n",
      "https://wwwn.cdc.gov/Nchs/Nhanes/2013-2014/PAQ_H.XPT\n",
      "https://wwwn.cdc.gov/Nchs/Nhanes/2015-2016/PAQ_I.XPT\n",
      "https://wwwn.cdc.gov/Nchs/Nhanes/2017-2018/PAQ_J.XPT\n",
      "https://wwwn.cdc.gov/Nchs/Nhanes/1999-2000/RXQ_RX.XPT\n",
      "https://wwwn.cdc.gov/Nchs/Nhanes/2001-2002/RXQ_RX_B.XPT\n",
      "https://wwwn.cdc.gov/Nchs/Nhanes/2003-2004/RXQ_RX_C.XPT\n",
      "https://wwwn.cdc.gov/Nchs/Nhanes/2005-2006/RXQ_RX_D.XPT\n",
      "https://wwwn.cdc.gov/Nchs/Nhanes/2007-2008/RXQ_RX_E.XPT\n",
      "https://wwwn.cdc.gov/Nchs/Nhanes/2009-2010/RXQ_RX_F.XPT\n",
      "https://wwwn.cdc.gov/Nchs/Nhanes/2011-2012/RXQ_RX_G.XPT\n",
      "https://wwwn.cdc.gov/Nchs/Nhanes/2013-2014/RXQ_RX_H.XPT\n",
      "https://wwwn.cdc.gov/Nchs/Nhanes/2015-2016/RXQ_RX_I.XPT\n",
      "https://wwwn.cdc.gov/Nchs/Nhanes/2017-2018/RXQ_RX_J.XPT\n",
      "https://wwwn.cdc.gov/Nchs/Nhanes/1999-2000/ALQ.XPT\n",
      "https://wwwn.cdc.gov/Nchs/Nhanes/2001-2002/ALQ_B.XPT\n",
      "https://wwwn.cdc.gov/Nchs/Nhanes/2003-2004/ALQ_C.XPT\n",
      "https://wwwn.cdc.gov/Nchs/Nhanes/2005-2006/ALQ_D.XPT\n",
      "https://wwwn.cdc.gov/Nchs/Nhanes/2007-2008/ALQ_E.XPT\n",
      "https://wwwn.cdc.gov/Nchs/Nhanes/2009-2010/ALQ_F.XPT\n",
      "https://wwwn.cdc.gov/Nchs/Nhanes/2011-2012/ALQ_G.XPT\n",
      "https://wwwn.cdc.gov/Nchs/Nhanes/2013-2014/ALQ_H.XPT\n",
      "https://wwwn.cdc.gov/Nchs/Nhanes/2015-2016/ALQ_I.XPT\n",
      "https://wwwn.cdc.gov/Nchs/Nhanes/2017-2018/ALQ_J.XPT\n"
     ]
    }
   ],
   "source": [
    "import wget\n",
    "import os.path\n",
    "import shutil\n",
    "     \n",
    "glucoseFileStems = ['LAB10AM', 'L10_2_B','L10AM_C', 'GLU_D', 'GLU_E', 'GLU_F', 'GLU_G', 'GLU_H', 'GLU_I', 'GLU_J' ]\n",
    "\n",
    "stemIndex = 0  \n",
    "for year in range(1999,2018,2):\n",
    "    downloadYear(year, glucoseFileStems[stemIndex])\n",
    "    stemIndex += 1\n",
    "    \n",
    "    \n",
    "paqFileStems = ['PAQ', 'PAQ_B','PAQ_C', 'PAQ_D', 'PAQ_E', 'PAQ_F', 'PAQ_G', 'PAQ_H', 'PAQ_I', 'PAQ_J' ]\n",
    "\n",
    "\n",
    "stemIndex = 0\n",
    "for year in range(1999,2018,2):\n",
    "    downloadYear(year, paqFileStems[stemIndex])\n",
    "    stemIndex += 1\n",
    "\n",
    "rxFileStems = ['RXQ_RX', 'RXQ_RX_B','RXQ_RX_C', 'RXQ_RX_D', 'RXQ_RX_E', 'RXQ_RX_F', 'RXQ_RX_G', 'RXQ_RX_H', 'RXQ_RX_I', 'RXQ_RX_J' ]\n",
    "stemIndex = 0\n",
    "for year in range(1999,2018,2):\n",
    "    downloadYear(year, rxFileStems[stemIndex])\n",
    "    stemIndex += 1\n",
    "    \n",
    "alcFileStems = ['ALQ', 'ALQ_B','ALQ_C', 'ALQ_D', 'ALQ_E', 'ALQ_F', 'ALQ_G', 'ALQ_H', 'ALQ_I', 'ALQ_J' ]\n",
    "stemIndex = 0\n",
    "for year in range(1999,2018,2):\n",
    "    downloadYear(year, alcFileStems[stemIndex])\n",
    "    stemIndex += 1\n"
   ]
  },
  {
   "cell_type": "code",
   "execution_count": 6,
   "metadata": {},
   "outputs": [
    {
     "name": "stdout",
     "output_type": "stream",
     "text": [
      "https://wwwn.cdc.gov/Nchs/Nhanes/1999-2000/RXQ_DRUG.XPT\n"
     ]
    }
   ],
   "source": [
    "# level one gets us to cardiovascular meds...these are the level 2 value-counts\n",
    "drugDatafile = downloadYear(1999, 'RXQ_DRUG')\n",
    "drugDatafile['antiHypertensive'] = 0\n",
    "drugDatafile['statin'] = 0\n",
    "drugDatafile['otherLipidLowering'] = 0\n",
    "drugDatafile.loc[((drugDatafile.RXDDCI1A==40) & (drugDatafile.RXDDCI1B.isin([42, 43, 44,47,48, 49,53,55,56]))), 'antiHypertensive'] = 1\n",
    "drugDatafile.loc[((drugDatafile.RXDDCI1A==358) & (drugDatafile.RXDDCI1B == 19) & (drugDatafile.RXDDCI1C==173)), 'statin'] = 1\n",
    "drugDatafile.loc[((drugDatafile.RXDDCI1A==358) & (drugDatafile.RXDDCI1B == 19) & (drugDatafile.RXDDCI1C.isin([174,241,252,316,317]))), 'otherLipidLowering'] = 1"
   ]
  },
  {
   "cell_type": "markdown",
   "metadata": {},
   "source": [
    "### Load All NHANES Data Files and append into a single dataset\n",
    "\n"
   ]
  },
  {
   "cell_type": "code",
   "execution_count": 7,
   "metadata": {
    "scrolled": true
   },
   "outputs": [
    {
     "name": "stdout",
     "output_type": "stream",
     "text": [
      "TRIGLY_G.XPT\n",
      "SMQ_G.XPT\n",
      "ALQ_G.XPT\n",
      "GHB_G.XPT\n",
      "DIQ_G.XPT\n",
      "MCQ_G.XPT\n",
      "PAQ_G.XPT\n",
      "TCHOL_G.XPT\n",
      "2011mortality.xpt\n",
      "HDL_G.XPT\n",
      "BMX_G.XPT\n",
      "BPX_G.XPT\n",
      "OGTT_G.XPT\n",
      "GLU_G.XPT\n",
      "2011\n",
      "OGTT_I.XPT\n",
      "GLU_I.XPT\n",
      "BPX_I.XPT\n",
      "MCQ_I.XPT\n",
      "BMX_I.XPT\n",
      "HDL_I.XPT\n",
      "TCHOL_I.XPT\n",
      "PAQ_I.XPT\n",
      "DIQ_I.XPT\n",
      "GHB_I.XPT\n",
      "ALQ_I.XPT\n",
      "SMQ_I.XPT\n",
      "2015\n",
      "TRIGLY_E.XPT\n",
      "DIQ_E.XPT\n",
      "GHB_E.XPT\n",
      "ALQ_E.XPT\n",
      "SMQ_E.XPT\n",
      "BMX_E.XPT\n",
      "HDL_E.XPT\n",
      "TCHOL_E.XPT\n",
      "PAQ_E.XPT\n",
      "MCQ_E.XPT\n",
      "BPX_E.XPT\n",
      "GLU_E.XPT\n",
      "2007Mortality.xpt\n",
      "OGTT_E.XPT\n",
      "2007\n",
      "DIQ_C.XPT\n",
      "GHB_C.XPT\n",
      "ALQ_C.XPT\n",
      "SMQ_C.XPT\n",
      "BMX_C.XPT\n",
      "PAQ_C.XPT\n",
      "MCQ_C.XPT\n",
      "LDL_TRIG.XPT\n",
      "L10AM_C.XPT\n",
      "2003Mortality.xpt\n",
      "CHOL_HDL.XPT\n",
      "BPX_C.XPT\n",
      "2003\n",
      "LBDHDD is missing from year: 2003\n",
      "checking: LBDHDL\n",
      "checking: LBXHDD\n",
      "rename: LBXHDD to key: LBDHDD\n",
      "checking: LBDHDL_x\n",
      "2009Mortality.xpt\n",
      "TRIGLY_F.XPT\n",
      "DIQ_F.XPT\n",
      "GHB_F.XPT\n",
      "ALQ_F.XPT\n",
      "SMQ_F.XPT\n",
      "MCQ_F.XPT\n",
      "BMX_F.XPT\n",
      "HDL_F.XPT\n",
      "TCHOL_F.XPT\n",
      "PAQ_F.XPT\n",
      "BPX_F.XPT\n",
      "OGTT_F.XPT\n",
      "GLU_F.XPT\n",
      "2009\n",
      "SMQ_B.XPT\n",
      "ALQ_B.XPT\n",
      "DIQ_B.XPT\n",
      "GHB.XPT\n",
      "PAQ_B.XPT\n",
      "HDL_TOT.XPT\n",
      "BMX_B.XPT\n",
      "MCQ_B.XPT\n",
      "L10_2_B.XPT\n",
      "LDL_TRIG.XPT\n",
      "2001Mortality.xpt\n",
      "TCHOL_HDL.XPT\n",
      "BPX_B.XPT\n",
      "2001\n",
      "LBXTC is missing from year: 2001\n",
      "checking: LBXTC_x\n",
      "rename: LBXTC_x to key: LBXTC\n",
      "LBDHDD is missing from year: 2001\n",
      "checking: LBDHDL\n",
      "checking: LBXHDD\n",
      "checking: LBDHDL_x\n",
      "rename: LBDHDL_x to key: LBDHDD\n",
      "TRIGLY_D.XPT\n",
      "SMQ_D.XPT\n",
      "ALQ_D.XPT\n",
      "GHB_D.XPT\n",
      "DIQ_D.XPT\n",
      "2005Mortality.xpt\n",
      "PAQ_D.XPT\n",
      "TCHOL_D.XPT\n",
      "HDL_D.XPT\n",
      "BMX_D.XPT\n",
      "MCQ_D.XPT\n",
      "BPX_D.XPT\n",
      "GLU_D.XPT\n",
      "OGTT_D.XPT\n",
      "2005\n",
      "SMQ.XPT\n",
      "BMX.XPT\n",
      "GHB.XPT\n",
      "HDL_TOT.XPT\n",
      "PAQ.XPT\n",
      "LDL_TRIG.XPT\n",
      "DIQ.XPT\n",
      "LAB10AM.XPT\n",
      "BPX.XPT\n",
      "ALQ.XPT\n",
      "stem.XPT\n",
      "TCHOL_HDL.XPT\n",
      "MCQ.XPT\n",
      "1999Mortality.xpt\n",
      "1999\n",
      "LBXTC is missing from year: 1999\n",
      "checking: LBXTC_x\n",
      "rename: LBXTC_x to key: LBXTC\n",
      "LBDHDD is missing from year: 1999\n",
      "checking: LBDHDL\n",
      "checking: LBXHDD\n",
      "checking: LBDHDL_x\n",
      "rename: LBDHDL_x to key: LBDHDD\n",
      "OGTT_H.XPT\n",
      "GLU_H.XPT\n",
      "BPX_H.XPT\n",
      "MCQ_H.XPT\n",
      "PAQ_H.XPT\n",
      "TCHOL_H.XPT\n",
      "HDL_H.XPT\n",
      "BMX_H.XPT\n",
      "SMQ_H.XPT\n",
      "ALQ_H.XPT\n",
      "GHB_H.XPT\n",
      "DIQ_H.XPT\n",
      "TRIGLY_H.XPT\n",
      "2013\n",
      "GLU_J.XPT\n",
      "BPX_J.XPT\n",
      "BMX_J.XPT\n",
      "HDL_J.XPT\n",
      "TCHOL_J.XPT\n",
      "PAQ_J.XPT\n",
      "MCQ_J.XPT\n",
      "DIQ_J.XPT\n",
      "GHB_J.XPT\n",
      "ALQ_J.XPT\n",
      "SMQ_J.XPT\n",
      "2017\n"
     ]
    }
   ],
   "source": [
    "''' iterate through the root directory which has subdiretxories (with year names) for each annual collection of \n",
    "raw NHANES data files '''\n",
    "\n",
    "root = next(os.walk(\"nhanesRawData\"))[0]\n",
    "yearDirs = next(os.walk(\"nhanesRawData\"))[1]\n",
    "yearDirsWithRoot = [root + os.sep + year for year in yearDirs]\n",
    "\n",
    "\n",
    "# loads the files from a year — starts with the demographics files and then merges in all of the other subfiles in the directory\n",
    "\n",
    "def loadYear(dir):\n",
    "    demographics = getDemographics(dir)\n",
    "    otherFiles = next(os.walk(dir))[2]\n",
    "    otherFiles.remove(demographics)\n",
    "    \n",
    "    demoSAS = pd.read_sas(dir + os.sep + demographics)\n",
    "    for other in otherFiles:\n",
    "        if other[-3:] == \"csv\":\n",
    "            otherSAS = pd.read_csv(dir + os.sep + other)\n",
    "            demoSAS = demoSAS.merge(otherSAS, how='left', on=['SEQN'])\n",
    "        elif other.startswith(\"RXQ\"):\n",
    "            continue\n",
    "        elif other[-3:].lower() == \"xpt\":\n",
    "            print(other)\n",
    "            otherSAS = pd.read_sas(dir + os.sep + other)\n",
    "            demoSAS = demoSAS.merge(otherSAS, how='left', on=['SEQN'])\n",
    "    year = dir[dir.find(os.sep)+1:dir.find(\"-\")]\n",
    "    demoSAS['year'] = year\n",
    "    \n",
    "    # left off here — need to get date of death into this by pulling it from the file year in teh loop\n",
    "    columnNameMappings = {\"RIDAGEYR\" : \"age\", \"RIAGENDR\" :  \"gender\",  \"RIDRETH1\" : \"raceEthnicity\",\n",
    "                          \"BPXSY1\" : \"sbp1\", \"BPXSY2\" : \"sbp2\", \"BPXSY3\" : \"sbp3\", \"BPXSY4\" : \"sbp4\", \"BPXDI1\" : \"dbp1\",\n",
    "                        \"BPXDI2\": \"dbp2\", \"BPXDI3\" : \"dbp3\", \"BPXDI4\" : \"dbp4\", \"LBXGH\" : \"a1c\", \"LBDHDD\" : \"hdl\",\n",
    "                        \"LBXTC\" : \"tot_chol\", \"SMQ040\" : \"currentSmoker\", \"SMQ020\" : \"quantitySmoked\",\"BMXWT\" : \"weight\",\n",
    "                          \"BMXBMI\" : \"bmi\", \"BMXWAIST\" : \"waist\", \"LBDLDL\" : \"ldl\", \"LBXTR\" : \"trig\",  \n",
    "                          \"DMDYRSUS\" : \"timeInUS\", \"MORTSTAT\" : \"diedBy2015\", \"UCOD_LEA\" : \"ucod\", \n",
    "                         \"MCQ160E\" :\"selfReportMI\", \"MCQ180E\" : \"selfReportMIAge\", \n",
    "                            \"MCQ160F\" : \"selfReportStroke\", \"MCQ180F\" : \"selfReportStrokeAge\", \n",
    "                          \"PERMTH_I\" : \"monthsToDeath\", \"PERMTH_E\" : \"monthsToDeath2\", \"DMDEDUC2\" : 'education',\n",
    "                         'antiHypertensive' : 'antiHypertensive', 'statin' : 'statin', 'otherLipidLowering' : 'otherLipidLowering',\n",
    "                         'PAQ605' : 'vigorousWork', 'PAQ620' : 'moderateWork', 'PAQ635' : 'walkBicyle', \n",
    "                         'PAQ650' : 'vigorousRecreation', 'PAQ665' : 'moderateRecreation',\n",
    "                         'PAD020' : 'walkBikeOld', 'PAD200' : 'vigorousOld', 'PAD320' : 'moderateOld',\n",
    "                         'ALQ130' : 'alcoholDrinksPerDay', 'ALQ100' : 'alcoholLastYear',\n",
    "                         'ALQ110' : 'alcoholLifetime'}\n",
    "    \n",
    "    alternateNames = {'LBXTC' : ['LBXTC_x' ], 'LBDHDD' : ['LBDHDL','LBXHDD', 'LBDHDL_x']}\n",
    "    \n",
    "    print (year)\n",
    "    demoSAS.to_csv(str(year + \"Before.csv\"))\n",
    "    # we have a couple variable names that get remapped to differnet names...this will remap them all to consistent names\n",
    "    for key in alternateNames.keys():\n",
    "        if key not in demoSAS:\n",
    "            print(str(key) + \" is missing from year: \" + str(year))\n",
    "            for value in alternateNames[key]:\n",
    "                print (\"checking: \" + value)\n",
    "                if value in demoSAS:\n",
    "                    print (\"rename: \" + value + \" to key: \" + key)\n",
    "                    demoSAS.rename(columns={value: key}, inplace=True)\n",
    "\n",
    "    demoSAS.to_csv(str(year + \"InBetween.csv\"))\n",
    "\n",
    "    \n",
    "    columnsToKeep = list(columnNameMappings.keys())\n",
    "    columnsToKeep.extend([\"SEQN\", \"WTINT2YR\", \"WTMEC2YR\", \"SDMVPSU\", \"SDMVSTRA\", \"year\"])\n",
    "    \n",
    "    # some of the factors that we car eabout are missing in given years...add them and make them null here.\n",
    "    for value in columnsToKeep:\n",
    "        if value not in demoSAS:\n",
    "            demoSAS[value] = np.nan\n",
    "    \n",
    "    demoSAS = demoSAS[columnsToKeep]\n",
    "    demoSAS.rename(columns=columnNameMappings, inplace=True)\n",
    "    demoSAS.to_csv(str(year) + \".csv\")\n",
    "    \n",
    "    return demoSAS\n",
    "\n",
    "def getDemographics(dir):\n",
    "    files = next(os.walk(dir))[2]\n",
    "    for file in files:\n",
    "        if file.startswith(\"DEMO\"):\n",
    "            return file\n",
    "    raise Exception(\"Unable to find demographics file in directory: \" + dir)\n",
    "        \n",
    "    \n",
    "# the med files are going to be our exception — for all of the other files, we just need to get a single row per person\n",
    "# for meds, there are multiple rows per person...so, we'll build a summary file that extracts the med fieds that we care \n",
    "# about into a summary file with one line per person\n",
    "def convertMedsToMedSummaryFiles(dir):\n",
    "    allFiles = next(os.walk(dir))[2]\n",
    "    for file in allFiles:\n",
    "        if file.startswith('RXQ_RX'):\n",
    "            medsFile = pd.read_sas(os.path.join(dir, file))\n",
    "            summary = medsFile.merge(drugDatafile, on='RXDDRGID').groupby('SEQN')[['SEQN', 'antiHypertensive', 'statin', 'otherLipidLowering']].sum()\n",
    "            summary.to_csv(os.path.join(dir, \"medSummary.csv\"))\n",
    "    \n",
    "[convertMedsToMedSummaryFiles(x) for x in yearDirsWithRoot]\n",
    "yearDataFrames = [loadYear(x) for x in yearDirsWithRoot]\n",
    "combined = pd.concat(yearDataFrames, sort=True)\n",
    "\n",
    "combined['anyPhysicalActivity'] = 0\n",
    "combined.loc[(combined.vigorousWork==1) | (combined.moderateWork==1) | (combined.walkBicyle==1) | (combined.vigorousRecreation==1) | (combined.moderateRecreation==1),'anyPhysicalActivity'] = 1\n",
    "combined.loc[(combined.walkBikeOld==1) | (combined.vigorousOld==1) | (combined.moderateOld==1),'anyPhysicalActivity'] = 1\n",
    "combined.drop(labels=['vigorousWork', 'moderateWork', 'walkBicyle', 'vigorousRecreation', 'moderateRecreation', 'walkBikeOld', 'vigorousOld', 'moderateOld'], axis=1, inplace=True)\n",
    "combined.education.replace(to_replace=[7,9], value=np.nan, inplace=True)\n",
    "\n",
    "\n",
    "# combine the two smoking status variables into a variable that fits into ASCVD\n",
    "def generateSmokingStatus(x):\n",
    "    if np.isclose(x.currentSmoker, 1, 0.0001) or np.isclose(x.currentSmoker, 2, 0.0001):\n",
    "        return \"2\"\n",
    "    elif np.isclose(x.quantitySmoked, 1, 0.0001):\n",
    "        return \"1\"\n",
    "    else:\n",
    "        return \"0\"\n",
    "    \n",
    "smokingStatusValues = [generateSmokingStatus(x) for _,x in combined.iterrows()]\n",
    "combined = combined.assign(smokingStatus=pd.Series(data=smokingStatusValues, index=combined.index, dtype=\"category\"))\n",
    "combined.drop(labels=[\"currentSmoker\", \"quantitySmoked\"],axis=1, inplace=True)\n",
    "combined.raceEthnicity = combined.raceEthnicity.astype('int')\n",
    "combined.raceEthnicity = combined.raceEthnicity.astype(\"category\")\n",
    "combined.education.fillna(4, inplace=True) # small amount of mnissing data...will crudely impute with temost common value\n",
    "combined[['education']] = combined[['education']].astype('int')\n",
    "combined.education = combined.education.astype('category')\n",
    "\n",
    "combined['meanSBP'] = combined[['sbp1', 'sbp2', 'sbp3', 'sbp4']].mean(axis=1)\n",
    "combined['meanDBP'] = combined[['dbp1', 'dbp2', 'dbp3', 'dbp4']].mean(axis=1)\n",
    "\n",
    "combined['alcoholPerWeek'] = combined.alcoholDrinksPerDay * 7\n",
    "combined.alcoholPerWeek= np.where(combined.alcoholLastYear ==2, 0, combined.alcoholPerWeek)\n",
    "combined.alcoholPerWeek = np.where(combined.alcoholLifetime ==2, 0, combined.alcoholPerWeek)\n",
    "combined.alcoholPerWeek = np.where(combined.alcoholDrinksPerDay > 40, np.nan, combined.alcoholPerWeek)\n",
    "\n",
    "# there are a bunch of very low DBPs that don't correlate with SBPs at all...we're going to call those missing\n",
    "# and then impute them\n",
    "combined.loc[combined.meanDBP < 40, 'meanDBP'] = np.nan\n",
    "\n",
    "\n",
    "### Clean up some variables with muitple field names and build a smoking summary variable\n",
    "over18 = combined.loc[combined.age > 18]\n"
   ]
  },
  {
   "cell_type": "code",
   "execution_count": 8,
   "metadata": {},
   "outputs": [
    {
     "name": "stderr",
     "output_type": "stream",
     "text": [
      "/Users/burke/opt/anaconda3/lib/python3.7/site-packages/pandas/core/indexing.py:670: SettingWithCopyWarning: \n",
      "A value is trying to be set on a copy of a slice from a DataFrame\n",
      "\n",
      "See the caveats in the documentation: https://pandas.pydata.org/pandas-docs/stable/user_guide/indexing.html#returning-a-view-versus-a-copy\n",
      "  iloc._setitem_with_indexer(indexer, value)\n"
     ]
    }
   ],
   "source": [
    "over18.groupby('year').apply(lambda x : x.count()) / len(over18)\n",
    "\n",
    "regressDF = over18.copy()\n",
    "#regressDF.drop(\"year\", axis=1, inplace=True)\n",
    "regressDF = pd.get_dummies(regressDF, columns =['raceEthnicity', 'smokingStatus', 'education'])\n",
    "regressDF.drop(labels=['SEQN', 'WTMEC2YR', 'SDMVPSU','SDMVSTRA' ],axis=1, inplace=True)\n",
    "regressDF.drop(labels=['sbp1', 'sbp2','sbp3', 'sbp4','dbp1', 'dbp2', 'dbp3', 'dbp4' ],axis=1, inplace=True)\n",
    "regressDF.drop(labels=['alcoholDrinksPerDay','alcoholLastYear', 'alcoholLifetime' ],axis=1, inplace=True)\n",
    "\n",
    "regressDF.year = regressDF.year.astype(int)\n",
    "regressDF.selfReportStroke = regressDF.selfReportStroke==1\n",
    "regressDF.selfReportMI = regressDF.selfReportMI==1\n",
    "regressDF.ucod.replace({b'010' : '1', b'005' : 2}, inplace=True)\n",
    "regressDF.ucod.loc[regressDF['ucod'].isin([b'002', b'001',b'003',b'007',b'004',b'008',b'006',b'009' ])]=3\n",
    "regressDF.ucod.loc[regressDF['ucod'].isin([b'',b'.'])]=0\n",
    "regressDF.ucod.fillna(value=0, inplace=True)\n",
    "regressDF.ucod = regressDF.ucod.astype('int64')\n",
    "regressDF.selfReportMI = regressDF.selfReportMI.astype('int64')\n",
    "regressDF.selfReportStroke = regressDF.selfReportStroke.astype('int64')\n"
   ]
  },
  {
   "cell_type": "markdown",
   "metadata": {},
   "source": [
    "### Summarize the missing data — used mostly for data checks\n"
   ]
  },
  {
   "cell_type": "code",
   "execution_count": 9,
   "metadata": {},
   "outputs": [],
   "source": [
    "### left off here — going to need to copy the ecducation variablse back to the main data...\n",
    "### also need to impute waist circumference and the other new variables...  "
   ]
  },
  {
   "cell_type": "markdown",
   "metadata": {},
   "source": [
    "### Use MICE to impute missing data\n",
    "\n"
   ]
  },
  {
   "cell_type": "code",
   "execution_count": 10,
   "metadata": {},
   "outputs": [
    {
     "name": "stderr",
     "output_type": "stream",
     "text": [
      "/Users/burke/opt/anaconda3/lib/python3.7/site-packages/statsmodels/tools/_testing.py:19: FutureWarning: pandas.util.testing is deprecated. Use the functions in the public API at pandas.testing instead.\n",
      "  import pandas.util.testing as tm\n",
      "/Users/burke/opt/anaconda3/lib/python3.7/site-packages/statsmodels/imputation/mice.py:979: RuntimeWarning: covariance is not positive-semidefinite.\n",
      "  self.params[vname] = np.random.multivariate_normal(mean=mu, cov=cov)\n"
     ]
    },
    {
     "data": {
      "image/png": "[encoded data removed]",
      "text/plain": [
       "<Figure size 432x288 with 1 Axes>"
      ]
     },
     "execution_count": 10,
     "metadata": {},
     "output_type": "execute_result"
    },
    {
     "data": {
      "image/png": "[encoded data removed]",
      "text/plain": [
       "<Figure size 432x288 with 1 Axes>"
      ]
     },
     "metadata": {
      "needs_background": "light"
     },
     "output_type": "display_data"
    },
    {
     "data": {
      "image/png": "[encoded data removed]",
      "text/plain": [
       "<Figure size 432x288 with 1 Axes>"
      ]
     },
     "metadata": {
      "needs_background": "light"
     },
     "output_type": "display_data"
    }
   ],
   "source": [
    "\n",
    "import statsmodels.imputation.mice as mice\n",
    "\n",
    "def ols_formula(df, dependent_var):\n",
    "    df_columns = list(df.columns.values)\n",
    "    df_columns.remove(dependent_var)\n",
    "    fml = ''\n",
    "    for col in df_columns:\n",
    "        fml = fml + ' + ' + col\n",
    "    fml = fml + ' + year '\n",
    "    return fml\n",
    "\n",
    "imputedData = mice.MICEData(regressDF)\n",
    "# have to leave LDL and trig out of each other's imputations...since their missingness is highly correlated\n",
    "imputedData.set_imputer(\"ldl\", formula='hdl + tot_chol + age + a1c + bmi + meanSBP + meanDBP + year')\n",
    "imputedData.set_imputer(\"trig\", formula='hdl + tot_chol + age + a1c + bmi + meanSBP + meanDBP + year')\n",
    "\n",
    "for var in ['a1c', 'hdl', 'tot_chol', 'weight','bmi','meanSBP', 'meanDBP', 'waist', 'anyPhysicalActivity', 'alcoholPerWeek']:\n",
    "    imputedData.set_imputer(var, formula=ols_formula(regressDF, var))\n",
    "\n",
    "imputedData.update_all(20)\n",
    "\n",
    "### Check missing data in imputed vs. baseline dataset...generally looks pretty good\n",
    "\n",
    "regressDF.meanSBP.describe()\n",
    "\n",
    "imputedData.data.meanSBP.describe()\n",
    "\n",
    "%matplotlib inline\n",
    "imputedData.data.trig.hist()\n",
    "regressDF.trig.hist()\n",
    "\n",
    "imputedData.plot_fit_obs(\"meanSBP\")"
   ]
  },
  {
   "cell_type": "markdown",
   "metadata": {},
   "source": [
    "### Export imputed dataset\n"
   ]
  },
  {
   "cell_type": "code",
   "execution_count": 11,
   "metadata": {},
   "outputs": [
    {
     "name": "stderr",
     "output_type": "stream",
     "text": [
      "/Users/burke/opt/anaconda3/lib/python3.7/site-packages/ipykernel_launcher.py:14: UserWarning: Pandas doesn't allow columns to be created via a new attribute name - see https://pandas.pydata.org/pandas-docs/stable/indexing.html#attribute-access\n",
      "  \n",
      "/Users/burke/opt/anaconda3/lib/python3.7/site-packages/pandas/io/stata.py:650: ValueLabelTypeMismatch: \n",
      "Stata value labels (pandas categories) must be strings. Column raceEthnicity contains\n",
      "non-string labels which will be converted to strings.  Please check that the\n",
      "Stata data file created has not lost information due to duplicate labels.\n",
      "\n",
      "  ValueLabelTypeMismatch,\n",
      "/Users/burke/opt/anaconda3/lib/python3.7/site-packages/pandas/io/stata.py:650: ValueLabelTypeMismatch: \n",
      "Stata value labels (pandas categories) must be strings. Column education contains\n",
      "non-string labels which will be converted to strings.  Please check that the\n",
      "Stata data file created has not lost information due to duplicate labels.\n",
      "\n",
      "  ValueLabelTypeMismatch,\n"
     ]
    },
    {
     "data": {
      "text/plain": [
       "'/Users/burke/Documents/research/bpCog/microsim/microsim/data/fullyImputedDataset.dta'"
      ]
     },
     "execution_count": 11,
     "metadata": {},
     "output_type": "execute_result"
    }
   ],
   "source": [
    "# the imputation reset the time in US variable...we actally want the nulls there because they represent people\n",
    "# that have been in the US their whole lives\n",
    "imputedDataset = imputedData.data\n",
    "imputedDataset.timeInUS = regressDF.timeInUS.values\n",
    "imputedDataset['raceEthnicity'] = over18.raceEthnicity.values\n",
    "imputedDataset['smokingStatus'] = over18.smokingStatus.values\n",
    "imputedDataset['education'] = over18.education.values\n",
    "imputedDataset['selfReportStrokeAge'] = over18.selfReportStrokeAge.values\n",
    "imputedDataset['selfReportMIAge'] = over18.selfReportMIAge.values\n",
    "imputedDataset.raceEthnicity.astype(\"int\")\n",
    "imputedDataset.drop(labels=['smokingStatus_0', 'smokingStatus_1','smokingStatus_2'],axis=1, inplace=True)\n",
    "imputedDataset.drop(labels=['raceEthnicity_1', 'raceEthnicity_2','raceEthnicity_3', 'raceEthnicity_4','raceEthnicity_5' ],axis=1, inplace=True)\n",
    "imputedDataset.drop(labels=['education_1', 'education_2', 'education_3', 'education_4', 'education_5'],axis=1, inplace=True)\n",
    "imputedDataset.diedBy2011 = imputedDataset.diedBy2015.astype('int')\n",
    "\n",
    "imputedDataset.to_csv(\"fullyImputedDataset.csv\")\n",
    "imputedDataset.to_stata(\"fullyImputedDataset.dta\")\n",
    "from shutil import copyfile\n",
    "\n",
    "copyfile(\"fullyImputedDataset.dta\", \"/Users/burke/Documents/research/bpCog/microsim/microsim/data/fullyImputedDataset.dta\")"
   ]
  },
  {
   "cell_type": "code",
   "execution_count": 15,
   "metadata": {},
   "outputs": [
    {
     "data": {
      "text/plain": [
       "<matplotlib.axes._subplots.AxesSubplot at 0x7fb224f80b10>"
      ]
     },
     "execution_count": 15,
     "metadata": {},
     "output_type": "execute_result"
    },
    {
     "data": {
      "image/png": "[encoded data removed]",
      "text/plain": [
       "<Figure size 432x288 with 1 Axes>"
      ]
     },
     "metadata": {
      "needs_background": "light"
     },
     "output_type": "display_data"
    }
   ],
   "source": [
    "imputedDataset.meanDBP.hist()"
   ]
  }
 ],
 "metadata": {
  "kernelspec": {
   "display_name": "Python 3",
   "language": "python",
   "name": "python3"
  },
  "language_info": {
   "codemirror_mode": {
    "name": "ipython",
    "version": 3
   },
   "file_extension": ".py",
   "mimetype": "text/x-python",
   "name": "python",
   "nbconvert_exporter": "python",
   "pygments_lexer": "ipython3",
   "version": "3.7.4"
  }
 },
 "nbformat": 4,
 "nbformat_minor": 2
}
