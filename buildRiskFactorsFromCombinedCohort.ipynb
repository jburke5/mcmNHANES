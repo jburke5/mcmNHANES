{
 "cells": [
  {
   "cell_type": "code",
   "execution_count": 1,
   "metadata": {},
   "outputs": [],
   "source": [
    "import pandas as pd\n",
    "import numpy as np\n",
    "\n",
    "medsCohort = pd.read_stata(\"/Users/burke/Documents/research/bpCog/meds.dta\")\n",
    "medsCohort['antiHypertensiveCount'] = medsCohort[['medsbpace', 'medsbparb', 'medsbpalphabs', 'medsbpbetabs', 'medsbpcalbs', 'medsbpdiur', 'medsbprenin', 'medsbpvas', 'medsbpoth', 'afibslfrep', 'Hxafib', 'afibinc',]].sum(axis=1)\n",
    "medsCohort['statin'] = medsCohort.medsstatinshchol\n",
    "medsCohort['afib'] = medsCohort.index.isin(medsCohort.loc[(medsCohort.afibslfrep==1) |  (medsCohort.Hxafib == 1) | (medsCohort.afibinc == 1)].index)\n",
    "medsCohort['afib'] = medsCohort['afib'].astype('int')\n",
    "\n",
    "medsCohort= medsCohort[['newid', 'antiHypertensiveCount', 'statin', 'visitcounter', 'afib']]\n",
    "\n",
    "completeCohort = pd.read_stata(\"/Users/burke/Documents/research/bpCog/combinedCohort.dta\")\n",
    "\n",
    "#completeCohort =  pd.read_csv(\"/Users/burke/Documents/research/bpCog/combinedCohort.csv\", low_memory=False)"
   ]
  },
  {
   "cell_type": "code",
   "execution_count": 2,
   "metadata": {},
   "outputs": [],
   "source": [
    "completeCohort['newid'] = completeCohort['newid'].str[2:-1]"
   ]
  },
  {
   "cell_type": "code",
   "execution_count": 3,
   "metadata": {},
   "outputs": [
    {
     "data": {
      "text/plain": [
       "41163"
      ]
     },
     "execution_count": 3,
     "metadata": {},
     "output_type": "execute_result"
    }
   ],
   "source": [
    "len(completeCohort['newid'].unique())"
   ]
  },
  {
   "cell_type": "code",
   "execution_count": 4,
   "metadata": {},
   "outputs": [
    {
     "data": {
      "text/html": [
       "<div>\n",
       "<style scoped>\n",
       "    .dataframe tbody tr th:only-of-type {\n",
       "        vertical-align: middle;\n",
       "    }\n",
       "\n",
       "    .dataframe tbody tr th {\n",
       "        vertical-align: top;\n",
       "    }\n",
       "\n",
       "    .dataframe thead th {\n",
       "        text-align: right;\n",
       "    }\n",
       "</style>\n",
       "<table border=\"1\" class=\"dataframe\">\n",
       "  <thead>\n",
       "    <tr style=\"text-align: right;\">\n",
       "      <th></th>\n",
       "      <th>newid</th>\n",
       "      <th>antiHypertensiveCount</th>\n",
       "      <th>statin</th>\n",
       "      <th>visitcounter</th>\n",
       "      <th>afib</th>\n",
       "    </tr>\n",
       "  </thead>\n",
       "  <tbody>\n",
       "    <tr>\n",
       "      <th>0</th>\n",
       "      <td>100016012504cardia</td>\n",
       "      <td>0.0</td>\n",
       "      <td>NaN</td>\n",
       "      <td>1</td>\n",
       "      <td>0</td>\n",
       "    </tr>\n",
       "    <tr>\n",
       "      <th>1</th>\n",
       "      <td>100016012504cardia</td>\n",
       "      <td>0.0</td>\n",
       "      <td>NaN</td>\n",
       "      <td>2</td>\n",
       "      <td>0</td>\n",
       "    </tr>\n",
       "    <tr>\n",
       "      <th>2</th>\n",
       "      <td>100016012504cardia</td>\n",
       "      <td>0.0</td>\n",
       "      <td>NaN</td>\n",
       "      <td>3</td>\n",
       "      <td>0</td>\n",
       "    </tr>\n",
       "    <tr>\n",
       "      <th>3</th>\n",
       "      <td>100016012504cardia</td>\n",
       "      <td>0.0</td>\n",
       "      <td>NaN</td>\n",
       "      <td>4</td>\n",
       "      <td>0</td>\n",
       "    </tr>\n",
       "    <tr>\n",
       "      <th>4</th>\n",
       "      <td>100023004268cardia</td>\n",
       "      <td>0.0</td>\n",
       "      <td>NaN</td>\n",
       "      <td>1</td>\n",
       "      <td>0</td>\n",
       "    </tr>\n",
       "  </tbody>\n",
       "</table>\n",
       "</div>"
      ],
      "text/plain": [
       "                newid  antiHypertensiveCount  statin  visitcounter  afib\n",
       "0  100016012504cardia                    0.0     NaN             1     0\n",
       "1  100016012504cardia                    0.0     NaN             2     0\n",
       "2  100016012504cardia                    0.0     NaN             3     0\n",
       "3  100016012504cardia                    0.0     NaN             4     0\n",
       "4  100023004268cardia                    0.0     NaN             1     0"
      ]
     },
     "execution_count": 4,
     "metadata": {},
     "output_type": "execute_result"
    }
   ],
   "source": [
    "medsCohort.head()"
   ]
  },
  {
   "cell_type": "code",
   "execution_count": 5,
   "metadata": {},
   "outputs": [],
   "source": [
    "completeCohort.drop(labels=['afibinc', 'hxafib', 'afibslfrep', 'ttoafib', 'afibdt', 'afib'], axis='columns', inplace=True)\n",
    "completeCohort = completeCohort.merge(medsCohort, how='left', on=['newid', 'visitcounter'])"
   ]
  },
  {
   "cell_type": "code",
   "execution_count": 6,
   "metadata": {},
   "outputs": [],
   "source": [
    "completeCohort.drop(labels=['sbpavg', 'dbpavg'], axis='columns', inplace=True)\n",
    "completeCohort['sbpavg'] = completeCohort[['sbp1', 'sbp2', 'sbp3']].mean(axis=1)\n",
    "completeCohort['dbpavg'] = completeCohort[['dbp1', 'dbp2', 'dbp3']].mean(axis=1)"
   ]
  },
  {
   "cell_type": "code",
   "execution_count": 7,
   "metadata": {},
   "outputs": [
    {
     "data": {
      "text/plain": [
       "2    177722\n",
       "1     61078\n",
       "3     36458\n",
       "9      5528\n",
       "Name: racebpcog, dtype: int64"
      ]
     },
     "execution_count": 7,
     "metadata": {},
     "output_type": "execute_result"
    }
   ],
   "source": [
    "completeCohort.racebpcog.value_counts()"
   ]
  },
  {
   "cell_type": "code",
   "execution_count": 8,
   "metadata": {},
   "outputs": [],
   "source": [
    "cohort = completeCohort[['newid', 'visitcounter', 'sbpavg', 'dbpavg', 'bmi', 'trig', 'smokestatus', 'choltot', 'cholhdl', 'cholldl', \n",
    "                 'age0', 'female0', 'educ0', 'daysfromvisit1', 'racebpcog', 'hba1c', 'glucosef', 'educ0', 'physact', 'waistcm',\n",
    "                 'antiHypertensiveCount', 'statin', 'afib', 'alcperwk']]\n",
    "\n",
    "# build a clean new index in the cohort using the newid groups\n",
    "cohort = cohort.assign(id=(cohort['newid']).astype('category').cat.codes)\n",
    "cohort.drop(labels=['newid'], axis='columns', inplace=True)\n",
    "\n",
    "cohort.rename(columns={'sbpavg' : 'sbp', 'dbpavg' : 'dbp', 'smokestatus' : 'smokingStatus', 'choltot' : 'totChol',\n",
    "                      \"cholhdl\" : 'hdl', 'cholldl' : 'ldl', 'age0' : 'baseAge', 'female0' : 'gender', 'educ0' : 'education',\n",
    "                      'hba1c' : 'a1c', 'racebpcog' : 'raceEthnicity', 'waistcm' : 'waist', 'physact' : 'anyPhysicalActivity', 'alcperwk' : 'alcoholPerWeek'}, inplace=True)\n",
    "\n",
    "\n",
    "cohort = cohort.loc[:,~cohort.columns.duplicated()]\n",
    "\n",
    "\n",
    "cohort.gender.replace(to_replace=[0,1], value=[1, 2], inplace=True)\n",
    "# have to compress \"hispanic\" to \"other hispanic\" and no representation for mexican american in BP Cog\n",
    "cohort.raceEthnicity = cohort.raceEthnicity.replace({1 : 4, 2 : 3,3 : 2,9 : 5}) "
   ]
  },
  {
   "cell_type": "code",
   "execution_count": 9,
   "metadata": {},
   "outputs": [
    {
     "data": {
      "text/plain": [
       "count    179894.000000\n",
       "mean         30.236853\n",
       "std          94.567772\n",
       "min           0.000000\n",
       "25%           0.000000\n",
       "50%           0.000000\n",
       "75%          15.000000\n",
       "max        5228.189941\n",
       "Name: alcoholPerWeek, dtype: float64"
      ]
     },
     "execution_count": 9,
     "metadata": {},
     "output_type": "execute_result"
    }
   ],
   "source": [
    "cohort.alcoholPerWeek.describe()"
   ]
  },
  {
   "cell_type": "code",
   "execution_count": 10,
   "metadata": {},
   "outputs": [],
   "source": [
    "allFactorsImputation = [\"a1c\", \"hdl\", \"totChol\", \"bmi\", \"dbp\", \"sbp\", \"ldl\", \"trig\", \"glucosef\", \"waist\", \"anyPhysicalActivity\", 'afib', 'antiHypertensiveCount', 'statin', 'alcoholPerWeek']\n",
    "\n",
    "lagVars = []\n",
    "\n",
    "# first geneate lag variables which we'll use in teh imputation\n",
    "for factor in allFactorsImputation:\n",
    "    newVarName = \"lag\" + factor[0].upper()+factor[1:]\n",
    "    lagVars.append(newVarName)\n",
    "    cohort[newVarName] = cohort.groupby(['id'])[factor].shift(1)\n",
    "    cohort = cohort.join(other=cohort.groupby(['id'])[newVarName].mean(), on='id', rsuffix='mean')\n",
    "    cohort.rename(columns={newVarName + \"mean\" : 'mean' + newVarName[0].upper() + newVarName[1:]}, inplace=True)\n",
    "cohort.drop(lagVars, axis='columns', inplace=True)\n",
    "\n",
    "cohort['age'] = cohort.baseAge + cohort.daysfromvisit1 / 365\n",
    "cohort = pd.concat([cohort, pd.get_dummies(cohort['raceEthnicity'], prefix=\"raceEth\")], axis=1)\n",
    "cohort = pd.concat([cohort, pd.get_dummies(cohort['smokingStatus'], prefix=\"smoke\")], axis=1)\n",
    "cohort = pd.concat([cohort, pd.get_dummies(cohort['education'], prefix=\"educ\")], axis=1)\n",
    "\n",
    "\n",
    "cohort.drop(['baseAge', 'daysfromvisit1', 'visitcounter', 'smokingStatus', 'raceEthnicity', 'education'], axis='columns', inplace=True)\n",
    "\n",
    "cohort.rename(columns={'raceEth_2' : 'raceEth2', 'raceEth_3' : 'raceEth3', 'raceEth_4' : 'raceEth4',\n",
    "                        'raceEth_5' : 'raceEth5', 'smoke_0.0' : 'smoke0', 'smoke_1.0' : 'smoke1' , \n",
    "                       'smoke_2.0' : 'smoke2', 'educ_1.0' : 'educ1', 'educ_2.0' : 'educ2', 'educ_3.0' : 'educ3',\n",
    "                      'educ_4.0' : 'educ4', 'educ_5.0' : 'educ5'}, inplace=True)\n"
   ]
  },
  {
   "cell_type": "code",
   "execution_count": 11,
   "metadata": {},
   "outputs": [
    {
     "data": {
      "text/plain": [
       "100892"
      ]
     },
     "execution_count": 11,
     "metadata": {},
     "output_type": "execute_result"
    }
   ],
   "source": [
    "cohort.alcoholPerWeek.isna().sum()"
   ]
  },
  {
   "cell_type": "code",
   "execution_count": 12,
   "metadata": {
    "scrolled": true
   },
   "outputs": [
    {
     "name": "stderr",
     "output_type": "stream",
     "text": [
      "/Users/burke/opt/anaconda3/lib/python3.7/site-packages/statsmodels/tools/_testing.py:19: FutureWarning: pandas.util.testing is deprecated. Use the functions in the public API at pandas.testing instead.\n",
      "  import pandas.util.testing as tm\n"
     ]
    }
   ],
   "source": [
    "import statsmodels.imputation.mice as mice\n",
    "\n",
    "def getFormulaForVariable(var):\n",
    "    cols = list(cohort.columns)\n",
    "    cols.remove(var)\n",
    "    colStrings = [col + \"+\"for col in cols]\n",
    "    return \"\".join(colStrings)[:-1]\n",
    "    \n",
    "imputedCohort = mice.MICEData(cohort)\n",
    "#binaryVars = ['anyPhysicalActivity', 'smoke0', 'smoke1', 'smoke2', 'raceEth2', 'raceEth3', 'raceEth4', 'raceEth5', 'educ1', 'educ2', 'educ3', 'educ4', 'educ5']\n",
    "#for var in binaryVars: \n",
    "#    imputedCohort.set_imputer(var, formula=getFormulaForVariable(var), model_class=\"logit\")\n",
    "imputedCohort.update_all(20)"
   ]
  },
  {
   "cell_type": "code",
   "execution_count": 13,
   "metadata": {},
   "outputs": [
    {
     "data": {
      "image/png": "[encoded data removed]",
      "text/plain": [
       "<Figure size 432x288 with 1 Axes>"
      ]
     },
     "execution_count": 13,
     "metadata": {},
     "output_type": "execute_result"
    },
    {
     "data": {
      "image/png": "[encoded data removed]",
      "text/plain": [
       "<Figure size 432x288 with 1 Axes>"
      ]
     },
     "metadata": {
      "needs_background": "light"
     },
     "output_type": "display_data"
    }
   ],
   "source": [
    "%matplotlib inline\n",
    "imputedCohort.plot_fit_obs(\"a1c\")"
   ]
  },
  {
   "cell_type": "code",
   "execution_count": 14,
   "metadata": {},
   "outputs": [
    {
     "data": {
      "text/plain": [
       "count    280786.000000\n",
       "mean         21.998627\n",
       "std          80.436783\n",
       "min           0.000000\n",
       "25%           0.000000\n",
       "50%           0.000000\n",
       "75%           7.000000\n",
       "max        5228.189941\n",
       "Name: alcoholPerWeek, dtype: float64"
      ]
     },
     "execution_count": 14,
     "metadata": {},
     "output_type": "execute_result"
    }
   ],
   "source": [
    "imputedCohort.data.alcoholPerWeek.describe()"
   ]
  },
  {
   "cell_type": "code",
   "execution_count": 15,
   "metadata": {},
   "outputs": [],
   "source": [
    "imputedData = imputedCohort.data.copy()\n",
    "\n",
    "# rebvuild categoricals\n",
    "imputedData['smokingStatus'] = imputedData[['smoke0', 'smoke1', 'smoke2']].idxmax(axis=1)\n",
    "imputedData['smokingStatus'] = imputedData['smokingStatus'].str[-1:]\n",
    "imputedData['raceEthnicity'] = imputedData[['raceEth2', 'raceEth3', 'raceEth4', 'raceEth5']].idxmax(axis=1)\n",
    "imputedData['raceEthnicity'] = imputedData['raceEthnicity'].str[-1:]"
   ]
  },
  {
   "cell_type": "code",
   "execution_count": 16,
   "metadata": {},
   "outputs": [],
   "source": [
    "# drop the dummies\n",
    "imputedData.drop(['smoke0', 'smoke1','smoke2'], axis='columns', inplace=True)\n",
    "imputedData.drop(['raceEth2', 'raceEth3','raceEth3', 'raceEth4', 'raceEth5'], axis='columns', inplace=True)\n",
    "imputedData.drop(['educ1', 'educ2','educ3', 'educ4', 'educ5'], axis='columns', inplace=True)\n",
    "imputedData.drop(list(imputedData.filter(regex='mean')), axis='columns', inplace=True)\n",
    "# drop the mean variables (they were partially imputed)"
   ]
  },
  {
   "cell_type": "code",
   "execution_count": 17,
   "metadata": {},
   "outputs": [],
   "source": [
    "# rebuild the mean variables off the impuated values\n",
    "allFactorsImputation = [\"a1c\", \"hdl\", \"totChol\", \"bmi\",\"ldl\", \"trig\", \"glucosef\",  \"waist\", \"anyPhysicalActivity\", \"antiHypertensiveCount\", \"statin\", \"afib\", 'alcoholPerWeek']\n",
    "logFactorsImputation = [\"dbp\", \"sbp\"]"
   ]
  },
  {
   "cell_type": "code",
   "execution_count": 18,
   "metadata": {},
   "outputs": [],
   "source": [
    "for factor in allFactorsImputation:\n",
    "    newVarName = \"lag\" + factor[0].upper()+factor[1:]\n",
    "    imputedData[newVarName] = imputedData.groupby(['id'])[factor].shift(1)\n",
    "    imputedData = imputedData.join(other=imputedData.groupby(['id'])[newVarName].mean(), on='id', rsuffix='mean')\n",
    "    imputedData.rename(columns={newVarName + \"mean\" : 'mean' + newVarName[0].upper() + newVarName[1:]}, inplace=True)"
   ]
  },
  {
   "cell_type": "code",
   "execution_count": 19,
   "metadata": {},
   "outputs": [
    {
     "name": "stderr",
     "output_type": "stream",
     "text": [
      "/Users/burke/opt/anaconda3/lib/python3.7/site-packages/pandas/core/series.py:726: RuntimeWarning: divide by zero encountered in log\n",
      "  result = getattr(ufunc, method)(*inputs, **kwargs)\n"
     ]
    }
   ],
   "source": [
    "for factor in logFactorsImputation:\n",
    "    newVarName = \"lag\" + factor[0].upper()+factor[1:]\n",
    "    imputedData[newVarName] = imputedData.groupby(['id'])[factor].shift(1)\n",
    "    logLagName = \"log\" + newVarName[0].upper() + newVarName[1:]\n",
    "    logName = \"log\" + factor[0].upper() + factor[1:]\n",
    "\n",
    "    imputedData[logName] = np.log(imputedData[factor])  \n",
    "    imputedData[logLagName] = np.log(imputedData[newVarName])  \n",
    "    imputedData = imputedData.join(other=imputedData.groupby(['id'])[logLagName].mean(), on='id', rsuffix='mean')\n",
    "    imputedData.rename(columns={logLagName + \"mean\" : 'mean' + logLagName[0].upper() + logLagName[1:]}, inplace=True)"
   ]
  },
  {
   "cell_type": "code",
   "execution_count": 20,
   "metadata": {},
   "outputs": [],
   "source": [
    "imputedData.raceEthnicity= imputedData.raceEthnicity.astype('category')\n",
    "imputedData.smokingStatus= imputedData.smokingStatus.astype('category')\n",
    "imputedData.sort_values(by=['id', 'age'], inplace=True)"
   ]
  },
  {
   "cell_type": "code",
   "execution_count": 21,
   "metadata": {},
   "outputs": [
    {
     "data": {
      "text/plain": [
       "3    177722\n",
       "4     61078\n",
       "2     36458\n",
       "5      5528\n",
       "Name: raceEthnicity, dtype: int64"
      ]
     },
     "execution_count": 21,
     "metadata": {},
     "output_type": "execute_result"
    }
   ],
   "source": [
    "imputedData.raceEthnicity.value_counts()"
   ]
  },
  {
   "cell_type": "code",
   "execution_count": 22,
   "metadata": {},
   "outputs": [
    {
     "ename": "ModuleNotFoundError",
     "evalue": "No module named 'mcm'",
     "output_type": "error",
     "traceback": [
      "\u001b[0;31m---------------------------------------------------------------------------\u001b[0m",
      "\u001b[0;31mModuleNotFoundError\u001b[0m                       Traceback (most recent call last)",
      "\u001b[0;32m<ipython-input-22-f0ee6393eada>\u001b[0m in \u001b[0;36m<module>\u001b[0;34m\u001b[0m\n\u001b[1;32m      3\u001b[0m \u001b[0;32mimport\u001b[0m \u001b[0mos\u001b[0m\u001b[0;34m\u001b[0m\u001b[0;34m\u001b[0m\u001b[0m\n\u001b[1;32m      4\u001b[0m \u001b[0msys\u001b[0m\u001b[0;34m.\u001b[0m\u001b[0mpath\u001b[0m\u001b[0;34m.\u001b[0m\u001b[0mappend\u001b[0m\u001b[0;34m(\u001b[0m\u001b[0mos\u001b[0m\u001b[0;34m.\u001b[0m\u001b[0mpath\u001b[0m\u001b[0;34m.\u001b[0m\u001b[0mabspath\u001b[0m\u001b[0;34m(\u001b[0m\u001b[0;34m\"../mcm/\"\u001b[0m\u001b[0;34m)\u001b[0m\u001b[0;34m)\u001b[0m\u001b[0;34m\u001b[0m\u001b[0;34m\u001b[0m\u001b[0m\n\u001b[0;32m----> 5\u001b[0;31m \u001b[0;32mfrom\u001b[0m \u001b[0mmcm\u001b[0m\u001b[0;34m.\u001b[0m\u001b[0mregression_model\u001b[0m \u001b[0;32mimport\u001b[0m \u001b[0mRegressionModel\u001b[0m\u001b[0;34m\u001b[0m\u001b[0;34m\u001b[0m\u001b[0m\n\u001b[0m\u001b[1;32m      6\u001b[0m \u001b[0;34m\u001b[0m\u001b[0m\n\u001b[1;32m      7\u001b[0m \u001b[0mregResults\u001b[0m \u001b[0;34m=\u001b[0m \u001b[0;34m{\u001b[0m\u001b[0;34m}\u001b[0m\u001b[0;34m\u001b[0m\u001b[0;34m\u001b[0m\u001b[0m\n",
      "\u001b[0;31mModuleNotFoundError\u001b[0m: No module named 'mcm'"
     ]
    }
   ],
   "source": [
    "import statsmodels.formula.api as statsmodel\n",
    "import sys\n",
    "import os\n",
    "sys.path.append(os.path.abspath(\"../mcm/\"))\n",
    "from mcm.regression_model import RegressionModel\n",
    "\n",
    "regResults = {}\n",
    "\n",
    "def buildAndExportRegressionModelForDataset(outcomeVariable , fullDataset, hasLog): \n",
    "    factors = allFactors.copy()\n",
    "    factors.extend(logFactors)\n",
    "    factors.remove(outcomeVariable)\n",
    "    factors = [\"mean\" + factor[0].upper() + factor[1:] + \" + \" + factor + \" + \" for factor in factors] \n",
    "    \n",
    "    meanLagOutcomeVariable =  \"mean\" + outcomeVariable[0].upper() + outcomeVariable[1:]\n",
    "    \n",
    "    if (not hasLog):\n",
    "        outcomeVariable = outcomeVariable[3:4].lower() + outcomeVariable[4:] # remove the lag\n",
    "    else:\n",
    "        outcomeVariable = \"log\" + outcomeVariable[-3:] # remove the lag and add the log\n",
    "    \n",
    "    formula = outcomeVariable + \" ~ \" + \"\".join(factors) + \"age + gender + smokingStatus + raceEthnicity + \" + meanLagOutcomeVariable\n",
    "\n",
    "    print(\"outcome: \" + outcomeVariable + \" hasLog: \" + str(hasLog) + \" : \" +formula)\n",
    "\n",
    "    model = statsmodel.ols(formula=formula, data=fullDataset)\n",
    "    results = model.fit()\n",
    "    regResults[outcomeVariable] = results\n",
    "    mcmRegressionModel = RegressionModel(results.params.to_dict(), results.bse.to_dict(), results.resid.mean(), results.resid.std())\n",
    "    mcmRegressionModel.write_json(os.path.abspath(\"../mcm/mcm/data/\" + outcomeVariable + \"CohortModelSpec.json\"))\n",
    "    #results.save(\"/Users/burke/Documents/research/bpCog/mcm/mcm/data/\" + outcomeVariable +  \"CohortModel.pickle\")\n",
    "    return results\n",
    "\n",
    "\n",
    "allFactors = [\"lagA1c\", \"lagHdl\", \"lagTotChol\", \"lagBmi\", \"lagLdl\", \"lagTrig\", \"lagWaist\", \"lagAnyPhysicalActivity\", \"lagAntiHypertensiveCount\", \"lagStatin\", \"lagAfib\", 'lagAlcoholPerWeek']\n",
    "logFactors = [\"logLagDbp\", \"logLagSbp\"]\n",
    "\n",
    "imputedData['logDbp'].loc[imputedData['logDbp'] <= 0] = imputedData['logDbp'].loc[imputedData['logDbp']> 0].min()\n",
    "imputedData['logLagDbp'].loc[imputedData['logLagDbp'] <= 0] = imputedData['logLagDbp'].loc[imputedData['logLagDbp']> 0].min()\n",
    "imputedData['meanLogLagDbp'].loc[imputedData['meanLogLagDbp'] <= 0] = imputedData['meanLogLagDbp'].loc[imputedData['meanLogLagDbp']> 0].min()\n",
    "\n",
    "\n",
    "\n",
    "for factor in allFactors:\n",
    "    buildAndExportRegressionModelForDataset(factor, imputedData, False)\n",
    "for factor in logFactors:\n",
    "    buildAndExportRegressionModelForDataset(factor, imputedData, True)\n",
    "    "
   ]
  },
  {
   "cell_type": "code",
   "execution_count": null,
   "metadata": {},
   "outputs": [],
   "source": [
    "imputedData.anyPhysicalActivity.value_counts(normalize=True)"
   ]
  },
  {
   "cell_type": "code",
   "execution_count": null,
   "metadata": {},
   "outputs": [],
   "source": [
    "regResults['logSbp'].summary()"
   ]
  },
  {
   "cell_type": "code",
   "execution_count": null,
   "metadata": {},
   "outputs": [],
   "source": [
    "regResults['afib'].summary()"
   ]
  },
  {
   "cell_type": "code",
   "execution_count": null,
   "metadata": {},
   "outputs": [],
   "source": [
    "regResults['alcoholPerWeek'].summary()"
   ]
  },
  {
   "cell_type": "markdown",
   "metadata": {},
   "source": [
    "ok...mdels are looking a bit bette rnow. sbp model looks reasonbly close to stata model which is reassureing.\n",
    "\n",
    "other thought...\n",
    "if we systematically name the variables here, it may be relatively easy to build a risk model apparatus that reads from these files and implements them. so, \"log\" means that the predictor is log-transformed. \"meanLab\" means that you take the maen of all prior values. \"lag\" means that you take the the value immediately before.\n",
    "\n",
    "then you can include variable names in snake case — so each variable is multiple in. you'd be able to specify multi-way interactions or quadratic terms pretty easily that way... "
   ]
  }
 ],
 "metadata": {
  "kernelspec": {
   "display_name": "Python 3",
   "language": "python",
   "name": "python3"
  },
  "language_info": {
   "codemirror_mode": {
    "name": "ipython",
    "version": 3
   },
   "file_extension": ".py",
   "mimetype": "text/x-python",
   "name": "python",
   "nbconvert_exporter": "python",
   "pygments_lexer": "ipython3",
   "version": "3.7.4"
  }
 },
 "nbformat": 4,
 "nbformat_minor": 2
}
