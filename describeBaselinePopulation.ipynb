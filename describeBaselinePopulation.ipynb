{
 "cells": [
  {
   "cell_type": "code",
   "execution_count": 1,
   "id": "backed-publicity",
   "metadata": {},
   "outputs": [],
   "source": [
    "import pandas as pd\n",
    "import numpy as np\n",
    "import matplotlib.pyplot as plt\n",
    "\n",
    "import os\n",
    "os.chdir(\"/Users/burke/Documents/research/bpCog/microsim\")\n",
    "from microsim.population import NHANESDirectSamplePopulation\n",
    "from microsim.gender import NHANESGender\n",
    "from microsim.race_ethnicity import NHANESRaceEthnicity"
   ]
  },
  {
   "cell_type": "code",
   "execution_count": 2,
   "id": "bright-couple",
   "metadata": {},
   "outputs": [],
   "source": [
    "baseDF = pd.read_stata('microsim/data/fullyImputedDataset.dta')\n",
    "baseDF['htn'] = 0\n",
    "baseDF['control'] = 0\n",
    "baseDF['htnLevelOnly'] = 0\n",
    "baseDF['baseLevelAndSelfReport'] = 0\n",
    "\n",
    "baseDF.loc[((baseDF['meanSBP'] >= 140) | (baseDF['meanDBP'] >= 90) | (baseDF['antiHypertensive'] > 0)), 'htn'] = 1\n",
    "baseDF.loc[(baseDF.meanSBP < 140) & (baseDF.meanDBP < 90), 'control'] = 1\n",
    "baseDF.loc[((baseDF['meanSBP'] >= 140) | (baseDF['meanDBP'] >= 90)), 'htnLevelOnly'] = 1\n",
    "baseDF.loc[((baseDF['meanSBP'] >= 140) | (baseDF['meanDBP'] >= 90) | (baseDF['selfReportCurrentHtnMed']==1)), 'baseLevelAndSelfReport'] = 1"
   ]
  },
  {
   "cell_type": "code",
   "execution_count": 3,
   "id": "bearing-craft",
   "metadata": {},
   "outputs": [],
   "source": [
    "base15 = baseDF.loc[baseDF.year==2015].copy()\n",
    "base17 = baseDF.loc[baseDF.year==2017].copy()"
   ]
  },
  {
   "cell_type": "code",
   "execution_count": 4,
   "id": "satellite-irish",
   "metadata": {},
   "outputs": [],
   "source": [
    "noImpute = pd.read_stata(\"/Users/burke/Documents/research/bpCog/nhanes/sourceData/nonImputedDataset.dta\")\n",
    "completeCase = pd.read_stata(\"/Users/burke/Documents/research/bpCog/nhanes/sourceData/completeCaseDataset.dta\")"
   ]
  },
  {
   "cell_type": "code",
   "execution_count": 5,
   "id": "municipal-murder",
   "metadata": {},
   "outputs": [],
   "source": [
    "noImpute['htn'] = 0\n",
    "noImpute['control'] = 0\n",
    "noImpute['controlSelfReport'] = 0\n",
    "noImpute['htnLevelOnly'] = 0\n",
    "noImpute.loc[((noImpute['meanSBP'] >= 140) | (noImpute['meanDBP'] >= 90) | (noImpute['antiHypertensive'] > 0)), 'htn'] = 1\n",
    "noImpute.loc[(noImpute.meanSBP < 140) & (noImpute.meanDBP < 90), 'control'] = 1\n",
    "noImpute.loc[((noImpute['meanSBP'] >= 140) | (noImpute['meanDBP'] >= 90)), 'htnLevelOnly'] = 1\n",
    "\n",
    "completeCase['htn'] = 0\n",
    "completeCase['control'] = 0\n",
    "completeCase['htnLevelOnly'] = 0\n",
    "completeCase.loc[((completeCase['meanSBP'] >= 140) | (completeCase['meanDBP'] >= 90) | (completeCase['antiHypertensive'] > 0)), 'htn'] = 1\n",
    "completeCase.loc[(completeCase.meanSBP < 140) & (completeCase.meanDBP < 90), 'control'] = 1\n",
    "completeCase.loc[((completeCase['meanSBP'] >= 140) | (completeCase['meanDBP'] >= 90)), 'htnLevelOnly'] = 1\n",
    "\n",
    "noImpute15 = noImpute.loc[noImpute.year==2015].copy()\n",
    "completeCase15 = completeCase.loc[completeCase.year==2015].copy()\n",
    "noImpute17 = noImpute.loc[noImpute.year==2017].copy()\n",
    "completeCase17 = completeCase.loc[completeCase.year==2017].copy()"
   ]
  },
  {
   "cell_type": "code",
   "execution_count": 6,
   "id": "adolescent-acrobat",
   "metadata": {},
   "outputs": [],
   "source": [
    "# Trends in Blood Pressure Control Among US Adults With Hypertension,\n",
    "#1999-2000 to 2017-2018\n",
    "#Paul Muntner, PhD; Shakia T. Hardy, PhD; Lawrence J. Fine, MD; Byron C. Jaeger, PhD; GregoryWozniak, PhD;\n",
    "#Emily B. Levitan, ScD; Lisandro D. Colantonio,MD, PhD\n",
    "# in the supplmenet...in 2015, out of 5485 individuals available for BP definitionm, 1,968 had htn\n",
    "# in 2017 it was 2,094 out of 5,176"
   ]
  },
  {
   "cell_type": "code",
   "execution_count": 7,
   "id": "premier-parent",
   "metadata": {},
   "outputs": [
    {
     "name": "stdout",
     "output_type": "stream",
     "text": [
      "2015 target htn %: 0.36, #: 1968 \n",
      "2015 imputed htn %: 0.44, # 2634 \n",
      "2015 imputed htn + self report %: 0.35, # 2123 \n",
      "2015 complete case %: 0.60, # 535 \n",
      "2015 no impute %: 0.39, # 2332 \n",
      "\n",
      "2015  htn level only, impute %: 0.19, # 1146 \n",
      "2015 htn level only, complete case %: 0.24, # 213 \n",
      "2015 htn level only, no impute %: 0.18, # 1064 \n"
     ]
    }
   ],
   "source": [
    "print(f\"2015 target htn %: {1968/5485:.2f}, #: {1968} \")\n",
    "print(f\"2015 imputed htn %: {base15.htn.mean():.2f}, # {base15.htn.sum()} \")\n",
    "print(f\"2015 imputed htn + self report %: {base15.baseLevelAndSelfReport.mean():.2f}, # {base15.baseLevelAndSelfReport.sum()} \")\n",
    "\n",
    "print(f\"2015 complete case %: {completeCase15.htn.mean():.2f}, # {completeCase15.htn.sum()} \")\n",
    "print(f\"2015 no impute %: {noImpute15.htn.mean():.2f}, # {noImpute15.htn.sum()} \\n\")\n",
    "\n",
    "print(f\"2015  htn level only, impute %: {base15.htnLevelOnly.mean():.2f}, # {base15.htnLevelOnly.sum()} \")\n",
    "print(f\"2015 htn level only, complete case %: {completeCase15.htnLevelOnly.mean():.2f}, # {completeCase15.htnLevelOnly.sum()} \")\n",
    "print(f\"2015 htn level only, no impute %: {noImpute15.htnLevelOnly.mean():.2f}, # {noImpute15.htnLevelOnly.sum()} \")"
   ]
  },
  {
   "cell_type": "code",
   "execution_count": 8,
   "id": "apparent-cooperation",
   "metadata": {},
   "outputs": [
    {
     "name": "stdout",
     "output_type": "stream",
     "text": [
      "2017 target htn %: 0.40, # 2094 \n",
      "2017 imputed htn %: 0.48, # 2826 \n",
      "2017 imputed htn + self report %: 0.40, # 2347 \n",
      "2017 complete case %: 0.59, # 476 \n",
      "2017 no impute %: 0.43, # 2500 \n",
      "\n",
      "2017  htn level only, impute %: 0.23, # 1374 \n",
      "2017 htn level only, complete case %: 0.23, # 183 \n",
      "2017 htn level only, no impute %: 0.21, # 1237 \n"
     ]
    }
   ],
   "source": [
    "print(f\"2017 target htn %: {2094/5176:.2f}, # {2094} \")\n",
    "print(f\"2017 imputed htn %: {base17.htn.mean():.2f}, # {base17.htn.sum()} \")\n",
    "print(f\"2017 imputed htn + self report %: {base17.baseLevelAndSelfReport.mean():.2f}, # {base17.baseLevelAndSelfReport.sum()} \")\n",
    "\n",
    "print(f\"2017 complete case %: {completeCase17.htn.mean():.2f}, # {completeCase17.htn.sum()} \")\n",
    "print(f\"2017 no impute %: {noImpute17.htn.mean():.2f}, # {noImpute17.htn.sum()} \\n\")\n",
    "\n",
    "print(f\"2017  htn level only, impute %: {base17.htnLevelOnly.mean():.2f}, # {base17.htnLevelOnly.sum()} \")\n",
    "print(f\"2017 htn level only, complete case %: {completeCase17.htnLevelOnly.mean():.2f}, # {completeCase17.htnLevelOnly.sum()} \")\n",
    "print(f\"2017 htn level only, no impute %: {noImpute17.htnLevelOnly.mean():.2f}, # {noImpute17.htnLevelOnly.sum()} \")"
   ]
  },
  {
   "cell_type": "code",
   "execution_count": 9,
   "id": "united-jerusalem",
   "metadata": {},
   "outputs": [
    {
     "name": "stdout",
     "output_type": "stream",
     "text": [
      "overall imputed htn %: 0.41, # 24544 \n",
      "complete case %: 0.56, # 4736 \n",
      "no impute %: 0.37, # 21782 \n",
      "\n",
      "htn level only, impute %: 0.20, # 11895 \n",
      "htn level only, complete case %: 0.23, # 1954 \n",
      "htn level only, no impute %: 0.18, # 10537 \n"
     ]
    }
   ],
   "source": [
    "print(f\"overall imputed htn %: {baseDF.htn.mean():.2f}, # {baseDF.htn.sum()} \")\n",
    "print(f\"complete case %: {completeCase.htn.mean():.2f}, # {completeCase.htn.sum()} \")\n",
    "print(f\"no impute %: {noImpute.htn.mean():.2f}, # {noImpute.htn.sum()} \\n\")\n",
    "\n",
    "print(f\"htn level only, impute %: {baseDF.htnLevelOnly.mean():.2f}, # {baseDF.htnLevelOnly.sum()} \")\n",
    "print(f\"htn level only, complete case %: {completeCase.htnLevelOnly.mean():.2f}, # {completeCase.htnLevelOnly.sum()} \")\n",
    "print(f\"htn level only, no impute %: {noImpute.htnLevelOnly.mean():.2f}, # {noImpute.htnLevelOnly.sum()} \")"
   ]
  },
  {
   "cell_type": "code",
   "execution_count": 10,
   "id": "recorded-mercury",
   "metadata": {},
   "outputs": [],
   "source": [
    "### the age-adjusted version of this is in the Figure of the Munter et al paper — trend looks good and the overall levels are beliefabl"
   ]
  },
  {
   "cell_type": "code",
   "execution_count": 11,
   "id": "bound-major",
   "metadata": {},
   "outputs": [
    {
     "name": "stdout",
     "output_type": "stream",
     "text": [
      "0    0.539802\n",
      "1    0.460198\n",
      "Name: control, dtype: float64\n",
      "0    0.585428\n",
      "1    0.414572\n",
      "Name: control, dtype: float64\n"
     ]
    }
   ],
   "source": [
    "print(base15.loc[base15['baseLevelAndSelfReport']==1]['control'].value_counts(normalize=True))\n",
    "print(base17.loc[base17['baseLevelAndSelfReport']==1]['control'].value_counts(normalize=True))"
   ]
  },
  {
   "cell_type": "markdown",
   "id": "boolean-sight",
   "metadata": {},
   "source": [
    "### upshot is that our measures of overall htn vary substantially based on how you define medications. \n",
    "\n",
    "if you look at level-based definitions, our measures correlate closely. if you define hypertension using the BP + self-reported BP meds, our measures correlate closely. if you define hypertension using BP + our imputed anti-hypertensives, we end up wiht a lot more \"hypertension\". although, that's not necessarily a problem — we're imputing anti-hypertensive medications whereas NHANES is measuring \"blood pressure medications\". teh distinction being that an anti-hypertensive medication (e.g. propranolol) might be used for a variety of non blood pressure indications (e.g. migraine, tremor) and other might be used for vascular protection in the absence of a hyupertension diagnosis (e.g. CHF, chronic renal disease, etc.)"
   ]
  },
  {
   "cell_type": "code",
   "execution_count": 12,
   "id": "historical-effects",
   "metadata": {},
   "outputs": [
    {
     "data": {
      "text/plain": [
       "htn\n",
       "0    0.603151\n",
       "1    0.396849\n",
       "Name: WTINT2YR, dtype: float64"
      ]
     },
     "execution_count": 12,
     "metadata": {},
     "output_type": "execute_result"
    }
   ],
   "source": [
    "base15.groupby('htn')['WTINT2YR'].sum()/base15['WTINT2YR'].sum()"
   ]
  },
  {
   "cell_type": "code",
   "execution_count": 13,
   "id": "touched-medicare",
   "metadata": {},
   "outputs": [
    {
     "data": {
      "text/plain": [
       "baseLevelAndSelfReport\n",
       "0    0.683647\n",
       "1    0.316353\n",
       "Name: WTINT2YR, dtype: float64"
      ]
     },
     "execution_count": 13,
     "metadata": {},
     "output_type": "execute_result"
    }
   ],
   "source": [
    "base15.groupby('baseLevelAndSelfReport')['WTINT2YR'].sum()/base15['WTINT2YR'].sum()"
   ]
  },
  {
   "cell_type": "code",
   "execution_count": 14,
   "id": "engaging-panel",
   "metadata": {},
   "outputs": [
    {
     "data": {
      "text/plain": [
       "control\n",
       "0    0.409855\n",
       "1    0.590145\n",
       "Name: WTINT2YR, dtype: float64"
      ]
     },
     "execution_count": 14,
     "metadata": {},
     "output_type": "execute_result"
    }
   ],
   "source": [
    "### survey weighted...\n",
    "base15.loc[base15.htn==True].groupby('control')['WTINT2YR'].sum()/base15.loc[base15.htn==True]['WTINT2YR'].sum()"
   ]
  },
  {
   "cell_type": "code",
   "execution_count": 15,
   "id": "popular-tackle",
   "metadata": {},
   "outputs": [],
   "source": [
    "### now compare to the 2013 NHANES population with htn, as identified in this paper: \n",
    "# Lamprea-Montealegre, J. A., Zelnick, L. R., Hall, Y. N., Bansal, N. & Boer, I. H. de. Prevalence of Hypertension and Cardiovascular Risk According to Blood Pressure Thresholds Used for Diagnosis. Hypertension 72, 602–609 (2018).\n",
    "\n",
    "base13 = baseDF.loc[baseDF.year==2013].copy()\n",
    "base13Htn = base13.loc[base13.htn==1].copy()\n",
    "base13HtnLevelOnly = base13.loc[base13.htnLevelOnly==1].copy()\n",
    "base13HtnLevelAndSelfReport = base13.loc[base13.baseLevelAndSelfReport==1].copy()\n",
    "\n",
    "\n",
    "initBinaries = [\"female\", \"white\", \"aa\", \"hispanic\", \"diabetes\", \"cvd\", \"hypertensionMed\", \"statinMed\"]\n",
    "\n",
    "for file in [base13Htn, base13HtnLevelOnly, base13HtnLevelAndSelfReport]:\n",
    "    for var in initBinaries:\n",
    "        file[var] = 0\n",
    "\n",
    "    file.loc[(file.gender==2), 'female'] =1\n",
    "    file.loc[(file.raceEthnicity.cat.codes==2), 'white'] = 1\n",
    "    file.loc[(file.raceEthnicity.cat.codes==3), 'aa'] = 1\n",
    "    file.loc[((file.raceEthnicity.cat.codes==0) | (file.raceEthnicity.cat.codes==1)),  'hispanic'] = 1\n",
    "    file.loc[file.a1c >= 6.5, 'diabetes'] = 1\n",
    "    file.loc[((file.selfReportMI==1) | (file.selfReportStroke==1)), 'cvd'] = 1\n",
    "    file.loc[(file.antiHypertensive >= 1), 'hypertensionMed'] = 1\n",
    "    file.loc[(file.statin >= 1), 'statinMed'] = 1"
   ]
  },
  {
   "cell_type": "code",
   "execution_count": 16,
   "id": "christian-productivity",
   "metadata": {},
   "outputs": [
    {
     "data": {
      "text/html": [
       "<div>\n",
       "<style scoped>\n",
       "    .dataframe tbody tr th:only-of-type {\n",
       "        vertical-align: middle;\n",
       "    }\n",
       "\n",
       "    .dataframe tbody tr th {\n",
       "        vertical-align: top;\n",
       "    }\n",
       "\n",
       "    .dataframe thead th {\n",
       "        text-align: right;\n",
       "    }\n",
       "</style>\n",
       "<table border=\"1\" class=\"dataframe\">\n",
       "  <thead>\n",
       "    <tr style=\"text-align: right;\">\n",
       "      <th></th>\n",
       "      <th>variable</th>\n",
       "      <th>target</th>\n",
       "      <th>htnOnly</th>\n",
       "      <th>levelOnly</th>\n",
       "      <th>htnLevelAndSelfReportMeans</th>\n",
       "      <th>survey</th>\n",
       "    </tr>\n",
       "  </thead>\n",
       "  <tbody>\n",
       "    <tr>\n",
       "      <th>0</th>\n",
       "      <td>age</td>\n",
       "      <td>60.00</td>\n",
       "      <td>59.843269</td>\n",
       "      <td>60.975586</td>\n",
       "      <td>61.304472</td>\n",
       "      <td>58.442680</td>\n",
       "    </tr>\n",
       "    <tr>\n",
       "      <th>1</th>\n",
       "      <td>female</td>\n",
       "      <td>0.50</td>\n",
       "      <td>0.504540</td>\n",
       "      <td>0.493164</td>\n",
       "      <td>0.521408</td>\n",
       "      <td>0.497590</td>\n",
       "    </tr>\n",
       "    <tr>\n",
       "      <th>2</th>\n",
       "      <td>white</td>\n",
       "      <td>0.71</td>\n",
       "      <td>0.442163</td>\n",
       "      <td>0.388672</td>\n",
       "      <td>0.438154</td>\n",
       "      <td>0.697290</td>\n",
       "    </tr>\n",
       "    <tr>\n",
       "      <th>3</th>\n",
       "      <td>aa</td>\n",
       "      <td>0.14</td>\n",
       "      <td>0.257402</td>\n",
       "      <td>0.288086</td>\n",
       "      <td>0.267840</td>\n",
       "      <td>0.138270</td>\n",
       "    </tr>\n",
       "    <tr>\n",
       "      <th>4</th>\n",
       "      <td>hispanic</td>\n",
       "      <td>0.10</td>\n",
       "      <td>0.187919</td>\n",
       "      <td>0.195312</td>\n",
       "      <td>0.182683</td>\n",
       "      <td>0.103580</td>\n",
       "    </tr>\n",
       "    <tr>\n",
       "      <th>5</th>\n",
       "      <td>diabetes</td>\n",
       "      <td>0.25</td>\n",
       "      <td>0.202132</td>\n",
       "      <td>0.186523</td>\n",
       "      <td>0.208373</td>\n",
       "      <td>0.176180</td>\n",
       "    </tr>\n",
       "    <tr>\n",
       "      <th>6</th>\n",
       "      <td>cvd</td>\n",
       "      <td>0.19</td>\n",
       "      <td>0.134623</td>\n",
       "      <td>0.106445</td>\n",
       "      <td>0.140343</td>\n",
       "      <td>0.118330</td>\n",
       "    </tr>\n",
       "    <tr>\n",
       "      <th>7</th>\n",
       "      <td>hypertensionMed</td>\n",
       "      <td>0.80</td>\n",
       "      <td>0.827477</td>\n",
       "      <td>0.573242</td>\n",
       "      <td>0.780209</td>\n",
       "      <td>0.825640</td>\n",
       "    </tr>\n",
       "    <tr>\n",
       "      <th>8</th>\n",
       "      <td>statinMed</td>\n",
       "      <td>0.41</td>\n",
       "      <td>0.407422</td>\n",
       "      <td>0.320312</td>\n",
       "      <td>0.412940</td>\n",
       "      <td>0.416910</td>\n",
       "    </tr>\n",
       "    <tr>\n",
       "      <th>9</th>\n",
       "      <td>bmi</td>\n",
       "      <td>31.00</td>\n",
       "      <td>30.691433</td>\n",
       "      <td>30.278340</td>\n",
       "      <td>30.931684</td>\n",
       "      <td>30.873554</td>\n",
       "    </tr>\n",
       "    <tr>\n",
       "      <th>10</th>\n",
       "      <td>meanSBP</td>\n",
       "      <td>133.40</td>\n",
       "      <td>133.849322</td>\n",
       "      <td>152.777018</td>\n",
       "      <td>137.201713</td>\n",
       "      <td>132.091760</td>\n",
       "    </tr>\n",
       "    <tr>\n",
       "      <th>11</th>\n",
       "      <td>meanDBP</td>\n",
       "      <td>71.60</td>\n",
       "      <td>72.231609</td>\n",
       "      <td>78.624674</td>\n",
       "      <td>73.384713</td>\n",
       "      <td>72.326130</td>\n",
       "    </tr>\n",
       "  </tbody>\n",
       "</table>\n",
       "</div>"
      ],
      "text/plain": [
       "           variable  target     htnOnly   levelOnly  \\\n",
       "0               age   60.00   59.843269   60.975586   \n",
       "1            female    0.50    0.504540    0.493164   \n",
       "2             white    0.71    0.442163    0.388672   \n",
       "3                aa    0.14    0.257402    0.288086   \n",
       "4          hispanic    0.10    0.187919    0.195312   \n",
       "5          diabetes    0.25    0.202132    0.186523   \n",
       "6               cvd    0.19    0.134623    0.106445   \n",
       "7   hypertensionMed    0.80    0.827477    0.573242   \n",
       "8         statinMed    0.41    0.407422    0.320312   \n",
       "9               bmi   31.00   30.691433   30.278340   \n",
       "10          meanSBP  133.40  133.849322  152.777018   \n",
       "11          meanDBP   71.60   72.231609   78.624674   \n",
       "\n",
       "    htnLevelAndSelfReportMeans      survey  \n",
       "0                    61.304472   58.442680  \n",
       "1                     0.521408    0.497590  \n",
       "2                     0.438154    0.697290  \n",
       "3                     0.267840    0.138270  \n",
       "4                     0.182683    0.103580  \n",
       "5                     0.208373    0.176180  \n",
       "6                     0.140343    0.118330  \n",
       "7                     0.780209    0.825640  \n",
       "8                     0.412940    0.416910  \n",
       "9                    30.931684   30.873554  \n",
       "10                  137.201713  132.091760  \n",
       "11                   73.384713   72.326130  "
      ]
     },
     "execution_count": 16,
     "metadata": {},
     "output_type": "execute_result"
    }
   ],
   "source": [
    "factors = {\"age\" : 60, \"female\" : .50, \"white\" : 0.71, \"aa\" :0.14, \"hispanic\": 0.10, \"diabetes\": 0.25, \"cvd\" : 0.19,\n",
    "          \"hypertensionMed\" : 0.80, \"statinMed\" : 0.41, \"bmi\" : 31.0, \"meanSBP\" : 133.4, \"meanDBP\" : 71.6}\n",
    "\n",
    "htnMeans = [base13Htn[factor].mean() for factor in factors]\n",
    "htnLevelOnlyMeans = [base13HtnLevelOnly[factor].mean() for factor in factors]\n",
    "htnLevelAndSelfReportMeans = [base13HtnLevelAndSelfReport[factor].mean() for factor in factors]\n",
    "\n",
    "htnSurveyWeighted = base13Htn.sample(n=100000, weights =base13Htn.WTINT2YR, replace=True)\n",
    "htnSurveyWeightedMeans = [htnSurveyWeighted[factor].mean() for factor in factors]\n",
    "\n",
    "\n",
    "compareDF = pd.DataFrame({'variable' : list(factors.keys()), 'target': list(factors.values()), \n",
    "                          'htnOnly': htnMeans, 'levelOnly' :htnLevelOnlyMeans, \n",
    "                          'htnLevelAndSelfReportMeans' :  htnLevelAndSelfReportMeans, 'survey' : htnSurveyWeightedMeans})\n",
    "\n",
    "compareDF"
   ]
  },
  {
   "cell_type": "code",
   "execution_count": 17,
   "id": "considered-sheep",
   "metadata": {},
   "outputs": [],
   "source": [
    "### the gist is that the survey-weighted values look good by comparison to the table....whew!"
   ]
  },
  {
   "cell_type": "code",
   "execution_count": 18,
   "id": "cosmetic-equity",
   "metadata": {},
   "outputs": [],
   "source": [
    "pop13 = NHANESDirectSamplePopulation(500000, 2013)"
   ]
  },
  {
   "cell_type": "code",
   "execution_count": 19,
   "id": "varying-beads",
   "metadata": {},
   "outputs": [],
   "source": [
    "def getDFForPop(pop):\n",
    "    age = [person._age[-1] for i,person in pop._people.iteritems()]\n",
    "    female = [person._gender==NHANESGender.FEMALE for i,person in pop._people.iteritems()]\n",
    "    white = [person._raceEthnicity==NHANESRaceEthnicity.NON_HISPANIC_WHITE  for i,person in pop._people.iteritems()]\n",
    "    aa = [person._raceEthnicity==NHANESRaceEthnicity.NON_HISPANIC_BLACK  for i,person in pop._people.iteritems()]\n",
    "    hispanic = [person._raceEthnicity==NHANESRaceEthnicity.MEXICAN_AMERICAN or person._raceEthnicity==NHANESRaceEthnicity.OTHER_HISPANIC    for i,person in pop._people.iteritems()]\n",
    "    diabetes = [person._current_diabetes  for i,person in pop._people.iteritems()]\n",
    "    cvd = [person._stroke or person._mi  for i,person in pop._people.iteritems()]\n",
    "    hypertensionMed = [person._antiHypertensiveCount[-1] >= 1  for i,person in pop._people.iteritems()]\n",
    "    statinMed = [person._statin[-1] >= 1  for i,person in pop._people.iteritems()]\n",
    "    bmi = [person._bmi[-1]   for i,person in pop._people.iteritems()]\n",
    "    sbp = [person._sbp[-1]   for i,person in pop._people.iteritems()]\n",
    "    dbp = [person._dbp[-1]   for i,person in pop._people.iteritems()]\n",
    "    htn = [person._sbp[-1] >= 140 or person._dbp[-1] >= 90 or person._antiHypertensiveCount[-1] >= 1   for i,person in pop._people.iteritems()]\n",
    "\n",
    "\n",
    "    df = pd.DataFrame({'age' : age, 'female' : female, 'white' : white, 'aa' : aa, 'hispanic' : hispanic,\n",
    "                       'diabetes' : diabetes, 'cvd' : cvd, 'hypertensionMed' : hypertensionMed, 'statinMed' : statinMed,\n",
    "                       'bmi' : bmi, 'meanSBP' : sbp, 'meanDBP' : dbp, 'htn' : htn})\n",
    "    return df"
   ]
  },
  {
   "cell_type": "code",
   "execution_count": 23,
   "id": "proprietary-community",
   "metadata": {},
   "outputs": [],
   "source": [
    "df13 = getDFForPop(pop13)\n",
    "\n",
    "df13Htn = df13.loc[df13.htn==1]\n",
    "\n",
    "weightedFactorsPop = [df13Htn[factor].mean() for factor in factors]\n",
    "compareDF['sim'] = weightedFactorsPop\n",
    "compareDF.to_csv('compareNHANESHypertension.csv')\n",
    "\n",
    "### we're low on CVD...but, that's ok — becuase they include CHF and we can't measure it — so i'll take it out of the pub..."
   ]
  },
  {
   "cell_type": "code",
   "execution_count": 25,
   "id": "individual-produce",
   "metadata": {},
   "outputs": [],
   "source": [
    "pop7 = NHANESDirectSamplePopulation(250000, 2007)\n",
    "pop9 = NHANESDirectSamplePopulation(250000, 2009)\n",
    "df7 = getDFForPop(pop7)\n",
    "df9 = getDFForPop(pop9)"
   ]
  },
  {
   "cell_type": "code",
   "execution_count": 26,
   "id": "considerable-ebony",
   "metadata": {},
   "outputs": [
    {
     "name": "stdout",
     "output_type": "stream",
     "text": [
      "500000\n"
     ]
    },
    {
     "data": {
      "text/html": [
       "<div>\n",
       "<style scoped>\n",
       "    .dataframe tbody tr th:only-of-type {\n",
       "        vertical-align: middle;\n",
       "    }\n",
       "\n",
       "    .dataframe tbody tr th {\n",
       "        vertical-align: top;\n",
       "    }\n",
       "\n",
       "    .dataframe thead th {\n",
       "        text-align: right;\n",
       "    }\n",
       "</style>\n",
       "<table border=\"1\" class=\"dataframe\">\n",
       "  <thead>\n",
       "    <tr style=\"text-align: right;\">\n",
       "      <th></th>\n",
       "      <th>age</th>\n",
       "      <th>female</th>\n",
       "      <th>white</th>\n",
       "      <th>aa</th>\n",
       "      <th>hispanic</th>\n",
       "      <th>diabetes</th>\n",
       "      <th>cvd</th>\n",
       "      <th>hypertensionMed</th>\n",
       "      <th>statinMed</th>\n",
       "      <th>bmi</th>\n",
       "      <th>meanSBP</th>\n",
       "      <th>meanDBP</th>\n",
       "      <th>htn</th>\n",
       "    </tr>\n",
       "  </thead>\n",
       "  <tbody>\n",
       "    <tr>\n",
       "      <th>0</th>\n",
       "      <td>44.0</td>\n",
       "      <td>False</td>\n",
       "      <td>True</td>\n",
       "      <td>False</td>\n",
       "      <td>False</td>\n",
       "      <td>False</td>\n",
       "      <td>False</td>\n",
       "      <td>False</td>\n",
       "      <td>False</td>\n",
       "      <td>27.01</td>\n",
       "      <td>117.333333</td>\n",
       "      <td>74.000000</td>\n",
       "      <td>False</td>\n",
       "    </tr>\n",
       "    <tr>\n",
       "      <th>1</th>\n",
       "      <td>18.0</td>\n",
       "      <td>True</td>\n",
       "      <td>True</td>\n",
       "      <td>False</td>\n",
       "      <td>False</td>\n",
       "      <td>False</td>\n",
       "      <td>False</td>\n",
       "      <td>False</td>\n",
       "      <td>False</td>\n",
       "      <td>19.24</td>\n",
       "      <td>112.666667</td>\n",
       "      <td>50.666667</td>\n",
       "      <td>False</td>\n",
       "    </tr>\n",
       "    <tr>\n",
       "      <th>2</th>\n",
       "      <td>42.0</td>\n",
       "      <td>False</td>\n",
       "      <td>True</td>\n",
       "      <td>False</td>\n",
       "      <td>False</td>\n",
       "      <td>False</td>\n",
       "      <td>False</td>\n",
       "      <td>False</td>\n",
       "      <td>False</td>\n",
       "      <td>26.32</td>\n",
       "      <td>120.000000</td>\n",
       "      <td>80.000000</td>\n",
       "      <td>False</td>\n",
       "    </tr>\n",
       "    <tr>\n",
       "      <th>3</th>\n",
       "      <td>63.0</td>\n",
       "      <td>False</td>\n",
       "      <td>True</td>\n",
       "      <td>False</td>\n",
       "      <td>False</td>\n",
       "      <td>False</td>\n",
       "      <td>False</td>\n",
       "      <td>False</td>\n",
       "      <td>False</td>\n",
       "      <td>21.11</td>\n",
       "      <td>145.333333</td>\n",
       "      <td>89.333333</td>\n",
       "      <td>True</td>\n",
       "    </tr>\n",
       "    <tr>\n",
       "      <th>4</th>\n",
       "      <td>37.0</td>\n",
       "      <td>False</td>\n",
       "      <td>False</td>\n",
       "      <td>False</td>\n",
       "      <td>True</td>\n",
       "      <td>False</td>\n",
       "      <td>False</td>\n",
       "      <td>False</td>\n",
       "      <td>False</td>\n",
       "      <td>31.56</td>\n",
       "      <td>128.000000</td>\n",
       "      <td>79.333333</td>\n",
       "      <td>False</td>\n",
       "    </tr>\n",
       "  </tbody>\n",
       "</table>\n",
       "</div>"
      ],
      "text/plain": [
       "    age  female  white     aa  hispanic  diabetes    cvd  hypertensionMed  \\\n",
       "0  44.0   False   True  False     False     False  False            False   \n",
       "1  18.0    True   True  False     False     False  False            False   \n",
       "2  42.0   False   True  False     False     False  False            False   \n",
       "3  63.0   False   True  False     False     False  False            False   \n",
       "4  37.0   False  False  False      True     False  False            False   \n",
       "\n",
       "   statinMed    bmi     meanSBP    meanDBP    htn  \n",
       "0      False  27.01  117.333333  74.000000  False  \n",
       "1      False  19.24  112.666667  50.666667  False  \n",
       "2      False  26.32  120.000000  80.000000  False  \n",
       "3      False  21.11  145.333333  89.333333   True  \n",
       "4      False  31.56  128.000000  79.333333  False  "
      ]
     },
     "execution_count": 26,
     "metadata": {},
     "output_type": "execute_result"
    }
   ],
   "source": [
    "df79 = pd.concat([df7, df9])\n",
    "print(len(df79))\n",
    "df79.head()"
   ]
  },
  {
   "cell_type": "code",
   "execution_count": 30,
   "id": "incorporate-excuse",
   "metadata": {},
   "outputs": [
    {
     "data": {
      "text/html": [
       "<div>\n",
       "<style scoped>\n",
       "    .dataframe tbody tr th:only-of-type {\n",
       "        vertical-align: middle;\n",
       "    }\n",
       "\n",
       "    .dataframe tbody tr th {\n",
       "        vertical-align: top;\n",
       "    }\n",
       "\n",
       "    .dataframe thead th {\n",
       "        text-align: right;\n",
       "    }\n",
       "</style>\n",
       "<table border=\"1\" class=\"dataframe\">\n",
       "  <thead>\n",
       "    <tr style=\"text-align: right;\">\n",
       "      <th></th>\n",
       "      <th>variable</th>\n",
       "      <th>target</th>\n",
       "      <th>sim</th>\n",
       "    </tr>\n",
       "  </thead>\n",
       "  <tbody>\n",
       "    <tr>\n",
       "      <th>0</th>\n",
       "      <td>age</td>\n",
       "      <td>45.900</td>\n",
       "      <td>45.915826</td>\n",
       "    </tr>\n",
       "    <tr>\n",
       "      <th>1</th>\n",
       "      <td>female</td>\n",
       "      <td>0.517</td>\n",
       "      <td>0.516658</td>\n",
       "    </tr>\n",
       "    <tr>\n",
       "      <th>2</th>\n",
       "      <td>white</td>\n",
       "      <td>0.684</td>\n",
       "      <td>0.683380</td>\n",
       "    </tr>\n",
       "    <tr>\n",
       "      <th>3</th>\n",
       "      <td>aa</td>\n",
       "      <td>0.115</td>\n",
       "      <td>0.114234</td>\n",
       "    </tr>\n",
       "    <tr>\n",
       "      <th>4</th>\n",
       "      <td>hispanic</td>\n",
       "      <td>0.136</td>\n",
       "      <td>0.136058</td>\n",
       "    </tr>\n",
       "    <tr>\n",
       "      <th>5</th>\n",
       "      <td>bmi</td>\n",
       "      <td>28.500</td>\n",
       "      <td>28.528073</td>\n",
       "    </tr>\n",
       "  </tbody>\n",
       "</table>\n",
       "</div>"
      ],
      "text/plain": [
       "   variable  target        sim\n",
       "0       age  45.900  45.915826\n",
       "1    female   0.517   0.516658\n",
       "2     white   0.684   0.683380\n",
       "3        aa   0.115   0.114234\n",
       "4  hispanic   0.136   0.136058\n",
       "5       bmi  28.500  28.528073"
      ]
     },
     "execution_count": 30,
     "metadata": {},
     "output_type": "execute_result"
    }
   ],
   "source": [
    "target79 = {'age' : 45.9, 'female': 1-.483, 'white' : .684, 'aa' : .115, 'hispanic' : .136, 'bmi' : 28.5}\n",
    "compare79DF = pd.DataFrame({'variable' : list(target79.keys()), 'target': list(target79.values())})\n",
    "compare79DF['sim'] = [df79[factor].mean() for factor in target79.keys()]\n",
    "compare79DF                     "
   ]
  },
  {
   "cell_type": "code",
   "execution_count": 31,
   "id": "married-canyon",
   "metadata": {},
   "outputs": [],
   "source": [
    "compare79DF.to_csv('compare79.csv')"
   ]
  },
  {
   "cell_type": "markdown",
   "id": "divine-craft",
   "metadata": {},
   "source": [
    "### this looks pretty good! \n",
    "\n",
    "— we're low on CVD...but that included CHF in the papaer and we don't have CHF, so we shoudl be under\n",
    "— we're also low on diabetes...but, again our definition is differnet than theirs which is glucose-lowering med or AIC > 6.5...we're just a1c > 6.5"
   ]
  }
 ],
 "metadata": {
  "kernelspec": {
   "display_name": "Python 3",
   "language": "python",
   "name": "python3"
  },
  "language_info": {
   "codemirror_mode": {
    "name": "ipython",
    "version": 3
   },
   "file_extension": ".py",
   "mimetype": "text/x-python",
   "name": "python",
   "nbconvert_exporter": "python",
   "pygments_lexer": "ipython3",
   "version": "3.7.4"
  }
 },
 "nbformat": 4,
 "nbformat_minor": 5
}
