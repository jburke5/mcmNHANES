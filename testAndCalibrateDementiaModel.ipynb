{
 "cells": [
  {
   "cell_type": "code",
   "execution_count": 2,
   "metadata": {},
   "outputs": [
    {
     "name": "stdout",
     "output_type": "stream",
     "text": [
      "The autoreload extension is already loaded. To reload it, use:\n",
      "  %reload_ext autoreload\n"
     ]
    }
   ],
   "source": [
    "%load_ext autoreload\n",
    "%autoreload 2\n",
    "%matplotlib inline\n",
    "\n",
    "import os\n",
    "import matplotlib.pyplot as plt\n",
    "os.chdir(\"/Users/burke/Documents/research/bpCog/microsim\")\n",
    "#os.chdir(\"/Users/burke/Documents/microsim\")\n",
    "\n",
    "from microsim.population import NHANESDirectSamplePopulation\n",
    "\n",
    "\n",
    "import pandas as pd\n",
    "import numpy as np\n",
    "\n",
    "import multiprocessing as mp\n",
    "mp.set_start_method('forkserver')"
   ]
  },
  {
   "cell_type": "markdown",
   "metadata": {},
   "source": [
    "import pickle\n",
    "\n",
    "with open('population.json', 'wb') as outputFile:\n",
    "    pickle.dump(pop, outputFile)"
   ]
  },
  {
   "cell_type": "markdown",
   "metadata": {
    "scrolled": true
   },
   "source": [
    "import pickle\n",
    "\n",
    "with open('population.json', 'rb') as inputFile:\n",
    "    pop = pickle.load(inputFile)"
   ]
  },
  {
   "cell_type": "code",
   "execution_count": 3,
   "metadata": {},
   "outputs": [],
   "source": [
    "def buildDF(pop):\n",
    "    dementia = [person._dementia for i, person in pop._people.iteritems()]\n",
    "    incidentDementia = [person.has_incident_dementia() for i, person in pop._people.iteritems()]\n",
    "    dead = [person.is_dead() for i, person in pop._people.iteritems()]\n",
    "\n",
    "\n",
    "    finalAge = [person._age[-1] for i, person in pop._people.iteritems()]\n",
    "    startAge = [person._age[0] for i, person in pop._people.iteritems()]\n",
    "    return pd.DataFrame({'finalAge' : finalAge,'startAge' : startAge, 'dementia' : dementia, 'indicentDementia' : incidentDementia, 'dead' : dead})"
   ]
  },
  {
   "cell_type": "code",
   "execution_count": 4,
   "metadata": {},
   "outputs": [
    {
     "name": "stderr",
     "output_type": "stream",
     "text": [
      "/Users/burke/Documents/research/bpCog/microsim/microsim/gfr_equation.py:36: RuntimeWarning: invalid value encountered in double_scalars\n",
      "  return constant * (x.creatinine/crThreshold)**exponent * 0.993**x.age\n",
      "/Users/burke/Documents/research/bpCog/microsim/microsim/gfr_equation.py:36: RuntimeWarning: invalid value encountered in double_scalars\n",
      "  return constant * (x.creatinine/crThreshold)**exponent * 0.993**x.age\n",
      "/Users/burke/Documents/research/bpCog/microsim/microsim/gfr_equation.py:36: RuntimeWarning: invalid value encountered in double_scalars\n",
      "  return constant * (x.creatinine/crThreshold)**exponent * 0.993**x.age\n",
      "/Users/burke/Documents/research/bpCog/microsim/microsim/gfr_equation.py:36: RuntimeWarning: invalid value encountered in double_scalars\n",
      "  return constant * (x.creatinine/crThreshold)**exponent * 0.993**x.age\n",
      "/Users/burke/Documents/research/bpCog/microsim/microsim/gfr_equation.py:36: RuntimeWarning: invalid value encountered in double_scalars\n",
      "  return constant * (x.creatinine/crThreshold)**exponent * 0.993**x.age\n",
      "/Users/burke/Documents/research/bpCog/microsim/microsim/gfr_equation.py:36: RuntimeWarning: invalid value encountered in double_scalars\n",
      "  return constant * (x.creatinine/crThreshold)**exponent * 0.993**x.age\n",
      "/Users/burke/Documents/research/bpCog/microsim/microsim/gfr_equation.py:36: RuntimeWarning: invalid value encountered in double_scalars\n",
      "  return constant * (x.creatinine/crThreshold)**exponent * 0.993**x.age\n",
      "/Users/burke/Documents/research/bpCog/microsim/microsim/gfr_equation.py:36: RuntimeWarning: invalid value encountered in double_scalars\n",
      "  return constant * (x.creatinine/crThreshold)**exponent * 0.993**x.age\n",
      "/Users/burke/Documents/research/bpCog/microsim/microsim/gfr_equation.py:36: RuntimeWarning: invalid value encountered in double_scalars\n",
      "  return constant * (x.creatinine/crThreshold)**exponent * 0.993**x.age\n",
      "/Users/burke/Documents/research/bpCog/microsim/microsim/gfr_equation.py:36: RuntimeWarning: invalid value encountered in double_scalars\n",
      "  return constant * (x.creatinine/crThreshold)**exponent * 0.993**x.age\n",
      "/Users/burke/Documents/research/bpCog/microsim/microsim/gfr_equation.py:36: RuntimeWarning: invalid value encountered in double_scalars\n",
      "  return constant * (x.creatinine/crThreshold)**exponent * 0.993**x.age\n",
      "/Users/burke/Documents/research/bpCog/microsim/microsim/gfr_equation.py:36: RuntimeWarning: invalid value encountered in double_scalars\n",
      "  return constant * (x.creatinine/crThreshold)**exponent * 0.993**x.age\n",
      "/Users/burke/Documents/research/bpCog/microsim/microsim/gfr_equation.py:36: RuntimeWarning: invalid value encountered in double_scalars\n",
      "  return constant * (x.creatinine/crThreshold)**exponent * 0.993**x.age\n",
      "/Users/burke/Documents/research/bpCog/microsim/microsim/gfr_equation.py:36: RuntimeWarning: invalid value encountered in double_scalars\n",
      "  return constant * (x.creatinine/crThreshold)**exponent * 0.993**x.age\n",
      "/Users/burke/Documents/research/bpCog/microsim/microsim/gfr_equation.py:36: RuntimeWarning: invalid value encountered in double_scalars\n",
      "  return constant * (x.creatinine/crThreshold)**exponent * 0.993**x.age\n",
      "/Users/burke/Documents/research/bpCog/microsim/microsim/gfr_equation.py:36: RuntimeWarning: invalid value encountered in double_scalars\n",
      "  return constant * (x.creatinine/crThreshold)**exponent * 0.993**x.age\n",
      "/Users/burke/Documents/research/bpCog/microsim/microsim/gfr_equation.py:36: RuntimeWarning: invalid value encountered in double_scalars\n",
      "  return constant * (x.creatinine/crThreshold)**exponent * 0.993**x.age\n",
      "/Users/burke/Documents/research/bpCog/microsim/microsim/gfr_equation.py:36: RuntimeWarning: invalid value encountered in double_scalars\n",
      "  return constant * (x.creatinine/crThreshold)**exponent * 0.993**x.age\n",
      "/Users/burke/Documents/research/bpCog/microsim/microsim/gfr_equation.py:36: RuntimeWarning: invalid value encountered in double_scalars\n",
      "  return constant * (x.creatinine/crThreshold)**exponent * 0.993**x.age\n",
      "/Users/burke/Documents/research/bpCog/microsim/microsim/gfr_equation.py:36: RuntimeWarning: invalid value encountered in double_scalars\n",
      "  return constant * (x.creatinine/crThreshold)**exponent * 0.993**x.age\n",
      "/Users/burke/Documents/research/bpCog/microsim/microsim/gfr_equation.py:36: RuntimeWarning: invalid value encountered in double_scalars\n",
      "  return constant * (x.creatinine/crThreshold)**exponent * 0.993**x.age\n",
      "/Users/burke/Documents/research/bpCog/microsim/microsim/gfr_equation.py:36: RuntimeWarning: invalid value encountered in double_scalars\n",
      "  return constant * (x.creatinine/crThreshold)**exponent * 0.993**x.age\n",
      "/Users/burke/Documents/research/bpCog/microsim/microsim/gfr_equation.py:36: RuntimeWarning: invalid value encountered in double_scalars\n",
      "  return constant * (x.creatinine/crThreshold)**exponent * 0.993**x.age\n",
      "/Users/burke/Documents/research/bpCog/microsim/microsim/gfr_equation.py:36: RuntimeWarning: invalid value encountered in double_scalars\n",
      "  return constant * (x.creatinine/crThreshold)**exponent * 0.993**x.age\n",
      "/Users/burke/Documents/research/bpCog/microsim/microsim/gfr_equation.py:36: RuntimeWarning: invalid value encountered in double_scalars\n",
      "  return constant * (x.creatinine/crThreshold)**exponent * 0.993**x.age\n",
      "/Users/burke/Documents/research/bpCog/microsim/microsim/gfr_equation.py:36: RuntimeWarning: invalid value encountered in double_scalars\n",
      "  return constant * (x.creatinine/crThreshold)**exponent * 0.993**x.age\n",
      "/Users/burke/Documents/research/bpCog/microsim/microsim/gfr_equation.py:36: RuntimeWarning: invalid value encountered in double_scalars\n",
      "  return constant * (x.creatinine/crThreshold)**exponent * 0.993**x.age\n",
      "/Users/burke/Documents/research/bpCog/microsim/microsim/gfr_equation.py:36: RuntimeWarning: invalid value encountered in double_scalars\n",
      "  return constant * (x.creatinine/crThreshold)**exponent * 0.993**x.age\n",
      "/Users/burke/Documents/research/bpCog/microsim/microsim/gfr_equation.py:36: RuntimeWarning: invalid value encountered in double_scalars\n",
      "  return constant * (x.creatinine/crThreshold)**exponent * 0.993**x.age\n",
      "/Users/burke/Documents/research/bpCog/microsim/microsim/gfr_equation.py:36: RuntimeWarning: invalid value encountered in double_scalars\n",
      "  return constant * (x.creatinine/crThreshold)**exponent * 0.993**x.age\n",
      "/Users/burke/Documents/research/bpCog/microsim/microsim/gfr_equation.py:36: RuntimeWarning: invalid value encountered in double_scalars\n",
      "  return constant * (x.creatinine/crThreshold)**exponent * 0.993**x.age\n",
      "/Users/burke/Documents/research/bpCog/microsim/microsim/gfr_equation.py:36: RuntimeWarning: invalid value encountered in double_scalars\n",
      "  return constant * (x.creatinine/crThreshold)**exponent * 0.993**x.age\n",
      "/Users/burke/Documents/research/bpCog/microsim/microsim/gfr_equation.py:36: RuntimeWarning: invalid value encountered in double_scalars\n",
      "  return constant * (x.creatinine/crThreshold)**exponent * 0.993**x.age\n",
      "/Users/burke/Documents/research/bpCog/microsim/microsim/gfr_equation.py:36: RuntimeWarning: invalid value encountered in double_scalars\n",
      "  return constant * (x.creatinine/crThreshold)**exponent * 0.993**x.age\n",
      "/Users/burke/Documents/research/bpCog/microsim/microsim/gfr_equation.py:36: RuntimeWarning: invalid value encountered in double_scalars\n",
      "  return constant * (x.creatinine/crThreshold)**exponent * 0.993**x.age\n",
      "/Users/burke/Documents/research/bpCog/microsim/microsim/gfr_equation.py:36: RuntimeWarning: invalid value encountered in double_scalars\n",
      "  return constant * (x.creatinine/crThreshold)**exponent * 0.993**x.age\n",
      "/Users/burke/Documents/research/bpCog/microsim/microsim/gfr_equation.py:36: RuntimeWarning: invalid value encountered in double_scalars\n",
      "  return constant * (x.creatinine/crThreshold)**exponent * 0.993**x.age\n",
      "/Users/burke/Documents/research/bpCog/microsim/microsim/gfr_equation.py:36: RuntimeWarning: invalid value encountered in double_scalars\n",
      "  return constant * (x.creatinine/crThreshold)**exponent * 0.993**x.age\n",
      "/Users/burke/Documents/research/bpCog/microsim/microsim/gfr_equation.py:36: RuntimeWarning: invalid value encountered in double_scalars\n",
      "  return constant * (x.creatinine/crThreshold)**exponent * 0.993**x.age\n",
      "/Users/burke/Documents/research/bpCog/microsim/microsim/gfr_equation.py:36: RuntimeWarning: invalid value encountered in double_scalars\n",
      "  return constant * (x.creatinine/crThreshold)**exponent * 0.993**x.age\n"
     ]
    },
    {
     "name": "stderr",
     "output_type": "stream",
     "text": [
      "/Users/burke/Documents/research/bpCog/microsim/microsim/gfr_equation.py:36: RuntimeWarning: invalid value encountered in double_scalars\n",
      "  return constant * (x.creatinine/crThreshold)**exponent * 0.993**x.age\n",
      "/Users/burke/Documents/research/bpCog/microsim/microsim/gfr_equation.py:36: RuntimeWarning: invalid value encountered in double_scalars\n",
      "  return constant * (x.creatinine/crThreshold)**exponent * 0.993**x.age\n",
      "/Users/burke/Documents/research/bpCog/microsim/microsim/gfr_equation.py:36: RuntimeWarning: invalid value encountered in double_scalars\n",
      "  return constant * (x.creatinine/crThreshold)**exponent * 0.993**x.age\n",
      "/Users/burke/Documents/research/bpCog/microsim/microsim/gfr_equation.py:36: RuntimeWarning: invalid value encountered in double_scalars\n",
      "  return constant * (x.creatinine/crThreshold)**exponent * 0.993**x.age\n",
      "/Users/burke/Documents/research/bpCog/microsim/microsim/gfr_equation.py:36: RuntimeWarning: invalid value encountered in double_scalars\n",
      "  return constant * (x.creatinine/crThreshold)**exponent * 0.993**x.age\n",
      "/Users/burke/Documents/research/bpCog/microsim/microsim/gfr_equation.py:36: RuntimeWarning: invalid value encountered in double_scalars\n",
      "  return constant * (x.creatinine/crThreshold)**exponent * 0.993**x.age\n",
      "/Users/burke/Documents/research/bpCog/microsim/microsim/gfr_equation.py:36: RuntimeWarning: invalid value encountered in double_scalars\n",
      "  return constant * (x.creatinine/crThreshold)**exponent * 0.993**x.age\n",
      "/Users/burke/Documents/research/bpCog/microsim/microsim/gfr_equation.py:36: RuntimeWarning: invalid value encountered in double_scalars\n",
      "  return constant * (x.creatinine/crThreshold)**exponent * 0.993**x.age\n",
      "Process ForkPoolWorker-896:\n",
      "Process ForkPoolWorker-898:\n",
      "Process ForkPoolWorker-893:\n",
      "Process ForkPoolWorker-895:\n",
      "Process ForkPoolWorker-894:\n",
      "Traceback (most recent call last):\n",
      "Traceback (most recent call last):\n",
      "  File \"/Users/burke/opt/anaconda3/lib/python3.7/multiprocessing/process.py\", line 297, in _bootstrap\n",
      "    self.run()\n",
      "  File \"/Users/burke/opt/anaconda3/lib/python3.7/multiprocessing/process.py\", line 297, in _bootstrap\n",
      "    self.run()\n",
      "Traceback (most recent call last):\n",
      "Traceback (most recent call last):\n",
      "\n",
      "KeyboardInterrupt\n",
      "\n",
      "  File \"/Users/burke/opt/anaconda3/lib/python3.7/multiprocessing/process.py\", line 99, in run\n",
      "    self._target(*self._args, **self._kwargs)\n",
      "  File \"/Users/burke/opt/anaconda3/lib/python3.7/multiprocessing/process.py\", line 297, in _bootstrap\n",
      "    self.run()\n",
      "  File \"/Users/burke/opt/anaconda3/lib/python3.7/multiprocessing/process.py\", line 99, in run\n",
      "    self._target(*self._args, **self._kwargs)\n",
      "Traceback (most recent call last):\n",
      "  File \"/Users/burke/opt/anaconda3/lib/python3.7/multiprocessing/process.py\", line 99, in run\n",
      "    self._target(*self._args, **self._kwargs)\n",
      "  File \"/Users/burke/opt/anaconda3/lib/python3.7/multiprocessing/pool.py\", line 110, in worker\n",
      "    task = get()\n",
      "  File \"/Users/burke/opt/anaconda3/lib/python3.7/multiprocessing/pool.py\", line 110, in worker\n",
      "    task = get()\n",
      "  File \"/Users/burke/opt/anaconda3/lib/python3.7/multiprocessing/process.py\", line 297, in _bootstrap\n",
      "    self.run()\n",
      "  File \"/Users/burke/opt/anaconda3/lib/python3.7/multiprocessing/queues.py\", line 351, in get\n",
      "    with self._rlock:\n",
      "  File \"/Users/burke/opt/anaconda3/lib/python3.7/multiprocessing/queues.py\", line 351, in get\n",
      "    with self._rlock:\n",
      "  File \"/Users/burke/opt/anaconda3/lib/python3.7/multiprocessing/process.py\", line 99, in run\n",
      "    self._target(*self._args, **self._kwargs)\n",
      "  File \"/Users/burke/opt/anaconda3/lib/python3.7/multiprocessing/pool.py\", line 110, in worker\n",
      "    task = get()\n",
      "  File \"/Users/burke/opt/anaconda3/lib/python3.7/multiprocessing/process.py\", line 297, in _bootstrap\n",
      "    self.run()\n",
      "  File \"/Users/burke/opt/anaconda3/lib/python3.7/multiprocessing/synchronize.py\", line 95, in __enter__\n",
      "    return self._semlock.__enter__()\n",
      "  File \"/Users/burke/opt/anaconda3/lib/python3.7/multiprocessing/pool.py\", line 110, in worker\n",
      "    task = get()\n",
      "  File \"/Users/burke/opt/anaconda3/lib/python3.7/multiprocessing/queues.py\", line 351, in get\n",
      "    with self._rlock:\n",
      "  File \"/Users/burke/opt/anaconda3/lib/python3.7/multiprocessing/synchronize.py\", line 95, in __enter__\n",
      "    return self._semlock.__enter__()\n",
      "  File \"/Users/burke/opt/anaconda3/lib/python3.7/multiprocessing/queues.py\", line 351, in get\n",
      "    with self._rlock:\n",
      "KeyboardInterrupt\n",
      "KeyboardInterrupt\n",
      "  File \"/Users/burke/opt/anaconda3/lib/python3.7/multiprocessing/synchronize.py\", line 95, in __enter__\n",
      "    return self._semlock.__enter__()\n",
      "  File \"/Users/burke/opt/anaconda3/lib/python3.7/multiprocessing/process.py\", line 99, in run\n",
      "    self._target(*self._args, **self._kwargs)\n",
      "KeyboardInterrupt\n",
      "  File \"/Users/burke/opt/anaconda3/lib/python3.7/multiprocessing/pool.py\", line 110, in worker\n",
      "    task = get()\n",
      "  File \"/Users/burke/opt/anaconda3/lib/python3.7/multiprocessing/synchronize.py\", line 95, in __enter__\n",
      "    return self._semlock.__enter__()\n",
      "KeyboardInterrupt\n",
      "  File \"/Users/burke/opt/anaconda3/lib/python3.7/multiprocessing/queues.py\", line 352, in get\n",
      "    res = self._reader.recv_bytes()\n",
      "  File \"/Users/burke/opt/anaconda3/lib/python3.7/multiprocessing/connection.py\", line 216, in recv_bytes\n",
      "    buf = self._recv_bytes(maxlength)\n",
      "  File \"/Users/burke/opt/anaconda3/lib/python3.7/multiprocessing/connection.py\", line 407, in _recv_bytes\n",
      "    buf = self._recv(4)\n",
      "  File \"/Users/burke/opt/anaconda3/lib/python3.7/multiprocessing/connection.py\", line 379, in _recv\n",
      "    chunk = read(handle, remaining)\n",
      "KeyboardInterrupt\n"
     ]
    }
   ],
   "source": [
    "pop = NHANESDirectSamplePopulation(n=200000, year=1999)\n",
    "dfs = []\n",
    "for i in range(0, 20):\n",
    "    pop.advance_vectorized(1)\n",
    "    dfs.append(buildDF(pop))"
   ]
  },
  {
   "cell_type": "code",
   "execution_count": null,
   "metadata": {},
   "outputs": [],
   "source": [
    "from microsim.outcome_model_type import OutcomeModelType\n",
    "\n",
    "simIncidence = pop.get_raw_incidence_by_age(OutcomeModelType.DEMENTIA)\n",
    "simIncidenceTruncated = simIncidence.loc[(simIncidence.index >=20) & (simIncidence.index < 90)]\n",
    "predIncidence = .084*np.exp(0.142 * (simIncidenceTruncated.index-60))/100"
   ]
  },
  {
   "cell_type": "markdown",
   "metadata": {},
   "source": [
    "##### "
   ]
  },
  {
   "cell_type": "code",
   "execution_count": null,
   "metadata": {},
   "outputs": [],
   "source": [
    "simIncidence"
   ]
  },
  {
   "cell_type": "code",
   "execution_count": null,
   "metadata": {},
   "outputs": [],
   "source": [
    "plt.plot(range(20,90), simIncidenceTruncated, label=\"simulation\")\n",
    "plt.plot(range(20,90), predIncidence.values, label=\"comparison standard\")\n",
    "plt.legend()"
   ]
  },
  {
   "cell_type": "code",
   "execution_count": null,
   "metadata": {},
   "outputs": [],
   "source": []
  },
  {
   "cell_type": "code",
   "execution_count": null,
   "metadata": {},
   "outputs": [],
   "source": []
  },
  {
   "cell_type": "code",
   "execution_count": null,
   "metadata": {},
   "outputs": [],
   "source": [
    "combinedDF = dfs[0][['finalAge', 'startAge']]\n",
    "\n",
    "for i in range(0, 20):\n",
    "    combinedDF[f'dementia{i}'] = dfs[i].dementia\n",
    "    combinedDF[f'incidentDementia{i}'] = dfs[i].indicentDementia\n",
    "    combinedDF[f'dead{i}'] = dfs[i].dead\n",
    "    combinedDF[f'incidentNotDead{i}'] =  (dfs[i].indicentDementia) & (~ dfs[i].dead)"
   ]
  },
  {
   "cell_type": "code",
   "execution_count": null,
   "metadata": {},
   "outputs": [],
   "source": [
    "combinedDF.dementia1.value_counts()"
   ]
  },
  {
   "cell_type": "code",
   "execution_count": null,
   "metadata": {},
   "outputs": [],
   "source": [
    "combinedDF.head()"
   ]
  },
  {
   "cell_type": "code",
   "execution_count": null,
   "metadata": {},
   "outputs": [],
   "source": [
    "combinedDF['id'] = combinedDF.index\n",
    "longDf = pd.wide_to_long(combinedDF, [\"incidentDementia\", \"dead\", \"dementia\", \"incidentNotDead\"], i=\"id\", j=\"year\")"
   ]
  },
  {
   "cell_type": "code",
   "execution_count": null,
   "metadata": {},
   "outputs": [],
   "source": [
    "longDf['notDead'] = ~ longDf['dead']\n",
    "longDf['age'] = longDf.startAge + longDf.index.get_level_values('year')\n"
   ]
  },
  {
   "cell_type": "code",
   "execution_count": null,
   "metadata": {},
   "outputs": [],
   "source": [
    "grouped = longDf.groupby('age')['incidentDementia'].sum()/longDf.groupby('age')['notDead'].sum()\n",
    "grouped"
   ]
  },
  {
   "cell_type": "code",
   "execution_count": null,
   "metadata": {},
   "outputs": [],
   "source": [
    "groupedTrunc = grouped.loc[(grouped.index > 20) & (grouped.index <= 90)]\n",
    "plt.plot(groupedTrunc.index, groupedTrunc.values, label=\"Simulation\")\n",
    "\n",
    "predIncidence2 = .084*np.exp(0.142 * (groupedTrunc.index-60))/100\n",
    "plt.plot(groupedTrunc.index, predIncidence2.values, label=\"Calibration Standard\")\n",
    "plt.ylabel(\"Incidence\")\n",
    "plt.xlabel(\"Age\")\n",
    "plt.legend()\n",
    "plt.savefig('dementiaCalibrationFigure.pdf')"
   ]
  },
  {
   "cell_type": "code",
   "execution_count": null,
   "metadata": {},
   "outputs": [],
   "source": []
  },
  {
   "cell_type": "code",
   "execution_count": null,
   "metadata": {},
   "outputs": [],
   "source": []
  },
  {
   "cell_type": "code",
   "execution_count": 17,
   "metadata": {},
   "outputs": [
    {
     "ename": "FileNotFoundError",
     "evalue": "[Errno 2] No such file or directory: '/Users/burke/Documents/research/bpCog/nhanes/coxreg_currgcp.dta'",
     "output_type": "error",
     "traceback": [
      "\u001b[0;31m---------------------------------------------------------------------------\u001b[0m",
      "\u001b[0;31mFileNotFoundError\u001b[0m                         Traceback (most recent call last)",
      "\u001b[0;32m<ipython-input-17-569fcbee285f>\u001b[0m in \u001b[0;36m<module>\u001b[0;34m\u001b[0m\n\u001b[0;32m----> 1\u001b[0;31m \u001b[0mactualData\u001b[0m \u001b[0;34m=\u001b[0m \u001b[0mpd\u001b[0m\u001b[0;34m.\u001b[0m\u001b[0mread_stata\u001b[0m\u001b[0;34m(\u001b[0m\u001b[0;34m\"/Users/burke/Documents/research/bpCog/nhanes/coxreg_currgcp.dta\"\u001b[0m\u001b[0;34m)\u001b[0m\u001b[0;34m\u001b[0m\u001b[0;34m\u001b[0m\u001b[0m\n\u001b[0m",
      "\u001b[0;32m/opt/anaconda3/lib/python3.7/site-packages/pandas/io/stata.py\u001b[0m in \u001b[0;36mread_stata\u001b[0;34m(filepath_or_buffer, convert_dates, convert_categoricals, index_col, convert_missing, preserve_dtypes, columns, order_categoricals, chunksize, iterator, storage_options)\u001b[0m\n\u001b[1;32m   1906\u001b[0m         \u001b[0morder_categoricals\u001b[0m\u001b[0;34m=\u001b[0m\u001b[0morder_categoricals\u001b[0m\u001b[0;34m,\u001b[0m\u001b[0;34m\u001b[0m\u001b[0;34m\u001b[0m\u001b[0m\n\u001b[1;32m   1907\u001b[0m         \u001b[0mchunksize\u001b[0m\u001b[0;34m=\u001b[0m\u001b[0mchunksize\u001b[0m\u001b[0;34m,\u001b[0m\u001b[0;34m\u001b[0m\u001b[0;34m\u001b[0m\u001b[0m\n\u001b[0;32m-> 1908\u001b[0;31m         \u001b[0mstorage_options\u001b[0m\u001b[0;34m=\u001b[0m\u001b[0mstorage_options\u001b[0m\u001b[0;34m,\u001b[0m\u001b[0;34m\u001b[0m\u001b[0;34m\u001b[0m\u001b[0m\n\u001b[0m\u001b[1;32m   1909\u001b[0m     )\n\u001b[1;32m   1910\u001b[0m \u001b[0;34m\u001b[0m\u001b[0m\n",
      "\u001b[0;32m/opt/anaconda3/lib/python3.7/site-packages/pandas/io/stata.py\u001b[0m in \u001b[0;36m__init__\u001b[0;34m(self, path_or_buf, convert_dates, convert_categoricals, index_col, convert_missing, preserve_dtypes, columns, order_categoricals, chunksize, storage_options)\u001b[0m\n\u001b[1;32m   1058\u001b[0m             \u001b[0;34m\"rb\"\u001b[0m\u001b[0;34m,\u001b[0m\u001b[0;34m\u001b[0m\u001b[0;34m\u001b[0m\u001b[0m\n\u001b[1;32m   1059\u001b[0m             \u001b[0mstorage_options\u001b[0m\u001b[0;34m=\u001b[0m\u001b[0mstorage_options\u001b[0m\u001b[0;34m,\u001b[0m\u001b[0;34m\u001b[0m\u001b[0;34m\u001b[0m\u001b[0m\n\u001b[0;32m-> 1060\u001b[0;31m             \u001b[0mis_text\u001b[0m\u001b[0;34m=\u001b[0m\u001b[0;32mFalse\u001b[0m\u001b[0;34m,\u001b[0m\u001b[0;34m\u001b[0m\u001b[0;34m\u001b[0m\u001b[0m\n\u001b[0m\u001b[1;32m   1061\u001b[0m         ) as handles:\n\u001b[1;32m   1062\u001b[0m             \u001b[0;31m# Copy to BytesIO, and ensure no encoding\u001b[0m\u001b[0;34m\u001b[0m\u001b[0;34m\u001b[0m\u001b[0;34m\u001b[0m\u001b[0m\n",
      "\u001b[0;32m/opt/anaconda3/lib/python3.7/site-packages/pandas/io/common.py\u001b[0m in \u001b[0;36mget_handle\u001b[0;34m(path_or_buf, mode, encoding, compression, memory_map, is_text, errors, storage_options)\u001b[0m\n\u001b[1;32m    654\u001b[0m         \u001b[0;32melse\u001b[0m\u001b[0;34m:\u001b[0m\u001b[0;34m\u001b[0m\u001b[0;34m\u001b[0m\u001b[0m\n\u001b[1;32m    655\u001b[0m             \u001b[0;31m# Binary mode\u001b[0m\u001b[0;34m\u001b[0m\u001b[0;34m\u001b[0m\u001b[0;34m\u001b[0m\u001b[0m\n\u001b[0;32m--> 656\u001b[0;31m             \u001b[0mhandle\u001b[0m \u001b[0;34m=\u001b[0m \u001b[0mopen\u001b[0m\u001b[0;34m(\u001b[0m\u001b[0mhandle\u001b[0m\u001b[0;34m,\u001b[0m \u001b[0mioargs\u001b[0m\u001b[0;34m.\u001b[0m\u001b[0mmode\u001b[0m\u001b[0;34m)\u001b[0m\u001b[0;34m\u001b[0m\u001b[0;34m\u001b[0m\u001b[0m\n\u001b[0m\u001b[1;32m    657\u001b[0m         \u001b[0mhandles\u001b[0m\u001b[0;34m.\u001b[0m\u001b[0mappend\u001b[0m\u001b[0;34m(\u001b[0m\u001b[0mhandle\u001b[0m\u001b[0;34m)\u001b[0m\u001b[0;34m\u001b[0m\u001b[0;34m\u001b[0m\u001b[0m\n\u001b[1;32m    658\u001b[0m \u001b[0;34m\u001b[0m\u001b[0m\n",
      "\u001b[0;31mFileNotFoundError\u001b[0m: [Errno 2] No such file or directory: '/Users/burke/Documents/research/bpCog/nhanes/coxreg_currgcp.dta'"
     ]
    }
   ],
   "source": [
    "actualData = pd.read_stata(\"/Users/burke/Documents/research/bpCog/nhanes/coxreg_currgcp.dta\")"
   ]
  },
  {
   "cell_type": "code",
   "execution_count": 18,
   "metadata": {},
   "outputs": [
    {
     "ename": "NameError",
     "evalue": "name 'actualData' is not defined",
     "output_type": "error",
     "traceback": [
      "\u001b[0;31m---------------------------------------------------------------------------\u001b[0m",
      "\u001b[0;31mNameError\u001b[0m                                 Traceback (most recent call last)",
      "\u001b[0;32m<ipython-input-18-47a261bb5a66>\u001b[0m in \u001b[0;36m<module>\u001b[0;34m\u001b[0m\n\u001b[0;32m----> 1\u001b[0;31m \u001b[0mactualData\u001b[0m\u001b[0;34m[\u001b[0m\u001b[0;34m'roundedAge'\u001b[0m\u001b[0;34m]\u001b[0m \u001b[0;34m=\u001b[0m \u001b[0mnp\u001b[0m\u001b[0;34m.\u001b[0m\u001b[0mround\u001b[0m\u001b[0;34m(\u001b[0m\u001b[0mactualData\u001b[0m\u001b[0;34m.\u001b[0m\u001b[0mage\u001b[0m\u001b[0;34m)\u001b[0m\u001b[0;34m\u001b[0m\u001b[0;34m\u001b[0m\u001b[0m\n\u001b[0m\u001b[1;32m      2\u001b[0m \u001b[0mactualGroupedByAge\u001b[0m \u001b[0;34m=\u001b[0m \u001b[0mactualData\u001b[0m\u001b[0;34m.\u001b[0m\u001b[0mgroupby\u001b[0m\u001b[0;34m(\u001b[0m\u001b[0;34m'roundedAge'\u001b[0m\u001b[0;34m)\u001b[0m\u001b[0;34m[\u001b[0m\u001b[0;34m'deminc'\u001b[0m\u001b[0;34m]\u001b[0m\u001b[0;34m.\u001b[0m\u001b[0mmean\u001b[0m\u001b[0;34m(\u001b[0m\u001b[0;34m)\u001b[0m\u001b[0;34m\u001b[0m\u001b[0;34m\u001b[0m\u001b[0m\n\u001b[1;32m      3\u001b[0m \u001b[0mactualGroupedByAge\u001b[0m \u001b[0;34m=\u001b[0m \u001b[0mactualGroupedByAge\u001b[0m\u001b[0;34m[\u001b[0m\u001b[0mactualGroupedByAge\u001b[0m\u001b[0;34m.\u001b[0m\u001b[0mindex\u001b[0m \u001b[0;34m<\u001b[0m \u001b[0;36m95\u001b[0m\u001b[0;34m]\u001b[0m\u001b[0;34m\u001b[0m\u001b[0;34m\u001b[0m\u001b[0m\n",
      "\u001b[0;31mNameError\u001b[0m: name 'actualData' is not defined"
     ]
    }
   ],
   "source": [
    "actualData['roundedAge'] = np.round(actualData.age)\n",
    "actualGroupedByAge = actualData.groupby('roundedAge')['deminc'].mean()\n",
    "actualGroupedByAge = actualGroupedByAge[actualGroupedByAge.index < 95]"
   ]
  },
  {
   "cell_type": "code",
   "execution_count": 19,
   "metadata": {},
   "outputs": [
    {
     "ename": "NameError",
     "evalue": "name 'actualGroupedByAge' is not defined",
     "output_type": "error",
     "traceback": [
      "\u001b[0;31m---------------------------------------------------------------------------\u001b[0m",
      "\u001b[0;31mNameError\u001b[0m                                 Traceback (most recent call last)",
      "\u001b[0;32m<ipython-input-19-32b544c8f6f0>\u001b[0m in \u001b[0;36m<module>\u001b[0;34m\u001b[0m\n\u001b[0;32m----> 1\u001b[0;31m \u001b[0mplt\u001b[0m\u001b[0;34m.\u001b[0m\u001b[0mplot\u001b[0m\u001b[0;34m(\u001b[0m\u001b[0mactualGroupedByAge\u001b[0m\u001b[0;34m.\u001b[0m\u001b[0mindex\u001b[0m\u001b[0;34m,\u001b[0m \u001b[0mactualGroupedByAge\u001b[0m\u001b[0;34m.\u001b[0m\u001b[0mvalues\u001b[0m\u001b[0;34m*\u001b[0m\u001b[0;36m100\u001b[0m\u001b[0;34m,\u001b[0m \u001b[0mlabel\u001b[0m\u001b[0;34m=\u001b[0m\u001b[0;34m'Cohorts'\u001b[0m\u001b[0;34m)\u001b[0m\u001b[0;34m\u001b[0m\u001b[0;34m\u001b[0m\u001b[0m\n\u001b[0m\u001b[1;32m      2\u001b[0m \u001b[0mpredIncidence\u001b[0m \u001b[0;34m=\u001b[0m \u001b[0;36m.084\u001b[0m\u001b[0;34m*\u001b[0m\u001b[0mnp\u001b[0m\u001b[0;34m.\u001b[0m\u001b[0mexp\u001b[0m\u001b[0;34m(\u001b[0m\u001b[0;36m0.142\u001b[0m \u001b[0;34m*\u001b[0m \u001b[0;34m(\u001b[0m\u001b[0mactualGroupedByAge\u001b[0m\u001b[0;34m.\u001b[0m\u001b[0mindex\u001b[0m\u001b[0;34m-\u001b[0m\u001b[0;36m60\u001b[0m\u001b[0;34m)\u001b[0m\u001b[0;34m)\u001b[0m\u001b[0;34m\u001b[0m\u001b[0;34m\u001b[0m\u001b[0m\n\u001b[1;32m      3\u001b[0m \u001b[0mplt\u001b[0m\u001b[0;34m.\u001b[0m\u001b[0mplot\u001b[0m\u001b[0;34m(\u001b[0m\u001b[0mactualGroupedByAge\u001b[0m\u001b[0;34m.\u001b[0m\u001b[0mindex\u001b[0m\u001b[0;34m,\u001b[0m \u001b[0mpredIncidence\u001b[0m\u001b[0;34m,\u001b[0m \u001b[0mlabel\u001b[0m\u001b[0;34m=\u001b[0m\u001b[0;34m'Brookmeyer incidence equation'\u001b[0m\u001b[0;34m)\u001b[0m\u001b[0;34m\u001b[0m\u001b[0;34m\u001b[0m\u001b[0m\n\u001b[1;32m      4\u001b[0m \u001b[0mplt\u001b[0m\u001b[0;34m.\u001b[0m\u001b[0mlegend\u001b[0m\u001b[0;34m(\u001b[0m\u001b[0;34m)\u001b[0m\u001b[0;34m\u001b[0m\u001b[0;34m\u001b[0m\u001b[0m\n",
      "\u001b[0;31mNameError\u001b[0m: name 'actualGroupedByAge' is not defined"
     ]
    }
   ],
   "source": [
    "plt.plot(actualGroupedByAge.index, actualGroupedByAge.values*100, label='Cohorts')\n",
    "predIncidence = .084*np.exp(0.142 * (actualGroupedByAge.index-60))\n",
    "plt.plot(actualGroupedByAge.index, predIncidence, label='Brookmeyer incidence equation')\n",
    "plt.legend()\n"
   ]
  },
  {
   "cell_type": "code",
   "execution_count": 12,
   "metadata": {},
   "outputs": [
    {
     "data": {
      "image/png": "[encoded data removed]",
      "text/plain": [
       "<Figure size 432x288 with 1 Axes>"
      ]
     },
     "metadata": {
      "needs_background": "light"
     },
     "output_type": "display_data"
    }
   ],
   "source": [
    "grouped = grouped.loc[grouped.index < 95]\n",
    "plt.scatter(grouped.index, grouped.values*100, label='Simulation with gompertz parametric model')\n",
    "\n",
    "predIncidence = .084*np.exp(0.142 * (grouped.index-60))\n",
    "plt.plot(grouped.index, predIncidence, label='Brookmeyer Inccidence  ')\n",
    "plt.legend()\n",
    "plt.savefig('quadraticSurvivalFunctionvVsBrook.pdf')"
   ]
  },
  {
   "cell_type": "code",
   "execution_count": null,
   "metadata": {},
   "outputs": [],
   "source": []
  },
  {
   "cell_type": "code",
   "execution_count": null,
   "metadata": {},
   "outputs": [],
   "source": [
    "from microsim.dementia_model import DementiaModel\n",
    "from microsim.outcome_model_type import OutcomeModelType\n",
    "\n",
    "linearPop = NHANESDirectSamplePopulation(n=50000, year=1999)\n",
    "linearPop._outcome_model_repository._models[OutcomeModelType.DEMENTIA] = DementiaModel(0.00023723, 0)\n",
    "linearDFs = []\n",
    "for i in range(0, 20):\n",
    "    linearPop.advance_multi_process(1)\n",
    "    linearDFs.append(buildDF(pop))"
   ]
  },
  {
   "cell_type": "code",
   "execution_count": null,
   "metadata": {},
   "outputs": [],
   "source": [
    "combinedDFLinear = linearDFs[0][['finalAge', 'startAge']]\n",
    "\n",
    "for i in range(0, 20):\n",
    "    combinedDFLinear[f'dementia{i}'] = linearDFs[i].dementia\n",
    "    combinedDFLinear[f'incidentDementia{i}'] = linearDFs[i].indicentDementia\n",
    "    combinedDFLinear[f'dead{i}'] = linearDFs[i].dead\n",
    "    combinedDFLinear[f'incidentNotDead{i}'] =  (linearDFs[i].indicentDementia) & (~ linearDFs[i].dead)"
   ]
  },
  {
   "cell_type": "code",
   "execution_count": null,
   "metadata": {},
   "outputs": [],
   "source": [
    "combinedDFLinear['id'] = combinedDFLinear.index\n",
    "longDfLinear = pd.wide_to_long(combinedDFLinear, [\"incidentDementia\", \"dead\", \"dementia\", \"incidentNotDead\"], i=\"id\", j=\"year\")\n",
    "longDfLinear['notDead'] = ~ longDfLinear['dead']\n",
    "longDfLinear['age'] = longDfLinear.startAge + longDfLinear.index.get_level_values('year')\n",
    "groupedLinear = longDfLinear.groupby('age')['incidentDementia'].sum()/longDfLinear.groupby('age')['notDead'].sum()\n",
    "groupedLinear = groupedLinear.loc[groupedLinear.index < 95]\n",
    "plt.scatter(groupedLinear.index, groupedLinear.values*100)\n",
    "\n",
    "predIncidenceLinear = .084*np.exp(0.142 * (groupedLinear.index-60))\n",
    "plt.plot(groupedLinear.index, predIncidenceLinear)\n",
    "plt.savefig('linearSurvivalFunctionCalibrationVsBrookemeyer.pdf')"
   ]
  },
  {
   "cell_type": "code",
   "execution_count": null,
   "metadata": {},
   "outputs": [],
   "source": []
  },
  {
   "cell_type": "code",
   "execution_count": null,
   "metadata": {},
   "outputs": [],
   "source": [
    "from microsim.outcome_model_type import OutcomeModelType\n",
    "\n",
    "tvcPop = NHANESDirectSamplePopulation(n=50000, year=1999)\n",
    "tvcPop._outcome_model_repository._models[OutcomeModelType.DEMENTIA] = DementiaModelTVC()\n",
    "tvcDFs = []\n",
    "for i in range(0, 20):\n",
    "    tvcPop.advance_multi_process(1)\n",
    "    tvcDFs.append(buildDF(tvcPop))"
   ]
  },
  {
   "cell_type": "code",
   "execution_count": 4,
   "metadata": {},
   "outputs": [
    {
     "name": "stderr",
     "output_type": "stream",
     "text": [
      "/Users/burke/opt/anaconda3/lib/python3.7/site-packages/ipykernel_launcher.py:4: SettingWithCopyWarning: \n",
      "A value is trying to be set on a copy of a slice from a DataFrame.\n",
      "Try using .loc[row_indexer,col_indexer] = value instead\n",
      "\n",
      "See the caveats in the documentation: https://pandas.pydata.org/pandas-docs/stable/user_guide/indexing.html#returning-a-view-versus-a-copy\n",
      "  after removing the cwd from sys.path.\n",
      "/Users/burke/opt/anaconda3/lib/python3.7/site-packages/ipykernel_launcher.py:5: SettingWithCopyWarning: \n",
      "A value is trying to be set on a copy of a slice from a DataFrame.\n",
      "Try using .loc[row_indexer,col_indexer] = value instead\n",
      "\n",
      "See the caveats in the documentation: https://pandas.pydata.org/pandas-docs/stable/user_guide/indexing.html#returning-a-view-versus-a-copy\n",
      "  \"\"\"\n"
     ]
    },
    {
     "data": {
      "image/png": "[encoded data removed]",
      "text/plain": [
       "<Figure size 432x288 with 1 Axes>"
      ]
     },
     "metadata": {
      "needs_background": "light"
     },
     "output_type": "display_data"
    }
   ],
   "source": [
    "combinedDFTVC = tvcDFs[0][['finalAge', 'startAge']]\n",
    "\n",
    "for i in range(0, 20):\n",
    "    combinedDFTVC[f'dementia{i}'] = tvcDFs[i].dementia\n",
    "    combinedDFTVC[f'incidentDementia{i}'] = tvcDFs[i].indicentDementia\n",
    "    combinedDFTVC[f'dead{i}'] = tvcDFs[i].dead\n",
    "    combinedDFTVC[f'incidentNotDead{i}'] =  (tvcDFs[i].indicentDementia) & (~ tvcDFs[i].dead)\n",
    "\n",
    "combinedDFTVC['id'] = combinedDFTVC.index\n",
    "longDfTVC = pd.wide_to_long(combinedDFTVC, [\"incidentDementia\", \"dead\", \"dementia\", \"incidentNotDead\"], i=\"id\", j=\"year\")\n",
    "longDfTVC['notDead'] = ~ longDfTVC['dead']\n",
    "longDfTVC['age'] = longDfTVC.startAge + longDfTVC.index.get_level_values('year')\n",
    "groupedTVC = longDfTVC.groupby('age')['incidentDementia'].sum()/longDfTVC.groupby('age')['notDead'].sum()\n",
    "groupedTVC = groupedTVC.loc[groupedTVC.index < 95]\n",
    "plt.scatter(groupedTVC.index, groupedTVC.values*100)\n",
    "\n",
    "predIncidenceTVC = .084*np.exp(0.142 * (groupedTVC.index-60))\n",
    "plt.plot(groupedTVC.index, predIncidenceTVC)\n",
    "plt.savefig('linearSurvivalFunctionCalibrationVsBrookemeyerTVC.pdf')"
   ]
  },
  {
   "cell_type": "code",
   "execution_count": null,
   "metadata": {},
   "outputs": [],
   "source": []
  },
  {
   "cell_type": "code",
   "execution_count": null,
   "metadata": {},
   "outputs": [],
   "source": [
    "### left off here — checking what it looks like if i reverse the quadratic terms...maybe not so bad?"
   ]
  },
  {
   "cell_type": "code",
   "execution_count": 13,
   "metadata": {},
   "outputs": [],
   "source": [
    "### option 1...baseline quadratic\n",
    "### optoin 2...baseline linear\n",
    "### option 3...age as tvc + baseline = ?"
   ]
  },
  {
   "cell_type": "code",
   "execution_count": null,
   "metadata": {},
   "outputs": [],
   "source": []
  },
  {
   "cell_type": "code",
   "execution_count": null,
   "metadata": {},
   "outputs": [],
   "source": [
    "oneYearRisks = [DementiaModel().get_risk_for_person(person, 1) for _, person in oneYearPop._people.iteritems()]\n",
    "oneYearCumulativeHazards = [DementiaModel().get_cumulative_hazard(person) for _, person in oneYearPop._people.iteritems()]\n",
    "oneYearLinearPredictors = [DementiaModel().linear_predictor(person) for _, person in oneYearPop._people.iteritems()]"
   ]
  },
  {
   "cell_type": "code",
   "execution_count": null,
   "metadata": {},
   "outputs": [],
   "source": []
  },
  {
   "cell_type": "code",
   "execution_count": 32,
   "metadata": {},
   "outputs": [
    {
     "data": {
      "text/plain": [
       "count    100000.000000\n",
       "mean          0.004941\n",
       "std           0.018683\n",
       "min           0.000004\n",
       "25%           0.000047\n",
       "50%           0.000191\n",
       "75%           0.001410\n",
       "max           0.405354\n",
       "dtype: float64"
      ]
     },
     "execution_count": 32,
     "metadata": {},
     "output_type": "execute_result"
    }
   ],
   "source": [
    "pd.Series(oneYearRisks).describe()"
   ]
  },
  {
   "cell_type": "code",
   "execution_count": 33,
   "metadata": {},
   "outputs": [
    {
     "data": {
      "text/plain": [
       "count    1.000000e+05\n",
       "mean     6.978571e-05\n",
       "std      8.164083e-17\n",
       "min      6.978571e-05\n",
       "25%      6.978571e-05\n",
       "50%      6.978571e-05\n",
       "75%      6.978571e-05\n",
       "max      6.978571e-05\n",
       "dtype: float64"
      ]
     },
     "execution_count": 33,
     "metadata": {},
     "output_type": "execute_result"
    }
   ],
   "source": [
    "pd.Series(oneYearCumulativeHazards).describe()"
   ]
  },
  {
   "cell_type": "code",
   "execution_count": 34,
   "metadata": {},
   "outputs": [
    {
     "data": {
      "text/plain": [
       "count    100000.000000\n",
       "mean          1.439264\n",
       "std           2.338159\n",
       "min          -2.764880\n",
       "25%          -0.401755\n",
       "50%           1.008101\n",
       "75%           3.005945\n",
       "max           8.667087\n",
       "dtype: float64"
      ]
     },
     "execution_count": 34,
     "metadata": {},
     "output_type": "execute_result"
    }
   ],
   "source": [
    "pd.Series(oneYearLinearPredictors).describe()"
   ]
  },
  {
   "cell_type": "code",
   "execution_count": 50,
   "metadata": {},
   "outputs": [
    {
     "data": {
      "text/plain": [
       "<matplotlib.collections.PathCollection at 0x1a8f638b50>"
      ]
     },
     "execution_count": 50,
     "metadata": {},
     "output_type": "execute_result"
    },
    {
     "data": {
      "image/png": "[encoded data removed]",
      "text/plain": [
       "<Figure size 432x288 with 1 Axes>"
      ]
     },
     "metadata": {
      "needs_background": "light"
     },
     "output_type": "display_data"
    }
   ],
   "source": [
    "t = np.arange(0, 20, 1) \n",
    "haz = DementiaModel().get_cumulative_hazard_for_interval(t, t+1)\n",
    "plt.ylim(0, 0.0025)\n",
    "plt.scatter(t, haz)"
   ]
  },
  {
   "cell_type": "code",
   "execution_count": 41,
   "metadata": {},
   "outputs": [
    {
     "data": {
      "text/plain": [
       "array([ 0,  1,  2,  3,  4,  5,  6,  7,  8,  9, 10, 11, 12, 13, 14, 15, 16,\n",
       "       17, 18, 19])"
      ]
     },
     "execution_count": 41,
     "metadata": {},
     "output_type": "execute_result"
    }
   ],
   "source": [
    "t"
   ]
  },
  {
   "cell_type": "code",
   "execution_count": 42,
   "metadata": {},
   "outputs": [
    {
     "data": {
      "text/plain": [
       "array([ 1,  2,  3,  4,  5,  6,  7,  8,  9, 10, 11, 12, 13, 14, 15, 16, 17,\n",
       "       18, 19, 20])"
      ]
     },
     "execution_count": 42,
     "metadata": {},
     "output_type": "execute_result"
    }
   ],
   "source": [
    "t+1"
   ]
  },
  {
   "cell_type": "code",
   "execution_count": 43,
   "metadata": {},
   "outputs": [
    {
     "data": {
      "text/plain": [
       "array([6.97857080e-05, 1.82682876e-04, 2.95580044e-04, 4.08477213e-04,\n",
       "       5.21374381e-04, 6.34271549e-04, 7.47168717e-04, 8.60065885e-04,\n",
       "       9.72963054e-04, 1.08586022e-03, 1.19875739e-03, 1.31165456e-03,\n",
       "       1.42455173e-03, 1.53744889e-03, 1.65034606e-03, 1.76324323e-03,\n",
       "       1.87614040e-03, 1.98903757e-03, 2.10193474e-03, 2.21483190e-03])"
      ]
     },
     "execution_count": 43,
     "metadata": {},
     "output_type": "execute_result"
    }
   ],
   "source": [
    "haz"
   ]
  },
  {
   "cell_type": "code",
   "execution_count": 44,
   "metadata": {},
   "outputs": [
    {
     "data": {
      "text/plain": [
       "6.9785708e-05"
      ]
     },
     "execution_count": 44,
     "metadata": {},
     "output_type": "execute_result"
    }
   ],
   "source": [
    "1.33371239e-05+5.64485841e-05"
   ]
  },
  {
   "cell_type": "code",
   "execution_count": 54,
   "metadata": {},
   "outputs": [
    {
     "data": {
      "text/plain": [
       "0.00029558004440000005"
      ]
     },
     "execution_count": 54,
     "metadata": {},
     "output_type": "execute_result"
    }
   ],
   "source": [
    "(1.33371239e-05*3+5.64485841e-05*9) - (1.33371239e-05*2+5.64485841e-05*4)"
   ]
  },
  {
   "cell_type": "code",
   "execution_count": null,
   "metadata": {},
   "outputs": [],
   "source": []
  }
 ],
 "metadata": {
  "kernelspec": {
   "display_name": "Python 3 (ipykernel)",
   "language": "python",
   "name": "python3"
  },
  "language_info": {
   "codemirror_mode": {
    "name": "ipython",
    "version": 3
   },
   "file_extension": ".py",
   "mimetype": "text/x-python",
   "name": "python",
   "nbconvert_exporter": "python",
   "pygments_lexer": "ipython3",
   "version": "3.7.4"
  }
 },
 "nbformat": 4,
 "nbformat_minor": 2
}
