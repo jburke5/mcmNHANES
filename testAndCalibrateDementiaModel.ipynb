{
 "cells": [
  {
   "cell_type": "code",
   "execution_count": 11,
   "metadata": {},
   "outputs": [
    {
     "name": "stdout",
     "output_type": "stream",
     "text": [
      "The autoreload extension is already loaded. To reload it, use:\n",
      "  %reload_ext autoreload\n"
     ]
    }
   ],
   "source": [
    "%load_ext autoreload\n",
    "%autoreload 2\n",
    "%matplotlib inline\n",
    "\n",
    "import os\n",
    "import matplotlib.pyplot as plt\n",
    "os.chdir(\"/Users/burke/Documents/research/bpCog/microsim\")\n",
    "from microsim.population import NHANESDirectSamplePopulation\n",
    "\n",
    "import pandas as pd"
   ]
  },
  {
   "cell_type": "code",
   "execution_count": 2,
   "metadata": {},
   "outputs": [
    {
     "name": "stdout",
     "output_type": "stream",
     "text": [
      "processing year: 0\n",
      "processing year: 1\n",
      "processing year: 2\n",
      "processing year: 3\n",
      "processing year: 4\n",
      "processing year: 5\n",
      "processing year: 6\n",
      "processing year: 7\n",
      "processing year: 8\n",
      "processing year: 9\n",
      "processing year: 10\n",
      "processing year: 11\n",
      "processing year: 12\n",
      "processing year: 13\n",
      "processing year: 14\n",
      "processing year: 15\n",
      "processing year: 16\n",
      "processing year: 17\n",
      "processing year: 18\n",
      "processing year: 19\n"
     ]
    }
   ],
   "source": [
    "pop = NHANESDirectSamplePopulation(n=100000, year=1999)\n",
    "pop.advance_multi_process(20)"
   ]
  },
  {
   "cell_type": "code",
   "execution_count": 8,
   "metadata": {},
   "outputs": [],
   "source": [
    "dementia = [person._dementia for i, person in pop._people.iteritems()]\n",
    "finalAge = [person._age[-1] for i, person in pop._people.iteritems()]"
   ]
  },
  {
   "cell_type": "code",
   "execution_count": 9,
   "metadata": {},
   "outputs": [],
   "source": [
    "df = pd.DataFrame({'age' : finalAge, 'dementia' : dementia})\n",
    "df['age10'] =  pd.qcut(df.age,10)"
   ]
  },
  {
   "cell_type": "code",
   "execution_count": 22,
   "metadata": {},
   "outputs": [
    {
     "data": {
      "text/plain": [
       "age10\n",
       "(18.999, 43.0]    0.000781\n",
       "(43.0, 48.0]      0.001590\n",
       "(48.0, 52.0]      0.003227\n",
       "(52.0, 57.0]      0.005088\n",
       "(57.0, 61.0]      0.007142\n",
       "(61.0, 65.0]      0.015093\n",
       "(65.0, 71.0]      0.030790\n",
       "(71.0, 77.0]      0.062979\n",
       "(77.0, 85.0]      0.160692\n",
       "(85.0, 105.0]     0.460650\n",
       "Name: dementia, dtype: float64"
      ]
     },
     "execution_count": 22,
     "metadata": {},
     "output_type": "execute_result"
    }
   ],
   "source": [
    "prevalenceByAgeGroup = df.groupby('age10')['dementia'].mean()\n",
    "prevalenceByAgeGroup"
   ]
  },
  {
   "cell_type": "code",
   "execution_count": 25,
   "metadata": {},
   "outputs": [
    {
     "data": {
      "text/plain": [
       "<BarContainer object of 10 artists>"
      ]
     },
     "execution_count": 25,
     "metadata": {},
     "output_type": "execute_result"
    },
    {
     "data": {
      "image/png": "[encoded data removed]",
      "text/plain": [
       "<Figure size 432x288 with 1 Axes>"
      ]
     },
     "metadata": {
      "needs_background": "light"
     },
     "output_type": "display_data"
    }
   ],
   "source": [
    "plt.bar(prevalenceByAgeGroup.index.codes, prevalenceByAgeGroup.values)"
   ]
  }
 ],
 "metadata": {
  "kernelspec": {
   "display_name": "Python 3",
   "language": "python",
   "name": "python3"
  },
  "language_info": {
   "codemirror_mode": {
    "name": "ipython",
    "version": 3
   },
   "file_extension": ".py",
   "mimetype": "text/x-python",
   "name": "python",
   "nbconvert_exporter": "python",
   "pygments_lexer": "ipython3",
   "version": "3.7.4"
  }
 },
 "nbformat": 4,
 "nbformat_minor": 2
}
