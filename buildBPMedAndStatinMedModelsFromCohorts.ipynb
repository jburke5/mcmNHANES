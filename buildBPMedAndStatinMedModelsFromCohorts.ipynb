{
 "cells": [
  {
   "cell_type": "code",
   "execution_count": null,
   "metadata": {},
   "outputs": [],
   "source": [
    "import pandas as pd\n",
    "import numpy as np\n",
    "\n",
    "cohort = pd.read_stata(\"/Users/burke/Documents/research/bpCog/meds.dta\")\n",
    "cohort = cohort[['newid', 'visitcounter', 'SBP', 'DBP', 'bmi', 'trig', 'Smokestatus', 'choltot', 'cholhdl', 'cholldl', \n",
    "                 'age0', 'female0', 'educ0', 'daysfromvisit1', 'racebpcog', 'hba1c', 'glucosef']]\n",
    "\n",
    "cohort['newid'] = cohort['newid'].str[2:]\n",
    "cohort['newid'] = cohort['newid'].str[:-1]\n",
    "\n",
    "cohort = cohort.assign(id=(cohort['newid']).astype('category').cat.codes)\n",
    "cohort.drop(labels=['newid'], axis='columns', inplace=True)"
   ]
  },
  {
   "cell_type": "code",
   "execution_count": 11,
   "metadata": {},
   "outputs": [],
   "source": [
    "cohort.rename(columns={'smokestatus' : 'smokingStatus', 'choltot' : 'totChol',\n",
    "                      \"cholhdl\" : 'hdl', 'cholldl' : 'ldl', 'age0' : 'baseAge', 'female0' : 'gender', 'educ0' : 'educ',\n",
    "                      'hba1c' : 'a1c', 'racebpcog' : 'raceEthnicity'}, inplace=True)\n",
    "\n",
    "cohort.gender.replace(to_replace=[0,1], value=[1, 2], inplace=True)\n",
    "# have to compress \"hispanic\" to \"other hispanic\" and no representation for mexican american in BP Cog\n",
    "cohort.raceEthnicity.replace(to_replace=[1,2,3,9], value=[4,3,2,5], inplace=True)"
   ]
  },
  {
   "cell_type": "code",
   "execution_count": 12,
   "metadata": {},
   "outputs": [],
   "source": [
    "allFactorsImputation = [\"a1c\", \"hdl\", \"totChol\", \"bmi\", \"dbp\", \"sbp\", \"ldl\", \"trig\", \"glucosef\"]\n",
    "\n",
    "lagVars = []\n",
    "\n",
    "# first geneate lag variables which we'll use in teh imputatino\n",
    "for factor in allFactorsImputation:\n",
    "    newVarName = \"lag\" + factor[0].upper()+factor[1:]\n",
    "    lagVars.append(newVarName)\n",
    "    cohort[newVarName] = cohort.groupby(['id'])[factor].shift(1)\n",
    "    cohort = cohort.join(other=cohort.groupby(['id'])[newVarName].mean(), on='id', rsuffix='mean')\n",
    "    cohort.rename(columns={newVarName + \"mean\" : 'mean' + newVarName[0].upper() + newVarName[1:]}, inplace=True)\n",
    "cohort.drop(lagVars, axis='columns', inplace=True)\n",
    "\n",
    "cohort['age'] = cohort.baseAge + cohort.daysfromvisit1 / 365\n",
    "cohort = pd.concat([cohort, pd.get_dummies(cohort['raceEthnicity'], prefix=\"raceEth\")], axis=1)\n",
    "cohort = pd.concat([cohort, pd.get_dummies(cohort['smokingStatus'], prefix=\"smoke\")], axis=1)\n",
    "cohort.drop(['baseAge', 'daysfromvisit1', 'visitcounter', 'smokingStatus', 'raceEthnicity', 'educ'], axis='columns', inplace=True)\n",
    "\n",
    "cohort.rename(columns={'raceEth_2.0' : 'raceEth2', 'raceEth_3.0' : 'raceEth3', 'raceEth_4.0' : 'raceEth4',\n",
    "                        'raceEth_5.0' : 'raceEth5', 'smoke_0.0' : 'smoke0', 'smoke_1.0' : 'smoke1' , \n",
    "                       'smoke_2.0' : 'smoke2'  }, inplace=True)\n",
    "\n"
   ]
  },
  {
   "cell_type": "code",
   "execution_count": 10,
   "metadata": {},
   "outputs": [
    {
     "data": {
      "text/plain": [
       "NaN     171971\n",
       " 0.0     87309\n",
       " 1.0     65556\n",
       " 2.0     35682\n",
       "Name: smokestatus, dtype: int64"
      ]
     },
     "execution_count": 10,
     "metadata": {},
     "output_type": "execute_result"
    }
   ],
   "source": [
    "import statsmodels.imputation.mice as mice\n",
    "\n",
    "def getFormulaForVariable(var):\n",
    "    cols = list(cohort.columns)\n",
    "    cols.remove(var)\n",
    "    colStrings = [col + \"+\"for col in cols]\n",
    "    return \"\".join(colStrings)[:-1]\n",
    "    \n",
    "imputedCohort = mice.MICEData(cohort)\n",
    "binaryVars = ['smoke0', 'smoke1', 'smoke2', 'raceEth2', 'raceEth3', 'raceEth4', 'raceEth5']\n",
    "for var in binaryVars:\n",
    "    imputedCohort.set_imputer(var, formula=getFormulaForVariable(var), model_class=\"logit\")\n",
    "imputedCohort.update_all(20)"
   ]
  }
 ],
 "metadata": {
  "kernelspec": {
   "display_name": "Python 3",
   "language": "python",
   "name": "python3"
  },
  "language_info": {
   "codemirror_mode": {
    "name": "ipython",
    "version": 3
   },
   "file_extension": ".py",
   "mimetype": "text/x-python",
   "name": "python",
   "nbconvert_exporter": "python",
   "pygments_lexer": "ipython3",
   "version": "3.6.5"
  }
 },
 "nbformat": 4,
 "nbformat_minor": 2
}
