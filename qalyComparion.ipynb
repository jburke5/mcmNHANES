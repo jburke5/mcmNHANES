{
 "cells": [
  {
   "cell_type": "code",
   "execution_count": 112,
   "metadata": {},
   "outputs": [
    {
     "name": "stdout",
     "output_type": "stream",
     "text": [
      "The autoreload extension is already loaded. To reload it, use:\n",
      "  %reload_ext autoreload\n"
     ]
    }
   ],
   "source": [
    "%load_ext autoreload\n",
    "%autoreload 2\n",
    "%matplotlib inline\n",
    "\n",
    "import os\n",
    "import matplotlib.pyplot as plt\n",
    "os.chdir(\"/Users/burke/Documents/research/bpCog/microsim\")\n",
    "from microsim.population import NHANESDirectSamplePopulation\n",
    "from microsim.outcome import OutcomeType\n",
    "\n",
    "from sklearn.preprocessing import StandardScaler\n",
    "from sklearn.neighbors import NearestNeighbors\n",
    "\n",
    "import pandas as pd\n",
    "import numpy as np\n",
    "\n",
    "import multiprocessing as mp\n",
    "#mp.set_start_method('forkserver')"
   ]
  },
  {
   "cell_type": "code",
   "execution_count": 11,
   "metadata": {},
   "outputs": [
    {
     "name": "stdout",
     "output_type": "stream",
     "text": [
      "processing year: 0\n",
      "processing year: 1\n",
      "processing year: 2\n",
      "processing year: 3\n",
      "processing year: 4\n",
      "processing year: 5\n",
      "processing year: 6\n",
      "processing year: 7\n",
      "processing year: 8\n",
      "processing year: 9\n",
      "processing year: 10\n",
      "processing year: 11\n",
      "processing year: 12\n",
      "processing year: 13\n",
      "processing year: 14\n",
      "processing year: 15\n",
      "processing year: 16\n",
      "processing year: 17\n",
      "processing year: 18\n",
      "processing year: 19\n"
     ]
    }
   ],
   "source": [
    "pop = NHANESDirectSamplePopulation(150000, 1999)\n",
    "pop.advance_multi_process(20)"
   ]
  },
  {
   "cell_type": "code",
   "execution_count": 73,
   "metadata": {},
   "outputs": [],
   "source": [
    "df = pop.get_people_current_state_as_dataframe()"
   ]
  },
  {
   "cell_type": "code",
   "execution_count": 74,
   "metadata": {},
   "outputs": [],
   "source": [
    "df['incidentDementia'] = [person.has_outcome_during_simulation(OutcomeType.DEMENTIA) for i, person in pop._people.iteritems()]\n",
    "df['ageAtFirstMI'] = [person.get_age_at_first_outcome_in_sim(OutcomeType.MI) for i, person in pop._people.iteritems()]\n",
    "df['ageAtFirstStroke'] = [person.get_age_at_first_outcome_in_sim(OutcomeType.STROKE) for i, person in pop._people.iteritems()]\n",
    "df['ageAtFirstDementia'] = [person.get_age_at_first_outcome_in_sim(OutcomeType.DEMENTIA) for i, person in pop._people.iteritems()]\n",
    "df['waveOfFirstMI'] = df.ageAtFirstMI - df.baseAge + 1\n",
    "df['waveOfFirstStroke'] = df.ageAtFirstStroke - df.baseAge + 1\n",
    "df['waveOfFirstDementia'] = df.ageAtFirstDementia - df.baseAge + 1\n",
    "\n",
    "df['waveOfFirstMI']= df['waveOfFirstMI'].fillna(1)\n",
    "df['waveOfFirstStroke']= df['waveOfFirstStroke'].fillna(1)\n",
    "df['waveOfFirstDementia']= df['waveOfFirstDementia'].fillna(1)\n",
    "\n",
    "\n",
    "df['waveOfFirstMI']= df['waveOfFirstMI'].astype('int')\n",
    "df['waveOfFirstStroke']= df['waveOfFirstStroke'].astype('int')\n",
    "df['waveOfFirstDementia']= df['waveOfFirstDementia'].astype('int')"
   ]
  },
  {
   "cell_type": "code",
   "execution_count": 128,
   "metadata": {},
   "outputs": [],
   "source": [
    "df['qalysPostMI'] = [pop._people.iloc[index].get_qalys_from_wave(dfPerson.waveOfFirstMI) for index, dfPerson in df.iterrows()]\n",
    "df['qalysPostStroke'] = [pop._people.iloc[index].get_qalys_from_wave(dfPerson.waveOfFirstStroke) for index, dfPerson in df.iterrows()]\n",
    "df['qalysPostDementia'] = [pop._people.iloc[index].get_qalys_from_wave(dfPerson.waveOfFirstDementia) for index, dfPerson in df.iterrows()]"
   ]
  },
  {
   "cell_type": "code",
   "execution_count": 76,
   "metadata": {},
   "outputs": [
    {
     "data": {
      "text/html": [
       "<div>\n",
       "<style scoped>\n",
       "    .dataframe tbody tr th:only-of-type {\n",
       "        vertical-align: middle;\n",
       "    }\n",
       "\n",
       "    .dataframe tbody tr th {\n",
       "        vertical-align: top;\n",
       "    }\n",
       "\n",
       "    .dataframe thead tr th {\n",
       "        text-align: left;\n",
       "    }\n",
       "\n",
       "    .dataframe thead tr:last-of-type th {\n",
       "        text-align: right;\n",
       "    }\n",
       "</style>\n",
       "<table border=\"1\" class=\"dataframe\">\n",
       "  <thead>\n",
       "    <tr>\n",
       "      <th></th>\n",
       "      <th colspan=\"8\" halign=\"left\">qalysPostMI</th>\n",
       "      <th colspan=\"8\" halign=\"left\">age</th>\n",
       "    </tr>\n",
       "    <tr>\n",
       "      <th></th>\n",
       "      <th>count</th>\n",
       "      <th>mean</th>\n",
       "      <th>std</th>\n",
       "      <th>min</th>\n",
       "      <th>25%</th>\n",
       "      <th>50%</th>\n",
       "      <th>75%</th>\n",
       "      <th>max</th>\n",
       "      <th>count</th>\n",
       "      <th>mean</th>\n",
       "      <th>std</th>\n",
       "      <th>min</th>\n",
       "      <th>25%</th>\n",
       "      <th>50%</th>\n",
       "      <th>75%</th>\n",
       "      <th>max</th>\n",
       "    </tr>\n",
       "    <tr>\n",
       "      <th>miInSim</th>\n",
       "      <th></th>\n",
       "      <th></th>\n",
       "      <th></th>\n",
       "      <th></th>\n",
       "      <th></th>\n",
       "      <th></th>\n",
       "      <th></th>\n",
       "      <th></th>\n",
       "      <th></th>\n",
       "      <th></th>\n",
       "      <th></th>\n",
       "      <th></th>\n",
       "      <th></th>\n",
       "      <th></th>\n",
       "      <th></th>\n",
       "      <th></th>\n",
       "    </tr>\n",
       "  </thead>\n",
       "  <tbody>\n",
       "    <tr>\n",
       "      <th>False</th>\n",
       "      <td>139953.0</td>\n",
       "      <td>18.851588</td>\n",
       "      <td>4.641481</td>\n",
       "      <td>0.688500</td>\n",
       "      <td>19.95</td>\n",
       "      <td>21.0000</td>\n",
       "      <td>21.0000</td>\n",
       "      <td>21.00</td>\n",
       "      <td>139953.0</td>\n",
       "      <td>61.894415</td>\n",
       "      <td>15.111863</td>\n",
       "      <td>19.0</td>\n",
       "      <td>50.0</td>\n",
       "      <td>60.0</td>\n",
       "      <td>72.0</td>\n",
       "      <td>105.0</td>\n",
       "    </tr>\n",
       "    <tr>\n",
       "      <th>True</th>\n",
       "      <td>10047.0</td>\n",
       "      <td>6.263126</td>\n",
       "      <td>4.978278</td>\n",
       "      <td>0.305118</td>\n",
       "      <td>1.88</td>\n",
       "      <td>4.9077</td>\n",
       "      <td>9.7422</td>\n",
       "      <td>18.98</td>\n",
       "      <td>10047.0</td>\n",
       "      <td>72.401911</td>\n",
       "      <td>14.734775</td>\n",
       "      <td>21.0</td>\n",
       "      <td>62.0</td>\n",
       "      <td>74.0</td>\n",
       "      <td>84.0</td>\n",
       "      <td>105.0</td>\n",
       "    </tr>\n",
       "  </tbody>\n",
       "</table>\n",
       "</div>"
      ],
      "text/plain": [
       "        qalysPostMI                                                          \\\n",
       "              count       mean       std       min    25%      50%      75%   \n",
       "miInSim                                                                       \n",
       "False      139953.0  18.851588  4.641481  0.688500  19.95  21.0000  21.0000   \n",
       "True        10047.0   6.263126  4.978278  0.305118   1.88   4.9077   9.7422   \n",
       "\n",
       "                     age                                                       \n",
       "           max     count       mean        std   min   25%   50%   75%    max  \n",
       "miInSim                                                                        \n",
       "False    21.00  139953.0  61.894415  15.111863  19.0  50.0  60.0  72.0  105.0  \n",
       "True     18.98   10047.0  72.401911  14.734775  21.0  62.0  74.0  84.0  105.0  "
      ]
     },
     "execution_count": 76,
     "metadata": {},
     "output_type": "execute_result"
    }
   ],
   "source": [
    "df.groupby('miInSim')[['qalysPostMI','age']].describe()"
   ]
  },
  {
   "cell_type": "code",
   "execution_count": 157,
   "metadata": {},
   "outputs": [
    {
     "name": "stdout",
     "output_type": "stream",
     "text": [
      "qalys in mi: 6.3 \n",
      "qalys In control: 15.9 \n",
      "\n",
      "age in mi: 66.0 \n",
      "age In control: 65.4 \n"
     ]
    },
    {
     "name": "stderr",
     "output_type": "stream",
     "text": [
      "/Users/burke/opt/anaconda3/lib/python3.7/site-packages/ipykernel_launcher.py:30: SettingWithCopyWarning: \n",
      "A value is trying to be set on a copy of a slice from a DataFrame.\n",
      "Try using .loc[row_indexer,col_indexer] = value instead\n",
      "\n",
      "See the caveats in the documentation: https://pandas.pydata.org/pandas-docs/stable/user_guide/indexing.html#returning-a-view-versus-a-copy\n"
     ]
    },
    {
     "data": {
      "text/html": [
       "<div>\n",
       "<style scoped>\n",
       "    .dataframe tbody tr th:only-of-type {\n",
       "        vertical-align: middle;\n",
       "    }\n",
       "\n",
       "    .dataframe tbody tr th {\n",
       "        vertical-align: top;\n",
       "    }\n",
       "\n",
       "    .dataframe thead th {\n",
       "        text-align: right;\n",
       "    }\n",
       "</style>\n",
       "<table border=\"1\" class=\"dataframe\">\n",
       "  <thead>\n",
       "    <tr style=\"text-align: right;\">\n",
       "      <th></th>\n",
       "      <th>qalysPostMI</th>\n",
       "    </tr>\n",
       "    <tr>\n",
       "      <th>age5</th>\n",
       "      <th></th>\n",
       "    </tr>\n",
       "  </thead>\n",
       "  <tbody>\n",
       "    <tr>\n",
       "      <th>(19.999, 52.0]</th>\n",
       "      <td>8.869412</td>\n",
       "    </tr>\n",
       "    <tr>\n",
       "      <th>(52.0, 62.0]</th>\n",
       "      <td>7.511304</td>\n",
       "    </tr>\n",
       "    <tr>\n",
       "      <th>(62.0, 71.0]</th>\n",
       "      <td>6.590708</td>\n",
       "    </tr>\n",
       "    <tr>\n",
       "      <th>(71.0, 80.0]</th>\n",
       "      <td>5.069363</td>\n",
       "    </tr>\n",
       "    <tr>\n",
       "      <th>(80.0, 104.0]</th>\n",
       "      <td>3.148203</td>\n",
       "    </tr>\n",
       "  </tbody>\n",
       "</table>\n",
       "</div>"
      ],
      "text/plain": [
       "                qalysPostMI\n",
       "age5                       \n",
       "(19.999, 52.0]     8.869412\n",
       "(52.0, 62.0]       7.511304\n",
       "(62.0, 71.0]       6.590708\n",
       "(71.0, 80.0]       5.069363\n",
       "(80.0, 104.0]      3.148203"
      ]
     },
     "execution_count": 157,
     "metadata": {},
     "output_type": "execute_result"
    }
   ],
   "source": [
    "df['matchAge'] = df['baseAge']\n",
    "df.loc[(df.miInSim==True),'matchAge'] = df.ageAtFirstMI\n",
    "\n",
    "mi = df.loc[df.miInSim==True]\n",
    "nonMI = df.loc[df.miInSim==False]\n",
    "\n",
    "from sklearn.preprocessing import StandardScaler\n",
    "from sklearn.neighbors import NearestNeighbors\n",
    "\n",
    "def get_matching_pairs(treated_df, non_treated_df, scaler=True):\n",
    "    treated_x = treated_df.values\n",
    "    non_treated_x = non_treated_df.values\n",
    "    if scaler == True:\n",
    "        scaler = StandardScaler()\n",
    "    if scaler:\n",
    "        scaler.fit(treated_x)\n",
    "        treated_x = scaler.transform(treated_x)\n",
    "        non_treated_x = scaler.transform(non_treated_x)\n",
    "\n",
    "    nbrs = NearestNeighbors(n_neighbors=1, algorithm='ball_tree').fit(non_treated_x)\n",
    "    distances, indices = nbrs.kneighbors(treated_x)\n",
    "    return indices.reshape(indices.shape[0])\n",
    "\n",
    "columns = ['matchAge']\n",
    "matchedIndices = get_matching_pairs(mi[columns], nonMI[columns])\n",
    "\n",
    "print(f\"qalys in mi: {mi.qalysPostMI.mean():.1f} \\nqalys In control: {nonMI.iloc[matchedIndices].qalysPostMI.mean():.1f} \")\n",
    "print(f\"\\nage in mi: {mi.matchAge.mean():.1f} \\nage In control: {nonMI.iloc[matchedIndices].matchAge.mean():.1f} \")\n",
    "\n",
    "mi['age5'] = pd.qcut(mi.matchAge, 5)\n",
    "mi.groupby('age5')[['qalysPostMI']].mean()"
   ]
  },
  {
   "cell_type": "markdown",
   "metadata": {},
   "source": [
    "### for MI, it looks like we're slightly overestimaging by comparison to the literature, but we're in teh ballpark and we have reasonable age stratification\n",
    "Thokala, P., Goodacre, S. W., Collinson, P. O., Stevens, J. W., Mills, N. L., Newby, D. E., et al. (2012). Cost-effectiveness of presentation versus delayed troponin testing for acute myocardial infarction. Heart (British Cardiac Society), 98(20), 1498–1503. http://doi.org/10.1136/heartjnl-2012-302188"
   ]
  },
  {
   "cell_type": "code",
   "execution_count": 151,
   "metadata": {},
   "outputs": [
    {
     "name": "stdout",
     "output_type": "stream",
     "text": [
      "qalys in stroke: 5.1 \n",
      "qalys In control: 12.3 \n",
      "\n",
      "age in stroke: 73.6 \n",
      "age In stroke: 72.4 \n"
     ]
    }
   ],
   "source": [
    "df['matchAge'] = df['baseAge']\n",
    "df.loc[(df.strokeInSim==True),'matchAge'] = df.ageAtFirstStroke\n",
    "\n",
    "stroke = df.loc[df.strokeInSim==True]\n",
    "nonStroke = df.loc[df.strokeInSim==False]\n",
    "\n",
    "matchedIndices = get_matching_pairs(stroke[columns], nonStroke[columns])\n",
    "\n",
    "print(f\"qalys in stroke: {stroke.qalysPostStroke.mean():.1f} \\nqalys In control: {nonStroke.iloc[matchedIndices].qalysPostStroke.mean():.1f} \")\n",
    "print(f\"\\nage in stroke: {stroke.matchAge.mean():.1f} \\nage In stroke: {nonStroke.iloc[matchedIndices].matchAge.mean():.1f} \")"
   ]
  },
  {
   "cell_type": "markdown",
   "metadata": {},
   "source": [
    "### one case where it looks like we're slightly \"under\" what is i the published liiterature, buty we'r ein teh ballpark\n",
    "\n",
    "Young, K. C., Benesch, C. G., & Jahromi, B. S. (2010). Cost-effectiveness of multimodal CT for evaluating acute stroke. Neurology, 75(19), 1678–1685. http://doi.org/10.1212/WNL.0b013e3181fc2838"
   ]
  },
  {
   "cell_type": "code",
   "execution_count": 152,
   "metadata": {},
   "outputs": [
    {
     "name": "stdout",
     "output_type": "stream",
     "text": [
      "qalys in dementia: 4.4 \n",
      "qalys In control: 6.4 \n",
      "\n",
      "age in dementia: 80.2 \n",
      "age In control: 78.2 \n"
     ]
    }
   ],
   "source": [
    "df['matchAge'] = df['baseAge']\n",
    "df.loc[(df.incidentDementia==True),'matchAge'] = df.ageAtFirstDementia\n",
    "\n",
    "dementia = df.loc[df.incidentDementia==True]\n",
    "nonDementia = df.loc[df.incidentDementia==False]\n",
    "\n",
    "matchedIndices = get_matching_pairs(dementia[columns], nonDementia[columns])\n",
    "\n",
    "print(f\"qalys in dementia: {dementia.qalysPostDementia.mean():.1f} \\nqalys In control: {nonDementia.iloc[matchedIndices].qalysPostDementia.mean():.1f} \")\n",
    "print(f\"\\nage in dementia: {dementia.matchAge.mean():.1f} \\nage In control: {nonDementia.iloc[matchedIndices].matchAge.mean():.1f} \")"
   ]
  },
  {
   "cell_type": "markdown",
   "metadata": {},
   "source": [
    "### dementia numbers are also in teh ballpark...\n",
    "Green, C., Handels, R., Gustavsson, A., Wimo, A., Winblad, B., Sköldunger, A., & Jönsson, L. (2019). Assessing cost-effectiveness of early intervention in Alzheimer's disease: An open-source modeling framework. Alzheimer's & Dementia, 15(10), 1309–1321. http://doi.org/10.1016/j.jalz.2019.05.004"
   ]
  },
  {
   "cell_type": "code",
   "execution_count": null,
   "metadata": {},
   "outputs": [],
   "source": []
  }
 ],
 "metadata": {
  "kernelspec": {
   "display_name": "Python 3",
   "language": "python",
   "name": "python3"
  },
  "language_info": {
   "codemirror_mode": {
    "name": "ipython",
    "version": 3
   },
   "file_extension": ".py",
   "mimetype": "text/x-python",
   "name": "python",
   "nbconvert_exporter": "python",
   "pygments_lexer": "ipython3",
   "version": "3.7.4"
  }
 },
 "nbformat": 4,
 "nbformat_minor": 4
}
