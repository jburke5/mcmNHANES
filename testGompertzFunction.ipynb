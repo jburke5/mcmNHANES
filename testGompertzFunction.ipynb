{
 "cells": [
  {
   "cell_type": "code",
   "execution_count": 46,
   "metadata": {},
   "outputs": [],
   "source": [
    "import scipy.stats as stats\n",
    "import numpy as np\n",
    "import matplotlib.pyplot as plt"
   ]
  },
  {
   "cell_type": "code",
   "execution_count": 96,
   "metadata": {},
   "outputs": [],
   "source": [
    "# https://sundoc.bibliothek.uni-halle.de/habil-online/07/07H056/t3.pdf\n",
    "# https://www.rdocumentation.org/packages/flexsurv/versions/1.1.1/topics/Gompertz\n",
    "\n",
    "shape = 0.242891669 # alpha in the R docs, b i the  sundoc link\n",
    "rate = -10 # beta in the R docs, a in the sundoc link\n",
    "t = np.linspace(1, 50, 50)\n",
    "\n",
    "cumulativeHazard = np.exp(rate)/shape * (np.exp(shape*t)-1)\n",
    "hazard =  np.exp(rate) * np.exp(shape*t)"
   ]
  },
  {
   "cell_type": "code",
   "execution_count": 97,
   "metadata": {},
   "outputs": [
    {
     "data": {
      "text/plain": [
       "<matplotlib.collections.PathCollection at 0x7f94b7854250>"
      ]
     },
     "execution_count": 97,
     "metadata": {},
     "output_type": "execute_result"
    },
    {
     "data": {
      "image/png": "[encoded data removed]",
      "text/plain": [
       "<Figure size 432x288 with 1 Axes>"
      ]
     },
     "metadata": {
      "needs_background": "light"
     },
     "output_type": "display_data"
    }
   ],
   "source": [
    "plt.scatter(t, cumulativeHazard)"
   ]
  },
  {
   "cell_type": "code",
   "execution_count": 98,
   "metadata": {},
   "outputs": [
    {
     "data": {
      "text/plain": [
       "<matplotlib.collections.PathCollection at 0x7f94b78548d0>"
      ]
     },
     "execution_count": 98,
     "metadata": {},
     "output_type": "execute_result"
    },
    {
     "data": {
      "image/png": "[encoded data removed]",
      "text/plain": [
       "<Figure size 432x288 with 1 Axes>"
      ]
     },
     "metadata": {
      "needs_background": "light"
     },
     "output_type": "display_data"
    }
   ],
   "source": [
    "plt.scatter(t, hazard)"
   ]
  },
  {
   "cell_type": "code",
   "execution_count": 99,
   "metadata": {},
   "outputs": [
    {
     "data": {
      "text/plain": [
       "array([5.13884463e-05, 1.16905144e-04, 2.00434380e-04, 3.06928351e-04,\n",
       "       4.42700763e-04, 6.15801153e-04, 8.36492119e-04, 1.11785776e-03,\n",
       "       1.47657941e-03, 1.93392457e-03, 2.51700787e-03, 3.26039855e-03,\n",
       "       4.20817001e-03, 5.41651275e-03, 6.95706577e-03, 8.92116380e-03,\n",
       "       1.14252523e-02, 1.46177911e-02, 1.86880562e-02, 2.38773613e-02,\n",
       "       3.04933647e-02, 3.89283092e-02, 4.96822772e-02, 6.33928391e-02,\n",
       "       8.08728526e-02, 1.03158655e-01, 1.31571504e-01, 1.67795912e-01,\n",
       "       2.13979515e-01, 2.72860399e-01, 3.47929435e-01, 4.43637237e-01,\n",
       "       5.65658034e-01, 7.21226070e-01, 9.19564504e-01, 1.17243222e+00,\n",
       "       1.49482099e+00, 1.90584427e+00, 2.42987037e+00, 3.09796724e+00,\n",
       "       3.94974432e+00, 5.03570090e+00, 6.42022007e+00, 8.18538578e+00,\n",
       "       1.04358494e+01, 1.33050341e+01, 1.69630452e+01, 2.16267551e+01,\n",
       "       2.75726611e+01, 3.51532781e+01])"
      ]
     },
     "execution_count": 99,
     "metadata": {},
     "output_type": "execute_result"
    }
   ],
   "source": [
    "cumulativeHazard"
   ]
  },
  {
   "cell_type": "code",
   "execution_count": null,
   "metadata": {},
   "outputs": [],
   "source": []
  }
 ],
 "metadata": {
  "kernelspec": {
   "display_name": "Python 3",
   "language": "python",
   "name": "python3"
  },
  "language_info": {
   "codemirror_mode": {
    "name": "ipython",
    "version": 3
   },
   "file_extension": ".py",
   "mimetype": "text/x-python",
   "name": "python",
   "nbconvert_exporter": "python",
   "pygments_lexer": "ipython3",
   "version": "3.7.4"
  }
 },
 "nbformat": 4,
 "nbformat_minor": 4
}
