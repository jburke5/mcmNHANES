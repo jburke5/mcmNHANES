{
 "cells": [
  {
   "cell_type": "code",
   "execution_count": 1,
   "metadata": {},
   "outputs": [],
   "source": [
    "%load_ext autoreload\n",
    "%autoreload 2\n",
    "\n",
    "import pandas as pd\n",
    "import numpy as np\n",
    "import os\n",
    "import matplotlib.pyplot as plt\n",
    "\n",
    "pd.set_option('display.max_columns', None)\n",
    "\n",
    "imputedDataset = pd.read_stata(\"/Users/burke/Documents/research/bpCog/mcm/mcm/data/fullyImputedDataset.dta\")\n",
    "imputedDataset.head()\n",
    "noRecentUSInmigration = imputedDataset.loc[~imputedDataset.timeInUS.isin([1,2,3])]\n",
    "earlyCrossSectionOfNonImmigrants = noRecentUSInmigration.loc[noRecentUSInmigration.year==2001]\n",
    "# here we just need to throw out the very young people for comparisons\n",
    "earlyCrossSectionOfNonImmigrants = earlyCrossSectionOfNonImmigrants.loc[earlyCrossSectionOfNonImmigrants.age > 18 + 2]\n",
    "earlyCrossSectionOfNonImmigrants = earlyCrossSectionOfNonImmigrants.sample(n=len(earlyCrossSectionOfNonImmigrants), weights=earlyCrossSectionOfNonImmigrants.WTINT2YR, replace=True)"
   ]
  },
  {
   "cell_type": "code",
   "execution_count": 2,
   "metadata": {},
   "outputs": [
    {
     "data": {
      "text/plain": [
       "0    0.874492\n",
       "1    0.042242\n",
       "2    0.006296\n",
       "3    0.076970\n",
       "Name: ucod, dtype: float64"
      ]
     },
     "execution_count": 2,
     "metadata": {},
     "output_type": "execute_result"
    }
   ],
   "source": [
    "# on UCOD 1 = MI, 2=stroke, 3 = other cause of death\n",
    "earlyCrossSectionOfNonImmigrants.ucod.value_counts(normalize=True, sort=False)"
   ]
  },
  {
   "cell_type": "code",
   "execution_count": 15,
   "metadata": {},
   "outputs": [
    {
     "data": {
      "text/plain": [
       "count    4924.000000\n",
       "mean       46.984768\n",
       "std        16.756321\n",
       "min        21.000000\n",
       "25%        34.000000\n",
       "50%        45.000000\n",
       "75%        58.000000\n",
       "max        85.000000\n",
       "Name: age, dtype: float64"
      ]
     },
     "execution_count": 15,
     "metadata": {},
     "output_type": "execute_result"
    }
   ],
   "source": [
    "earlyCrossSectionOfNonImmigrants.age.describe()"
   ]
  },
  {
   "cell_type": "code",
   "execution_count": 3,
   "metadata": {},
   "outputs": [],
   "source": [
    "import os\n",
    "os.chdir(\"/Users/burke/Documents/research/bpCog/mcm\")\n",
    "from mcm.population import NHANESDirectSamplePopulation\n",
    "from mcm.outcome import OutcomeType\n",
    "\n",
    "pop = NHANESDirectSamplePopulation(n=10000, year=2001)\n",
    "pop.advance(10)"
   ]
  },
  {
   "cell_type": "code",
   "execution_count": 12,
   "metadata": {},
   "outputs": [],
   "source": [
    "popData = pd.DataFrame({\"index\" : pop._people.index, \n",
    "                    \"baseAge\" : [person._age[0] for person in pop._people],\n",
    "                    \"finalAge\" : [person._age[-1] for person in pop._people],\n",
    "                   'mi' : [person.has_mi_during_simulation() for person in pop._people], \n",
    "                   'stroke' : [person.has_stroke_during_simulation() for person in pop._people], \n",
    "                   'miAge' : [person._outcomes[OutcomeType.MI][0][0] if len(person._outcomes[OutcomeType.MI]) > 0 else -1 for person in pop._people],\n",
    "                   'strokeAge' : [person._outcomes[OutcomeType.STROKE][0][0] if len(person._outcomes[OutcomeType.STROKE]) > 0 else -1 for person in pop._people],\n",
    "                   'fatalStroke' : [person.has_fatal_stroke() for person in pop._people],\n",
    "                   'fatalMI' : [person.has_fatal_mi() for person in pop._people],\n",
    "\n",
    "                   'dead' : [person.is_dead()  for person in pop._people]})\n",
    "\n",
    "popData['age10'] = pd.qcut(popData.baseAge, 10, labels=False)\n",
    "popData['nonCVDeath'] = False\n",
    "popData.loc[((popData.dead) & (~popData.fatalStroke) & (~popData.fatalMI)), 'nonCVDeath'] = True\n"
   ]
  },
  {
   "cell_type": "code",
   "execution_count": 13,
   "metadata": {},
   "outputs": [
    {
     "data": {
      "text/html": [
       "<div>\n",
       "<style scoped>\n",
       "    .dataframe tbody tr th:only-of-type {\n",
       "        vertical-align: middle;\n",
       "    }\n",
       "\n",
       "    .dataframe tbody tr th {\n",
       "        vertical-align: top;\n",
       "    }\n",
       "\n",
       "    .dataframe thead th {\n",
       "        text-align: right;\n",
       "    }\n",
       "</style>\n",
       "<table border=\"1\" class=\"dataframe\">\n",
       "  <thead>\n",
       "    <tr style=\"text-align: right;\">\n",
       "      <th></th>\n",
       "      <th>baseAge</th>\n",
       "      <th>stroke</th>\n",
       "      <th>mi</th>\n",
       "      <th>dead</th>\n",
       "      <th>fatalStroke</th>\n",
       "      <th>fatalMI</th>\n",
       "      <th>nonCVDeath</th>\n",
       "    </tr>\n",
       "    <tr>\n",
       "      <th>age10</th>\n",
       "      <th></th>\n",
       "      <th></th>\n",
       "      <th></th>\n",
       "      <th></th>\n",
       "      <th></th>\n",
       "      <th></th>\n",
       "      <th></th>\n",
       "    </tr>\n",
       "  </thead>\n",
       "  <tbody>\n",
       "    <tr>\n",
       "      <th>0</th>\n",
       "      <td>21.071222</td>\n",
       "      <td>0.011550</td>\n",
       "      <td>0.045236</td>\n",
       "      <td>0.026949</td>\n",
       "      <td>0.003850</td>\n",
       "      <td>0.006737</td>\n",
       "      <td>0.016362</td>\n",
       "    </tr>\n",
       "    <tr>\n",
       "      <th>1</th>\n",
       "      <td>25.869565</td>\n",
       "      <td>0.009100</td>\n",
       "      <td>0.056623</td>\n",
       "      <td>0.040445</td>\n",
       "      <td>0.002022</td>\n",
       "      <td>0.013145</td>\n",
       "      <td>0.025278</td>\n",
       "    </tr>\n",
       "    <tr>\n",
       "      <th>2</th>\n",
       "      <td>31.498715</td>\n",
       "      <td>0.020566</td>\n",
       "      <td>0.076264</td>\n",
       "      <td>0.042845</td>\n",
       "      <td>0.005141</td>\n",
       "      <td>0.012853</td>\n",
       "      <td>0.024850</td>\n",
       "    </tr>\n",
       "    <tr>\n",
       "      <th>3</th>\n",
       "      <td>37.087634</td>\n",
       "      <td>0.047712</td>\n",
       "      <td>0.137293</td>\n",
       "      <td>0.058423</td>\n",
       "      <td>0.006816</td>\n",
       "      <td>0.022395</td>\n",
       "      <td>0.029211</td>\n",
       "    </tr>\n",
       "    <tr>\n",
       "      <th>4</th>\n",
       "      <td>41.522337</td>\n",
       "      <td>0.059565</td>\n",
       "      <td>0.160367</td>\n",
       "      <td>0.065292</td>\n",
       "      <td>0.013746</td>\n",
       "      <td>0.018328</td>\n",
       "      <td>0.033219</td>\n",
       "    </tr>\n",
       "    <tr>\n",
       "      <th>5</th>\n",
       "      <td>45.881897</td>\n",
       "      <td>0.072604</td>\n",
       "      <td>0.182962</td>\n",
       "      <td>0.081317</td>\n",
       "      <td>0.015489</td>\n",
       "      <td>0.013553</td>\n",
       "      <td>0.052275</td>\n",
       "    </tr>\n",
       "    <tr>\n",
       "      <th>6</th>\n",
       "      <td>50.926441</td>\n",
       "      <td>0.123260</td>\n",
       "      <td>0.248509</td>\n",
       "      <td>0.126243</td>\n",
       "      <td>0.021869</td>\n",
       "      <td>0.040755</td>\n",
       "      <td>0.063618</td>\n",
       "    </tr>\n",
       "    <tr>\n",
       "      <th>7</th>\n",
       "      <td>56.549618</td>\n",
       "      <td>0.183206</td>\n",
       "      <td>0.324973</td>\n",
       "      <td>0.186478</td>\n",
       "      <td>0.019629</td>\n",
       "      <td>0.059978</td>\n",
       "      <td>0.106870</td>\n",
       "    </tr>\n",
       "    <tr>\n",
       "      <th>8</th>\n",
       "      <td>66.066800</td>\n",
       "      <td>0.334995</td>\n",
       "      <td>0.382851</td>\n",
       "      <td>0.374875</td>\n",
       "      <td>0.058824</td>\n",
       "      <td>0.066800</td>\n",
       "      <td>0.249252</td>\n",
       "    </tr>\n",
       "    <tr>\n",
       "      <th>9</th>\n",
       "      <td>79.417548</td>\n",
       "      <td>0.508457</td>\n",
       "      <td>0.437632</td>\n",
       "      <td>0.761099</td>\n",
       "      <td>0.105708</td>\n",
       "      <td>0.071882</td>\n",
       "      <td>0.583510</td>\n",
       "    </tr>\n",
       "  </tbody>\n",
       "</table>\n",
       "</div>"
      ],
      "text/plain": [
       "         baseAge    stroke        mi      dead  fatalStroke   fatalMI  \\\n",
       "age10                                                                   \n",
       "0      21.071222  0.011550  0.045236  0.026949     0.003850  0.006737   \n",
       "1      25.869565  0.009100  0.056623  0.040445     0.002022  0.013145   \n",
       "2      31.498715  0.020566  0.076264  0.042845     0.005141  0.012853   \n",
       "3      37.087634  0.047712  0.137293  0.058423     0.006816  0.022395   \n",
       "4      41.522337  0.059565  0.160367  0.065292     0.013746  0.018328   \n",
       "5      45.881897  0.072604  0.182962  0.081317     0.015489  0.013553   \n",
       "6      50.926441  0.123260  0.248509  0.126243     0.021869  0.040755   \n",
       "7      56.549618  0.183206  0.324973  0.186478     0.019629  0.059978   \n",
       "8      66.066800  0.334995  0.382851  0.374875     0.058824  0.066800   \n",
       "9      79.417548  0.508457  0.437632  0.761099     0.105708  0.071882   \n",
       "\n",
       "       nonCVDeath  \n",
       "age10              \n",
       "0        0.016362  \n",
       "1        0.025278  \n",
       "2        0.024850  \n",
       "3        0.029211  \n",
       "4        0.033219  \n",
       "5        0.052275  \n",
       "6        0.063618  \n",
       "7        0.106870  \n",
       "8        0.249252  \n",
       "9        0.583510  "
      ]
     },
     "execution_count": 13,
     "metadata": {},
     "output_type": "execute_result"
    }
   ],
   "source": [
    "popData[['baseAge', 'stroke', 'mi', 'dead', 'age10', 'fatalStroke', 'fatalMI', 'nonCVDeath']].groupby('age10').mean()"
   ]
  },
  {
   "cell_type": "code",
   "execution_count": 14,
   "metadata": {},
   "outputs": [
    {
     "data": {
      "text/plain": [
       "baseAge        45.0453\n",
       "stroke          0.1330\n",
       "mi              0.2008\n",
       "dead            0.1713\n",
       "age10           4.4054\n",
       "fatalStroke     0.0246\n",
       "fatalMI         0.0319\n",
       "nonCVDeath      0.1148\n",
       "dtype: float64"
      ]
     },
     "execution_count": 14,
     "metadata": {},
     "output_type": "execute_result"
    }
   ],
   "source": [
    "popData[['baseAge', 'stroke', 'mi', 'dead', 'age10', 'fatalStroke', 'fatalMI', 'nonCVDeath']].mean()"
   ]
  },
  {
   "cell_type": "code",
   "execution_count": null,
   "metadata": {},
   "outputs": [],
   "source": []
  }
 ],
 "metadata": {
  "kernelspec": {
   "display_name": "Python 3",
   "language": "python",
   "name": "python3"
  },
  "language_info": {
   "codemirror_mode": {
    "name": "ipython",
    "version": 3
   },
   "file_extension": ".py",
   "mimetype": "text/x-python",
   "name": "python",
   "nbconvert_exporter": "python",
   "pygments_lexer": "ipython3",
   "version": "3.6.5"
  }
 },
 "nbformat": 4,
 "nbformat_minor": 2
}
