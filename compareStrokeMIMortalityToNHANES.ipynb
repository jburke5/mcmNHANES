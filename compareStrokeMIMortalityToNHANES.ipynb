{
 "cells": [
  {
   "cell_type": "code",
   "execution_count": 4,
   "metadata": {},
   "outputs": [
    {
     "name": "stdout",
     "output_type": "stream",
     "text": [
      "The autoreload extension is already loaded. To reload it, use:\n",
      "  %reload_ext autoreload\n"
     ]
    }
   ],
   "source": [
    "%load_ext autoreload\n",
    "%autoreload 2\n",
    "\n",
    "import pandas as pd\n",
    "import numpy as np\n",
    "import os\n",
    "import matplotlib.pyplot as plt\n",
    "\n",
    "pd.set_option('display.max_columns', None)\n",
    "\n",
    "imputedDataset = pd.read_stata(\"/Users/burke/Documents/microsim/microsim/data/fullyImputedDataset.dta\")\n",
    "imputedDataset.head()\n",
    "noRecentUSInmigration = imputedDataset.loc[~imputedDataset.timeInUS.isin([1,2,3])]\n",
    "earlyCrossSectionOfNonImmigrants = noRecentUSInmigration.loc[noRecentUSInmigration.year==2001]\n",
    "# here we just need to throw out the very young people for comparisons\n",
    "earlyCrossSectionOfNonImmigrants = earlyCrossSectionOfNonImmigrants.loc[earlyCrossSectionOfNonImmigrants.age > 18 + 2]\n",
    "earlyCrossSectionOfNonImmigrants = earlyCrossSectionOfNonImmigrants.sample(n=len(earlyCrossSectionOfNonImmigrants), weights=earlyCrossSectionOfNonImmigrants.WTINT2YR, replace=True)"
   ]
  },
  {
   "cell_type": "code",
   "execution_count": 5,
   "metadata": {},
   "outputs": [
    {
     "data": {
      "text/plain": [
       "0    0.876929\n",
       "1    0.041024\n",
       "2    0.005483\n",
       "3    0.076564\n",
       "Name: ucod, dtype: float64"
      ]
     },
     "execution_count": 5,
     "metadata": {},
     "output_type": "execute_result"
    }
   ],
   "source": [
    "# on UCOD 1 = MI, 2=stroke, 3 = other cause of death\n",
    "earlyCrossSectionOfNonImmigrants.ucod.value_counts(normalize=True, sort=False)"
   ]
  },
  {
   "cell_type": "code",
   "execution_count": null,
   "metadata": {},
   "outputs": [],
   "source": [
    "import os\n",
    "os.chdir(\"/Users/burke/Documents/research/bpCog/mcm\")\n",
    "from mcm.population import NHANESDirectSamplePopulation\n",
    "from mcm.outcome import OutcomeType\n",
    "\n",
    "pop = NHANESDirectSamplePopulation(n=10000, year=2001)\n",
    "pop.advance(10)"
   ]
  },
  {
   "cell_type": "code",
   "execution_count": null,
   "metadata": {},
   "outputs": [],
   "source": [
    "popData = pd.DataFrame({\"index\" : pop._people.index, \n",
    "                    \"baseAge\" : [person._age[0] for person in pop._people],\n",
    "                    \"finalAge\" : [person._age[-1] for person in pop._people],\n",
    "                   'mi' : [person.has_mi_during_simulation() for person in pop._people], \n",
    "                   'stroke' : [person.has_stroke_during_simulation() for person in pop._people], \n",
    "                   'miAge' : [person._outcomes[OutcomeType.MI][0][0] if len(person._outcomes[OutcomeType.MI]) > 0 else -1 for person in pop._people],\n",
    "                   'strokeAge' : [person._outcomes[OutcomeType.STROKE][0][0] if len(person._outcomes[OutcomeType.STROKE]) > 0 else -1 for person in pop._people],\n",
    "                   'fatalStroke' : [person.has_fatal_stroke() for person in pop._people],\n",
    "                   'fatalMI' : [person.has_fatal_mi() for person in pop._people],\n",
    "\n",
    "                   'dead' : [person.is_dead()  for person in pop._people]})\n",
    "\n",
    "popData['age10'] = pd.qcut(popData.baseAge, 10, labels=False)\n",
    "popData['nonCVDeath'] = False\n",
    "popData.loc[((popData.dead) & (~popData.fatalStroke) & (~popData.fatalMI)), 'nonCVDeath'] = True\n",
    "\n",
    "popData['cvDeath'] = False\n",
    "popData.loc[((popData.dead) & (popData.fatalStroke) | (popData.fatalMI)), 'cvDeath'] = True\n",
    "\n"
   ]
  },
  {
   "cell_type": "code",
   "execution_count": null,
   "metadata": {},
   "outputs": [],
   "source": [
    "popData[['baseAge', 'stroke', 'mi', 'dead', 'age10', 'fatalStroke', 'fatalMI', 'nonCVDeath', 'cvDeath']].groupby('age10').mean()"
   ]
  },
  {
   "cell_type": "code",
   "execution_count": null,
   "metadata": {},
   "outputs": [],
   "source": [
    "popData[['baseAge', 'stroke', 'mi', 'dead', 'age10', 'fatalStroke', 'fatalMI', 'nonCVDeath']].mean()"
   ]
  },
  {
   "cell_type": "code",
   "execution_count": null,
   "metadata": {},
   "outputs": [],
   "source": []
  },
  {
   "cell_type": "code",
   "execution_count": null,
   "metadata": {},
   "outputs": [],
   "source": []
  }
 ],
 "metadata": {
  "kernelspec": {
   "display_name": "Python 3",
   "language": "python",
   "name": "python3"
  },
  "language_info": {
   "codemirror_mode": {
    "name": "ipython",
    "version": 3
   },
   "file_extension": ".py",
   "mimetype": "text/x-python",
   "name": "python",
   "nbconvert_exporter": "python",
   "pygments_lexer": "ipython3",
   "version": "3.7.4"
  }
 },
 "nbformat": 4,
 "nbformat_minor": 2
}
