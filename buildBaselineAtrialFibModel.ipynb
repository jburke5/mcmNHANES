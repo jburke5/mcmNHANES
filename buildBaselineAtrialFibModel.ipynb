{
 "cells": [
  {
   "cell_type": "markdown",
   "metadata": {},
   "source": [
    "### The Idea for this model is that a. fib is NOT present in NHANES. The best we can do is to infer its presence. So, here, we will use the first wave of the cohrot models to build a baseline model to predict a. fib. \n"
   ]
  },
  {
   "cell_type": "code",
   "execution_count": 100,
   "metadata": {},
   "outputs": [],
   "source": [
    "import pandas as pd\n",
    "import numpy as np\n",
    "\n",
    "cohort = pd.read_stata(\"/Users/burke/Documents/research/bpCog/meds.dta\")\n",
    "cohort = cohort[['newid', 'visitcounter', 'sbp', 'dbp', 'bmi', 'trig', 'smokestatus', 'choltot', 'cholhdl', 'cholldl', \n",
    "                 'age0', 'female0', 'educ0', 'racebpcog', 'hba1c', 'glucosef', 'afibslfrep', 'Hxafib', 'afibinc']]\n",
    "\n",
    "cohort['newid'] = cohort['newid'].str[2:]\n",
    "cohort['newid'] = cohort['newid'].str[:-1]\n",
    "\n",
    "cohort['anyAfib'] = cohort.index.isin(cohort.loc[(cohort.afibslfrep==1) |  (cohort.Hxafib == 1) | (cohort.afibinc == 1)].index)\n",
    "cohort.drop(labels=['afibslfrep', 'Hxafib', 'afibinc'], inplace=True, axis='columns')\n",
    "\n",
    "cohort = cohort.assign(id=(cohort['newid']).astype('category').cat.codes)\n",
    "cohort.drop(labels=['newid'], axis='columns', inplace=True)"
   ]
  },
  {
   "cell_type": "code",
   "execution_count": 101,
   "metadata": {},
   "outputs": [],
   "source": [
    "cohort.rename(columns={'smokestatus' : 'smokingStatus', 'choltot' : 'totChol',\n",
    "                      \"cholhdl\" : 'hdl', 'cholldl' : 'ldl', 'age0' : 'age', 'female0' : 'gender', 'educ0' : 'educ',\n",
    "                      'hba1c' : 'a1c', 'racebpcog' : 'raceEthnicity'}, inplace=True)\n",
    "\n",
    "cohort.gender.replace(to_replace=[0,1], value=[1, 2], inplace=True)\n",
    "# have to compress \"hispanic\" to \"other hispanic\" and no representation for mexican american in BP Cog\n",
    "cohort.raceEthnicity.replace(to_replace=[1,2,3,9], value=[4,3,2,5], inplace=True)"
   ]
  },
  {
   "cell_type": "code",
   "execution_count": 102,
   "metadata": {},
   "outputs": [],
   "source": [
    "firstVisitOnly = cohort.loc[cohort.visitcounter ==1]"
   ]
  },
  {
   "cell_type": "code",
   "execution_count": 103,
   "metadata": {},
   "outputs": [],
   "source": [
    "allFactorsImputation = [\"a1c\", \"hdl\", \"totChol\", \"bmi\", \"dbp\", \"sbp\", \"ldl\", \"trig\", \"glucosef\"]\n",
    "\n",
    "\n",
    "firstVisitOnly = pd.concat([firstVisitOnly, pd.get_dummies(firstVisitOnly['raceEthnicity'], prefix=\"raceEth\")], axis=1)\n",
    "firstVisitOnly = pd.concat([firstVisitOnly, pd.get_dummies(firstVisitOnly['smokingStatus'], prefix=\"smoke\")], axis=1)\n",
    "firstVisitOnly.drop(['visitcounter', 'smokingStatus', 'raceEthnicity', 'educ'], axis='columns', inplace=True)\n",
    "\n",
    "firstVisitOnly.rename(columns={'raceEth_2.0' : 'raceEth2', 'raceEth_3.0' : 'raceEth3', 'raceEth_4.0' : 'raceEth4',\n",
    "                        'raceEth_5.0' : 'raceEth5', 'smoke_0.0' : 'smoke0', 'smoke_1.0' : 'smoke1' , \n",
    "                       'smoke_2.0' : 'smoke2'  }, inplace=True)\n"
   ]
  },
  {
   "cell_type": "code",
   "execution_count": 104,
   "metadata": {},
   "outputs": [
    {
     "name": "stderr",
     "output_type": "stream",
     "text": [
      "/anaconda3/lib/python3.6/site-packages/pandas/core/indexing.py:189: SettingWithCopyWarning: \n",
      "A value is trying to be set on a copy of a slice from a DataFrame\n",
      "\n",
      "See the caveats in the documentation: http://pandas.pydata.org/pandas-docs/stable/indexing.html#indexing-view-versus-copy\n",
      "  self._setitem_with_indexer(indexer, value)\n"
     ]
    }
   ],
   "source": [
    "import statsmodels.imputation.mice as mice\n",
    "\n",
    "def getFormulaForVariable(var):\n",
    "    cols = list(firstVisitOnly.columns)\n",
    "    cols.remove(var)\n",
    "    colStrings = [col + \"+\"for col in cols]\n",
    "    return \"\".join(colStrings)[:-1]\n",
    "    \n",
    "imputedCohort = mice.MICEData(firstVisitOnly)\n",
    "binaryVars = ['smoke0', 'smoke1', 'smoke2', 'raceEth_2', 'raceEth_3', 'raceEth_4', 'raceEth_5']\n",
    "for var in binaryVars:\n",
    "    imputedCohort.set_imputer(var, formula=getFormulaForVariable(var), model_class=\"logit\")\n",
    "imputedCohort.update_all(20)"
   ]
  },
  {
   "cell_type": "code",
   "execution_count": 105,
   "metadata": {},
   "outputs": [],
   "source": [
    "imputedData = imputedCohort.data.copy()\n",
    "\n",
    "# rebvuild categoricals\n",
    "imputedData['smokingStatus'] = imputedData[['smoke0', 'smoke1', 'smoke2']].idxmax(axis=1)\n",
    "imputedData['smokingStatus'] = imputedData['smokingStatus'].str[-1:]\n",
    "imputedData['raceEthnicity'] = imputedData[['raceEth_2', 'raceEth_3', 'raceEth_4', 'raceEth_5']].idxmax(axis=1)\n",
    "imputedData['raceEthnicity'] = imputedData['raceEthnicity'].str[-1:]\n",
    "\n"
   ]
  },
  {
   "cell_type": "code",
   "execution_count": 106,
   "metadata": {},
   "outputs": [],
   "source": [
    "# drop the dummies\n",
    "imputedData.drop(['smoke0', 'smoke1','smoke2'], axis='columns', inplace=True)\n",
    "imputedData.drop(['raceEth_2', 'raceEth_3','raceEth_3', 'raceEth_4', 'raceEth_5'], axis='columns', inplace=True)\n"
   ]
  },
  {
   "cell_type": "code",
   "execution_count": 107,
   "metadata": {},
   "outputs": [],
   "source": [
    "imputedData.raceEthnicity= imputedData.raceEthnicity.astype('category')\n",
    "imputedData.smokingStatus= imputedData.smokingStatus.astype('category')\n",
    "imputedData.sort_values(by=['id', 'age'], inplace=True)"
   ]
  },
  {
   "cell_type": "code",
   "execution_count": 108,
   "metadata": {},
   "outputs": [
    {
     "data": {
      "text/html": [
       "<div>\n",
       "<style scoped>\n",
       "    .dataframe tbody tr th:only-of-type {\n",
       "        vertical-align: middle;\n",
       "    }\n",
       "\n",
       "    .dataframe tbody tr th {\n",
       "        vertical-align: top;\n",
       "    }\n",
       "\n",
       "    .dataframe thead th {\n",
       "        text-align: right;\n",
       "    }\n",
       "</style>\n",
       "<table border=\"1\" class=\"dataframe\">\n",
       "  <thead>\n",
       "    <tr style=\"text-align: right;\">\n",
       "      <th></th>\n",
       "      <th>sbp</th>\n",
       "      <th>dbp</th>\n",
       "      <th>bmi</th>\n",
       "      <th>trig</th>\n",
       "      <th>totChol</th>\n",
       "      <th>hdl</th>\n",
       "      <th>ldl</th>\n",
       "      <th>age</th>\n",
       "      <th>gender</th>\n",
       "      <th>a1c</th>\n",
       "      <th>glucosef</th>\n",
       "      <th>anyAfib</th>\n",
       "      <th>id</th>\n",
       "      <th>smokingStatus</th>\n",
       "      <th>raceEthnicity</th>\n",
       "    </tr>\n",
       "  </thead>\n",
       "  <tbody>\n",
       "    <tr>\n",
       "      <th>908</th>\n",
       "      <td>126.7</td>\n",
       "      <td>76.7</td>\n",
       "      <td>29.196743</td>\n",
       "      <td>135.0</td>\n",
       "      <td>215.0</td>\n",
       "      <td>40.0</td>\n",
       "      <td>148.000</td>\n",
       "      <td>29</td>\n",
       "      <td>2</td>\n",
       "      <td>6.6</td>\n",
       "      <td>86.0</td>\n",
       "      <td>False</td>\n",
       "      <td>0</td>\n",
       "      <td>0</td>\n",
       "      <td>4</td>\n",
       "    </tr>\n",
       "    <tr>\n",
       "      <th>36132</th>\n",
       "      <td>152.0</td>\n",
       "      <td>102.7</td>\n",
       "      <td>29.640689</td>\n",
       "      <td>90.0</td>\n",
       "      <td>128.0</td>\n",
       "      <td>22.0</td>\n",
       "      <td>88.000</td>\n",
       "      <td>54</td>\n",
       "      <td>1</td>\n",
       "      <td>8.2</td>\n",
       "      <td>87.0</td>\n",
       "      <td>False</td>\n",
       "      <td>1</td>\n",
       "      <td>2</td>\n",
       "      <td>3</td>\n",
       "    </tr>\n",
       "    <tr>\n",
       "      <th>10795</th>\n",
       "      <td>135.3</td>\n",
       "      <td>107.3</td>\n",
       "      <td>37.576373</td>\n",
       "      <td>195.0</td>\n",
       "      <td>183.0</td>\n",
       "      <td>34.0</td>\n",
       "      <td>110.000</td>\n",
       "      <td>30</td>\n",
       "      <td>2</td>\n",
       "      <td>5.6</td>\n",
       "      <td>92.0</td>\n",
       "      <td>False</td>\n",
       "      <td>2</td>\n",
       "      <td>2</td>\n",
       "      <td>3</td>\n",
       "    </tr>\n",
       "    <tr>\n",
       "      <th>30689</th>\n",
       "      <td>147.0</td>\n",
       "      <td>100.0</td>\n",
       "      <td>35.388487</td>\n",
       "      <td>102.0</td>\n",
       "      <td>146.0</td>\n",
       "      <td>20.0</td>\n",
       "      <td>105.020</td>\n",
       "      <td>56</td>\n",
       "      <td>2</td>\n",
       "      <td>4.8</td>\n",
       "      <td>73.0</td>\n",
       "      <td>False</td>\n",
       "      <td>3</td>\n",
       "      <td>1</td>\n",
       "      <td>4</td>\n",
       "    </tr>\n",
       "    <tr>\n",
       "      <th>29333</th>\n",
       "      <td>192.0</td>\n",
       "      <td>112.0</td>\n",
       "      <td>30.314982</td>\n",
       "      <td>68.0</td>\n",
       "      <td>207.0</td>\n",
       "      <td>39.0</td>\n",
       "      <td>154.554</td>\n",
       "      <td>51</td>\n",
       "      <td>2</td>\n",
       "      <td>6.4</td>\n",
       "      <td>116.0</td>\n",
       "      <td>False</td>\n",
       "      <td>4</td>\n",
       "      <td>2</td>\n",
       "      <td>4</td>\n",
       "    </tr>\n",
       "  </tbody>\n",
       "</table>\n",
       "</div>"
      ],
      "text/plain": [
       "         sbp    dbp        bmi   trig  totChol   hdl      ldl  age  gender  \\\n",
       "908    126.7   76.7  29.196743  135.0    215.0  40.0  148.000   29       2   \n",
       "36132  152.0  102.7  29.640689   90.0    128.0  22.0   88.000   54       1   \n",
       "10795  135.3  107.3  37.576373  195.0    183.0  34.0  110.000   30       2   \n",
       "30689  147.0  100.0  35.388487  102.0    146.0  20.0  105.020   56       2   \n",
       "29333  192.0  112.0  30.314982   68.0    207.0  39.0  154.554   51       2   \n",
       "\n",
       "       a1c  glucosef  anyAfib  id smokingStatus raceEthnicity  \n",
       "908    6.6      86.0    False   0             0             4  \n",
       "36132  8.2      87.0    False   1             2             3  \n",
       "10795  5.6      92.0    False   2             2             3  \n",
       "30689  4.8      73.0    False   3             1             4  \n",
       "29333  6.4     116.0    False   4             2             4  "
      ]
     },
     "execution_count": 108,
     "metadata": {},
     "output_type": "execute_result"
    }
   ],
   "source": [
    "imputedData.head()"
   ]
  },
  {
   "cell_type": "code",
   "execution_count": 126,
   "metadata": {},
   "outputs": [],
   "source": [
    "import statsmodels.formula.api as statsmodel\n",
    "import sys\n",
    "import os\n",
    "sys.path.append(os.path.abspath(\"../mcm/\"))\n",
    "from mcm.regression_model import RegressionModel\n",
    "\n",
    "imputedData['anyAfib'] = imputedData['anyAfib'].astype(int)\n",
    "\n",
    "model = statsmodel.ols(formula='anyAfib ~ sbp + dbp + bmi + trig + totChol + hdl + ldl + age + gender + a1c + glucosef + smokingStatus + raceEthnicity', data=imputedData)\n",
    "results = model.fit()\n",
    "results.summary()\n",
    "mcmRegressionModel = RegressionModel(results.params.to_dict(), results.bse.to_dict(), results.resid.mean(), results.resid.std())\n",
    "mcmRegressionModel.write_json(os.path.abspath(\"../mcm/mcm/data/BaselineAFibModelSpec.json\"))"
   ]
  },
  {
   "cell_type": "markdown",
   "metadata": {},
   "source": [
    "### left off here _ next step is to add the baseline a-fib model into the population code..probably in the NHANESDirectSample __init__ method after loading the nhanes population from data...then apply this model to add a. fib in"
   ]
  },
  {
   "cell_type": "code",
   "execution_count": null,
   "metadata": {},
   "outputs": [],
   "source": []
  }
 ],
 "metadata": {
  "kernelspec": {
   "display_name": "Python 3",
   "language": "python",
   "name": "python3"
  },
  "language_info": {
   "codemirror_mode": {
    "name": "ipython",
    "version": 3
   },
   "file_extension": ".py",
   "mimetype": "text/x-python",
   "name": "python",
   "nbconvert_exporter": "python",
   "pygments_lexer": "ipython3",
   "version": "3.6.5"
  }
 },
 "nbformat": 4,
 "nbformat_minor": 2
}
