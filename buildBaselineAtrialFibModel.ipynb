{
 "cells": [
  {
   "cell_type": "markdown",
   "metadata": {},
   "source": [
    "### The Idea for this model is that a. fib is NOT present in NHANES. The best we can do is to infer its presence. So, here, we will use the first wave of the cohrot models to build a baseline model to predict a. fib. \n"
   ]
  },
  {
   "cell_type": "code",
   "execution_count": 1,
   "metadata": {},
   "outputs": [],
   "source": [
    "import pandas as pd\n",
    "import numpy as np\n",
    "\n",
    "\n",
    "cohort = pd.read_stata(\"/Users/burke/Documents/research/bpCog/meds.dta\")\n",
    "cohort = cohort[['newid', 'visitcounter', 'sbp', 'dbp', 'bmi', 'trig', 'smokestatus', 'choltot', 'cholhdl', 'cholldl', \n",
    "                 'age0', 'female0', 'educ0', 'racebpcog', 'hba1c', 'glucosef', 'afibslfrep', 'Hxafib', 'afibinc',\n",
    "                'educ0', 'physact', 'waistcm']]\n",
    "\n",
    "cohort['newid'] = cohort['newid'].str[2:]\n",
    "cohort['newid'] = cohort['newid'].str[:-1]\n",
    "\n",
    "cohort['anyAfib'] = cohort.index.isin(cohort.loc[(cohort.afibslfrep==1) |  (cohort.Hxafib == 1) | (cohort.afibinc == 1)].index)\n",
    "cohort.drop(labels=['afibslfrep', 'Hxafib', 'afibinc'], inplace=True, axis='columns')\n",
    "\n",
    "cohort = cohort.assign(id=(cohort['newid']).astype('category').cat.codes)\n",
    "cohort.drop(labels=['newid'], axis='columns', inplace=True)\n",
    "cohort = cohort.loc[:,~cohort.columns.duplicated()]"
   ]
  },
  {
   "cell_type": "code",
   "execution_count": 2,
   "metadata": {},
   "outputs": [
    {
     "data": {
      "text/html": [
       "<div>\n",
       "<style scoped>\n",
       "    .dataframe tbody tr th:only-of-type {\n",
       "        vertical-align: middle;\n",
       "    }\n",
       "\n",
       "    .dataframe tbody tr th {\n",
       "        vertical-align: top;\n",
       "    }\n",
       "\n",
       "    .dataframe thead th {\n",
       "        text-align: right;\n",
       "    }\n",
       "</style>\n",
       "<table border=\"1\" class=\"dataframe\">\n",
       "  <thead>\n",
       "    <tr style=\"text-align: right;\">\n",
       "      <th></th>\n",
       "      <th>visitcounter</th>\n",
       "      <th>sbp</th>\n",
       "      <th>dbp</th>\n",
       "      <th>bmi</th>\n",
       "      <th>trig</th>\n",
       "      <th>smokestatus</th>\n",
       "      <th>choltot</th>\n",
       "      <th>cholhdl</th>\n",
       "      <th>cholldl</th>\n",
       "      <th>age0</th>\n",
       "      <th>female0</th>\n",
       "      <th>educ0</th>\n",
       "      <th>racebpcog</th>\n",
       "      <th>hba1c</th>\n",
       "      <th>glucosef</th>\n",
       "      <th>physact</th>\n",
       "      <th>waistcm</th>\n",
       "      <th>anyAfib</th>\n",
       "      <th>id</th>\n",
       "    </tr>\n",
       "  </thead>\n",
       "  <tbody>\n",
       "    <tr>\n",
       "      <th>0</th>\n",
       "      <td>1</td>\n",
       "      <td>154.0</td>\n",
       "      <td>122.0</td>\n",
       "      <td>24.030790</td>\n",
       "      <td>80.0</td>\n",
       "      <td>2.0</td>\n",
       "      <td>161.0</td>\n",
       "      <td>40.0</td>\n",
       "      <td>105.0</td>\n",
       "      <td>22</td>\n",
       "      <td>0</td>\n",
       "      <td>3.0</td>\n",
       "      <td>2</td>\n",
       "      <td>NaN</td>\n",
       "      <td>108.000000</td>\n",
       "      <td>1.0</td>\n",
       "      <td>86.00</td>\n",
       "      <td>False</td>\n",
       "      <td>70</td>\n",
       "    </tr>\n",
       "    <tr>\n",
       "      <th>1</th>\n",
       "      <td>2</td>\n",
       "      <td>126.7</td>\n",
       "      <td>97.3</td>\n",
       "      <td>23.599523</td>\n",
       "      <td>88.0</td>\n",
       "      <td>2.0</td>\n",
       "      <td>151.0</td>\n",
       "      <td>46.0</td>\n",
       "      <td>88.0</td>\n",
       "      <td>22</td>\n",
       "      <td>0</td>\n",
       "      <td>3.0</td>\n",
       "      <td>2</td>\n",
       "      <td>NaN</td>\n",
       "      <td>NaN</td>\n",
       "      <td>1.0</td>\n",
       "      <td>78.25</td>\n",
       "      <td>False</td>\n",
       "      <td>70</td>\n",
       "    </tr>\n",
       "    <tr>\n",
       "      <th>2</th>\n",
       "      <td>3</td>\n",
       "      <td>134.0</td>\n",
       "      <td>92.7</td>\n",
       "      <td>25.823186</td>\n",
       "      <td>147.0</td>\n",
       "      <td>2.0</td>\n",
       "      <td>186.0</td>\n",
       "      <td>38.0</td>\n",
       "      <td>119.0</td>\n",
       "      <td>22</td>\n",
       "      <td>0</td>\n",
       "      <td>3.0</td>\n",
       "      <td>2</td>\n",
       "      <td>NaN</td>\n",
       "      <td>NaN</td>\n",
       "      <td>1.0</td>\n",
       "      <td>90.50</td>\n",
       "      <td>False</td>\n",
       "      <td>70</td>\n",
       "    </tr>\n",
       "    <tr>\n",
       "      <th>3</th>\n",
       "      <td>4</td>\n",
       "      <td>119.3</td>\n",
       "      <td>69.3</td>\n",
       "      <td>26.320689</td>\n",
       "      <td>147.0</td>\n",
       "      <td>2.0</td>\n",
       "      <td>200.0</td>\n",
       "      <td>48.0</td>\n",
       "      <td>123.0</td>\n",
       "      <td>22</td>\n",
       "      <td>0</td>\n",
       "      <td>3.0</td>\n",
       "      <td>2</td>\n",
       "      <td>5.7</td>\n",
       "      <td>116.038199</td>\n",
       "      <td>1.0</td>\n",
       "      <td>90.50</td>\n",
       "      <td>False</td>\n",
       "      <td>70</td>\n",
       "    </tr>\n",
       "    <tr>\n",
       "      <th>4</th>\n",
       "      <td>1</td>\n",
       "      <td>142.7</td>\n",
       "      <td>110.7</td>\n",
       "      <td>21.707538</td>\n",
       "      <td>69.0</td>\n",
       "      <td>1.0</td>\n",
       "      <td>198.0</td>\n",
       "      <td>59.0</td>\n",
       "      <td>125.0</td>\n",
       "      <td>30</td>\n",
       "      <td>0</td>\n",
       "      <td>5.0</td>\n",
       "      <td>2</td>\n",
       "      <td>NaN</td>\n",
       "      <td>93.000000</td>\n",
       "      <td>1.0</td>\n",
       "      <td>80.00</td>\n",
       "      <td>False</td>\n",
       "      <td>109</td>\n",
       "    </tr>\n",
       "  </tbody>\n",
       "</table>\n",
       "</div>"
      ],
      "text/plain": [
       "   visitcounter    sbp    dbp        bmi   trig  smokestatus  choltot  \\\n",
       "0             1  154.0  122.0  24.030790   80.0          2.0    161.0   \n",
       "1             2  126.7   97.3  23.599523   88.0          2.0    151.0   \n",
       "2             3  134.0   92.7  25.823186  147.0          2.0    186.0   \n",
       "3             4  119.3   69.3  26.320689  147.0          2.0    200.0   \n",
       "4             1  142.7  110.7  21.707538   69.0          1.0    198.0   \n",
       "\n",
       "   cholhdl  cholldl  age0  female0  educ0  racebpcog  hba1c    glucosef  \\\n",
       "0     40.0    105.0    22        0    3.0          2    NaN  108.000000   \n",
       "1     46.0     88.0    22        0    3.0          2    NaN         NaN   \n",
       "2     38.0    119.0    22        0    3.0          2    NaN         NaN   \n",
       "3     48.0    123.0    22        0    3.0          2    5.7  116.038199   \n",
       "4     59.0    125.0    30        0    5.0          2    NaN   93.000000   \n",
       "\n",
       "   physact  waistcm  anyAfib   id  \n",
       "0      1.0    86.00    False   70  \n",
       "1      1.0    78.25    False   70  \n",
       "2      1.0    90.50    False   70  \n",
       "3      1.0    90.50    False   70  \n",
       "4      1.0    80.00    False  109  "
      ]
     },
     "execution_count": 2,
     "metadata": {},
     "output_type": "execute_result"
    }
   ],
   "source": [
    "cohort.head()"
   ]
  },
  {
   "cell_type": "code",
   "execution_count": 3,
   "metadata": {},
   "outputs": [],
   "source": [
    "cohort.rename(columns={'smokestatus' : 'smokingStatus', 'choltot' : 'totChol',\n",
    "                      \"cholhdl\" : 'hdl', 'cholldl' : 'ldl', 'age0' : 'age', 'female0' : 'gender', 'educ0' : 'education',\n",
    "                      'hba1c' : 'a1c', 'racebpcog' : 'raceEthnicity', 'waistcm' : 'waist', 'physact' : 'anyPhysicalActivity'}, inplace=True)\n",
    "\n",
    "cohort.gender.replace(to_replace=[0,1], value=[1, 2], inplace=True)\n",
    "# have to compress \"hispanic\" to \"other hispanic\" and no representation for mexican american in BP Cog\n",
    "cohort.raceEthnicity.replace(to_replace=[1,2,3,9], value=[4,3,2,5], inplace=True)\n",
    "# have to see if we need to make changes to education..."
   ]
  },
  {
   "cell_type": "markdown",
   "metadata": {},
   "source": [
    "### we're trying to build a model for baseline a. fib...so, just going to focus in on the initial visit"
   ]
  },
  {
   "cell_type": "code",
   "execution_count": 4,
   "metadata": {},
   "outputs": [],
   "source": [
    "firstVisitOnly = cohort.loc[cohort.visitcounter ==1]"
   ]
  },
  {
   "cell_type": "code",
   "execution_count": 5,
   "metadata": {},
   "outputs": [
    {
     "data": {
      "text/plain": [
       "False    0.990166\n",
       "True     0.009834\n",
       "Name: anyAfib, dtype: float64"
      ]
     },
     "execution_count": 5,
     "metadata": {},
     "output_type": "execute_result"
    }
   ],
   "source": [
    "firstVisitOnly.anyAfib.value_counts(dropna=False, normalize=True)"
   ]
  },
  {
   "cell_type": "code",
   "execution_count": 6,
   "metadata": {},
   "outputs": [],
   "source": [
    "allFactorsImputation = [\"a1c\", \"hdl\", \"totChol\", \"bmi\", \"dbp\", \"sbp\", \"ldl\", \"trig\", \"glucosef\", 'waist', 'anyPhysicalActivity']\n",
    "\n",
    "\n",
    "firstVisitOnly = pd.concat([firstVisitOnly, pd.get_dummies(firstVisitOnly['raceEthnicity'], prefix=\"raceEth\")], axis=1)\n",
    "firstVisitOnly = pd.concat([firstVisitOnly, pd.get_dummies(firstVisitOnly['smokingStatus'], prefix=\"smoke\")], axis=1)\n",
    "firstVisitOnly = pd.concat([firstVisitOnly, pd.get_dummies(firstVisitOnly['education'], prefix=\"educ\")], axis=1)\n",
    "\n",
    "firstVisitOnly.drop(['visitcounter', 'smokingStatus', 'raceEthnicity', 'education'], axis='columns', inplace=True)\n",
    "\n",
    "firstVisitOnly.rename(columns={'raceEth_2' : 'raceEth2', 'raceEth_3' : 'raceEth3', 'raceEth_4' : 'raceEth4',\n",
    "                        'raceEth_5' : 'raceEth5', 'smoke_0.0' : 'smoke0', 'smoke_1.0' : 'smoke1' , \n",
    "                       'smoke_2.0' : 'smoke2', 'educ_1.0' : 'educ1', 'educ_2.0' : 'educ2', 'educ_3.0' : 'educ3',\n",
    "                              'educ_4.0' : 'educ4', 'educ_5.0' : 'educ5'}, inplace=True)\n"
   ]
  },
  {
   "cell_type": "code",
   "execution_count": 7,
   "metadata": {},
   "outputs": [
    {
     "name": "stderr",
     "output_type": "stream",
     "text": [
      "/anaconda3/lib/python3.6/site-packages/pandas/core/indexing.py:189: SettingWithCopyWarning: \n",
      "A value is trying to be set on a copy of a slice from a DataFrame\n",
      "\n",
      "See the caveats in the documentation: http://pandas.pydata.org/pandas-docs/stable/indexing.html#indexing-view-versus-copy\n",
      "  self._setitem_with_indexer(indexer, value)\n"
     ]
    }
   ],
   "source": [
    "import statsmodels.imputation.mice as mice\n",
    "\n",
    "def getFormulaForVariable(var):\n",
    "    cols = list(firstVisitOnly.columns)\n",
    "    cols.remove(var)\n",
    "    colStrings = [col + \"+\"for col in cols]\n",
    "    return \"\".join(colStrings)[:-1]\n",
    "    \n",
    "imputedCohort = mice.MICEData(firstVisitOnly)\n",
    "binaryVars = ['smoke0', 'smoke1', 'smoke2',  'raceEth2', 'raceEth3', 'raceEth4', 'raceEth5', \n",
    "              'educ1', 'educ2', 'educ3', 'educ4', 'educ5']\n",
    "for var in binaryVars:\n",
    "    imputedCohort.set_imputer(var, formula=getFormulaForVariable(var), model_class=\"logit\")\n",
    "imputedCohort.update_all(20)"
   ]
  },
  {
   "cell_type": "code",
   "execution_count": 8,
   "metadata": {},
   "outputs": [],
   "source": [
    "imputedData = imputedCohort.data.copy()\n",
    "\n",
    "# rebvuild categoricals\n",
    "imputedData['smokingStatus'] = imputedData[['smoke0', 'smoke1', 'smoke2']].idxmax(axis=1)\n",
    "imputedData['smokingStatus'] = imputedData['smokingStatus'].str[-1:]\n",
    "imputedData['raceEthnicity'] = imputedData[['raceEth2', 'raceEth3', 'raceEth4', 'raceEth5']].idxmax(axis=1)\n",
    "imputedData['raceEthnicity'] = imputedData['raceEthnicity'].str[-1:]\n",
    "imputedData['education'] = imputedData[['educ1', 'educ2', 'educ3', 'educ4', 'educ5']].idxmax(axis=1)\n",
    "imputedData['education'] = imputedData['raceEthnicity'].str[-1:]"
   ]
  },
  {
   "cell_type": "code",
   "execution_count": 9,
   "metadata": {},
   "outputs": [],
   "source": [
    "# drop the dummies\n",
    "imputedData.drop(['smoke0', 'smoke1','smoke2'], axis='columns', inplace=True)\n",
    "imputedData.drop(['raceEth2','raceEth3', 'raceEth4', 'raceEth5'], axis='columns', inplace=True)\n",
    "imputedData.drop(['educ1', 'educ2','educ3', 'educ4', 'educ5'], axis='columns', inplace=True)"
   ]
  },
  {
   "cell_type": "code",
   "execution_count": 10,
   "metadata": {},
   "outputs": [],
   "source": [
    "imputedData.raceEthnicity= imputedData.raceEthnicity.astype('category')\n",
    "imputedData.smokingStatus= imputedData.smokingStatus.astype('category')\n",
    "imputedData.education= imputedData.education.astype('category')\n",
    "\n",
    "imputedData.sort_values(by=['id', 'age'], inplace=True)"
   ]
  },
  {
   "cell_type": "code",
   "execution_count": 11,
   "metadata": {},
   "outputs": [
    {
     "name": "stdout",
     "output_type": "stream",
     "text": [
      "Optimization terminated successfully.\n",
      "         Current function value: 0.045705\n",
      "         Iterations 10\n"
     ]
    }
   ],
   "source": [
    "import statsmodels.formula.api as statsmodel\n",
    "import sys\n",
    "import os\n",
    "sys.path.append(os.path.abspath(\"../mcm/\"))\n",
    "from mcm.regression_model import RegressionModel\n",
    "\n",
    "imputedData['anyAfib'] = imputedData['anyAfib'].astype(int)\n",
    "# note...dropping race from the model because it leads to convergence issues and it does not have \n",
    "# predictiveness independently of age and sex...\n",
    "\n",
    "model = statsmodel.logit(formula='anyAfib ~ sbp + dbp + bmi + trig + totChol + hdl + ldl + age + gender + a1c + waist + anyPhysicalActivity + smokingStatus  + education', data=imputedData)\n",
    "results = model.fit()\n",
    "results.summary()\n",
    "mcmRegressionModel = RegressionModel(results.params.to_dict(), results.bse.to_dict(), None, None)\n",
    "mcmRegressionModel.write_json(os.path.abspath(\"../mcm/mcm/data/BaselineAFibModelSpec.json\"))"
   ]
  },
  {
   "cell_type": "markdown",
   "metadata": {},
   "source": [
    "### left off here _ next step is to add the baseline a-fib model into the population code..probably in the NHANESDirectSample __init__ method after loading the nhanes population from data...then apply this model to add a. fib in"
   ]
  },
  {
   "cell_type": "code",
   "execution_count": 12,
   "metadata": {},
   "outputs": [
    {
     "data": {
      "text/html": [
       "<table class=\"simpletable\">\n",
       "<caption>Logit Regression Results</caption>\n",
       "<tr>\n",
       "  <th>Dep. Variable:</th>      <td>anyAfib</td>     <th>  No. Observations:  </th>   <td> 40268</td>  \n",
       "</tr>\n",
       "<tr>\n",
       "  <th>Model:</th>               <td>Logit</td>      <th>  Df Residuals:      </th>   <td> 40250</td>  \n",
       "</tr>\n",
       "<tr>\n",
       "  <th>Method:</th>               <td>MLE</td>       <th>  Df Model:          </th>   <td>    17</td>  \n",
       "</tr>\n",
       "<tr>\n",
       "  <th>Date:</th>          <td>Tue, 02 Jul 2019</td> <th>  Pseudo R-squ.:     </th>   <td>0.1726</td>  \n",
       "</tr>\n",
       "<tr>\n",
       "  <th>Time:</th>              <td>20:20:25</td>     <th>  Log-Likelihood:    </th>  <td> -1840.4</td> \n",
       "</tr>\n",
       "<tr>\n",
       "  <th>converged:</th>           <td>True</td>       <th>  LL-Null:           </th>  <td> -2224.3</td> \n",
       "</tr>\n",
       "<tr>\n",
       "  <th> </th>                      <td> </td>        <th>  LLR p-value:       </th> <td>3.343e-152</td>\n",
       "</tr>\n",
       "</table>\n",
       "<table class=\"simpletable\">\n",
       "<tr>\n",
       "           <td></td>              <th>coef</th>     <th>std err</th>      <th>z</th>      <th>P>|z|</th>  <th>[0.025</th>    <th>0.975]</th>  \n",
       "</tr>\n",
       "<tr>\n",
       "  <th>Intercept</th>           <td>  -10.4787</td> <td>    0.850</td> <td>  -12.333</td> <td> 0.000</td> <td>  -12.144</td> <td>   -8.813</td>\n",
       "</tr>\n",
       "<tr>\n",
       "  <th>smokingStatus[T.1]</th>  <td>    0.0518</td> <td>    0.115</td> <td>    0.452</td> <td> 0.651</td> <td>   -0.173</td> <td>    0.277</td>\n",
       "</tr>\n",
       "<tr>\n",
       "  <th>smokingStatus[T.2]</th>  <td>   -0.0007</td> <td>    0.178</td> <td>   -0.004</td> <td> 0.997</td> <td>   -0.349</td> <td>    0.348</td>\n",
       "</tr>\n",
       "<tr>\n",
       "  <th>education[T.3]</th>      <td>    0.8575</td> <td>    0.219</td> <td>    3.918</td> <td> 0.000</td> <td>    0.429</td> <td>    1.286</td>\n",
       "</tr>\n",
       "<tr>\n",
       "  <th>education[T.4]</th>      <td>    0.4965</td> <td>    0.225</td> <td>    2.205</td> <td> 0.027</td> <td>    0.055</td> <td>    0.938</td>\n",
       "</tr>\n",
       "<tr>\n",
       "  <th>education[T.5]</th>      <td>    0.6913</td> <td>    0.340</td> <td>    2.035</td> <td> 0.042</td> <td>    0.025</td> <td>    1.357</td>\n",
       "</tr>\n",
       "<tr>\n",
       "  <th>sbp</th>                 <td>   -0.0050</td> <td>    0.003</td> <td>   -1.637</td> <td> 0.102</td> <td>   -0.011</td> <td>    0.001</td>\n",
       "</tr>\n",
       "<tr>\n",
       "  <th>dbp</th>                 <td>    0.0044</td> <td>    0.005</td> <td>    0.826</td> <td> 0.409</td> <td>   -0.006</td> <td>    0.015</td>\n",
       "</tr>\n",
       "<tr>\n",
       "  <th>bmi</th>                 <td>    0.0787</td> <td>    0.018</td> <td>    4.301</td> <td> 0.000</td> <td>    0.043</td> <td>    0.115</td>\n",
       "</tr>\n",
       "<tr>\n",
       "  <th>trig</th>                <td>   -0.0137</td> <td>    0.014</td> <td>   -0.983</td> <td> 0.326</td> <td>   -0.041</td> <td>    0.014</td>\n",
       "</tr>\n",
       "<tr>\n",
       "  <th>totChol</th>             <td>    0.0670</td> <td>    0.070</td> <td>    0.951</td> <td> 0.341</td> <td>   -0.071</td> <td>    0.205</td>\n",
       "</tr>\n",
       "<tr>\n",
       "  <th>hdl</th>                 <td>   -0.0717</td> <td>    0.070</td> <td>   -1.021</td> <td> 0.307</td> <td>   -0.209</td> <td>    0.066</td>\n",
       "</tr>\n",
       "<tr>\n",
       "  <th>ldl</th>                 <td>   -0.0764</td> <td>    0.071</td> <td>   -1.083</td> <td> 0.279</td> <td>   -0.215</td> <td>    0.062</td>\n",
       "</tr>\n",
       "<tr>\n",
       "  <th>age</th>                 <td>    0.1116</td> <td>    0.006</td> <td>   18.979</td> <td> 0.000</td> <td>    0.100</td> <td>    0.123</td>\n",
       "</tr>\n",
       "<tr>\n",
       "  <th>gender</th>              <td>   -0.3202</td> <td>    0.121</td> <td>   -2.651</td> <td> 0.008</td> <td>   -0.557</td> <td>   -0.083</td>\n",
       "</tr>\n",
       "<tr>\n",
       "  <th>a1c</th>                 <td>    0.1003</td> <td>    0.021</td> <td>    4.682</td> <td> 0.000</td> <td>    0.058</td> <td>    0.142</td>\n",
       "</tr>\n",
       "<tr>\n",
       "  <th>waist</th>               <td>   -0.0255</td> <td>    0.007</td> <td>   -3.628</td> <td> 0.000</td> <td>   -0.039</td> <td>   -0.012</td>\n",
       "</tr>\n",
       "<tr>\n",
       "  <th>anyPhysicalActivity</th> <td>   -0.3642</td> <td>    0.129</td> <td>   -2.819</td> <td> 0.005</td> <td>   -0.617</td> <td>   -0.111</td>\n",
       "</tr>\n",
       "</table>"
      ],
      "text/plain": [
       "<class 'statsmodels.iolib.summary.Summary'>\n",
       "\"\"\"\n",
       "                           Logit Regression Results                           \n",
       "==============================================================================\n",
       "Dep. Variable:                anyAfib   No. Observations:                40268\n",
       "Model:                          Logit   Df Residuals:                    40250\n",
       "Method:                           MLE   Df Model:                           17\n",
       "Date:                Tue, 02 Jul 2019   Pseudo R-squ.:                  0.1726\n",
       "Time:                        20:20:25   Log-Likelihood:                -1840.4\n",
       "converged:                       True   LL-Null:                       -2224.3\n",
       "                                        LLR p-value:                3.343e-152\n",
       "=======================================================================================\n",
       "                          coef    std err          z      P>|z|      [0.025      0.975]\n",
       "---------------------------------------------------------------------------------------\n",
       "Intercept             -10.4787      0.850    -12.333      0.000     -12.144      -8.813\n",
       "smokingStatus[T.1]      0.0518      0.115      0.452      0.651      -0.173       0.277\n",
       "smokingStatus[T.2]     -0.0007      0.178     -0.004      0.997      -0.349       0.348\n",
       "education[T.3]          0.8575      0.219      3.918      0.000       0.429       1.286\n",
       "education[T.4]          0.4965      0.225      2.205      0.027       0.055       0.938\n",
       "education[T.5]          0.6913      0.340      2.035      0.042       0.025       1.357\n",
       "sbp                    -0.0050      0.003     -1.637      0.102      -0.011       0.001\n",
       "dbp                     0.0044      0.005      0.826      0.409      -0.006       0.015\n",
       "bmi                     0.0787      0.018      4.301      0.000       0.043       0.115\n",
       "trig                   -0.0137      0.014     -0.983      0.326      -0.041       0.014\n",
       "totChol                 0.0670      0.070      0.951      0.341      -0.071       0.205\n",
       "hdl                    -0.0717      0.070     -1.021      0.307      -0.209       0.066\n",
       "ldl                    -0.0764      0.071     -1.083      0.279      -0.215       0.062\n",
       "age                     0.1116      0.006     18.979      0.000       0.100       0.123\n",
       "gender                 -0.3202      0.121     -2.651      0.008      -0.557      -0.083\n",
       "a1c                     0.1003      0.021      4.682      0.000       0.058       0.142\n",
       "waist                  -0.0255      0.007     -3.628      0.000      -0.039      -0.012\n",
       "anyPhysicalActivity    -0.3642      0.129     -2.819      0.005      -0.617      -0.111\n",
       "=======================================================================================\n",
       "\"\"\""
      ]
     },
     "execution_count": 12,
     "metadata": {},
     "output_type": "execute_result"
    }
   ],
   "source": [
    "results.summary()"
   ]
  },
  {
   "cell_type": "code",
   "execution_count": 13,
   "metadata": {},
   "outputs": [
    {
     "data": {
      "text/plain": [
       "0.009834111453263166"
      ]
     },
     "execution_count": 13,
     "metadata": {},
     "output_type": "execute_result"
    }
   ],
   "source": [
    "pd.Series(results.predict()).mean()"
   ]
  },
  {
   "cell_type": "code",
   "execution_count": 14,
   "metadata": {},
   "outputs": [],
   "source": [
    "import sys\n",
    "import os\n",
    "sys.path.append(os.path.abspath(\"../mcm/\"))\n",
    "\n",
    "\n",
    "from mcm.population import NHANESDirectSamplePopulation\n",
    "os.chdir(\"/Users/burke/Documents/research/bpCog/mcm/\")\n",
    "\n",
    "pop = NHANESDirectSamplePopulation(10000, 1999)"
   ]
  },
  {
   "cell_type": "code",
   "execution_count": 15,
   "metadata": {},
   "outputs": [],
   "source": [
    "from mcm.person import Person\n",
    "import json\n",
    "from mcm.statsmodel_logistic_risk_factor_model import StatsModelLogisticRiskFactorModel\n",
    "from mcm.race_ethnicity import NHANESRaceEthnicity\n",
    "from mcm.smoking_status import SmokingStatus\n",
    "from mcm.education import Education\n",
    "\n",
    "def initializeAFib(person):\n",
    "    #abs_module_path = os.path.abspath(os.path.dirname(__file__))\n",
    "    model_spec_path = os.path.normpath(os.path.join(\"/Users/burke/Documents/research/bpCog/mcm/mcm/data/\",\n",
    "                                                        \"BaselineAFibModel\" + \"Spec.json\"))\n",
    "    with open(model_spec_path, 'r') as model_spec_file:\n",
    "        model_spec = json.load(model_spec_file)\n",
    "    model = RegressionModel(**model_spec)\n",
    "    statsModel = StatsModelLogisticRiskFactorModel(model)\n",
    "    return statsModel.estimate_next_risk(person)\n",
    "\n",
    "tempPeople = [Person(row['age'], row['gender'], NHANESRaceEthnicity(int(row['raceEthnicity'])), row['sbp'], row['dbp'], row['a1c'],\n",
    "                    row['hdl'], row['totChol'], row['bmi'], row['ldl'], row['trig'],\n",
    "                    row['waist'], row['anyPhysicalActivity'], Education(int(row['education'])), SmokingStatus(int(row['smokingStatus'])),\n",
    "                    initializeAFib) for index, row in imputedData.iterrows()]"
   ]
  }
 ],
 "metadata": {
  "kernelspec": {
   "display_name": "Python 3",
   "language": "python",
   "name": "python3"
  },
  "language_info": {
   "codemirror_mode": {
    "name": "ipython",
    "version": 3
   },
   "file_extension": ".py",
   "mimetype": "text/x-python",
   "name": "python",
   "nbconvert_exporter": "python",
   "pygments_lexer": "ipython3",
   "version": "3.6.5"
  }
 },
 "nbformat": 4,
 "nbformat_minor": 2
}
