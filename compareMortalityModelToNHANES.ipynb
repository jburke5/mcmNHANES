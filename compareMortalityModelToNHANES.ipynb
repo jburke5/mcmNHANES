{
 "cells": [
  {
   "cell_type": "code",
   "execution_count": 1,
   "metadata": {},
   "outputs": [],
   "source": [
    "%load_ext autoreload\n",
    "%autoreload 2\n",
    "\n",
    "import pandas as pd\n",
    "import numpy as np\n",
    "import os\n",
    "import matplotlib.pyplot as plt\n",
    "\n",
    "pd.set_option('display.max_columns', None)\n",
    "\n",
    "imputedDataset = pd.read_stata(\"/Users/burke/Documents/research/bpCog/mcm/mcm/data/fullyImputedDataset.dta\")\n",
    "imputedDataset.head()\n",
    "noRecentUSInmigration = imputedDataset.loc[~imputedDataset.timeInUS.isin([1,2,3])]\n",
    "earlyCrossSectionOfNonImmigrants = noRecentUSInmigration.loc[noRecentUSInmigration.year==2001]\n",
    "# here we just need to throw out the very young people for comparisons\n",
    "earlyCrossSectionOfNonImmigrants = earlyCrossSectionOfNonImmigrants.loc[earlyCrossSectionOfNonImmigrants.age > 18 + 2]\n",
    "\n",
    "earlyCrossSectionOfNonImmigrants['strokeDeath'] = np.where(((earlyCrossSectionOfNonImmigrants.diedBy2015.values == 1) & (earlyCrossSectionOfNonImmigrants.ucod.values==2)), 1, 0)\n",
    "earlyCrossSectionOfNonImmigrants['miDeath'] = np.where(((earlyCrossSectionOfNonImmigrants.diedBy2015.values == 1) & (earlyCrossSectionOfNonImmigrants.ucod.values==1)), 1, 0)\n",
    "earlyCrossSectionOfNonImmigrants['cvDeath'] = np.where(((earlyCrossSectionOfNonImmigrants.strokeDeath.values == 1) | (earlyCrossSectionOfNonImmigrants.miDeath.values==1)), 1, 0)\n",
    "earlyCrossSectionOfNonImmigrants['nonCVDeath'] = np.where(((earlyCrossSectionOfNonImmigrants.diedBy2015 ==1) & (earlyCrossSectionOfNonImmigrants.strokeDeath.values == 0) & (earlyCrossSectionOfNonImmigrants.miDeath.values==0)), 1, 0)\n",
    "earlyCrossSectionOfNonImmigrants = earlyCrossSectionOfNonImmigrants.sample(n=50000, weights=earlyCrossSectionOfNonImmigrants.WTINT2YR, replace=True)"
   ]
  },
  {
   "cell_type": "code",
   "execution_count": 2,
   "metadata": {},
   "outputs": [],
   "source": [
    "import os\n",
    "os.chdir(\"/Users/burke/Documents/research/bpCog/mcm\")\n",
    "from mcm.outcome import OutcomeType\n",
    "from mcm.population import NHANESDirectSamplePopulation\n",
    "\n",
    "pop = NHANESDirectSamplePopulation(n=100000, year=2001) # start the sim in 2001"
   ]
  },
  {
   "cell_type": "code",
   "execution_count": 3,
   "metadata": {},
   "outputs": [],
   "source": [
    "popSurvival = pd.DataFrame({\"index\" : pop._people.index, \"baseAge\" : [person._age[0] for person in pop._people]} )\n",
    "popSurvival['ageDecile'] = pd.qcut(popSurvival.baseAge, 10)\n",
    "popSurvival['priorStroke'] = [person._stroke for person in pop._people]\n",
    "popSurvival['priorMI'] = [person._mi for person in pop._people]\n",
    "\n",
    "\n",
    "#rjn the sim forward for 14 years to sync up with NHANES population\n",
    "for year in range(1,15):\n",
    "    pop.advance(1)\n",
    "    popSurvival['dead' + str(year)] = [person.is_dead() for person in pop._people]\n",
    "    popSurvival['cvDeath' + str(year)] = [person.has_fatal_stroke() or person.has_fatal_mi() for person in pop._people]\n",
    "    popSurvival['strokeDeath' + str(year)] = [person.has_fatal_stroke() for person in pop._people]\n",
    "    popSurvival['miDeath' + str(year)] = [person.has_fatal_mi() for person in pop._people]\n",
    "    popSurvival['nonCVDeath' + str(year)] = [person.is_dead() and (person.has_fatal_stroke() ==False) and (person.has_fatal_mi() == False) for person in pop._people]\n",
    "    popSurvival['cvDeath' + str(year)] = [person.is_dead() and (person.has_fatal_stroke() ==True) or (person.has_fatal_mi() == True) for person in pop._people]\n",
    "    "
   ]
  },
  {
   "cell_type": "code",
   "execution_count": 4,
   "metadata": {},
   "outputs": [
    {
     "name": "stderr",
     "output_type": "stream",
     "text": [
      "/anaconda3/lib/python3.6/site-packages/pandas/core/frame.py:3778: SettingWithCopyWarning: \n",
      "A value is trying to be set on a copy of a slice from a DataFrame\n",
      "\n",
      "See the caveats in the documentation: http://pandas.pydata.org/pandas-docs/stable/indexing.html#indexing-view-versus-copy\n",
      "  return super(DataFrame, self).rename(**kwargs)\n",
      "/anaconda3/lib/python3.6/site-packages/pandas/core/indexing.py:543: SettingWithCopyWarning: \n",
      "A value is trying to be set on a copy of a slice from a DataFrame.\n",
      "Try using .loc[row_indexer,col_indexer] = value instead\n",
      "\n",
      "See the caveats in the documentation: http://pandas.pydata.org/pandas-docs/stable/indexing.html#indexing-view-versus-copy\n",
      "  self.obj[item] = s\n",
      "/Users/burke/Documents/research/bpCog/mcm/mcm/population.py:175: SettingWithCopyWarning: \n",
      "A value is trying to be set on a copy of a slice from a DataFrame.\n",
      "Try using .loc[row_indexer,col_indexer] = value instead\n",
      "\n",
      "See the caveats in the documentation: http://pandas.pydata.org/pandas-docs/stable/indexing.html#indexing-view-versus-copy\n",
      "  peopleDF['ageGroup'] = (peopleDF['age'] // 5) + 1\n",
      "/Users/burke/Documents/research/bpCog/mcm/mcm/population.py:176: SettingWithCopyWarning: \n",
      "A value is trying to be set on a copy of a slice from a DataFrame.\n",
      "Try using .loc[row_indexer,col_indexer] = value instead\n",
      "\n",
      "See the caveats in the documentation: http://pandas.pydata.org/pandas-docs/stable/indexing.html#indexing-view-versus-copy\n",
      "  peopleDF['ageGroup'] = peopleDF['ageGroup'].astype(int)\n"
     ]
    },
    {
     "name": "stdout",
     "output_type": "stream",
     "text": [
      "MI Incidence:  259.59115733080324\n",
      "event count: 3803.0\n",
      "Stroke Incidence: 159.45628246909874\n",
      "event count: 2563.0 \n"
     ]
    }
   ],
   "source": [
    "from mcm.outcome import OutcomeType\n",
    "miIncidence = pop.calculate_mean_age_sex_standardized_incidence(OutcomeType.MI, 2000)\n",
    "print(f\"MI Incidence:  {miIncidence[0]}\\nevent count: {miIncidence[1]}\")\n",
    "\n",
    "strokeIncidence = pop.calculate_mean_age_sex_standardized_incidence(OutcomeType.STROKE, 2000)\n",
    "print(f\"Stroke Incidence: {strokeIncidence[0]}\\nevent count: {strokeIncidence[1]} \")"
   ]
  },
  {
   "cell_type": "code",
   "execution_count": 5,
   "metadata": {},
   "outputs": [
    {
     "name": "stderr",
     "output_type": "stream",
     "text": [
      "/anaconda3/lib/python3.6/site-packages/pandas/core/frame.py:3778: SettingWithCopyWarning: \n",
      "A value is trying to be set on a copy of a slice from a DataFrame\n",
      "\n",
      "See the caveats in the documentation: http://pandas.pydata.org/pandas-docs/stable/indexing.html#indexing-view-versus-copy\n",
      "  return super(DataFrame, self).rename(**kwargs)\n",
      "/anaconda3/lib/python3.6/site-packages/pandas/core/indexing.py:543: SettingWithCopyWarning: \n",
      "A value is trying to be set on a copy of a slice from a DataFrame.\n",
      "Try using .loc[row_indexer,col_indexer] = value instead\n",
      "\n",
      "See the caveats in the documentation: http://pandas.pydata.org/pandas-docs/stable/indexing.html#indexing-view-versus-copy\n",
      "  self.obj[item] = s\n",
      "/Users/burke/Documents/research/bpCog/mcm/mcm/population.py:175: SettingWithCopyWarning: \n",
      "A value is trying to be set on a copy of a slice from a DataFrame.\n",
      "Try using .loc[row_indexer,col_indexer] = value instead\n",
      "\n",
      "See the caveats in the documentation: http://pandas.pydata.org/pandas-docs/stable/indexing.html#indexing-view-versus-copy\n",
      "  peopleDF['ageGroup'] = (peopleDF['age'] // 5) + 1\n",
      "/Users/burke/Documents/research/bpCog/mcm/mcm/population.py:176: SettingWithCopyWarning: \n",
      "A value is trying to be set on a copy of a slice from a DataFrame.\n",
      "Try using .loc[row_indexer,col_indexer] = value instead\n",
      "\n",
      "See the caveats in the documentation: http://pandas.pydata.org/pandas-docs/stable/indexing.html#indexing-view-versus-copy\n",
      "  peopleDF['ageGroup'] = peopleDF['ageGroup'].astype(int)\n"
     ]
    },
    {
     "name": "stdout",
     "output_type": "stream",
     "text": [
      "White Stroke Incidence:  131.1133045283657 \n",
      "event count: 1733.0\n",
      "Black Stroke Incidence:  252.28427077893113 \n",
      "event count: 337.0\n"
     ]
    }
   ],
   "source": [
    "### Incideence by race\n",
    "from mcm.race_ethnicity import NHANESRaceEthnicity\n",
    "def isBlack(person):\n",
    "    return person._raceEthnicity == NHANESRaceEthnicity.NON_HISPANIC_BLACK\n",
    "\n",
    "def isBlackDF(person):\n",
    "    return person.raceEthnicity == NHANESRaceEthnicity.NON_HISPANIC_BLACK\n",
    "\n",
    "def isWhite(person):\n",
    "    return person._raceEthnicity == NHANESRaceEthnicity.NON_HISPANIC_WHITE\n",
    "\n",
    "def isWhiteDF(person):\n",
    "    return person.raceEthnicity == NHANESRaceEthnicity.NON_HISPANIC_WHITE\n",
    "\n",
    "\n",
    "whiteIncidence = pop.calculate_mean_age_sex_standardized_incidence(OutcomeType.STROKE, 2000, isWhite, isWhiteDF)\n",
    "print(f\"White Stroke Incidence:  {whiteIncidence[0]} \\nevent count: {whiteIncidence[1]}\")\n",
    "blackIncidence = pop.calculate_mean_age_sex_standardized_incidence(OutcomeType.STROKE, 2000, isBlack, isBlackDF)\n",
    "print(f\"Black Stroke Incidence:  {blackIncidence[0]} \\nevent count: {blackIncidence[1]}\")\n"
   ]
  },
  {
   "cell_type": "code",
   "execution_count": 6,
   "metadata": {},
   "outputs": [
    {
     "name": "stderr",
     "output_type": "stream",
     "text": [
      "/anaconda3/lib/python3.6/site-packages/pandas/core/frame.py:3778: SettingWithCopyWarning: \n",
      "A value is trying to be set on a copy of a slice from a DataFrame\n",
      "\n",
      "See the caveats in the documentation: http://pandas.pydata.org/pandas-docs/stable/indexing.html#indexing-view-versus-copy\n",
      "  return super(DataFrame, self).rename(**kwargs)\n",
      "/anaconda3/lib/python3.6/site-packages/pandas/core/indexing.py:543: SettingWithCopyWarning: \n",
      "A value is trying to be set on a copy of a slice from a DataFrame.\n",
      "Try using .loc[row_indexer,col_indexer] = value instead\n",
      "\n",
      "See the caveats in the documentation: http://pandas.pydata.org/pandas-docs/stable/indexing.html#indexing-view-versus-copy\n",
      "  self.obj[item] = s\n",
      "/Users/burke/Documents/research/bpCog/mcm/mcm/population.py:175: SettingWithCopyWarning: \n",
      "A value is trying to be set on a copy of a slice from a DataFrame.\n",
      "Try using .loc[row_indexer,col_indexer] = value instead\n",
      "\n",
      "See the caveats in the documentation: http://pandas.pydata.org/pandas-docs/stable/indexing.html#indexing-view-versus-copy\n",
      "  peopleDF['ageGroup'] = (peopleDF['age'] // 5) + 1\n",
      "/Users/burke/Documents/research/bpCog/mcm/mcm/population.py:176: SettingWithCopyWarning: \n",
      "A value is trying to be set on a copy of a slice from a DataFrame.\n",
      "Try using .loc[row_indexer,col_indexer] = value instead\n",
      "\n",
      "See the caveats in the documentation: http://pandas.pydata.org/pandas-docs/stable/indexing.html#indexing-view-versus-copy\n",
      "  peopleDF['ageGroup'] = peopleDF['ageGroup'].astype(int)\n"
     ]
    },
    {
     "name": "stdout",
     "output_type": "stream",
     "text": [
      "Secondary MI Incidence: 185.82247357383284 \n",
      "event count: 139.0\n",
      "Primary MI Incidence:  273.92685381218433 \n",
      "event count: 3664.0\n",
      "Secondary Stroke Incidence:  120.60182428294002 \n",
      "event count: 182.0\n",
      "Primary Stroke Incidence:  169.0764467201248 \n",
      "event count: 2381.0\n"
     ]
    }
   ],
   "source": [
    "### Incideence by primvary vs. seconeary status...\n",
    "def hasCVEvent(person):\n",
    "    return person.has_stroke_prior_to_simulation() or person.has_mi_prior_to_simulation()\n",
    "\n",
    "def hasCVEventDF(person):\n",
    "    return person.miPriorToSim or person.strokePriorToSim\n",
    "\n",
    "secondaryMIIncidence = pop.calculate_mean_age_sex_standardized_incidence(OutcomeType.MI, 2000, hasCVEvent,hasCVEventDF )\n",
    "print(f\"Secondary MI Incidence: {secondaryMIIncidence[0]} \\nevent count: {secondaryMIIncidence[1]}\")\n",
    "\n",
    "### Incideence by primvary vs. seconeary status...\n",
    "def noCVEvent(person):\n",
    "    return (not person.has_stroke_prior_to_simulation()) and (not person.has_mi_prior_to_simulation())\n",
    "\n",
    "def noCVEventDF(person):\n",
    "    return (not person.miPriorToSim) and (not person.strokePriorToSim)\n",
    "\n",
    "primaryMiIncidence = pop.calculate_mean_age_sex_standardized_incidence(OutcomeType.MI, 2000, noCVEvent, noCVEventDF)\n",
    "print(f\"Primary MI Incidence:  {primaryMiIncidence[0]} \\nevent count: {primaryMiIncidence[1]}\")\n",
    "\n",
    "secondaryStrokeIncidence = pop.calculate_mean_age_sex_standardized_incidence(OutcomeType.STROKE, 2000, hasCVEvent,hasCVEventDF)\n",
    "print(f\"Secondary Stroke Incidence:  {secondaryStrokeIncidence[0]} \\nevent count: {secondaryStrokeIncidence[1]}\")\n",
    "\n",
    "primaryStrokeIncidence = pop.calculate_mean_age_sex_standardized_incidence(OutcomeType.STROKE, 2000, noCVEvent,noCVEventDF)\n",
    "print(f\"Primary Stroke Incidence:  {primaryStrokeIncidence[0]} \\nevent count: {primaryStrokeIncidence[1]}\")\n",
    "\n"
   ]
  },
  {
   "cell_type": "code",
   "execution_count": 22,
   "metadata": {},
   "outputs": [
    {
     "data": {
      "text/plain": [
       "0    95099\n",
       "1     4901\n",
       "Name: cvEvent, dtype: int64"
      ]
     },
     "execution_count": 22,
     "metadata": {},
     "output_type": "execute_result"
    }
   ],
   "source": [
    "df = pop.get_people_current_state_as_dataframe()\n",
    "df['cvEvent'] = 0\n",
    "df.loc[(df.miPriorToSim==1) | (df.strokePriorToSim==1), 'cvEvent']=1\n",
    "df.cvEvent.value_counts()"
   ]
  },
  {
   "cell_type": "code",
   "execution_count": 16,
   "metadata": {},
   "outputs": [],
   "source": [
    "### OK...evertyiung looks really great _ except for the difference bewteen primary and secondary prevention...\n",
    "# the primary vs. secondary patients by self report in NAHNES look as you'd expect...but, the event rates don't hold up in the sim...where incidence goes in teh wrong direction.\n",
    "# however...the event rates, aren't tha tbad. so, for MI 139 events/4901 patients = 2.8% event rate\n",
    "# vs. 3.8% event rate kn those that don't have events.\n",
    "\n",
    "# my guess is that this has something to do with event counting...that peopel that have an event prior to the sim aren't getting calcualted correctly because they ahve more than one event in their outcomes data structure\n"
   ]
  },
  {
   "cell_type": "code",
   "execution_count": 21,
   "metadata": {},
   "outputs": [
    {
     "data": {
      "text/plain": [
       "0    95099\n",
       "1     4901\n",
       "Name: cvEvent, dtype: int64"
      ]
     },
     "execution_count": 21,
     "metadata": {},
     "output_type": "execute_result"
    }
   ],
   "source": []
  },
  {
   "cell_type": "markdown",
   "metadata": {},
   "source": [
    "### MI incidence should be a around 200/100k (assuming that yeh underestiamtes because its in kaiser and primary prevention only)\n",
    "— aroudn 175 in PhD, K. R., MD, A. S. G., MPH, T. K. L., RPh, D. M. B. P., PhD, A. E. C.-B., MD, S. P. F., et al. (2017). Trends in Incidence of Hospitalized Acute Myocardial Infarction in the Cardiovascular Research Network (CVRN). The American Journal of Medicine, 130(3), 317–327. http://doi.org/10.1016/j.amjmed.2016.09.014\n",
    "— around 200 in Yeh, R. W., Sidney, S., Chandra, M., Sorel, M., Selby, J. V., & Go, A. S. (2010). Population trends in the incidence and outcomes of acute myocardial infarction. The New England Journal of Medicine, 362(23), 2155–2165. http://doi.org/10.1056/NEJMoa0908610\n",
    "\n",
    "### Stroke incidence is harder to pin down — ranges from 130-300+\n",
    "— aroudn 130 in Morgenstern, L. B., Smith, M. A., Sánchez, B. N., Brown, D. L., Zahuranec, D. B., Garcia, N., et al. (2013). Persistent ischemic stroke disparities despite declining incidence in Mexican Americans. Annals of Neurology, 74(6), 778–785. http://doi.org/10.1002/ana.23972\n",
    "— around 200 in Kleindorfer, D. O., Khoury, J., Moomaw, C. J., Alwell, K., Woo, D., Flaherty, M. L., et al. (2010). Stroke Incidence Is Decreasing in Whites But Not in Blacks: A Population-Based Estimate of Temporal Trends in Stroke Incidence From the Greater Cincinnati/Northern Kentucky Stroke Study * Supplemental Material, 41(7), 1326–1331. http://doi.org/10.1161/STROKEAHA.109.575043\n",
    "— appears to be much higher in REGARDS< (460) and then summarize rates from 100-480! Howard, V. J., Kleindorfer, D. O., Judd, S. E., Mcclure, L. A., Safford, M. M., Rhodes, J. D., et al. (2011). Disparities in stroke incidence contributing to disparities in stroke mortality. Annals of Neurology, 69(4), 619–627. http://doi.org/10.1002/ana.22385\n",
    "\n",
    "### age standardized all cause mortality for the whole population...\n",
    "- https://www.cdc.gov/nchs/data/nvsr/nvsr67/nvsr67_05.pdf\n",
    "- in 2016, age standardized death rate is 728.8 deaths per 100,000, crude death rate is 849.3 per 100,000 population.\n",
    "\n",
    "\n"
   ]
  },
  {
   "cell_type": "code",
   "execution_count": 7,
   "metadata": {},
   "outputs": [
    {
     "name": "stderr",
     "output_type": "stream",
     "text": [
      "/anaconda3/lib/python3.6/site-packages/pandas/core/frame.py:3778: SettingWithCopyWarning: \n",
      "A value is trying to be set on a copy of a slice from a DataFrame\n",
      "\n",
      "See the caveats in the documentation: http://pandas.pydata.org/pandas-docs/stable/indexing.html#indexing-view-versus-copy\n",
      "  return super(DataFrame, self).rename(**kwargs)\n",
      "/anaconda3/lib/python3.6/site-packages/pandas/core/indexing.py:543: SettingWithCopyWarning: \n",
      "A value is trying to be set on a copy of a slice from a DataFrame.\n",
      "Try using .loc[row_indexer,col_indexer] = value instead\n",
      "\n",
      "See the caveats in the documentation: http://pandas.pydata.org/pandas-docs/stable/indexing.html#indexing-view-versus-copy\n",
      "  self.obj[item] = s\n",
      "/Users/burke/Documents/research/bpCog/mcm/mcm/population.py:175: SettingWithCopyWarning: \n",
      "A value is trying to be set on a copy of a slice from a DataFrame.\n",
      "Try using .loc[row_indexer,col_indexer] = value instead\n",
      "\n",
      "See the caveats in the documentation: http://pandas.pydata.org/pandas-docs/stable/indexing.html#indexing-view-versus-copy\n",
      "  peopleDF['ageGroup'] = (peopleDF['age'] // 5) + 1\n",
      "/Users/burke/Documents/research/bpCog/mcm/mcm/population.py:176: SettingWithCopyWarning: \n",
      "A value is trying to be set on a copy of a slice from a DataFrame.\n",
      "Try using .loc[row_indexer,col_indexer] = value instead\n",
      "\n",
      "See the caveats in the documentation: http://pandas.pydata.org/pandas-docs/stable/indexing.html#indexing-view-versus-copy\n",
      "  peopleDF['ageGroup'] = peopleDF['ageGroup'].astype(int)\n"
     ]
    },
    {
     "name": "stdout",
     "output_type": "stream",
     "text": [
      "Overall mortality: 748.6942788422792\n"
     ]
    }
   ],
   "source": [
    "print(f\"Overall mortality: {pop.calculate_mean_age_sex_standardized_mortality(2000)}\")"
   ]
  },
  {
   "cell_type": "markdown",
   "metadata": {},
   "source": [
    "### Upshot — MI incidence is reasonable, perhaps a little high, Stroke incidence is reasonable, hard to judge given variability.\n",
    "— Wouldn't make changes at this point, instead will wait until we have better partitioning models and better event moretality models from the combined cohorts\n",
    "\n",
    "### Overall mortality is slightly overestimated and is something that we may need to recalibrate"
   ]
  },
  {
   "cell_type": "code",
   "execution_count": 23,
   "metadata": {},
   "outputs": [
    {
     "data": {
      "text/plain": [
       "0    0.88354\n",
       "1    0.03866\n",
       "2    0.00712\n",
       "3    0.07068\n",
       "Name: ucod, dtype: float64"
      ]
     },
     "execution_count": 23,
     "metadata": {},
     "output_type": "execute_result"
    }
   ],
   "source": [
    "# on UCOD 1 = MI, 2=stroke, 3 = other cause of death\n",
    "earlyCrossSectionOfNonImmigrants.ucod.value_counts(normalize=True, sort=False)"
   ]
  },
  {
   "cell_type": "code",
   "execution_count": 24,
   "metadata": {},
   "outputs": [
    {
     "name": "stdout",
     "output_type": "stream",
     "text": [
      "NHANES Overall mortality 0.117\n",
      "Sim aoverall mortality 0.131\n"
     ]
    }
   ],
   "source": [
    "print(\"NHANES Overall mortality %0.3f\" % earlyCrossSectionOfNonImmigrants.diedBy2015.mean())\n",
    "print(\"Sim aoverall mortality %0.3f\" % popSurvival.dead14.mean())"
   ]
  },
  {
   "cell_type": "code",
   "execution_count": 25,
   "metadata": {},
   "outputs": [
    {
     "name": "stdout",
     "output_type": "stream",
     "text": [
      "NHANES CV mortality 0.046\n",
      "Sim CV mortality 0.010\n"
     ]
    }
   ],
   "source": [
    "print(\"NHANES CV mortality %0.3f\" % earlyCrossSectionOfNonImmigrants.cvDeath.mean())\n",
    "print(\"Sim CV mortality %0.3f\" % popSurvival.cvDeath14.mean())"
   ]
  },
  {
   "cell_type": "code",
   "execution_count": 26,
   "metadata": {},
   "outputs": [
    {
     "name": "stdout",
     "output_type": "stream",
     "text": [
      "NHANES non-CV mortality 0.071\n",
      "Sim non-CV mortality 0.121\n"
     ]
    }
   ],
   "source": [
    "print(\"NHANES non-CV mortality %0.3f\" % earlyCrossSectionOfNonImmigrants.nonCVDeath.mean())\n",
    "print(\"Sim non-CV mortality %0.3f\" % popSurvival.nonCVDeath14.mean())"
   ]
  },
  {
   "cell_type": "code",
   "execution_count": 27,
   "metadata": {},
   "outputs": [
    {
     "name": "stdout",
     "output_type": "stream",
     "text": [
      "NHANES Heart Diasease mortality 0.039\n",
      "Sim MI mortality 0.005\n"
     ]
    }
   ],
   "source": [
    "print(\"NHANES Heart Diasease mortality %0.3f\" % earlyCrossSectionOfNonImmigrants.miDeath.mean())\n",
    "print(\"Sim MI mortality %0.3f\" % popSurvival.miDeath14.mean())"
   ]
  },
  {
   "cell_type": "code",
   "execution_count": 28,
   "metadata": {},
   "outputs": [
    {
     "name": "stdout",
     "output_type": "stream",
     "text": [
      "NHANES Stroke mortality 0.007\n",
      "Sim stroke mortality 0.004\n"
     ]
    }
   ],
   "source": [
    "print(\"NHANES Stroke mortality %0.3f\" % earlyCrossSectionOfNonImmigrants.strokeDeath.mean())\n",
    "print(\"Sim stroke mortality %0.3f\" % popSurvival.strokeDeath14.mean())"
   ]
  },
  {
   "cell_type": "markdown",
   "metadata": {},
   "source": [
    "### CV Mortality is the primary problem\n",
    "<p>CV mortality is <b>much</b> highger in NHANES than in the simulation (4.6% vs. 0.8%), whereas non-CV mortality is pretty close (which makes sense since we derived the non-CV mortality omdel from NHANES). This is mostly due to massive (10-fold) underestimationof raw mortality due to MI (3.9% vs. 0.4%)\n",
    "    \n",
    "### Next steps\n",
    "<ol>\n",
    "    <li><b> Rerun non-CV mortality model in NHANES with updated data</b> (Done)</li>\n",
    "    <li> <b>Run mortality incidence code on NHANES — are we wildly over in NHANES compared to CDC estimates?</b> (Done) </li>\n",
    "    <li> Might have to run incidnce code on death cerrts — can we reproduce the CDC etimates (i.e is there a code problem in the incidence calc?)</li>\n",
    "    <li> <b>Document the epi logic problem that is in the emali to Jeremy </b> (Done)</li>\n",
    "    <li> <b>Play with the assumptions to see how far we could move things</b> (Done)</li>\n",
    "    <li> Check incidende in subgroups by race/ethnicity and gender and for primary/secondary prevention</li>\n",
    "    <li> <b>Is the story here about primary vs. secondary prevention? If secondaray events are much more common given primary events and they have much higher mortality, then this could close part of the gap... (Jeremy's email)</b> (Done)</li>\n",
    "</ol>"
   ]
  },
  {
   "cell_type": "markdown",
   "metadata": {},
   "source": [
    "### #2 Run mortality incidence code on NHANES — are we wildly over in NHANES compared to CDC estimates?\n",
    "\n"
   ]
  },
  {
   "cell_type": "code",
   "execution_count": null,
   "metadata": {},
   "outputs": [],
   "source": [
    "earlyCrossSectionOfNonImmigrants['yearInSim'] = earlyCrossSectionOfNonImmigrants.monthsToDeath/12\n",
    "\n",
    "# set years in sim to years until death amongst peopel that die.\n",
    "ageStandard = pop.build_age_standard(2016)\n",
    "\n",
    "for index, row in earlyCrossSectionOfNonImmigrants.iterrows():\n",
    "    nhanesFemale = row['gender'] - 1\n",
    "    if (row['ucod'] != 0):\n",
    "        ageStandard.loc[((ageStandard['lowerAgeBound'] <= row['age']) & (ageStandard['upperAgeBound'] >= row['age']) & (ageStandard['female'] == nhanesFemale)),\n",
    "                        'outcomeCount'] += 1\n",
    "    ageStandard.loc[((ageStandard['lowerAgeBound'] <= row['age']) &\n",
    "                     (ageStandard['upperAgeBound'] >= row['age']) &\n",
    "                     (ageStandard['female'] == nhanesFemale)),\n",
    "                    'simPersonYears'] += row['yearInSim']\n",
    "ageStandard = pop.tabulate_age_specific_rates(ageStandard)\n",
    "print (ageStandard['ageSpecificContribution'].sum())"
   ]
  },
  {
   "cell_type": "markdown",
   "metadata": {},
   "source": [
    "### So, estiamted morality is higher in NHANES that in our overall population and consideralby higher than in daeth certificate data\n",
    "\n",
    "My guess is that this is a calculation problem...NHANES and our sim are both coming up in the same neighborhood and its much higher than CDC...the next xtep would be to run teh same calc on teh CDC death certs, but that would be a time consuming step"
   ]
  },
  {
   "cell_type": "markdown",
   "metadata": {},
   "source": [
    "### #3. Broadly, we have a problem with the epidemiology here."
   ]
  },
  {
   "cell_type": "markdown",
   "metadata": {},
   "source": [
    "1. <b>Age standardizd incidence rates of MI (mostly primary prevention?) are around 200/100k. (above)</b>\n",
    "2. <b >Case fatality is around 10%</b> (same refs as above)\n",
    "3. <b>THat implies that mortlaity should be around 20k/100k.</b> (And is very close to what the sim is doing)\n",
    "4. <b>However, death certificate assessed morrality is also around 200/100k</b> (Sidney, S., Quesenberry, C. P., Jr, Jaffe, M. G., Sorel, M., Nguyen-Huynh, M. N., Kushi, L. H., et al. (2016). Recent Trends in Cardiovascular Mortality in the United States and Public Health Goals. JAMA Cardiology, 1(5), 594–6. http://doi.org/10.1001/jamacardio.2016.1326)\n",
    "\n",
    "\n",
    "So...we have a 10-fold gap in mortality on our hands. Theories:\n",
    "<ol>\n",
    "<li><b>Part of this is the differnece between heart diasese and MI mortality.</b> Straight MI dx on death certs make the problem half as big 100k/200k (Underlying Cause of death 1999-2017.xls spreadsheet from CDC wonder(although, its not obvious that MI isn't the primary cause of mortality in a lot of the other \"heart disease\" dx, such as CHF...)</li>\n",
    "\n",
    "<li><b>Death certificates over-report cardiovacular mortality</b>\n",
    "<ul><li>Our paper on stroke AMCOD vs. UCOD compared to MI (which, agian likely understates the degree of overestimation  because many MIs will end up with heart disease deaths...)</li>\n",
    "<li>Jack's paper linking death certs to admin data suggesting that correlaton is lousy and that \"diseases of the heart\" are plausibly over estriamted</li></ul></li>\n",
    "\n",
    "<li><b> Primary vs. Secondary Preventino </b> Our current modles dont' increase rates for secondary events or case fatality...how much would we have to increase to get close to death certs? That seems like an assumption we can play with pretty easily</li>\n",
    "<li><b> better mortality model - right now, old people aren't dying off enough with CV events</b></li>\n",
    "</ol>"
   ]
  },
  {
   "cell_type": "markdown",
   "metadata": {},
   "source": [
    "### 4. Play with the assumptions to see how far we could move things\n",
    "\n",
    "First, let's double the risk for secondary prevention and double the case fatality rate in secondary prevention\n",
    "\n"
   ]
  },
  {
   "cell_type": "code",
   "execution_count": null,
   "metadata": {},
   "outputs": [],
   "source": [
    "caseFatalityMultiplier = [1,2,3,4,5]\n",
    "secondaryIncidenceMultiplier=[1,2,3,4,5,6,7]\n",
    "results = []\n",
    "\n",
    "for fatalityMult in caseFatalityMultiplier:\n",
    "    for incidenceMult in secondaryIncidenceMultiplier:\n",
    "        print(\"fatality {:d}, incidence {:d}\".format(fatalityMult, incidenceMult))\n",
    "        popSens = NHANESDirectSamplePopulation(n=3000, year=2001) \n",
    "\n",
    "        popSens._outcome_model_repository.secondary_mi_case_fatality = fatalityMult * popSens._outcome_model_repository.mi_case_fatality\n",
    "        popSens._outcome_model_repository.secondary_stroke_case_fatality = fatalityMult * popSens._outcome_model_repository.stroke_case_fatality\n",
    "        popSens._outcome_model_repository.secondary_prevention_multiplier = incidenceMult\n",
    "\n",
    "        popSensDF = pd.DataFrame({\"index\" : popSens._people.index, \"baseAge\" : [person._age[0] for person in popSens._people]} )\n",
    "        popSensDF['ageDecile'] = pd.qcut(popSensDF.baseAge, 10)\n",
    "        for year in range(1,15):\n",
    "            popSens.advance(1)\n",
    "            popSensDF['dead' + str(year)] = [person.is_dead() for person in popSens._people]\n",
    "            popSensDF['cvDeath' + str(year)] = [person.has_fatal_stroke() or person.has_fatal_mi() for person in popSens._people]\n",
    "            popSensDF['strokeDeath' + str(year)] = [person.has_fatal_stroke() for person in popSens._people]\n",
    "            popSensDF['miDeath' + str(year)] = [person.has_fatal_mi() for person in popSens._people]\n",
    "            popSensDF['nonCVDeath' + str(year)] = [person.is_dead() and (person.has_fatal_stroke() ==False) and (person.has_fatal_mi() == False) for person in popSens._people]\n",
    "            popSensDF['cvDeath' + str(year)] = [person.is_dead() and (person.has_fatal_stroke() ==True) or (person.has_fatal_mi() == True) for person in popSens._people]\n",
    "\n",
    "        results.append((fatalityMult, \n",
    "                        incidenceMult, \n",
    "                        popSensDF.dead14.mean(), \n",
    "                        popSensDF.cvDeath14.mean(),\n",
    "                        popSensDF.nonCVDeath14.mean(),\n",
    "                        popSensDF.miDeath14.mean(),\n",
    "                        popSensDF.strokeDeath14.mean()))"
   ]
  },
  {
   "cell_type": "code",
   "execution_count": null,
   "metadata": {
    "scrolled": true
   },
   "outputs": [],
   "source": [
    "import matplotlib.pyplot as plt\n",
    "%matplotlib inline\n",
    "\n",
    "cvMort= np.array([result[3] for result in results]).reshape(5,7)\n",
    "plt.contourf(cvMort, levels=[0.0, 0.01, 0.015, 0.02, 0.025, 0.03,0.035, 0.04])\n",
    "plt.xticks(np.arange(7), np.arange(1,8))\n",
    "plt.yticks(np.arange(5), np.arange(1,6))\n",
    "plt.xlabel('Secondary Risk Multiplier (ASCVD * x = risk in secondary prevention)')\n",
    "plt.ylabel('Secondary Case Fatality Multiplier\\n (Primary case fatality * y = \\ncase fatality in secondary prevention)')\n",
    "plt.colorbar()"
   ]
  },
  {
   "cell_type": "markdown",
   "metadata": {},
   "source": [
    "#### So...to get a CV mortality rate that approximates what is measured in NHANES, we need to multiply the secondary prevention risk by 7! and the secondary case fatality risk by 5!"
   ]
  },
  {
   "cell_type": "code",
   "execution_count": null,
   "metadata": {},
   "outputs": [],
   "source": []
  },
  {
   "cell_type": "code",
   "execution_count": null,
   "metadata": {},
   "outputs": [],
   "source": []
  },
  {
   "cell_type": "code",
   "execution_count": null,
   "metadata": {},
   "outputs": [],
   "source": [
    "earlyCrossSectionOfNonImmigrants['ageDecile'] = pd.qcut(earlyCrossSectionOfNonImmigrants.age, 10)\n",
    "\n",
    "mortalityByDecileNHANES = earlyCrossSectionOfNonImmigrants[['diedBy2015','ageDecile']].groupby(earlyCrossSectionOfNonImmigrants.ageDecile).mean()\n",
    "mortalityByDecileSim = popSurvival[['dead10', 'ageDecile']].groupby(popSurvival.ageDecile).mean()\n",
    "\n",
    "simBar =plt.bar(mortalityByDecileSim.index.codes+0.5, mortalityByDecileSim.dead10, width=0.5, label=\"sim\")\n",
    "nhanesBar = plt.bar(mortalityByDecileNHANES.index.codes, mortalityByDecileNHANES.diedBy2015, width=0.5, label=\"nhanes\")\n",
    "plt.legend()\n"
   ]
  },
  {
   "cell_type": "code",
   "execution_count": null,
   "metadata": {},
   "outputs": [],
   "source": []
  },
  {
   "cell_type": "code",
   "execution_count": null,
   "metadata": {},
   "outputs": [],
   "source": [
    "strokeMortalityByDecileNHANES = earlyCrossSectionOfNonImmigrants[['strokeDeath','ageDecile']].groupby(earlyCrossSectionOfNonImmigrants.ageDecile).mean()\n",
    "mortalityByDecileSim = popSurvival[['strokeDeath10', 'ageDecile']].groupby(popSurvival.ageDecile).mean()\n",
    "\n",
    "simBar =plt.bar(mortalityByDecileSim.index.codes+0.5, mortalityByDecileSim.strokeDeath10, width=0.5, label=\"sim\")\n",
    "nhanesBar = plt.bar(mortalityByDecileNHANES.index.codes, strokeMortalityByDecileNHANES.strokeDeath, width=0.5, label=\"nhanes\")\n",
    "plt.legend()"
   ]
  },
  {
   "cell_type": "code",
   "execution_count": null,
   "metadata": {},
   "outputs": [],
   "source": [
    "miMortalityByDecileNHANES = earlyCrossSectionOfNonImmigrants[['miDeath','ageDecile']].groupby('ageDecile').mean()\n",
    "miMortalityByDecileSim = popSurvival[['miDeath10', 'ageDecile']].groupby(popSurvival.ageDecile).mean()\n",
    "\n",
    "simBar =plt.bar(miMortalityByDecileSim.index.codes+0.5, miMortalityByDecileSim.miDeath10, width=0.5, label=\"sim\")\n",
    "nhanesBar = plt.bar(miMortalityByDecileNHANES.index.codes, miMortalityByDecileNHANES.miDeath, width=0.5, label=\"nhanes\")\n",
    "plt.legend()"
   ]
  },
  {
   "cell_type": "code",
   "execution_count": null,
   "metadata": {},
   "outputs": [],
   "source": [
    "cvMortalityByDecileNHANES = earlyCrossSectionOfNonImmigrants[['cvDeath','ageDecile']].groupby(earlyCrossSectionOfNonImmigrants.ageDecile).mean()\n",
    "cvMortalityByDecileSim = popSurvival[['cvDeath10', 'ageDecile']].groupby(popSurvival.ageDecile).mean()\n",
    "\n",
    "simBar =plt.bar(cvMortalityByDecileSim.index.codes+0.5, cvMortalityByDecileSim.cvDeath10, width=0.5, label=\"sim\")\n",
    "nhanesBar = plt.bar(cvMortalityByDecileNHANES.index.codes, cvMortalityByDecileNHANES.cvDeath, width=0.5, label=\"nhanes\")\n",
    "plt.legend()"
   ]
  },
  {
   "cell_type": "code",
   "execution_count": null,
   "metadata": {},
   "outputs": [],
   "source": [
    "nonCVMortalityByDecileNHANES = earlyCrossSectionOfNonImmigrants[['nonCVDeath','ageDecile']].groupby(earlyCrossSectionOfNonImmigrants.ageDecile).mean()\n",
    "nonCVMortalityByDecileSim = popSurvival[['nonCVDeath10', 'ageDecile']].groupby(popSurvival.ageDecile).mean()\n",
    "\n",
    "nonCVsimBar =plt.bar(nonCVMortalityByDecileSim.index.codes+0.5, nonCVMortalityByDecileSim.nonCVDeath10, width=0.5, label=\"sim non cv\")\n",
    "cvSimBar =plt.bar(cvMortalityByDecileSim.index.codes+0.5, cvMortalityByDecileSim.cvDeath10, width=0.5, label=\"sim cv\", bottom=nonCVMortalityByDecileSim.nonCVDeath10)\n",
    "\n",
    "nonCVnhanesBar = plt.bar(nonCVMortalityByDecileNHANES.index.codes, nonCVMortalityByDecileNHANES.nonCVDeath, width=0.5, label=\"nhanes nonCV\")\n",
    "cvnhanesBar = plt.bar(cvMortalityByDecileNHANES.index.codes, cvMortalityByDecileNHANES.cvDeath, width=0.5, bottom=nonCVMortalityByDecileNHANES.nonCVDeath, label=\"nhanes CV\")\n",
    "plt.legend()"
   ]
  },
  {
   "cell_type": "markdown",
   "metadata": {},
   "source": [
    "### So, we have slight under prediction of mortality in the simulation. Is that because of the code or the data?\n",
    "\n",
    "To test — we will rerun the simulation on the direct NHANES data that we use in the calibration..."
   ]
  },
  {
   "cell_type": "code",
   "execution_count": null,
   "metadata": {},
   "outputs": [],
   "source": [
    "from mcm.gender import NHANESGender\n",
    "from mcm.person import Person\n",
    "from mcm.outcome import Outcome\n",
    "from mcm.race_ethnicity import NHANESRaceEthnicity\n",
    "from mcm.smoking_status import SmokingStatus\n",
    "from mcm.cohort_risk_model_repository import CohortRiskModelRepository\n",
    "from mcm.outcome_model_repository import OutcomeModelRepository"
   ]
  },
  {
   "cell_type": "code",
   "execution_count": null,
   "metadata": {},
   "outputs": [],
   "source": [
    "import os \n",
    "\n",
    "def calcMortalityRunningFullModel(x):\n",
    "        temp =  Person(\n",
    "            age=x.age,\n",
    "            gender=NHANESGender(int(x.gender)),\n",
    "            raceEthnicity=NHANESRaceEthnicity(int(x.raceEthnicity)),\n",
    "            sbp=x.meanSBP,\n",
    "            dbp=x.meanDBP,\n",
    "            a1c=x.a1c,\n",
    "            hdl=x.hdl,\n",
    "            ldl=x.ldl,\n",
    "            trig=x.trig,\n",
    "            totChol=x.tot_chol,\n",
    "            bmi=x.bmi,\n",
    "            smokingStatus=SmokingStatus(int(x.smokingStatus)),\n",
    "            dfIndex=x.index,\n",
    "            diedBy2011=x.diedBy2011)\n",
    "        \n",
    "        for year in range(1,11):\n",
    "            if not temp.is_dead():\n",
    "                temp.advance_year(riskModel, cohortModel)\n",
    "        return temp.is_dead()\n",
    "\n",
    "earlyCrossSectionOfNonImmigrants['estMortalityFromModel'] = earlyCrossSectionOfNonImmigrants.apply(calcMortalityRunningFullModel, axis=1)"
   ]
  },
  {
   "cell_type": "code",
   "execution_count": null,
   "metadata": {},
   "outputs": [],
   "source": [
    "earlyCrossSectionOfNonImmigrants['ageDecile'] = pd.qcut(earlyCrossSectionOfNonImmigrants.age, 10)\n",
    "output = earlyCrossSectionOfNonImmigrants.groupby('ageDecile')[['diedBy2011', 'estMortalityFromModel']].mean()\n",
    "print(output)\n",
    "plt.bar(output.index.codes+1, output.diedBy2011, width=0.5, label=\"actualDeath\")\n",
    "plt.bar(output.index.codes+1.5, output.estMortalityFromModel, width=0.5, label=\"model\")\n",
    "\n",
    "plt.legend()"
   ]
  },
  {
   "cell_type": "markdown",
   "metadata": {},
   "source": [
    "### Ok...this looks quite good...on the same data, the under-prediction problem looks very modest"
   ]
  },
  {
   "cell_type": "code",
   "execution_count": null,
   "metadata": {},
   "outputs": [],
   "source": [
    "earlyCrossSectionOfNonImmigrants.to_stata(\"/Users/burke/Documents/research/bpCog/nhanes/earlyCrossSectionOfNonImmigrants.dta\")\n",
    "earlyCrossSectionOfNonImmigrants.ageDecile.value_counts().sort_index()"
   ]
  },
  {
   "cell_type": "code",
   "execution_count": null,
   "metadata": {},
   "outputs": [],
   "source": [
    "earlyCrossSectionOfNonImmigrants[['diedBy2011', 'estMortalityFromCox', 'estMortalityFromModel']].mean()"
   ]
  },
  {
   "cell_type": "code",
   "execution_count": null,
   "metadata": {},
   "outputs": [],
   "source": [
    "# well...this is not easy to explain.\n",
    "# for the most part the code-bsaed calculation looks similar, gut it under predicts mortaltiy substantially in the highest age decile\n",
    "# this is a bit strange...but, not impossible. if you look at the within population validation, it seems that we under-predicted in the oldest cohort for our basee model as well\n",
    "# i wonder if having a longer follow-up (by constraining to the early oohort might cause that problem...that should be straight-forward to check)\n",
    "\n",
    "# the code based model is over-estmiaging mortalty thorughout.\n",
    "# this is going to be harder to figure otu...\n",
    "# possibilities: 1. the times aren't right...and the cohort model is getting exposed to more time than the comparators\n",
    "# the time aggregation isn't right...the one year probabilities are summing to something greater than the whole"
   ]
  },
  {
   "cell_type": "code",
   "execution_count": null,
   "metadata": {},
   "outputs": [],
   "source": [
    "earlyCrossSectionOfNonImmigrants.ucod.value_counts()"
   ]
  },
  {
   "cell_type": "code",
   "execution_count": null,
   "metadata": {},
   "outputs": [],
   "source": [
    "# next steps — 1. see if we under-preditx mortality badly in the NHANES popualtion if we look at only the people that are enrolled early (and thus have long follow-up)"
   ]
  }
 ],
 "metadata": {
  "kernelspec": {
   "display_name": "Python 3",
   "language": "python",
   "name": "python3"
  },
  "language_info": {
   "codemirror_mode": {
    "name": "ipython",
    "version": 3
   },
   "file_extension": ".py",
   "mimetype": "text/x-python",
   "name": "python",
   "nbconvert_exporter": "python",
   "pygments_lexer": "ipython3",
   "version": "3.6.5"
  }
 },
 "nbformat": 4,
 "nbformat_minor": 2
}
