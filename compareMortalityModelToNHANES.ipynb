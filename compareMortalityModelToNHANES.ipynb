{
 "cells": [
  {
   "cell_type": "code",
   "execution_count": 1,
   "metadata": {},
   "outputs": [],
   "source": [
    "%load_ext autoreload\n",
    "%autoreload 2\n",
    "\n",
    "\n",
    "import pandas as pd\n",
    "import numpy as np\n",
    "import os\n",
    "import matplotlib.pyplot as plt\n",
    "\n",
    "import warnings\n",
    "warnings.simplefilter('ignore') # we get a bunch of warnings for .loc errors that are about filters that are ok and not about setting values on slices...\n",
    "# so, going to ignore everything so tha tthe notebooks are readable\n",
    "\n",
    "pd.set_option('display.max_columns', None)\n",
    "\n",
    "\n",
    "imputedDataset = pd.read_stata(\"/Users/burke.227/Documents/research/bpCog/microsim/microsim/data/fullyImputedDataset.dta\")\n",
    "imputedDataset.head()\n",
    "noRecentUSInmigration = imputedDataset.loc[~imputedDataset.timeInUS.isin([1,2,3])]\n",
    "earlyCrossSectionOfNonImmigrants = noRecentUSInmigration.loc[noRecentUSInmigration.year==2001]\n",
    "# here we just need to throw out the very young people for comparisons\n",
    "earlyCrossSectionOfNonImmigrants = earlyCrossSectionOfNonImmigrants.loc[earlyCrossSectionOfNonImmigrants.age > 18 + 2]\n",
    "\n",
    "earlyCrossSectionOfNonImmigrants['strokeDeath'] = np.where(((earlyCrossSectionOfNonImmigrants.diedBy2015.values == 1) & (earlyCrossSectionOfNonImmigrants.ucod.values==2)), 1, 0)\n",
    "earlyCrossSectionOfNonImmigrants['miDeath'] = np.where(((earlyCrossSectionOfNonImmigrants.diedBy2015.values == 1) & (earlyCrossSectionOfNonImmigrants.ucod.values==1)), 1, 0)\n",
    "earlyCrossSectionOfNonImmigrants['cvDeath'] = np.where(((earlyCrossSectionOfNonImmigrants.strokeDeath.values == 1) | (earlyCrossSectionOfNonImmigrants.miDeath.values==1)), 1, 0)\n",
    "earlyCrossSectionOfNonImmigrants['nonCVDeath'] = np.where(((earlyCrossSectionOfNonImmigrants.diedBy2015 ==1) & (earlyCrossSectionOfNonImmigrants.strokeDeath.values == 0) & (earlyCrossSectionOfNonImmigrants.miDeath.values==0)), 1, 0)\n",
    "earlyCrossSectionOfNonImmigrants = earlyCrossSectionOfNonImmigrants.sample(n=50000, weights=earlyCrossSectionOfNonImmigrants.WTINT2YR, replace=True)"
   ]
  },
  {
   "cell_type": "code",
   "execution_count": 2,
   "metadata": {},
   "outputs": [],
   "source": [
    "startYear = 1999\n",
    "endYear = 2015\n",
    "totalYears = endYear - startYear"
   ]
  },
  {
   "cell_type": "code",
   "execution_count": 3,
   "metadata": {},
   "outputs": [],
   "source": [
    "import os\n",
    "os.chdir(\"/Users/burke.227/Documents/research/bpCog/microsim/\")\n",
    "import logging\n",
    "logging.basicConfig(level=logging.INFO)\n",
    "from microsim.outcome import OutcomeType\n",
    "from microsim.outcome_model_type import OutcomeModelType\n",
    "from microsim.population import NHANESDirectSamplePopulation"
   ]
  },
  {
   "cell_type": "code",
   "execution_count": 4,
   "metadata": {},
   "outputs": [],
   "source": [
    "pop = NHANESDirectSamplePopulation(n=250000, year=startYear) "
   ]
  },
  {
   "cell_type": "code",
   "execution_count": 5,
   "metadata": {},
   "outputs": [
    {
     "name": "stderr",
     "output_type": "stream",
     "text": [
      "INFO:root:processing year: 0\n"
     ]
    },
    {
     "name": "stdout",
     "output_type": "stream",
     "text": [
      "1\n"
     ]
    },
    {
     "name": "stderr",
     "output_type": "stream",
     "text": [
      "INFO:root:processing year: 0\n"
     ]
    },
    {
     "name": "stdout",
     "output_type": "stream",
     "text": [
      "2\n"
     ]
    },
    {
     "name": "stderr",
     "output_type": "stream",
     "text": [
      "INFO:root:processing year: 0\n"
     ]
    },
    {
     "name": "stdout",
     "output_type": "stream",
     "text": [
      "3\n"
     ]
    },
    {
     "name": "stderr",
     "output_type": "stream",
     "text": [
      "INFO:root:processing year: 0\n"
     ]
    },
    {
     "name": "stdout",
     "output_type": "stream",
     "text": [
      "4\n"
     ]
    },
    {
     "name": "stderr",
     "output_type": "stream",
     "text": [
      "INFO:root:processing year: 0\n"
     ]
    },
    {
     "name": "stdout",
     "output_type": "stream",
     "text": [
      "5\n"
     ]
    },
    {
     "name": "stderr",
     "output_type": "stream",
     "text": [
      "INFO:root:processing year: 0\n"
     ]
    },
    {
     "name": "stdout",
     "output_type": "stream",
     "text": [
      "6\n"
     ]
    },
    {
     "name": "stderr",
     "output_type": "stream",
     "text": [
      "INFO:root:processing year: 0\n"
     ]
    },
    {
     "name": "stdout",
     "output_type": "stream",
     "text": [
      "7\n"
     ]
    },
    {
     "name": "stderr",
     "output_type": "stream",
     "text": [
      "INFO:root:processing year: 0\n"
     ]
    },
    {
     "name": "stdout",
     "output_type": "stream",
     "text": [
      "8\n"
     ]
    },
    {
     "name": "stderr",
     "output_type": "stream",
     "text": [
      "INFO:root:processing year: 0\n"
     ]
    },
    {
     "name": "stdout",
     "output_type": "stream",
     "text": [
      "9\n"
     ]
    },
    {
     "name": "stderr",
     "output_type": "stream",
     "text": [
      "INFO:root:processing year: 0\n"
     ]
    },
    {
     "name": "stdout",
     "output_type": "stream",
     "text": [
      "10\n"
     ]
    },
    {
     "name": "stderr",
     "output_type": "stream",
     "text": [
      "INFO:root:processing year: 0\n"
     ]
    },
    {
     "name": "stdout",
     "output_type": "stream",
     "text": [
      "11\n"
     ]
    },
    {
     "name": "stderr",
     "output_type": "stream",
     "text": [
      "INFO:root:processing year: 0\n"
     ]
    },
    {
     "name": "stdout",
     "output_type": "stream",
     "text": [
      "12\n"
     ]
    },
    {
     "name": "stderr",
     "output_type": "stream",
     "text": [
      "INFO:root:processing year: 0\n"
     ]
    },
    {
     "name": "stdout",
     "output_type": "stream",
     "text": [
      "13\n"
     ]
    },
    {
     "name": "stderr",
     "output_type": "stream",
     "text": [
      "INFO:root:processing year: 0\n"
     ]
    },
    {
     "name": "stdout",
     "output_type": "stream",
     "text": [
      "14\n"
     ]
    },
    {
     "name": "stderr",
     "output_type": "stream",
     "text": [
      "INFO:root:processing year: 0\n"
     ]
    },
    {
     "name": "stdout",
     "output_type": "stream",
     "text": [
      "15\n"
     ]
    }
   ],
   "source": [
    "# uncommetn to run locally\n",
    "popSurvival = pd.DataFrame({\"index\" : pop._people.index, \"baseAge\" : [person._age[0] for person in pop._people]} )\n",
    "popSurvival['ageDecile'] = pd.qcut(popSurvival.baseAge, 10)\n",
    "popSurvival['priorStroke'] = [person._stroke for person in pop._people]\n",
    "# popSurvival['priorMI'] = [person._mi for person in pop._people]\n",
    "\n",
    "\n",
    "#run the sim forward to sync up with NHANES population\n",
    "for year in range(1,totalYears):\n",
    "    pop.advance_vectorized(1)\n",
    "    print(year)\n",
    "    popSurvival['dead' + str(year)] = [person.is_dead() for person in pop._people]\n",
    "    popSurvival['cvDeath' + str(year)] = [person.has_fatal_stroke() or person.has_fatal_mi() for person in pop._people]\n",
    "    popSurvival['strokeDeath' + str(year)] = [person.has_fatal_stroke() for person in pop._people]\n",
    "    popSurvival['miDeath' + str(year)] = [person.has_fatal_mi() for person in pop._people]\n",
    "    popSurvival['nonCVDeath' + str(year)] = [person.is_dead() and (person.has_fatal_stroke() ==False) and (person.has_fatal_mi() == False) for person in pop._people]\n",
    "    popSurvival['cvDeath' + str(year)] = [person.is_dead() and (person.has_fatal_stroke() ==True) or (person.has_fatal_mi() == True) for person in pop._people]\n"
   ]
  },
  {
   "cell_type": "code",
   "execution_count": 6,
   "metadata": {},
   "outputs": [],
   "source": [
    "import pickle\n",
    "pickle.dump( popSurvival, open( \"popSurvival.pickle\", \"wb\" ) )\n",
    "pickle.dump( pop, open( \"pop.pickle\", \"wb\" ) )"
   ]
  },
  {
   "cell_type": "code",
   "execution_count": 5,
   "metadata": {},
   "outputs": [],
   "source": [
    "# # uncomment to load if run via external files\n",
    "\n",
    "# os.chdir('/Users/burke/Documents/research/bpCog/nhanes/')\n",
    "# popSurvival = pd.read_pickle('popSurvival.pickle')\n",
    "\n",
    "# import pickle\n",
    "# with open('pop.pickle', 'rb') as f:\n",
    "#     pop = pickle.load(f)"
   ]
  },
  {
   "cell_type": "code",
   "execution_count": 6,
   "metadata": {},
   "outputs": [
    {
     "data": {
      "text/plain": [
       "250000"
      ]
     },
     "execution_count": 6,
     "metadata": {},
     "output_type": "execute_result"
    }
   ],
   "source": [
    "len(pop._people)"
   ]
  },
  {
   "cell_type": "code",
   "execution_count": 7,
   "metadata": {},
   "outputs": [],
   "source": [
    "from microsim.outcome import OutcomeType\n",
    "\n",
    "miIncidence = pop.calculate_mean_age_sex_standardized_incidence(OutcomeType.MI, 2000)\n",
    "strokeIncidence = pop.calculate_mean_age_sex_standardized_incidence(OutcomeType.STROKE, 2000)"
   ]
  },
  {
   "cell_type": "code",
   "execution_count": 8,
   "metadata": {},
   "outputs": [
    {
     "data": {
      "text/plain": [
       "(237.88803546737, 9322)"
      ]
     },
     "execution_count": 8,
     "metadata": {},
     "output_type": "execute_result"
    }
   ],
   "source": [
    "miIncidence"
   ]
  },
  {
   "cell_type": "code",
   "execution_count": 9,
   "metadata": {},
   "outputs": [
    {
     "data": {
      "text/plain": [
       "(147.7855104157889, 6237)"
      ]
     },
     "execution_count": 9,
     "metadata": {},
     "output_type": "execute_result"
    }
   ],
   "source": [
    "strokeIncidence"
   ]
  },
  {
   "cell_type": "code",
   "execution_count": 10,
   "metadata": {},
   "outputs": [],
   "source": [
    "import statsmodels.stats.proportion as prop\n",
    "\n",
    "\n",
    "def getIncidence(incidence, popSize):\n",
    "    overallIncidence = {'incidencePer100K' : incidence[0], 'numberEvents' : incidence[1], \n",
    "                              'denominator' : popSize, 'proportion' : incidence[1]/popSize,\n",
    "                             'proportionLCI' : prop.proportion_confint(incidence[1], popSize)[0],\n",
    "                              'proportionUCI' : prop.proportion_confint(incidence[1], popSize)[1]}\n",
    "    overallIncidence['estimatedRelativeSE'] = (overallIncidence['proportion'] - overallIncidence['proportionLCI'])/1.96/overallIncidence['proportion']\n",
    "    overallIncidence['estimatedIncidenceLCI'] = overallIncidence['incidencePer100K'] - 1.96 * (overallIncidence['estimatedRelativeSE'] * overallIncidence['incidencePer100K'])\n",
    "    overallIncidence['estimatedIncidenceUCI'] = overallIncidence['incidencePer100K'] + 1.96 * (overallIncidence['estimatedRelativeSE'] * overallIncidence['incidencePer100K'])\n",
    "\n",
    "    return overallIncidence\n",
    "\n",
    "overallStrokeIncidence = getIncidence(strokeIncidence, len(pop._people))\n",
    "overallMIIncidence = getIncidence(miIncidence, len(pop._people))"
   ]
  },
  {
   "cell_type": "code",
   "execution_count": 11,
   "metadata": {},
   "outputs": [],
   "source": [
    "def printDict(dict):\n",
    "    print(\"\\n\".join(\"{}\\t{:.3f}\".format(k, v) for k, v in dict.items()))"
   ]
  },
  {
   "cell_type": "code",
   "execution_count": 12,
   "metadata": {},
   "outputs": [
    {
     "name": "stdout",
     "output_type": "stream",
     "text": [
      "incidencePer100K\t147.786\n",
      "numberEvents\t6237.000\n",
      "denominator\t250000.000\n",
      "proportion\t0.025\n",
      "proportionLCI\t0.024\n",
      "proportionUCI\t0.026\n",
      "estimatedRelativeSE\t0.013\n",
      "estimatedIncidenceLCI\t144.164\n",
      "estimatedIncidenceUCI\t151.407\n"
     ]
    }
   ],
   "source": [
    "printDict(overallStrokeIncidence)"
   ]
  },
  {
   "cell_type": "code",
   "execution_count": 13,
   "metadata": {},
   "outputs": [
    {
     "name": "stdout",
     "output_type": "stream",
     "text": [
      "incidencePer100K\t237.888\n",
      "numberEvents\t9322.000\n",
      "denominator\t250000.000\n",
      "proportion\t0.037\n",
      "proportionLCI\t0.037\n",
      "proportionUCI\t0.038\n",
      "estimatedRelativeSE\t0.010\n",
      "estimatedIncidenceLCI\t233.150\n",
      "estimatedIncidenceUCI\t242.626\n"
     ]
    }
   ],
   "source": [
    "printDict(overallMIIncidence)"
   ]
  },
  {
   "cell_type": "code",
   "execution_count": 14,
   "metadata": {},
   "outputs": [],
   "source": [
    "### Incideence by race\n",
    "from microsim.race_ethnicity import NHANESRaceEthnicity\n",
    "def isBlack(person):\n",
    "    return person._raceEthnicity == NHANESRaceEthnicity.NON_HISPANIC_BLACK\n",
    "\n",
    "def isBlackDF(person):\n",
    "    return person.raceEthnicity == NHANESRaceEthnicity.NON_HISPANIC_BLACK\n",
    "\n",
    "def isWhite(person):\n",
    "    return person._raceEthnicity == NHANESRaceEthnicity.NON_HISPANIC_WHITE\n",
    "\n",
    "def isWhiteDF(person):\n",
    "    return person.raceEthnicity == NHANESRaceEthnicity.NON_HISPANIC_WHITE"
   ]
  },
  {
   "cell_type": "code",
   "execution_count": 15,
   "metadata": {},
   "outputs": [],
   "source": [
    "whiteStrokeIncidence = pop.calculate_mean_age_sex_standardized_incidence(OutcomeType.STROKE, 2000, isWhite, isWhiteDF)\n",
    "blackStrokeIncidence = pop.calculate_mean_age_sex_standardized_incidence(OutcomeType.STROKE, 2000, isBlack, isBlackDF)\n",
    "\n",
    "overallWhiteStrokeIncidence = getIncidence(whiteStrokeIncidence, pop._people.map(isWhite).sum())\n",
    "overallBlackStrokeIncidence = getIncidence(blackStrokeIncidence, pop._people.map(isBlack).sum())"
   ]
  },
  {
   "cell_type": "code",
   "execution_count": 16,
   "metadata": {},
   "outputs": [
    {
     "name": "stdout",
     "output_type": "stream",
     "text": [
      "incidencePer100K\t117.676\n",
      "numberEvents\t3942.000\n",
      "denominator\t173477.000\n",
      "proportion\t0.023\n",
      "proportionLCI\t0.022\n",
      "proportionUCI\t0.023\n",
      "estimatedRelativeSE\t0.016\n",
      "estimatedIncidenceLCI\t114.045\n",
      "estimatedIncidenceUCI\t121.308\n"
     ]
    }
   ],
   "source": [
    "printDict(overallWhiteStrokeIncidence)"
   ]
  },
  {
   "cell_type": "code",
   "execution_count": 17,
   "metadata": {},
   "outputs": [
    {
     "name": "stdout",
     "output_type": "stream",
     "text": [
      "incidencePer100K\t240.820\n",
      "numberEvents\t890.000\n",
      "denominator\t27460.000\n",
      "proportion\t0.032\n",
      "proportionLCI\t0.030\n",
      "proportionUCI\t0.035\n",
      "estimatedRelativeSE\t0.033\n",
      "estimatedIncidenceLCI\t225.257\n",
      "estimatedIncidenceUCI\t256.383\n"
     ]
    }
   ],
   "source": [
    "printDict(overallBlackStrokeIncidence)"
   ]
  },
  {
   "cell_type": "code",
   "execution_count": 18,
   "metadata": {},
   "outputs": [],
   "source": [
    "whiteIncidenceMI = pop.calculate_mean_age_sex_standardized_incidence(OutcomeType.MI, 2000, isWhite, isWhiteDF)\n",
    "blackIncidenceMI = pop.calculate_mean_age_sex_standardized_incidence(OutcomeType.MI, 2000, isBlack, isBlackDF)\n",
    "\n",
    "overallWhiteIncidenceMI = getIncidence(whiteIncidenceMI, pop._people.map(isWhite).sum())\n",
    "overallBlackIncidenceMI = getIncidence(blackIncidenceMI, pop._people.map(isBlack).sum())"
   ]
  },
  {
   "cell_type": "code",
   "execution_count": 19,
   "metadata": {},
   "outputs": [
    {
     "name": "stdout",
     "output_type": "stream",
     "text": [
      "incidencePer100K\t247.094\n",
      "numberEvents\t7314.000\n",
      "denominator\t173477.000\n",
      "proportion\t0.042\n",
      "proportionLCI\t0.041\n",
      "proportionUCI\t0.043\n",
      "estimatedRelativeSE\t0.011\n",
      "estimatedIncidenceLCI\t241.552\n",
      "estimatedIncidenceUCI\t252.636\n"
     ]
    }
   ],
   "source": [
    "printDict(overallWhiteIncidenceMI)"
   ]
  },
  {
   "cell_type": "code",
   "execution_count": 20,
   "metadata": {},
   "outputs": [
    {
     "name": "stdout",
     "output_type": "stream",
     "text": [
      "incidencePer100K\t217.784\n",
      "numberEvents\t809.000\n",
      "denominator\t27460.000\n",
      "proportion\t0.029\n",
      "proportionLCI\t0.027\n",
      "proportionUCI\t0.031\n",
      "estimatedRelativeSE\t0.035\n",
      "estimatedIncidenceLCI\t202.999\n",
      "estimatedIncidenceUCI\t232.568\n"
     ]
    }
   ],
   "source": [
    "printDict(overallBlackIncidenceMI)"
   ]
  },
  {
   "cell_type": "code",
   "execution_count": null,
   "metadata": {},
   "outputs": [],
   "source": []
  },
  {
   "cell_type": "code",
   "execution_count": 21,
   "metadata": {},
   "outputs": [
    {
     "name": "stdout",
     "output_type": "stream",
     "text": [
      "Secondary MI Incidence: 273.2345758226326 \n",
      "event count: 980.0\n"
     ]
    }
   ],
   "source": [
    "# so...because of how we define primary vs. secondary events, this gets a little tricky\n",
    "# they're all stored as outcomes on the person\n",
    "# however, events prior to the sim are stored with an age of -1...\n",
    "# we need to get able to define primary vs. secondary prevention to do the comparison...\n",
    "# BUT we need to define events excluding the prior events (and they're stored in the same place)\n",
    "# so, the slightly hacky work around is to store prior events as a flag on the person object (e.g. _selfReportMIPriorToSim)\n",
    "# and then to DELETE for the purposes of this analysis the events from the outcomes list that have an age of -1\n",
    "\n",
    "import copy\n",
    "\n",
    "popCopy = copy.deepcopy(pop)\n",
    "for person in pop._people:\n",
    "    for outcomeType, outcomeTupleList in person._outcomes.items():\n",
    "        if len(outcomeTupleList) > 0 and outcomeTupleList[0][0] < 0:\n",
    "            outcomeTupleList.remove(outcomeTupleList[0])\n",
    "\n",
    "### Incideence by primvary vs. seconeary status...\n",
    "def hasCVEvent(person):\n",
    "    return person._selfReportStrokePriorToSim or person._selfReportMIPriorToSim\n",
    "\n",
    "def hasCVEventDF(person):\n",
    "    return person.miPriorToSim or person.strokePriorToSim\n",
    "\n",
    "secondaryMIIncidence = popCopy.calculate_mean_age_sex_standardized_incidence(OutcomeType.MI, 2000, hasCVEvent,hasCVEventDF )\n",
    "print(f\"Secondary MI Incidence: {secondaryMIIncidence[0]} \\nevent count: {secondaryMIIncidence[1]}\")\n",
    "\n",
    "### Incideence by primvary vs. seconeary status...\n",
    "def noCVEvent(person):\n",
    "    return (not person._selfReportStrokePriorToSim) and (not person._selfReportMIPriorToSim)\n",
    "\n",
    "def noCVEventDF(person):\n",
    "    return (not person.miPriorToSim) and (not person.strokePriorToSim)\n",
    "\n",
    "primaryMiIncidence = popCopy.calculate_mean_age_sex_standardized_incidence(OutcomeType.MI, 2000, noCVEvent, noCVEventDF)\n",
    "secondaryMiIncidence = popCopy.calculate_mean_age_sex_standardized_incidence(OutcomeType.MI, 2000, hasCVEvent,hasCVEventDF)\n",
    "secondaryStrokeIncidence = popCopy.calculate_mean_age_sex_standardized_incidence(OutcomeType.STROKE, 2000, hasCVEvent,hasCVEventDF)\n",
    "primaryStrokeIncidence = popCopy.calculate_mean_age_sex_standardized_incidence(OutcomeType.STROKE, 2000, noCVEvent,noCVEventDF)\n",
    "\n",
    "overallPrimaryStroke = getIncidence(primaryStrokeIncidence, pop._people.map(noCVEvent).sum())\n",
    "overallSecondaryStroke = getIncidence(secondaryStrokeIncidence, pop._people.map(hasCVEvent).sum())\n",
    "overallPrimaryMI = getIncidence(primaryMiIncidence, pop._people.map(noCVEvent).sum())\n",
    "overallSecondaryMI = getIncidence(secondaryMiIncidence, pop._people.map(hasCVEvent).sum())"
   ]
  },
  {
   "cell_type": "code",
   "execution_count": 22,
   "metadata": {},
   "outputs": [
    {
     "data": {
      "text/plain": [
       "{'incidencePer100K': 148.23766157844614,\n",
       " 'numberEvents': 5504,\n",
       " 'denominator': 237519,\n",
       " 'proportion': 0.023172883011464345,\n",
       " 'proportionLCI': 0.022567823905789253,\n",
       " 'proportionUCI': 0.023777942117139437,\n",
       " 'estimatedRelativeSE': 0.01332176169843473,\n",
       " 'estimatedIncidenceLCI': 144.36707944597484,\n",
       " 'estimatedIncidenceUCI': 152.10824371091744}"
      ]
     },
     "execution_count": 22,
     "metadata": {},
     "output_type": "execute_result"
    }
   ],
   "source": [
    "overallPrimaryStroke"
   ]
  },
  {
   "cell_type": "code",
   "execution_count": 23,
   "metadata": {},
   "outputs": [
    {
     "data": {
      "text/plain": [
       "{'incidencePer100K': 166.85704907273532,\n",
       " 'numberEvents': 733.0,\n",
       " 'denominator': 12481,\n",
       " 'proportion': 0.058729268488101914,\n",
       " 'proportionLCI': 0.05460442026980218,\n",
       " 'proportionUCI': 0.06285411670640165,\n",
       " 'estimatedRelativeSE': 0.03583416669863781,\n",
       " 'estimatedIncidenceLCI': 155.13784978255757,\n",
       " 'estimatedIncidenceUCI': 178.57624836291308}"
      ]
     },
     "execution_count": 23,
     "metadata": {},
     "output_type": "execute_result"
    }
   ],
   "source": [
    "overallSecondaryStroke"
   ]
  },
  {
   "cell_type": "code",
   "execution_count": 24,
   "metadata": {},
   "outputs": [
    {
     "data": {
      "text/plain": [
       "{'incidencePer100K': 236.33377900399518,\n",
       " 'numberEvents': 8342,\n",
       " 'denominator': 237519,\n",
       " 'proportion': 0.03512140081425065,\n",
       " 'proportionLCI': 0.034381077946237196,\n",
       " 'proportionUCI': 0.035861723682264104,\n",
       " 'estimatedRelativeSE': 0.010754575279730774,\n",
       " 'estimatedIncidenceLCI': 231.3521069458094,\n",
       " 'estimatedIncidenceUCI': 241.31545106218095}"
      ]
     },
     "execution_count": 24,
     "metadata": {},
     "output_type": "execute_result"
    }
   ],
   "source": [
    "overallPrimaryMI"
   ]
  },
  {
   "cell_type": "code",
   "execution_count": 25,
   "metadata": {},
   "outputs": [
    {
     "data": {
      "text/plain": [
       "{'incidencePer100K': 273.2345758226326,\n",
       " 'numberEvents': 980.0,\n",
       " 'denominator': 12481,\n",
       " 'proportion': 0.07851934941110487,\n",
       " 'proportionLCI': 0.0738002964019133,\n",
       " 'proportionUCI': 0.08323840242029645,\n",
       " 'estimatedRelativeSE': 0.030663525930716418,\n",
       " 'estimatedIncidenceLCI': 256.8130382408577,\n",
       " 'estimatedIncidenceUCI': 289.65611340440756}"
      ]
     },
     "execution_count": 25,
     "metadata": {},
     "output_type": "execute_result"
    }
   ],
   "source": [
    "overallSecondaryMI"
   ]
  },
  {
   "cell_type": "code",
   "execution_count": 26,
   "metadata": {},
   "outputs": [
    {
     "name": "stdout",
     "output_type": "stream",
     "text": [
      "Absolute event rate in secondary prevention: 0.06, absolute event rate in primary prevention: 0.02\n"
     ]
    }
   ],
   "source": [
    "df = pop.get_people_current_state_as_dataframe(parallel=False)\n",
    "df['cvEvent'] = 0\n",
    "df.loc[((df.strokePriorToSim ==1) | (df.miPriorToSim==1)), 'cvEvent'] = 1\n",
    "denominator = df.cvEvent.value_counts()\n",
    "print(f\"Absolute event rate in secondary prevention: {secondaryStrokeIncidence[1]/denominator[1]:.2f}, absolute event rate in primary prevention: {primaryStrokeIncidence[1]/denominator[0]:.2f}\" )"
   ]
  },
  {
   "cell_type": "code",
   "execution_count": 27,
   "metadata": {},
   "outputs": [
    {
     "data": {
      "text/html": [
       "<div>\n",
       "<style scoped>\n",
       "    .dataframe tbody tr th:only-of-type {\n",
       "        vertical-align: middle;\n",
       "    }\n",
       "\n",
       "    .dataframe tbody tr th {\n",
       "        vertical-align: top;\n",
       "    }\n",
       "\n",
       "    .dataframe thead th {\n",
       "        text-align: right;\n",
       "    }\n",
       "</style>\n",
       "<table border=\"1\" class=\"dataframe\">\n",
       "  <thead>\n",
       "    <tr style=\"text-align: right;\">\n",
       "      <th></th>\n",
       "      <th>age</th>\n",
       "      <th>sbp</th>\n",
       "      <th>dbp</th>\n",
       "      <th>a1c</th>\n",
       "      <th>ldl</th>\n",
       "      <th>bmi</th>\n",
       "      <th>dead</th>\n",
       "    </tr>\n",
       "    <tr>\n",
       "      <th>cvEvent</th>\n",
       "      <th></th>\n",
       "      <th></th>\n",
       "      <th></th>\n",
       "      <th></th>\n",
       "      <th></th>\n",
       "      <th></th>\n",
       "      <th></th>\n",
       "    </tr>\n",
       "  </thead>\n",
       "  <tbody>\n",
       "    <tr>\n",
       "      <th>0</th>\n",
       "      <td>57.021510</td>\n",
       "      <td>124.567679</td>\n",
       "      <td>77.966908</td>\n",
       "      <td>5.471104</td>\n",
       "      <td>120.692685</td>\n",
       "      <td>28.362494</td>\n",
       "      <td>0.129893</td>\n",
       "    </tr>\n",
       "    <tr>\n",
       "      <th>1</th>\n",
       "      <td>74.453009</td>\n",
       "      <td>133.569244</td>\n",
       "      <td>71.494662</td>\n",
       "      <td>6.164832</td>\n",
       "      <td>116.748710</td>\n",
       "      <td>29.148432</td>\n",
       "      <td>0.537297</td>\n",
       "    </tr>\n",
       "  </tbody>\n",
       "</table>\n",
       "</div>"
      ],
      "text/plain": [
       "               age         sbp        dbp       a1c         ldl        bmi  \\\n",
       "cvEvent                                                                      \n",
       "0        57.021510  124.567679  77.966908  5.471104  120.692685  28.362494   \n",
       "1        74.453009  133.569244  71.494662  6.164832  116.748710  29.148432   \n",
       "\n",
       "             dead  \n",
       "cvEvent            \n",
       "0        0.129893  \n",
       "1        0.537297  "
      ]
     },
     "execution_count": 27,
     "metadata": {},
     "output_type": "execute_result"
    }
   ],
   "source": [
    "# quick look at the characterictis of ghe primary vs. secondary pops\n",
    "df.groupby('cvEvent')[['age', 'sbp', 'dbp', 'a1c', 'ldl', 'bmi', 'dead']].mean()"
   ]
  },
  {
   "cell_type": "markdown",
   "metadata": {},
   "source": [
    "#### Looking at the primary vs. secondary prevention data...the absolute rates are much higher in secondary prevention (as shown above), but the age-standardized incidence rates aren't very differnet (for stroke) because of the MUCH higher age at the timeof event. I don't thin this is a big problem \n"
   ]
  },
  {
   "cell_type": "markdown",
   "metadata": {},
   "source": [
    "### MI incidence should be a around 200/100k (assuming that yeh underestiamtes because its in kaiser and primary prevention only)\n",
    "<ul><li>aroudn 175 in PhD, K. R., MD, A. S. G., MPH, T. K. L., RPh, D. M. B. P., PhD, A. E. C.-B., MD, S. P. F., et al. (2017). Trends in Incidence of Hospitalized Acute Myocardial Infarction in the Cardiovascular Research Network (CVRN). The American Journal of Medicine, 130(3), 317–327. http://doi.org/10.1016/j.amjmed.2016.09.014</li>\n",
    "<li>around 200 in Yeh, R. W., Sidney, S., Chandra, M., Sorel, M., Selby, J. V., & Go, A. S. (2010). Population trends in the incidence and outcomes of acute myocardial infarction. The New England Journal of Medicine, 362(23), 2155–2165. http://doi.org/10.1056/NEJMoa0908610</li></ul>\n",
    "\n",
    "### Stroke incidence is harder to pin down — ranges from 130-300+\n",
    "<ul>\n",
    "<li>aroudn 130 in Morgenstern, L. B., Smith, M. A., Sánchez, B. N., Brown, D. L., Zahuranec, D. B., Garcia, N., et al. (2013). Persistent ischemic stroke disparities despite declining incidence in Mexican Americans. Annals of Neurology, 74(6), 778–785. http://doi.org/10.1002/ana.23972</li>\n",
    "<li>around 200 in Kleindorfer, D. O., Khoury, J., Moomaw, C. J., Alwell, K., Woo, D., Flaherty, M. L., et al. (2010). Stroke Incidence Is Decreasing in Whites But Not in Blacks: A Population-Based Estimate of Temporal Trends in Stroke Incidence From the Greater Cincinnati/Northern Kentucky Stroke Study * Supplemental Material, 41(7), 1326–1331. http://doi.org/10.1161/STROKEAHA.109.575043</li>\n",
    "<li>appears to be much higher in REGARDS< (460) and then summarize rates from 100-480! Howard, V. J., Kleindorfer, D. O., Judd, S. E., Mcclure, L. A., Safford, M. M., Rhodes, J. D., et al. (2011). Disparities in stroke incidence contributing to disparities in stroke mortality. Annals of Neurology, 69(4), 619–627. http://doi.org/10.1002/ana.22385</li>\n",
    "<li>Hospitalizaiton rate is around 200/100k: Ramirez, L., Kim Tenser, M. A., Sanossian, N., Cen, S., Wen, G., He, S., et al. (2016). Trends in Acute Ischemic Stroke Hospitalizations in the United States. Journal of the American Heart Association, 5(5), 1–8. http://doi.org/10.1161/JAHA.116.003233</li></ul>\n",
    "\n",
    "### We generally reproduce black-white disparities.\n",
    "<ul>\n",
    "    <li>From the Kleindorfer paper above, black incidence is about 1.8x white incience. In the Howard paper above, it summarizes differences from 1.6-2.8. Our estimate comes out around 2.1 - so in the middle of that range.</li>\n",
    "    <li>Interestingly, I did not know that there is no major disparity in MI incidence by race. Yet, that appears to be the case in Kaiser, at least. (Chi, G. C., Kanter, M. H., Li, B. H., Qian, L., Reading, S. R., Harrison, T. N., et al. (2020). Trends in Acute Myocardial Infarction by Race and Ethnicity. Journal of the American Heart Association, 9(5), e013542. http://doi.org/10.1161/JAHA.119.013542)\n",
    "    </li>\n",
    "    <li>Our simulation relatively comes up wiht a 10-15% higher incidence of MI in whites than blacks which is generally concordant with the Kaiser data\n",
    "</ul>    \n",
    "\n",
    "\n",
    "### Numerically, in the whole population there should be slightly more MIs than strokes when including primary + secondary events\n",
    "https://www.heart.org/-/media/data-import/downloadables/heart-disease-and-stroke-statistics-2018---at-a-glance-ucm_498848.pdf\n",
    "\n",
    "— it is harder to talk about primary vs. secondary incidence, because secondary events occur in a much older population and rarely is incidence reported by primary and secondary status. so, its hard to determine if the simulation is producing valid results regarding primary vs. secondary effects using incidence\n",
    "\n",
    "### age standardized all cause mortality for the whole population...\n",
    "- https://www.cdc.gov/nchs/data/nvsr/nvsr67/nvsr67_05.pdf\n",
    "- in 2016, age standardized death rate is 728.8 deaths per 100,000, crude death rate is 849.3 per 100,000 population.\n",
    "\n",
    "\n"
   ]
  },
  {
   "cell_type": "code",
   "execution_count": 28,
   "metadata": {},
   "outputs": [
    {
     "name": "stdout",
     "output_type": "stream",
     "text": [
      "Overall mortality: 788.5046698585622\n"
     ]
    }
   ],
   "source": [
    "print(f\"Overall mortality: {pop.calculate_mean_age_sex_standardized_mortality(2000)}\")"
   ]
  },
  {
   "cell_type": "code",
   "execution_count": 29,
   "metadata": {},
   "outputs": [],
   "source": [
    "lifeTable = pd.read_excel('/Users/burke.227/Documents/research/bpCog/nhanes/probSurvLifeTables_ss2019.xlsx')\n",
    "lifeTable['meanSurvProb'] = (lifeTable.maleProbSurv + lifeTable.femaleProbSurv)/2"
   ]
  },
  {
   "cell_type": "code",
   "execution_count": 30,
   "metadata": {},
   "outputs": [],
   "source": [
    "# a bunch of reporting code that shoudl probably get pushed to person...\n",
    "def prob_mortality_by_age(pop):\n",
    "    denominatorForAgeMale = {i : 0 for i in range(18, 200)}\n",
    "    numeratorForAgeMale = {i : 0 for i in range(18, 200)}\n",
    "    denominatorForAgeFemale = {i : 0 for i in range(18, 200)}\n",
    "    numeratorForAgeFemale = {i : 0 for i in range(18, 200)}\n",
    "\n",
    "    for i, person in pop._people.iteritems():\n",
    "        if int(person._gender) ==2:\n",
    "            process_person(person, pop, denominatorForAgeFemale, numeratorForAgeFemale)\n",
    "        else:\n",
    "            process_person(person, pop, denominatorForAgeMale, numeratorForAgeMale)\n",
    "\n",
    "    denominatorForAgeMale = {i : x for i, x in denominatorForAgeMale.items() if x > 0}\n",
    "    denominatorForAgeFemale = {i : x for i, x in denominatorForAgeFemale.items() if x > 0}\n",
    "    male = {age : numeratorForAgeMale[age] / rate for age, rate in denominatorForAgeMale.items()}\n",
    "    female =  {age : numeratorForAgeFemale[age] / rate for age, rate in denominatorForAgeFemale.items()}\n",
    "    \n",
    "    maleMortalityDF = pd.DataFrame({'age' : male.keys(), 'mortality': male.values()})\n",
    "    femaleMortalityDF = pd.DataFrame({'age' : female.keys(), 'mortality': female.values()})\n",
    "\n",
    "    return maleMortalityDF,femaleMortalityDF\n",
    "\n",
    "def get_pop_mortality_deviation(pop, lifeTable):\n",
    "    mortByAgeMale, mortByAgeFemale = prob_mortality_by_age(pop)\n",
    "    return compare_to_life_table(mortByAgeMale, mortByAgeFemale, lifeTable)\n",
    "\n",
    "def compare_to_life_table(male, female, lifeTable):\n",
    "    maleDiff = male-lifeTable.iloc[:,:2].rename(columns={'Age' : 'age', 'maleProbSurv' : 'mortality'})\n",
    "    femaleDiff = female-lifeTable.iloc[:, np.r_[0, 2]].rename(columns={'Age' : 'age', 'femaleProbSurv' : 'mortality'})\n",
    "    maleDiff['squareDiffs'] = maleDiff['mortality'] **2\n",
    "    femaleDiff['squareDiffs'] = femaleDiff['mortality'] **2\n",
    "    totalDiff = maleDiff + femaleDiff\n",
    "    return totalDiff['squareDiffs'].sum(), totalDiff['squareDiffs']\n",
    "\n",
    "def process_person(person, pop, denominator, numerator):\n",
    "    for i, personAge in enumerate(person._age):\n",
    "        denominator[int(personAge)]= denominator[int(personAge)]+1\n",
    "        if i==pop._currentWave:\n",
    "            break\n",
    "\n",
    "        diedAtAge = not person._alive[i+1]\n",
    "        if diedAtAge:\n",
    "            numerator[int(personAge)]= numerator[int(personAge)]+1\n",
    "            break\n",
    "            \n",
    "def plot_pop(pop, label=\"\", cap=200):\n",
    "    male, female = prob_mortality_by_age(pop)\n",
    "    combined = male\n",
    "    combined.rename(columns={'mortality' : 'maleMortality'}, inplace=True)\n",
    "    combined['femaleMortality'] = female['mortality']\n",
    "\n",
    "    combined['combinedMortality'] = (combined['maleMortality'] + combined['femaleMortality'] ) /2\n",
    "    combinedCap = combined.loc[combined.age < cap]\n",
    "    plt.plot(combinedCap.age, combinedCap.combinedMortality, label=label)\n",
    "    return combinedCap\n",
    "import matplotlib.pyplot as plt\n",
    "#plt.plot(lifeTable.Age, lifeTable.meanSurvProb)"
   ]
  },
  {
   "cell_type": "code",
   "execution_count": 31,
   "metadata": {},
   "outputs": [
    {
     "name": "stderr",
     "output_type": "stream",
     "text": [
      "WARNING:matplotlib.backends.backend_ps:The PostScript backend does not support transparency; partially transparent artists will be rendered opaque.\n",
      "WARNING:matplotlib.backends.backend_ps:The PostScript backend does not support transparency; partially transparent artists will be rendered opaque.\n"
     ]
    },
    {
     "data": {
      "image/png": "[encoded data removed]",
      "text/plain": [
       "<Figure size 432x288 with 1 Axes>"
      ]
     },
     "metadata": {
      "needs_background": "light"
     },
     "output_type": "display_data"
    }
   ],
   "source": [
    "lifeTableCap100 = lifeTable.loc[lifeTable.Age < 100 ]\n",
    "plt.plot(lifeTableCap100.Age, lifeTableCap100.meanSurvProb, label='CDC Life Table')\n",
    "plot_pop(pop, \"MICROSIM\", 100)\n",
    "\n",
    "plt.ylabel(\"Probability of Death\")\n",
    "plt.xlabel(\"Age\")\n",
    "\n",
    "plt.legend(loc='upper left')\n",
    "plt.savefig('ProbabilitlyOfDeathByAge.eps')"
   ]
  },
  {
   "cell_type": "markdown",
   "metadata": {},
   "source": [
    "### Upshot — MI incidence is reasonable, perhaps a little high, Stroke incidence is reasonable, probably a little low relative to MI hard to judge given variability.\n",
    "— Wouldn't make changes at this point, instead will wait until we have better partitioning models and better event moretality models from the combined cohorts\n",
    "\n",
    "### Overall mortality incidence is slightly overestimated by comparison, but has been recalibrated to lifetables such that mortality at a given age is very similar to CDC estimates"
   ]
  },
  {
   "cell_type": "code",
   "execution_count": null,
   "metadata": {},
   "outputs": [],
   "source": []
  },
  {
   "cell_type": "code",
   "execution_count": null,
   "metadata": {},
   "outputs": [],
   "source": []
  },
  {
   "cell_type": "markdown",
   "metadata": {},
   "source": [
    "### Rest of the notebook explores disconnects in how mortality is measured by type. \n",
    "\n",
    "Our conclusion is that there are major disconnects between death certificates and the epidemiology for CAD/MI and that we generally think tha the epidemiooogy is more likly to be relevant to the clincial decisios that we're studying."
   ]
  },
  {
   "cell_type": "code",
   "execution_count": 40,
   "metadata": {},
   "outputs": [
    {
     "data": {
      "text/plain": [
       "0    0.88204\n",
       "1    0.03922\n",
       "2    0.00648\n",
       "3    0.07226\n",
       "Name: ucod, dtype: float64"
      ]
     },
     "execution_count": 40,
     "metadata": {},
     "output_type": "execute_result"
    }
   ],
   "source": [
    "# on UCOD 1 = MI, 2=stroke, 3 = other cause of death\n",
    "earlyCrossSectionOfNonImmigrants.ucod.value_counts(normalize=True, sort=False)"
   ]
  },
  {
   "cell_type": "code",
   "execution_count": 11,
   "metadata": {},
   "outputs": [
    {
     "name": "stdout",
     "output_type": "stream",
     "text": [
      "NHANES Overall mortality 0.119\n",
      "Sim aoverall mortality 0.130\n"
     ]
    }
   ],
   "source": [
    "print(\"NHANES Overall mortality %0.3f\" % earlyCrossSectionOfNonImmigrants.diedBy2015.mean())\n",
    "print(\"Sim aoverall mortality %0.3f\" % popSurvival.dead14.mean())"
   ]
  },
  {
   "cell_type": "code",
   "execution_count": 12,
   "metadata": {},
   "outputs": [
    {
     "name": "stdout",
     "output_type": "stream",
     "text": [
      "NHANES CV mortality 0.044\n",
      "Sim CV mortality 0.010\n"
     ]
    }
   ],
   "source": [
    "print(\"NHANES CV mortality %0.3f\" % earlyCrossSectionOfNonImmigrants.cvDeath.mean())\n",
    "print(\"Sim CV mortality %0.3f\" % popSurvival.cvDeath14.mean())"
   ]
  },
  {
   "cell_type": "code",
   "execution_count": 13,
   "metadata": {},
   "outputs": [
    {
     "name": "stdout",
     "output_type": "stream",
     "text": [
      "NHANES non-CV mortality 0.074\n",
      "Sim non-CV mortality 0.120\n"
     ]
    }
   ],
   "source": [
    "print(\"NHANES non-CV mortality %0.3f\" % earlyCrossSectionOfNonImmigrants.nonCVDeath.mean())\n",
    "print(\"Sim non-CV mortality %0.3f\" % popSurvival.nonCVDeath14.mean())"
   ]
  },
  {
   "cell_type": "code",
   "execution_count": 14,
   "metadata": {},
   "outputs": [
    {
     "name": "stdout",
     "output_type": "stream",
     "text": [
      "NHANES Heart Diasease mortality 0.037\n",
      "Sim MI mortality 0.005\n"
     ]
    }
   ],
   "source": [
    "print(\"NHANES Heart Diasease mortality %0.3f\" % earlyCrossSectionOfNonImmigrants.miDeath.mean())\n",
    "print(\"Sim MI mortality %0.3f\" % popSurvival.miDeath14.mean())"
   ]
  },
  {
   "cell_type": "code",
   "execution_count": 15,
   "metadata": {},
   "outputs": [
    {
     "name": "stdout",
     "output_type": "stream",
     "text": [
      "NHANES Stroke mortality 0.007\n",
      "Sim stroke mortality 0.005\n"
     ]
    }
   ],
   "source": [
    "print(\"NHANES Stroke mortality %0.3f\" % earlyCrossSectionOfNonImmigrants.strokeDeath.mean())\n",
    "print(\"Sim stroke mortality %0.3f\" % popSurvival.strokeDeath14.mean())"
   ]
  },
  {
   "cell_type": "markdown",
   "metadata": {},
   "source": [
    "### CV Mortality is the primary problem\n",
    "<p>CV mortality is <b>much</b> highger in NHANES than in the simulation (4.6% vs. 0.8%), whereas non-CV mortality is pretty close (which makes sense since we derived the non-CV mortality omdel from NHANES). This is mostly due to massive (10-fold) underestimationof raw mortality due to MI (3.9% vs. 0.4%)\n",
    "    \n",
    "### Next steps\n",
    "<ol>\n",
    "    <li><b> Rerun non-CV mortality model in NHANES with updated data</b> (Done)</li>\n",
    "    <li> <b>Run mortality incidence code on NHANES — are we wildly over in NHANES compared to CDC estimates?</b> (Done) </li>\n",
    "    <li> Might have to run incidnce code on death cerrts — can we reproduce the CDC etimates (i.e is there a code problem in the incidence calc?) (Incidenece calcs have been checked quite a bit...I trust them now)</li>\n",
    "    <li> <b>Document the epi logic problem that is in the emali to Jeremy </b> (Done)</li>\n",
    "    <li> <b>Play with the assumptions to see how far we could move things</b> (Done)</li>\n",
    "    <li> <b>Check incidende in subgroups by race/ethnicity and gender and for primary/secondary prevention</b> (Done)</li>\n",
    "    <li> <b>Is the story here about primary vs. secondary prevention? If secondaray events are much more common given primary events and they have much higher mortality, then this could close part of the gap... (Jeremy's email)</b> (Done)</li>\n",
    "</ol>"
   ]
  },
  {
   "cell_type": "markdown",
   "metadata": {},
   "source": [
    "### #2 Run mortality incidence code on NHANES — are we wildly over in NHANES compared to CDC estimates?\n",
    "\n"
   ]
  },
  {
   "cell_type": "code",
   "execution_count": null,
   "metadata": {},
   "outputs": [],
   "source": [
    "earlyCrossSectionOfNonImmigrants['yearInSim'] = earlyCrossSectionOfNonImmigrants.monthsToDeath/12\n",
    "\n",
    "# set years in sim to years until death amongst peopel that die.\n",
    "ageStandard = pop.build_age_standard(2016)\n",
    "\n",
    "for index, row in earlyCrossSectionOfNonImmigrants.iterrows():\n",
    "    nhanesFemale = row['gender'] - 1\n",
    "    if (row['ucod'] != 0):\n",
    "        ageStandard.loc[((ageStandard['lowerAgeBound'] <= row['age']) & (ageStandard['upperAgeBound'] >= row['age']) & (ageStandard['female'] == nhanesFemale)),\n",
    "                        'outcomeCount'] += 1\n",
    "    ageStandard.loc[((ageStandard['lowerAgeBound'] <= row['age']) &\n",
    "                     (ageStandard['upperAgeBound'] >= row['age']) &\n",
    "                     (ageStandard['female'] == nhanesFemale)),\n",
    "                    'simPersonYears'] += row['yearInSim']\n",
    "ageStandard = pop.tabulate_age_specific_rates(ageStandard)\n",
    "print (ageStandard['ageSpecificContribution'].sum())"
   ]
  },
  {
   "cell_type": "markdown",
   "metadata": {},
   "source": [
    "### So, estiamted morality is higher in NHANES that in our overall population and consideralby higher than in daeth certificate data\n",
    "\n",
    "My guess is that this is a calculation problem...NHANES and our sim are both coming up in the same neighborhood and its much higher than CDC...the next xtep would be to run teh same calc on teh CDC death certs, but that would be a time consuming step"
   ]
  },
  {
   "cell_type": "markdown",
   "metadata": {},
   "source": [
    "### #3. Broadly, we have a problem with the epidemiology here."
   ]
  },
  {
   "cell_type": "markdown",
   "metadata": {},
   "source": [
    "1. <b>Age standardizd incidence rates of MI (mostly primary prevention?) are around 200/100k. (above)</b>\n",
    "2. <b >Case fatality is around 10%</b> (same refs as above)\n",
    "3. <b>THat implies that mortlaity should be around 20k/100k.</b> (And is very close to what the sim is doing)\n",
    "4. <b>However, death certificate assessed morrality is also around 200/100k</b> (Sidney, S., Quesenberry, C. P., Jr, Jaffe, M. G., Sorel, M., Nguyen-Huynh, M. N., Kushi, L. H., et al. (2016). Recent Trends in Cardiovascular Mortality in the United States and Public Health Goals. JAMA Cardiology, 1(5), 594–6. http://doi.org/10.1001/jamacardio.2016.1326)\n",
    "\n",
    "\n",
    "So...we have a 10-fold gap in mortality on our hands. Theories:\n",
    "<ol>\n",
    "<li><b>Part of this is the differnece between heart diasese and MI mortality.</b> Straight MI dx on death certs make the problem half as big 100k/200k (Underlying Cause of death 1999-2017.xls spreadsheet from CDC wonder(although, its not obvious that MI isn't the primary cause of mortality in a lot of the other \"heart disease\" dx, such as CHF...)</li>\n",
    "\n",
    "<li><b>Death certificates over-report cardiovacular mortality</b>\n",
    "<ul><li>Our paper on stroke AMCOD vs. UCOD compared to MI (which, agian likely understates the degree of overestimation  because many MIs will end up with heart disease deaths...)</li>\n",
    "<li>Jack's paper linking death certs to admin data suggesting that correlaton is lousy and that \"diseases of the heart\" are plausibly over estriamted</li></ul></li>\n",
    "\n",
    "<li><b> Primary vs. Secondary Preventino </b> Our current modles dont' increase rates for secondary events or case fatality...how much would we have to increase to get close to death certs? That seems like an assumption we can play with pretty easily</li>\n",
    "<li><b> better mortality model - right now, old people aren't dying off enough with CV events</b></li>\n",
    "</ol>"
   ]
  },
  {
   "cell_type": "markdown",
   "metadata": {},
   "source": [
    "### 4. Play with the assumptions to see how far we could move things\n",
    "\n",
    "First, let's double the risk for secondary prevention and double the case fatality rate in secondary prevention\n",
    "\n"
   ]
  },
  {
   "cell_type": "code",
   "execution_count": null,
   "metadata": {},
   "outputs": [],
   "source": [
    "caseFatalityMultiplier = [1,2,3,4,5]\n",
    "secondaryIncidenceMultiplier=[1,2,3,4,5,6,7]\n",
    "results = []\n",
    "\n",
    "for fatalityMult in caseFatalityMultiplier:\n",
    "    for incidenceMult in secondaryIncidenceMultiplier:\n",
    "        print(\"fatality {:d}, incidence {:d}\".format(fatalityMult, incidenceMult))\n",
    "        popSens = NHANESDirectSamplePopulation(n=3000, year=2001) \n",
    "\n",
    "        popSens._outcome_model_repository.secondary_mi_case_fatality = fatalityMult * popSens._outcome_model_repository.mi_case_fatality\n",
    "        popSens._outcome_model_repository.secondary_stroke_case_fatality = fatalityMult * popSens._outcome_model_repository.stroke_case_fatality\n",
    "        popSens._outcome_model_repository.secondary_prevention_multiplier = incidenceMult\n",
    "\n",
    "        popSensDF = pd.DataFrame({\"index\" : popSens._people.index, \"baseAge\" : [person._age[0] for person in popSens._people]} )\n",
    "        popSensDF['ageDecile'] = pd.qcut(popSensDF.baseAge, 10)\n",
    "        for year in range(1,15):\n",
    "            popSens.advance(1)\n",
    "            popSensDF['dead' + str(year)] = [person.is_dead() for person in popSens._people]\n",
    "            popSensDF['cvDeath' + str(year)] = [person.has_fatal_stroke() or person.has_fatal_mi() for person in popSens._people]\n",
    "            popSensDF['strokeDeath' + str(year)] = [person.has_fatal_stroke() for person in popSens._people]\n",
    "            popSensDF['miDeath' + str(year)] = [person.has_fatal_mi() for person in popSens._people]\n",
    "            popSensDF['nonCVDeath' + str(year)] = [person.is_dead() and (person.has_fatal_stroke() ==False) and (person.has_fatal_mi() == False) for person in popSens._people]\n",
    "            popSensDF['cvDeath' + str(year)] = [person.is_dead() and (person.has_fatal_stroke() ==True) or (person.has_fatal_mi() == True) for person in popSens._people]\n",
    "\n",
    "        results.append((fatalityMult, \n",
    "                        incidenceMult, \n",
    "                        popSensDF.dead14.mean(), \n",
    "                        popSensDF.cvDeath14.mean(),\n",
    "                        popSensDF.nonCVDeath14.mean(),\n",
    "                        popSensDF.miDeath14.mean(),\n",
    "                        popSensDF.strokeDeath14.mean()))"
   ]
  },
  {
   "cell_type": "code",
   "execution_count": null,
   "metadata": {
    "scrolled": true
   },
   "outputs": [],
   "source": [
    "import matplotlib.pyplot as plt\n",
    "%matplotlib inline\n",
    "\n",
    "cvMort= np.array([result[3] for result in results]).reshape(5,7)\n",
    "plt.contourf(cvMort, levels=[0.0, 0.01, 0.015, 0.02, 0.025, 0.03,0.035, 0.04])\n",
    "plt.xticks(np.arange(7), np.arange(1,8))\n",
    "plt.yticks(np.arange(5), np.arange(1,6))\n",
    "plt.xlabel('Secondary Risk Multiplier (ASCVD * x = risk in secondary prevention)')\n",
    "plt.ylabel('Secondary Case Fatality Multiplier\\n (Primary case fatality * y = \\ncase fatality in secondary prevention)')\n",
    "plt.colorbar()"
   ]
  },
  {
   "cell_type": "markdown",
   "metadata": {},
   "source": [
    "#### So...to get a CV mortality rate that approximates what is measured in NHANES, we need to multiply the secondary prevention risk by 7! and the secondary case fatality risk by 5!"
   ]
  },
  {
   "cell_type": "code",
   "execution_count": null,
   "metadata": {},
   "outputs": [],
   "source": []
  },
  {
   "cell_type": "code",
   "execution_count": null,
   "metadata": {},
   "outputs": [],
   "source": []
  },
  {
   "cell_type": "code",
   "execution_count": null,
   "metadata": {},
   "outputs": [],
   "source": [
    "earlyCrossSectionOfNonImmigrants['ageDecile'] = pd.qcut(earlyCrossSectionOfNonImmigrants.age, 10)\n",
    "\n",
    "mortalityByDecileNHANES = earlyCrossSectionOfNonImmigrants[['diedBy2015','ageDecile']].groupby(earlyCrossSectionOfNonImmigrants.ageDecile).mean()\n",
    "mortalityByDecileSim = popSurvival[['dead10', 'ageDecile']].groupby(popSurvival.ageDecile).mean()\n",
    "\n",
    "simBar =plt.bar(mortalityByDecileSim.index.codes+0.5, mortalityByDecileSim.dead10, width=0.5, label=\"sim\")\n",
    "nhanesBar = plt.bar(mortalityByDecileNHANES.index.codes, mortalityByDecileNHANES.diedBy2015, width=0.5, label=\"nhanes\")\n",
    "plt.legend()\n"
   ]
  },
  {
   "cell_type": "code",
   "execution_count": null,
   "metadata": {},
   "outputs": [],
   "source": []
  },
  {
   "cell_type": "code",
   "execution_count": null,
   "metadata": {},
   "outputs": [],
   "source": [
    "strokeMortalityByDecileNHANES = earlyCrossSectionOfNonImmigrants[['strokeDeath','ageDecile']].groupby(earlyCrossSectionOfNonImmigrants.ageDecile).mean()\n",
    "mortalityByDecileSim = popSurvival[['strokeDeath10', 'ageDecile']].groupby(popSurvival.ageDecile).mean()\n",
    "\n",
    "simBar =plt.bar(mortalityByDecileSim.index.codes+0.5, mortalityByDecileSim.strokeDeath10, width=0.5, label=\"sim\")\n",
    "nhanesBar = plt.bar(mortalityByDecileNHANES.index.codes, strokeMortalityByDecileNHANES.strokeDeath, width=0.5, label=\"nhanes\")\n",
    "plt.legend()"
   ]
  },
  {
   "cell_type": "code",
   "execution_count": null,
   "metadata": {},
   "outputs": [],
   "source": [
    "miMortalityByDecileNHANES = earlyCrossSectionOfNonImmigrants[['miDeath','ageDecile']].groupby('ageDecile').mean()\n",
    "miMortalityByDecileSim = popSurvival[['miDeath10', 'ageDecile']].groupby(popSurvival.ageDecile).mean()\n",
    "\n",
    "simBar =plt.bar(miMortalityByDecileSim.index.codes+0.5, miMortalityByDecileSim.miDeath10, width=0.5, label=\"sim\")\n",
    "nhanesBar = plt.bar(miMortalityByDecileNHANES.index.codes, miMortalityByDecileNHANES.miDeath, width=0.5, label=\"nhanes\")\n",
    "plt.legend()"
   ]
  },
  {
   "cell_type": "code",
   "execution_count": null,
   "metadata": {},
   "outputs": [],
   "source": [
    "cvMortalityByDecileNHANES = earlyCrossSectionOfNonImmigrants[['cvDeath','ageDecile']].groupby(earlyCrossSectionOfNonImmigrants.ageDecile).mean()\n",
    "cvMortalityByDecileSim = popSurvival[['cvDeath10', 'ageDecile']].groupby(popSurvival.ageDecile).mean()\n",
    "\n",
    "simBar =plt.bar(cvMortalityByDecileSim.index.codes+0.5, cvMortalityByDecileSim.cvDeath10, width=0.5, label=\"sim\")\n",
    "nhanesBar = plt.bar(cvMortalityByDecileNHANES.index.codes, cvMortalityByDecileNHANES.cvDeath, width=0.5, label=\"nhanes\")\n",
    "plt.legend()"
   ]
  },
  {
   "cell_type": "code",
   "execution_count": null,
   "metadata": {},
   "outputs": [],
   "source": [
    "nonCVMortalityByDecileNHANES = earlyCrossSectionOfNonImmigrants[['nonCVDeath','ageDecile']].groupby(earlyCrossSectionOfNonImmigrants.ageDecile).mean()\n",
    "nonCVMortalityByDecileSim = popSurvival[['nonCVDeath10', 'ageDecile']].groupby(popSurvival.ageDecile).mean()\n",
    "\n",
    "nonCVsimBar =plt.bar(nonCVMortalityByDecileSim.index.codes+0.5, nonCVMortalityByDecileSim.nonCVDeath10, width=0.5, label=\"sim non cv\")\n",
    "cvSimBar =plt.bar(cvMortalityByDecileSim.index.codes+0.5, cvMortalityByDecileSim.cvDeath10, width=0.5, label=\"sim cv\", bottom=nonCVMortalityByDecileSim.nonCVDeath10)\n",
    "\n",
    "nonCVnhanesBar = plt.bar(nonCVMortalityByDecileNHANES.index.codes, nonCVMortalityByDecileNHANES.nonCVDeath, width=0.5, label=\"nhanes nonCV\")\n",
    "cvnhanesBar = plt.bar(cvMortalityByDecileNHANES.index.codes, cvMortalityByDecileNHANES.cvDeath, width=0.5, bottom=nonCVMortalityByDecileNHANES.nonCVDeath, label=\"nhanes CV\")\n",
    "plt.legend()"
   ]
  },
  {
   "cell_type": "markdown",
   "metadata": {},
   "source": [
    "### So, we have slight under prediction of mortality in the simulation. Is that because of the code or the data?\n",
    "\n",
    "To test — we will rerun the simulation on the direct NHANES data that we use in the calibration..."
   ]
  },
  {
   "cell_type": "code",
   "execution_count": null,
   "metadata": {},
   "outputs": [],
   "source": [
    "from mcm.gender import NHANESGender\n",
    "from mcm.person import Person\n",
    "from mcm.outcome import Outcome\n",
    "from mcm.race_ethnicity import NHANESRaceEthnicity\n",
    "from mcm.smoking_status import SmokingStatus\n",
    "from mcm.cohort_risk_model_repository import CohortRiskModelRepository\n",
    "from mcm.outcome_model_repository import OutcomeModelRepository"
   ]
  },
  {
   "cell_type": "code",
   "execution_count": null,
   "metadata": {},
   "outputs": [],
   "source": [
    "import os \n",
    "\n",
    "def calcMortalityRunningFullModel(x):\n",
    "        temp =  Person(\n",
    "            age=x.age,\n",
    "            gender=NHANESGender(int(x.gender)),\n",
    "            raceEthnicity=NHANESRaceEthnicity(int(x.raceEthnicity)),\n",
    "            sbp=x.meanSBP,\n",
    "            dbp=x.meanDBP,\n",
    "            a1c=x.a1c,\n",
    "            hdl=x.hdl,\n",
    "            ldl=x.ldl,\n",
    "            trig=x.trig,\n",
    "            totChol=x.tot_chol,\n",
    "            bmi=x.bmi,\n",
    "            smokingStatus=SmokingStatus(int(x.smokingStatus)),\n",
    "            dfIndex=x.index,\n",
    "            diedBy2011=x.diedBy2011)\n",
    "        \n",
    "        for year in range(1,11):\n",
    "            if not temp.is_dead():\n",
    "                temp.advance_year(riskModel, cohortModel)\n",
    "        return temp.is_dead()\n",
    "\n",
    "earlyCrossSectionOfNonImmigrants['estMortalityFromModel'] = earlyCrossSectionOfNonImmigrants.apply(calcMortalityRunningFullModel, axis=1)"
   ]
  },
  {
   "cell_type": "code",
   "execution_count": null,
   "metadata": {},
   "outputs": [],
   "source": [
    "earlyCrossSectionOfNonImmigrants['ageDecile'] = pd.qcut(earlyCrossSectionOfNonImmigrants.age, 10)\n",
    "output = earlyCrossSectionOfNonImmigrants.groupby('ageDecile')[['diedBy2011', 'estMortalityFromModel']].mean()\n",
    "print(output)\n",
    "plt.bar(output.index.codes+1, output.diedBy2011, width=0.5, label=\"actualDeath\")\n",
    "plt.bar(output.index.codes+1.5, output.estMortalityFromModel, width=0.5, label=\"model\")\n",
    "\n",
    "plt.legend()"
   ]
  },
  {
   "cell_type": "markdown",
   "metadata": {},
   "source": [
    "### Ok...this looks quite good...on the same data, the under-prediction problem looks very modest"
   ]
  },
  {
   "cell_type": "code",
   "execution_count": null,
   "metadata": {},
   "outputs": [],
   "source": [
    "earlyCrossSectionOfNonImmigrants.to_stata(\"/Users/burke/Documents/research/bpCog/nhanes/earlyCrossSectionOfNonImmigrants.dta\")\n",
    "earlyCrossSectionOfNonImmigrants.ageDecile.value_counts().sort_index()"
   ]
  },
  {
   "cell_type": "code",
   "execution_count": null,
   "metadata": {},
   "outputs": [],
   "source": [
    "earlyCrossSectionOfNonImmigrants[['diedBy2011', 'estMortalityFromCox', 'estMortalityFromModel']].mean()"
   ]
  },
  {
   "cell_type": "code",
   "execution_count": null,
   "metadata": {},
   "outputs": [],
   "source": [
    "# well...this is not easy to explain.\n",
    "# for the most part the code-bsaed calculation looks similar, gut it under predicts mortaltiy substantially in the highest age decile\n",
    "# this is a bit strange...but, not impossible. if you look at the within population validation, it seems that we under-predicted in the oldest cohort for our basee model as well\n",
    "# i wonder if having a longer follow-up (by constraining to the early oohort might cause that problem...that should be straight-forward to check)\n",
    "\n",
    "# the code based model is over-estmiaging mortalty thorughout.\n",
    "# this is going to be harder to figure otu...\n",
    "# possibilities: 1. the times aren't right...and the cohort model is getting exposed to more time than the comparators\n",
    "# the time aggregation isn't right...the one year probabilities are summing to something greater than the whole"
   ]
  },
  {
   "cell_type": "code",
   "execution_count": null,
   "metadata": {},
   "outputs": [],
   "source": [
    "earlyCrossSectionOfNonImmigrants.ucod.value_counts()"
   ]
  },
  {
   "cell_type": "code",
   "execution_count": null,
   "metadata": {},
   "outputs": [],
   "source": [
    "# next steps — 1. see if we under-preditx mortality badly in the NHANES popualtion if we look at only the people that are enrolled early (and thus have long follow-up)"
   ]
  }
 ],
 "metadata": {
  "kernelspec": {
   "display_name": "Python 3 (ipykernel)",
   "language": "python",
   "name": "python3"
  },
  "language_info": {
   "codemirror_mode": {
    "name": "ipython",
    "version": 3
   },
   "file_extension": ".py",
   "mimetype": "text/x-python",
   "name": "python",
   "nbconvert_exporter": "python",
   "pygments_lexer": "ipython3",
   "version": "3.9.7"
  }
 },
 "nbformat": 4,
 "nbformat_minor": 2
}
