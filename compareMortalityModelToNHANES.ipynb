{
 "cells": [
  {
   "cell_type": "code",
   "execution_count": null,
   "metadata": {},
   "outputs": [],
   "source": [
    "%load_ext autoreload\n",
    "%autoreload 2\n",
    "\n",
    "import pandas as pd\n",
    "import numpy as np\n",
    "import os\n",
    "import matplotlib.pyplot as plt\n",
    "\n",
    "pd.set_option('display.max_columns', None)\n",
    "\n",
    "imputedDataset = pd.read_stata(\"/Users/burke/Documents/research/bpCog/mcm/mcm/data/fullyImputedDataset.dta\")\n",
    "imputedDataset.head()\n",
    "noRecentUSInmigration = imputedDataset.loc[~imputedDataset.timeInUS.isin([1,2,3])]\n",
    "earlyCrossSectionOfNonImmigrants = noRecentUSInmigration.loc[noRecentUSInmigration.year==2001]\n",
    "# here we just need to throw out the very young people for comparisons\n",
    "earlyCrossSectionOfNonImmigrants = earlyCrossSectionOfNonImmigrants.loc[earlyCrossSectionOfNonImmigrants.age > 18 + 2]\n",
    "\n",
    "earlyCrossSectionOfNonImmigrants['strokeDeath'] = np.where(((earlyCrossSectionOfNonImmigrants.diedBy2011.values == 1) & (earlyCrossSectionOfNonImmigrants.ucod.values==2)), 1, 0)\n",
    "earlyCrossSectionOfNonImmigrants['miDeath'] = np.where(((earlyCrossSectionOfNonImmigrants.diedBy2011.values == 1) & (earlyCrossSectionOfNonImmigrants.ucod.values==1)), 1, 0)\n",
    "earlyCrossSectionOfNonImmigrants['cvDeath'] = np.where(((earlyCrossSectionOfNonImmigrants.strokeDeath.values == 1) | (earlyCrossSectionOfNonImmigrants.miDeath.values==1)), 1, 0)\n",
    "earlyCrossSectionOfNonImmigrants['nonCVDeath'] = np.where(((earlyCrossSectionOfNonImmigrants.diedBy2011 ==1) & (earlyCrossSectionOfNonImmigrants.strokeDeath.values == 0) & (earlyCrossSectionOfNonImmigrants.miDeath.values==0)), 1, 0)\n",
    "\n",
    "\n",
    "earlyCrossSectionOfNonImmigrants = earlyCrossSectionOfNonImmigrants.sample(n=100000, weights=earlyCrossSectionOfNonImmigrants.WTINT2YR, replace=True)"
   ]
  },
  {
   "cell_type": "code",
   "execution_count": 2,
   "metadata": {},
   "outputs": [],
   "source": [
    "import os\n",
    "os.chdir(\"/Users/burke/Documents/research/bpCog/mcm\")\n",
    "from mcm.population import NHANESDirectSamplePopulation\n",
    "\n",
    "pop = NHANESDirectSamplePopulation(n=10000, year=1999)"
   ]
  },
  {
   "cell_type": "code",
   "execution_count": 11,
   "metadata": {},
   "outputs": [
    {
     "name": "stdout",
     "output_type": "stream",
     "text": [
      "                                    population  outcomeCount\n",
      "lowerAgeBound upperAgeBound female                          \n",
      "0             0             0          2021764             0\n",
      "                            1          1933613             0\n",
      "1             4             0          8163342             0\n",
      "                            1          7800858             0\n",
      "5             9             0         10431307             0\n"
     ]
    },
    {
     "ename": "KeyError",
     "evalue": "'lowerAgeBound'",
     "output_type": "error",
     "traceback": [
      "\u001b[0;31m---------------------------------------------------------------------------\u001b[0m",
      "\u001b[0;31mKeyError\u001b[0m                                  Traceback (most recent call last)",
      "\u001b[0;32m/anaconda3/lib/python3.6/site-packages/pandas/core/indexes/base.py\u001b[0m in \u001b[0;36mget_loc\u001b[0;34m(self, key, method, tolerance)\u001b[0m\n\u001b[1;32m   3062\u001b[0m             \u001b[0;32mtry\u001b[0m\u001b[0;34m:\u001b[0m\u001b[0;34m\u001b[0m\u001b[0m\n\u001b[0;32m-> 3063\u001b[0;31m                 \u001b[0;32mreturn\u001b[0m \u001b[0mself\u001b[0m\u001b[0;34m.\u001b[0m\u001b[0m_engine\u001b[0m\u001b[0;34m.\u001b[0m\u001b[0mget_loc\u001b[0m\u001b[0;34m(\u001b[0m\u001b[0mkey\u001b[0m\u001b[0;34m)\u001b[0m\u001b[0;34m\u001b[0m\u001b[0m\n\u001b[0m\u001b[1;32m   3064\u001b[0m             \u001b[0;32mexcept\u001b[0m \u001b[0mKeyError\u001b[0m\u001b[0;34m:\u001b[0m\u001b[0;34m\u001b[0m\u001b[0m\n",
      "\u001b[0;32mpandas/_libs/index.pyx\u001b[0m in \u001b[0;36mpandas._libs.index.IndexEngine.get_loc\u001b[0;34m()\u001b[0m\n",
      "\u001b[0;32mpandas/_libs/index.pyx\u001b[0m in \u001b[0;36mpandas._libs.index.IndexEngine.get_loc\u001b[0;34m()\u001b[0m\n",
      "\u001b[0;32mpandas/_libs/hashtable_class_helper.pxi\u001b[0m in \u001b[0;36mpandas._libs.hashtable.PyObjectHashTable.get_item\u001b[0;34m()\u001b[0m\n",
      "\u001b[0;32mpandas/_libs/hashtable_class_helper.pxi\u001b[0m in \u001b[0;36mpandas._libs.hashtable.PyObjectHashTable.get_item\u001b[0;34m()\u001b[0m\n",
      "\u001b[0;31mKeyError\u001b[0m: 'lowerAgeBound'",
      "\nDuring handling of the above exception, another exception occurred:\n",
      "\u001b[0;31mKeyError\u001b[0m                                  Traceback (most recent call last)",
      "\u001b[0;32m<ipython-input-11-e781af1c58e5>\u001b[0m in \u001b[0;36m<module>\u001b[0;34m()\u001b[0m\n\u001b[1;32m      1\u001b[0m \u001b[0;31m#pop.advance(1)\u001b[0m\u001b[0;34m\u001b[0m\u001b[0;34m\u001b[0m\u001b[0m\n\u001b[1;32m      2\u001b[0m \u001b[0;32mfrom\u001b[0m \u001b[0mmcm\u001b[0m\u001b[0;34m.\u001b[0m\u001b[0moutcome\u001b[0m \u001b[0;32mimport\u001b[0m \u001b[0mOutcomeType\u001b[0m\u001b[0;34m\u001b[0m\u001b[0m\n\u001b[0;32m----> 3\u001b[0;31m \u001b[0mprint\u001b[0m\u001b[0;34m(\u001b[0m\u001b[0mpop\u001b[0m\u001b[0;34m.\u001b[0m\u001b[0mcalculate_age_sex_standardized_incidence\u001b[0m\u001b[0;34m(\u001b[0m\u001b[0mOutcomeType\u001b[0m\u001b[0;34m.\u001b[0m\u001b[0mMI\u001b[0m\u001b[0;34m,\u001b[0m \u001b[0;36m2016\u001b[0m\u001b[0;34m)\u001b[0m\u001b[0;34m)\u001b[0m\u001b[0;34m\u001b[0m\u001b[0m\n\u001b[0m",
      "\u001b[0;32m~/Documents/research/bpCog/mcm/mcm/population.py\u001b[0m in \u001b[0;36mcalculate_age_sex_standardized_incidence\u001b[0;34m(self, outcomeType, yearOfStandardizedPopulation)\u001b[0m\n\u001b[1;32m     75\u001b[0m         \u001b[0;32mfor\u001b[0m \u001b[0mperson\u001b[0m \u001b[0;32min\u001b[0m \u001b[0mself\u001b[0m\u001b[0;34m.\u001b[0m\u001b[0m_people\u001b[0m\u001b[0;34m:\u001b[0m\u001b[0;34m\u001b[0m\u001b[0m\n\u001b[1;32m     76\u001b[0m             \u001b[0;32mif\u001b[0m \u001b[0mlen\u001b[0m\u001b[0;34m(\u001b[0m\u001b[0mperson\u001b[0m\u001b[0;34m.\u001b[0m\u001b[0m_outcomes\u001b[0m\u001b[0;34m[\u001b[0m\u001b[0moutcomeType\u001b[0m\u001b[0;34m]\u001b[0m\u001b[0;34m)\u001b[0m \u001b[0;34m>\u001b[0m \u001b[0;36m0\u001b[0m\u001b[0;34m:\u001b[0m\u001b[0;34m\u001b[0m\u001b[0m\n\u001b[0;32m---> 77\u001b[0;31m                 \u001b[0mageStandard\u001b[0m\u001b[0;34m.\u001b[0m\u001b[0mloc\u001b[0m\u001b[0;34m[\u001b[0m\u001b[0;34m(\u001b[0m\u001b[0;34m(\u001b[0m\u001b[0mageStandard\u001b[0m\u001b[0;34m[\u001b[0m\u001b[0;34m'lowerAgeBound'\u001b[0m\u001b[0;34m]\u001b[0m \u001b[0;34m>=\u001b[0m \u001b[0mperson\u001b[0m\u001b[0;34m.\u001b[0m\u001b[0mage\u001b[0m\u001b[0;34m)\u001b[0m \u001b[0;34m&\u001b[0m \u001b[0;34m(\u001b[0m\u001b[0mageStandard\u001b[0m\u001b[0;34m[\u001b[0m\u001b[0;34m'upperAgeBound'\u001b[0m\u001b[0;34m]\u001b[0m \u001b[0;34m<=\u001b[0m \u001b[0mperson\u001b[0m\u001b[0;34m.\u001b[0m\u001b[0mage\u001b[0m\u001b[0;34m)\u001b[0m\u001b[0;34m)\u001b[0m\u001b[0;34m,\u001b[0m \u001b[0;34m'outcomeCount'\u001b[0m\u001b[0;34m]\u001b[0m \u001b[0;34m+=\u001b[0m \u001b[0;36m1\u001b[0m\u001b[0;34m\u001b[0m\u001b[0m\n\u001b[0m\u001b[1;32m     78\u001b[0m         \u001b[0mageStandard\u001b[0m\u001b[0;34m[\u001b[0m\u001b[0;34m'percentInGroup'\u001b[0m\u001b[0;34m]\u001b[0m \u001b[0;34m=\u001b[0m \u001b[0mageStandard\u001b[0m\u001b[0;34m[\u001b[0m\u001b[0;34m'population'\u001b[0m\u001b[0;34m]\u001b[0m \u001b[0;34m/\u001b[0m \u001b[0;34m(\u001b[0m\u001b[0mageStandard\u001b[0m\u001b[0;34m[\u001b[0m\u001b[0;34m'population'\u001b[0m\u001b[0;34m]\u001b[0m\u001b[0;34m.\u001b[0m\u001b[0msum\u001b[0m\u001b[0;34m(\u001b[0m\u001b[0;34m)\u001b[0m\u001b[0;34m)\u001b[0m\u001b[0;34m\u001b[0m\u001b[0m\n\u001b[1;32m     79\u001b[0m         \u001b[0mageStandard\u001b[0m\u001b[0;34m[\u001b[0m\u001b[0;34m'ageSpecificRate'\u001b[0m\u001b[0;34m]\u001b[0m \u001b[0;34m=\u001b[0m \u001b[0mageStandard\u001b[0m\u001b[0;34m[\u001b[0m\u001b[0;34m'outcomeCount'\u001b[0m\u001b[0;34m]\u001b[0m \u001b[0;34m/\u001b[0m \u001b[0mageStandard\u001b[0m\u001b[0;34m[\u001b[0m\u001b[0;34m'population'\u001b[0m\u001b[0;34m]\u001b[0m \u001b[0;34m*\u001b[0m \u001b[0;36m100\u001b[0m\u001b[0;34m,\u001b[0m\u001b[0;36m000\u001b[0m\u001b[0;34m\u001b[0m\u001b[0m\n",
      "\u001b[0;32m/anaconda3/lib/python3.6/site-packages/pandas/core/frame.py\u001b[0m in \u001b[0;36m__getitem__\u001b[0;34m(self, key)\u001b[0m\n\u001b[1;32m   2683\u001b[0m             \u001b[0;32mreturn\u001b[0m \u001b[0mself\u001b[0m\u001b[0;34m.\u001b[0m\u001b[0m_getitem_multilevel\u001b[0m\u001b[0;34m(\u001b[0m\u001b[0mkey\u001b[0m\u001b[0;34m)\u001b[0m\u001b[0;34m\u001b[0m\u001b[0m\n\u001b[1;32m   2684\u001b[0m         \u001b[0;32melse\u001b[0m\u001b[0;34m:\u001b[0m\u001b[0;34m\u001b[0m\u001b[0m\n\u001b[0;32m-> 2685\u001b[0;31m             \u001b[0;32mreturn\u001b[0m \u001b[0mself\u001b[0m\u001b[0;34m.\u001b[0m\u001b[0m_getitem_column\u001b[0m\u001b[0;34m(\u001b[0m\u001b[0mkey\u001b[0m\u001b[0;34m)\u001b[0m\u001b[0;34m\u001b[0m\u001b[0m\n\u001b[0m\u001b[1;32m   2686\u001b[0m \u001b[0;34m\u001b[0m\u001b[0m\n\u001b[1;32m   2687\u001b[0m     \u001b[0;32mdef\u001b[0m \u001b[0m_getitem_column\u001b[0m\u001b[0;34m(\u001b[0m\u001b[0mself\u001b[0m\u001b[0;34m,\u001b[0m \u001b[0mkey\u001b[0m\u001b[0;34m)\u001b[0m\u001b[0;34m:\u001b[0m\u001b[0;34m\u001b[0m\u001b[0m\n",
      "\u001b[0;32m/anaconda3/lib/python3.6/site-packages/pandas/core/frame.py\u001b[0m in \u001b[0;36m_getitem_column\u001b[0;34m(self, key)\u001b[0m\n\u001b[1;32m   2690\u001b[0m         \u001b[0;31m# get column\u001b[0m\u001b[0;34m\u001b[0m\u001b[0;34m\u001b[0m\u001b[0m\n\u001b[1;32m   2691\u001b[0m         \u001b[0;32mif\u001b[0m \u001b[0mself\u001b[0m\u001b[0;34m.\u001b[0m\u001b[0mcolumns\u001b[0m\u001b[0;34m.\u001b[0m\u001b[0mis_unique\u001b[0m\u001b[0;34m:\u001b[0m\u001b[0;34m\u001b[0m\u001b[0m\n\u001b[0;32m-> 2692\u001b[0;31m             \u001b[0;32mreturn\u001b[0m \u001b[0mself\u001b[0m\u001b[0;34m.\u001b[0m\u001b[0m_get_item_cache\u001b[0m\u001b[0;34m(\u001b[0m\u001b[0mkey\u001b[0m\u001b[0;34m)\u001b[0m\u001b[0;34m\u001b[0m\u001b[0m\n\u001b[0m\u001b[1;32m   2693\u001b[0m \u001b[0;34m\u001b[0m\u001b[0m\n\u001b[1;32m   2694\u001b[0m         \u001b[0;31m# duplicate columns & possible reduce dimensionality\u001b[0m\u001b[0;34m\u001b[0m\u001b[0;34m\u001b[0m\u001b[0m\n",
      "\u001b[0;32m/anaconda3/lib/python3.6/site-packages/pandas/core/generic.py\u001b[0m in \u001b[0;36m_get_item_cache\u001b[0;34m(self, item)\u001b[0m\n\u001b[1;32m   2484\u001b[0m         \u001b[0mres\u001b[0m \u001b[0;34m=\u001b[0m \u001b[0mcache\u001b[0m\u001b[0;34m.\u001b[0m\u001b[0mget\u001b[0m\u001b[0;34m(\u001b[0m\u001b[0mitem\u001b[0m\u001b[0;34m)\u001b[0m\u001b[0;34m\u001b[0m\u001b[0m\n\u001b[1;32m   2485\u001b[0m         \u001b[0;32mif\u001b[0m \u001b[0mres\u001b[0m \u001b[0;32mis\u001b[0m \u001b[0;32mNone\u001b[0m\u001b[0;34m:\u001b[0m\u001b[0;34m\u001b[0m\u001b[0m\n\u001b[0;32m-> 2486\u001b[0;31m             \u001b[0mvalues\u001b[0m \u001b[0;34m=\u001b[0m \u001b[0mself\u001b[0m\u001b[0;34m.\u001b[0m\u001b[0m_data\u001b[0m\u001b[0;34m.\u001b[0m\u001b[0mget\u001b[0m\u001b[0;34m(\u001b[0m\u001b[0mitem\u001b[0m\u001b[0;34m)\u001b[0m\u001b[0;34m\u001b[0m\u001b[0m\n\u001b[0m\u001b[1;32m   2487\u001b[0m             \u001b[0mres\u001b[0m \u001b[0;34m=\u001b[0m \u001b[0mself\u001b[0m\u001b[0;34m.\u001b[0m\u001b[0m_box_item_values\u001b[0m\u001b[0;34m(\u001b[0m\u001b[0mitem\u001b[0m\u001b[0;34m,\u001b[0m \u001b[0mvalues\u001b[0m\u001b[0;34m)\u001b[0m\u001b[0;34m\u001b[0m\u001b[0m\n\u001b[1;32m   2488\u001b[0m             \u001b[0mcache\u001b[0m\u001b[0;34m[\u001b[0m\u001b[0mitem\u001b[0m\u001b[0;34m]\u001b[0m \u001b[0;34m=\u001b[0m \u001b[0mres\u001b[0m\u001b[0;34m\u001b[0m\u001b[0m\n",
      "\u001b[0;32m/anaconda3/lib/python3.6/site-packages/pandas/core/internals.py\u001b[0m in \u001b[0;36mget\u001b[0;34m(self, item, fastpath)\u001b[0m\n\u001b[1;32m   4113\u001b[0m \u001b[0;34m\u001b[0m\u001b[0m\n\u001b[1;32m   4114\u001b[0m             \u001b[0;32mif\u001b[0m \u001b[0;32mnot\u001b[0m \u001b[0misna\u001b[0m\u001b[0;34m(\u001b[0m\u001b[0mitem\u001b[0m\u001b[0;34m)\u001b[0m\u001b[0;34m:\u001b[0m\u001b[0;34m\u001b[0m\u001b[0m\n\u001b[0;32m-> 4115\u001b[0;31m                 \u001b[0mloc\u001b[0m \u001b[0;34m=\u001b[0m \u001b[0mself\u001b[0m\u001b[0;34m.\u001b[0m\u001b[0mitems\u001b[0m\u001b[0;34m.\u001b[0m\u001b[0mget_loc\u001b[0m\u001b[0;34m(\u001b[0m\u001b[0mitem\u001b[0m\u001b[0;34m)\u001b[0m\u001b[0;34m\u001b[0m\u001b[0m\n\u001b[0m\u001b[1;32m   4116\u001b[0m             \u001b[0;32melse\u001b[0m\u001b[0;34m:\u001b[0m\u001b[0;34m\u001b[0m\u001b[0m\n\u001b[1;32m   4117\u001b[0m                 \u001b[0mindexer\u001b[0m \u001b[0;34m=\u001b[0m \u001b[0mnp\u001b[0m\u001b[0;34m.\u001b[0m\u001b[0marange\u001b[0m\u001b[0;34m(\u001b[0m\u001b[0mlen\u001b[0m\u001b[0;34m(\u001b[0m\u001b[0mself\u001b[0m\u001b[0;34m.\u001b[0m\u001b[0mitems\u001b[0m\u001b[0;34m)\u001b[0m\u001b[0;34m)\u001b[0m\u001b[0;34m[\u001b[0m\u001b[0misna\u001b[0m\u001b[0;34m(\u001b[0m\u001b[0mself\u001b[0m\u001b[0;34m.\u001b[0m\u001b[0mitems\u001b[0m\u001b[0;34m)\u001b[0m\u001b[0;34m]\u001b[0m\u001b[0;34m\u001b[0m\u001b[0m\n",
      "\u001b[0;32m/anaconda3/lib/python3.6/site-packages/pandas/core/indexes/base.py\u001b[0m in \u001b[0;36mget_loc\u001b[0;34m(self, key, method, tolerance)\u001b[0m\n\u001b[1;32m   3063\u001b[0m                 \u001b[0;32mreturn\u001b[0m \u001b[0mself\u001b[0m\u001b[0;34m.\u001b[0m\u001b[0m_engine\u001b[0m\u001b[0;34m.\u001b[0m\u001b[0mget_loc\u001b[0m\u001b[0;34m(\u001b[0m\u001b[0mkey\u001b[0m\u001b[0;34m)\u001b[0m\u001b[0;34m\u001b[0m\u001b[0m\n\u001b[1;32m   3064\u001b[0m             \u001b[0;32mexcept\u001b[0m \u001b[0mKeyError\u001b[0m\u001b[0;34m:\u001b[0m\u001b[0;34m\u001b[0m\u001b[0m\n\u001b[0;32m-> 3065\u001b[0;31m                 \u001b[0;32mreturn\u001b[0m \u001b[0mself\u001b[0m\u001b[0;34m.\u001b[0m\u001b[0m_engine\u001b[0m\u001b[0;34m.\u001b[0m\u001b[0mget_loc\u001b[0m\u001b[0;34m(\u001b[0m\u001b[0mself\u001b[0m\u001b[0;34m.\u001b[0m\u001b[0m_maybe_cast_indexer\u001b[0m\u001b[0;34m(\u001b[0m\u001b[0mkey\u001b[0m\u001b[0;34m)\u001b[0m\u001b[0;34m)\u001b[0m\u001b[0;34m\u001b[0m\u001b[0m\n\u001b[0m\u001b[1;32m   3066\u001b[0m \u001b[0;34m\u001b[0m\u001b[0m\n\u001b[1;32m   3067\u001b[0m         \u001b[0mindexer\u001b[0m \u001b[0;34m=\u001b[0m \u001b[0mself\u001b[0m\u001b[0;34m.\u001b[0m\u001b[0mget_indexer\u001b[0m\u001b[0;34m(\u001b[0m\u001b[0;34m[\u001b[0m\u001b[0mkey\u001b[0m\u001b[0;34m]\u001b[0m\u001b[0;34m,\u001b[0m \u001b[0mmethod\u001b[0m\u001b[0;34m=\u001b[0m\u001b[0mmethod\u001b[0m\u001b[0;34m,\u001b[0m \u001b[0mtolerance\u001b[0m\u001b[0;34m=\u001b[0m\u001b[0mtolerance\u001b[0m\u001b[0;34m)\u001b[0m\u001b[0;34m\u001b[0m\u001b[0m\n",
      "\u001b[0;32mpandas/_libs/index.pyx\u001b[0m in \u001b[0;36mpandas._libs.index.IndexEngine.get_loc\u001b[0;34m()\u001b[0m\n",
      "\u001b[0;32mpandas/_libs/index.pyx\u001b[0m in \u001b[0;36mpandas._libs.index.IndexEngine.get_loc\u001b[0;34m()\u001b[0m\n",
      "\u001b[0;32mpandas/_libs/hashtable_class_helper.pxi\u001b[0m in \u001b[0;36mpandas._libs.hashtable.PyObjectHashTable.get_item\u001b[0;34m()\u001b[0m\n",
      "\u001b[0;32mpandas/_libs/hashtable_class_helper.pxi\u001b[0m in \u001b[0;36mpandas._libs.hashtable.PyObjectHashTable.get_item\u001b[0;34m()\u001b[0m\n",
      "\u001b[0;31mKeyError\u001b[0m: 'lowerAgeBound'"
     ]
    }
   ],
   "source": [
    "#pop.advance(1)\n",
    "from mcm.outcome import OutcomeType\n",
    "print(pop.calculate_age_sex_standardized_incidence(OutcomeType.MI, 2016))"
   ]
  },
  {
   "cell_type": "code",
   "execution_count": 56,
   "metadata": {},
   "outputs": [],
   "source": [
    "from mcm.outcome import OutcomeType\n",
    "\n",
    "ageStandard = pd.read_csv('/Users/burke/Documents/research/bpCog/mcm/mcm/data/us.1969_2017.19ages.adjusted.txt', header=0, names=['raw'])"
   ]
  },
  {
   "cell_type": "code",
   "execution_count": 57,
   "metadata": {},
   "outputs": [],
   "source": [
    "# https://seer.cancer.gov/popdata/popdic.html\n",
    "ageStandard['year'] = ageStandard['raw'].str[0:4]\n",
    "ageStandard['year'] = ageStandard.year.astype(int)\n",
    "# format changes in 1990...so, we'll go forward from there...\n",
    "ageStandard = ageStandard.loc[ageStandard.year >= 1990]\n",
    "ageStandard['state'] = ageStandard['raw'].str[4:6]\n",
    "ageStandard['state'] = ageStandard['raw'].str[4:6]\n",
    "ageStandard['race'] = ageStandard['raw'].str[13:14] # 1 = white, 2 = black, 3 = american indian/alaskan, 4 = asian/pacific islander\n",
    "ageStandard['hispanic'] = ageStandard['raw'].str[14:15] \n",
    "ageStandard['female'] = ageStandard['raw'].str[15:16] \n",
    "ageStandard['female'] = ageStandard['female'].astype(int)\n",
    "ageStandard['female'] = ageStandard['female'].replace({1 : 0, 2 : 1})\n",
    "ageStandard['ageGroup'] = ageStandard['raw'].str[16:18]\n",
    "ageStandard['ageGroup'] = ageStandard['ageGroup'].astype(int)\n",
    "ageStandard['population'] = ageStandard['raw'].str[18:26]\n",
    "ageStandard['population'] = ageStandard['population'].astype(int)\n",
    "ageStandard['lowerAgeBound'] = (ageStandard.ageGroup -1)*5\n",
    "ageStandard['upperAgeBound'] = (ageStandard.ageGroup * 5) - 1\n",
    "ageStandard['lowerAgeBound'] = ageStandard['lowerAgeBound'].replace({-5 : 0, 0 : 1})\n",
    "ageStandard['upperAgeBound'] = ageStandard['upperAgeBound'].replace({-1 : 0, 89 : 150})\n",
    "ageStandardYear = ageStandard.loc[ageStandard.year==2016]\n",
    "ageStandardGroupby = ageStandardYear[['female', 'population', 'lowerAgeBound', 'upperAgeBound','ageGroup']].groupby(\n",
    "                                    ['ageGroup','female'])\n",
    "ageStandardHeaders = ageStandardGroupby.first()[['lowerAgeBound', 'upperAgeBound']]\n",
    "ageStandardPopulation = ageStandardYear[['female', 'population', 'ageGroup']].groupby(['ageGroup','female']).sum()\n",
    "ageStandardCombined=ageStandardHeaders.join(ageStandardPopulation, how='inner')"
   ]
  },
  {
   "cell_type": "code",
   "execution_count": 58,
   "metadata": {},
   "outputs": [
    {
     "name": "stdout",
     "output_type": "stream",
     "text": [
      "0.5114315542786807\n"
     ]
    }
   ],
   "source": [
    "ageStandardCombined['outcomeCount'] =  0\n",
    "for person in pop._people:\n",
    "    if len(person._outcomes[OutcomeType.MI]) > 0:\n",
    "        ageStandardCombined.loc[((ageStandardCombined['lowerAgeBound'] <= person._age[-1]) & (ageStandardCombined['upperAgeBound'] >= person._age[-1])), 'outcomeCount'] += 1\n",
    "ageStandardCombined['percentInGroup'] = ageStandardCombined['population'] / (ageStandardCombined['population'].sum())\n",
    "ageStandardCombined['ageSpecificRate'] = ageStandardCombined['outcomeCount'] / ageStandardCombined['population'] * 100000\n",
    "ageStandardCombined['ageSpecificContribution'] = ageStandardCombined['ageSpecificRate'] * ageStandardCombined['percentInGroup']\n",
    "print(ageStandardCombined['ageSpecificContribution'].sum())"
   ]
  },
  {
   "cell_type": "code",
   "execution_count": 52,
   "metadata": {},
   "outputs": [],
   "source": [
    "ageStandardYear = ageStandard.loc[ageStandard.year==2016]\n",
    "ageStandardYear = ageStandardYear[['female', 'population', 'lowerAgeBound', 'upperAgeBound','ageGroup']].groupby(\n",
    "                                    ['ageGroup','female'])"
   ]
  },
  {
   "cell_type": "code",
   "execution_count": 53,
   "metadata": {},
   "outputs": [],
   "source": [
    "ageStandardYear = ageStandard.loc[ageStandard.year==2016]\n",
    "ageStandardGroupby = ageStandardYear[['female', 'population', 'lowerAgeBound', 'upperAgeBound','ageGroup']].groupby(\n",
    "                                    ['ageGroup','female'])\n",
    "ageStandardHeaders = ageStandardGroupby.first()[['lowerAgeBound', 'upperAgeBound']]\n",
    "ageStandardPopulation = ageStandardYear[['female', 'population', 'ageGroup']].groupby(['ageGroup','female']).sum()\n",
    "ageStandardCombined=ageStandardHeaders.join(ageStandardPopulation, how='inner')\n",
    "\n"
   ]
  },
  {
   "cell_type": "code",
   "execution_count": 54,
   "metadata": {},
   "outputs": [
    {
     "data": {
      "text/html": [
       "<div>\n",
       "<style scoped>\n",
       "    .dataframe tbody tr th:only-of-type {\n",
       "        vertical-align: middle;\n",
       "    }\n",
       "\n",
       "    .dataframe tbody tr th {\n",
       "        vertical-align: top;\n",
       "    }\n",
       "\n",
       "    .dataframe thead th {\n",
       "        text-align: right;\n",
       "    }\n",
       "</style>\n",
       "<table border=\"1\" class=\"dataframe\">\n",
       "  <thead>\n",
       "    <tr style=\"text-align: right;\">\n",
       "      <th></th>\n",
       "      <th></th>\n",
       "      <th>lowerAgeBound</th>\n",
       "      <th>upperAgeBound</th>\n",
       "      <th>population</th>\n",
       "    </tr>\n",
       "    <tr>\n",
       "      <th>ageGroup</th>\n",
       "      <th>female</th>\n",
       "      <th></th>\n",
       "      <th></th>\n",
       "      <th></th>\n",
       "    </tr>\n",
       "  </thead>\n",
       "  <tbody>\n",
       "    <tr>\n",
       "      <th rowspan=\"2\" valign=\"top\">0</th>\n",
       "      <th>0</th>\n",
       "      <td>0</td>\n",
       "      <td>0</td>\n",
       "      <td>2021764</td>\n",
       "    </tr>\n",
       "    <tr>\n",
       "      <th>1</th>\n",
       "      <td>0</td>\n",
       "      <td>0</td>\n",
       "      <td>1933613</td>\n",
       "    </tr>\n",
       "    <tr>\n",
       "      <th rowspan=\"2\" valign=\"top\">1</th>\n",
       "      <th>0</th>\n",
       "      <td>1</td>\n",
       "      <td>4</td>\n",
       "      <td>8163342</td>\n",
       "    </tr>\n",
       "    <tr>\n",
       "      <th>1</th>\n",
       "      <td>1</td>\n",
       "      <td>4</td>\n",
       "      <td>7800858</td>\n",
       "    </tr>\n",
       "    <tr>\n",
       "      <th>2</th>\n",
       "      <th>0</th>\n",
       "      <td>5</td>\n",
       "      <td>9</td>\n",
       "      <td>10431307</td>\n",
       "    </tr>\n",
       "  </tbody>\n",
       "</table>\n",
       "</div>"
      ],
      "text/plain": [
       "                 lowerAgeBound  upperAgeBound  population\n",
       "ageGroup female                                          \n",
       "0        0                   0              0     2021764\n",
       "         1                   0              0     1933613\n",
       "1        0                   1              4     8163342\n",
       "         1                   1              4     7800858\n",
       "2        0                   5              9    10431307"
      ]
     },
     "execution_count": 54,
     "metadata": {},
     "output_type": "execute_result"
    }
   ],
   "source": [
    "ageStandardCombined.head()"
   ]
  },
  {
   "cell_type": "code",
   "execution_count": null,
   "metadata": {},
   "outputs": [],
   "source": [
    "popSurvival = pd.DataFrame({\"index\" : pop._people.index, \"baseAge\" : [person._age[0] for person in pop._people]} )\n",
    "popSurvival['ageDecile'] = pd.qcut(popSurvival.baseAge, 10)\n",
    "for year in range(1,11):\n",
    "    pop.advance(1)\n",
    "    popSurvival['dead' + str(year)] = [person.is_dead() for person in pop._people]\n",
    "    popSurvival['cvDeath' + str(year)] = [person.has_fatal_stroke() or person.has_fatal_mi() for person in pop._people]\n",
    "    popSurvival['strokeDeath' + str(year)] = [person.has_fatal_stroke() for person in pop._people]\n",
    "    popSurvival['miDeath' + str(year)] = [person.has_fatal_mi() for person in pop._people]\n",
    "    popSurvival['nonCVDeath' + str(year)] = [person.is_dead() and (person.has_fatal_stroke() ==False) and (person.has_fatal_mi() == False) for person in pop._people]\n",
    "    popSurvival['cvDeath' + str(year)] = [person.is_dead() and (person.has_fatal_stroke() ==True) or (person.has_fatal_mi() == True) for person in pop._people]\n",
    "    "
   ]
  },
  {
   "cell_type": "code",
   "execution_count": null,
   "metadata": {},
   "outputs": [],
   "source": [
    "earlyCrossSectionOfNonImmigrants.diedBy2011.value_counts(normalize=True)"
   ]
  },
  {
   "cell_type": "code",
   "execution_count": null,
   "metadata": {},
   "outputs": [],
   "source": [
    "# on UCOD 1 = MI, 2=stroke, 3 = other cause of death\n",
    "earlyCrossSectionOfNonImmigrants.ucod.value_counts(normalize=True, sort=False)"
   ]
  },
  {
   "cell_type": "code",
   "execution_count": null,
   "metadata": {},
   "outputs": [],
   "source": [
    "popSurvival.dead10.value_counts(normalize=True)"
   ]
  },
  {
   "cell_type": "code",
   "execution_count": null,
   "metadata": {},
   "outputs": [],
   "source": [
    "popSurvival.cvDeath10.value_counts(normalize=True)"
   ]
  },
  {
   "cell_type": "code",
   "execution_count": null,
   "metadata": {},
   "outputs": [],
   "source": [
    "popSurvival.nonCVDeath10.value_counts(normalize=True)"
   ]
  },
  {
   "cell_type": "code",
   "execution_count": null,
   "metadata": {},
   "outputs": [],
   "source": [
    "popSurvival.miDeath10.value_counts(normalize=True)"
   ]
  },
  {
   "cell_type": "code",
   "execution_count": null,
   "metadata": {},
   "outputs": [],
   "source": [
    "popSurvival.strokeDeath10.value_counts(normalize=True)"
   ]
  },
  {
   "cell_type": "code",
   "execution_count": null,
   "metadata": {},
   "outputs": [],
   "source": [
    "earlyCrossSectionOfNonImmigrants['ageDecile'] = pd.qcut(earlyCrossSectionOfNonImmigrants.age, 10)\n",
    "\n",
    "mortalityByDecileNHANES = earlyCrossSectionOfNonImmigrants[['diedBy2011','ageDecile']].groupby(earlyCrossSectionOfNonImmigrants.ageDecile).mean()\n",
    "mortalityByDecileSim = popSurvival[['dead10', 'ageDecile']].groupby(popSurvival.ageDecile).mean()\n",
    "\n",
    "simBar =plt.bar(mortalityByDecileSim.index.codes+0.5, mortalityByDecileSim.dead10, width=0.5, label=\"sim\")\n",
    "nhanesBar = plt.bar(mortalityByDecileNHANES.index.codes, mortalityByDecileNHANES.diedBy2011, width=0.5, label=\"nhanes\")\n",
    "plt.legend()\n"
   ]
  },
  {
   "cell_type": "code",
   "execution_count": null,
   "metadata": {},
   "outputs": [],
   "source": [
    "strokeMortalityByDecileNHANES = earlyCrossSectionOfNonImmigrants[['strokeDeath','ageDecile']].groupby(earlyCrossSectionOfNonImmigrants.ageDecile).mean()\n",
    "mortalityByDecileSim = popSurvival[['strokeDeath10', 'ageDecile']].groupby(popSurvival.ageDecile).mean()\n",
    "\n",
    "simBar =plt.bar(mortalityByDecileSim.index.codes+0.5, mortalityByDecileSim.strokeDeath10, width=0.5, label=\"sim\")\n",
    "nhanesBar = plt.bar(mortalityByDecileNHANES.index.codes, strokeMortalityByDecileNHANES.strokeDeath, width=0.5, label=\"nhanes\")\n",
    "plt.legend()"
   ]
  },
  {
   "cell_type": "code",
   "execution_count": null,
   "metadata": {},
   "outputs": [],
   "source": [
    "miMortalityByDecileNHANES = earlyCrossSectionOfNonImmigrants[['miDeath','ageDecile']].groupby('ageDecile').mean()\n",
    "miMortalityByDecileSim = popSurvival[['miDeath10', 'ageDecile']].groupby(popSurvival.ageDecile).mean()\n",
    "\n",
    "simBar =plt.bar(miMortalityByDecileSim.index.codes+0.5, miMortalityByDecileSim.miDeath10, width=0.5, label=\"sim\")\n",
    "nhanesBar = plt.bar(miMortalityByDecileNHANES.index.codes, miMortalityByDecileNHANES.miDeath, width=0.5, label=\"nhanes\")\n",
    "plt.legend()"
   ]
  },
  {
   "cell_type": "code",
   "execution_count": null,
   "metadata": {},
   "outputs": [],
   "source": [
    "cvMortalityByDecileNHANES = earlyCrossSectionOfNonImmigrants[['cvDeath','ageDecile']].groupby(earlyCrossSectionOfNonImmigrants.ageDecile).mean()\n",
    "cvMortalityByDecileSim = popSurvival[['cvDeath10', 'ageDecile']].groupby(popSurvival.ageDecile).mean()\n",
    "\n",
    "simBar =plt.bar(cvMortalityByDecileSim.index.codes+0.5, cvMortalityByDecileSim.cvDeath10, width=0.5, label=\"sim\")\n",
    "nhanesBar = plt.bar(cvMortalityByDecileNHANES.index.codes, cvMortalityByDecileNHANES.cvDeath, width=0.5, label=\"nhanes\")\n",
    "plt.legend()"
   ]
  },
  {
   "cell_type": "code",
   "execution_count": null,
   "metadata": {},
   "outputs": [],
   "source": [
    "nonCVMortalityByDecileNHANES = earlyCrossSectionOfNonImmigrants[['nonCVDeath','ageDecile']].groupby(earlyCrossSectionOfNonImmigrants.ageDecile).mean()\n",
    "nonCVMortalityByDecileSim = popSurvival[['nonCVDeath10', 'ageDecile']].groupby(popSurvival.ageDecile).mean()\n",
    "\n",
    "nonCVsimBar =plt.bar(nonCVMortalityByDecileSim.index.codes+0.5, nonCVMortalityByDecileSim.nonCVDeath10, width=0.5, label=\"sim non cv\")\n",
    "cvSimBar =plt.bar(cvMortalityByDecileSim.index.codes+0.5, cvMortalityByDecileSim.cvDeath10, width=0.5, label=\"sim cv\", bottom=nonCVMortalityByDecileSim.nonCVDeath10)\n",
    "\n",
    "nonCVnhanesBar = plt.bar(nonCVMortalityByDecileNHANES.index.codes, nonCVMortalityByDecileNHANES.nonCVDeath, width=0.5, label=\"nhanes nonCV\")\n",
    "cvnhanesBar = plt.bar(cvMortalityByDecileNHANES.index.codes, cvMortalityByDecileNHANES.cvDeath, width=0.5, bottom=nonCVMortalityByDecileNHANES.nonCVDeath, label=\"nhanes CV\")\n",
    "plt.legend()"
   ]
  },
  {
   "cell_type": "markdown",
   "metadata": {},
   "source": [
    "### So, we have slight under prediction of mortality in the simulation. Is that because of the code or the data?\n",
    "\n",
    "To test — we will rerun the simulation on the direct NHANES data that we use in the calibration..."
   ]
  },
  {
   "cell_type": "code",
   "execution_count": null,
   "metadata": {},
   "outputs": [],
   "source": [
    "from mcm.gender import NHANESGender\n",
    "from mcm.person import Person\n",
    "from mcm.outcome import Outcome\n",
    "from mcm.race_ethnicity import NHANESRaceEthnicity\n",
    "from mcm.smoking_status import SmokingStatus\n",
    "from mcm.cohort_risk_model_repository import CohortRiskModelRepository\n",
    "from mcm.outcome_model_repository import OutcomeModelRepository"
   ]
  },
  {
   "cell_type": "code",
   "execution_count": null,
   "metadata": {},
   "outputs": [],
   "source": [
    "import os \n",
    "\n",
    "def calcMortalityRunningFullModel(x):\n",
    "        temp =  Person(\n",
    "            age=x.age,\n",
    "            gender=NHANESGender(int(x.gender)),\n",
    "            raceEthnicity=NHANESRaceEthnicity(int(x.raceEthnicity)),\n",
    "            sbp=x.meanSBP,\n",
    "            dbp=x.meanDBP,\n",
    "            a1c=x.a1c,\n",
    "            hdl=x.hdl,\n",
    "            ldl=x.ldl,\n",
    "            trig=x.trig,\n",
    "            totChol=x.tot_chol,\n",
    "            bmi=x.bmi,\n",
    "            smokingStatus=SmokingStatus(int(x.smokingStatus)),\n",
    "            dfIndex=x.index,\n",
    "            diedBy2011=x.diedBy2011)\n",
    "        \n",
    "        for year in range(1,11):\n",
    "            if not temp.is_dead():\n",
    "                temp.advance_year(riskModel, cohortModel)\n",
    "        return temp.is_dead()\n",
    "\n",
    "earlyCrossSectionOfNonImmigrants['estMortalityFromModel'] = earlyCrossSectionOfNonImmigrants.apply(calcMortalityRunningFullModel, axis=1)"
   ]
  },
  {
   "cell_type": "code",
   "execution_count": null,
   "metadata": {},
   "outputs": [],
   "source": [
    "earlyCrossSectionOfNonImmigrants['ageDecile'] = pd.qcut(earlyCrossSectionOfNonImmigrants.age, 10)\n",
    "output = earlyCrossSectionOfNonImmigrants.groupby('ageDecile')[['diedBy2011', 'estMortalityFromModel']].mean()\n",
    "print(output)\n",
    "plt.bar(output.index.codes+1, output.diedBy2011, width=0.5, label=\"actualDeath\")\n",
    "plt.bar(output.index.codes+1.5, output.estMortalityFromModel, width=0.5, label=\"model\")\n",
    "\n",
    "plt.legend()"
   ]
  },
  {
   "cell_type": "markdown",
   "metadata": {},
   "source": [
    "### Ok...this looks quite good...on the same data, the under-prediction problem looks very modest"
   ]
  },
  {
   "cell_type": "code",
   "execution_count": null,
   "metadata": {},
   "outputs": [],
   "source": [
    "earlyCrossSectionOfNonImmigrants.to_stata(\"/Users/burke/Documents/research/bpCog/nhanes/earlyCrossSectionOfNonImmigrants.dta\")\n",
    "earlyCrossSectionOfNonImmigrants.ageDecile.value_counts().sort_index()"
   ]
  },
  {
   "cell_type": "code",
   "execution_count": null,
   "metadata": {},
   "outputs": [],
   "source": [
    "earlyCrossSectionOfNonImmigrants[['diedBy2011', 'estMortalityFromCox', 'estMortalityFromModel']].mean()"
   ]
  },
  {
   "cell_type": "code",
   "execution_count": null,
   "metadata": {},
   "outputs": [],
   "source": [
    "# well...this is not easy to explain.\n",
    "# for the most part the code-bsaed calculation looks similar, gut it under predicts mortaltiy substantially in the highest age decile\n",
    "# this is a bit strange...but, not impossible. if you look at the within population validation, it seems that we under-predicted in the oldest cohort for our basee model as well\n",
    "# i wonder if having a longer follow-up (by constraining to the early oohort might cause that problem...that should be straight-forward to check)\n",
    "\n",
    "# the code based model is over-estmiaging mortalty thorughout.\n",
    "# this is going to be harder to figure otu...\n",
    "# possibilities: 1. the times aren't right...and the cohort model is getting exposed to more time than the comparators\n",
    "# the time aggregation isn't right...the one year probabilities are summing to something greater than the whole"
   ]
  },
  {
   "cell_type": "code",
   "execution_count": null,
   "metadata": {},
   "outputs": [],
   "source": [
    "earlyCrossSectionOfNonImmigrants.ucod.value_counts()"
   ]
  },
  {
   "cell_type": "code",
   "execution_count": null,
   "metadata": {},
   "outputs": [],
   "source": [
    "# next steps — 1. see if we under-preditx mortality badly in the NHANES popualtion if we look at only the people that are enrolled early (and thus have long follow-up)"
   ]
  }
 ],
 "metadata": {
  "kernelspec": {
   "display_name": "Python 3",
   "language": "python",
   "name": "python3"
  },
  "language_info": {
   "codemirror_mode": {
    "name": "ipython",
    "version": 3
   },
   "file_extension": ".py",
   "mimetype": "text/x-python",
   "name": "python",
   "nbconvert_exporter": "python",
   "pygments_lexer": "ipython3",
   "version": "3.6.5"
  }
 },
 "nbformat": 4,
 "nbformat_minor": 2
}
