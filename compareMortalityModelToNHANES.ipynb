{
 "cells": [
  {
   "cell_type": "code",
   "execution_count": 1,
   "metadata": {},
   "outputs": [],
   "source": [
    "%load_ext autoreload\n",
    "%autoreload 2\n",
    "\n",
    "\n",
    "import pandas as pd\n",
    "import numpy as np\n",
    "import os\n",
    "import matplotlib.pyplot as plt\n",
    "\n",
    "import warnings\n",
    "warnings.simplefilter('ignore') # we get a bunch of warnings for .loc errors that are about filters that are ok and not about setting values on slices...\n",
    "# so, going to ignore everything so tha tthe notebooks are readable\n",
    "\n",
    "pd.set_option('display.max_columns', None)\n",
    "\n",
    "imputedDataset = pd.read_stata(\"/Users/burke/Documents/microsim/microsim/data/fullyImputedDataset.dta\")\n",
    "imputedDataset.head()\n",
    "noRecentUSInmigration = imputedDataset.loc[~imputedDataset.timeInUS.isin([1,2,3])]\n",
    "earlyCrossSectionOfNonImmigrants = noRecentUSInmigration.loc[noRecentUSInmigration.year==2001]\n",
    "# here we just need to throw out the very young people for comparisons\n",
    "earlyCrossSectionOfNonImmigrants = earlyCrossSectionOfNonImmigrants.loc[earlyCrossSectionOfNonImmigrants.age > 18 + 2]\n",
    "\n",
    "earlyCrossSectionOfNonImmigrants['strokeDeath'] = np.where(((earlyCrossSectionOfNonImmigrants.diedBy2015.values == 1) & (earlyCrossSectionOfNonImmigrants.ucod.values==2)), 1, 0)\n",
    "earlyCrossSectionOfNonImmigrants['miDeath'] = np.where(((earlyCrossSectionOfNonImmigrants.diedBy2015.values == 1) & (earlyCrossSectionOfNonImmigrants.ucod.values==1)), 1, 0)\n",
    "earlyCrossSectionOfNonImmigrants['cvDeath'] = np.where(((earlyCrossSectionOfNonImmigrants.strokeDeath.values == 1) | (earlyCrossSectionOfNonImmigrants.miDeath.values==1)), 1, 0)\n",
    "earlyCrossSectionOfNonImmigrants['nonCVDeath'] = np.where(((earlyCrossSectionOfNonImmigrants.diedBy2015 ==1) & (earlyCrossSectionOfNonImmigrants.strokeDeath.values == 0) & (earlyCrossSectionOfNonImmigrants.miDeath.values==0)), 1, 0)\n",
    "earlyCrossSectionOfNonImmigrants = earlyCrossSectionOfNonImmigrants.sample(n=50000, weights=earlyCrossSectionOfNonImmigrants.WTINT2YR, replace=True)"
   ]
  },
  {
   "cell_type": "code",
   "execution_count": 2,
   "metadata": {},
   "outputs": [],
   "source": [
    "startYear = 1999\n",
    "endYear = 2015\n",
    "totalYears = endYear - startYear"
   ]
  },
  {
   "cell_type": "code",
   "execution_count": 3,
   "metadata": {},
   "outputs": [],
   "source": [
    "import os\n",
    "os.chdir(\"/Users/burke/Documents/microsim\")\n",
    "from microsim.outcome import OutcomeType\n",
    "from microsim.population import NHANESDirectSamplePopulation"
   ]
  },
  {
   "cell_type": "code",
   "execution_count": 7,
   "metadata": {},
   "outputs": [],
   "source": [
    "pop = NHANESDirectSamplePopulation(n=250000, year=startYear) "
   ]
  },
  {
   "cell_type": "code",
   "execution_count": 8,
   "metadata": {},
   "outputs": [
    {
     "name": "stdout",
     "output_type": "stream",
     "text": [
      "processing year: 0\n",
      "1\n",
      "processing year: 0\n",
      "2\n",
      "processing year: 0\n",
      "3\n",
      "processing year: 0\n",
      "4\n",
      "processing year: 0\n",
      "5\n",
      "processing year: 0\n",
      "6\n",
      "processing year: 0\n",
      "7\n",
      "processing year: 0\n",
      "8\n",
      "processing year: 0\n",
      "9\n",
      "processing year: 0\n",
      "10\n",
      "processing year: 0\n",
      "11\n",
      "processing year: 0\n",
      "12\n",
      "processing year: 0\n",
      "13\n",
      "processing year: 0\n",
      "14\n",
      "processing year: 0\n",
      "15\n"
     ]
    }
   ],
   "source": [
    "# # uncommetn to run locally\n",
    "# popSurvival = pd.DataFrame({\"index\" : pop._people.index, \"baseAge\" : [person._age[0] for person in pop._people]} )\n",
    "# popSurvival['ageDecile'] = pd.qcut(popSurvival.baseAge, 10)\n",
    "# popSurvival['priorStroke'] = [person._stroke for person in pop._people]\n",
    "# # popSurvival['priorMI'] = [person._mi for person in pop._people]\n",
    "\n",
    "\n",
    "# #run the sim forward to sync up with NHANES population\n",
    "# for year in range(1,totalYears):\n",
    "#     pop.advance_vectorized(1)\n",
    "#     print(year)\n",
    "#     popSurvival['dead' + str(year)] = [person.is_dead() for person in pop._people]\n",
    "#     popSurvival['cvDeath' + str(year)] = [person.has_fatal_stroke() or person.has_fatal_mi() for person in pop._people]\n",
    "#     popSurvival['strokeDeath' + str(year)] = [person.has_fatal_stroke() for person in pop._people]\n",
    "#     popSurvival['miDeath' + str(year)] = [person.has_fatal_mi() for person in pop._people]\n",
    "#     popSurvival['nonCVDeath' + str(year)] = [person.is_dead() and (person.has_fatal_stroke() ==False) and (person.has_fatal_mi() == False) for person in pop._people]\n",
    "#     popSurvival['cvDeath' + str(year)] = [person.is_dead() and (person.has_fatal_stroke() ==True) or (person.has_fatal_mi() == True) for person in pop._people]\n"
   ]
  },
  {
   "cell_type": "code",
   "execution_count": 9,
   "metadata": {},
   "outputs": [],
   "source": [
    "import pickle\n",
    "pickle.dump( popSurvival, open( \"popSurvival.pickle\", \"wb\" ) )\n",
    "pickle.dump( pop, open( \"pop.pickle\", \"wb\" ) )"
   ]
  },
  {
   "cell_type": "code",
   "execution_count": 5,
   "metadata": {},
   "outputs": [],
   "source": [
    "# uncomment to load if run via external files\n",
    "\n",
    "os.chdir('/Users/burke/Documents/research/bpCog/nhanes/')\n",
    "popSurvival = pd.read_pickle('popSurvival.pickle')\n",
    "\n",
    "import pickle\n",
    "with open('pop.pickle', 'rb') as f:\n",
    "    pop = pickle.load(f)"
   ]
  },
  {
   "cell_type": "code",
   "execution_count": 6,
   "metadata": {},
   "outputs": [
    {
     "data": {
      "text/plain": [
       "200000"
      ]
     },
     "execution_count": 6,
     "metadata": {},
     "output_type": "execute_result"
    }
   ],
   "source": [
    "len(pop._people)"
   ]
  },
  {
   "cell_type": "code",
   "execution_count": 7,
   "metadata": {},
   "outputs": [],
   "source": [
    "from microsim.outcome import OutcomeType\n",
    "\n",
    "miIncidence = pop.calculate_mean_age_sex_standardized_incidence(OutcomeType.MI, 2000)\n",
    "strokeIncidence = pop.calculate_mean_age_sex_standardized_incidence(OutcomeType.STROKE, 2000)"
   ]
  },
  {
   "cell_type": "code",
   "execution_count": 8,
   "metadata": {},
   "outputs": [],
   "source": [
    "import statsmodels.stats.proportion as prop\n",
    "\n",
    "\n",
    "def getIncidence(incidence, popSize):\n",
    "    overallIncidence = {'incidencePer100K' : incidence[0], 'numberEvents' : incidence[1], \n",
    "                              'denominator' : popSize, 'proportion' : incidence[1]/popSize,\n",
    "                             'proportionLCI' : prop.proportion_confint(incidence[1], popSize)[0],\n",
    "                              'proportionUCI' : prop.proportion_confint(incidence[1], popSize)[1]}\n",
    "    overallIncidence['estimatedRelativeSE'] = (overallIncidence['proportion'] - overallIncidence['proportionLCI'])/1.96/overallIncidence['proportion']\n",
    "    overallIncidence['estimatedIncidenceLCI'] = overallIncidence['incidencePer100K'] - 1.96 * (overallIncidence['estimatedRelativeSE'] * overallIncidence['incidencePer100K'])\n",
    "    overallIncidence['estimatedIncidenceUCI'] = overallIncidence['incidencePer100K'] + 1.96 * (overallIncidence['estimatedRelativeSE'] * overallIncidence['incidencePer100K'])\n",
    "\n",
    "    return overallIncidence\n",
    "\n",
    "overallStrokeIncidence = getIncidence(strokeIncidence, len(pop._people))\n",
    "overallMIIncidence = getIncidence(miIncidence, len(pop._people))"
   ]
  },
  {
   "cell_type": "code",
   "execution_count": 29,
   "metadata": {},
   "outputs": [],
   "source": [
    "def printDict(dict):\n",
    "    print(\"\\n\".join(\"{}\\t{:.3f}\".format(k, v) for k, v in dict.items()))"
   ]
  },
  {
   "cell_type": "code",
   "execution_count": 30,
   "metadata": {},
   "outputs": [
    {
     "name": "stdout",
     "output_type": "stream",
     "text": [
      "incidencePer100K\t166.729\n",
      "numberEvents\t5912.000\n",
      "denominator\t200000.000\n",
      "proportion\t0.030\n",
      "proportionLCI\t0.029\n",
      "proportionUCI\t0.030\n",
      "estimatedRelativeSE\t0.013\n",
      "estimatedIncidenceLCI\t162.542\n",
      "estimatedIncidenceUCI\t170.916\n"
     ]
    }
   ],
   "source": [
    "printDict(overallStrokeIncidence)"
   ]
  },
  {
   "cell_type": "code",
   "execution_count": 31,
   "metadata": {},
   "outputs": [
    {
     "name": "stdout",
     "output_type": "stream",
     "text": [
      "incidencePer100K\t255.209\n",
      "numberEvents\t8188.000\n",
      "denominator\t200000.000\n",
      "proportion\t0.041\n",
      "proportionLCI\t0.040\n",
      "proportionUCI\t0.042\n",
      "estimatedRelativeSE\t0.011\n",
      "estimatedIncidenceLCI\t249.795\n",
      "estimatedIncidenceUCI\t260.622\n"
     ]
    }
   ],
   "source": [
    "printDict(overallMIIncidence)"
   ]
  },
  {
   "cell_type": "code",
   "execution_count": 11,
   "metadata": {},
   "outputs": [],
   "source": [
    "### Incideence by race\n",
    "from microsim.race_ethnicity import NHANESRaceEthnicity\n",
    "def isBlack(person):\n",
    "    return person._raceEthnicity == NHANESRaceEthnicity.NON_HISPANIC_BLACK\n",
    "\n",
    "def isBlackDF(person):\n",
    "    return person.raceEthnicity == NHANESRaceEthnicity.NON_HISPANIC_BLACK\n",
    "\n",
    "def isWhite(person):\n",
    "    return person._raceEthnicity == NHANESRaceEthnicity.NON_HISPANIC_WHITE\n",
    "\n",
    "def isWhiteDF(person):\n",
    "    return person.raceEthnicity == NHANESRaceEthnicity.NON_HISPANIC_WHITE"
   ]
  },
  {
   "cell_type": "code",
   "execution_count": 12,
   "metadata": {},
   "outputs": [],
   "source": [
    "whiteStrokeIncidence = pop.calculate_mean_age_sex_standardized_incidence(OutcomeType.STROKE, 2000, isWhite, isWhiteDF)\n",
    "blackStrokeIncidence = pop.calculate_mean_age_sex_standardized_incidence(OutcomeType.STROKE, 2000, isBlack, isBlackDF)\n",
    "\n",
    "overallWhiteStrokeIncidence = getIncidence(whiteStrokeIncidence, pop._people.map(isWhite).sum())\n",
    "overallBlackStrokeIncidence = getIncidence(blackStrokeIncidence, pop._people.map(isBlack).sum())"
   ]
  },
  {
   "cell_type": "code",
   "execution_count": 32,
   "metadata": {},
   "outputs": [
    {
     "name": "stdout",
     "output_type": "stream",
     "text": [
      "incidencePer100K\t133.392\n",
      "numberEvents\t3840.000\n",
      "denominator\t139444.000\n",
      "proportion\t0.028\n",
      "proportionLCI\t0.027\n",
      "proportionUCI\t0.028\n",
      "estimatedRelativeSE\t0.016\n",
      "estimatedIncidenceLCI\t129.231\n",
      "estimatedIncidenceUCI\t137.552\n"
     ]
    }
   ],
   "source": [
    "printDict(overallWhiteStrokeIncidence)"
   ]
  },
  {
   "cell_type": "code",
   "execution_count": 33,
   "metadata": {},
   "outputs": [
    {
     "name": "stdout",
     "output_type": "stream",
     "text": [
      "incidencePer100K\t279.170\n",
      "numberEvents\t831.000\n",
      "denominator\t21964.000\n",
      "proportion\t0.038\n",
      "proportionLCI\t0.035\n",
      "proportionUCI\t0.040\n",
      "estimatedRelativeSE\t0.034\n",
      "estimatedIncidenceLCI\t260.552\n",
      "estimatedIncidenceUCI\t297.789\n"
     ]
    }
   ],
   "source": [
    "printDict(overallBlackStrokeIncidence)"
   ]
  },
  {
   "cell_type": "code",
   "execution_count": 15,
   "metadata": {},
   "outputs": [],
   "source": [
    "whiteIncidenceMI = pop.calculate_mean_age_sex_standardized_incidence(OutcomeType.MI, 2000, isWhite, isWhiteDF)\n",
    "blackIncidenceMI = pop.calculate_mean_age_sex_standardized_incidence(OutcomeType.MI, 2000, isBlack, isBlackDF)\n",
    "\n",
    "overallWhiteIncidenceMI = getIncidence(whiteIncidenceMI, pop._people.map(isWhite).sum())\n",
    "overallBlackIncidenceMI = getIncidence(blackIncidenceMI, pop._people.map(isBlack).sum())"
   ]
  },
  {
   "cell_type": "code",
   "execution_count": 34,
   "metadata": {},
   "outputs": [
    {
     "name": "stdout",
     "output_type": "stream",
     "text": [
      "incidencePer100K\t267.120\n",
      "numberEvents\t6525.000\n",
      "denominator\t139444.000\n",
      "proportion\t0.047\n",
      "proportionLCI\t0.046\n",
      "proportionUCI\t0.048\n",
      "estimatedRelativeSE\t0.012\n",
      "estimatedIncidenceLCI\t260.792\n",
      "estimatedIncidenceUCI\t273.448\n"
     ]
    }
   ],
   "source": [
    "printDict(overallWhiteIncidenceMI)"
   ]
  },
  {
   "cell_type": "code",
   "execution_count": 35,
   "metadata": {},
   "outputs": [
    {
     "name": "stdout",
     "output_type": "stream",
     "text": [
      "incidencePer100K\t230.508\n",
      "numberEvents\t681.000\n",
      "denominator\t21964.000\n",
      "proportion\t0.031\n",
      "proportionLCI\t0.029\n",
      "proportionUCI\t0.033\n",
      "estimatedRelativeSE\t0.038\n",
      "estimatedIncidenceLCI\t213.466\n",
      "estimatedIncidenceUCI\t247.550\n"
     ]
    }
   ],
   "source": [
    "printDict(overallBlackIncidenceMI)"
   ]
  },
  {
   "cell_type": "code",
   "execution_count": null,
   "metadata": {},
   "outputs": [],
   "source": []
  },
  {
   "cell_type": "code",
   "execution_count": 18,
   "metadata": {},
   "outputs": [
    {
     "name": "stdout",
     "output_type": "stream",
     "text": [
      "Secondary MI Incidence: 278.56475698562895 \n",
      "event count: 879.0\n"
     ]
    }
   ],
   "source": [
    "# so...because of how we define primary vs. secondary events, this gets a little tricky\n",
    "# they're all stored as outcomes on the person\n",
    "# however, events prior to the sim are stored with an age of -1...\n",
    "# we need to get able to define primary vs. secondary prevention to do the comparison...\n",
    "# BUT we need to define events excluding the prior events (and they're stored in the same place)\n",
    "# so, the slightly hacky work around is to store prior events as a flag on the person object (e.g. _selfReportMIPriorToSim)\n",
    "# and then to DELETE for the purposes of this analysis the events from the outcomes list that have an age of -1\n",
    "\n",
    "import copy\n",
    "\n",
    "popCopy = copy.deepcopy(pop)\n",
    "for person in pop._people:\n",
    "    for outcomeType, outcomeTupleList in person._outcomes.items():\n",
    "        if len(outcomeTupleList) > 0 and outcomeTupleList[0][0] < 0:\n",
    "            outcomeTupleList.remove(outcomeTupleList[0])\n",
    "\n",
    "### Incideence by primvary vs. seconeary status...\n",
    "def hasCVEvent(person):\n",
    "    return person._selfReportStrokePriorToSim or person._selfReportMIPriorToSim\n",
    "\n",
    "def hasCVEventDF(person):\n",
    "    return person.miPriorToSim or person.strokePriorToSim\n",
    "\n",
    "secondaryMIIncidence = popCopy.calculate_mean_age_sex_standardized_incidence(OutcomeType.MI, 2000, hasCVEvent,hasCVEventDF )\n",
    "print(f\"Secondary MI Incidence: {secondaryMIIncidence[0]} \\nevent count: {secondaryMIIncidence[1]}\")\n",
    "\n",
    "### Incideence by primvary vs. seconeary status...\n",
    "def noCVEvent(person):\n",
    "    return (not person._selfReportStrokePriorToSim) and (not person._selfReportMIPriorToSim)\n",
    "\n",
    "def noCVEventDF(person):\n",
    "    return (not person.miPriorToSim) and (not person.strokePriorToSim)\n",
    "\n",
    "primaryMiIncidence = popCopy.calculate_mean_age_sex_standardized_incidence(OutcomeType.MI, 2000, noCVEvent, noCVEventDF)\n",
    "secondaryMiIncidence = popCopy.calculate_mean_age_sex_standardized_incidence(OutcomeType.MI, 2000, hasCVEvent,hasCVEventDF)\n",
    "secondaryStrokeIncidence = popCopy.calculate_mean_age_sex_standardized_incidence(OutcomeType.STROKE, 2000, hasCVEvent,hasCVEventDF)\n",
    "primaryStrokeIncidence = popCopy.calculate_mean_age_sex_standardized_incidence(OutcomeType.STROKE, 2000, noCVEvent,noCVEventDF)\n",
    "\n",
    "overallPrimaryStroke = getIncidence(primaryStrokeIncidence, pop._people.map(noCVEvent).sum())\n",
    "overallSecondaryStroke = getIncidence(secondaryStrokeIncidence, pop._people.map(hasCVEvent).sum())\n",
    "overallPrimaryMI = getIncidence(primaryMiIncidence, pop._people.map(noCVEvent).sum())\n",
    "overallSecondaryMI = getIncidence(secondaryMiIncidence, pop._people.map(hasCVEvent).sum())"
   ]
  },
  {
   "cell_type": "code",
   "execution_count": 19,
   "metadata": {},
   "outputs": [
    {
     "data": {
      "text/plain": [
       "{'incidencePer100K': 166.05126040906367,\n",
       " 'numberEvents': 5124,\n",
       " 'denominator': 189800,\n",
       " 'proportion': 0.026996838777660695,\n",
       " 'proportionLCI': 0.026267694336631574,\n",
       " 'proportionUCI': 0.027725983218689815,\n",
       " 'estimatedRelativeSE': 0.013779853003406048,\n",
       " 'estimatedIncidenceLCI': 161.56646296850798,\n",
       " 'estimatedIncidenceUCI': 170.53605784961937}"
      ]
     },
     "execution_count": 19,
     "metadata": {},
     "output_type": "execute_result"
    }
   ],
   "source": [
    "overallPrimaryStroke"
   ]
  },
  {
   "cell_type": "code",
   "execution_count": 20,
   "metadata": {},
   "outputs": [
    {
     "data": {
      "text/plain": [
       "{'incidencePer100K': 187.90360321758064,\n",
       " 'numberEvents': 788.0,\n",
       " 'denominator': 10200,\n",
       " 'proportion': 0.07725490196078431,\n",
       " 'proportionLCI': 0.07207344492496709,\n",
       " 'proportionUCI': 0.08243635899660154,\n",
       " 'estimatedRelativeSE': 0.03421919465796624,\n",
       " 'estimatedIncidenceLCI': 175.30097966572677,\n",
       " 'estimatedIncidenceUCI': 200.5062267694345}"
      ]
     },
     "execution_count": 20,
     "metadata": {},
     "output_type": "execute_result"
    }
   ],
   "source": [
    "overallSecondaryStroke"
   ]
  },
  {
   "cell_type": "code",
   "execution_count": 21,
   "metadata": {},
   "outputs": [
    {
     "data": {
      "text/plain": [
       "{'incidencePer100K': 255.30774289723055,\n",
       " 'numberEvents': 7309,\n",
       " 'denominator': 189800,\n",
       " 'proportion': 0.03850895679662803,\n",
       " 'proportionLCI': 0.037643284567886355,\n",
       " 'proportionUCI': 0.03937462902536971,\n",
       " 'estimatedRelativeSE': 0.011469266923863098,\n",
       " 'estimatedIncidenceLCI': 249.56848530123654,\n",
       " 'estimatedIncidenceUCI': 261.0470004932246}"
      ]
     },
     "execution_count": 21,
     "metadata": {},
     "output_type": "execute_result"
    }
   ],
   "source": [
    "overallPrimaryMI"
   ]
  },
  {
   "cell_type": "code",
   "execution_count": 22,
   "metadata": {},
   "outputs": [
    {
     "data": {
      "text/plain": [
       "{'incidencePer100K': 278.56475698562895,\n",
       " 'numberEvents': 879.0,\n",
       " 'denominator': 10200,\n",
       " 'proportion': 0.0861764705882353,\n",
       " 'proportionLCI': 0.08073052215325632,\n",
       " 'proportionUCI': 0.09162241902321427,\n",
       " 'estimatedRelativeSE': 0.03224250309766754,\n",
       " 'estimatedIncidenceLCI': 260.96077190720905,\n",
       " 'estimatedIncidenceUCI': 296.16874206404884}"
      ]
     },
     "execution_count": 22,
     "metadata": {},
     "output_type": "execute_result"
    }
   ],
   "source": [
    "overallSecondaryMI"
   ]
  },
  {
   "cell_type": "code",
   "execution_count": 37,
   "metadata": {},
   "outputs": [
    {
     "name": "stdout",
     "output_type": "stream",
     "text": [
      "Absolute event rate in secondary prevention: 0.08, absolute event rate in primary prevention: 0.03\n"
     ]
    }
   ],
   "source": [
    "df = pop.get_people_current_state_as_dataframe(parallel=False)\n",
    "df['cvEvent'] = 0\n",
    "df.loc[((df.strokePriorToSim ==1) | (df.miPriorToSim==1)), 'cvEvent'] = 1\n",
    "denominator = df.cvEvent.value_counts()\n",
    "print(f\"Absolute event rate in secondary prevention: {secondaryStrokeIncidence[1]/denominator[1]:.2f}, absolute event rate in primary prevention: {primaryStrokeIncidence[1]/denominator[0]:.2f}\" )"
   ]
  },
  {
   "cell_type": "code",
   "execution_count": 38,
   "metadata": {},
   "outputs": [
    {
     "data": {
      "text/html": [
       "<div>\n",
       "<style scoped>\n",
       "    .dataframe tbody tr th:only-of-type {\n",
       "        vertical-align: middle;\n",
       "    }\n",
       "\n",
       "    .dataframe tbody tr th {\n",
       "        vertical-align: top;\n",
       "    }\n",
       "\n",
       "    .dataframe thead th {\n",
       "        text-align: right;\n",
       "    }\n",
       "</style>\n",
       "<table border=\"1\" class=\"dataframe\">\n",
       "  <thead>\n",
       "    <tr style=\"text-align: right;\">\n",
       "      <th></th>\n",
       "      <th>age</th>\n",
       "      <th>sbp</th>\n",
       "      <th>dbp</th>\n",
       "      <th>a1c</th>\n",
       "      <th>ldl</th>\n",
       "      <th>bmi</th>\n",
       "      <th>dead</th>\n",
       "    </tr>\n",
       "    <tr>\n",
       "      <th>cvEvent</th>\n",
       "      <th></th>\n",
       "      <th></th>\n",
       "      <th></th>\n",
       "      <th></th>\n",
       "      <th></th>\n",
       "      <th></th>\n",
       "      <th></th>\n",
       "    </tr>\n",
       "  </thead>\n",
       "  <tbody>\n",
       "    <tr>\n",
       "      <th>0</th>\n",
       "      <td>57.741386</td>\n",
       "      <td>124.821052</td>\n",
       "      <td>78.301664</td>\n",
       "      <td>5.487835</td>\n",
       "      <td>120.817293</td>\n",
       "      <td>28.285469</td>\n",
       "      <td>0.110342</td>\n",
       "    </tr>\n",
       "    <tr>\n",
       "      <th>1</th>\n",
       "      <td>75.859314</td>\n",
       "      <td>133.479633</td>\n",
       "      <td>71.590144</td>\n",
       "      <td>6.213472</td>\n",
       "      <td>116.814305</td>\n",
       "      <td>29.142921</td>\n",
       "      <td>0.454804</td>\n",
       "    </tr>\n",
       "  </tbody>\n",
       "</table>\n",
       "</div>"
      ],
      "text/plain": [
       "               age         sbp        dbp       a1c         ldl        bmi  \\\n",
       "cvEvent                                                                      \n",
       "0        57.741386  124.821052  78.301664  5.487835  120.817293  28.285469   \n",
       "1        75.859314  133.479633  71.590144  6.213472  116.814305  29.142921   \n",
       "\n",
       "             dead  \n",
       "cvEvent            \n",
       "0        0.110342  \n",
       "1        0.454804  "
      ]
     },
     "execution_count": 38,
     "metadata": {},
     "output_type": "execute_result"
    }
   ],
   "source": [
    "# quick look at the characterictis of ghe primary vs. secondary pops\n",
    "df.groupby('cvEvent')[['age', 'sbp', 'dbp', 'a1c', 'ldl', 'bmi', 'dead']].mean()"
   ]
  },
  {
   "cell_type": "markdown",
   "metadata": {},
   "source": [
    "#### Looking at the primary vs. secondary prevention data...the absolute rates are much higher in secondary prevention (as shown above), but the age-standardized incidence rates aren't very differnet (for stroke) because of the MUCH higher age at the timeof event. I don't thin this is a big problem \n"
   ]
  },
  {
   "cell_type": "markdown",
   "metadata": {},
   "source": [
    "### MI incidence should be a around 200/100k (assuming that yeh underestiamtes because its in kaiser and primary prevention only)\n",
    "<ul><li>aroudn 175 in PhD, K. R., MD, A. S. G., MPH, T. K. L., RPh, D. M. B. P., PhD, A. E. C.-B., MD, S. P. F., et al. (2017). Trends in Incidence of Hospitalized Acute Myocardial Infarction in the Cardiovascular Research Network (CVRN). The American Journal of Medicine, 130(3), 317–327. http://doi.org/10.1016/j.amjmed.2016.09.014</li>\n",
    "<li>around 200 in Yeh, R. W., Sidney, S., Chandra, M., Sorel, M., Selby, J. V., & Go, A. S. (2010). Population trends in the incidence and outcomes of acute myocardial infarction. The New England Journal of Medicine, 362(23), 2155–2165. http://doi.org/10.1056/NEJMoa0908610</li></ul>\n",
    "\n",
    "### Stroke incidence is harder to pin down — ranges from 130-300+\n",
    "<ul>\n",
    "<li>aroudn 130 in Morgenstern, L. B., Smith, M. A., Sánchez, B. N., Brown, D. L., Zahuranec, D. B., Garcia, N., et al. (2013). Persistent ischemic stroke disparities despite declining incidence in Mexican Americans. Annals of Neurology, 74(6), 778–785. http://doi.org/10.1002/ana.23972</li>\n",
    "<li>around 200 in Kleindorfer, D. O., Khoury, J., Moomaw, C. J., Alwell, K., Woo, D., Flaherty, M. L., et al. (2010). Stroke Incidence Is Decreasing in Whites But Not in Blacks: A Population-Based Estimate of Temporal Trends in Stroke Incidence From the Greater Cincinnati/Northern Kentucky Stroke Study * Supplemental Material, 41(7), 1326–1331. http://doi.org/10.1161/STROKEAHA.109.575043</li>\n",
    "<li>appears to be much higher in REGARDS< (460) and then summarize rates from 100-480! Howard, V. J., Kleindorfer, D. O., Judd, S. E., Mcclure, L. A., Safford, M. M., Rhodes, J. D., et al. (2011). Disparities in stroke incidence contributing to disparities in stroke mortality. Annals of Neurology, 69(4), 619–627. http://doi.org/10.1002/ana.22385</li>\n",
    "<li>Hospitalizaiton rate is around 200/100k: Ramirez, L., Kim Tenser, M. A., Sanossian, N., Cen, S., Wen, G., He, S., et al. (2016). Trends in Acute Ischemic Stroke Hospitalizations in the United States. Journal of the American Heart Association, 5(5), 1–8. http://doi.org/10.1161/JAHA.116.003233</li></ul>\n",
    "\n",
    "### We generally reproduce black-white disparities.\n",
    "<ul>\n",
    "    <li>From the Kleindorfer paper above, black incidence is about 1.8x white incience. In the Howard paper above, it summarizes differences from 1.6-2.8. Our estimate comes out around 2.1 - so in the middle of that range.</li>\n",
    "    <li>Interestingly, I did not know that there is no major disparity in MI incidence by race. Yet, that appears to be the case in Kaiser, at least. (Chi, G. C., Kanter, M. H., Li, B. H., Qian, L., Reading, S. R., Harrison, T. N., et al. (2020). Trends in Acute Myocardial Infarction by Race and Ethnicity. Journal of the American Heart Association, 9(5), e013542. http://doi.org/10.1161/JAHA.119.013542)\n",
    "    </li>\n",
    "    <li>Our simulation relatively comes up wiht a 10-15% higher incidence of MI in whites than blacks which is generally concordant with the Kaiser data\n",
    "</ul>    \n",
    "\n",
    "\n",
    "### Numerically, in the whole population there should be slightly more MIs than strokes when including primary + secondary events\n",
    "https://www.heart.org/-/media/data-import/downloadables/heart-disease-and-stroke-statistics-2018---at-a-glance-ucm_498848.pdf\n",
    "\n",
    "— it is harder to talk about primary vs. secondary incidence, because secondary events occur in a much older population and rarely is incidence reported by primary and secondary status. so, its hard to determine if the simulation is producing valid results regarding primary vs. secondary effects using incidence\n",
    "\n",
    "### age standardized all cause mortality for the whole population...\n",
    "- https://www.cdc.gov/nchs/data/nvsr/nvsr67/nvsr67_05.pdf\n",
    "- in 2016, age standardized death rate is 728.8 deaths per 100,000, crude death rate is 849.3 per 100,000 population.\n",
    "\n",
    "\n"
   ]
  },
  {
   "cell_type": "code",
   "execution_count": 39,
   "metadata": {},
   "outputs": [
    {
     "name": "stdout",
     "output_type": "stream",
     "text": [
      "Overall mortality: 685.2570357280474\n"
     ]
    }
   ],
   "source": [
    "print(f\"Overall mortality: {pop.calculate_mean_age_sex_standardized_mortality(2000)}\")"
   ]
  },
  {
   "cell_type": "markdown",
   "metadata": {},
   "source": [
    "### Upshot — MI incidence is reasonable, perhaps a little high, Stroke incidence is reasonable, probably a little low relative to MI hard to judge given variability.\n",
    "— Wouldn't make changes at this point, instead will wait until we have better partitioning models and better event moretality models from the combined cohorts\n",
    "\n",
    "### Overall mortality is slightly overestimated and is something that we may need to recalibrate"
   ]
  },
  {
   "cell_type": "code",
   "execution_count": null,
   "metadata": {},
   "outputs": [],
   "source": []
  },
  {
   "cell_type": "code",
   "execution_count": null,
   "metadata": {},
   "outputs": [],
   "source": []
  },
  {
   "cell_type": "markdown",
   "metadata": {},
   "source": [
    "### Rest of the notebook explores disconnects in how mortality is measured by type. \n",
    "\n",
    "Our conclusion is that there are major disconnects between death certificates and the epidemiology for CAD/MI and that we generally think tha the epidemiooogy is more likly to be relevant to the clincial decisios that we're studying."
   ]
  },
  {
   "cell_type": "code",
   "execution_count": 40,
   "metadata": {},
   "outputs": [
    {
     "data": {
      "text/plain": [
       "0    0.88204\n",
       "1    0.03922\n",
       "2    0.00648\n",
       "3    0.07226\n",
       "Name: ucod, dtype: float64"
      ]
     },
     "execution_count": 40,
     "metadata": {},
     "output_type": "execute_result"
    }
   ],
   "source": [
    "# on UCOD 1 = MI, 2=stroke, 3 = other cause of death\n",
    "earlyCrossSectionOfNonImmigrants.ucod.value_counts(normalize=True, sort=False)"
   ]
  },
  {
   "cell_type": "code",
   "execution_count": 11,
   "metadata": {},
   "outputs": [
    {
     "name": "stdout",
     "output_type": "stream",
     "text": [
      "NHANES Overall mortality 0.119\n",
      "Sim aoverall mortality 0.130\n"
     ]
    }
   ],
   "source": [
    "print(\"NHANES Overall mortality %0.3f\" % earlyCrossSectionOfNonImmigrants.diedBy2015.mean())\n",
    "print(\"Sim aoverall mortality %0.3f\" % popSurvival.dead14.mean())"
   ]
  },
  {
   "cell_type": "code",
   "execution_count": 12,
   "metadata": {},
   "outputs": [
    {
     "name": "stdout",
     "output_type": "stream",
     "text": [
      "NHANES CV mortality 0.044\n",
      "Sim CV mortality 0.010\n"
     ]
    }
   ],
   "source": [
    "print(\"NHANES CV mortality %0.3f\" % earlyCrossSectionOfNonImmigrants.cvDeath.mean())\n",
    "print(\"Sim CV mortality %0.3f\" % popSurvival.cvDeath14.mean())"
   ]
  },
  {
   "cell_type": "code",
   "execution_count": 13,
   "metadata": {},
   "outputs": [
    {
     "name": "stdout",
     "output_type": "stream",
     "text": [
      "NHANES non-CV mortality 0.074\n",
      "Sim non-CV mortality 0.120\n"
     ]
    }
   ],
   "source": [
    "print(\"NHANES non-CV mortality %0.3f\" % earlyCrossSectionOfNonImmigrants.nonCVDeath.mean())\n",
    "print(\"Sim non-CV mortality %0.3f\" % popSurvival.nonCVDeath14.mean())"
   ]
  },
  {
   "cell_type": "code",
   "execution_count": 14,
   "metadata": {},
   "outputs": [
    {
     "name": "stdout",
     "output_type": "stream",
     "text": [
      "NHANES Heart Diasease mortality 0.037\n",
      "Sim MI mortality 0.005\n"
     ]
    }
   ],
   "source": [
    "print(\"NHANES Heart Diasease mortality %0.3f\" % earlyCrossSectionOfNonImmigrants.miDeath.mean())\n",
    "print(\"Sim MI mortality %0.3f\" % popSurvival.miDeath14.mean())"
   ]
  },
  {
   "cell_type": "code",
   "execution_count": 15,
   "metadata": {},
   "outputs": [
    {
     "name": "stdout",
     "output_type": "stream",
     "text": [
      "NHANES Stroke mortality 0.007\n",
      "Sim stroke mortality 0.005\n"
     ]
    }
   ],
   "source": [
    "print(\"NHANES Stroke mortality %0.3f\" % earlyCrossSectionOfNonImmigrants.strokeDeath.mean())\n",
    "print(\"Sim stroke mortality %0.3f\" % popSurvival.strokeDeath14.mean())"
   ]
  },
  {
   "cell_type": "markdown",
   "metadata": {},
   "source": [
    "### CV Mortality is the primary problem\n",
    "<p>CV mortality is <b>much</b> highger in NHANES than in the simulation (4.6% vs. 0.8%), whereas non-CV mortality is pretty close (which makes sense since we derived the non-CV mortality omdel from NHANES). This is mostly due to massive (10-fold) underestimationof raw mortality due to MI (3.9% vs. 0.4%)\n",
    "    \n",
    "### Next steps\n",
    "<ol>\n",
    "    <li><b> Rerun non-CV mortality model in NHANES with updated data</b> (Done)</li>\n",
    "    <li> <b>Run mortality incidence code on NHANES — are we wildly over in NHANES compared to CDC estimates?</b> (Done) </li>\n",
    "    <li> Might have to run incidnce code on death cerrts — can we reproduce the CDC etimates (i.e is there a code problem in the incidence calc?) (Incidenece calcs have been checked quite a bit...I trust them now)</li>\n",
    "    <li> <b>Document the epi logic problem that is in the emali to Jeremy </b> (Done)</li>\n",
    "    <li> <b>Play with the assumptions to see how far we could move things</b> (Done)</li>\n",
    "    <li> <b>Check incidende in subgroups by race/ethnicity and gender and for primary/secondary prevention</b> (Done)</li>\n",
    "    <li> <b>Is the story here about primary vs. secondary prevention? If secondaray events are much more common given primary events and they have much higher mortality, then this could close part of the gap... (Jeremy's email)</b> (Done)</li>\n",
    "</ol>"
   ]
  },
  {
   "cell_type": "markdown",
   "metadata": {},
   "source": [
    "### #2 Run mortality incidence code on NHANES — are we wildly over in NHANES compared to CDC estimates?\n",
    "\n"
   ]
  },
  {
   "cell_type": "code",
   "execution_count": null,
   "metadata": {},
   "outputs": [],
   "source": [
    "earlyCrossSectionOfNonImmigrants['yearInSim'] = earlyCrossSectionOfNonImmigrants.monthsToDeath/12\n",
    "\n",
    "# set years in sim to years until death amongst peopel that die.\n",
    "ageStandard = pop.build_age_standard(2016)\n",
    "\n",
    "for index, row in earlyCrossSectionOfNonImmigrants.iterrows():\n",
    "    nhanesFemale = row['gender'] - 1\n",
    "    if (row['ucod'] != 0):\n",
    "        ageStandard.loc[((ageStandard['lowerAgeBound'] <= row['age']) & (ageStandard['upperAgeBound'] >= row['age']) & (ageStandard['female'] == nhanesFemale)),\n",
    "                        'outcomeCount'] += 1\n",
    "    ageStandard.loc[((ageStandard['lowerAgeBound'] <= row['age']) &\n",
    "                     (ageStandard['upperAgeBound'] >= row['age']) &\n",
    "                     (ageStandard['female'] == nhanesFemale)),\n",
    "                    'simPersonYears'] += row['yearInSim']\n",
    "ageStandard = pop.tabulate_age_specific_rates(ageStandard)\n",
    "print (ageStandard['ageSpecificContribution'].sum())"
   ]
  },
  {
   "cell_type": "markdown",
   "metadata": {},
   "source": [
    "### So, estiamted morality is higher in NHANES that in our overall population and consideralby higher than in daeth certificate data\n",
    "\n",
    "My guess is that this is a calculation problem...NHANES and our sim are both coming up in the same neighborhood and its much higher than CDC...the next xtep would be to run teh same calc on teh CDC death certs, but that would be a time consuming step"
   ]
  },
  {
   "cell_type": "markdown",
   "metadata": {},
   "source": [
    "### #3. Broadly, we have a problem with the epidemiology here."
   ]
  },
  {
   "cell_type": "markdown",
   "metadata": {},
   "source": [
    "1. <b>Age standardizd incidence rates of MI (mostly primary prevention?) are around 200/100k. (above)</b>\n",
    "2. <b >Case fatality is around 10%</b> (same refs as above)\n",
    "3. <b>THat implies that mortlaity should be around 20k/100k.</b> (And is very close to what the sim is doing)\n",
    "4. <b>However, death certificate assessed morrality is also around 200/100k</b> (Sidney, S., Quesenberry, C. P., Jr, Jaffe, M. G., Sorel, M., Nguyen-Huynh, M. N., Kushi, L. H., et al. (2016). Recent Trends in Cardiovascular Mortality in the United States and Public Health Goals. JAMA Cardiology, 1(5), 594–6. http://doi.org/10.1001/jamacardio.2016.1326)\n",
    "\n",
    "\n",
    "So...we have a 10-fold gap in mortality on our hands. Theories:\n",
    "<ol>\n",
    "<li><b>Part of this is the differnece between heart diasese and MI mortality.</b> Straight MI dx on death certs make the problem half as big 100k/200k (Underlying Cause of death 1999-2017.xls spreadsheet from CDC wonder(although, its not obvious that MI isn't the primary cause of mortality in a lot of the other \"heart disease\" dx, such as CHF...)</li>\n",
    "\n",
    "<li><b>Death certificates over-report cardiovacular mortality</b>\n",
    "<ul><li>Our paper on stroke AMCOD vs. UCOD compared to MI (which, agian likely understates the degree of overestimation  because many MIs will end up with heart disease deaths...)</li>\n",
    "<li>Jack's paper linking death certs to admin data suggesting that correlaton is lousy and that \"diseases of the heart\" are plausibly over estriamted</li></ul></li>\n",
    "\n",
    "<li><b> Primary vs. Secondary Preventino </b> Our current modles dont' increase rates for secondary events or case fatality...how much would we have to increase to get close to death certs? That seems like an assumption we can play with pretty easily</li>\n",
    "<li><b> better mortality model - right now, old people aren't dying off enough with CV events</b></li>\n",
    "</ol>"
   ]
  },
  {
   "cell_type": "markdown",
   "metadata": {},
   "source": [
    "### 4. Play with the assumptions to see how far we could move things\n",
    "\n",
    "First, let's double the risk for secondary prevention and double the case fatality rate in secondary prevention\n",
    "\n"
   ]
  },
  {
   "cell_type": "code",
   "execution_count": null,
   "metadata": {},
   "outputs": [],
   "source": [
    "caseFatalityMultiplier = [1,2,3,4,5]\n",
    "secondaryIncidenceMultiplier=[1,2,3,4,5,6,7]\n",
    "results = []\n",
    "\n",
    "for fatalityMult in caseFatalityMultiplier:\n",
    "    for incidenceMult in secondaryIncidenceMultiplier:\n",
    "        print(\"fatality {:d}, incidence {:d}\".format(fatalityMult, incidenceMult))\n",
    "        popSens = NHANESDirectSamplePopulation(n=3000, year=2001) \n",
    "\n",
    "        popSens._outcome_model_repository.secondary_mi_case_fatality = fatalityMult * popSens._outcome_model_repository.mi_case_fatality\n",
    "        popSens._outcome_model_repository.secondary_stroke_case_fatality = fatalityMult * popSens._outcome_model_repository.stroke_case_fatality\n",
    "        popSens._outcome_model_repository.secondary_prevention_multiplier = incidenceMult\n",
    "\n",
    "        popSensDF = pd.DataFrame({\"index\" : popSens._people.index, \"baseAge\" : [person._age[0] for person in popSens._people]} )\n",
    "        popSensDF['ageDecile'] = pd.qcut(popSensDF.baseAge, 10)\n",
    "        for year in range(1,15):\n",
    "            popSens.advance(1)\n",
    "            popSensDF['dead' + str(year)] = [person.is_dead() for person in popSens._people]\n",
    "            popSensDF['cvDeath' + str(year)] = [person.has_fatal_stroke() or person.has_fatal_mi() for person in popSens._people]\n",
    "            popSensDF['strokeDeath' + str(year)] = [person.has_fatal_stroke() for person in popSens._people]\n",
    "            popSensDF['miDeath' + str(year)] = [person.has_fatal_mi() for person in popSens._people]\n",
    "            popSensDF['nonCVDeath' + str(year)] = [person.is_dead() and (person.has_fatal_stroke() ==False) and (person.has_fatal_mi() == False) for person in popSens._people]\n",
    "            popSensDF['cvDeath' + str(year)] = [person.is_dead() and (person.has_fatal_stroke() ==True) or (person.has_fatal_mi() == True) for person in popSens._people]\n",
    "\n",
    "        results.append((fatalityMult, \n",
    "                        incidenceMult, \n",
    "                        popSensDF.dead14.mean(), \n",
    "                        popSensDF.cvDeath14.mean(),\n",
    "                        popSensDF.nonCVDeath14.mean(),\n",
    "                        popSensDF.miDeath14.mean(),\n",
    "                        popSensDF.strokeDeath14.mean()))"
   ]
  },
  {
   "cell_type": "code",
   "execution_count": null,
   "metadata": {
    "scrolled": true
   },
   "outputs": [],
   "source": [
    "import matplotlib.pyplot as plt\n",
    "%matplotlib inline\n",
    "\n",
    "cvMort= np.array([result[3] for result in results]).reshape(5,7)\n",
    "plt.contourf(cvMort, levels=[0.0, 0.01, 0.015, 0.02, 0.025, 0.03,0.035, 0.04])\n",
    "plt.xticks(np.arange(7), np.arange(1,8))\n",
    "plt.yticks(np.arange(5), np.arange(1,6))\n",
    "plt.xlabel('Secondary Risk Multiplier (ASCVD * x = risk in secondary prevention)')\n",
    "plt.ylabel('Secondary Case Fatality Multiplier\\n (Primary case fatality * y = \\ncase fatality in secondary prevention)')\n",
    "plt.colorbar()"
   ]
  },
  {
   "cell_type": "markdown",
   "metadata": {},
   "source": [
    "#### So...to get a CV mortality rate that approximates what is measured in NHANES, we need to multiply the secondary prevention risk by 7! and the secondary case fatality risk by 5!"
   ]
  },
  {
   "cell_type": "code",
   "execution_count": null,
   "metadata": {},
   "outputs": [],
   "source": []
  },
  {
   "cell_type": "code",
   "execution_count": null,
   "metadata": {},
   "outputs": [],
   "source": []
  },
  {
   "cell_type": "code",
   "execution_count": null,
   "metadata": {},
   "outputs": [],
   "source": [
    "earlyCrossSectionOfNonImmigrants['ageDecile'] = pd.qcut(earlyCrossSectionOfNonImmigrants.age, 10)\n",
    "\n",
    "mortalityByDecileNHANES = earlyCrossSectionOfNonImmigrants[['diedBy2015','ageDecile']].groupby(earlyCrossSectionOfNonImmigrants.ageDecile).mean()\n",
    "mortalityByDecileSim = popSurvival[['dead10', 'ageDecile']].groupby(popSurvival.ageDecile).mean()\n",
    "\n",
    "simBar =plt.bar(mortalityByDecileSim.index.codes+0.5, mortalityByDecileSim.dead10, width=0.5, label=\"sim\")\n",
    "nhanesBar = plt.bar(mortalityByDecileNHANES.index.codes, mortalityByDecileNHANES.diedBy2015, width=0.5, label=\"nhanes\")\n",
    "plt.legend()\n"
   ]
  },
  {
   "cell_type": "code",
   "execution_count": null,
   "metadata": {},
   "outputs": [],
   "source": []
  },
  {
   "cell_type": "code",
   "execution_count": null,
   "metadata": {},
   "outputs": [],
   "source": [
    "strokeMortalityByDecileNHANES = earlyCrossSectionOfNonImmigrants[['strokeDeath','ageDecile']].groupby(earlyCrossSectionOfNonImmigrants.ageDecile).mean()\n",
    "mortalityByDecileSim = popSurvival[['strokeDeath10', 'ageDecile']].groupby(popSurvival.ageDecile).mean()\n",
    "\n",
    "simBar =plt.bar(mortalityByDecileSim.index.codes+0.5, mortalityByDecileSim.strokeDeath10, width=0.5, label=\"sim\")\n",
    "nhanesBar = plt.bar(mortalityByDecileNHANES.index.codes, strokeMortalityByDecileNHANES.strokeDeath, width=0.5, label=\"nhanes\")\n",
    "plt.legend()"
   ]
  },
  {
   "cell_type": "code",
   "execution_count": null,
   "metadata": {},
   "outputs": [],
   "source": [
    "miMortalityByDecileNHANES = earlyCrossSectionOfNonImmigrants[['miDeath','ageDecile']].groupby('ageDecile').mean()\n",
    "miMortalityByDecileSim = popSurvival[['miDeath10', 'ageDecile']].groupby(popSurvival.ageDecile).mean()\n",
    "\n",
    "simBar =plt.bar(miMortalityByDecileSim.index.codes+0.5, miMortalityByDecileSim.miDeath10, width=0.5, label=\"sim\")\n",
    "nhanesBar = plt.bar(miMortalityByDecileNHANES.index.codes, miMortalityByDecileNHANES.miDeath, width=0.5, label=\"nhanes\")\n",
    "plt.legend()"
   ]
  },
  {
   "cell_type": "code",
   "execution_count": null,
   "metadata": {},
   "outputs": [],
   "source": [
    "cvMortalityByDecileNHANES = earlyCrossSectionOfNonImmigrants[['cvDeath','ageDecile']].groupby(earlyCrossSectionOfNonImmigrants.ageDecile).mean()\n",
    "cvMortalityByDecileSim = popSurvival[['cvDeath10', 'ageDecile']].groupby(popSurvival.ageDecile).mean()\n",
    "\n",
    "simBar =plt.bar(cvMortalityByDecileSim.index.codes+0.5, cvMortalityByDecileSim.cvDeath10, width=0.5, label=\"sim\")\n",
    "nhanesBar = plt.bar(cvMortalityByDecileNHANES.index.codes, cvMortalityByDecileNHANES.cvDeath, width=0.5, label=\"nhanes\")\n",
    "plt.legend()"
   ]
  },
  {
   "cell_type": "code",
   "execution_count": null,
   "metadata": {},
   "outputs": [],
   "source": [
    "nonCVMortalityByDecileNHANES = earlyCrossSectionOfNonImmigrants[['nonCVDeath','ageDecile']].groupby(earlyCrossSectionOfNonImmigrants.ageDecile).mean()\n",
    "nonCVMortalityByDecileSim = popSurvival[['nonCVDeath10', 'ageDecile']].groupby(popSurvival.ageDecile).mean()\n",
    "\n",
    "nonCVsimBar =plt.bar(nonCVMortalityByDecileSim.index.codes+0.5, nonCVMortalityByDecileSim.nonCVDeath10, width=0.5, label=\"sim non cv\")\n",
    "cvSimBar =plt.bar(cvMortalityByDecileSim.index.codes+0.5, cvMortalityByDecileSim.cvDeath10, width=0.5, label=\"sim cv\", bottom=nonCVMortalityByDecileSim.nonCVDeath10)\n",
    "\n",
    "nonCVnhanesBar = plt.bar(nonCVMortalityByDecileNHANES.index.codes, nonCVMortalityByDecileNHANES.nonCVDeath, width=0.5, label=\"nhanes nonCV\")\n",
    "cvnhanesBar = plt.bar(cvMortalityByDecileNHANES.index.codes, cvMortalityByDecileNHANES.cvDeath, width=0.5, bottom=nonCVMortalityByDecileNHANES.nonCVDeath, label=\"nhanes CV\")\n",
    "plt.legend()"
   ]
  },
  {
   "cell_type": "markdown",
   "metadata": {},
   "source": [
    "### So, we have slight under prediction of mortality in the simulation. Is that because of the code or the data?\n",
    "\n",
    "To test — we will rerun the simulation on the direct NHANES data that we use in the calibration..."
   ]
  },
  {
   "cell_type": "code",
   "execution_count": null,
   "metadata": {},
   "outputs": [],
   "source": [
    "from mcm.gender import NHANESGender\n",
    "from mcm.person import Person\n",
    "from mcm.outcome import Outcome\n",
    "from mcm.race_ethnicity import NHANESRaceEthnicity\n",
    "from mcm.smoking_status import SmokingStatus\n",
    "from mcm.cohort_risk_model_repository import CohortRiskModelRepository\n",
    "from mcm.outcome_model_repository import OutcomeModelRepository"
   ]
  },
  {
   "cell_type": "code",
   "execution_count": null,
   "metadata": {},
   "outputs": [],
   "source": [
    "import os \n",
    "\n",
    "def calcMortalityRunningFullModel(x):\n",
    "        temp =  Person(\n",
    "            age=x.age,\n",
    "            gender=NHANESGender(int(x.gender)),\n",
    "            raceEthnicity=NHANESRaceEthnicity(int(x.raceEthnicity)),\n",
    "            sbp=x.meanSBP,\n",
    "            dbp=x.meanDBP,\n",
    "            a1c=x.a1c,\n",
    "            hdl=x.hdl,\n",
    "            ldl=x.ldl,\n",
    "            trig=x.trig,\n",
    "            totChol=x.tot_chol,\n",
    "            bmi=x.bmi,\n",
    "            smokingStatus=SmokingStatus(int(x.smokingStatus)),\n",
    "            dfIndex=x.index,\n",
    "            diedBy2011=x.diedBy2011)\n",
    "        \n",
    "        for year in range(1,11):\n",
    "            if not temp.is_dead():\n",
    "                temp.advance_year(riskModel, cohortModel)\n",
    "        return temp.is_dead()\n",
    "\n",
    "earlyCrossSectionOfNonImmigrants['estMortalityFromModel'] = earlyCrossSectionOfNonImmigrants.apply(calcMortalityRunningFullModel, axis=1)"
   ]
  },
  {
   "cell_type": "code",
   "execution_count": null,
   "metadata": {},
   "outputs": [],
   "source": [
    "earlyCrossSectionOfNonImmigrants['ageDecile'] = pd.qcut(earlyCrossSectionOfNonImmigrants.age, 10)\n",
    "output = earlyCrossSectionOfNonImmigrants.groupby('ageDecile')[['diedBy2011', 'estMortalityFromModel']].mean()\n",
    "print(output)\n",
    "plt.bar(output.index.codes+1, output.diedBy2011, width=0.5, label=\"actualDeath\")\n",
    "plt.bar(output.index.codes+1.5, output.estMortalityFromModel, width=0.5, label=\"model\")\n",
    "\n",
    "plt.legend()"
   ]
  },
  {
   "cell_type": "markdown",
   "metadata": {},
   "source": [
    "### Ok...this looks quite good...on the same data, the under-prediction problem looks very modest"
   ]
  },
  {
   "cell_type": "code",
   "execution_count": null,
   "metadata": {},
   "outputs": [],
   "source": [
    "earlyCrossSectionOfNonImmigrants.to_stata(\"/Users/burke/Documents/research/bpCog/nhanes/earlyCrossSectionOfNonImmigrants.dta\")\n",
    "earlyCrossSectionOfNonImmigrants.ageDecile.value_counts().sort_index()"
   ]
  },
  {
   "cell_type": "code",
   "execution_count": null,
   "metadata": {},
   "outputs": [],
   "source": [
    "earlyCrossSectionOfNonImmigrants[['diedBy2011', 'estMortalityFromCox', 'estMortalityFromModel']].mean()"
   ]
  },
  {
   "cell_type": "code",
   "execution_count": null,
   "metadata": {},
   "outputs": [],
   "source": [
    "# well...this is not easy to explain.\n",
    "# for the most part the code-bsaed calculation looks similar, gut it under predicts mortaltiy substantially in the highest age decile\n",
    "# this is a bit strange...but, not impossible. if you look at the within population validation, it seems that we under-predicted in the oldest cohort for our basee model as well\n",
    "# i wonder if having a longer follow-up (by constraining to the early oohort might cause that problem...that should be straight-forward to check)\n",
    "\n",
    "# the code based model is over-estmiaging mortalty thorughout.\n",
    "# this is going to be harder to figure otu...\n",
    "# possibilities: 1. the times aren't right...and the cohort model is getting exposed to more time than the comparators\n",
    "# the time aggregation isn't right...the one year probabilities are summing to something greater than the whole"
   ]
  },
  {
   "cell_type": "code",
   "execution_count": null,
   "metadata": {},
   "outputs": [],
   "source": [
    "earlyCrossSectionOfNonImmigrants.ucod.value_counts()"
   ]
  },
  {
   "cell_type": "code",
   "execution_count": null,
   "metadata": {},
   "outputs": [],
   "source": [
    "# next steps — 1. see if we under-preditx mortality badly in the NHANES popualtion if we look at only the people that are enrolled early (and thus have long follow-up)"
   ]
  }
 ],
 "metadata": {
  "kernelspec": {
   "display_name": "Python 3",
   "language": "python",
   "name": "python3"
  },
  "language_info": {
   "codemirror_mode": {
    "name": "ipython",
    "version": 3
   },
   "file_extension": ".py",
   "mimetype": "text/x-python",
   "name": "python",
   "nbconvert_exporter": "python",
   "pygments_lexer": "ipython3",
   "version": "3.7.4"
  }
 },
 "nbformat": 4,
 "nbformat_minor": 2
}
