{
 "cells": [
  {
   "cell_type": "code",
   "execution_count": 1,
   "metadata": {},
   "outputs": [
    {
     "name": "stderr",
     "output_type": "stream",
     "text": [
      "/Users/burke/opt/anaconda3/lib/python3.7/site-packages/statsmodels/tools/_testing.py:19: FutureWarning: pandas.util.testing is deprecated. Use the functions in the public API at pandas.testing instead.\n",
      "  import pandas.util.testing as tm\n"
     ]
    }
   ],
   "source": [
    "%load_ext autoreload\n",
    "%autoreload 2\n",
    "%matplotlib inline\n",
    "\n",
    "import os\n",
    "import matplotlib.pyplot as plt\n",
    "os.chdir(\"/Users/burke/Documents/research/bpCog/microsim\")\n",
    "from microsim.population import NHANESDirectSamplePopulation\n",
    "from microsim.dementia_model import DementiaModel\n",
    "from microsim.outcome import OutcomeType\n",
    "from microsim.outcome_model_type import OutcomeModelType\n",
    "\n",
    "import pandas as pd\n",
    "import numpy as np\n",
    "\n",
    "import multiprocessing as mp\n",
    "mp.set_start_method('forkserver')"
   ]
  },
  {
   "cell_type": "code",
   "execution_count": 2,
   "metadata": {},
   "outputs": [],
   "source": [
    "def runParameters(linear, quadratic, popSize=40000):\n",
    "    # get dataframe on dementia indidcne\n",
    "    # calculate incidence by age \n",
    "    demModel = DementiaModel(linear, quadratic)\n",
    "    pop = NHANESDirectSamplePopulation(n=popSize, year=1999)\n",
    "    pop._outcome_model_repository._models[OutcomeModelType.DEMENTIA] = demModel\n",
    "    pop.advance_multi_process(20)\n",
    "    \n",
    "    incidence = pop.get_raw_incidence_by_age(OutcomeType.DEMENTIA)\n",
    "    predIncidence = .084*np.exp(0.142 * (incidence.index-60))\n",
    "    \n",
    "    incidenceUnder90 = incidence[:90]\n",
    "    # compare to brookmeu\n",
    "    predIncidence = .084*np.exp(0.142 * (incidenceUnder90.index-60))/100\n",
    "    \n",
    "    mse = ((incidenceUnder90-predIncidence)**2).sum()\n",
    "\n",
    "    return (incidenceUnder90, mse, linear, quadratic)"
   ]
  },
  {
   "cell_type": "code",
   "execution_count": 4,
   "metadata": {},
   "outputs": [],
   "source": [
    "mses = [result[1] for result in results]"
   ]
  },
  {
   "cell_type": "code",
   "execution_count": 19,
   "metadata": {},
   "outputs": [
    {
     "name": "stdout",
     "output_type": "stream",
     "text": [
      "COUNT: 0\n",
      "processing year: 0\n",
      "processing year: 1\n",
      "processing year: 2\n",
      "processing year: 3\n",
      "processing year: 4\n",
      "processing year: 5\n",
      "processing year: 6\n",
      "processing year: 7\n",
      "processing year: 8\n",
      "processing year: 9\n",
      "processing year: 10\n",
      "processing year: 11\n",
      "processing year: 12\n",
      "processing year: 13\n",
      "processing year: 14\n",
      "processing year: 15\n",
      "processing year: 16\n",
      "processing year: 17\n",
      "processing year: 18\n",
      "processing year: 19\n",
      "COUNT: 1\n",
      "processing year: 0\n",
      "processing year: 1\n",
      "processing year: 2\n",
      "processing year: 3\n",
      "processing year: 4\n",
      "processing year: 5\n",
      "processing year: 6\n",
      "processing year: 7\n",
      "processing year: 8\n",
      "processing year: 9\n",
      "processing year: 10\n",
      "processing year: 11\n",
      "processing year: 12\n",
      "processing year: 13\n",
      "processing year: 14\n",
      "processing year: 15\n",
      "processing year: 16\n",
      "processing year: 17\n",
      "processing year: 18\n",
      "processing year: 19\n",
      "COUNT: 2\n",
      "processing year: 0\n",
      "processing year: 1\n",
      "processing year: 2\n",
      "processing year: 3\n",
      "processing year: 4\n",
      "processing year: 5\n",
      "processing year: 6\n",
      "processing year: 7\n",
      "processing year: 8\n",
      "processing year: 9\n",
      "processing year: 10\n",
      "processing year: 11\n",
      "processing year: 12\n",
      "processing year: 13\n",
      "processing year: 14\n",
      "processing year: 15\n",
      "processing year: 16\n",
      "processing year: 17\n",
      "processing year: 18\n",
      "processing year: 19\n",
      "COUNT: 3\n",
      "processing year: 0\n",
      "processing year: 1\n",
      "processing year: 2\n",
      "processing year: 3\n",
      "processing year: 4\n",
      "processing year: 5\n",
      "processing year: 6\n",
      "processing year: 7\n",
      "processing year: 8\n",
      "processing year: 9\n",
      "processing year: 10\n",
      "processing year: 11\n",
      "processing year: 12\n",
      "processing year: 13\n",
      "processing year: 14\n",
      "processing year: 15\n",
      "processing year: 16\n",
      "processing year: 17\n",
      "processing year: 18\n",
      "processing year: 19\n",
      "COUNT: 4\n",
      "processing year: 0\n",
      "processing year: 1\n",
      "processing year: 2\n",
      "processing year: 3\n",
      "processing year: 4\n",
      "processing year: 5\n",
      "processing year: 6\n",
      "processing year: 7\n",
      "processing year: 8\n",
      "processing year: 9\n",
      "processing year: 10\n",
      "processing year: 11\n",
      "processing year: 12\n",
      "processing year: 13\n",
      "processing year: 14\n",
      "processing year: 15\n",
      "processing year: 16\n",
      "processing year: 17\n",
      "processing year: 18\n",
      "processing year: 19\n",
      "COUNT: 5\n",
      "processing year: 0\n",
      "processing year: 1\n",
      "processing year: 2\n",
      "processing year: 3\n",
      "processing year: 4\n",
      "processing year: 5\n",
      "processing year: 6\n",
      "processing year: 7\n",
      "processing year: 8\n",
      "processing year: 9\n",
      "processing year: 10\n",
      "processing year: 11\n",
      "processing year: 12\n",
      "processing year: 13\n",
      "processing year: 14\n",
      "processing year: 15\n",
      "processing year: 16\n",
      "processing year: 17\n",
      "processing year: 18\n",
      "processing year: 19\n",
      "COUNT: 6\n",
      "processing year: 0\n",
      "processing year: 1\n",
      "processing year: 2\n",
      "processing year: 3\n",
      "processing year: 4\n",
      "processing year: 5\n",
      "processing year: 6\n",
      "processing year: 7\n",
      "processing year: 8\n",
      "processing year: 9\n",
      "processing year: 10\n",
      "processing year: 11\n",
      "processing year: 12\n",
      "processing year: 13\n",
      "processing year: 14\n",
      "processing year: 15\n",
      "processing year: 16\n",
      "processing year: 17\n",
      "processing year: 18\n",
      "processing year: 19\n",
      "COUNT: 7\n",
      "processing year: 0\n",
      "processing year: 1\n",
      "processing year: 2\n",
      "processing year: 3\n",
      "processing year: 4\n",
      "processing year: 5\n",
      "processing year: 6\n",
      "processing year: 7\n",
      "processing year: 8\n",
      "processing year: 9\n",
      "processing year: 10\n",
      "processing year: 11\n",
      "processing year: 12\n",
      "processing year: 13\n",
      "processing year: 14\n",
      "processing year: 15\n",
      "processing year: 16\n",
      "processing year: 17\n",
      "processing year: 18\n",
      "processing year: 19\n",
      "COUNT: 8\n",
      "processing year: 0\n",
      "processing year: 1\n",
      "processing year: 2\n",
      "processing year: 3\n",
      "processing year: 4\n",
      "processing year: 5\n",
      "processing year: 6\n",
      "processing year: 7\n",
      "processing year: 8\n",
      "processing year: 9\n",
      "processing year: 10\n",
      "processing year: 11\n",
      "processing year: 12\n",
      "processing year: 13\n",
      "processing year: 14\n",
      "processing year: 15\n",
      "processing year: 16\n",
      "processing year: 17\n",
      "processing year: 18\n",
      "processing year: 19\n",
      "COUNT: 9\n",
      "processing year: 0\n",
      "processing year: 1\n",
      "processing year: 2\n",
      "processing year: 3\n",
      "processing year: 4\n",
      "processing year: 5\n",
      "processing year: 6\n",
      "processing year: 7\n",
      "processing year: 8\n",
      "processing year: 9\n",
      "processing year: 10\n",
      "processing year: 11\n",
      "processing year: 12\n",
      "processing year: 13\n",
      "processing year: 14\n",
      "processing year: 15\n",
      "processing year: 16\n",
      "processing year: 17\n",
      "processing year: 18\n",
      "processing year: 19\n",
      "COUNT: 10\n",
      "processing year: 0\n",
      "processing year: 1\n",
      "processing year: 2\n",
      "processing year: 3\n",
      "processing year: 4\n",
      "processing year: 5\n",
      "processing year: 6\n",
      "processing year: 7\n",
      "processing year: 8\n",
      "processing year: 9\n",
      "processing year: 10\n",
      "processing year: 11\n",
      "processing year: 12\n",
      "processing year: 13\n",
      "processing year: 14\n",
      "processing year: 15\n",
      "processing year: 16\n",
      "processing year: 17\n",
      "processing year: 18\n",
      "processing year: 19\n",
      "COUNT: 11\n",
      "processing year: 0\n",
      "processing year: 1\n",
      "processing year: 2\n",
      "processing year: 3\n",
      "processing year: 4\n",
      "processing year: 5\n",
      "processing year: 6\n",
      "processing year: 7\n",
      "processing year: 8\n",
      "processing year: 9\n",
      "processing year: 10\n",
      "processing year: 11\n",
      "processing year: 12\n",
      "processing year: 13\n",
      "processing year: 14\n",
      "processing year: 15\n",
      "processing year: 16\n",
      "processing year: 17\n",
      "processing year: 18\n",
      "processing year: 19\n",
      "COUNT: 12\n",
      "processing year: 0\n",
      "processing year: 1\n",
      "processing year: 2\n",
      "processing year: 3\n",
      "processing year: 4\n",
      "processing year: 5\n",
      "processing year: 6\n",
      "processing year: 7\n",
      "processing year: 8\n",
      "processing year: 9\n",
      "processing year: 10\n",
      "processing year: 11\n",
      "processing year: 12\n",
      "processing year: 13\n",
      "processing year: 14\n",
      "processing year: 15\n",
      "processing year: 16\n",
      "processing year: 17\n",
      "processing year: 18\n",
      "processing year: 19\n",
      "COUNT: 13\n",
      "processing year: 0\n",
      "processing year: 1\n",
      "processing year: 2\n",
      "processing year: 3\n",
      "processing year: 4\n",
      "processing year: 5\n",
      "processing year: 6\n",
      "processing year: 7\n",
      "processing year: 8\n",
      "processing year: 9\n",
      "processing year: 10\n",
      "processing year: 11\n",
      "processing year: 12\n",
      "processing year: 13\n",
      "processing year: 14\n",
      "processing year: 15\n",
      "processing year: 16\n",
      "processing year: 17\n",
      "processing year: 18\n",
      "processing year: 19\n",
      "COUNT: 14\n",
      "processing year: 0\n",
      "processing year: 1\n",
      "processing year: 2\n",
      "processing year: 3\n",
      "processing year: 4\n",
      "processing year: 5\n",
      "processing year: 6\n",
      "processing year: 7\n",
      "processing year: 8\n",
      "processing year: 9\n",
      "processing year: 10\n",
      "processing year: 11\n",
      "processing year: 12\n",
      "processing year: 13\n",
      "processing year: 14\n",
      "processing year: 15\n",
      "processing year: 16\n",
      "processing year: 17\n",
      "processing year: 18\n",
      "processing year: 19\n",
      "COUNT: 15\n",
      "processing year: 0\n",
      "processing year: 1\n",
      "processing year: 2\n",
      "processing year: 3\n",
      "processing year: 4\n",
      "processing year: 5\n",
      "processing year: 6\n",
      "processing year: 7\n",
      "processing year: 8\n",
      "processing year: 9\n",
      "processing year: 10\n",
      "processing year: 11\n",
      "processing year: 12\n",
      "processing year: 13\n",
      "processing year: 14\n",
      "processing year: 15\n",
      "processing year: 16\n",
      "processing year: 17\n",
      "processing year: 18\n",
      "processing year: 19\n",
      "COUNT: 16\n",
      "processing year: 0\n",
      "processing year: 1\n",
      "processing year: 2\n",
      "processing year: 3\n",
      "processing year: 4\n",
      "processing year: 5\n",
      "processing year: 6\n",
      "processing year: 7\n",
      "processing year: 8\n",
      "processing year: 9\n",
      "processing year: 10\n",
      "processing year: 11\n",
      "processing year: 12\n",
      "processing year: 13\n",
      "processing year: 14\n",
      "processing year: 15\n",
      "processing year: 16\n",
      "processing year: 17\n",
      "processing year: 18\n",
      "processing year: 19\n",
      "COUNT: 17\n",
      "processing year: 0\n",
      "processing year: 1\n",
      "processing year: 2\n",
      "processing year: 3\n",
      "processing year: 4\n",
      "processing year: 5\n",
      "processing year: 6\n",
      "processing year: 7\n",
      "processing year: 8\n",
      "processing year: 9\n",
      "processing year: 10\n",
      "processing year: 11\n",
      "processing year: 12\n",
      "processing year: 13\n",
      "processing year: 14\n",
      "processing year: 15\n",
      "processing year: 16\n",
      "processing year: 17\n",
      "processing year: 18\n",
      "processing year: 19\n",
      "COUNT: 18\n",
      "processing year: 0\n",
      "processing year: 1\n",
      "processing year: 2\n",
      "processing year: 3\n",
      "processing year: 4\n",
      "processing year: 5\n",
      "processing year: 6\n",
      "processing year: 7\n",
      "processing year: 8\n",
      "processing year: 9\n",
      "processing year: 10\n",
      "processing year: 11\n",
      "processing year: 12\n",
      "processing year: 13\n",
      "processing year: 14\n",
      "processing year: 15\n",
      "processing year: 16\n",
      "processing year: 17\n",
      "processing year: 18\n",
      "processing year: 19\n",
      "COUNT: 19\n",
      "processing year: 0\n",
      "processing year: 1\n",
      "processing year: 2\n",
      "processing year: 3\n",
      "processing year: 4\n",
      "processing year: 5\n",
      "processing year: 6\n",
      "processing year: 7\n",
      "processing year: 8\n",
      "processing year: 9\n",
      "processing year: 10\n",
      "processing year: 11\n",
      "processing year: 12\n",
      "processing year: 13\n",
      "processing year: 14\n",
      "processing year: 15\n",
      "processing year: 16\n",
      "processing year: 17\n",
      "processing year: 18\n",
      "processing year: 19\n",
      "COUNT: 20\n",
      "processing year: 0\n",
      "processing year: 1\n",
      "processing year: 2\n",
      "processing year: 3\n",
      "processing year: 4\n",
      "processing year: 5\n",
      "processing year: 6\n",
      "processing year: 7\n",
      "processing year: 8\n",
      "processing year: 9\n",
      "processing year: 10\n"
     ]
    },
    {
     "name": "stdout",
     "output_type": "stream",
     "text": [
      "processing year: 11\n",
      "processing year: 12\n",
      "processing year: 13\n",
      "processing year: 14\n",
      "processing year: 15\n",
      "processing year: 16\n",
      "processing year: 17\n",
      "processing year: 18\n",
      "processing year: 19\n",
      "COUNT: 21\n",
      "processing year: 0\n",
      "processing year: 1\n",
      "processing year: 2\n",
      "processing year: 3\n",
      "processing year: 4\n",
      "processing year: 5\n",
      "processing year: 6\n",
      "processing year: 7\n",
      "processing year: 8\n",
      "processing year: 9\n",
      "processing year: 10\n",
      "processing year: 11\n",
      "processing year: 12\n",
      "processing year: 13\n",
      "processing year: 14\n",
      "processing year: 15\n",
      "processing year: 16\n",
      "processing year: 17\n",
      "processing year: 18\n",
      "processing year: 19\n",
      "COUNT: 22\n",
      "processing year: 0\n",
      "processing year: 1\n",
      "processing year: 2\n",
      "processing year: 3\n",
      "processing year: 4\n",
      "processing year: 5\n",
      "processing year: 6\n",
      "processing year: 7\n",
      "processing year: 8\n",
      "processing year: 9\n",
      "processing year: 10\n",
      "processing year: 11\n",
      "processing year: 12\n",
      "processing year: 13\n",
      "processing year: 14\n",
      "processing year: 15\n",
      "processing year: 16\n",
      "processing year: 17\n",
      "processing year: 18\n",
      "processing year: 19\n",
      "COUNT: 23\n",
      "processing year: 0\n",
      "processing year: 1\n",
      "processing year: 2\n",
      "processing year: 3\n",
      "processing year: 4\n",
      "processing year: 5\n",
      "processing year: 6\n",
      "processing year: 7\n",
      "processing year: 8\n",
      "processing year: 9\n",
      "processing year: 10\n",
      "processing year: 11\n",
      "processing year: 12\n",
      "processing year: 13\n",
      "processing year: 14\n",
      "processing year: 15\n",
      "processing year: 16\n",
      "processing year: 17\n",
      "processing year: 18\n",
      "processing year: 19\n",
      "COUNT: 24\n",
      "processing year: 0\n",
      "processing year: 1\n",
      "processing year: 2\n",
      "processing year: 3\n",
      "processing year: 4\n",
      "processing year: 5\n",
      "processing year: 6\n",
      "processing year: 7\n",
      "processing year: 8\n",
      "processing year: 9\n",
      "processing year: 10\n",
      "processing year: 11\n",
      "processing year: 12\n",
      "processing year: 13\n",
      "processing year: 14\n",
      "processing year: 15\n",
      "processing year: 16\n",
      "processing year: 17\n",
      "processing year: 18\n",
      "processing year: 19\n",
      "COUNT: 25\n",
      "processing year: 0\n",
      "processing year: 1\n",
      "processing year: 2\n",
      "processing year: 3\n",
      "processing year: 4\n",
      "processing year: 5\n",
      "processing year: 6\n",
      "processing year: 7\n",
      "processing year: 8\n",
      "processing year: 9\n",
      "processing year: 10\n",
      "processing year: 11\n",
      "processing year: 12\n",
      "processing year: 13\n",
      "processing year: 14\n",
      "processing year: 15\n",
      "processing year: 16\n",
      "processing year: 17\n",
      "processing year: 18\n",
      "processing year: 19\n",
      "COUNT: 26\n",
      "processing year: 0\n",
      "processing year: 1\n",
      "processing year: 2\n",
      "processing year: 3\n",
      "processing year: 4\n",
      "processing year: 5\n",
      "processing year: 6\n",
      "processing year: 7\n",
      "processing year: 8\n",
      "processing year: 9\n",
      "processing year: 10\n",
      "processing year: 11\n",
      "processing year: 12\n",
      "processing year: 13\n",
      "processing year: 14\n",
      "processing year: 15\n",
      "processing year: 16\n",
      "processing year: 17\n",
      "processing year: 18\n",
      "processing year: 19\n",
      "COUNT: 27\n",
      "processing year: 0\n",
      "processing year: 1\n",
      "processing year: 2\n",
      "processing year: 3\n",
      "processing year: 4\n",
      "processing year: 5\n",
      "processing year: 6\n",
      "processing year: 7\n",
      "processing year: 8\n",
      "processing year: 9\n",
      "processing year: 10\n",
      "processing year: 11\n",
      "processing year: 12\n",
      "processing year: 13\n",
      "processing year: 14\n",
      "processing year: 15\n",
      "processing year: 16\n",
      "processing year: 17\n",
      "processing year: 18\n",
      "processing year: 19\n"
     ]
    }
   ],
   "source": [
    "linearBase = 5.64485841e-05\n",
    "quadraticBase=9.33371239e-05\n",
    "\n",
    "linearMultipliers = [0.01, 0.05, 0.1, 0.25, 0.375, 0.5, 1.0]\n",
    "quadraticMultipliers = [0.01, 0.05, 0.1, 0.25]\n",
    "\n",
    "results = []\n",
    "count = 0\n",
    "\n",
    "for lin in linearMultipliers:\n",
    "    for quad in quadraticMultipliers:\n",
    "        print(f\"COUNT: {count}\")\n",
    "        results.append(runParameters(linearBase*lin, quad*quadraticBase, 40000))\n",
    "        count += 1\n"
   ]
  },
  {
   "cell_type": "code",
   "execution_count": 20,
   "metadata": {},
   "outputs": [],
   "source": [
    "resultsDF = pd.DataFrame({'mse' : [result[1] for result in results], \n",
    "                         'linear' : [result[2] for result in results],\n",
    "                         'quadratic' : [result[3] for result in results]})\n",
    "resultsDF.sort_values('mse', inplace=True)"
   ]
  },
  {
   "cell_type": "code",
   "execution_count": 21,
   "metadata": {},
   "outputs": [
    {
     "data": {
      "text/html": [
       "<div>\n",
       "<style scoped>\n",
       "    .dataframe tbody tr th:only-of-type {\n",
       "        vertical-align: middle;\n",
       "    }\n",
       "\n",
       "    .dataframe tbody tr th {\n",
       "        vertical-align: top;\n",
       "    }\n",
       "\n",
       "    .dataframe thead th {\n",
       "        text-align: right;\n",
       "    }\n",
       "</style>\n",
       "<table border=\"1\" class=\"dataframe\">\n",
       "  <thead>\n",
       "    <tr style=\"text-align: right;\">\n",
       "      <th></th>\n",
       "      <th>mse</th>\n",
       "      <th>linear</th>\n",
       "      <th>quadratic</th>\n",
       "    </tr>\n",
       "  </thead>\n",
       "  <tbody>\n",
       "    <tr>\n",
       "      <th>20</th>\n",
       "      <td>0.000448</td>\n",
       "      <td>2.822429e-05</td>\n",
       "      <td>9.333712e-07</td>\n",
       "    </tr>\n",
       "    <tr>\n",
       "      <th>16</th>\n",
       "      <td>0.001086</td>\n",
       "      <td>2.116822e-05</td>\n",
       "      <td>9.333712e-07</td>\n",
       "    </tr>\n",
       "    <tr>\n",
       "      <th>12</th>\n",
       "      <td>0.001658</td>\n",
       "      <td>1.411215e-05</td>\n",
       "      <td>9.333712e-07</td>\n",
       "    </tr>\n",
       "    <tr>\n",
       "      <th>24</th>\n",
       "      <td>0.001769</td>\n",
       "      <td>5.644858e-05</td>\n",
       "      <td>9.333712e-07</td>\n",
       "    </tr>\n",
       "    <tr>\n",
       "      <th>5</th>\n",
       "      <td>0.002389</td>\n",
       "      <td>2.822429e-06</td>\n",
       "      <td>4.666856e-06</td>\n",
       "    </tr>\n",
       "    <tr>\n",
       "      <th>1</th>\n",
       "      <td>0.002523</td>\n",
       "      <td>5.644858e-07</td>\n",
       "      <td>4.666856e-06</td>\n",
       "    </tr>\n",
       "    <tr>\n",
       "      <th>9</th>\n",
       "      <td>0.002572</td>\n",
       "      <td>5.644858e-06</td>\n",
       "      <td>4.666856e-06</td>\n",
       "    </tr>\n",
       "    <tr>\n",
       "      <th>8</th>\n",
       "      <td>0.003781</td>\n",
       "      <td>5.644858e-06</td>\n",
       "      <td>9.333712e-07</td>\n",
       "    </tr>\n",
       "    <tr>\n",
       "      <th>4</th>\n",
       "      <td>0.003989</td>\n",
       "      <td>2.822429e-06</td>\n",
       "      <td>9.333712e-07</td>\n",
       "    </tr>\n",
       "    <tr>\n",
       "      <th>13</th>\n",
       "      <td>0.004121</td>\n",
       "      <td>1.411215e-05</td>\n",
       "      <td>4.666856e-06</td>\n",
       "    </tr>\n",
       "    <tr>\n",
       "      <th>17</th>\n",
       "      <td>0.005191</td>\n",
       "      <td>2.116822e-05</td>\n",
       "      <td>4.666856e-06</td>\n",
       "    </tr>\n",
       "    <tr>\n",
       "      <th>0</th>\n",
       "      <td>0.005216</td>\n",
       "      <td>5.644858e-07</td>\n",
       "      <td>9.333712e-07</td>\n",
       "    </tr>\n",
       "    <tr>\n",
       "      <th>21</th>\n",
       "      <td>0.005891</td>\n",
       "      <td>2.822429e-05</td>\n",
       "      <td>4.666856e-06</td>\n",
       "    </tr>\n",
       "    <tr>\n",
       "      <th>25</th>\n",
       "      <td>0.010759</td>\n",
       "      <td>5.644858e-05</td>\n",
       "      <td>4.666856e-06</td>\n",
       "    </tr>\n",
       "    <tr>\n",
       "      <th>6</th>\n",
       "      <td>0.015153</td>\n",
       "      <td>2.822429e-06</td>\n",
       "      <td>9.333712e-06</td>\n",
       "    </tr>\n",
       "    <tr>\n",
       "      <th>2</th>\n",
       "      <td>0.015270</td>\n",
       "      <td>5.644858e-07</td>\n",
       "      <td>9.333712e-06</td>\n",
       "    </tr>\n",
       "    <tr>\n",
       "      <th>14</th>\n",
       "      <td>0.015565</td>\n",
       "      <td>1.411215e-05</td>\n",
       "      <td>9.333712e-06</td>\n",
       "    </tr>\n",
       "    <tr>\n",
       "      <th>10</th>\n",
       "      <td>0.015846</td>\n",
       "      <td>5.644858e-06</td>\n",
       "      <td>9.333712e-06</td>\n",
       "    </tr>\n",
       "    <tr>\n",
       "      <th>18</th>\n",
       "      <td>0.017893</td>\n",
       "      <td>2.116822e-05</td>\n",
       "      <td>9.333712e-06</td>\n",
       "    </tr>\n",
       "    <tr>\n",
       "      <th>22</th>\n",
       "      <td>0.019148</td>\n",
       "      <td>2.822429e-05</td>\n",
       "      <td>9.333712e-06</td>\n",
       "    </tr>\n",
       "    <tr>\n",
       "      <th>26</th>\n",
       "      <td>0.022018</td>\n",
       "      <td>5.644858e-05</td>\n",
       "      <td>9.333712e-06</td>\n",
       "    </tr>\n",
       "    <tr>\n",
       "      <th>7</th>\n",
       "      <td>0.041876</td>\n",
       "      <td>2.822429e-06</td>\n",
       "      <td>2.333428e-05</td>\n",
       "    </tr>\n",
       "    <tr>\n",
       "      <th>11</th>\n",
       "      <td>0.042720</td>\n",
       "      <td>5.644858e-06</td>\n",
       "      <td>2.333428e-05</td>\n",
       "    </tr>\n",
       "    <tr>\n",
       "      <th>3</th>\n",
       "      <td>0.043443</td>\n",
       "      <td>5.644858e-07</td>\n",
       "      <td>2.333428e-05</td>\n",
       "    </tr>\n",
       "    <tr>\n",
       "      <th>15</th>\n",
       "      <td>0.044024</td>\n",
       "      <td>1.411215e-05</td>\n",
       "      <td>2.333428e-05</td>\n",
       "    </tr>\n",
       "    <tr>\n",
       "      <th>19</th>\n",
       "      <td>0.044481</td>\n",
       "      <td>2.116822e-05</td>\n",
       "      <td>2.333428e-05</td>\n",
       "    </tr>\n",
       "    <tr>\n",
       "      <th>23</th>\n",
       "      <td>0.045594</td>\n",
       "      <td>2.822429e-05</td>\n",
       "      <td>2.333428e-05</td>\n",
       "    </tr>\n",
       "    <tr>\n",
       "      <th>27</th>\n",
       "      <td>0.047582</td>\n",
       "      <td>5.644858e-05</td>\n",
       "      <td>2.333428e-05</td>\n",
       "    </tr>\n",
       "  </tbody>\n",
       "</table>\n",
       "</div>"
      ],
      "text/plain": [
       "         mse        linear     quadratic\n",
       "20  0.000448  2.822429e-05  9.333712e-07\n",
       "16  0.001086  2.116822e-05  9.333712e-07\n",
       "12  0.001658  1.411215e-05  9.333712e-07\n",
       "24  0.001769  5.644858e-05  9.333712e-07\n",
       "5   0.002389  2.822429e-06  4.666856e-06\n",
       "1   0.002523  5.644858e-07  4.666856e-06\n",
       "9   0.002572  5.644858e-06  4.666856e-06\n",
       "8   0.003781  5.644858e-06  9.333712e-07\n",
       "4   0.003989  2.822429e-06  9.333712e-07\n",
       "13  0.004121  1.411215e-05  4.666856e-06\n",
       "17  0.005191  2.116822e-05  4.666856e-06\n",
       "0   0.005216  5.644858e-07  9.333712e-07\n",
       "21  0.005891  2.822429e-05  4.666856e-06\n",
       "25  0.010759  5.644858e-05  4.666856e-06\n",
       "6   0.015153  2.822429e-06  9.333712e-06\n",
       "2   0.015270  5.644858e-07  9.333712e-06\n",
       "14  0.015565  1.411215e-05  9.333712e-06\n",
       "10  0.015846  5.644858e-06  9.333712e-06\n",
       "18  0.017893  2.116822e-05  9.333712e-06\n",
       "22  0.019148  2.822429e-05  9.333712e-06\n",
       "26  0.022018  5.644858e-05  9.333712e-06\n",
       "7   0.041876  2.822429e-06  2.333428e-05\n",
       "11  0.042720  5.644858e-06  2.333428e-05\n",
       "3   0.043443  5.644858e-07  2.333428e-05\n",
       "15  0.044024  1.411215e-05  2.333428e-05\n",
       "19  0.044481  2.116822e-05  2.333428e-05\n",
       "23  0.045594  2.822429e-05  2.333428e-05\n",
       "27  0.047582  5.644858e-05  2.333428e-05"
      ]
     },
     "execution_count": 21,
     "metadata": {},
     "output_type": "execute_result"
    }
   ],
   "source": [
    "resultsDF"
   ]
  },
  {
   "cell_type": "code",
   "execution_count": 24,
   "metadata": {},
   "outputs": [
    {
     "data": {
      "text/plain": [
       "<matplotlib.collections.PathCollection at 0x7f95fcbd8c10>"
      ]
     },
     "execution_count": 24,
     "metadata": {},
     "output_type": "execute_result"
    },
    {
     "data": {
      "image/png": "[encoded data removed]",
      "text/plain": [
       "<Figure size 432x288 with 1 Axes>"
      ]
     },
     "metadata": {
      "needs_background": "light"
     },
     "output_type": "display_data"
    }
   ],
   "source": [
    "plt.scatter(resultsDF.linear, resultsDF.mse)"
   ]
  },
  {
   "cell_type": "code",
   "execution_count": 25,
   "metadata": {},
   "outputs": [
    {
     "data": {
      "text/plain": [
       "<matplotlib.collections.PathCollection at 0x7f95fcbd8490>"
      ]
     },
     "execution_count": 25,
     "metadata": {},
     "output_type": "execute_result"
    },
    {
     "data": {
      "image/png": "[encoded data removed]",
      "text/plain": [
       "<Figure size 432x288 with 1 Axes>"
      ]
     },
     "metadata": {
      "needs_background": "light"
     },
     "output_type": "display_data"
    }
   ],
   "source": [
    "plt.scatter(resultsDF.quadratic, resultsDF.mse)"
   ]
  },
  {
   "cell_type": "code",
   "execution_count": 29,
   "metadata": {},
   "outputs": [
    {
     "data": {
      "text/plain": [
       "mse          0.022018\n",
       "linear       0.000056\n",
       "quadratic    0.000009\n",
       "Name: 26, dtype: float64"
      ]
     },
     "execution_count": 29,
     "metadata": {},
     "output_type": "execute_result"
    }
   ],
   "source": [
    "### the best matching row\n",
    "resultsDF.iloc[20]"
   ]
  },
  {
   "cell_type": "code",
   "execution_count": 27,
   "metadata": {},
   "outputs": [
    {
     "data": {
      "text/plain": [
       "<matplotlib.legend.Legend at 0x7f96231958d0>"
      ]
     },
     "execution_count": 27,
     "metadata": {},
     "output_type": "execute_result"
    },
    {
     "data": {
      "image/png": "[encoded data removed]",
      "text/plain": [
       "<Figure size 432x288 with 1 Axes>"
      ]
     },
     "metadata": {
      "needs_background": "light"
     },
     "output_type": "display_data"
    }
   ],
   "source": [
    "plt.plot(results[20][0].index, results[20][0].values, label='Best fit survival parameters')\n",
    "predIncidence = .084*np.exp(0.142 * (results[20][0].index-60))/100\n",
    "\n",
    "\n",
    "plt.plot(results[0][0].index, predIncidence, label='Brookmeyer')\n",
    "plt.legend()"
   ]
  },
  {
   "cell_type": "code",
   "execution_count": 12,
   "metadata": {},
   "outputs": [
    {
     "data": {
      "text/plain": [
       "23"
      ]
     },
     "execution_count": 12,
     "metadata": {},
     "output_type": "execute_result"
    }
   ],
   "source": [
    "pd.Series(mses).idxmax()"
   ]
  },
  {
   "cell_type": "code",
   "execution_count": 7,
   "metadata": {},
   "outputs": [
    {
     "data": {
      "text/plain": [
       "count    36.000000\n",
       "mean      0.066566\n",
       "std       0.030118\n",
       "min       0.015788\n",
       "25%       0.045035\n",
       "50%       0.065694\n",
       "75%       0.091142\n",
       "max       0.113559\n",
       "dtype: float64"
      ]
     },
     "execution_count": 7,
     "metadata": {},
     "output_type": "execute_result"
    }
   ],
   "source": [
    "pd.Series(mses).describe()"
   ]
  },
  {
   "cell_type": "code",
   "execution_count": 11,
   "metadata": {},
   "outputs": [
    {
     "data": {
      "text/plain": [
       "[<matplotlib.lines.Line2D at 0x7fda670cec10>]"
      ]
     },
     "execution_count": 11,
     "metadata": {},
     "output_type": "execute_result"
    },
    {
     "data": {
      "image/png": "[encoded data removed]",
      "text/plain": [
       "<Figure size 432x288 with 1 Axes>"
      ]
     },
     "metadata": {
      "needs_background": "light"
     },
     "output_type": "display_data"
    }
   ],
   "source": [
    "plt.plot(results[24][0].index, results[24][0].values)"
   ]
  },
  {
   "cell_type": "code",
   "execution_count": 13,
   "metadata": {},
   "outputs": [
    {
     "data": {
      "text/plain": [
       "[<matplotlib.lines.Line2D at 0x7fda670e6710>]"
      ]
     },
     "execution_count": 13,
     "metadata": {},
     "output_type": "execute_result"
    },
    {
     "data": {
      "image/png": "[encoded data removed]",
      "text/plain": [
       "<Figure size 432x288 with 1 Axes>"
      ]
     },
     "metadata": {
      "needs_background": "light"
     },
     "output_type": "display_data"
    }
   ],
   "source": [
    "plt.plot(results[23][0].index, results[23][0].values)"
   ]
  },
  {
   "cell_type": "markdown",
   "metadata": {},
   "source": [
    "### OK...here is the state of affairs...\n",
    "\n",
    "it looks like i can get a simple strategy to fit the MSES...but, it probably requires a large population to be able to get the fit — random low event rates are otherwise going to look best.\n",
    "\n",
    "let's try and fit a computationally intensive approach over the weekend and see if we find a good fit.\n",
    "\n",
    "if so...great...\n",
    "\n",
    "if not...then, the idea would be to run a SINGLE large population to get the linear predictors and then swap out the hazard functions...and do a more reliable change of the hazard function only to see how it fits. analytically, that woudl clearly be better...but, its a lot more coding work and a potential source of bugs. "
   ]
  },
  {
   "cell_type": "code",
   "execution_count": 12,
   "metadata": {},
   "outputs": [
    {
     "data": {
      "text/plain": [
       "age\n",
       "20.0    0.000000\n",
       "21.0    0.000000\n",
       "22.0    0.000000\n",
       "23.0    0.000000\n",
       "24.0    0.000000\n",
       "          ...   \n",
       "86.0    0.035088\n",
       "87.0    0.106383\n",
       "88.0    0.025000\n",
       "89.0    0.027778\n",
       "90.0    0.033333\n",
       "Length: 71, dtype: float64"
      ]
     },
     "execution_count": 12,
     "metadata": {},
     "output_type": "execute_result"
    }
   ],
   "source": [
    "test[0]"
   ]
  },
  {
   "cell_type": "code",
   "execution_count": 11,
   "metadata": {},
   "outputs": [
    {
     "name": "stdout",
     "output_type": "stream",
     "text": [
      "processing year: 0\n",
      "processing year: 1\n",
      "processing year: 2\n",
      "processing year: 3\n",
      "processing year: 4\n",
      "processing year: 5\n",
      "processing year: 6\n",
      "processing year: 7\n",
      "processing year: 8\n",
      "processing year: 9\n",
      "processing year: 10\n",
      "processing year: 11\n",
      "processing year: 12\n",
      "processing year: 13\n",
      "processing year: 14\n",
      "processing year: 15\n",
      "processing year: 16\n",
      "processing year: 17\n",
      "processing year: 18\n",
      "processing year: 19\n"
     ]
    }
   ],
   "source": [
    "test = runParameters(5.64485841e-05, 9.33371239e-05, 500)"
   ]
  },
  {
   "cell_type": "code",
   "execution_count": 22,
   "metadata": {},
   "outputs": [],
   "source": [
    "predIncidence = .084*np.exp(0.142 * (test[0].index-60))/100\n",
    "explore = pd.DataFrame(test[0])\n",
    "explore['predIncidence'] = predIncidence\n",
    "explore['diff'] = explore[0] - predIncidence\n",
    "explore['diffSquare'] = (explore[0] - predIncidence)**2\n"
   ]
  },
  {
   "cell_type": "code",
   "execution_count": 24,
   "metadata": {},
   "outputs": [
    {
     "data": {
      "text/html": [
       "<div>\n",
       "<style scoped>\n",
       "    .dataframe tbody tr th:only-of-type {\n",
       "        vertical-align: middle;\n",
       "    }\n",
       "\n",
       "    .dataframe tbody tr th {\n",
       "        vertical-align: top;\n",
       "    }\n",
       "\n",
       "    .dataframe thead th {\n",
       "        text-align: right;\n",
       "    }\n",
       "</style>\n",
       "<table border=\"1\" class=\"dataframe\">\n",
       "  <thead>\n",
       "    <tr style=\"text-align: right;\">\n",
       "      <th></th>\n",
       "      <th>0</th>\n",
       "      <th>predIncidence</th>\n",
       "      <th>diff</th>\n",
       "      <th>diffSquare</th>\n",
       "    </tr>\n",
       "    <tr>\n",
       "      <th>age</th>\n",
       "      <th></th>\n",
       "      <th></th>\n",
       "      <th></th>\n",
       "      <th></th>\n",
       "    </tr>\n",
       "  </thead>\n",
       "  <tbody>\n",
       "    <tr>\n",
       "      <th>20.0</th>\n",
       "      <td>0.000000</td>\n",
       "      <td>0.000003</td>\n",
       "      <td>-0.000003</td>\n",
       "      <td>8.221920e-12</td>\n",
       "    </tr>\n",
       "    <tr>\n",
       "      <th>21.0</th>\n",
       "      <td>0.000000</td>\n",
       "      <td>0.000003</td>\n",
       "      <td>-0.000003</td>\n",
       "      <td>1.092227e-11</td>\n",
       "    </tr>\n",
       "    <tr>\n",
       "      <th>22.0</th>\n",
       "      <td>0.000000</td>\n",
       "      <td>0.000004</td>\n",
       "      <td>-0.000004</td>\n",
       "      <td>1.450950e-11</td>\n",
       "    </tr>\n",
       "    <tr>\n",
       "      <th>23.0</th>\n",
       "      <td>0.000000</td>\n",
       "      <td>0.000004</td>\n",
       "      <td>-0.000004</td>\n",
       "      <td>1.927490e-11</td>\n",
       "    </tr>\n",
       "    <tr>\n",
       "      <th>24.0</th>\n",
       "      <td>0.000000</td>\n",
       "      <td>0.000005</td>\n",
       "      <td>-0.000005</td>\n",
       "      <td>2.560541e-11</td>\n",
       "    </tr>\n",
       "    <tr>\n",
       "      <th>...</th>\n",
       "      <td>...</td>\n",
       "      <td>...</td>\n",
       "      <td>...</td>\n",
       "      <td>...</td>\n",
       "    </tr>\n",
       "    <tr>\n",
       "      <th>86.0</th>\n",
       "      <td>0.035088</td>\n",
       "      <td>0.033705</td>\n",
       "      <td>0.001383</td>\n",
       "      <td>1.911874e-06</td>\n",
       "    </tr>\n",
       "    <tr>\n",
       "      <th>87.0</th>\n",
       "      <td>0.106383</td>\n",
       "      <td>0.038848</td>\n",
       "      <td>0.067535</td>\n",
       "      <td>4.561026e-03</td>\n",
       "    </tr>\n",
       "    <tr>\n",
       "      <th>88.0</th>\n",
       "      <td>0.025000</td>\n",
       "      <td>0.044775</td>\n",
       "      <td>-0.019775</td>\n",
       "      <td>3.910447e-04</td>\n",
       "    </tr>\n",
       "    <tr>\n",
       "      <th>89.0</th>\n",
       "      <td>0.027778</td>\n",
       "      <td>0.051606</td>\n",
       "      <td>-0.023829</td>\n",
       "      <td>5.678055e-04</td>\n",
       "    </tr>\n",
       "    <tr>\n",
       "      <th>90.0</th>\n",
       "      <td>0.033333</td>\n",
       "      <td>0.059480</td>\n",
       "      <td>-0.026147</td>\n",
       "      <td>6.836684e-04</td>\n",
       "    </tr>\n",
       "  </tbody>\n",
       "</table>\n",
       "<p>71 rows × 4 columns</p>\n",
       "</div>"
      ],
      "text/plain": [
       "             0  predIncidence      diff    diffSquare\n",
       "age                                                  \n",
       "20.0  0.000000       0.000003 -0.000003  8.221920e-12\n",
       "21.0  0.000000       0.000003 -0.000003  1.092227e-11\n",
       "22.0  0.000000       0.000004 -0.000004  1.450950e-11\n",
       "23.0  0.000000       0.000004 -0.000004  1.927490e-11\n",
       "24.0  0.000000       0.000005 -0.000005  2.560541e-11\n",
       "...        ...            ...       ...           ...\n",
       "86.0  0.035088       0.033705  0.001383  1.911874e-06\n",
       "87.0  0.106383       0.038848  0.067535  4.561026e-03\n",
       "88.0  0.025000       0.044775 -0.019775  3.910447e-04\n",
       "89.0  0.027778       0.051606 -0.023829  5.678055e-04\n",
       "90.0  0.033333       0.059480 -0.026147  6.836684e-04\n",
       "\n",
       "[71 rows x 4 columns]"
      ]
     },
     "execution_count": 24,
     "metadata": {},
     "output_type": "execute_result"
    }
   ],
   "source": [
    "explore"
   ]
  },
  {
   "cell_type": "code",
   "execution_count": 4,
   "metadata": {},
   "outputs": [
    {
     "name": "stdout",
     "output_type": "stream",
     "text": [
      "processing year: 0\n",
      "processing year: 1\n",
      "processing year: 2\n",
      "processing year: 3\n",
      "processing year: 4\n",
      "processing year: 5\n",
      "processing year: 6\n",
      "processing year: 7\n",
      "processing year: 8\n",
      "processing year: 9\n",
      "processing year: 10\n",
      "processing year: 11\n",
      "processing year: 12\n",
      "processing year: 13\n",
      "processing year: 14\n",
      "processing year: 15\n",
      "processing year: 16\n",
      "processing year: 17\n",
      "processing year: 18\n",
      "processing year: 19\n"
     ]
    }
   ],
   "source": [
    "demModel = DementiaModel()\n",
    "pop = NHANESDirectSamplePopulation(n=1000, year=1999)\n",
    "pop._outcome_model_repository._models[OutcomeModelType.DEMENTIA] = demModel\n",
    "pop.advance_multi_process(20)\n",
    "\n",
    "incidence = pop.get_raw_incidence_by_age(OutcomeType.DEMENTIA)"
   ]
  },
  {
   "cell_type": "code",
   "execution_count": 7,
   "metadata": {},
   "outputs": [
    {
     "data": {
      "text/plain": [
       "[<matplotlib.lines.Line2D at 0x7fcb04001d50>]"
      ]
     },
     "execution_count": 7,
     "metadata": {},
     "output_type": "execute_result"
    },
    {
     "data": {
      "image/png": "[encoded data removed]",
      "text/plain": [
       "<Figure size 432x288 with 1 Axes>"
      ]
     },
     "metadata": {
      "needs_background": "light"
     },
     "output_type": "display_data"
    }
   ],
   "source": [
    "plt.scatter(incidence.index, incidence.values)\n",
    "predIncidence = .084*np.exp(0.142 * (incidence.index-60))\n",
    "plt.plot(incidence.index, predIncidence/100, label=\"brookmeyer\")"
   ]
  },
  {
   "cell_type": "code",
   "execution_count": 11,
   "metadata": {},
   "outputs": [
    {
     "name": "stdout",
     "output_type": "stream",
     "text": [
      "processing year: 0\n",
      "processing year: 1\n",
      "processing year: 2\n",
      "processing year: 3\n",
      "processing year: 4\n",
      "processing year: 5\n",
      "processing year: 6\n",
      "processing year: 7\n",
      "processing year: 8\n",
      "processing year: 9\n",
      "processing year: 10\n",
      "processing year: 11\n",
      "processing year: 12\n",
      "processing year: 13\n",
      "processing year: 14\n",
      "processing year: 15\n",
      "processing year: 16\n",
      "processing year: 17\n",
      "processing year: 18\n",
      "processing year: 19\n"
     ]
    }
   ],
   "source": [
    "incidence1 = runParameters(linear=5.64485841e-05, quadratic=1.33371239e-05)"
   ]
  },
  {
   "cell_type": "code",
   "execution_count": 12,
   "metadata": {
    "scrolled": true
   },
   "outputs": [
    {
     "name": "stdout",
     "output_type": "stream",
     "text": [
      "processing year: 0\n",
      "processing year: 1\n",
      "processing year: 2\n",
      "processing year: 3\n",
      "processing year: 4\n",
      "processing year: 5\n",
      "processing year: 6\n",
      "processing year: 7\n",
      "processing year: 8\n",
      "processing year: 9\n",
      "processing year: 10\n",
      "processing year: 11\n",
      "processing year: 12\n",
      "processing year: 13\n",
      "processing year: 14\n",
      "processing year: 15\n",
      "processing year: 16\n",
      "processing year: 17\n",
      "processing year: 18\n",
      "processing year: 19\n"
     ]
    }
   ],
   "source": [
    "incidence2 = runParameters(linear=5.64485841e-05, quadratic=4.83371239e-05)"
   ]
  },
  {
   "cell_type": "code",
   "execution_count": 13,
   "metadata": {},
   "outputs": [
    {
     "name": "stdout",
     "output_type": "stream",
     "text": [
      "processing year: 0\n",
      "processing year: 1\n",
      "processing year: 2\n",
      "processing year: 3\n",
      "processing year: 4\n",
      "processing year: 5\n",
      "processing year: 6\n",
      "processing year: 7\n",
      "processing year: 8\n",
      "processing year: 9\n",
      "processing year: 10\n",
      "processing year: 11\n",
      "processing year: 12\n",
      "processing year: 13\n",
      "processing year: 14\n",
      "processing year: 15\n",
      "processing year: 16\n",
      "processing year: 17\n",
      "processing year: 18\n",
      "processing year: 19\n"
     ]
    }
   ],
   "source": [
    "incidence3 = runParameters(linear=5.64485841e-05, quadratic=9.33371239e-05)"
   ]
  },
  {
   "cell_type": "code",
   "execution_count": 15,
   "metadata": {},
   "outputs": [
    {
     "data": {
      "text/plain": [
       "<matplotlib.legend.Legend at 0x7fcb04a4cad0>"
      ]
     },
     "execution_count": 15,
     "metadata": {},
     "output_type": "execute_result"
    },
    {
     "data": {
      "image/png": "[encoded data removed]",
      "text/plain": [
       "<Figure size 432x288 with 1 Axes>"
      ]
     },
     "metadata": {
      "needs_background": "light"
     },
     "output_type": "display_data"
    }
   ],
   "source": [
    "incidence1 = incidence1[:90]\n",
    "incidence2 = incidence2[:90]\n",
    "incidence3 = incidence3[:90]\n",
    "\n",
    "\n",
    "plt.plot(incidence1.index, incidence1.values, label=\"baseline\")\n",
    "plt.plot(incidence2.index, incidence2.values, label=\"higher quadratic\")\n",
    "plt.plot(incidence3.index, incidence3.values, label=\"much higher quadratic\")\n",
    "\n",
    "predIncidence = .084*np.exp(0.142 * (incidence1.index-60))\n",
    "plt.plot(incidence1.index, predIncidence/100, label=\"brookmeyer\")\n",
    "plt.legend()\n"
   ]
  },
  {
   "cell_type": "code",
   "execution_count": 52,
   "metadata": {},
   "outputs": [],
   "source": [
    "mses.sort()"
   ]
  },
  {
   "cell_type": "code",
   "execution_count": 53,
   "metadata": {},
   "outputs": [
    {
     "data": {
      "text/plain": [
       "[137.20627825504437,\n",
       " 137.5623107348465,\n",
       " 137.597698649203,\n",
       " 137.65967929497123,\n",
       " 137.89170343159768,\n",
       " 137.91562362081922,\n",
       " 137.9663803874884,\n",
       " 138.0296371443565,\n",
       " 138.06954381974123,\n",
       " 138.0860490870654,\n",
       " 138.2501966336064,\n",
       " 138.28208248613345,\n",
       " 138.32364080110654,\n",
       " 138.3309783773932,\n",
       " 138.332657424833,\n",
       " 138.34092349489322,\n",
       " 138.43773337394794,\n",
       " 138.56691916534848,\n",
       " 138.6234197220618,\n",
       " 138.6258759887648,\n",
       " 138.64331859274336,\n",
       " 138.6537532044951,\n",
       " 138.69000712840534,\n",
       " 138.9315448619389,\n",
       " 138.98707960200866]"
      ]
     },
     "execution_count": 53,
     "metadata": {},
     "output_type": "execute_result"
    }
   ],
   "source": [
    "mses"
   ]
  },
  {
   "cell_type": "code",
   "execution_count": 30,
   "metadata": {},
   "outputs": [
    {
     "data": {
      "text/plain": [
       "count     25.000000\n",
       "mean     138.240201\n",
       "std        0.443758\n",
       "min      137.206278\n",
       "25%      137.966380\n",
       "50%      138.323641\n",
       "75%      138.623420\n",
       "max      138.987080\n",
       "dtype: float64"
      ]
     },
     "execution_count": 30,
     "metadata": {},
     "output_type": "execute_result"
    }
   ],
   "source": [
    "mses = [result[1] for result in results]\n",
    "pd.Series(mses).describe()"
   ]
  },
  {
   "cell_type": "code",
   "execution_count": null,
   "metadata": {},
   "outputs": [],
   "source": []
  },
  {
   "cell_type": "code",
   "execution_count": 7,
   "metadata": {},
   "outputs": [
    {
     "data": {
      "text/plain": [
       "<matplotlib.legend.Legend at 0x7f8702f04d50>"
      ]
     },
     "execution_count": 7,
     "metadata": {},
     "output_type": "execute_result"
    },
    {
     "data": {
      "image/png": "[encoded data removed]",
      "text/plain": [
       "<Figure size 432x288 with 1 Axes>"
      ]
     },
     "metadata": {
      "needs_background": "light"
     },
     "output_type": "display_data"
    }
   ],
   "source": [
    "plt.plot(test1.index, test1.values, label=\"baseline\")\n",
    "plt.plot(test2.index, test2.values, label=\"higher quadratic\")\n",
    "plt.plot(test3.index, test3.values, label=\"much higher quadratic\")\n",
    "\n",
    "plt.legend()"
   ]
  },
  {
   "cell_type": "code",
   "execution_count": 18,
   "metadata": {},
   "outputs": [
    {
     "data": {
      "text/plain": [
       "137.36207804428355"
      ]
     },
     "execution_count": 18,
     "metadata": {},
     "output_type": "execute_result"
    }
   ],
   "source": [
    "((incidence1-predIncidence)**2).sum()"
   ]
  },
  {
   "cell_type": "code",
   "execution_count": 19,
   "metadata": {},
   "outputs": [
    {
     "data": {
      "text/plain": [
       "137.66293034922236"
      ]
     },
     "execution_count": 19,
     "metadata": {},
     "output_type": "execute_result"
    }
   ],
   "source": [
    "((incidence2-predIncidence)**2).sum()"
   ]
  },
  {
   "cell_type": "code",
   "execution_count": 20,
   "metadata": {},
   "outputs": [
    {
     "data": {
      "text/plain": [
       "138.45013764204063"
      ]
     },
     "execution_count": 20,
     "metadata": {},
     "output_type": "execute_result"
    }
   ],
   "source": [
    "((incidence3-predIncidence)**2).sum()"
   ]
  },
  {
   "cell_type": "code",
   "execution_count": null,
   "metadata": {},
   "outputs": [],
   "source": [
    "# first, just try some slight variations on our baseline model...\n",
    "# then, see if we can run this through scipy optimize...\n",
    "\n",
    "\n",
    "https://docs.scipy.org/doc/scipy/reference/generated/scipy.optimize.minimize.html"
   ]
  }
 ],
 "metadata": {
  "kernelspec": {
   "display_name": "Python 3",
   "language": "python",
   "name": "python3"
  },
  "language_info": {
   "codemirror_mode": {
    "name": "ipython",
    "version": 3
   },
   "file_extension": ".py",
   "mimetype": "text/x-python",
   "name": "python",
   "nbconvert_exporter": "python",
   "pygments_lexer": "ipython3",
   "version": "3.7.4"
  }
 },
 "nbformat": 4,
 "nbformat_minor": 4
}
