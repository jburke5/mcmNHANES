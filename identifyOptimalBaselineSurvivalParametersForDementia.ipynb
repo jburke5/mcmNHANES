{
 "cells": [
  {
   "cell_type": "code",
   "execution_count": 1,
   "metadata": {},
   "outputs": [
    {
     "name": "stderr",
     "output_type": "stream",
     "text": [
      "/Users/burke/opt/anaconda3/lib/python3.7/site-packages/statsmodels/tools/_testing.py:19: FutureWarning: pandas.util.testing is deprecated. Use the functions in the public API at pandas.testing instead.\n",
      "  import pandas.util.testing as tm\n"
     ]
    }
   ],
   "source": [
    "%load_ext autoreload\n",
    "%autoreload 2\n",
    "%matplotlib inline\n",
    "\n",
    "import os\n",
    "import matplotlib.pyplot as plt\n",
    "os.chdir(\"/Users/burke/Documents/research/bpCog/microsim\")\n",
    "from microsim.population import NHANESDirectSamplePopulation\n",
    "from microsim.dementia_model import DementiaModel\n",
    "from microsim.outcome import OutcomeType\n",
    "from microsim.outcome_model_type import OutcomeModelType\n",
    "from microsim.person import Person\n",
    "from microsim.education import Education\n",
    "from microsim.outcome_model_repository import OutcomeModelRepository\n",
    "\n",
    "import pandas as pd\n",
    "import numpy as np\n",
    "\n",
    "import multiprocessing as mp\n",
    "#mp.set_start_method('forkserver')"
   ]
  },
  {
   "cell_type": "markdown",
   "metadata": {},
   "source": [
    "### compare our baseline to brookmeyer"
   ]
  },
  {
   "cell_type": "code",
   "execution_count": null,
   "metadata": {},
   "outputs": [],
   "source": [
    "pop = NHANESDirectSamplePopulation(50000, 1999)\n",
    "pop.advance_multi_process(20)"
   ]
  },
  {
   "cell_type": "code",
   "execution_count": null,
   "metadata": {},
   "outputs": [],
   "source": [
    "simIncidence = pop.get_raw_incidence_by_age(OutcomeModelType.DEMENTIA)\n",
    "simIncidenceTrunc = simIncidence.loc[(simIncidence.index >=20) & (simIncidence.index < 90)]\n",
    "predIncidence = .084*np.exp(0.142 * (simIncidenceTrunc.index-60))/100"
   ]
  },
  {
   "cell_type": "code",
   "execution_count": null,
   "metadata": {},
   "outputs": [],
   "source": [
    "\n",
    "plt.plot(range(20,90), simIncidenceTrunc, label=\"simulation\")\n",
    "plt.plot(range(20,90), predIncidence.values, label=\"comparison standard\")\n",
    "plt.legend()"
   ]
  },
  {
   "cell_type": "markdown",
   "metadata": {},
   "source": [
    "### upshot...without recalibration, we're badly overpredicting."
   ]
  },
  {
   "cell_type": "markdown",
   "metadata": {},
   "source": [
    "### Below is code to try and fit the parametres on the whole model (this has previously been done for "
   ]
  },
  {
   "cell_type": "code",
   "execution_count": 2,
   "metadata": {},
   "outputs": [],
   "source": [
    "def runParameters(linearMutiplier, quadraticMultiplier, popSize=40000):\n",
    "    # get dataframe on dementia indidcne\n",
    "    # calculate incidence by age \n",
    "    demModel = DementiaModel()\n",
    "    demModel.one_year_linear_cumulative_hazard =  demModel.one_year_linear_cumulative_hazard * linearMutiplier\n",
    "    demModel.one_year_quad_cumulative_hazard =  demModel.one_year_quad_cumulative_hazard * quadraticMultiplier\n",
    "\n",
    "\n",
    "    print(f\"lienar multiplier: {linearMutiplier}, linaer haz {demModel.one_year_linear_cumulative_hazard}, quad multiplier: {quadraticMultiplier}, quad hazard: {demModel.one_year_quad_cumulative_hazard}\")\n",
    "    pop = NHANESDirectSamplePopulation(n=popSize, year=1999)\n",
    "    pop._outcome_model_repository._models[OutcomeModelType.DEMENTIA] = demModel\n",
    "    pop.advance_multi_process(20)\n",
    "    \n",
    "    incidence = pop.get_raw_incidence_by_age(OutcomeType.DEMENTIA)\n",
    "    incidence = incidence.loc[(incidence.index >=60) & (incidence.index < 90)]\n",
    "\n",
    "    predIncidence = pd.Series(index=incidence.index, data=(.084*np.exp(0.142 * (incidence.index-60))/100))\n",
    "    \n",
    "    # compare to brookmeu    \n",
    "    mse = ((incidence-predIncidence)**2).mean()\n",
    "\n",
    "    return (incidence, mse, linearMutiplier, quadraticMultiplier)"
   ]
  },
  {
   "cell_type": "code",
   "execution_count": 3,
   "metadata": {},
   "outputs": [
    {
     "name": "stdout",
     "output_type": "stream",
     "text": [
      "COUNT: 0\n",
      "lienar multiplier: 0.1, linaer haz 1.33371239e-06, quad multiplier: 0.01, quad hazard: 5.64485841e-07\n",
      "processing year: 0\n",
      "processing year: 1\n",
      "processing year: 2\n",
      "processing year: 3\n",
      "processing year: 4\n",
      "processing year: 5\n",
      "processing year: 6\n",
      "processing year: 7\n",
      "processing year: 8\n",
      "processing year: 9\n",
      "processing year: 10\n",
      "processing year: 11\n",
      "processing year: 12\n",
      "processing year: 13\n",
      "processing year: 14\n",
      "processing year: 15\n",
      "processing year: 16\n",
      "processing year: 17\n",
      "processing year: 18\n",
      "processing year: 19\n",
      "COUNT: 1\n",
      "lienar multiplier: 0.1, linaer haz 1.33371239e-06, quad multiplier: 0.05, quad hazard: 2.8224292050000002e-06\n",
      "processing year: 0\n",
      "processing year: 1\n",
      "processing year: 2\n",
      "processing year: 3\n",
      "processing year: 4\n",
      "processing year: 5\n",
      "processing year: 6\n",
      "processing year: 7\n",
      "processing year: 8\n",
      "processing year: 9\n",
      "processing year: 10\n",
      "processing year: 11\n",
      "processing year: 12\n",
      "processing year: 13\n",
      "processing year: 14\n",
      "processing year: 15\n",
      "processing year: 16\n",
      "processing year: 17\n",
      "processing year: 18\n",
      "processing year: 19\n",
      "COUNT: 2\n",
      "lienar multiplier: 0.1, linaer haz 1.33371239e-06, quad multiplier: 0.1, quad hazard: 5.6448584100000005e-06\n",
      "processing year: 0\n",
      "processing year: 1\n",
      "processing year: 2\n",
      "processing year: 3\n",
      "processing year: 4\n",
      "processing year: 5\n",
      "processing year: 6\n",
      "processing year: 7\n",
      "processing year: 8\n",
      "processing year: 9\n",
      "processing year: 10\n",
      "processing year: 11\n",
      "processing year: 12\n",
      "processing year: 13\n",
      "processing year: 14\n",
      "processing year: 15\n",
      "processing year: 16\n",
      "processing year: 17\n",
      "processing year: 18\n",
      "processing year: 19\n",
      "COUNT: 3\n",
      "lienar multiplier: 0.5, linaer haz 6.66856195e-06, quad multiplier: 0.01, quad hazard: 5.64485841e-07\n",
      "processing year: 0\n",
      "processing year: 1\n",
      "processing year: 2\n",
      "processing year: 3\n",
      "processing year: 4\n",
      "processing year: 5\n",
      "processing year: 6\n",
      "processing year: 7\n",
      "processing year: 8\n",
      "processing year: 9\n",
      "processing year: 10\n",
      "processing year: 11\n",
      "processing year: 12\n",
      "processing year: 13\n",
      "processing year: 14\n",
      "processing year: 15\n",
      "processing year: 16\n",
      "processing year: 17\n",
      "processing year: 18\n",
      "processing year: 19\n",
      "COUNT: 4\n",
      "lienar multiplier: 0.5, linaer haz 6.66856195e-06, quad multiplier: 0.05, quad hazard: 2.8224292050000002e-06\n",
      "processing year: 0\n",
      "processing year: 1\n",
      "processing year: 2\n",
      "processing year: 3\n",
      "processing year: 4\n",
      "processing year: 5\n",
      "processing year: 6\n",
      "processing year: 7\n",
      "processing year: 8\n",
      "processing year: 9\n",
      "processing year: 10\n",
      "processing year: 11\n",
      "processing year: 12\n",
      "processing year: 13\n",
      "processing year: 14\n",
      "processing year: 15\n",
      "processing year: 16\n",
      "processing year: 17\n",
      "processing year: 18\n",
      "processing year: 19\n",
      "COUNT: 5\n",
      "lienar multiplier: 0.5, linaer haz 6.66856195e-06, quad multiplier: 0.1, quad hazard: 5.6448584100000005e-06\n",
      "processing year: 0\n",
      "processing year: 1\n",
      "processing year: 2\n",
      "processing year: 3\n",
      "processing year: 4\n",
      "processing year: 5\n",
      "processing year: 6\n",
      "processing year: 7\n",
      "processing year: 8\n",
      "processing year: 9\n",
      "processing year: 10\n",
      "processing year: 11\n",
      "processing year: 12\n",
      "processing year: 13\n",
      "processing year: 14\n",
      "processing year: 15\n",
      "processing year: 16\n",
      "processing year: 17\n",
      "processing year: 18\n",
      "processing year: 19\n",
      "COUNT: 6\n",
      "lienar multiplier: 0.9, linaer haz 1.200341151e-05, quad multiplier: 0.01, quad hazard: 5.64485841e-07\n",
      "processing year: 0\n",
      "processing year: 1\n",
      "processing year: 2\n",
      "processing year: 3\n",
      "processing year: 4\n",
      "processing year: 5\n",
      "processing year: 6\n",
      "processing year: 7\n",
      "processing year: 8\n",
      "processing year: 9\n",
      "processing year: 10\n",
      "processing year: 11\n",
      "processing year: 12\n",
      "processing year: 13\n",
      "processing year: 14\n",
      "processing year: 15\n",
      "processing year: 16\n",
      "processing year: 17\n",
      "processing year: 18\n",
      "processing year: 19\n",
      "COUNT: 7\n",
      "lienar multiplier: 0.9, linaer haz 1.200341151e-05, quad multiplier: 0.05, quad hazard: 2.8224292050000002e-06\n",
      "processing year: 0\n",
      "processing year: 1\n",
      "processing year: 2\n",
      "processing year: 3\n",
      "processing year: 4\n",
      "processing year: 5\n",
      "processing year: 6\n",
      "processing year: 7\n",
      "processing year: 8\n",
      "processing year: 9\n",
      "processing year: 10\n",
      "processing year: 11\n",
      "processing year: 12\n",
      "processing year: 13\n",
      "processing year: 14\n",
      "processing year: 15\n",
      "processing year: 16\n",
      "processing year: 17\n",
      "processing year: 18\n",
      "processing year: 19\n",
      "COUNT: 8\n",
      "lienar multiplier: 0.9, linaer haz 1.200341151e-05, quad multiplier: 0.1, quad hazard: 5.6448584100000005e-06\n",
      "processing year: 0\n",
      "processing year: 1\n",
      "processing year: 2\n",
      "processing year: 3\n",
      "processing year: 4\n",
      "processing year: 5\n",
      "processing year: 6\n",
      "processing year: 7\n",
      "processing year: 8\n",
      "processing year: 9\n",
      "processing year: 10\n",
      "processing year: 11\n",
      "processing year: 12\n",
      "processing year: 13\n",
      "processing year: 14\n",
      "processing year: 15\n",
      "processing year: 16\n",
      "processing year: 17\n",
      "processing year: 18\n",
      "processing year: 19\n"
     ]
    }
   ],
   "source": [
    "linearMultipliers = [0.1, 0.5, 0.9]\n",
    "quadMultipliers = [0.01, 0.05, 0.1]\n",
    "\n",
    "\n",
    "results = []\n",
    "count = 0\n",
    "\n",
    "for lin in linearMultipliers:\n",
    "    for quad in quadMultipliers:\n",
    "        print(f\"COUNT: {count}\")\n",
    "        results.append(runParameters(lin, quad, 30000))\n",
    "        count += 1\n",
    "saveResultsToNotOverwrite = results"
   ]
  },
  {
   "cell_type": "code",
   "execution_count": 6,
   "metadata": {},
   "outputs": [],
   "source": [
    "resultsDF = pd.DataFrame({'mse' : [result[1] for result in results], \n",
    "                          'lin' : [result[2] for result in results],\n",
    "                         'quad' : [result[3] for result in results]})\n",
    "resultsDF.sort_values('mse', inplace=True)"
   ]
  },
  {
   "cell_type": "code",
   "execution_count": null,
   "metadata": {},
   "outputs": [],
   "source": [
    "import pickle\n",
    "with open( \"resultsFromParameterRunQuad.p\", \"wb\") as pickleFile:\n",
    "    pickle.dump( saveResultsToNotOverwrite,  pickleFile )"
   ]
  },
  {
   "cell_type": "code",
   "execution_count": 7,
   "metadata": {},
   "outputs": [
    {
     "data": {
      "text/html": [
       "<div>\n",
       "<style scoped>\n",
       "    .dataframe tbody tr th:only-of-type {\n",
       "        vertical-align: middle;\n",
       "    }\n",
       "\n",
       "    .dataframe tbody tr th {\n",
       "        vertical-align: top;\n",
       "    }\n",
       "\n",
       "    .dataframe thead th {\n",
       "        text-align: right;\n",
       "    }\n",
       "</style>\n",
       "<table border=\"1\" class=\"dataframe\">\n",
       "  <thead>\n",
       "    <tr style=\"text-align: right;\">\n",
       "      <th></th>\n",
       "      <th>mse</th>\n",
       "      <th>lin</th>\n",
       "      <th>quad</th>\n",
       "    </tr>\n",
       "  </thead>\n",
       "  <tbody>\n",
       "    <tr>\n",
       "      <th>1</th>\n",
       "      <td>0.000008</td>\n",
       "      <td>0.1</td>\n",
       "      <td>0.05</td>\n",
       "    </tr>\n",
       "    <tr>\n",
       "      <th>7</th>\n",
       "      <td>0.000012</td>\n",
       "      <td>0.9</td>\n",
       "      <td>0.05</td>\n",
       "    </tr>\n",
       "    <tr>\n",
       "      <th>4</th>\n",
       "      <td>0.000016</td>\n",
       "      <td>0.5</td>\n",
       "      <td>0.05</td>\n",
       "    </tr>\n",
       "    <tr>\n",
       "      <th>6</th>\n",
       "      <td>0.000095</td>\n",
       "      <td>0.9</td>\n",
       "      <td>0.01</td>\n",
       "    </tr>\n",
       "    <tr>\n",
       "      <th>2</th>\n",
       "      <td>0.000161</td>\n",
       "      <td>0.1</td>\n",
       "      <td>0.10</td>\n",
       "    </tr>\n",
       "    <tr>\n",
       "      <th>3</th>\n",
       "      <td>0.000163</td>\n",
       "      <td>0.5</td>\n",
       "      <td>0.01</td>\n",
       "    </tr>\n",
       "    <tr>\n",
       "      <th>5</th>\n",
       "      <td>0.000178</td>\n",
       "      <td>0.5</td>\n",
       "      <td>0.10</td>\n",
       "    </tr>\n",
       "    <tr>\n",
       "      <th>8</th>\n",
       "      <td>0.000185</td>\n",
       "      <td>0.9</td>\n",
       "      <td>0.10</td>\n",
       "    </tr>\n",
       "    <tr>\n",
       "      <th>0</th>\n",
       "      <td>0.000201</td>\n",
       "      <td>0.1</td>\n",
       "      <td>0.01</td>\n",
       "    </tr>\n",
       "  </tbody>\n",
       "</table>\n",
       "</div>"
      ],
      "text/plain": [
       "        mse  lin  quad\n",
       "1  0.000008  0.1  0.05\n",
       "7  0.000012  0.9  0.05\n",
       "4  0.000016  0.5  0.05\n",
       "6  0.000095  0.9  0.01\n",
       "2  0.000161  0.1  0.10\n",
       "3  0.000163  0.5  0.01\n",
       "5  0.000178  0.5  0.10\n",
       "8  0.000185  0.9  0.10\n",
       "0  0.000201  0.1  0.01"
      ]
     },
     "execution_count": 7,
     "metadata": {},
     "output_type": "execute_result"
    }
   ],
   "source": [
    "resultsDF"
   ]
  },
  {
   "cell_type": "code",
   "execution_count": 8,
   "metadata": {},
   "outputs": [
    {
     "data": {
      "text/plain": [
       "<matplotlib.collections.PathCollection at 0x7fb42130a690>"
      ]
     },
     "execution_count": 8,
     "metadata": {},
     "output_type": "execute_result"
    },
    {
     "data": {
      "image/png": "[encoded data removed]",
      "text/plain": [
       "<Figure size 432x288 with 1 Axes>"
      ]
     },
     "metadata": {
      "needs_background": "light"
     },
     "output_type": "display_data"
    }
   ],
   "source": [
    "plt.scatter(resultsDF.lin, resultsDF.mse)"
   ]
  },
  {
   "cell_type": "code",
   "execution_count": 9,
   "metadata": {},
   "outputs": [
    {
     "data": {
      "text/plain": [
       "<matplotlib.collections.PathCollection at 0x7fb40bcb0690>"
      ]
     },
     "execution_count": 9,
     "metadata": {},
     "output_type": "execute_result"
    },
    {
     "data": {
      "image/png": "[encoded data removed]",
      "text/plain": [
       "<Figure size 432x288 with 1 Axes>"
      ]
     },
     "metadata": {
      "needs_background": "light"
     },
     "output_type": "display_data"
    }
   ],
   "source": [
    "plt.scatter(resultsDF.quad, resultsDF.mse)"
   ]
  },
  {
   "cell_type": "code",
   "execution_count": 10,
   "metadata": {},
   "outputs": [
    {
     "data": {
      "text/plain": [
       "<matplotlib.legend.Legend at 0x7fb41a12aa90>"
      ]
     },
     "execution_count": 10,
     "metadata": {},
     "output_type": "execute_result"
    },
    {
     "data": {
      "image/png": "[encoded data removed]",
      "text/plain": [
       "<Figure size 432x288 with 1 Axes>"
      ]
     },
     "metadata": {
      "needs_background": "light"
     },
     "output_type": "display_data"
    }
   ],
   "source": [
    "count = 0\n",
    "for i in resultsDF.iterrows():\n",
    "    if count > 10:\n",
    "        break\n",
    "    index = i[0]\n",
    "    resultsForMult = results[int(index)][0]\n",
    "    predIncidence = .084*np.exp(0.142 * (resultsForMult.index-60))/100\n",
    "    \n",
    "    plt.plot(resultsForMult.index, resultsForMult.values, label=f'{i[1].lin}, {i[1].quad}')\n",
    "    count += 1\n",
    "\n",
    "plt.plot(results[0][0].index, predIncidence, label='comparator')\n",
    "plt.legend()\n"
   ]
  },
  {
   "cell_type": "code",
   "execution_count": null,
   "metadata": {},
   "outputs": [],
   "source": [
    "\n",
    "index = 28\n",
    "print(f\"shape: {resultsDF.iloc[index]['shape']}, scale: {resultsDF.iloc[index]['scale']}\")\n",
    "bestFit = saveResultsToNotOverwrite[resultsDF.iloc[1].name]\n",
    "\n",
    "predIncidence = .084*np.exp(0.142 * (bestFit[0].index-60))/100    \n",
    "plt.plot(bestFit[0].index, bestFit[0].values, label=f'best fit')\n",
    "plt.plot(bestFit[0].index, predIncidence.values, label='predicted')\n",
    "plt.legend()\n"
   ]
  },
  {
   "cell_type": "code",
   "execution_count": 2,
   "metadata": {},
   "outputs": [
    {
     "name": "stdout",
     "output_type": "stream",
     "text": [
      "processing year: 0\n",
      "processing year: 1\n",
      "processing year: 2\n",
      "processing year: 3\n",
      "processing year: 4\n",
      "processing year: 5\n",
      "processing year: 6\n",
      "processing year: 7\n",
      "processing year: 8\n",
      "processing year: 9\n",
      "processing year: 10\n",
      "processing year: 11\n",
      "processing year: 12\n",
      "processing year: 13\n",
      "processing year: 14\n",
      "processing year: 15\n",
      "processing year: 16\n",
      "processing year: 17\n",
      "processing year: 18\n",
      "processing year: 19\n"
     ]
    }
   ],
   "source": [
    "# test best fit...\n",
    "pop = NHANESDirectSamplePopulation(100000, 1999)\n",
    "demModel = DementiaModel()\n",
    "demModel.one_year_linear_cumulative_hazard =  demModel.one_year_linear_cumulative_hazard * 0.5\n",
    "demModel.one_year_quad_cumulative_hazard =  demModel.one_year_quad_cumulative_hazard * 0.05\n",
    "pop._outcome_model_repository._models[OutcomeModelType.DEMENTIA] = demModel\n",
    "\n",
    "pop.advance_multi_process(20)"
   ]
  },
  {
   "cell_type": "code",
   "execution_count": 3,
   "metadata": {},
   "outputs": [],
   "source": [
    "simIncidenceBestFit = pop.get_raw_incidence_by_age(OutcomeModelType.DEMENTIA)\n",
    "predIncidence = .084*np.exp(0.142 * (simIncidenceBestFit.index-60))/100"
   ]
  },
  {
   "cell_type": "code",
   "execution_count": 4,
   "metadata": {},
   "outputs": [
    {
     "data": {
      "text/plain": [
       "<matplotlib.legend.Legend at 0x7f8a12d76e10>"
      ]
     },
     "execution_count": 4,
     "metadata": {},
     "output_type": "execute_result"
    },
    {
     "data": {
      "image/png": "[encoded data removed]",
      "text/plain": [
       "<Figure size 432x288 with 1 Axes>"
      ]
     },
     "metadata": {
      "needs_background": "light"
     },
     "output_type": "display_data"
    }
   ],
   "source": [
    "\n",
    "plt.plot(simIncidenceBestFit.index, simIncidenceBestFit, label=\"simulation\")\n",
    "plt.plot(simIncidenceBestFit.index, predIncidence.values, label=\"comparison standard\")\n",
    "plt.legend()"
   ]
  },
  {
   "cell_type": "code",
   "execution_count": 7,
   "metadata": {},
   "outputs": [
    {
     "data": {
      "text/plain": [
       "<matplotlib.legend.Legend at 0x7f8a78635610>"
      ]
     },
     "execution_count": 7,
     "metadata": {},
     "output_type": "execute_result"
    },
    {
     "data": {
      "image/png": "[encoded data removed]",
      "text/plain": [
       "<Figure size 432x288 with 1 Axes>"
      ]
     },
     "metadata": {
      "needs_background": "light"
     },
     "output_type": "display_data"
    }
   ],
   "source": [
    "simIncidenceBestFitTrunc = simIncidenceBestFit.loc[(simIncidenceBestFit.index > 20) & (simIncidenceBestFit.index <90)]\n",
    "predIncidenceTrunc = .084*np.exp(0.142 * (simIncidenceBestFitTrunc.index-60))/100\n",
    "\n",
    "plt.plot(simIncidenceBestFitTrunc.index, simIncidenceBestFitTrunc, label=\"simulation\")\n",
    "plt.plot(simIncidenceBestFitTrunc.index, predIncidenceTrunc.values, label=\"comparison standard\")\n",
    "plt.legend()"
   ]
  },
  {
   "cell_type": "code",
   "execution_count": 3,
   "metadata": {},
   "outputs": [
    {
     "name": "stdout",
     "output_type": "stream",
     "text": [
      "processing year: 0\n",
      "processing year: 1\n",
      "processing year: 2\n",
      "processing year: 3\n",
      "processing year: 4\n",
      "processing year: 5\n",
      "processing year: 6\n",
      "processing year: 7\n",
      "processing year: 8\n",
      "processing year: 9\n",
      "processing year: 10\n",
      "processing year: 11\n",
      "processing year: 12\n",
      "processing year: 13\n",
      "processing year: 14\n",
      "processing year: 15\n",
      "processing year: 16\n",
      "processing year: 17\n",
      "processing year: 18\n",
      "processing year: 19\n"
     ]
    }
   ],
   "source": [
    "# test best fit...\n",
    "pop = NHANESDirectSamplePopulation(20000, 1999)\n",
    "pop.advance_multi_process(20)"
   ]
  },
  {
   "cell_type": "code",
   "execution_count": 4,
   "metadata": {},
   "outputs": [],
   "source": [
    "simIncidenceBestFit = pop.get_raw_incidence_by_age(OutcomeModelType.DEMENTIA)\n",
    "predIncidence = .084*np.exp(0.142 * (simIncidenceBestFit.index-60))/100"
   ]
  },
  {
   "cell_type": "code",
   "execution_count": 5,
   "metadata": {},
   "outputs": [
    {
     "data": {
      "text/plain": [
       "<matplotlib.legend.Legend at 0x7fcef638af90>"
      ]
     },
     "execution_count": 5,
     "metadata": {},
     "output_type": "execute_result"
    },
    {
     "data": {
      "image/png": "[encoded data removed]",
      "text/plain": [
       "<Figure size 432x288 with 1 Axes>"
      ]
     },
     "metadata": {
      "needs_background": "light"
     },
     "output_type": "display_data"
    }
   ],
   "source": [
    "simIncidenceBestFitTrunc = simIncidenceBestFit.loc[(simIncidenceBestFit.index > 20) & (simIncidenceBestFit.index <90)]\n",
    "predIncidenceTrunc = .084*np.exp(0.142 * (simIncidenceBestFitTrunc.index-60))/100\n",
    "\n",
    "plt.plot(simIncidenceBestFitTrunc.index, simIncidenceBestFitTrunc, label=\"simulation\")\n",
    "plt.plot(simIncidenceBestFitTrunc.index, predIncidenceTrunc.values, label=\"comparison standard\")\n",
    "plt.legend()"
   ]
  },
  {
   "cell_type": "markdown",
   "metadata": {},
   "source": [
    "### the upshot is that we're probably over-predicting by comparison to brookmeyer\n",
    "\n",
    "its not entirely clear what happens over age 80, but given that our risk goes up, it seems likely that we're just running out of candidates to develop dementia — patients have either died or already develepd it (at 5-10% per year from 60-80...poretty much everybody is going to have it by 85!)"
   ]
  },
  {
   "cell_type": "code",
   "execution_count": null,
   "metadata": {},
   "outputs": [],
   "source": []
  },
  {
   "cell_type": "code",
   "execution_count": null,
   "metadata": {},
   "outputs": [],
   "source": []
  },
  {
   "cell_type": "code",
   "execution_count": null,
   "metadata": {},
   "outputs": [],
   "source": []
  },
  {
   "cell_type": "markdown",
   "metadata": {},
   "source": [
    "### here is a trial to get shape/scale parameters to fit directly without accounting for the whole simluation nonense"
   ]
  },
  {
   "cell_type": "code",
   "execution_count": null,
   "metadata": {},
   "outputs": [],
   "source": [
    "demModel = DementiaModel()\n",
    "unadvancedPopulation = NHANESDirectSamplePopulation(n=1000000, year=1999)\n",
    "linPredsForBaseAge = {person._age[0] : demModel.linear_predictor(person) for i,person in unadvancedPopulation._people.iteritems()}"
   ]
  },
  {
   "cell_type": "code",
   "execution_count": null,
   "metadata": {},
   "outputs": [],
   "source": [
    "scaleMultipliers = np.arange(0.01, 5, 0.05)\n",
    "shapeMultipliers = np.arange(0.01, 5, 0.05)\n",
    "\n",
    "ageRange = range(20, 100)\n",
    "timeRange = range(0, 30)\n",
    "predIncidence = .084*np.exp(0.142 * (pd.Series(ageRange)-60))/100"
   ]
  },
  {
   "cell_type": "code",
   "execution_count": null,
   "metadata": {},
   "outputs": [],
   "source": [
    "directResults = []\n",
    "\n",
    "def addCumulativeHazardForAge(timeRange, shape, scale, age, linPred, cumulativeHazardForAge):\n",
    "    for time in timeRange:\n",
    "        demModel = DementiaModel()\n",
    "        demModel.shapeParameter = demModel.shapeParameter * shape\n",
    "        demModel.scalingFactor = demModel.scalingFactor * scale\n",
    "        cumulativeHazardForAge[baseAge + time] = demModel.get_cumulative_hazard_for_lp(linPred, time)\n",
    "\n",
    "\n",
    "for scale in scaleMultipliers:\n",
    "    for shape in shapeMultipliers:\n",
    "        cumulativeHazardForAge = {age : [] for age in ageRange}\n",
    "        for baseAge, linPred in linPredsForBaseAge.items():\n",
    "            addCumulativeHazardForAge(ageRange, shape, scale, baseAge, linPred, cumulativeHazardForAge)\n",
    "        cumHaz = pd.Series(index=cumulativeHazardForAge.keys(), data=[pd.Series(risks).mean() for _, risks in cumulativeHazardForAge.items()])\n",
    "        predIncidence = pd.Series(index=cumHaz.index, data=.084*np.exp(0.142 * (cumHaz.index-60))/100)\n",
    "        \n",
    "        mse = ((pd.Series(cumHaz[60:90])- pd.Series(predIncidence[60:90]))**2).mean()\n",
    "        directResults.append((scale, shape, mse, cumulativeHazardForAge))\n",
    "            \n",
    "            "
   ]
  },
  {
   "cell_type": "code",
   "execution_count": null,
   "metadata": {},
   "outputs": [],
   "source": [
    "directResultsDF = pd.DataFrame({'scale' : [result[0] for result in directResults], \n",
    "                         'shape' : [result[1] for result in directResults],\n",
    "                         'mse' : [result[2] for result in directResults]})\n",
    "\n"
   ]
  },
  {
   "cell_type": "code",
   "execution_count": null,
   "metadata": {},
   "outputs": [],
   "source": [
    "directResultsDF.sort_values('mse', inplace=True)"
   ]
  },
  {
   "cell_type": "code",
   "execution_count": null,
   "metadata": {},
   "outputs": [],
   "source": [
    "directResultsDF"
   ]
  },
  {
   "cell_type": "code",
   "execution_count": null,
   "metadata": {},
   "outputs": [],
   "source": [
    "plt.scatter(directResultsDF.scale, directResultsDF.mse)"
   ]
  },
  {
   "cell_type": "code",
   "execution_count": null,
   "metadata": {},
   "outputs": [],
   "source": [
    "plt.scatter(directResultsDF['shape'], directResultsDF.mse)"
   ]
  },
  {
   "cell_type": "code",
   "execution_count": null,
   "metadata": {},
   "outputs": [],
   "source": [
    "bestFitResults = directResults[2010][3]\n",
    "bestFitCumHaz = pd.Series(index=cumulativeHazardForAge.keys(), data=[pd.Series(risks).mean() for _, risks in bestFitResults.items()])\n",
    "\n",
    "plt.plot(bestFitCumHaz[20:90], label='Best Fit')\n",
    "\n",
    "predIncidence = pd.Series(index=bestFitCumHaz.index, data=.084*np.exp(0.142 * (bestFitCumHaz.index-60))/100)\n",
    "\n",
    "\n",
    "plt.plot(predIncidence[20:90], label='Calibration Standard')\n",
    "plt.legend()"
   ]
  },
  {
   "cell_type": "code",
   "execution_count": null,
   "metadata": {},
   "outputs": [],
   "source": [
    "bestFitResults = directResults[2010][3]\n",
    "bestFitCumHaz = pd.Series(index=cumulativeHazardForAge.keys(), data=[pd.Series(risks).mean() for _, risks in bestFitResults.items()])\n",
    "\n",
    "plt.plot(bestFitCumHaz[20:94], label='Best Fit')\n",
    "\n",
    "predIncidence = pd.Series(index=bestFitCumHaz.index, data=.084*np.exp(0.142 * (bestFitCumHaz.index-60))/100)\n",
    "\n",
    "\n",
    "plt.plot(predIncidence[20:94], label='Calibration Standard')\n",
    "plt.legend()"
   ]
  },
  {
   "cell_type": "code",
   "execution_count": null,
   "metadata": {},
   "outputs": [],
   "source": [
    "bestFitCumHaz[70:80]"
   ]
  },
  {
   "cell_type": "code",
   "execution_count": null,
   "metadata": {},
   "outputs": [],
   "source": []
  },
  {
   "cell_type": "markdown",
   "metadata": {},
   "source": [
    "### so, we can get a decnert model...the problem is that when i plugged it into the simluation it still wildly over predi ted"
   ]
  },
  {
   "cell_type": "code",
   "execution_count": null,
   "metadata": {},
   "outputs": [],
   "source": [
    "recalPop = NHANESDirectSamplePopulation(50000, 1999)\n",
    "bestDemModel = DementiaModel()\n",
    "# best fit scale = 0.91, shape = 0.61\n",
    "bestDemModel.shapeParameter = bestDemModel.shapeParameter * 0.61\n",
    "bestDemModel.scalingFactor = bestDemModel.scalingFactor * 0.91\n",
    "\n",
    "recalPop._outcome_model_repository._models[OutcomeModelType.DEMENTIA] = bestDemModel\n",
    "\n",
    "recalPop.advance_multi_process(20)"
   ]
  },
  {
   "cell_type": "code",
   "execution_count": null,
   "metadata": {},
   "outputs": [],
   "source": [
    "bestSimIncidence = recalPop.get_raw_incidence_by_age(OutcomeModelType.DEMENTIA)\n",
    "bestSimIncidence = bestSimIncidence.loc[(bestSimIncidence.index >=20) & (bestSimIncidence.index < 90)]\n",
    "bestPredIncidence = pd.Series(index=bestSimIncidence.index, data=.084*np.exp(0.142 * (bestSimIncidence.index-60))/100)"
   ]
  },
  {
   "cell_type": "code",
   "execution_count": null,
   "metadata": {},
   "outputs": [],
   "source": [
    "plt.plot(bestSimIncidence , label=\"simulation\")\n",
    "plt.plot(bestPredIncidence, label=\"comparison standard\")\n",
    "plt.legend()"
   ]
  },
  {
   "cell_type": "code",
   "execution_count": null,
   "metadata": {},
   "outputs": [],
   "source": []
  },
  {
   "cell_type": "code",
   "execution_count": null,
   "metadata": {},
   "outputs": [],
   "source": []
  },
  {
   "cell_type": "code",
   "execution_count": null,
   "metadata": {},
   "outputs": [],
   "source": []
  },
  {
   "cell_type": "code",
   "execution_count": null,
   "metadata": {},
   "outputs": [],
   "source": [
    "pd.Series(mses).idxmax()"
   ]
  },
  {
   "cell_type": "code",
   "execution_count": null,
   "metadata": {},
   "outputs": [],
   "source": [
    "pd.Series(mses).describe()"
   ]
  },
  {
   "cell_type": "markdown",
   "metadata": {},
   "source": [
    "### Playing with gompertz parameters"
   ]
  },
  {
   "cell_type": "code",
   "execution_count": null,
   "metadata": {},
   "outputs": [],
   "source": [
    "shapeMultipliers = [0.01, 0.10, 0.25, 0.50, 1.0]\n",
    "\n",
    "risksForMult = {}\n",
    "\n",
    "for mult in shapeMultipliers:\n",
    "    demModel = DementiaModel()\n",
    "    #demModel.shapeParameter = demModel.shapeParameter * mult\n",
    "    demModel.scalingFactor = demModel.scalingFactor * mult\n",
    "    risks = []\n",
    "    myDude = getDude()\n",
    "    for year in range(0, 30):\n",
    "        myDude._age.append(myDude._age[-1]+1)\n",
    "        risks.append(demModel.get_risk_for_person(myDude, 1))\n",
    "    risksForMult[mult] = risks"
   ]
  },
  {
   "cell_type": "code",
   "execution_count": null,
   "metadata": {},
   "outputs": [],
   "source": [
    "for mult in risksForMult.keys():\n",
    "    plt.plot(range(0, 30), risksForMult[mult][0:30], label=f\"{mult}\")\n",
    "plt.legend()"
   ]
  },
  {
   "cell_type": "markdown",
   "metadata": {},
   "source": [
    "### Scale does what it sounds like it should do..."
   ]
  },
  {
   "cell_type": "code",
   "execution_count": null,
   "metadata": {},
   "outputs": [],
   "source": [
    "shapeMultipliers = [0.01, 0.10, 0.25, 0.50, 0.75, 0.85, 1.0]\n",
    "\n",
    "risksForMult = {}\n",
    "\n",
    "for mult in shapeMultipliers:\n",
    "    demModel = DementiaModel()\n",
    "    demModel.shapeParameter = demModel.shapeParameter * mult\n",
    "    risks = []\n",
    "    myDude = getDude()\n",
    "    for year in range(0, 30):\n",
    "        myDude._age.append(myDude._age[-1]+1)\n",
    "        risks.append(demModel.get_risk_for_person(myDude, 1))\n",
    "    risksForMult[mult] = risks"
   ]
  },
  {
   "cell_type": "code",
   "execution_count": null,
   "metadata": {},
   "outputs": [],
   "source": [
    "for mult in risksForMult.keys():\n",
    "    plt.plot(range(0, 30), risksForMult[mult][0:30], label=f\"{mult}\")\n",
    "plt.legend()"
   ]
  },
  {
   "cell_type": "markdown",
   "metadata": {},
   "source": [
    "### shape mostly contorls where the inflectio point occurs\n",
    "\n"
   ]
  },
  {
   "cell_type": "markdown",
   "metadata": {},
   "source": [
    "# This is legacy code that was tryign to recalibrate relative to the quadratic model\n",
    "\n",
    "### OK...here is the state of affairs...\n",
    "\n",
    "it looks like i can get a simple strategy to fit the MSES...but, it probably requires a large population to be able to get the fit — random low event rates are otherwise going to look best.\n",
    "\n",
    "let's try and fit a computationally intensive approach over the weekend and see if we find a good fit.\n",
    "\n",
    "if so...great...\n",
    "\n",
    "if not...then, the idea would be to run a SINGLE large population to get the linear predictors and then swap out the hazard functions...and do a more reliable change of the hazard function only to see how it fits. analytically, that woudl clearly be better...but, its a lot more coding work and a potential source of bugs. "
   ]
  },
  {
   "cell_type": "code",
   "execution_count": null,
   "metadata": {},
   "outputs": [],
   "source": [
    "test[0]"
   ]
  },
  {
   "cell_type": "code",
   "execution_count": null,
   "metadata": {},
   "outputs": [],
   "source": [
    "test = runParameters(5.64485841e-05, 9.33371239e-05, 500)"
   ]
  },
  {
   "cell_type": "code",
   "execution_count": null,
   "metadata": {},
   "outputs": [],
   "source": [
    "predIncidence = .084*np.exp(0.142 * (test[0].index-60))/100\n",
    "explore = pd.DataFrame(test[0])\n",
    "explore['predIncidence'] = predIncidence\n",
    "explore['diff'] = explore[0] - predIncidence\n",
    "explore['diffSquare'] = (explore[0] - predIncidence)**2\n"
   ]
  },
  {
   "cell_type": "code",
   "execution_count": null,
   "metadata": {},
   "outputs": [],
   "source": [
    "explore"
   ]
  },
  {
   "cell_type": "code",
   "execution_count": null,
   "metadata": {},
   "outputs": [],
   "source": [
    "demModel = DementiaModel()\n",
    "pop = NHANESDirectSamplePopulation(n=1000, year=1999)\n",
    "pop._outcome_model_repository._models[OutcomeModelType.DEMENTIA] = demModel\n",
    "pop.advance_multi_process(20)\n",
    "\n",
    "incidence = pop.get_raw_incidence_by_age(OutcomeType.DEMENTIA)"
   ]
  },
  {
   "cell_type": "code",
   "execution_count": null,
   "metadata": {},
   "outputs": [],
   "source": [
    "plt.scatter(incidence.index, incidence.values)\n",
    "predIncidence = .084*np.exp(0.142 * (incidence.index-60))\n",
    "plt.plot(incidence.index, predIncidence/100, label=\"brookmeyer\")"
   ]
  },
  {
   "cell_type": "code",
   "execution_count": null,
   "metadata": {},
   "outputs": [],
   "source": [
    "incidence1 = runParameters(linear=5.64485841e-05, quadratic=1.33371239e-05)"
   ]
  },
  {
   "cell_type": "code",
   "execution_count": null,
   "metadata": {
    "scrolled": true
   },
   "outputs": [],
   "source": [
    "incidence2 = runParameters(linear=5.64485841e-05, quadratic=4.83371239e-05)"
   ]
  },
  {
   "cell_type": "code",
   "execution_count": null,
   "metadata": {},
   "outputs": [],
   "source": [
    "incidence3 = runParameters(linear=5.64485841e-05, quadratic=9.33371239e-05)"
   ]
  },
  {
   "cell_type": "code",
   "execution_count": null,
   "metadata": {},
   "outputs": [],
   "source": [
    "incidence1 = incidence1[:90]\n",
    "incidence2 = incidence2[:90]\n",
    "incidence3 = incidence3[:90]\n",
    "\n",
    "\n",
    "plt.plot(incidence1.index, incidence1.values, label=\"baseline\")\n",
    "plt.plot(incidence2.index, incidence2.values, label=\"higher quadratic\")\n",
    "plt.plot(incidence3.index, incidence3.values, label=\"much higher quadratic\")\n",
    "\n",
    "predIncidence = .084*np.exp(0.142 * (incidence1.index-60))\n",
    "plt.plot(incidence1.index, predIncidence/100, label=\"brookmeyer\")\n",
    "plt.legend()\n"
   ]
  },
  {
   "cell_type": "code",
   "execution_count": null,
   "metadata": {},
   "outputs": [],
   "source": [
    "mses.sort()"
   ]
  },
  {
   "cell_type": "code",
   "execution_count": null,
   "metadata": {},
   "outputs": [],
   "source": [
    "mses"
   ]
  },
  {
   "cell_type": "code",
   "execution_count": null,
   "metadata": {},
   "outputs": [],
   "source": [
    "mses = [result[1] for result in results]\n",
    "pd.Series(mses).describe()"
   ]
  },
  {
   "cell_type": "code",
   "execution_count": null,
   "metadata": {},
   "outputs": [],
   "source": []
  },
  {
   "cell_type": "code",
   "execution_count": null,
   "metadata": {},
   "outputs": [],
   "source": [
    "plt.plot(test1.index, test1.values, label=\"baseline\")\n",
    "plt.plot(test2.index, test2.values, label=\"higher quadratic\")\n",
    "plt.plot(test3.index, test3.values, label=\"much higher quadratic\")\n",
    "\n",
    "plt.legend()"
   ]
  },
  {
   "cell_type": "code",
   "execution_count": null,
   "metadata": {},
   "outputs": [],
   "source": [
    "((incidence1-predIncidence)**2).sum()"
   ]
  },
  {
   "cell_type": "code",
   "execution_count": null,
   "metadata": {},
   "outputs": [],
   "source": [
    "((incidence2-predIncidence)**2).sum()"
   ]
  },
  {
   "cell_type": "code",
   "execution_count": null,
   "metadata": {},
   "outputs": [],
   "source": [
    "((incidence3-predIncidence)**2).sum()"
   ]
  },
  {
   "cell_type": "code",
   "execution_count": null,
   "metadata": {},
   "outputs": [],
   "source": [
    "# first, just try some slight variations on our baseline model...\n",
    "# then, see if we can run this through scipy optimize...\n",
    "\n",
    "\n",
    "https://docs.scipy.org/doc/scipy/reference/generated/scipy.optimize.minimize.html"
   ]
  },
  {
   "cell_type": "markdown",
   "metadata": {},
   "source": [
    "# This was an experiment to see if I could reproduce overall popluaton risks with just the dmeentia + mortality models (to speed up recalibration). Short answer seems to be \"No\"\n",
    "\n",
    "### getting baseline risk from the model for the average patient in our sample"
   ]
  },
  {
   "cell_type": "code",
   "execution_count": null,
   "metadata": {},
   "outputs": [],
   "source": [
    "pop = NHANESDirectSamplePopulation(n=100000, year=1999)"
   ]
  },
  {
   "cell_type": "code",
   "execution_count": null,
   "metadata": {},
   "outputs": [],
   "source": [
    "unadvancedPopulation = NHANESDirectSamplePopulation(n=100000, year=1999)"
   ]
  },
  {
   "cell_type": "code",
   "execution_count": null,
   "metadata": {},
   "outputs": [],
   "source": [
    "# the problem (Likely amongst many...) with this approach is that we have to kill people off still\n",
    "\n",
    "ageRange = range(18, 120)\n",
    "timeRange = range(0, 30)\n",
    "\n",
    "dementiaForAge = {age : [] for age in ageRange}\n",
    "mortalityForAge = {age : [] for age in ageRange}\n",
    "demModel = DementiaModel()\n",
    "modelRepo = OutcomeModelRepository()\n",
    "\n",
    "linPredsAndBaseAge = {person : demModel.linear_predictor(person) for i,person in unadvancedPopulation._people.iteritems()}\n",
    "\n",
    "for time in timeRange:\n",
    "    for person in unadvancedPopulation._people:\n",
    "        linPred = linPredsAndBaseAge[person] \n",
    "        age = person._age[0] + time\n",
    "        cumHazard = demModel.get_cumulative_hazard_for_lp(linPred, time)\n",
    "        dementiaForAge[int(age)].append(cumHazard)\n",
    "        mortalityForAge[age].append(modelRepo.get_risk_for_person(person, OutcomeModelType.NON_CV_MORTALITY))\n",
    "\n"
   ]
  },
  {
   "cell_type": "code",
   "execution_count": null,
   "metadata": {},
   "outputs": [],
   "source": [
    "shortAgeRange = range(20,90)\n",
    "demMinusMortality = [pd.Series(dementiaForAge[age]).mean() - pd.Series(mortalityForAge[age]).mean() for age in ageRange]\n",
    "\n",
    "plt.plot(shortAgeRange, demMinusMortality[20:90], label='incidence after substracting mortalitly')\n",
    "plt.plot(shortAgeRange, predIncidence[20:90], label='pred incidencer')\n",
    "\n",
    "\n"
   ]
  },
  {
   "cell_type": "code",
   "execution_count": null,
   "metadata": {},
   "outputs": [],
   "source": [
    "\n",
    "for person in unadvancedPopulation._people:\n",
    "    mortalityForAge[person._age[-1]]\n",
    "    "
   ]
  },
  {
   "cell_type": "code",
   "execution_count": null,
   "metadata": {},
   "outputs": [],
   "source": [
    "ageMort = [pd.Series(mortalityForAge[age]).mean() for age in ageRange]\n",
    "plt.plot(ageRange, ageMort)\n",
    "\n"
   ]
  },
  {
   "cell_type": "code",
   "execution_count": null,
   "metadata": {
    "scrolled": true
   },
   "outputs": [],
   "source": [
    "pop.advance_multi_process(timeRange.stop)"
   ]
  },
  {
   "cell_type": "code",
   "execution_count": null,
   "metadata": {},
   "outputs": [],
   "source": [
    "simIncidence = pop.get_raw_incidence_by_age(OutcomeType.DEMENTIA)"
   ]
  },
  {
   "cell_type": "code",
   "execution_count": null,
   "metadata": {},
   "outputs": [],
   "source": [
    "predIncidence = [.084*np.exp(0.142 * (age-60))/100 for age in ageRange]"
   ]
  },
  {
   "cell_type": "code",
   "execution_count": null,
   "metadata": {},
   "outputs": [],
   "source": [
    "shortAgeRange = range(20,90)\n",
    "plt.plot(shortAgeRange, [pd.Series(hazardsForAge[age]).mean() for age in ageRange][20:90], label='incidence, no mortality')\n",
    "plt.plot(shortAgeRange, predIncidence[20:90], label='predicted Incidence')\n",
    "# is going to break on this line...need to get this over the correct age range\n",
    "plt.plot(shortAgeRange, simIncidence[20:89], label='simulated Incidence')\n",
    "\n",
    "\n",
    "plt.legend()"
   ]
  },
  {
   "cell_type": "code",
   "execution_count": null,
   "metadata": {
    "scrolled": true
   },
   "outputs": [],
   "source": [
    "plt.plot(shortAgeRange, simIncidence[20:89], label='simulated Incidence')\n",
    "\n"
   ]
  },
  {
   "cell_type": "code",
   "execution_count": null,
   "metadata": {},
   "outputs": [],
   "source": [
    "len(range(20,90))"
   ]
  },
  {
   "cell_type": "code",
   "execution_count": null,
   "metadata": {},
   "outputs": [],
   "source": [
    "# next step will be to build add the overall mortality model (+/- a litlte fudge factor to accoutn for CV mortality\n",
    "# and see if we get closer to the sim resultnedsu)"
   ]
  },
  {
   "cell_type": "code",
   "execution_count": null,
   "metadata": {},
   "outputs": [],
   "source": [
    "simIncidence"
   ]
  },
  {
   "cell_type": "code",
   "execution_count": null,
   "metadata": {},
   "outputs": [],
   "source": [
    "np.trapz(simIncidence[20:84])"
   ]
  },
  {
   "cell_type": "code",
   "execution_count": null,
   "metadata": {},
   "outputs": [],
   "source": [
    "np.trapz(predIncidence[20:85])"
   ]
  },
  {
   "cell_type": "code",
   "execution_count": null,
   "metadata": {},
   "outputs": [],
   "source": [
    "linPredsBackOutAge = [tup[0] - tup[1]._age[-1]* demModel.ageFactor for tup in linPreds]\n",
    "meanLinPredBackOutAge = pd.Series(linPredsBackOutAge).mean()"
   ]
  },
  {
   "cell_type": "code",
   "execution_count": null,
   "metadata": {},
   "outputs": [],
   "source": []
  },
  {
   "cell_type": "code",
   "execution_count": null,
   "metadata": {},
   "outputs": [],
   "source": [
    "ageRange = range(60, 90)\n",
    "cumHazAge = []\n",
    "cumHazTime = []\n",
    "\n",
    "\n",
    "time = 1\n",
    "\n",
    "for age in ageRange:\n",
    "    lpForAge = meanLinPredBackOutAge + age*demModel.ageFactor\n",
    "    cumHazAge.append(demModel.get_cumulative_hazard_for_lp(lpForAge, 1))\n",
    "    cumHazTime.append(demModel.get_cumulative_hazard_for_lp(meanLinPredBackOutAge + ageRange.start*demModel.ageFactor, time))\n",
    "\n",
    "    time += 1\n",
    "    \n",
    "predIncidence = [.084*np.exp(0.142 * (age-60))/100 for age in ageRange]\n",
    "\n",
    "plt.plot(ageRange, cumHazAge, label='baseline model by age')\n",
    "plt.plot(ageRange, cumHazTime, label='baseline model by time')\n",
    "\n",
    "plt.plot(ageRange, predIncidence, label='brookermeyer')\n",
    "plt.legend()"
   ]
  },
  {
   "cell_type": "code",
   "execution_count": null,
   "metadata": {},
   "outputs": [],
   "source": [
    "ageRange.start"
   ]
  }
 ],
 "metadata": {
  "kernelspec": {
   "display_name": "Python 3",
   "language": "python",
   "name": "python3"
  },
  "language_info": {
   "codemirror_mode": {
    "name": "ipython",
    "version": 3
   },
   "file_extension": ".py",
   "mimetype": "text/x-python",
   "name": "python",
   "nbconvert_exporter": "python",
   "pygments_lexer": "ipython3",
   "version": "3.7.4"
  }
 },
 "nbformat": 4,
 "nbformat_minor": 4
}
