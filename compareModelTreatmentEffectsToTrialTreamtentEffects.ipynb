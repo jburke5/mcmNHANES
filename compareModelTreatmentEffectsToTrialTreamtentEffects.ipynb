{
 "cells": [
  {
   "cell_type": "markdown",
   "metadata": {},
   "source": [
    "### Effect size on BP loweing from older data"
   ]
  },
  {
   "cell_type": "code",
   "execution_count": 1,
   "metadata": {},
   "outputs": [
    {
     "name": "stdout",
     "output_type": "stream",
     "text": [
      "average BP lowering: 5.03/2.77\n"
     ]
    }
   ],
   "source": [
    "# BP lowering effect from Turnbull, F., Blood Pressure Lowering Treatment Trialists' Collaboration. (2003). Effects of different blood-pressure-lowering regimens on major cardiovascular events: results of prospectively-designed overviews of randomised trials. Lancet, 362(9395), 1527–1535. http://doi.org/10.1016/S0140-6736(03)14739-3\n",
    "# SBP is a weighted average of the 3 groups = \n",
    "weightedSBPLowering = (18229 * 5 + 7482 * 8 + 20888 * 4) / (18229 + 7482 + 20888)\n",
    "weightedDBPLowering = (18229 * 2 + 7482 * 4 + 20888 * 3) / (18229 + 7482 + 20888)\n",
    "print(f\"average BP lowering: {weightedSBPLowering:.2f}/{weightedDBPLowering:.2f}\")"
   ]
  },
  {
   "cell_type": "markdown",
   "metadata": {},
   "source": [
    "### Summary of effect sizes on BP lowering and their clinical impact from slightly newer data"
   ]
  },
  {
   "cell_type": "code",
   "execution_count": 2,
   "metadata": {},
   "outputs": [
    {
     "name": "stdout",
     "output_type": "stream",
     "text": [
      "average BP lowering: 5.51/3.06\n"
     ]
    }
   ],
   "source": [
    "# Trialists' Collaboration, T. B. P. L. T. (2014). Blood pressure-lowering treatment based on cardiovascular risk: a meta-analysis of individual patient data. The Lancet, 384(9943), 591–598. http://doi.org/10.1016/S0140-6736(14)61212-5\n",
    "weightedSBPLowering = (25236 * 4.4 + 12256 * 6.1 + 8674 * 7.5 + 5751*6.1) / (25236 + 12256 + 8674 + 5751)\n",
    "weightedDBPLowering = (25236 * 3.0 + 12256 * 3.1 + 8674 * 3.5 + 5751*2.6) / (25236 + 12256 + 8674 + 5751)\n",
    "print(f\"average BP lowering: {weightedSBPLowering:.2f}/{weightedDBPLowering:.2f}\")"
   ]
  },
  {
   "cell_type": "code",
   "execution_count": 3,
   "metadata": {},
   "outputs": [
    {
     "name": "stdout",
     "output_type": "stream",
     "text": [
      "weighted stroke RR: 0.79\n",
      "weighted CHD RR: 0.87\n"
     ]
    }
   ],
   "source": [
    "weightedStrokeRR = (25236 * 0.75 + 12256 * 0.83 + 8674 * 0.84 + 5751*0.84) / (25236 + 12256 + 8674 + 5751)\n",
    "print(f\"weighted stroke RR: {weightedStrokeRR:.2f}\")\n",
    "\n",
    "weightedCHDRR = (24755*0.85 + 12596*0.94 + 8817*0.85 + 5876*0.87)/(24755+12596+8817+5876)\n",
    "print(f\"weighted CHD RR: {weightedCHDRR:.2f}\")"
   ]
  },
  {
   "cell_type": "code",
   "execution_count": 4,
   "metadata": {},
   "outputs": [],
   "source": [
    "import os\n",
    "import numpy as np\n",
    "import numpy.random as npRand\n",
    "import pandas as pd\n",
    "import copy\n",
    "from lifelines import CoxPHFitter\n",
    "\n",
    "os.chdir(\"/Users/burke/Documents/research/bpCog/microsim\")\n",
    "from microsim.outcome import OutcomeType\n",
    "from microsim.population import NHANESDirectSamplePopulation\n",
    "from microsim.smoking_status import SmokingStatus\n",
    "from microsim.race_ethnicity import NHANESRaceEthnicity\n",
    "from microsim.outcome_model_type import OutcomeModelType\n",
    "from microsim.bp_treatment_strategies import AddASingleBPMedTreatmentStrategy"
   ]
  },
  {
   "cell_type": "markdown",
   "metadata": {},
   "source": [
    "### Utility methods to filter the population adn add a BP med"
   ]
  },
  {
   "cell_type": "code",
   "execution_count": 5,
   "metadata": {},
   "outputs": [],
   "source": [
    "# crudely filter for possible allhat candidates\n",
    "def ageBPFilter(person):\n",
    "    return person._age[0] > 55 and person._sbp[0] > 140 and person._sbp[0] < 180 and person._dbp[0] > 90 and person._dbp[0] < 110"
   ]
  },
  {
   "cell_type": "markdown",
   "metadata": {},
   "source": [
    "### Setup a baseline population and one where <b>everybody</b> gets an additional BP med"
   ]
  },
  {
   "cell_type": "code",
   "execution_count": 6,
   "metadata": {},
   "outputs": [],
   "source": [
    "def loadAndAdvancePopulation(popSize, numberOfClones, years):\n",
    "    basePop99 =  NHANESDirectSamplePopulation(n=popSize, year=1999, filter=ageBPFilter)\n",
    "    basePop01 =  NHANESDirectSamplePopulation(n=popSize, year=2001, filter=ageBPFilter)\n",
    "    basePop03 = NHANESDirectSamplePopulation(n=popSize, year=2003, filter=ageBPFilter)\n",
    "    basePop99._people = basePop99._people[basePop99._people.notnull()]\n",
    "    basePop01._people = basePop01._people[basePop01._people.notnull()]\n",
    "    basePop03._people = basePop03._people[basePop03._people.notnull()]\n",
    "    \n",
    "    basePop = basePop99\n",
    "    basePop._people = basePop._people.append([basePop01._people,basePop03._people])\n",
    "    \n",
    "    baselinePop = NHANESDirectSamplePopulation(n=popSize, year=2001, filter=ageBPFilter) # start the sim in 2001\n",
    "    popExtraBpMed = NHANESDirectSamplePopulation(n=popSize, year=2001, filter=ageBPFilter) # start the sim in 2001\n",
    "    \n",
    "    clonedPeople = []\n",
    "    for i,person in basePop._people.iteritems():\n",
    "        for copyCount in range (1,numberOfClones):\n",
    "            clonedPeople.append(person.slightly_randomly_modify_baseline_risk_factors(basePop._risk_model_repository))\n",
    "    baselinePop._people = pd.Series(clonedPeople)\n",
    "\n",
    "    clonedPeople2 = []\n",
    "    for i,person in basePop._people.iteritems():\n",
    "        for copyCount in range (1,numberOfClones):\n",
    "            clonedPeople2.append(person.slightly_randomly_modify_baseline_risk_factors(basePop._risk_model_repository))\n",
    "    popExtraBpMed._people = pd.Series(clonedPeople2)\n",
    "    \n",
    "    baselinePop._people = baselinePop._people[baselinePop._people.notnull()]\n",
    "    baselinePop._people = baselinePop._people.loc[[person.allhat_candidate(0) ==True for person in baselinePop._people]]\n",
    "    popExtraBpMed._people = popExtraBpMed._people[popExtraBpMed._people.notnull()]\n",
    "    popExtraBpMed._people = popExtraBpMed._people.loc[[person.allhat_candidate(0) ==True for person in popExtraBpMed._people]]\n",
    "    \n",
    "    popExtraBpMed.set_bp_treatment_strategy(AddASingleBPMedTreatmentStrategy())\n",
    "    baselinePop.advance_vectorized(years)\n",
    "    popExtraBpMed.advance_vectorized(years)\n",
    "    \n",
    "    return (baselinePop, popExtraBpMed)"
   ]
  },
  {
   "cell_type": "code",
   "execution_count": 7,
   "metadata": {},
   "outputs": [],
   "source": [
    "def loadAndAdvanceUnselectedPopulation(popSize, years):\n",
    "    baselinePop = NHANESDirectSamplePopulation(n=popSize, year=2001) # start the sim in 2001\n",
    "    #popExtraBpMed = NHANESDirectSamplePopulation(n=popSize, year=2001) # start the sim in 2001\n",
    "    #popExtraBpMed.set_bp_treatment_strategy(addABPMed)\n",
    "\n",
    "    baselinePop.advance_multi_process(years)\n",
    "    #popExtraBpMed.advance_multi_process(years)\n",
    "    \n",
    "    #return (baselinePop, popExtraBpMed)\n",
    "    return (baselinePop, None)"
   ]
  },
  {
   "cell_type": "code",
   "execution_count": 8,
   "metadata": {},
   "outputs": [],
   "source": [
    "def summarizePopulation(pop, description):\n",
    "    print(f\"Baseline BP in {description} population: {pd.Series([x._sbp[0] for i, x in  pop._people.iteritems()]).mean():.2f}\")\n",
    "    print(f\"BP in first wave in {description} population: {pd.Series([x._sbp[1] for i, x in  pop._people.iteritems()]).mean():.2f}\")\n",
    "    print(f\"Last BP in {description} population: {pd.Series([x._sbp[-1] for i, x in  pop._people.iteritems()]).mean():.2f}\")\n",
    "    print(f\"BP meds at baseline in {description} population: {pd.Series([x._antiHypertensiveCount[0] for i, x in  pop._people.iteritems()]).mean():.2f}\")\n",
    "    print(f\"BP meds in first wave {description} population: {pd.Series([x._antiHypertensiveCount[1] for i, x in  pop._people.iteritems()]).mean():.2f}\")\n",
    "    print(f\"BP meds in last wave {description} population: {pd.Series([x._antiHypertensiveCount[-1] for i, x in  pop._people.iteritems()]).mean():.2f}\")\n",
    "    print(f\"# dead in {description} {pd.Series([x.is_dead() for i, x in  pop._people.iteritems()]).sum()}\")\n"
   ]
  },
  {
   "cell_type": "code",
   "execution_count": 9,
   "metadata": {},
   "outputs": [],
   "source": [
    "def getDFForPopulation(pop, numYears):\n",
    "    data = {}\n",
    "    for year in range(1,numYears+1):\n",
    "        #popAtStartOfWave = pop.get_people_alive_at_the_start_of_wave(year)\n",
    "        print(year)\n",
    "        data['mi' + str(year)] = [x.has_mi_during_wave(year) for _,x in  pop._people.iteritems()]\n",
    "        data['stroke' + str(year)] = [x.has_stroke_during_wave(year) for _,x in  pop._people.iteritems()]\n",
    "        data['dead' + str(year)] = [x.is_dead() and len(x._age)==1 for i,x in  pop._people.iteritems()]\n",
    "    \n",
    "    data['age'] = [x._age[0] for i,x in  pop._people.iteritems()]\n",
    "    data['allhat'] = [x.allhat_candidate(0) for i,x in  pop._people.iteritems()]\n",
    "    \n",
    "    return pd.DataFrame(data)\n",
    "\n",
    "def getSimpleDFForPopulation(pop):\n",
    "    return pd.DataFrame({'mi': [x.has_mi_during_simulation() for i,x in  pop._people.iteritems()],\n",
    "                         'stroke' : [x.has_stroke_during_simulation() for i,x in  pop._people.iteritems()],\n",
    "                         'yearsOfObservation' : [x.years_in_simulation() for i, x in pop._people.iteritems()]})\n",
    "\n",
    "\n",
    "def getReshapedLongDF(untreatedEvents, treatedEvents, untreated_overallEvents, treated_overallEvents):\n",
    "    untreatedEvents['treatment'] = 0\n",
    "    treatedEvents['treatment'] = 1\n",
    "    allEvents = pd.concat([untreatedEvents, treatedEvents], ignore_index=True)\n",
    "    allEvents['id'] = allEvents.index\n",
    "    \n",
    "    reshapedLong = pd.wide_to_long(allEvents,stubnames=['mi', 'stroke', 'dead'], i='id', j='wave')\n",
    "    reshapedLong = reshapedLong.sort_index()\n",
    "    reshapedLong['waveAsColumn'] = reshapedLong.index.get_level_values('wave')\n",
    "    reshapedLong.loc[reshapedLong.dead, 'diedInWaveTemp'] = reshapedLong.waveAsColumn\n",
    "    reshapedLong['diedInWave'] = reshapedLong.groupby('id')['diedInWaveTemp'].max()\n",
    "    reshapedLong['diedInWave'] = reshapedLong.groupby(['id'])['diedInWaveTemp'].transform(max)\n",
    "    reshapedLong.loc[reshapedLong.diedInWave.isna(), 'diedInWave'] = 10000\n",
    "    reshapedLong = reshapedLong.loc[reshapedLong.waveAsColumn <= reshapedLong.diedInWave]\n",
    "    reshapedLong.drop(['diedInWaveTemp', 'diedInWave'], axis='columns', inplace=True)\n",
    "    return reshapedLong\n",
    "    \n",
    "def getHazardRatios(untreatedEvents, treatedEvents, untreated_overallEvents, treated_overallEvents):\n",
    "\n",
    "    reshapedLong = getReshapedLongDF(untreatedEvents, treatedEvents, untreated_overallEvents, treated_overallEvents)\n",
    "    \n",
    "    cph = CoxPHFitter()\n",
    "    cph.fit(reshapedLong[['stroke', 'waveAsColumn', 'treatment']], duration_col='waveAsColumn', event_col='stroke', show_progress=False)\n",
    "    strokeHR = np.exp(cph.params_[0])\n",
    "\n",
    "    cph.fit(reshapedLong[['mi', 'waveAsColumn', 'treatment']], duration_col='waveAsColumn', event_col='mi', show_progress=False)\n",
    "    miHR = np.exp(cph.params_[0])\n",
    "    \n",
    "    miRR = (treated_overallEvents['mi'].sum()/treated_overallEvents['yearsOfObservation'].sum())/(untreated_overallEvents['mi'].sum()/untreated_overallEvents['yearsOfObservation'].sum())\n",
    "    strokeRR = (treated_overallEvents['stroke'].sum()/treated_overallEvents['yearsOfObservation'].sum())/(untreated_overallEvents['stroke'].sum()/untreated_overallEvents['yearsOfObservation'].sum())\n",
    "\n",
    "    \n",
    "    return (strokeHR, miHR, strokeRR, miRR)"
   ]
  },
  {
   "cell_type": "markdown",
   "metadata": {},
   "source": [
    "### Repeat simulation and summarize responses with recalibrated BP data"
   ]
  },
  {
   "cell_type": "code",
   "execution_count": 10,
   "metadata": {},
   "outputs": [],
   "source": [
    "import logging\n",
    "logger = logging.getLogger()\n",
    "logger.setLevel(logging.INFO)\n"
   ]
  },
  {
   "cell_type": "code",
   "execution_count": 11,
   "metadata": {},
   "outputs": [
    {
     "name": "stdout",
     "output_type": "stream",
     "text": [
      "\n",
      "iteration: 1\n"
     ]
    },
    {
     "name": "stderr",
     "output_type": "stream",
     "text": [
      "INFO:root:processing year: 0\n"
     ]
    },
    {
     "name": "stdout",
     "output_type": "stream",
     "text": [
      "dead at start of wave: 0\n",
      "year: 0, number alive: 1000\n"
     ]
    },
    {
     "name": "stderr",
     "output_type": "stream",
     "text": [
      "INFO:root:processing year: 1\n"
     ]
    },
    {
     "name": "stdout",
     "output_type": "stream",
     "text": [
      "dead at start of wave: 8\n",
      "year: 1, number alive: 992\n"
     ]
    },
    {
     "name": "stderr",
     "output_type": "stream",
     "text": [
      "INFO:root:processing year: 2\n"
     ]
    },
    {
     "name": "stdout",
     "output_type": "stream",
     "text": [
      "dead at start of wave: 7\n",
      "year: 2, number alive: 985\n"
     ]
    },
    {
     "name": "stderr",
     "output_type": "stream",
     "text": [
      "INFO:root:processing year: 3\n"
     ]
    },
    {
     "name": "stdout",
     "output_type": "stream",
     "text": [
      "dead at start of wave: 2\n",
      "year: 3, number alive: 983\n"
     ]
    },
    {
     "name": "stderr",
     "output_type": "stream",
     "text": [
      "INFO:root:processing year: 4\n"
     ]
    },
    {
     "name": "stdout",
     "output_type": "stream",
     "text": [
      "dead at start of wave: 7\n",
      "year: 4, number alive: 976\n",
      "Baseline BP in untreated population: 121.98\n",
      "BP in first wave in untreated population: 123.23\n",
      "Last BP in untreated population: 124.40\n",
      "BP meds at baseline in untreated population: 0.38\n",
      "BP meds in first wave untreated population: 0.51\n",
      "BP meds in last wave untreated population: 0.64\n",
      "# dead in untreated 31\n",
      "1\n",
      "2\n",
      "3\n",
      "4\n",
      "5\n",
      "untreated events: 2\n",
      "\n",
      "alive proportion: 1.0\n"
     ]
    },
    {
     "name": "stderr",
     "output_type": "stream",
     "text": [
      "INFO:root:processing year: 0\n"
     ]
    },
    {
     "name": "stdout",
     "output_type": "stream",
     "text": [
      "dead at start of wave: 0\n",
      "year: 0, number alive: 1000\n"
     ]
    },
    {
     "name": "stderr",
     "output_type": "stream",
     "text": [
      "INFO:root:processing year: 1\n"
     ]
    },
    {
     "name": "stdout",
     "output_type": "stream",
     "text": [
      "dead at start of wave: 6\n",
      "year: 1, number alive: 994\n"
     ]
    },
    {
     "name": "stderr",
     "output_type": "stream",
     "text": [
      "INFO:root:processing year: 2\n"
     ]
    },
    {
     "name": "stdout",
     "output_type": "stream",
     "text": [
      "dead at start of wave: 5\n",
      "year: 2, number alive: 989\n"
     ]
    },
    {
     "name": "stderr",
     "output_type": "stream",
     "text": [
      "INFO:root:processing year: 3\n"
     ]
    },
    {
     "name": "stdout",
     "output_type": "stream",
     "text": [
      "dead at start of wave: 8\n",
      "year: 3, number alive: 981\n"
     ]
    },
    {
     "name": "stderr",
     "output_type": "stream",
     "text": [
      "INFO:root:processing year: 4\n"
     ]
    },
    {
     "name": "stdout",
     "output_type": "stream",
     "text": [
      "dead at start of wave: 12\n",
      "year: 4, number alive: 969\n",
      "Baseline BP in treated population: 121.98\n",
      "BP in first wave in treated population: 117.73\n",
      "Last BP in treated population: 110.93\n",
      "BP meds at baseline in treated population: 0.38\n",
      "BP meds in first wave treated population: 1.51\n",
      "BP meds in last wave treated population: 2.68\n",
      "# dead in treated 40\n",
      "1\n",
      "2\n",
      "3\n",
      "4\n",
      "5\n",
      "\n",
      "iteration: 2\n"
     ]
    },
    {
     "name": "stderr",
     "output_type": "stream",
     "text": [
      "INFO:root:processing year: 0\n"
     ]
    },
    {
     "name": "stdout",
     "output_type": "stream",
     "text": [
      "dead at start of wave: 0\n",
      "year: 0, number alive: 1000\n"
     ]
    },
    {
     "name": "stderr",
     "output_type": "stream",
     "text": [
      "INFO:root:processing year: 1\n"
     ]
    },
    {
     "name": "stdout",
     "output_type": "stream",
     "text": [
      "dead at start of wave: 1\n",
      "year: 1, number alive: 999\n"
     ]
    },
    {
     "name": "stderr",
     "output_type": "stream",
     "text": [
      "INFO:root:processing year: 2\n"
     ]
    },
    {
     "name": "stdout",
     "output_type": "stream",
     "text": [
      "dead at start of wave: 5\n",
      "year: 2, number alive: 994\n"
     ]
    },
    {
     "name": "stderr",
     "output_type": "stream",
     "text": [
      "INFO:root:processing year: 3\n"
     ]
    },
    {
     "name": "stdout",
     "output_type": "stream",
     "text": [
      "dead at start of wave: 4\n",
      "year: 3, number alive: 990\n"
     ]
    },
    {
     "name": "stderr",
     "output_type": "stream",
     "text": [
      "INFO:root:processing year: 4\n"
     ]
    },
    {
     "name": "stdout",
     "output_type": "stream",
     "text": [
      "dead at start of wave: 8\n",
      "year: 4, number alive: 982\n",
      "Baseline BP in untreated population: 122.58\n",
      "BP in first wave in untreated population: 123.84\n",
      "Last BP in untreated population: 124.96\n",
      "BP meds at baseline in untreated population: 0.39\n",
      "BP meds in first wave untreated population: 0.54\n",
      "BP meds in last wave untreated population: 0.65\n",
      "# dead in untreated 21\n",
      "1\n",
      "2\n",
      "3\n",
      "4\n",
      "5\n",
      "untreated events: 1\n",
      "\n",
      "alive proportion: 1.0\n"
     ]
    },
    {
     "name": "stderr",
     "output_type": "stream",
     "text": [
      "INFO:root:processing year: 0\n"
     ]
    },
    {
     "name": "stdout",
     "output_type": "stream",
     "text": [
      "dead at start of wave: 0\n",
      "year: 0, number alive: 1000\n"
     ]
    },
    {
     "name": "stderr",
     "output_type": "stream",
     "text": [
      "INFO:root:processing year: 1\n"
     ]
    },
    {
     "name": "stdout",
     "output_type": "stream",
     "text": [
      "dead at start of wave: 2\n",
      "year: 1, number alive: 998\n"
     ]
    },
    {
     "name": "stderr",
     "output_type": "stream",
     "text": [
      "INFO:root:processing year: 2\n"
     ]
    },
    {
     "name": "stdout",
     "output_type": "stream",
     "text": [
      "dead at start of wave: 5\n",
      "year: 2, number alive: 993\n"
     ]
    },
    {
     "name": "stderr",
     "output_type": "stream",
     "text": [
      "INFO:root:processing year: 3\n"
     ]
    },
    {
     "name": "stdout",
     "output_type": "stream",
     "text": [
      "dead at start of wave: 5\n",
      "year: 3, number alive: 988\n"
     ]
    },
    {
     "name": "stderr",
     "output_type": "stream",
     "text": [
      "INFO:root:processing year: 4\n"
     ]
    },
    {
     "name": "stdout",
     "output_type": "stream",
     "text": [
      "dead at start of wave: 7\n",
      "year: 4, number alive: 981\n",
      "Baseline BP in treated population: 122.58\n",
      "BP in first wave in treated population: 118.34\n",
      "Last BP in treated population: 111.47\n",
      "BP meds at baseline in treated population: 0.39\n",
      "BP meds in first wave treated population: 1.52\n",
      "BP meds in last wave treated population: 2.69\n",
      "# dead in treated 25\n",
      "1\n",
      "2\n",
      "3\n",
      "4\n",
      "5\n"
     ]
    }
   ],
   "source": [
    "strokeHRs = []\n",
    "miHRs = []\n",
    "strokeRRs = []\n",
    "miRRs = []\n",
    "treatedEventsList = []\n",
    "overallTreatedEventsList = []\n",
    "untreatedEventsList = []\n",
    "overallUntreatedEventsList = []\n",
    "longDFs = []\n",
    "\n",
    "numIterations = 2 #15\n",
    "numYears = 5\n",
    "popSize = 1000 #100000\n",
    "\n",
    "\n",
    "for i in range(1,numIterations+1):\n",
    "    print(f\"\\niteration: {i}\")\n",
    "    baselinePop = NHANESDirectSamplePopulation(n=popSize, year=2001)\n",
    "    baselineAlive, baselineDF = baselinePop.advance_vectorized(numYears)\n",
    "    summarizePopulation(baselinePop, \"untreated\")\n",
    "    untreatedEvents = getDFForPopulation(baselinePop, numYears)\n",
    "    untreatedEventsList.append(untreatedEvents)\n",
    "    overallUntreatedEvents = getSimpleDFForPopulation(baselinePop)\n",
    "    overallUntreatedEventsList.append(overallUntreatedEvents)\n",
    "    print(f\"untreated events: {untreatedEventsList[i-1].stroke1.sum()}\\n\")\n",
    "\n",
    "    baselinePop.reset_to_baseline()\n",
    "    \n",
    "    alives = [person._alive[-1] for i, person in baselinePop._people.iteritems()]\n",
    "    print(f\"alive proportion: {pd.Series(alives).mean()}\")\n",
    "    \n",
    "    baselinePop.set_bp_treatment_strategy(AddASingleBPMedTreatmentStrategy())\n",
    "    baselinePop.advance_vectorized(numYears)\n",
    "    summarizePopulation(baselinePop, \"treated\")\n",
    "    treatedEvents = getDFForPopulation(baselinePop, numYears)\n",
    "    treatedEventsList.append(treatedEvents)\n",
    "    overallTreatedEvents = getSimpleDFForPopulation(baselinePop)\n",
    "    overallTreatedEventsList.append(overallTreatedEvents)\n",
    "\n",
    "    longDFs.append(getReshapedLongDF(untreatedEvents, treatedEvents, overallUntreatedEvents, overallTreatedEvents))\n",
    "    strokeHR, miHR, strokeRR, miRR = getHazardRatios(untreatedEvents, treatedEvents, overallUntreatedEvents, overallTreatedEvents)\n",
    "    strokeHRs.append(strokeHR)\n",
    "    miHRs.append(miHR)\n",
    "    strokeRRs.append(strokeRR)\n",
    "    miRRs.append(miRR)\n"
   ]
  },
  {
   "cell_type": "code",
   "execution_count": null,
   "metadata": {},
   "outputs": [],
   "source": []
  },
  {
   "cell_type": "code",
   "execution_count": null,
   "metadata": {},
   "outputs": [],
   "source": []
  },
  {
   "cell_type": "code",
   "execution_count": 11,
   "metadata": {},
   "outputs": [],
   "source": [
    "class addABPMedStrokeLargeEffectSize:\n",
    "    def __init__(self):\n",
    "        self._sbp_lowering = 5.5\n",
    "        self._dbp_lowering = 3.1\n",
    "\n",
    "    def get_changes_for_person(self, person):\n",
    "        return (\n",
    "            {'_antiHypertensiveCount': 1},\n",
    "            {'_bpMedsAdded': 1},\n",
    "            {'_sbp': -1 * self._sbp_lowering, '_dbp': -1 * self._dbp_lowering},\n",
    "        )\n",
    "\n",
    "    def get_treatment_recalibration_for_population(self):\n",
    "        return {OutcomeType.STROKE: 0.5, OutcomeType.MI: 0.92}\n",
    "\n",
    "    def get_treatment_recalibration_for_person(self, person):\n",
    "        return {OutcomeType.STROKE: 0.5, OutcomeType.MI: 0.92}\n",
    "\n",
    "    def repeat_treatment_strategy(self):\n",
    "        return False\n",
    "\n",
    "    def get_changes_vectorized(self, x):\n",
    "        x.antiHypertensiveCountNext = x.antiHypertensiveCountNext + 1\n",
    "        x.bpMedsAddedNext = 1\n",
    "        x.sbpNext = x.sbpNext - self._sbp_lowering\n",
    "        x.dbpNext = x.dbpNext - self._dbp_lowering\n",
    "        return x\n",
    "\n",
    "    def rollback_changes_vectorized(self, x):\n",
    "        x.antiHypertensiveCountNext = x.antiHypertensiveCountNext - 1\n",
    "        x.sbpNext = x.sbpNext + self._sbp_lowering\n",
    "        x.dbpNext = x.dbpNext + self._dbp_lowering\n",
    "        x.bpMedsAddedNext = 0\n",
    "        return x     \n",
    "\n",
    "class addABPMedMILargeEffectSize(addABPMedStrokeLargeEffectSize):\n",
    "    def get_treatment_recalibration_for_population(self):\n",
    "        return {OutcomeType.MI: 0.5, OutcomeType.STROKE: 0.92}\n",
    "\n",
    "    def get_treatment_recalibration_for_person(self, person):\n",
    "        return {OutcomeType.MI: 0.5, OutcomeType.STROKE: 0.92}"
   ]
  },
  {
   "cell_type": "code",
   "execution_count": 12,
   "metadata": {},
   "outputs": [],
   "source": [
    "from microsim.outcome_model_repository import OutcomeModelRepository\n",
    "class TestOftenMIModelRepository(OutcomeModelRepository):\n",
    "    def __init__(self, mi_rate, fatality_rate = 0.0, non_cv_mortality_rate = 0.0):\n",
    "        super().__init__()\n",
    "        self._mi_rate = mi_rate\n",
    "        self._fatality_rate = fatality_rate\n",
    "        self._non_cv_mortality_rate = non_cv_mortality_rate\n",
    "\n",
    "    # override base class and always return a MI event\n",
    "    def assign_cv_outcome(self, person, years=1, manualStrokeMIProbability=None):\n",
    "        return Outcome(OutcomeType.MI, np.random.random() < self._fatality_rate) if np.random.random() < self._mi_rate else None\n",
    "\n",
    "    def assign_cv_outcome_vectorized(self, x):\n",
    "        if np.random.random() < self._mi_rate:\n",
    "            x.miNext = True\n",
    "            x.strokeNext = False\n",
    "            x.deadNext = np.random.random() < self._fatality_rate\n",
    "            x.miFatal = x.deadNext\n",
    "            x.ageAtFirstMI = x.age if (x.ageAtFirstMI is None) or (np.isnan(x.ageAtFirstMI)) else x.ageAtFirstMI\n",
    "        else:\n",
    "            x.miNext = False\n",
    "            x.strokeNext = False\n",
    "            x.deadNext = False\n",
    "        return x\n",
    "\n",
    "    def get_risk_for_person(self, person, outcomeModelType, years=1, vectorized=False):\n",
    "        return self._mi_rate\n",
    "\n",
    "    def assign_non_cv_mortality(self, person):\n",
    "        return np.random.uniform(size=1)[0] < self._non_cv_mortality_rate\n",
    "\n",
    "    def assign_non_cv_mortality_vectorized(self, person, years=1):\n",
    "        return np.random.uniform(size=1)[0] < self._non_cv_mortality_rate"
   ]
  },
  {
   "cell_type": "code",
   "execution_count": 13,
   "metadata": {},
   "outputs": [
    {
     "name": "stdout",
     "output_type": "stream",
     "text": [
      "ABOUT TO BREAK\n"
     ]
    },
    {
     "name": "stderr",
     "output_type": "stream",
     "text": [
      "INFO:root:processing year: 0\n"
     ]
    },
    {
     "name": "stdout",
     "output_type": "stream",
     "text": [
      "dead at start of wave: 0\n",
      "year: 0, number alive: 500\n"
     ]
    },
    {
     "name": "stderr",
     "output_type": "stream",
     "text": [
      "INFO:root:processing year: 1\n"
     ]
    },
    {
     "name": "stdout",
     "output_type": "stream",
     "text": [
      "dead at start of wave: 127\n",
      "year: 1, number alive: 373\n"
     ]
    },
    {
     "name": "stderr",
     "output_type": "stream",
     "text": [
      "INFO:root:processing year: 2\n"
     ]
    },
    {
     "name": "stdout",
     "output_type": "stream",
     "text": [
      "dead at start of wave: 88\n",
      "year: 2, number alive: 285\n"
     ]
    },
    {
     "name": "stderr",
     "output_type": "stream",
     "text": [
      "INFO:root:processing year: 3\n"
     ]
    },
    {
     "name": "stdout",
     "output_type": "stream",
     "text": [
      "dead at start of wave: 74\n",
      "year: 3, number alive: 211\n"
     ]
    },
    {
     "name": "stderr",
     "output_type": "stream",
     "text": [
      "INFO:root:processing year: 4\n"
     ]
    },
    {
     "name": "stdout",
     "output_type": "stream",
     "text": [
      "dead at start of wave: 43\n",
      "year: 4, number alive: 168\n",
      "6    132\n",
      "1    127\n",
      "2     88\n",
      "3     74\n",
      "4     43\n",
      "5     36\n",
      "dtype: int64\n",
      "col_0  False  True \n",
      "row_0              \n",
      "1          0    127\n",
      "2          0     88\n",
      "3          0     74\n",
      "4          0     43\n",
      "5          0     36\n",
      "6        132      0\n",
      "500\n"
     ]
    }
   ],
   "source": [
    "        oftenMIPop = NHANESDirectSamplePopulation(500, 2001)\n",
    "        oftenMIPop._outcome_model_repository = TestOftenMIModelRepository(0.2, 0.2, 0.2)\n",
    "        # this requires that we rollback a lot of events.\n",
    "        oftenMIPop.set_bp_treatment_strategy(addABPMedMILargeEffectSize())\n",
    "        print(\"ABOUT TO BREAK\")\n",
    "        df, alive = oftenMIPop.advance_vectorized(5)\n",
    "\n",
    "        ageLength = pd.Series([len(person._age) for i, person in oftenMIPop._people.iteritems()])\n",
    "        dead = pd.Series([person.is_dead() for i, person in oftenMIPop._people.iteritems()])\n",
    "        print(ageLength.value_counts())\n",
    "        print(pd.crosstab(ageLength, dead))\n",
    "\n",
    "\n",
    "        numberWithFullFollowup = pd.Series(\n",
    "            [person.is_dead() or len(person._age) == 6 for i, person in oftenMIPop._people.iteritems()]).sum()\n",
    "        # some people were getting \"lost\" when they had events to rollback of if the had non CV daeths...\n",
    "        # this way everybody either is clearly marekd as dead or has compelte follow up\n",
    "        print(numberWithFullFollowup)"
   ]
  },
  {
   "cell_type": "code",
   "execution_count": 14,
   "metadata": {},
   "outputs": [
    {
     "data": {
      "text/html": [
       "<div>\n",
       "<style scoped>\n",
       "    .dataframe tbody tr th:only-of-type {\n",
       "        vertical-align: middle;\n",
       "    }\n",
       "\n",
       "    .dataframe tbody tr th {\n",
       "        vertical-align: top;\n",
       "    }\n",
       "\n",
       "    .dataframe thead th {\n",
       "        text-align: right;\n",
       "    }\n",
       "</style>\n",
       "<table border=\"1\" class=\"dataframe\">\n",
       "  <thead>\n",
       "    <tr style=\"text-align: right;\">\n",
       "      <th>dead</th>\n",
       "      <th>False</th>\n",
       "      <th>True</th>\n",
       "    </tr>\n",
       "    <tr>\n",
       "      <th>years</th>\n",
       "      <th></th>\n",
       "      <th></th>\n",
       "    </tr>\n",
       "  </thead>\n",
       "  <tbody>\n",
       "    <tr>\n",
       "      <th>1</th>\n",
       "      <td>0</td>\n",
       "      <td>127</td>\n",
       "    </tr>\n",
       "    <tr>\n",
       "      <th>2</th>\n",
       "      <td>0</td>\n",
       "      <td>88</td>\n",
       "    </tr>\n",
       "    <tr>\n",
       "      <th>3</th>\n",
       "      <td>0</td>\n",
       "      <td>74</td>\n",
       "    </tr>\n",
       "    <tr>\n",
       "      <th>4</th>\n",
       "      <td>0</td>\n",
       "      <td>43</td>\n",
       "    </tr>\n",
       "    <tr>\n",
       "      <th>5</th>\n",
       "      <td>0</td>\n",
       "      <td>36</td>\n",
       "    </tr>\n",
       "    <tr>\n",
       "      <th>6</th>\n",
       "      <td>132</td>\n",
       "      <td>0</td>\n",
       "    </tr>\n",
       "  </tbody>\n",
       "</table>\n",
       "</div>"
      ],
      "text/plain": [
       "dead   False  True \n",
       "years              \n",
       "1          0    127\n",
       "2          0     88\n",
       "3          0     74\n",
       "4          0     43\n",
       "5          0     36\n",
       "6        132      0"
      ]
     },
     "execution_count": 14,
     "metadata": {},
     "output_type": "execute_result"
    }
   ],
   "source": [
    "yearsNotDead = [len(person._age) for i, person in oftenMIPop._people.iteritems()]\n",
    "dead = [person.is_dead() for i, person in oftenMIPop._people.iteritems()]\n",
    "popIndex = [person._populationIndex for i, person in oftenMIPop._people.iteritems()]\n",
    "\n",
    "\n",
    "deadAndYears = pd.DataFrame({'years' : yearsNotDead, 'dead' : dead, 'popIndex' : popIndex})\n",
    "pd.crosstab(deadAndYears.years, deadAndYears.dead)"
   ]
  },
  {
   "cell_type": "code",
   "execution_count": 15,
   "metadata": {},
   "outputs": [
    {
     "data": {
      "text/html": [
       "<div>\n",
       "<style scoped>\n",
       "    .dataframe tbody tr th:only-of-type {\n",
       "        vertical-align: middle;\n",
       "    }\n",
       "\n",
       "    .dataframe tbody tr th {\n",
       "        vertical-align: top;\n",
       "    }\n",
       "\n",
       "    .dataframe thead th {\n",
       "        text-align: right;\n",
       "    }\n",
       "</style>\n",
       "<table border=\"1\" class=\"dataframe\">\n",
       "  <thead>\n",
       "    <tr style=\"text-align: right;\">\n",
       "      <th></th>\n",
       "      <th>years</th>\n",
       "      <th>dead</th>\n",
       "      <th>popIndex</th>\n",
       "    </tr>\n",
       "  </thead>\n",
       "  <tbody>\n",
       "  </tbody>\n",
       "</table>\n",
       "</div>"
      ],
      "text/plain": [
       "Empty DataFrame\n",
       "Columns: [years, dead, popIndex]\n",
       "Index: []"
      ]
     },
     "execution_count": 15,
     "metadata": {},
     "output_type": "execute_result"
    }
   ],
   "source": [
    "deadAndYears.loc[(deadAndYears.dead==False) & (deadAndYears.years < 6)]"
   ]
  },
  {
   "cell_type": "code",
   "execution_count": 16,
   "metadata": {},
   "outputs": [
    {
     "data": {
      "text/html": [
       "<div>\n",
       "<style scoped>\n",
       "    .dataframe tbody tr th:only-of-type {\n",
       "        vertical-align: middle;\n",
       "    }\n",
       "\n",
       "    .dataframe tbody tr th {\n",
       "        vertical-align: top;\n",
       "    }\n",
       "\n",
       "    .dataframe thead th {\n",
       "        text-align: right;\n",
       "    }\n",
       "</style>\n",
       "<table border=\"1\" class=\"dataframe\">\n",
       "  <thead>\n",
       "    <tr style=\"text-align: right;\">\n",
       "      <th></th>\n",
       "      <th>deadNext</th>\n",
       "      <th>populationIndex</th>\n",
       "    </tr>\n",
       "  </thead>\n",
       "  <tbody>\n",
       "    <tr>\n",
       "      <th>15</th>\n",
       "      <td>False</td>\n",
       "      <td>15</td>\n",
       "    </tr>\n",
       "    <tr>\n",
       "      <th>23</th>\n",
       "      <td>False</td>\n",
       "      <td>23</td>\n",
       "    </tr>\n",
       "    <tr>\n",
       "      <th>49</th>\n",
       "      <td>False</td>\n",
       "      <td>49</td>\n",
       "    </tr>\n",
       "    <tr>\n",
       "      <th>77</th>\n",
       "      <td>True</td>\n",
       "      <td>77</td>\n",
       "    </tr>\n",
       "    <tr>\n",
       "      <th>85</th>\n",
       "      <td>False</td>\n",
       "      <td>85</td>\n",
       "    </tr>\n",
       "    <tr>\n",
       "      <th>122</th>\n",
       "      <td>False</td>\n",
       "      <td>122</td>\n",
       "    </tr>\n",
       "    <tr>\n",
       "      <th>127</th>\n",
       "      <td>False</td>\n",
       "      <td>127</td>\n",
       "    </tr>\n",
       "    <tr>\n",
       "      <th>148</th>\n",
       "      <td>True</td>\n",
       "      <td>148</td>\n",
       "    </tr>\n",
       "    <tr>\n",
       "      <th>155</th>\n",
       "      <td>False</td>\n",
       "      <td>155</td>\n",
       "    </tr>\n",
       "    <tr>\n",
       "      <th>168</th>\n",
       "      <td>False</td>\n",
       "      <td>168</td>\n",
       "    </tr>\n",
       "    <tr>\n",
       "      <th>186</th>\n",
       "      <td>False</td>\n",
       "      <td>186</td>\n",
       "    </tr>\n",
       "    <tr>\n",
       "      <th>195</th>\n",
       "      <td>False</td>\n",
       "      <td>195</td>\n",
       "    </tr>\n",
       "    <tr>\n",
       "      <th>214</th>\n",
       "      <td>False</td>\n",
       "      <td>214</td>\n",
       "    </tr>\n",
       "    <tr>\n",
       "      <th>220</th>\n",
       "      <td>True</td>\n",
       "      <td>220</td>\n",
       "    </tr>\n",
       "    <tr>\n",
       "      <th>231</th>\n",
       "      <td>False</td>\n",
       "      <td>231</td>\n",
       "    </tr>\n",
       "    <tr>\n",
       "      <th>234</th>\n",
       "      <td>False</td>\n",
       "      <td>234</td>\n",
       "    </tr>\n",
       "    <tr>\n",
       "      <th>242</th>\n",
       "      <td>False</td>\n",
       "      <td>242</td>\n",
       "    </tr>\n",
       "    <tr>\n",
       "      <th>247</th>\n",
       "      <td>True</td>\n",
       "      <td>247</td>\n",
       "    </tr>\n",
       "    <tr>\n",
       "      <th>250</th>\n",
       "      <td>False</td>\n",
       "      <td>250</td>\n",
       "    </tr>\n",
       "    <tr>\n",
       "      <th>262</th>\n",
       "      <td>False</td>\n",
       "      <td>262</td>\n",
       "    </tr>\n",
       "    <tr>\n",
       "      <th>270</th>\n",
       "      <td>False</td>\n",
       "      <td>270</td>\n",
       "    </tr>\n",
       "    <tr>\n",
       "      <th>287</th>\n",
       "      <td>False</td>\n",
       "      <td>287</td>\n",
       "    </tr>\n",
       "    <tr>\n",
       "      <th>295</th>\n",
       "      <td>False</td>\n",
       "      <td>295</td>\n",
       "    </tr>\n",
       "    <tr>\n",
       "      <th>302</th>\n",
       "      <td>True</td>\n",
       "      <td>302</td>\n",
       "    </tr>\n",
       "    <tr>\n",
       "      <th>329</th>\n",
       "      <td>False</td>\n",
       "      <td>329</td>\n",
       "    </tr>\n",
       "    <tr>\n",
       "      <th>330</th>\n",
       "      <td>True</td>\n",
       "      <td>330</td>\n",
       "    </tr>\n",
       "    <tr>\n",
       "      <th>332</th>\n",
       "      <td>True</td>\n",
       "      <td>332</td>\n",
       "    </tr>\n",
       "    <tr>\n",
       "      <th>356</th>\n",
       "      <td>False</td>\n",
       "      <td>356</td>\n",
       "    </tr>\n",
       "    <tr>\n",
       "      <th>360</th>\n",
       "      <td>False</td>\n",
       "      <td>360</td>\n",
       "    </tr>\n",
       "    <tr>\n",
       "      <th>361</th>\n",
       "      <td>True</td>\n",
       "      <td>361</td>\n",
       "    </tr>\n",
       "    <tr>\n",
       "      <th>367</th>\n",
       "      <td>False</td>\n",
       "      <td>367</td>\n",
       "    </tr>\n",
       "    <tr>\n",
       "      <th>401</th>\n",
       "      <td>True</td>\n",
       "      <td>401</td>\n",
       "    </tr>\n",
       "    <tr>\n",
       "      <th>406</th>\n",
       "      <td>False</td>\n",
       "      <td>406</td>\n",
       "    </tr>\n",
       "    <tr>\n",
       "      <th>419</th>\n",
       "      <td>False</td>\n",
       "      <td>419</td>\n",
       "    </tr>\n",
       "    <tr>\n",
       "      <th>422</th>\n",
       "      <td>False</td>\n",
       "      <td>422</td>\n",
       "    </tr>\n",
       "    <tr>\n",
       "      <th>424</th>\n",
       "      <td>False</td>\n",
       "      <td>424</td>\n",
       "    </tr>\n",
       "    <tr>\n",
       "      <th>430</th>\n",
       "      <td>False</td>\n",
       "      <td>430</td>\n",
       "    </tr>\n",
       "    <tr>\n",
       "      <th>445</th>\n",
       "      <td>False</td>\n",
       "      <td>445</td>\n",
       "    </tr>\n",
       "    <tr>\n",
       "      <th>450</th>\n",
       "      <td>False</td>\n",
       "      <td>450</td>\n",
       "    </tr>\n",
       "    <tr>\n",
       "      <th>459</th>\n",
       "      <td>False</td>\n",
       "      <td>459</td>\n",
       "    </tr>\n",
       "    <tr>\n",
       "      <th>499</th>\n",
       "      <td>False</td>\n",
       "      <td>499</td>\n",
       "    </tr>\n",
       "  </tbody>\n",
       "</table>\n",
       "</div>"
      ],
      "text/plain": [
       "     deadNext  populationIndex\n",
       "15      False               15\n",
       "23      False               23\n",
       "49      False               49\n",
       "77       True               77\n",
       "85      False               85\n",
       "122     False              122\n",
       "127     False              127\n",
       "148      True              148\n",
       "155     False              155\n",
       "168     False              168\n",
       "186     False              186\n",
       "195     False              195\n",
       "214     False              214\n",
       "220      True              220\n",
       "231     False              231\n",
       "234     False              234\n",
       "242     False              242\n",
       "247      True              247\n",
       "250     False              250\n",
       "262     False              262\n",
       "270     False              270\n",
       "287     False              287\n",
       "295     False              295\n",
       "302      True              302\n",
       "329     False              329\n",
       "330      True              330\n",
       "332      True              332\n",
       "356     False              356\n",
       "360     False              360\n",
       "361      True              361\n",
       "367     False              367\n",
       "401      True              401\n",
       "406     False              406\n",
       "419     False              419\n",
       "422     False              422\n",
       "424     False              424\n",
       "430     False              430\n",
       "445     False              445\n",
       "450     False              450\n",
       "459     False              459\n",
       "499     False              499"
      ]
     },
     "execution_count": 16,
     "metadata": {},
     "output_type": "execute_result"
    }
   ],
   "source": [
    "oftenMIPop.rolledBackEvents[0]['events'][['deadNext','populationIndex']].sort_index()"
   ]
  },
  {
   "cell_type": "code",
   "execution_count": 17,
   "metadata": {},
   "outputs": [
    {
     "data": {
      "text/plain": [
       "168"
      ]
     },
     "execution_count": 17,
     "metadata": {},
     "output_type": "execute_result"
    }
   ],
   "source": [
    "len(df)"
   ]
  },
  {
   "cell_type": "code",
   "execution_count": 18,
   "metadata": {},
   "outputs": [
    {
     "name": "stdout",
     "output_type": "stream",
     "text": [
      "{'_a1c': [5.3,\n",
      "          5.250872860684898,\n",
      "          5.241062752931503,\n",
      "          5.228931327707672,\n",
      "          5.263265860158017,\n",
      "          5.237284615695074],\n",
      " '_afib': [False, False, False, False, False, False],\n",
      " '_age': [32.0, 33.0, 34.0, 35.0, 36.0, 37.0],\n",
      " '_alcoholPerWeek': [<AlcoholCategory.NONE: 0>, 1, 1, 1, 1, 1],\n",
      " '_alive': [True],\n",
      " '_antiHypertensiveCount': [0.0, 1, 1, 3, 2, 4],\n",
      " '_anyPhysicalActivity': [0, False, False, False, False, False],\n",
      " '_bmi': [17.73,\n",
      "          17.493325732265856,\n",
      "          17.451296367108966,\n",
      "          17.395157249067374,\n",
      "          17.54267649584735,\n",
      "          17.396855997791604],\n",
      " '_bpMedsAdded': [0, 1, 1, 1, 1, 1],\n",
      " '_bpTreatmentStrategy': <__main__.addABPMedMILargeEffectSize object at 0x7ff9c59a7d50>,\n",
      " '_dbp': [76.66666666666667,\n",
      "          77.94450687326975,\n",
      "          77.32037104011889,\n",
      "          76.95320318582804,\n",
      "          74.91408816698522,\n",
      "          75.27345085602335],\n",
      " '_education': <Education.COLLEGEGRADUATE: 5>,\n",
      " '_gcp': [54.68410091333333, 0.0, 0.0, 0.0, 0.0, 0.0],\n",
      " '_gender': <NHANESGender.FEMALE: 2>,\n",
      " '_hdl': [101.0,\n",
      "          101.17987749894759,\n",
      "          101.4102928195097,\n",
      "          101.59221771442431,\n",
      "          101.90234101562737,\n",
      "          101.98591171052814],\n",
      " '_ldl': [80.0,\n",
      "          86.79824977067547,\n",
      "          89.20629189421604,\n",
      "          90.8358411749774,\n",
      "          90.43762639290286,\n",
      "          92.09257607474413],\n",
      " '_lowerBounds': {'dbp': 20, 'sbp': 60},\n",
      " '_otherLipidLoweringMedicationCount': [0.0],\n",
      " '_outcomes': {<OutcomeType.MI: 'mi'>: [],\n",
      "               <OutcomeType.STROKE: 'stroke'>: [],\n",
      "               <OutcomeType.DEMENTIA: 'dementia'>: [(33.0,\n",
      "                                                     Outcome type: OutcomeType.DEMENTIA, fatal: False),\n",
      "                                                    (34.0,\n",
      "                                                     Outcome type: OutcomeType.DEMENTIA, fatal: False),\n",
      "                                                    (35.0,\n",
      "                                                     Outcome type: OutcomeType.DEMENTIA, fatal: False),\n",
      "                                                    (36.0,\n",
      "                                                     Outcome type: OutcomeType.DEMENTIA, fatal: False)]},\n",
      " '_populationIndex': 77,\n",
      " '_qalys': [1.0, 1.0, 0.8, 0.79, 0.8, 0.79],\n",
      " '_raceEthnicity': <NHANESRaceEthnicity.OTHER: 5>,\n",
      " '_randomEffects': {'gcp': -5.91980240809215},\n",
      " '_sbp': [101.33333333333333,\n",
      "          98.65962403177065,\n",
      "          96.91402037958433,\n",
      "          95.93056054886634,\n",
      "          94.1242349979069,\n",
      "          93.98410314323246],\n",
      " '_selfReportMIPriorToSim': 0,\n",
      " '_selfReportStrokePriorToSim': 0,\n",
      " '_smokingStatus': <SmokingStatus.NEVER: 0>,\n",
      " '_statin': [0.0, False, False, False, False, False],\n",
      " '_totChol': [183.0,\n",
      "              191.56610156513742,\n",
      "              194.8220812112935,\n",
      "              197.19550618643348,\n",
      "              196.73558906578188,\n",
      "              199.12011337833783],\n",
      " '_trig': [37.0,\n",
      "           35.828296310161306,\n",
      "           35.94157113084924,\n",
      "           37.080139538348654,\n",
      "           34.00109209006143,\n",
      "           36.47093865550768],\n",
      " '_upperBounds': {'dbp': 180, 'sbp': 300},\n",
      " '_waist': [67.2,\n",
      "            65.72641167388743,\n",
      "            65.37660823948886,\n",
      "            65.0413210824286,\n",
      "            65.60912080897737,\n",
      "            64.97598698731201],\n",
      " 'dfIndex': Index(['index', 'WTINT2YR', 'a1c', 'age', 'antiHypertensive', 'bmi',\n",
      "       'diedBy2015', 'gender', 'hdl', 'ldl', 'monthsToDeath', 'monthsToDeath2',\n",
      "       'otherLipidLowering', 'selfReportMI', 'selfReportMIAge',\n",
      "       'selfReportStroke', 'selfReportStrokeAge', 'statin', 'timeInUS',\n",
      "       'tot_chol', 'trig', 'ucod', 'waist', 'weight', 'year',\n",
      "       'anyPhysicalActivity', 'meanSBP', 'meanDBP', 'alcoholPerWeek',\n",
      "       'raceEthnicity', 'smokingStatus', 'education'],\n",
      "      dtype='object'),\n",
      " 'diedBy2015': False}\n"
     ]
    }
   ],
   "source": [
    "import pprint\n",
    "pprint.pprint(vars(oftenMIPop._people.iloc[77]))"
   ]
  },
  {
   "cell_type": "code",
   "execution_count": 19,
   "metadata": {},
   "outputs": [
    {
     "name": "stdout",
     "output_type": "stream",
     "text": [
      "age                                           33\n",
      "baseAge                                       32\n",
      "gender                                         2\n",
      "raceEthnicity                                  5\n",
      "black                                      False\n",
      "sbp                                      101.333\n",
      "dbp                                      76.6667\n",
      "a1c                                          5.3\n",
      "current_diabetes                           False\n",
      "hdl                                          101\n",
      "ldl                                           80\n",
      "trig                                          37\n",
      "totChol                                      183\n",
      "bmi                                        17.73\n",
      "anyPhysicalActivity                            0\n",
      "education                                      5\n",
      "afib                                       False\n",
      "alcoholPerWeek                                 0\n",
      "antiHypertensiveCount                          0\n",
      "current_bp_treatment                       False\n",
      "statin                                         0\n",
      "otherLipidLoweringMedicationCount              0\n",
      "waist                                       67.2\n",
      "smokingStatus                                  0\n",
      "current_smoker                             False\n",
      "dead                                       False\n",
      "gcpRandomEffect                          -5.9198\n",
      "miPriorToSim                                   0\n",
      "mi                                         False\n",
      "stroke                                     False\n",
      "ageAtFirstStroke                             NaN\n",
      "ageAtFirstMI                                  32\n",
      "ageAtFirstDementia                           NaN\n",
      "miInSim                                    False\n",
      "strokePriorToSim                               0\n",
      "strokeInSim                                False\n",
      "dementia                                   False\n",
      "gcp                                            0\n",
      "baseGcp                                  54.6841\n",
      "gcpSlope                                       0\n",
      "totalYearsInSim                                0\n",
      "totalQalys                                     1\n",
      "bpMedsAdded                                    0\n",
      "populationIndex                               77\n",
      "sbp0                                     101.333\n",
      "dbp0                                     76.6667\n",
      "a1c0                                         5.3\n",
      "hdl0                                         101\n",
      "ldl0                                          80\n",
      "trig0                                         37\n",
      "totChol0                                     183\n",
      "bmi0                                       17.73\n",
      "anyPhysicalActivity0                           0\n",
      "afib0                                      False\n",
      "waist0                                      67.2\n",
      "alcoholPerWeek0                                0\n",
      "age0                                          32\n",
      "antiHypertensiveCount0                         0\n",
      "statin0                                        0\n",
      "bpMedsAdded0                                   0\n",
      "meanSbp                                  101.333\n",
      "meanDbp                                  76.6667\n",
      "meanA1c                                      5.3\n",
      "meanHdl                                      101\n",
      "meanLdl                                       80\n",
      "meanTrig                                      37\n",
      "meanTotchol                                  183\n",
      "meanBmi                                    17.73\n",
      "meanAnyphysicalactivity                        0\n",
      "meanAfib                                       0\n",
      "meanWaist                                   67.2\n",
      "meanAlcoholperweek                             0\n",
      "meanAge                                       32\n",
      "meanAntihypertensivecount                      0\n",
      "meanStatin                                     0\n",
      "meanBpmedsadded                                0\n",
      "sbpNext                                  98.6596\n",
      "dbpNext                                  77.9445\n",
      "a1cNext                                  5.25087\n",
      "hdlNext                                   101.18\n",
      "ldlNext                                  86.7982\n",
      "trigNext                                 35.8283\n",
      "totCholNext                              191.566\n",
      "bmiNext                                  17.4933\n",
      "anyPhysicalActivityNext                    False\n",
      "afibNext                                   False\n",
      "waistNext                                65.7264\n",
      "alcoholPerWeekNext                             1\n",
      "antiHypertensiveCountNext                      1\n",
      "statinNext                                 False\n",
      "bpMedsAddedNext                                1\n",
      "strokeNext                                 False\n",
      "miNext                                     False\n",
      "dementiaNext                               False\n",
      "deadNext                                   False\n",
      "gcpNext                                        0\n",
      "strokeFatal                                    0\n",
      "miFatal                                    False\n",
      "treatedcombinedRisks                 4.53595e-05\n",
      "treatedstrokeProbabilities              0.298662\n",
      "treatedstrokeRisks                   1.35472e-05\n",
      "treatedmiRisks                       3.18123e-05\n",
      "untreatedcombinedRisks               4.53595e-05\n",
      "untreatedstrokeProbabilities            0.298662\n",
      "untreatedstrokeRisks                 1.35472e-05\n",
      "untreatedmiRisks                     3.18123e-05\n",
      "rolledBackEventType                           mi\n",
      "cvDeathNext                                False\n",
      "nonCVDeathNext                             False\n",
      "qalyNext                                       1\n"
     ]
    }
   ],
   "source": [
    "print(oftenMIPop.aliveDFsBefore[0].iloc[77].to_string())"
   ]
  },
  {
   "cell_type": "code",
   "execution_count": 21,
   "metadata": {},
   "outputs": [
    {
     "name": "stdout",
     "output_type": "stream",
     "text": [
      "age                                           33\n",
      "baseAge                                       32\n",
      "gender                                         2\n",
      "raceEthnicity                                  5\n",
      "black                                      False\n",
      "sbp                                      98.6596\n",
      "dbp                                      77.9445\n",
      "a1c                                      5.25087\n",
      "current_diabetes                           False\n",
      "hdl                                       101.18\n",
      "ldl                                      86.7982\n",
      "trig                                     35.8283\n",
      "totChol                                  191.566\n",
      "bmi                                      17.4933\n",
      "anyPhysicalActivity                        False\n",
      "education                                      5\n",
      "afib                                       False\n",
      "alcoholPerWeek                                 1\n",
      "antiHypertensiveCount                          1\n",
      "current_bp_treatment                        True\n",
      "statin                                     False\n",
      "otherLipidLoweringMedicationCount              0\n",
      "waist                                    65.7264\n",
      "smokingStatus                                  0\n",
      "current_smoker                             False\n",
      "dead                                       False\n",
      "gcpRandomEffect                          -5.9198\n",
      "miPriorToSim                                   0\n",
      "mi                                         False\n",
      "stroke                                     False\n",
      "ageAtFirstStroke                             NaN\n",
      "ageAtFirstMI                                  32\n",
      "ageAtFirstDementia                           NaN\n",
      "miInSim                                    False\n",
      "strokePriorToSim                               0\n",
      "strokeInSim                                False\n",
      "dementia                                   False\n",
      "gcp                                            0\n",
      "baseGcp                                  54.6841\n",
      "gcpSlope                                       0\n",
      "totalYearsInSim                                1\n",
      "totalQalys                                     2\n",
      "bpMedsAdded                                    0\n",
      "populationIndex                               77\n",
      "sbp0                                     101.333\n",
      "dbp0                                     76.6667\n",
      "a1c0                                         5.3\n",
      "hdl0                                         101\n",
      "ldl0                                          80\n",
      "trig0                                         37\n",
      "totChol0                                     183\n",
      "bmi0                                       17.73\n",
      "anyPhysicalActivity0                           0\n",
      "afib0                                      False\n",
      "waist0                                      67.2\n",
      "alcoholPerWeek0                                0\n",
      "age0                                          32\n",
      "antiHypertensiveCount0                         0\n",
      "statin0                                        0\n",
      "bpMedsAdded0                                   0\n",
      "meanSbp                                  99.9965\n",
      "meanDbp                                  77.3056\n",
      "meanA1c                                  5.27544\n",
      "meanHdl                                   101.09\n",
      "meanLdl                                  83.3991\n",
      "meanTrig                                 36.4141\n",
      "meanTotchol                              187.283\n",
      "meanBmi                                  17.6117\n",
      "meanAnyphysicalactivity                        0\n",
      "meanAfib                                       0\n",
      "meanWaist                                66.4632\n",
      "meanAlcoholperweek                           0.5\n",
      "meanAge                                       32\n",
      "meanAntihypertensivecount                    0.5\n",
      "meanStatin                                     0\n",
      "meanBpmedsadded                                0\n",
      "sbpNext                                  98.6596\n",
      "dbpNext                                  77.9445\n",
      "a1cNext                                  5.25087\n",
      "hdlNext                                   101.18\n",
      "ldlNext                                  86.7982\n",
      "trigNext                                 35.8283\n",
      "totCholNext                              191.566\n",
      "bmiNext                                  17.4933\n",
      "anyPhysicalActivityNext                    False\n",
      "afibNext                                   False\n",
      "waistNext                                65.7264\n",
      "alcoholPerWeekNext                             1\n",
      "antiHypertensiveCountNext                      1\n",
      "statinNext                                 False\n",
      "bpMedsAddedNext                                1\n",
      "strokeNext                                 False\n",
      "miNext                                     False\n",
      "dementiaNext                               False\n",
      "deadNext                                   False\n",
      "gcpNext                                        0\n",
      "strokeFatal                                    0\n",
      "miFatal                                    False\n",
      "treatedcombinedRisks                 4.53595e-05\n",
      "treatedstrokeProbabilities              0.298662\n",
      "treatedstrokeRisks                   1.35472e-05\n",
      "treatedmiRisks                       3.18123e-05\n",
      "untreatedcombinedRisks               4.53595e-05\n",
      "untreatedstrokeProbabilities            0.298662\n",
      "untreatedstrokeRisks                 1.35472e-05\n",
      "untreatedmiRisks                     3.18123e-05\n",
      "rolledBackEventType                           mi\n",
      "cvDeathNext                                False\n",
      "nonCVDeathNext                             False\n",
      "qalyNext                                       1\n",
      "sbp1                                     98.6596\n",
      "dbp1                                     77.9445\n",
      "a1c1                                     5.25087\n",
      "hdl1                                      101.18\n",
      "ldl1                                     86.7982\n",
      "trig1                                    35.8283\n",
      "totChol1                                 191.566\n",
      "bmi1                                     17.4933\n",
      "anyPhysicalActivity1                       False\n",
      "afib1                                      False\n",
      "waist1                                   65.7264\n",
      "alcoholPerWeek1                                1\n",
      "antiHypertensiveCount1                         1\n",
      "statin1                                    False\n",
      "mi1                                        False\n",
      "stroke1                                    False\n",
      "dead1                                      False\n"
     ]
    }
   ],
   "source": [
    "print(oftenMIPop.aliveDFsAfter[0].iloc[77].to_string())"
   ]
  },
  {
   "cell_type": "code",
   "execution_count": null,
   "metadata": {},
   "outputs": [],
   "source": []
  },
  {
   "cell_type": "code",
   "execution_count": 18,
   "metadata": {},
   "outputs": [
    {
     "name": "stdout",
     "output_type": "stream",
     "text": [
      "{'_a1c': [4.9, 4.799489103086711],\n",
      " '_afib': [False, False],\n",
      " '_age': [49.0, 50.0],\n",
      " '_alcoholPerWeek': [<AlcoholCategory.NONE: 0>, 1],\n",
      " '_alive': [True, False],\n",
      " '_antiHypertensiveCount': [0.0, 2],\n",
      " '_anyPhysicalActivity': [0, True],\n",
      " '_bmi': [26.33, 26.327372530141638],\n",
      " '_bpMedsAdded': [0, 0],\n",
      " '_bpTreatmentStrategy': None,\n",
      " '_dbp': [62.666666666666664, 69.76191004328763],\n",
      " '_education': <Education.COLLEGEGRADUATE: 5>,\n",
      " '_gcp': [48.43817800666666, 5.437199810148009],\n",
      " '_gender': <NHANESGender.FEMALE: 2>,\n",
      " '_hdl': [47.0, 46.091461088803655],\n",
      " '_ldl': [63.0, 62.09925423088005],\n",
      " '_lowerBounds': {'dbp': 20, 'sbp': 60},\n",
      " '_otherLipidLoweringMedicationCount': [0.0],\n",
      " '_outcomes': {<OutcomeType.MI: 'mi'>: [(49.0,\n",
      "                                         Outcome type: OutcomeType.MI, fatal: True)],\n",
      "               <OutcomeType.STROKE: 'stroke'>: [],\n",
      "               <OutcomeType.DEMENTIA: 'dementia'>: []},\n",
      " '_populationIndex': 7,\n",
      " '_qalys': [1.0, 0.88],\n",
      " '_raceEthnicity': <NHANESRaceEthnicity.NON_HISPANIC_WHITE: 3>,\n",
      " '_randomEffects': {'gcp': 4.937199810148009},\n",
      " '_sbp': [108.66666666666667, 108.91077589626053],\n",
      " '_selfReportMIPriorToSim': 0,\n",
      " '_selfReportStrokePriorToSim': 0,\n",
      " '_smokingStatus': <SmokingStatus.FORMER: 1>,\n",
      " '_statin': [0.0, False],\n",
      " '_totChol': [155.0, 154.34179456005066],\n",
      " '_trig': [85.0, 135.95822047647164],\n",
      " '_upperBounds': {'dbp': 180, 'sbp': 300},\n",
      " '_waist': [103.7, 102.64705683866455],\n",
      " 'dfIndex': Index(['index', 'WTINT2YR', 'a1c', 'age', 'antiHypertensive', 'bmi',\n",
      "       'diedBy2015', 'gender', 'hdl', 'ldl', 'monthsToDeath', 'monthsToDeath2',\n",
      "       'otherLipidLowering', 'selfReportMI', 'selfReportMIAge',\n",
      "       'selfReportStroke', 'selfReportStrokeAge', 'statin', 'timeInUS',\n",
      "       'tot_chol', 'trig', 'ucod', 'waist', 'weight', 'year',\n",
      "       'anyPhysicalActivity', 'meanSBP', 'meanDBP', 'alcoholPerWeek',\n",
      "       'raceEthnicity', 'smokingStatus', 'education'],\n",
      "      dtype='object'),\n",
      " 'diedBy2015': False}\n"
     ]
    }
   ],
   "source": [
    "\n",
    "import pprint\n",
    "pprint.pprint(vars(oftenMIPop._people.iloc[7]))"
   ]
  },
  {
   "cell_type": "code",
   "execution_count": 20,
   "metadata": {},
   "outputs": [
    {
     "data": {
      "text/plain": [
       "age                             50\n",
       "baseAge                         49\n",
       "gender                           2\n",
       "raceEthnicity                    3\n",
       "black                        False\n",
       "                             ...  \n",
       "meanAlcoholperweek             0.5\n",
       "meanAge                       49.5\n",
       "meanAntihypertensivecount        1\n",
       "meanStatin                       0\n",
       "meanBpmedsadded                  0\n",
       "Name: 7, Length: 108, dtype: object"
      ]
     },
     "execution_count": 20,
     "metadata": {},
     "output_type": "execute_result"
    }
   ],
   "source": [
    "df = oftenMIPop.get_people_current_state_and_summary_as_dataframe()\n",
    "df.iloc[7]"
   ]
  },
  {
   "cell_type": "raw",
   "metadata": {},
   "source": [
    "print(df.iloc[7].to_string())"
   ]
  },
  {
   "cell_type": "code",
   "execution_count": null,
   "metadata": {},
   "outputs": [],
   "source": []
  },
  {
   "cell_type": "code",
   "execution_count": 12,
   "metadata": {},
   "outputs": [
    {
     "data": {
      "text/plain": [
       "count    2.000000\n",
       "mean     0.501038\n",
       "std      0.141501\n",
       "min      0.400981\n",
       "25%      0.451009\n",
       "50%      0.501038\n",
       "75%      0.551066\n",
       "max      0.601094\n",
       "dtype: float64"
      ]
     },
     "execution_count": 12,
     "metadata": {},
     "output_type": "execute_result"
    }
   ],
   "source": [
    "pd.Series(strokeRRs).describe()"
   ]
  },
  {
   "cell_type": "code",
   "execution_count": 13,
   "metadata": {},
   "outputs": [
    {
     "data": {
      "text/plain": [
       "count    2.000000\n",
       "mean     0.472491\n",
       "std      0.102873\n",
       "min      0.399748\n",
       "25%      0.436119\n",
       "50%      0.472491\n",
       "75%      0.508862\n",
       "max      0.545233\n",
       "dtype: float64"
      ]
     },
     "execution_count": 13,
     "metadata": {},
     "output_type": "execute_result"
    }
   ],
   "source": [
    "pd.Series(strokeHRs).describe()"
   ]
  },
  {
   "cell_type": "code",
   "execution_count": 14,
   "metadata": {},
   "outputs": [
    {
     "data": {
      "text/plain": [
       "count    2.000000\n",
       "mean     0.650588\n",
       "std      0.291828\n",
       "min      0.444235\n",
       "25%      0.547411\n",
       "50%      0.650588\n",
       "75%      0.753765\n",
       "max      0.856941\n",
       "dtype: float64"
      ]
     },
     "execution_count": 14,
     "metadata": {},
     "output_type": "execute_result"
    }
   ],
   "source": [
    "pd.Series(miHRs).describe()"
   ]
  },
  {
   "cell_type": "code",
   "execution_count": 15,
   "metadata": {},
   "outputs": [
    {
     "data": {
      "text/plain": [
       "count    2.000000\n",
       "mean     0.652120\n",
       "std      0.292156\n",
       "min      0.445534\n",
       "25%      0.548827\n",
       "50%      0.652120\n",
       "75%      0.755413\n",
       "max      0.858706\n",
       "dtype: float64"
      ]
     },
     "execution_count": 15,
     "metadata": {},
     "output_type": "execute_result"
    }
   ],
   "source": [
    "pd.Series(miRRs).describe()"
   ]
  },
  {
   "cell_type": "markdown",
   "metadata": {},
   "source": [
    "### So, after considerable work, it seems that the recalibration is working very nicely and holding up over time\n",
    "Target stroke RR 0.79, actual (RR 0.80, HR 0.79). Target MI RR 0.87, actual (RR 0.88, HR 0.88)"
   ]
  },
  {
   "cell_type": "markdown",
   "metadata": {},
   "source": [
    "#### Check that the RRs and HRs are consistent over time"
   ]
  },
  {
   "cell_type": "code",
   "execution_count": 41,
   "metadata": {},
   "outputs": [
    {
     "name": "stdout",
     "output_type": "stream",
     "text": [
      "year: 1, stroke: 0.79221671485854, mi: 0.8735829852523217, death: 0.981262946412519\n",
      "year: 2, stroke: 0.7983494890566597, mi: 0.9023905286661105, death: 0.981262946412519\n",
      "year: 3, stroke: 0.797920581779661, mi: 0.8786809972109446, death: 0.981262946412519\n",
      "year: 4, stroke: 0.7854989332828539, mi: 0.8780390481503678, death: 0.981262946412519\n",
      "year: 5, stroke: 0.7792048437637534, mi: 0.8635951173406141, death: 0.981262946412519\n"
     ]
    }
   ],
   "source": [
    "numIterations = 15\n",
    "numYears=5\n",
    "\n",
    "for year in range(1,numYears+1):\n",
    "    strokeRR=0\n",
    "    miRR=0\n",
    "    deathRR=0\n",
    "    for eventsNum in range(0, numIterations):\n",
    "        strokeRR += treatedEventsList[eventsNum]['stroke' + str(year)].mean() / untreatedEventsList[eventsNum]['stroke' + str(year)].mean()\n",
    "        miRR += treatedEventsList[eventsNum]['mi' + str(year)].mean() / untreatedEventsList[eventsNum]['mi' + str(year)].mean()\n",
    "        deathRR += treatedEventsList[eventsNum]['dead' + str(year)].mean() / untreatedEventsList[eventsNum]['dead' + str(year)].mean()\n",
    "    strokeRR = strokeRR/numIterations\n",
    "    miRR = miRR/numIterations\n",
    "    deathRR = deathRR/numIterations\n",
    "\n",
    "\n",
    "    print(f\"year: {year}, stroke: {strokeRR}, mi: {miRR}, death: {deathRR}\")"
   ]
  },
  {
   "cell_type": "markdown",
   "metadata": {},
   "source": [
    "#### Looks like they hold up nicely over time"
   ]
  },
  {
   "cell_type": "markdown",
   "metadata": {},
   "source": [
    "### Prior to testing recalibration, we explored whether it was possible to change the baseline simulation to get comarable RRs for the mean degree of BP lowering. After following this logic below, we concluded that it wasn't and went on to work on recalibration\n",
    "\n",
    "### The problem is that we appear to be under-estimating the relative risks compared to trials\n",
    "\n",
    "Expected Stroke RR from trials: <b>0.79</b> vs. simulation measured stroke RR: <b>0.95</b>\n",
    "<p>Expected CHD RR from trials:  <b>0.87</b> vs. simulation measured MI RR: <b>0.97</b>\n",
    "\n",
    "Theories:\n",
    "<ul>\n",
    "    <li><b> Random Error</b> - Certainly possible as a contributor as the trial-based estimates have considerable uncertaintly, but the magnitude of the differnce is too great to entirely put on random error.</li>\n",
    "    <li><b> Sample Selection</b> — The main difference comparing our synthetic trial popuation to the actual trials is that the BPs are slightly higher in our sample (by about 3/3 points). Given that ASCVD includes a sbp-sbp quadratic term and a sbp-age interaction, its possible that this is driving part of the story.\n",
    "        <p>In response, I tried 3 things:\n",
    "        <p><ol>\n",
    "            <li>Lowering the BPs for all patients in the sample by 3 points and re-running. This had a tiny effect on the relative risks (<i>both increasing to 0.72</i>). So no big effect.</li>\n",
    "            <li>Turning off the quadratic and interaction effects. Maybe the problem isn't the mean BPs but, the presence of extreme high BPs in our sample compared to the trials (which is hard to assess, becasue the trials only report means).<i>Turning off the quadratic and interaction effects increaes the effect sizes to 0.73></i></li>\n",
    "            <li>The other thought here woudl be about <b>race.</b> 16% of the simulated sample is Black. I'm not sure what that looks like in teh pooled analysis. But, given that race features heavily in ASCVD, its a conceivable problem. Turning off all race effects led to an effect of <i>0.74</i> for stroke and no change for MI, <i>0.71</i></li><p>\n",
    "        <li>Turning off all of those effects change the RR to <i>0.73</i> for stroke and no change for MI, <i>0.71</i> - so race seems like its probably the most important seleectkon factor and may be drivin the other factors...but, on teh whole selection factors (that aren't of the form \"Peopel in trials have better outcomes\") dont' seem to explain much of the gap</li>\n",
    "\n",
    "        </ol>  \n",
    "    </li>\n",
    "    <li><b> Measurement Error</b> — While always a condern with BPs, I have a hard time seeing how it would drive our findings here. First, the measurements from trials are (presumably) decent. Second, there is a fair bit of data supporting the BP lowering effect — those estimates should be fairly precise and both random error and non-differential measurement error shoudl balance out do to sample size. Third, if anything, the trial-measured BP lowering effect seems pretty small — and yet we're still over-estimating the BP lowering effect.</li>\n",
    "    <li><b> Heterogeneity of BP lowering? </b> — If it were that patients with very high blood pressures had a larger effect to a single BP med, then we might miss the boat by giving everybody a fixed 5/3 BP reduction. However, without having anything to parameterize this off...its hard to do anything more than just to explore it.\n",
    "    <ul>\n",
    "    <li> Didn't build a model in whom BP lowering occurs (don't think we know...), but drew BP lowering from a distribution - possibly a very small effect: stroke RR <i>0.72</i>, MI: <i>0.71</i></li></ul>\n",
    "    </li>\n",
    "    <li><b>Confounding in ASCVD</b> — This seems most plausible to me. It seems pretty believale that patients with very high BPs also have other factors that drive their long-term risk that aren't well measured. So, the idea that ASCVD over-estimates the effect of BP lowring at high BPs is plausible. Unless we could account for that confouder (any papers on ASCVD and SES?), I thikn this means that we have to put in a recalibration factor to try and get our estimates to line up.</li>\n",
    "    <li><b>Inaccurate trial estimation of treatment effect</b> — Well, if that's the case, we're screwed. We need the trials for treatment effect. I guess its possible — the trial population may be healthier than the ASCVD population, for example, and perhaps there is some sort of ceiling effect. But, that seems unlikely given that the predicted risk in the trials lines up almost perfectly with ASCVD</li>\n",
    "\n",
    "<li><b>Period effects</b> — Doesn’t make a ton of sense though…those are probably leading to lower RRs over time and the trials, based on older data (right?) have less BP effect than the cohorts.</li>\n",
    "\n",
    "</ul>"
   ]
  },
  {
   "cell_type": "markdown",
   "metadata": {},
   "source": [
    "### code below is for summarizing and stratifying effects across age and BP deciles...it was an early check, but not the current goal of the notebook"
   ]
  },
  {
   "cell_type": "markdown",
   "metadata": {},
   "source": [
    "### look at relative risk across age deciles"
   ]
  },
  {
   "cell_type": "code",
   "execution_count": null,
   "metadata": {},
   "outputs": [],
   "source": [
    "ageBpPop = pd.DataFrame({'mi': [x.has_mi_during_simulation() for i,x in  baselinePop._people.iteritems()],\n",
    "                         'stroke' : [x.has_stroke_during_simulation() for i,x in  baselinePop._people.iteritems()],\n",
    "                         'age' : [x._age[0] for i,x in  baselinePop._people.iteritems()],\n",
    "                         'sbp' : [x._sbp[0] for i,x in  baselinePop._people.iteritems()],\n",
    "                         'dbp' : [x._dbp[0] for i,x in  baselinePop._people.iteritems()],\n",
    "                         'priorStrokeMI' : [x.has_stroke_prior_to_simulation() or x.has_mi_prior_to_simulation() for i,x in  baselinePop._people.iteritems()],\n",
    "                         'currentSmoker' : [x._smokingStatus==SmokingStatus.CURRENT for i,x in  baselinePop._people.iteritems()],\n",
    "                         'hdl' : [x._hdl[0] for i,x in  baselinePop._people.iteritems()],\n",
    "                         'a1c' : [x._a1c[0] for i,x in  baselinePop._people.iteritems()],\n",
    "                         'dead' : [x.is_dead() for i,x in  baselinePop._people.iteritems()],\n",
    "                         'allhat' : [x.allhat_candidate(0) for i,x in  baselinePop._people.iteritems()],\n",
    "                         'yearsOfObservation' : [x.years_in_simulation() for i, x in baselinePop._people.iteritems()]})\n",
    "\n",
    "ageBpPop['ageDeciles'] = pd.qcut(ageBpPop.age, 5, labels=range(1,6))\n",
    "ageBpPop['sbpDeciles'] = pd.qcut(ageBpPop.sbp, 5, labels=range(1,6))\n",
    "\n",
    "\n",
    "ageBpTreatedPop = pd.DataFrame({'mi': [x.has_mi_during_simulation() for i,x in  popExtraBpMed._people.iteritems()],\n",
    "                         'stroke' : [x.has_stroke_during_simulation() for i,x in  popExtraBpMed._people.iteritems()],\n",
    "                         'age' : [x._age[0] for i,x in  popExtraBpMed._people.iteritems()],\n",
    "                         'sbp' : [x._sbp[0] for i,x in  popExtraBpMed._people.iteritems()],\n",
    "                         'dbp' : [x._dbp[0] for i,x in  popExtraBpMed._people.iteritems()],\n",
    "                         'priorStrokeMI' : [x.has_stroke_prior_to_simulation() or x.has_mi_prior_to_simulation() for i,x in  popExtraBpMed._people.iteritems()],\n",
    "                         'currentSmoker' : [x._smokingStatus==SmokingStatus.CURRENT for i,x in  popExtraBpMed._people.iteritems()],\n",
    "                         'hdl' : [x._hdl[0] for i,x in  popExtraBpMed._people.iteritems()],\n",
    "                         'a1c' : [x._a1c[0] for i,x in  popExtraBpMed._people.iteritems()],\n",
    "                         'dead' : [x.is_dead() for i,x in  popExtraBpMed._people.iteritems()],\n",
    "                         'allhat' : [x.allhat_candidate(0) for i,x in  popExtraBpMed._people.iteritems()],\n",
    "                         'yearsOfObservation' : [x.years_in_simulation() for i, x in popExtraBpMed._people.iteritems()]})\n",
    "\n",
    "\n",
    "ageBpTreatedPop['ageDeciles'] = pd.qcut(ageBpTreatedPop.age, 5, labels=range(1,6))\n",
    "ageBpTreatedPop['sbpDeciles'] = pd.qcut(ageBpTreatedPop.sbp, 5, labels=range(1,6))"
   ]
  },
  {
   "cell_type": "code",
   "execution_count": null,
   "metadata": {},
   "outputs": [],
   "source": [
    "%matplotlib inline\n",
    "import matplotlib.pyplot as plt\n",
    "\n",
    "plt.bar(np.arange(0.85, 5.85, 1), ageBpPop.groupby('ageDeciles')['mi'].mean()*100, width=0.25, label = \"Baseline\")\n",
    "plt.bar(np.arange(1.15, 6.15, 1), ageBpTreatedPop.groupby('ageDeciles')['mi'].mean()*100, width=0.25, label=\"Add BP Med\")\n",
    "plt.title(\"Mi Risk, by age decile\")\n",
    "plt.legend()"
   ]
  },
  {
   "cell_type": "code",
   "execution_count": null,
   "metadata": {},
   "outputs": [],
   "source": [
    "%matplotlib inline\n",
    "import matplotlib.pyplot as plt\n",
    "\n",
    "plt.bar(np.arange(0.85, 5.85, 1), ageBpPop.groupby('sbpDeciles')['mi'].mean()*100, width=0.25, label = \"Baseline\")\n",
    "plt.bar(np.arange(1.15, 6.15, 1), ageBpTreatedPop.groupby('sbpDeciles')['mi'].mean()*100, width=0.25, label=\"Add BP Med\")\n",
    "plt.title(\"MI risk by SBP decile\")\n",
    "plt.legend()"
   ]
  },
  {
   "cell_type": "code",
   "execution_count": null,
   "metadata": {},
   "outputs": [],
   "source": [
    "%matplotlib inline\n",
    "import matplotlib.pyplot as plt\n",
    "\n",
    "plt.bar(np.arange(0.85, 5.85, 1), ageBpPop.groupby('ageDeciles')['stroke'].mean()*100, width=0.25, label = \"Baseline\")\n",
    "plt.bar(np.arange(1.15, 6.15, 1), ageBpTreatedPop.groupby('ageDeciles')['stroke'].mean()*100, width=0.25, label=\"Add BP Med\")\n",
    "plt.legend()\n",
    "plt.title(\"Stroke Risk, by age decile\")"
   ]
  },
  {
   "cell_type": "code",
   "execution_count": null,
   "metadata": {},
   "outputs": [],
   "source": [
    "%matplotlib inline\n",
    "import matplotlib.pyplot as plt\n",
    "\n",
    "plt.bar(np.arange(0.85, 5.85, 1), ageBpPop.groupby('sbpDeciles')['stroke'].mean()*100, width=0.25, label = \"Baseline\")\n",
    "plt.bar(np.arange(1.15, 6.15, 1), ageBpTreatedPop.groupby('sbpDeciles')['stroke'].mean()*100, width=0.25, label=\"Add BP Med\")\n",
    "plt.legend()\n",
    "plt.title(\"Stroke Risk, by SBP decile\")"
   ]
  },
  {
   "cell_type": "code",
   "execution_count": null,
   "metadata": {},
   "outputs": [],
   "source": [
    "print (\"Relative MI risk reduction by age decile\")\n",
    "print((ageBpPop.groupby('ageDeciles')['mi'].mean() -ageBpTreatedPop.groupby('ageDeciles')['mi'].mean())/ageBpPop.groupby('ageDeciles')['mi'].mean())\n",
    "\n",
    "print (\"Relative stroke risk reduction by age decile\")\n",
    "print((ageBpPop.groupby('ageDeciles')['stroke'].mean() -ageBpTreatedPop.groupby('ageDeciles')['stroke'].mean())/ageBpPop.groupby('ageDeciles')['stroke'].mean())"
   ]
  },
  {
   "cell_type": "code",
   "execution_count": null,
   "metadata": {},
   "outputs": [],
   "source": [
    "ageBpPop.mean()"
   ]
  },
  {
   "cell_type": "code",
   "execution_count": null,
   "metadata": {},
   "outputs": [],
   "source": [
    "ageBpTreatedPop.mean()"
   ]
  },
  {
   "cell_type": "code",
   "execution_count": null,
   "metadata": {},
   "outputs": [],
   "source": [
    "plt.bar(1, ageBpPop['mi'].mean()*100, width=0.25, label = \"Baseline\")\n",
    "plt.bar(2, ageBpTreatedPop['mi'].mean()*100, width=0.25, label=\"Add BP Med\")\n",
    "plt.legend()\n",
    "plt.title(\"MI Risk in allhat-type population\")"
   ]
  },
  {
   "cell_type": "code",
   "execution_count": null,
   "metadata": {},
   "outputs": [],
   "source": [
    "plt.bar(1, ageBpPop['stroke'].mean()*100, width=0.25, label = \"Baseline\")\n",
    "plt.bar(2, ageBpTreatedPop['stroke'].mean()*100, width=0.25, label=\"Add BP Med\")\n",
    "plt.legend()\n",
    "plt.title(\"Stroke Risk in allhat-type population\")"
   ]
  },
  {
   "cell_type": "code",
   "execution_count": null,
   "metadata": {},
   "outputs": [],
   "source": [
    "print (f\"Relative MI risk for one BP med in ALLHAT: {(ageBpTreatedPop['mi'].sum()/ageBpTreatedPop['yearsOfObservation'].sum())/(ageBpPop['mi'].sum()/ageBpTreatedPop['yearsOfObservation'].sum()):.2f}\")\n",
    "print (f\"Relative stroke risk for one BP med in ALLHAT: {(ageBpTreatedPop['stroke'].sum()/ageBpTreatedPop['yearsOfObservation'].sum())/(ageBpPop['stroke'].sum()/ageBpTreatedPop['yearsOfObservation'].sum()):.2f}\")"
   ]
  },
  {
   "cell_type": "markdown",
   "metadata": {},
   "source": [
    "### Across 4 runs of the simulation, we got:\n",
    "<ol>\n",
    "    <li>Relative <b>MI</b> risk for one BP med in ALLHAT: 0.72\n",
    "        <p>Relative <b>stroke</b> risk for one BP med in ALLHAT: 0.64\n",
    "    </li>\n",
    "\n",
    "<p>\n",
    "<li>Relative <b>MI</b> risk for one BP med in ALLHAT: 0.73\n",
    "    <p>Relative <b>stroke</b> risk for one BP med in ALLHAT: 0.74\n",
    "</li>\n",
    "\n",
    "<p><li>Relative <b>MI</b> risk for one BP med in ALLHAT: 0.66\n",
    "    <p>Relative <b>stroke</b> risk for one BP med in ALLHAT: 0.67\n",
    "</li>\n",
    "\n",
    "<P><li>\n",
    "    Relative <b>MI</b> risk for one BP med in ALLHAT: 0.75\n",
    "    <p>Relative <b>stroke</b> risk for one BP med in ALLHAT: 0.70\n",
    "</li>\n",
    "</ol>"
   ]
  },
  {
   "cell_type": "markdown",
   "metadata": {},
   "source": [
    "1.  for stroke, the relative risk should be around 0.62-0.77 — so we're over estimating risk by a little bit...\n",
    "2. for MI, the relative risk shoudl be around 0.78-0.85...so, we're over estimating risk by quite a bit....\n",
    "\n",
    "### conclusions\n",
    "1. We're probably estimating the overall risk reasonably accurately, although perhpaps a little aggressively (we're around 0.72 for MI and 0.67 for sroke)\n",
    "2. Our models aren't pickig up the role of blood pressure lowering for stroke >> MI\n",
    "\n",
    "### questions\n",
    "1. What is the right setup for a comparison? Duration? \n",
    "2. What is the right treamtent comparison, \"add one med in year one...and then some people non-adhere over 5 years is the current model\"\n",
    "3. Could our divergence just be that our population is a bit differnet than ALLHAT? (In spite of the same inclusion criteria, we got a somewhat differnet sample...)\n",
    "4. Coudl the divergence be for failing to account for mortality? Should I estimate HR censoring on death? Actually...its quite clear that I shoudl...let me do that...\n",
    "5. Is the place to focus on the event partitioning model? Its basically just an age model (more strokes amongst the old, more MIs amongst the young...). Should we include BP treatment into the model (i.e. more treamtent = fewer strokes?)\n",
    "6. How importance is getting this issue \"right\" for the BP cog results?"
   ]
  },
  {
   "cell_type": "code",
   "execution_count": null,
   "metadata": {},
   "outputs": [],
   "source": [
    "untreatedEvents = pd.DataFrame({'mi1': [x.has_mi_during_wave(0) for i,x in  baselinePop._people.iteritems()],\n",
    "                         'mi2': [x.has_mi_during_wave(1) for i,x in  baselinePop._people.iteritems()],\n",
    "                         'mi3': [x.has_mi_during_wave(2) for i,x in  baselinePop._people.iteritems()],\n",
    "                         'mi4': [x.has_mi_during_wave(3) for i,x in  baselinePop._people.iteritems()],\n",
    "                         'mi5': [x.has_mi_during_wave(4) for i,x in  baselinePop._people.iteritems()],\n",
    "                         'stroke1': [x.has_stroke_during_wave(0) for i,x in  baselinePop._people.iteritems()],\n",
    "                         'stroke2': [x.has_stroke_during_wave(1) for i,x in  baselinePop._people.iteritems()],\n",
    "                         'stroke3': [x.has_stroke_during_wave(2) for i,x in  baselinePop._people.iteritems()],\n",
    "                         'stroke4': [x.has_stroke_during_wave(3) for i,x in  baselinePop._people.iteritems()],\n",
    "                         'stroke5': [x.has_stroke_during_wave(4) for i,x in  baselinePop._people.iteritems()],                         'age' : [x._age[0] for i,x in  baselinePop._people.iteritems()],\n",
    "                         'dead1': [x.is_dead() and len(x._age)==1 for i,x in  baselinePop._people.iteritems()],\n",
    "                         'dead2': [x.is_dead() and len(x._age)==2 for i,x in  baselinePop._people.iteritems()],\n",
    "                         'dead3': [x.is_dead() and len(x._age)==3 for i,x in  baselinePop._people.iteritems()],\n",
    "                         'dead4': [x.is_dead() and len(x._age)==4 for i,x in  baselinePop._people.iteritems()],\n",
    "                         'dead5': [x.is_dead() and len(x._age)==5 for i,x in  baselinePop._people.iteritems()],                         \n",
    "                         'age' : [x._age[0] for i,x in  baselinePop._people.iteritems()],\n",
    "                         'allhat' : [x.allhat_candidate(0) for i,x in  baselinePop._people.iteritems()]})\n",
    "\n",
    "treatedEvents = pd.DataFrame({'mi1': [x.has_mi_during_wave(0) for i,x in  popExtraBpMed._people.iteritems()],\n",
    "                         'mi2': [x.has_mi_during_wave(1) for i,x in  popExtraBpMed._people.iteritems()],\n",
    "                         'mi3': [x.has_mi_during_wave(2) for i,x in  popExtraBpMed._people.iteritems()],\n",
    "                         'mi4': [x.has_mi_during_wave(3) for i,x in  popExtraBpMed._people.iteritems()],\n",
    "                         'mi5': [x.has_mi_during_wave(4) for i,x in  popExtraBpMed._people.iteritems()],\n",
    "                         'stroke1': [x.has_stroke_during_wave(0) for i,x in  popExtraBpMed._people.iteritems()],\n",
    "                         'stroke2': [x.has_stroke_during_wave(1) for i,x in  popExtraBpMed._people.iteritems()],\n",
    "                         'stroke3': [x.has_stroke_during_wave(2) for i,x in  popExtraBpMed._people.iteritems()],\n",
    "                         'stroke4': [x.has_stroke_during_wave(3) for i,x in  popExtraBpMed._people.iteritems()],\n",
    "                         'stroke5': [x.has_stroke_during_wave(4) for i,x in  popExtraBpMed._people.iteritems()],                         \n",
    "                         'age' : [x._age[0] for i,x in  popExtraBpMed._people.iteritems()],\n",
    "                         'dead1': [x.is_dead() and len(x._age)==1 for i,x in  popExtraBpMed._people.iteritems()],\n",
    "                         'dead2': [x.is_dead() and len(x._age)==2 for i,x in  popExtraBpMed._people.iteritems()],\n",
    "                         'dead3': [x.is_dead() and len(x._age)==3 for i,x in  popExtraBpMed._people.iteritems()],\n",
    "                         'dead4': [x.is_dead() and len(x._age)==4 for i,x in  popExtraBpMed._people.iteritems()],\n",
    "                         'dead5': [x.is_dead() and len(x._age)==5 for i,x in  popExtraBpMed._people.iteritems()],                         \n",
    "                         'allhat' : [x.allhat_candidate(0) for i,x in  popExtraBpMed._people.iteritems()]})"
   ]
  },
  {
   "cell_type": "code",
   "execution_count": null,
   "metadata": {},
   "outputs": [],
   "source": [
    "untreatedEvents['treatment'] = 0\n",
    "treatedEvents['treatment'] = 1\n",
    "allEvents = pd.concat([untreatedEvents, treatedEvents], ignore_index=True)\n",
    "allEvents['id'] = allEvents.index"
   ]
  },
  {
   "cell_type": "code",
   "execution_count": null,
   "metadata": {},
   "outputs": [],
   "source": [
    "reshapedLong = pd.wide_to_long(allEvents,stubnames=['mi', 'stroke', 'dead'], i='id', j='wave')\n",
    "reshapedLong = reshapedLong.sort_index()\n",
    "reshapedLong['waveAsColumn'] = reshapedLong.index.get_level_values('wave')\n",
    "reshapedLong.loc[reshapedLong.dead, 'diedInWaveTemp'] = reshapedLong.waveAsColumn\n",
    "reshapedLong['diedInWave'] = reshapedLong.groupby('id')['diedInWaveTemp'].max()\n",
    "reshapedLong['diedInWave'] = reshapedLong.groupby(['id'])['diedInWaveTemp'].transform(max)\n",
    "reshapedLong = reshapedLong.loc[reshapedLong.waveAsColumn <= reshapedLong.diedInWave]\n",
    "reshapedLong.drop(['diedInWaveTemp', 'diedInWave'], axis='columns', inplace=True)"
   ]
  },
  {
   "cell_type": "code",
   "execution_count": null,
   "metadata": {},
   "outputs": [],
   "source": [
    "from lifelines import CoxPHFitter\n",
    "\n",
    "cph = CoxPHFitter()\n",
    "cph.fit(reshapedLong[['stroke', 'waveAsColumn', 'treatment']], duration_col='waveAsColumn', event_col='stroke', show_progress=False)\n",
    "print(f\"\\nHR of treatment on stroke: {np.exp(cph.params_[0]):.2f}\")\n",
    "\n",
    "cph.fit(reshapedLong[['mi', 'waveAsColumn', 'treatment']], duration_col='waveAsColumn', event_col='mi', show_progress=False)\n",
    "print(f\"\\nHR of treatment on MI: {np.exp(cph.params_[0]):.2f}\")\n",
    "\n",
    "\n",
    "#cph.print_summary()  # access the results using cph.summary"
   ]
  },
  {
   "cell_type": "markdown",
   "metadata": {},
   "source": [
    "### possible theories: \n",
    "<ol><li> applying a fixed point blood pressure lowering effect is unrealistic...we need to sample from distributions, although i doubt that changes things much...</li>\n",
    "<li> is there a duaraiton effect here? the estimates are based off of multiple eyars...looking at one year might miss the boat because the highest risk peopel are jumping first...</li>\n",
    "<li> population parameters don't line up with ALLHAT (our population is older, BPs are quite a bit higher here — so maybe we haven't gotten the population right. although, i'm not sure about the direction of the relative effcts, this may be workign in our favor</li>\n",
    "<li> observational BP lowering estimates are fundamentally diconnected from trial based estimates (i.e. ASCVD is not calibrated with the trials - could directly test this with the model...</li>\n",
    "<li> what does the specification of a causal effect mean here? does a BP med cause a 4 point constant reduction in your BP? does it lower your BP one and then you return to baseline?</li>\n",
    "</ol>"
   ]
  },
  {
   "cell_type": "code",
   "execution_count": null,
   "metadata": {},
   "outputs": [],
   "source": [
    "from mcm.outcome import OutcomeType\n",
    "\n",
    "eventsByAgeUntreated = pd.DataFrame({'stroke0' : [x.has_stroke_during_wave(0) for i,x in  baselinePop._people.iteritems()],\n",
    "                         'stroke1' : [x.has_stroke_during_wave(1) for i,x in  baselinePop._people.iteritems()],\n",
    "                         'stroke2' : [x.has_stroke_during_wave(2) for i,x in  baselinePop._people.iteritems()],\n",
    "                         'stroke3' : [x.has_stroke_during_wave(3) for i,x in  baselinePop._people.iteritems()],\n",
    "                         'stroke4' : [x.has_stroke_during_wave(4) for i,x in  baselinePop._people.iteritems()],\n",
    "                         'mi0' : [x.has_mi_during_wave(0) for i,x in  baselinePop._people.iteritems()],\n",
    "                         'mi1' : [x.has_mi_during_wave(1) for i,x in  baselinePop._people.iteritems()],\n",
    "                         'mi2' : [x.has_mi_during_wave(2) for i,x in  baselinePop._people.iteritems()],\n",
    "                         'mi3' : [x.has_mi_during_wave(3) for i,x in  baselinePop._people.iteritems()],\n",
    "                         'mi4' : [x.has_mi_during_wave(4) for i,x in  baselinePop._people.iteritems()]})\n",
    "\n",
    "eventsByAgeTreated = pd.DataFrame({'stroke0' : [x.has_stroke_during_wave(0) for i,x in  popExtraBpMed._people.iteritems()],\n",
    "                         'stroke1' : [x.has_stroke_during_wave(1) for i,x in  popExtraBpMed._people.iteritems()],\n",
    "                         'stroke2' : [x.has_stroke_during_wave(2) for i,x in  popExtraBpMed._people.iteritems()],\n",
    "                         'stroke3' : [x.has_stroke_during_wave(3) for i,x in  popExtraBpMed._people.iteritems()],\n",
    "                         'stroke4' : [x.has_stroke_during_wave(4) for i,x in  popExtraBpMed._people.iteritems()],\n",
    "                         'mi0' : [x.has_mi_during_wave(0) for i,x in  popExtraBpMed._people.iteritems()],\n",
    "                         'mi1' : [x.has_mi_during_wave(1) for i,x in  popExtraBpMed._people.iteritems()],\n",
    "                         'mi2' : [x.has_mi_during_wave(2) for i,x in  popExtraBpMed._people.iteritems()],\n",
    "                         'mi3' : [x.has_mi_during_wave(3) for i,x in  popExtraBpMed._people.iteritems()],\n",
    "                         'mi4' : [x.has_mi_during_wave(4) for i,x in  popExtraBpMed._people.iteritems()]})\n"
   ]
  },
  {
   "cell_type": "code",
   "execution_count": null,
   "metadata": {},
   "outputs": [],
   "source": [
    "strokeUntreated = [eventsByAgeUntreated.stroke0.mean(),\n",
    "                        eventsByAgeUntreated.stroke1.mean(),\n",
    "                        eventsByAgeUntreated.stroke2.mean(),\n",
    "                        eventsByAgeUntreated.stroke3.mean(),\n",
    "                        eventsByAgeUntreated.stroke4.mean()]\n",
    "strokeUntreatedError = np.array([eventsByAgeUntreated.stroke0.sem(),\n",
    "                        eventsByAgeUntreated.stroke1.sem(),\n",
    "                        eventsByAgeUntreated.stroke2.sem(),\n",
    "                        eventsByAgeUntreated.stroke3.sem(),\n",
    "                        eventsByAgeUntreated.stroke4.sem()])*1.96\n",
    "strokeTreated = [eventsByAgeTreated.stroke0.mean(),\n",
    "                        eventsByAgeTreated.stroke1.mean(),\n",
    "                        eventsByAgeTreated.stroke2.mean(),\n",
    "                        eventsByAgeTreated.stroke3.mean(),\n",
    "                        eventsByAgeTreated.stroke4.mean()]\n",
    "strokeTreatedError = np.array([eventsByAgeTreated.stroke0.sem(),\n",
    "                        eventsByAgeTreated.stroke1.sem(),\n",
    "                        eventsByAgeTreated.stroke2.sem(),\n",
    "                        eventsByAgeTreated.stroke3.sem(),\n",
    "                        eventsByAgeTreated.stroke4.sem()])*1.96\n",
    "\n",
    "plt.bar(np.arange(0,5),strokeUntreated ,yerr=strokeUntreatedError, width=0.4, capsize=3,label=\"Untreated\")\n",
    "plt.bar(np.arange(0.4,5.4, 1), strokeTreated, yerr=strokeTreatedError, width=0.4, capsize=3, label=\"Treated\")\n",
    "plt.legend(loc=2)\n",
    "plt.title(\"Stroke Rates by temporal wave with treatment\")"
   ]
  },
  {
   "cell_type": "code",
   "execution_count": null,
   "metadata": {},
   "outputs": [],
   "source": [
    "pd.Series(strokeTreated)/pd.Series(strokeUntreated)"
   ]
  },
  {
   "cell_type": "code",
   "execution_count": null,
   "metadata": {},
   "outputs": [],
   "source": [
    "miUntreated = [eventsByAgeUntreated.mi0.mean(),\n",
    "                        eventsByAgeUntreated.mi1.mean(),\n",
    "                        eventsByAgeUntreated.mi2.mean(),\n",
    "                        eventsByAgeUntreated.mi3.mean(),\n",
    "                        eventsByAgeUntreated.mi4.mean()]\n",
    "\n",
    "miUntreatedError = np.array([eventsByAgeUntreated.mi0.sem(),\n",
    "                        eventsByAgeUntreated.mi1.sem(),\n",
    "                        eventsByAgeUntreated.mi2.sem(),\n",
    "                        eventsByAgeUntreated.mi3.sem(),\n",
    "                        eventsByAgeUntreated.mi4.sem()])*1.96\n",
    "miTreated = [eventsByAgeTreated.mi0.mean(),\n",
    "                        eventsByAgeTreated.mi1.mean(),\n",
    "                        eventsByAgeTreated.mi2.mean(),\n",
    "                        eventsByAgeTreated.mi3.mean(),\n",
    "                        eventsByAgeTreated.mi4.mean()]\n",
    "miTreatedError = np.array([eventsByAgeTreated.mi0.sem(),\n",
    "                        eventsByAgeTreated.mi1.sem(),\n",
    "                        eventsByAgeTreated.mi2.sem(),\n",
    "                        eventsByAgeTreated.mi3.sem(),\n",
    "                        eventsByAgeTreated.mi4.sem()])*1.96\n",
    "\n",
    "plt.bar(np.arange(0,5), miUntreated, yerr=miUntreatedError, width=0.4, capsize=3, label=\"Untreated\")\n",
    "plt.bar(np.arange(0.4,5.4, 1), miTreated, yerr=miTreatedError, width=0.4, capsize=3, label=\"Treated\")\n",
    "plt.legend(loc=2)\n",
    "plt.title(\"MI Rates by temporal wave with treatment\")"
   ]
  },
  {
   "cell_type": "code",
   "execution_count": null,
   "metadata": {},
   "outputs": [],
   "source": [
    "pd.Series(miTreated)/pd.Series(miUntreated)"
   ]
  }
 ],
 "metadata": {
  "kernelspec": {
   "display_name": "Python 3",
   "language": "python",
   "name": "python3"
  },
  "language_info": {
   "codemirror_mode": {
    "name": "ipython",
    "version": 3
   },
   "file_extension": ".py",
   "mimetype": "text/x-python",
   "name": "python",
   "nbconvert_exporter": "python",
   "pygments_lexer": "ipython3",
   "version": "3.7.4"
  }
 },
 "nbformat": 4,
 "nbformat_minor": 2
}
