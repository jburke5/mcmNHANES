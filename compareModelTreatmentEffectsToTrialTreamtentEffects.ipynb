{
 "cells": [
  {
   "cell_type": "code",
   "execution_count": 2,
   "metadata": {},
   "outputs": [],
   "source": [
    "import os\n",
    "import numpy as np\n",
    "import pandas as pd\n",
    "import copy\n",
    "\n",
    "os.chdir(\"/Users/burke/Documents/research/bpCog/mcm\")\n",
    "from mcm.outcome import OutcomeType\n",
    "from mcm.population import NHANESDirectSamplePopulation\n",
    "from mcm.smoking_status import SmokingStatus"
   ]
  },
  {
   "cell_type": "code",
   "execution_count": 3,
   "metadata": {},
   "outputs": [],
   "source": [
    "# crudely filter for possible allhat candidates\n",
    "def ageBPFilter(x):\n",
    "    return x.age > 55 and x.meanSBP > 140 and x.meanSBP < 180 and x.meanDBP > 90 and x.meanDBP < 110"
   ]
  },
  {
   "cell_type": "code",
   "execution_count": 4,
   "metadata": {},
   "outputs": [],
   "source": [
    "import copy\n",
    "basePop99 =  NHANESDirectSamplePopulation(n=100000, year=1999, filter=ageBPFilter)\n",
    "basePop01 =  NHANESDirectSamplePopulation(n=100000, year=2001, filter=ageBPFilter)\n",
    "basePop03 = NHANESDirectSamplePopulation(n=100000, year=2003, filter=ageBPFilter)\n",
    "basePop99._people = basePop99._people[basePop99._people.notnull()]\n",
    "basePop01._people = basePop01._people[basePop01._people.notnull()]\n",
    "basePop03._people = basePop03._people[basePop03._people.notnull()]"
   ]
  },
  {
   "cell_type": "code",
   "execution_count": 5,
   "metadata": {},
   "outputs": [],
   "source": [
    "basePop = basePop99\n",
    "basePop._people = basePop._people.append([basePop01._people,basePop03._people])"
   ]
  },
  {
   "cell_type": "code",
   "execution_count": 6,
   "metadata": {},
   "outputs": [],
   "source": [
    "baselinePop = NHANESDirectSamplePopulation(n=100000, year=2001, filter=ageBPFilter) # start the sim in 2001\n",
    "popExtraBpMed = NHANESDirectSamplePopulation(n=100000, year=2001, filter=ageBPFilter) # start the sim in 2001"
   ]
  },
  {
   "cell_type": "code",
   "execution_count": 7,
   "metadata": {},
   "outputs": [],
   "source": [
    "clonedPeople = []\n",
    "for i,person in basePop._people.iteritems():\n",
    "    for copyCount in range (1,50):\n",
    "        clonedPeople.append(person.slightly_randomly_modify_baseline_risk_factors(basePop._risk_model_repository))\n",
    "baselinePop._people = pd.Series(clonedPeople)\n",
    "\n",
    "clonedPeople2 = []\n",
    "for i,person in basePop._people.iteritems():\n",
    "    for copyCount in range (1,50):\n",
    "        clonedPeople2.append(person.slightly_randomly_modify_baseline_risk_factors(basePop._risk_model_repository))\n",
    "popExtraBpMed._people = pd.Series(clonedPeople2)"
   ]
  },
  {
   "cell_type": "code",
   "execution_count": 8,
   "metadata": {},
   "outputs": [],
   "source": [
    "baselinePop._people = baselinePop._people[baselinePop._people.notnull()]\n",
    "baselinePop._people = baselinePop._people.loc[[person.allhat_candidate(0) ==True for person in baselinePop._people]]\n",
    "popExtraBpMed._people = popExtraBpMed._people[popExtraBpMed._people.notnull()]\n",
    "popExtraBpMed._people = popExtraBpMed._people.loc[[person.allhat_candidate(0) ==True for person in popExtraBpMed._people]]"
   ]
  },
  {
   "cell_type": "code",
   "execution_count": 9,
   "metadata": {},
   "outputs": [
    {
     "data": {
      "text/plain": [
       "64013"
      ]
     },
     "execution_count": 9,
     "metadata": {},
     "output_type": "execute_result"
    }
   ],
   "source": [
    "len(baselinePop._people)"
   ]
  },
  {
   "cell_type": "code",
   "execution_count": 10,
   "metadata": {},
   "outputs": [
    {
     "data": {
      "text/plain": [
       "63997"
      ]
     },
     "execution_count": 10,
     "metadata": {},
     "output_type": "execute_result"
    }
   ],
   "source": [
    "len(popExtraBpMed._people)"
   ]
  },
  {
   "cell_type": "markdown",
   "metadata": {},
   "source": [
    "### Setup a baseline population and one where <b>everybody</b> gets an additional BP med"
   ]
  },
  {
   "cell_type": "code",
   "execution_count": 11,
   "metadata": {},
   "outputs": [
    {
     "name": "stdout",
     "output_type": "stream",
     "text": [
      "average BP lowering: 5.03/2.77\n"
     ]
    }
   ],
   "source": [
    "# BP lowering effect from Turnbull, F., Blood Pressure Lowering Treatment Trialists' Collaboration. (2003). Effects of different blood-pressure-lowering regimens on major cardiovascular events: results of prospectively-designed overviews of randomised trials. Lancet, 362(9395), 1527–1535. http://doi.org/10.1016/S0140-6736(03)14739-3\n",
    "# SBP is a weighted average of the 3 groups = \n",
    "weightedSBPLowering = (18229 * 5 + 7482 * 8 + 20888 * 4) / (18229 + 7482 + 20888)\n",
    "weightedDBPLowering = (18229 * 2 + 7482 * 4 + 20888 * 3) / (18229 + 7482 + 20888)\n",
    "print(f\"average BP lowering: {weightedSBPLowering:.2f}/{weightedDBPLowering:.2f}\")"
   ]
  },
  {
   "cell_type": "code",
   "execution_count": 12,
   "metadata": {},
   "outputs": [],
   "source": [
    "def addABPMed(person):\n",
    "    return {'_antiHypertensiveCount' : 1}, {'_sbp': - 1* weightedSBPLowering, '_dbp' : -1 * weightedDBPLowering}\n",
    "\n",
    "popExtraBpMed.set_bp_treatment_strategy(addABPMed)"
   ]
  },
  {
   "cell_type": "code",
   "execution_count": 13,
   "metadata": {},
   "outputs": [
    {
     "name": "stdout",
     "output_type": "stream",
     "text": [
      "0\n",
      "1\n",
      "2\n",
      "3\n",
      "4\n",
      "0\n",
      "1\n",
      "2\n",
      "3\n",
      "4\n"
     ]
    }
   ],
   "source": [
    "baselinePop.advance_multi_process(5)\n",
    "popExtraBpMed.advance_multi_process(5)"
   ]
  },
  {
   "cell_type": "markdown",
   "metadata": {},
   "source": [
    "### Check that BP and BP meds are the same at baseline"
   ]
  },
  {
   "cell_type": "code",
   "execution_count": 14,
   "metadata": {},
   "outputs": [
    {
     "data": {
      "text/plain": [
       "161.83607021617928"
      ]
     },
     "execution_count": 14,
     "metadata": {},
     "output_type": "execute_result"
    }
   ],
   "source": [
    "pd.Series([x._sbp[0] for i, x in  baselinePop._people.iteritems()]).mean()"
   ]
  },
  {
   "cell_type": "code",
   "execution_count": 15,
   "metadata": {},
   "outputs": [
    {
     "data": {
      "text/plain": [
       "161.8480075727636"
      ]
     },
     "execution_count": 15,
     "metadata": {},
     "output_type": "execute_result"
    }
   ],
   "source": [
    "pd.Series([x._sbp[0] for i, x in  popExtraBpMed._people.iteritems()]).mean()"
   ]
  },
  {
   "cell_type": "markdown",
   "metadata": {},
   "source": [
    "### Check that BP and BP meds are suitably adjusted in both populations"
   ]
  },
  {
   "cell_type": "code",
   "execution_count": 16,
   "metadata": {},
   "outputs": [
    {
     "data": {
      "text/plain": [
       "162.11229598194666"
      ]
     },
     "execution_count": 16,
     "metadata": {},
     "output_type": "execute_result"
    }
   ],
   "source": [
    "pd.Series([x._sbp[1] for i, x in  baselinePop._people.iteritems()]).mean()"
   ]
  },
  {
   "cell_type": "code",
   "execution_count": 17,
   "metadata": {},
   "outputs": [
    {
     "data": {
      "text/plain": [
       "157.09127395518144"
      ]
     },
     "execution_count": 17,
     "metadata": {},
     "output_type": "execute_result"
    }
   ],
   "source": [
    "pd.Series([x._sbp[1] for i, x in  popExtraBpMed._people.iteritems()]).mean()"
   ]
  },
  {
   "cell_type": "code",
   "execution_count": 18,
   "metadata": {},
   "outputs": [
    {
     "data": {
      "text/plain": [
       "count    64013.000000\n",
       "mean       161.722720\n",
       "std         10.375273\n",
       "min        137.173459\n",
       "25%        153.091762\n",
       "50%        161.726046\n",
       "75%        170.054526\n",
       "max        186.678690\n",
       "dtype: float64"
      ]
     },
     "execution_count": 18,
     "metadata": {},
     "output_type": "execute_result"
    }
   ],
   "source": [
    "pd.Series([x._sbp[-1] for i, x in  baselinePop._people.iteritems()]).describe()"
   ]
  },
  {
   "cell_type": "code",
   "execution_count": 19,
   "metadata": {},
   "outputs": [
    {
     "data": {
      "text/plain": [
       "count    63997.000000\n",
       "mean       159.029874\n",
       "std         10.354460\n",
       "min        134.180101\n",
       "25%        150.617409\n",
       "50%        159.003194\n",
       "75%        167.490397\n",
       "max        184.080486\n",
       "dtype: float64"
      ]
     },
     "execution_count": 19,
     "metadata": {},
     "output_type": "execute_result"
    }
   ],
   "source": [
    "pd.Series([x._sbp[-1] for i, x in  popExtraBpMed._people.iteritems()]).describe()"
   ]
  },
  {
   "cell_type": "code",
   "execution_count": 20,
   "metadata": {},
   "outputs": [
    {
     "name": "stdout",
     "output_type": "stream",
     "text": [
      " # dead in regular population 9051\n",
      " # dead in lower BP population 8699\n"
     ]
    }
   ],
   "source": [
    "print(f\" # dead in regular population {pd.Series([x.is_dead() for i, x in  baselinePop._people.iteritems()]).sum()}\")\n",
    "print(f\" # dead in lower BP population {pd.Series([x.is_dead() for i, x in  popExtraBpMed._people.iteritems()]).sum()}\")\n",
    "\n"
   ]
  },
  {
   "cell_type": "code",
   "execution_count": 21,
   "metadata": {},
   "outputs": [
    {
     "data": {
      "text/plain": [
       "0.9905487947760611"
      ]
     },
     "execution_count": 21,
     "metadata": {},
     "output_type": "execute_result"
    }
   ],
   "source": [
    "pd.Series([x._antiHypertensiveCount[0] for i, x in  baselinePop._people.iteritems()]).mean()"
   ]
  },
  {
   "cell_type": "code",
   "execution_count": 22,
   "metadata": {},
   "outputs": [
    {
     "data": {
      "text/plain": [
       "0.9905776833289061"
      ]
     },
     "execution_count": 22,
     "metadata": {},
     "output_type": "execute_result"
    }
   ],
   "source": [
    "pd.Series([x._antiHypertensiveCount[0] for i, x in  popExtraBpMed._people.iteritems()]).mean()"
   ]
  },
  {
   "cell_type": "code",
   "execution_count": 23,
   "metadata": {},
   "outputs": [
    {
     "data": {
      "text/plain": [
       "1.0960429912673988"
      ]
     },
     "execution_count": 23,
     "metadata": {},
     "output_type": "execute_result"
    }
   ],
   "source": [
    "pd.Series([x._antiHypertensiveCount[1] for i, x in  baselinePop._people.iteritems()]).mean()"
   ]
  },
  {
   "cell_type": "code",
   "execution_count": 24,
   "metadata": {},
   "outputs": [
    {
     "data": {
      "text/plain": [
       "2.094910698939013"
      ]
     },
     "execution_count": 24,
     "metadata": {},
     "output_type": "execute_result"
    }
   ],
   "source": [
    "pd.Series([x._antiHypertensiveCount[1] for i, x in  popExtraBpMed._people.iteritems()]).mean()"
   ]
  },
  {
   "cell_type": "code",
   "execution_count": 25,
   "metadata": {},
   "outputs": [
    {
     "data": {
      "text/plain": [
       "1.220361489072532"
      ]
     },
     "execution_count": 25,
     "metadata": {},
     "output_type": "execute_result"
    }
   ],
   "source": [
    "pd.Series([x._antiHypertensiveCount[-1] for i, x in  baselinePop._people.iteritems()]).mean()"
   ]
  },
  {
   "cell_type": "code",
   "execution_count": 26,
   "metadata": {},
   "outputs": [
    {
     "data": {
      "text/plain": [
       "1.6562963888932294"
      ]
     },
     "execution_count": 26,
     "metadata": {},
     "output_type": "execute_result"
    }
   ],
   "source": [
    "pd.Series([x._antiHypertensiveCount[-1] for i, x in  popExtraBpMed._people.iteritems()]).mean()"
   ]
  },
  {
   "cell_type": "markdown",
   "metadata": {},
   "source": [
    "### look at relative risk across age deciles"
   ]
  },
  {
   "cell_type": "code",
   "execution_count": 150,
   "metadata": {},
   "outputs": [],
   "source": [
    "ageBpPop = pd.DataFrame({'mi': [x.has_mi_during_simulation() for i,x in  baselinePop._people.iteritems()],\n",
    "                         'stroke' : [x.has_stroke_during_simulation() for i,x in  baselinePop._people.iteritems()],\n",
    "                         'age' : [x._age[0] for i,x in  baselinePop._people.iteritems()],\n",
    "                         'sbp' : [x._sbp[0] for i,x in  baselinePop._people.iteritems()],\n",
    "                         'dbp' : [x._dbp[0] for i,x in  baselinePop._people.iteritems()],\n",
    "                         'priorStrokeMI' : [x.has_stroke_prior_to_simulation() or x.has_mi_prior_to_simulation() for i,x in  baselinePop._people.iteritems()],\n",
    "                         'currentSmoker' : [x._smokingStatus==SmokingStatus.CURRENT for i,x in  baselinePop._people.iteritems()],\n",
    "                         'hdl' : [x._hdl[0] for i,x in  baselinePop._people.iteritems()],\n",
    "                         'a1c' : [x._a1c[0] for i,x in  baselinePop._people.iteritems()],\n",
    "                         'dead' : [x.is_dead() for i,x in  baselinePop._people.iteritems()],\n",
    "                         'allhat' : [x.allhat_candidate(0) for i,x in  baselinePop._people.iteritems()],\n",
    "                         'yearsOfObservation' : [x.years_in_simulation() for i, x in baselinePop._people.iteritems()]})\n",
    "\n",
    "ageBpPop['ageDeciles'] = pd.qcut(ageBpPop.age, 5, labels=range(1,6))\n",
    "ageBpPop['sbpDeciles'] = pd.qcut(ageBpPop.sbp, 5, labels=range(1,6))\n",
    "\n",
    "\n",
    "ageBpTreatedPop = pd.DataFrame({'mi': [x.has_mi_during_simulation() for i,x in  popExtraBpMed._people.iteritems()],\n",
    "                         'stroke' : [x.has_stroke_during_simulation() for i,x in  popExtraBpMed._people.iteritems()],\n",
    "                         'age' : [x._age[0] for i,x in  popExtraBpMed._people.iteritems()],\n",
    "                         'sbp' : [x._sbp[0] for i,x in  popExtraBpMed._people.iteritems()],\n",
    "                         'dbp' : [x._dbp[0] for i,x in  popExtraBpMed._people.iteritems()],\n",
    "                         'priorStrokeMI' : [x.has_stroke_prior_to_simulation() or x.has_mi_prior_to_simulation() for i,x in  popExtraBpMed._people.iteritems()],\n",
    "                         'currentSmoker' : [x._smokingStatus==SmokingStatus.CURRENT for i,x in  popExtraBpMed._people.iteritems()],\n",
    "                         'hdl' : [x._hdl[0] for i,x in  popExtraBpMed._people.iteritems()],\n",
    "                         'a1c' : [x._a1c[0] for i,x in  popExtraBpMed._people.iteritems()],\n",
    "                         'dead' : [x.is_dead() for i,x in  popExtraBpMed._people.iteritems()],\n",
    "                         'allhat' : [x.allhat_candidate(0) for i,x in  popExtraBpMed._people.iteritems()],\n",
    "                         'yearsOfObservation' : [x.years_in_simulation() for i, x in popExtraBpMed._people.iteritems()]})\n",
    "\n",
    "\n",
    "ageBpTreatedPop['ageDeciles'] = pd.qcut(ageBpTreatedPop.age, 5, labels=range(1,6))\n",
    "ageBpTreatedPop['sbpDeciles'] = pd.qcut(ageBpTreatedPop.sbp, 5, labels=range(1,6))"
   ]
  },
  {
   "cell_type": "code",
   "execution_count": 28,
   "metadata": {},
   "outputs": [
    {
     "data": {
      "text/plain": [
       "<matplotlib.legend.Legend at 0x1a9b284470>"
      ]
     },
     "execution_count": 28,
     "metadata": {},
     "output_type": "execute_result"
    },
    {
     "data": {
      "image/png": "[encoded data removed]",
      "text/plain": [
       "<Figure size 432x288 with 1 Axes>"
      ]
     },
     "metadata": {},
     "output_type": "display_data"
    }
   ],
   "source": [
    "%matplotlib inline\n",
    "import matplotlib.pyplot as plt\n",
    "\n",
    "plt.bar(np.arange(0.85, 5.85, 1), ageBpPop.groupby('ageDeciles')['mi'].mean()*100, width=0.25, label = \"Baseline\")\n",
    "plt.bar(np.arange(1.15, 6.15, 1), ageBpTreatedPop.groupby('ageDeciles')['mi'].mean()*100, width=0.25, label=\"Add BP Med\")\n",
    "plt.title(\"Mi Risk, by age decile\")\n",
    "plt.legend()"
   ]
  },
  {
   "cell_type": "code",
   "execution_count": 29,
   "metadata": {},
   "outputs": [
    {
     "data": {
      "text/plain": [
       "<matplotlib.legend.Legend at 0x1a999d2c18>"
      ]
     },
     "execution_count": 29,
     "metadata": {},
     "output_type": "execute_result"
    },
    {
     "data": {
      "image/png": "[encoded data removed]",
      "text/plain": [
       "<Figure size 432x288 with 1 Axes>"
      ]
     },
     "metadata": {},
     "output_type": "display_data"
    }
   ],
   "source": [
    "%matplotlib inline\n",
    "import matplotlib.pyplot as plt\n",
    "\n",
    "plt.bar(np.arange(0.85, 5.85, 1), ageBpPop.groupby('sbpDeciles')['mi'].mean()*100, width=0.25, label = \"Baseline\")\n",
    "plt.bar(np.arange(1.15, 6.15, 1), ageBpTreatedPop.groupby('sbpDeciles')['mi'].mean()*100, width=0.25, label=\"Add BP Med\")\n",
    "plt.title(\"MI risk by SBP decile\")\n",
    "plt.legend()"
   ]
  },
  {
   "cell_type": "code",
   "execution_count": 30,
   "metadata": {},
   "outputs": [
    {
     "data": {
      "text/plain": [
       "Text(0.5,1,'Stroke Risk, by age decile')"
      ]
     },
     "execution_count": 30,
     "metadata": {},
     "output_type": "execute_result"
    },
    {
     "data": {
      "image/png": "[encoded data removed]",
      "text/plain": [
       "<Figure size 432x288 with 1 Axes>"
      ]
     },
     "metadata": {},
     "output_type": "display_data"
    }
   ],
   "source": [
    "%matplotlib inline\n",
    "import matplotlib.pyplot as plt\n",
    "\n",
    "plt.bar(np.arange(0.85, 5.85, 1), ageBpPop.groupby('ageDeciles')['stroke'].mean()*100, width=0.25, label = \"Baseline\")\n",
    "plt.bar(np.arange(1.15, 6.15, 1), ageBpTreatedPop.groupby('ageDeciles')['stroke'].mean()*100, width=0.25, label=\"Add BP Med\")\n",
    "plt.legend()\n",
    "plt.title(\"Stroke Risk, by age decile\")"
   ]
  },
  {
   "cell_type": "code",
   "execution_count": 31,
   "metadata": {},
   "outputs": [
    {
     "data": {
      "text/plain": [
       "Text(0.5,1,'Stroke Risk, by SBP decile')"
      ]
     },
     "execution_count": 31,
     "metadata": {},
     "output_type": "execute_result"
    },
    {
     "data": {
      "image/png": "[encoded data removed]",
      "text/plain": [
       "<Figure size 432x288 with 1 Axes>"
      ]
     },
     "metadata": {},
     "output_type": "display_data"
    }
   ],
   "source": [
    "%matplotlib inline\n",
    "import matplotlib.pyplot as plt\n",
    "\n",
    "plt.bar(np.arange(0.85, 5.85, 1), ageBpPop.groupby('sbpDeciles')['stroke'].mean()*100, width=0.25, label = \"Baseline\")\n",
    "plt.bar(np.arange(1.15, 6.15, 1), ageBpTreatedPop.groupby('sbpDeciles')['stroke'].mean()*100, width=0.25, label=\"Add BP Med\")\n",
    "plt.legend()\n",
    "plt.title(\"Stroke Risk, by SBP decile\")"
   ]
  },
  {
   "cell_type": "code",
   "execution_count": 32,
   "metadata": {},
   "outputs": [
    {
     "name": "stdout",
     "output_type": "stream",
     "text": [
      "Relative MI risk reduction by age decile\n",
      "ageDeciles\n",
      "1    0.349436\n",
      "2    0.291341\n",
      "3    0.348028\n",
      "4    0.372285\n",
      "5    0.291146\n",
      "Name: mi, dtype: float64\n",
      "Relative stroke risk reduction by age decile\n",
      "ageDeciles\n",
      "1    0.312485\n",
      "2    0.325387\n",
      "3    0.147549\n",
      "4    0.274006\n",
      "5    0.306934\n",
      "Name: stroke, dtype: float64\n"
     ]
    }
   ],
   "source": [
    "print (\"Relative MI risk reduction by age decile\")\n",
    "print((ageBpPop.groupby('ageDeciles')['mi'].mean() -ageBpTreatedPop.groupby('ageDeciles')['mi'].mean())/ageBpPop.groupby('ageDeciles')['mi'].mean())\n",
    "\n",
    "print (\"Relative stroke risk reduction by age decile\")\n",
    "print((ageBpPop.groupby('ageDeciles')['stroke'].mean() -ageBpTreatedPop.groupby('ageDeciles')['stroke'].mean())/ageBpPop.groupby('ageDeciles')['stroke'].mean())"
   ]
  },
  {
   "cell_type": "code",
   "execution_count": 33,
   "metadata": {},
   "outputs": [
    {
     "data": {
      "text/plain": [
       "mi                 0.026870\n",
       "stroke             0.015981\n",
       "age               64.315295\n",
       "sbp              161.836070\n",
       "dbp               94.296093\n",
       "priorStrokeMI      1.000000\n",
       "currentSmoker      0.129302\n",
       "hdl               53.542212\n",
       "a1c                5.749683\n",
       "dead               0.141393\n",
       "allhat             1.000000\n",
       "ageDeciles         2.925218\n",
       "sbpDeciles         2.946386\n",
       "dtype: float64"
      ]
     },
     "execution_count": 33,
     "metadata": {},
     "output_type": "execute_result"
    }
   ],
   "source": [
    "ageBpPop.mean()"
   ]
  },
  {
   "cell_type": "code",
   "execution_count": 34,
   "metadata": {},
   "outputs": [
    {
     "data": {
      "text/plain": [
       "mi                 0.017954\n",
       "stroke             0.011501\n",
       "age               64.308968\n",
       "sbp              161.848008\n",
       "dbp               94.302161\n",
       "priorStrokeMI      1.000000\n",
       "currentSmoker      0.129350\n",
       "hdl               53.566115\n",
       "a1c                5.745093\n",
       "dead               0.135928\n",
       "allhat             1.000000\n",
       "ageDeciles         2.922512\n",
       "sbpDeciles         2.948591\n",
       "dtype: float64"
      ]
     },
     "execution_count": 34,
     "metadata": {},
     "output_type": "execute_result"
    }
   ],
   "source": [
    "ageBpTreatedPop.mean()"
   ]
  },
  {
   "cell_type": "code",
   "execution_count": 35,
   "metadata": {},
   "outputs": [
    {
     "data": {
      "text/plain": [
       "Text(0.5,1,'MI Risk in allhat-type population')"
      ]
     },
     "execution_count": 35,
     "metadata": {},
     "output_type": "execute_result"
    },
    {
     "data": {
      "image/png": "[encoded data removed]",
      "text/plain": [
       "<Figure size 432x288 with 1 Axes>"
      ]
     },
     "metadata": {},
     "output_type": "display_data"
    }
   ],
   "source": [
    "plt.bar(1, ageBpPop['mi'].mean()*100, width=0.25, label = \"Baseline\")\n",
    "plt.bar(2, ageBpTreatedPop['mi'].mean()*100, width=0.25, label=\"Add BP Med\")\n",
    "plt.legend()\n",
    "plt.title(\"MI Risk in allhat-type population\")"
   ]
  },
  {
   "cell_type": "code",
   "execution_count": 36,
   "metadata": {},
   "outputs": [
    {
     "data": {
      "text/plain": [
       "Text(0.5,1,'Stroke Risk in allhat-type population')"
      ]
     },
     "execution_count": 36,
     "metadata": {},
     "output_type": "execute_result"
    },
    {
     "data": {
      "image/png": "[encoded data removed]",
      "text/plain": [
       "<Figure size 432x288 with 1 Axes>"
      ]
     },
     "metadata": {},
     "output_type": "display_data"
    }
   ],
   "source": [
    "plt.bar(1, ageBpPop['stroke'].mean()*100, width=0.25, label = \"Baseline\")\n",
    "plt.bar(2, ageBpTreatedPop['stroke'].mean()*100, width=0.25, label=\"Add BP Med\")\n",
    "plt.legend()\n",
    "plt.title(\"Stroke Risk in allhat-type population\")"
   ]
  },
  {
   "cell_type": "code",
   "execution_count": 156,
   "metadata": {},
   "outputs": [
    {
     "name": "stdout",
     "output_type": "stream",
     "text": [
      "Relative MI risk for one BP med in ALLHAT: 0.67\n",
      "Relative stroke risk for one BP med in ALLHAT: 0.72\n"
     ]
    }
   ],
   "source": [
    "print (f\"Relative MI risk for one BP med in ALLHAT: {(ageBpTreatedPop['mi'].sum()/ageBpTreatedPop['yearsOfObservation'].sum())/(ageBpPop['mi'].sum()/ageBpTreatedPop['yearsOfObservation'].sum()):.2f}\")\n",
    "print (f\"Relative stroke risk for one BP med in ALLHAT: {(ageBpTreatedPop['stroke'].sum()/ageBpTreatedPop['yearsOfObservation'].sum())/(ageBpPop['stroke'].sum()/ageBpTreatedPop['yearsOfObservation'].sum()):.2f}\")"
   ]
  },
  {
   "cell_type": "markdown",
   "metadata": {},
   "source": [
    "### Across 4 runs of the simulatino, we got:\n",
    "<ol>\n",
    "    <li>Relative <b>MI</b> risk for one BP med in ALLHAT: 0.72\n",
    "        <p>Relative <b>stroke</b> risk for one BP med in ALLHAT: 0.64\n",
    "    </li>\n",
    "\n",
    "<p>\n",
    "<li>Relative <b>MI</b> risk for one BP med in ALLHAT: 0.73\n",
    "    <p>Relative <b>stroke</b> risk for one BP med in ALLHAT: 0.74\n",
    "</li>\n",
    "\n",
    "<p><li>Relative <b>MI</b> risk for one BP med in ALLHAT: 0.66\n",
    "    <p>Relative <b>stroke</b> risk for one BP med in ALLHAT: 0.67\n",
    "</li>\n",
    "\n",
    "<P><li>\n",
    "    Relative <b>MI</b> risk for one BP med in ALLHAT: 0.75\n",
    "    <p>Relative <b>stroke</b> risk for one BP med in ALLHAT: 0.70\n",
    "</li>\n",
    "</ol>"
   ]
  },
  {
   "cell_type": "markdown",
   "metadata": {},
   "source": [
    "1.  for stroke, the relative risk should be around 0.62-0.77 — so we're over estimating risk by a little bit...\n",
    "2. for MI, the relative risk shoudl be around 0.78-0.85...so, we're over estimating risk by quite a bit....\n",
    "\n",
    "### conclusions\n",
    "1. We're probably estimating the overall risk reasonably accurately, although perhpaps a little aggressively (we're around 0.72 for MI and 0.67 for sroke)\n",
    "2. Our models aren't pickig up the role of blood pressure lowering for stroke >> MI\n",
    "\n",
    "### questions\n",
    "1. What is the right setup for a comparison? Duration? \n",
    "2. What is the right treamtent comparison, \"add one med in year one...and then some people non-adhere over 5 years is the current model\"\n",
    "3. Could our divergence just be that our population is a bit differnet than ALLHAT? (In spite of the same inclusion criteria, we got a somewhat differnet sample...)\n",
    "4. Coudl the divergence be for failing to account for mortality? Should I estimate HR censoring on death? Actually...its quite clear that I shoudl...let me do that...\n",
    "5. Is the place to focus on the event partitioning model? Its basically just an age model (more strokes amongst the old, more MIs amongst the young...). Should we include BP treatment into the model (i.e. more treamtent = fewer strokes?)\n",
    "6. How importance is getting this issue \"right\" for the BP cog results?"
   ]
  },
  {
   "cell_type": "code",
   "execution_count": 77,
   "metadata": {},
   "outputs": [],
   "source": [
    "untreatedEvents = pd.DataFrame({'mi1': [x.has_mi_during_wave(0) for i,x in  baselinePop._people.iteritems()],\n",
    "                         'mi2': [x.has_mi_during_wave(1) for i,x in  baselinePop._people.iteritems()],\n",
    "                         'mi3': [x.has_mi_during_wave(2) for i,x in  baselinePop._people.iteritems()],\n",
    "                         'mi4': [x.has_mi_during_wave(3) for i,x in  baselinePop._people.iteritems()],\n",
    "                         'mi5': [x.has_mi_during_wave(4) for i,x in  baselinePop._people.iteritems()],\n",
    "                         'stroke1': [x.has_stroke_during_wave(0) for i,x in  baselinePop._people.iteritems()],\n",
    "                         'stroke2': [x.has_stroke_during_wave(1) for i,x in  baselinePop._people.iteritems()],\n",
    "                         'stroke3': [x.has_stroke_during_wave(2) for i,x in  baselinePop._people.iteritems()],\n",
    "                         'stroke4': [x.has_stroke_during_wave(3) for i,x in  baselinePop._people.iteritems()],\n",
    "                         'stroke5': [x.has_stroke_during_wave(4) for i,x in  baselinePop._people.iteritems()],                         'age' : [x._age[0] for i,x in  baselinePop._people.iteritems()],\n",
    "                         'dead1': [x.is_dead() and len(x._age)==1 for i,x in  baselinePop._people.iteritems()],\n",
    "                         'dead2': [x.is_dead() and len(x._age)==2 for i,x in  baselinePop._people.iteritems()],\n",
    "                         'dead3': [x.is_dead() and len(x._age)==3 for i,x in  baselinePop._people.iteritems()],\n",
    "                         'dead4': [x.is_dead() and len(x._age)==4 for i,x in  baselinePop._people.iteritems()],\n",
    "                         'dead5': [x.is_dead() and len(x._age)==5 for i,x in  baselinePop._people.iteritems()],                         \n",
    "                         'age' : [x._age[0] for i,x in  baselinePop._people.iteritems()],\n",
    "                         'allhat' : [x.allhat_candidate(0) for i,x in  baselinePop._people.iteritems()]})\n",
    "\n",
    "treatedEvents = pd.DataFrame({'mi1': [x.has_mi_during_wave(0) for i,x in  popExtraBpMed._people.iteritems()],\n",
    "                         'mi2': [x.has_mi_during_wave(1) for i,x in  popExtraBpMed._people.iteritems()],\n",
    "                         'mi3': [x.has_mi_during_wave(2) for i,x in  popExtraBpMed._people.iteritems()],\n",
    "                         'mi4': [x.has_mi_during_wave(3) for i,x in  popExtraBpMed._people.iteritems()],\n",
    "                         'mi5': [x.has_mi_during_wave(4) for i,x in  popExtraBpMed._people.iteritems()],\n",
    "                         'stroke1': [x.has_stroke_during_wave(0) for i,x in  popExtraBpMed._people.iteritems()],\n",
    "                         'stroke2': [x.has_stroke_during_wave(1) for i,x in  popExtraBpMed._people.iteritems()],\n",
    "                         'stroke3': [x.has_stroke_during_wave(2) for i,x in  popExtraBpMed._people.iteritems()],\n",
    "                         'stroke4': [x.has_stroke_during_wave(3) for i,x in  popExtraBpMed._people.iteritems()],\n",
    "                         'stroke5': [x.has_stroke_during_wave(4) for i,x in  popExtraBpMed._people.iteritems()],                         \n",
    "                         'age' : [x._age[0] for i,x in  popExtraBpMed._people.iteritems()],\n",
    "                         'dead1': [x.is_dead() and len(x._age)==1 for i,x in  popExtraBpMed._people.iteritems()],\n",
    "                         'dead2': [x.is_dead() and len(x._age)==2 for i,x in  popExtraBpMed._people.iteritems()],\n",
    "                         'dead3': [x.is_dead() and len(x._age)==3 for i,x in  popExtraBpMed._people.iteritems()],\n",
    "                         'dead4': [x.is_dead() and len(x._age)==4 for i,x in  popExtraBpMed._people.iteritems()],\n",
    "                         'dead5': [x.is_dead() and len(x._age)==5 for i,x in  popExtraBpMed._people.iteritems()],                         \n",
    "                         'allhat' : [x.allhat_candidate(0) for i,x in  popExtraBpMed._people.iteritems()]})"
   ]
  },
  {
   "cell_type": "code",
   "execution_count": 82,
   "metadata": {},
   "outputs": [],
   "source": [
    "untreatedEvents['treatment'] = 0\n",
    "treatedEvents['treatment'] = 1\n",
    "allEvents = pd.concat([untreatedEvents, treatedEvents], ignore_index=True)\n",
    "allEvents['id'] = allEvents.index"
   ]
  },
  {
   "cell_type": "code",
   "execution_count": 139,
   "metadata": {},
   "outputs": [],
   "source": [
    "reshapedLong = pd.wide_to_long(allEvents,stubnames=['mi', 'stroke', 'dead'], i='id', j='wave')\n",
    "reshapedLong = reshapedLong.sort_index()\n",
    "reshapedLong['waveAsColumn'] = reshapedLong.index.get_level_values('wave')\n",
    "reshapedLong.loc[reshapedLong.dead, 'diedInWaveTemp'] = reshapedLong.waveAsColumn\n",
    "reshapedLong['diedInWave'] = reshapedLong.groupby('id')['diedInWaveTemp'].max()\n",
    "reshapedLong['diedInWave'] = reshapedLong.groupby(['id'])['diedInWaveTemp'].transform(max)\n",
    "reshapedLong = reshapedLong.loc[reshapedLong.waveAsColumn <= reshapedLong.diedInWave]\n",
    "reshapedLong.drop(['diedInWaveTemp', 'diedInWave'], axis='columns', inplace=True)"
   ]
  },
  {
   "cell_type": "code",
   "execution_count": 168,
   "metadata": {},
   "outputs": [
    {
     "name": "stdout",
     "output_type": "stream",
     "text": [
      "\n",
      "HR of treatment on stroke: 0.78\n",
      "\n",
      "HR of treatment on MI: 0.68\n"
     ]
    }
   ],
   "source": [
    "from lifelines import CoxPHFitter\n",
    "\n",
    "cph = CoxPHFitter()\n",
    "cph.fit(reshapedLong[['stroke', 'waveAsColumn', 'treatment']], duration_col='waveAsColumn', event_col='stroke', show_progress=False)\n",
    "print(f\"\\nHR of treatment on stroke: {np.exp(cph.params_[0]):.2f}\")\n",
    "\n",
    "cph.fit(reshapedLong[['mi', 'waveAsColumn', 'treatment']], duration_col='waveAsColumn', event_col='mi', show_progress=False)\n",
    "print(f\"\\nHR of treatment on MI: {np.exp(cph.params_[0]):.2f}\")\n",
    "\n",
    "\n",
    "#cph.print_summary()  # access the results using cph.summary"
   ]
  },
  {
   "cell_type": "markdown",
   "metadata": {},
   "source": [
    "### possible theories: \n",
    "<ol><li> applying a fixed point blood pressure lowering effect is unrealistic...we need to sample from distributions, although i doubt that changes things much...</li>\n",
    "<li> is there a duaraiton effect here? the estimates are based off of multiple eyars...looking at one year might miss the boat because the highest risk peopel are jumping first...</li>\n",
    "<li> population parameters don't line up with ALLHAT (our population is older, BPs are quite a bit higher here — so maybe we haven't gotten the population right. although, i'm not sure about the direction of the relative effcts, this may be workign in our favor</li>\n",
    "<li> observational BP lowering estimates are fundamentally diconnected from trial based estimates (i.e. ASCVD is not calibrated with the trials - could directly test this with the model...</li>\n",
    "<li> what does the specification of a causal effect mean here? does a BP med cause a 4 point constant reduction in your BP? does it lower your BP one and then you return to baseline?</li>\n",
    "</ol>"
   ]
  },
  {
   "cell_type": "code",
   "execution_count": 38,
   "metadata": {},
   "outputs": [],
   "source": [
    "from mcm.outcome import OutcomeType\n",
    "\n",
    "eventsByAgeUntreated = pd.DataFrame({'stroke0' : [x.has_stroke_during_wave(0) for i,x in  baselinePop._people.iteritems()],\n",
    "                         'stroke1' : [x.has_stroke_during_wave(1) for i,x in  baselinePop._people.iteritems()],\n",
    "                         'stroke2' : [x.has_stroke_during_wave(2) for i,x in  baselinePop._people.iteritems()],\n",
    "                         'stroke3' : [x.has_stroke_during_wave(3) for i,x in  baselinePop._people.iteritems()],\n",
    "                         'stroke4' : [x.has_stroke_during_wave(4) for i,x in  baselinePop._people.iteritems()],\n",
    "                         'mi0' : [x.has_mi_during_wave(0) for i,x in  baselinePop._people.iteritems()],\n",
    "                         'mi1' : [x.has_mi_during_wave(1) for i,x in  baselinePop._people.iteritems()],\n",
    "                         'mi2' : [x.has_mi_during_wave(2) for i,x in  baselinePop._people.iteritems()],\n",
    "                         'mi3' : [x.has_mi_during_wave(3) for i,x in  baselinePop._people.iteritems()],\n",
    "                         'mi4' : [x.has_mi_during_wave(4) for i,x in  baselinePop._people.iteritems()]})\n",
    "\n",
    "eventsByAgeTreated = pd.DataFrame({'stroke0' : [x.has_stroke_during_wave(0) for i,x in  popExtraBpMed._people.iteritems()],\n",
    "                         'stroke1' : [x.has_stroke_during_wave(1) for i,x in  popExtraBpMed._people.iteritems()],\n",
    "                         'stroke2' : [x.has_stroke_during_wave(2) for i,x in  popExtraBpMed._people.iteritems()],\n",
    "                         'stroke3' : [x.has_stroke_during_wave(3) for i,x in  popExtraBpMed._people.iteritems()],\n",
    "                         'stroke4' : [x.has_stroke_during_wave(4) for i,x in  popExtraBpMed._people.iteritems()],\n",
    "                         'mi0' : [x.has_mi_during_wave(0) for i,x in  popExtraBpMed._people.iteritems()],\n",
    "                         'mi1' : [x.has_mi_during_wave(1) for i,x in  popExtraBpMed._people.iteritems()],\n",
    "                         'mi2' : [x.has_mi_during_wave(2) for i,x in  popExtraBpMed._people.iteritems()],\n",
    "                         'mi3' : [x.has_mi_during_wave(3) for i,x in  popExtraBpMed._people.iteritems()],\n",
    "                         'mi4' : [x.has_mi_during_wave(4) for i,x in  popExtraBpMed._people.iteritems()]})\n"
   ]
  },
  {
   "cell_type": "code",
   "execution_count": 39,
   "metadata": {},
   "outputs": [
    {
     "data": {
      "text/plain": [
       "Text(0.5,1,'Stroke Rates by temporal wave with treatment')"
      ]
     },
     "execution_count": 39,
     "metadata": {},
     "output_type": "execute_result"
    },
    {
     "data": {
      "image/png": "[encoded data removed]",
      "text/plain": [
       "<Figure size 432x288 with 1 Axes>"
      ]
     },
     "metadata": {},
     "output_type": "display_data"
    }
   ],
   "source": [
    "strokeUntreated = [eventsByAgeUntreated.stroke0.mean(),\n",
    "                        eventsByAgeUntreated.stroke1.mean(),\n",
    "                        eventsByAgeUntreated.stroke2.mean(),\n",
    "                        eventsByAgeUntreated.stroke3.mean(),\n",
    "                        eventsByAgeUntreated.stroke4.mean()]\n",
    "strokeUntreatedError = np.array([eventsByAgeUntreated.stroke0.sem(),\n",
    "                        eventsByAgeUntreated.stroke1.sem(),\n",
    "                        eventsByAgeUntreated.stroke2.sem(),\n",
    "                        eventsByAgeUntreated.stroke3.sem(),\n",
    "                        eventsByAgeUntreated.stroke4.sem()])*1.96\n",
    "strokeTreated = [eventsByAgeTreated.stroke0.mean(),\n",
    "                        eventsByAgeTreated.stroke1.mean(),\n",
    "                        eventsByAgeTreated.stroke2.mean(),\n",
    "                        eventsByAgeTreated.stroke3.mean(),\n",
    "                        eventsByAgeTreated.stroke4.mean()]\n",
    "strokeTreatedError = np.array([eventsByAgeTreated.stroke0.sem(),\n",
    "                        eventsByAgeTreated.stroke1.sem(),\n",
    "                        eventsByAgeTreated.stroke2.sem(),\n",
    "                        eventsByAgeTreated.stroke3.sem(),\n",
    "                        eventsByAgeTreated.stroke4.sem()])*1.96\n",
    "\n",
    "plt.bar(np.arange(0,5),strokeUntreated ,yerr=strokeUntreatedError, width=0.4, capsize=3,label=\"Untreated\")\n",
    "plt.bar(np.arange(0.4,5.4, 1), strokeTreated, yerr=strokeTreatedError, width=0.4, capsize=3, label=\"Treated\")\n",
    "plt.legend(loc=2)\n",
    "plt.title(\"Stroke Rates by temporal wave with treatment\")"
   ]
  },
  {
   "cell_type": "code",
   "execution_count": 39,
   "metadata": {},
   "outputs": [
    {
     "data": {
      "text/plain": [
       "0    0.525831\n",
       "1    0.731114\n",
       "2    0.753403\n",
       "3    0.770199\n",
       "4    0.695305\n",
       "dtype: float64"
      ]
     },
     "execution_count": 39,
     "metadata": {},
     "output_type": "execute_result"
    }
   ],
   "source": [
    "pd.Series(strokeTreated)/pd.Series(strokeUntreated)"
   ]
  },
  {
   "cell_type": "code",
   "execution_count": 40,
   "metadata": {},
   "outputs": [
    {
     "data": {
      "text/plain": [
       "Text(0.5,1,'MI Rates by temporal wave with treatment')"
      ]
     },
     "execution_count": 40,
     "metadata": {},
     "output_type": "execute_result"
    },
    {
     "data": {
      "image/png": "[encoded data removed]",
      "text/plain": [
       "<Figure size 432x288 with 1 Axes>"
      ]
     },
     "metadata": {},
     "output_type": "display_data"
    }
   ],
   "source": [
    "miUntreated = [eventsByAgeUntreated.mi0.mean(),\n",
    "                        eventsByAgeUntreated.mi1.mean(),\n",
    "                        eventsByAgeUntreated.mi2.mean(),\n",
    "                        eventsByAgeUntreated.mi3.mean(),\n",
    "                        eventsByAgeUntreated.mi4.mean()]\n",
    "\n",
    "miUntreatedError = np.array([eventsByAgeUntreated.mi0.sem(),\n",
    "                        eventsByAgeUntreated.mi1.sem(),\n",
    "                        eventsByAgeUntreated.mi2.sem(),\n",
    "                        eventsByAgeUntreated.mi3.sem(),\n",
    "                        eventsByAgeUntreated.mi4.sem()])*1.96\n",
    "miTreated = [eventsByAgeTreated.mi0.mean(),\n",
    "                        eventsByAgeTreated.mi1.mean(),\n",
    "                        eventsByAgeTreated.mi2.mean(),\n",
    "                        eventsByAgeTreated.mi3.mean(),\n",
    "                        eventsByAgeTreated.mi4.mean()]\n",
    "miTreatedError = np.array([eventsByAgeTreated.mi0.sem(),\n",
    "                        eventsByAgeTreated.mi1.sem(),\n",
    "                        eventsByAgeTreated.mi2.sem(),\n",
    "                        eventsByAgeTreated.mi3.sem(),\n",
    "                        eventsByAgeTreated.mi4.sem()])*1.96\n",
    "\n",
    "plt.bar(np.arange(0,5), miUntreated, yerr=miUntreatedError, width=0.4, capsize=3, label=\"Untreated\")\n",
    "plt.bar(np.arange(0.4,5.4, 1), miTreated, yerr=miTreatedError, width=0.4, capsize=3, label=\"Treated\")\n",
    "plt.legend(loc=2)\n",
    "plt.title(\"MI Rates by temporal wave with treatment\")"
   ]
  },
  {
   "cell_type": "code",
   "execution_count": 41,
   "metadata": {},
   "outputs": [
    {
     "data": {
      "text/plain": [
       "0    0.527752\n",
       "1    0.841329\n",
       "2    0.783892\n",
       "3    0.796563\n",
       "4    0.799263\n",
       "dtype: float64"
      ]
     },
     "execution_count": 41,
     "metadata": {},
     "output_type": "execute_result"
    }
   ],
   "source": [
    "pd.Series(miTreated)/pd.Series(miUntreated)"
   ]
  },
  {
   "cell_type": "code",
   "execution_count": null,
   "metadata": {},
   "outputs": [],
   "source": []
  },
  {
   "cell_type": "code",
   "execution_count": null,
   "metadata": {},
   "outputs": [],
   "source": []
  },
  {
   "cell_type": "code",
   "execution_count": null,
   "metadata": {},
   "outputs": [],
   "source": []
  }
 ],
 "metadata": {
  "kernelspec": {
   "display_name": "Python 3",
   "language": "python",
   "name": "python3"
  },
  "language_info": {
   "codemirror_mode": {
    "name": "ipython",
    "version": 3
   },
   "file_extension": ".py",
   "mimetype": "text/x-python",
   "name": "python",
   "nbconvert_exporter": "python",
   "pygments_lexer": "ipython3",
   "version": "3.6.5"
  }
 },
 "nbformat": 4,
 "nbformat_minor": 2
}
