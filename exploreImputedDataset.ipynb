{
 "cells": [
  {
   "cell_type": "code",
   "execution_count": 1,
   "metadata": {},
   "outputs": [],
   "source": [
    "%load_ext autoreload\n",
    "%autoreload 2\n",
    "\n",
    "import pandas as pd\n",
    "import numpy as np\n",
    "import os\n",
    "\n",
    "pd.set_option('display.max_columns', None)"
   ]
  },
  {
   "cell_type": "markdown",
   "metadata": {},
   "source": [
    "### Let's look at the overall dataset to think about risk factors distributions\n",
    "\n"
   ]
  },
  {
   "cell_type": "code",
   "execution_count": 8,
   "metadata": {},
   "outputs": [
    {
     "data": {
      "text/html": [
       "<div>\n",
       "<style scoped>\n",
       "    .dataframe tbody tr th:only-of-type {\n",
       "        vertical-align: middle;\n",
       "    }\n",
       "\n",
       "    .dataframe tbody tr th {\n",
       "        vertical-align: top;\n",
       "    }\n",
       "\n",
       "    .dataframe thead th {\n",
       "        text-align: right;\n",
       "    }\n",
       "</style>\n",
       "<table border=\"1\" class=\"dataframe\">\n",
       "  <thead>\n",
       "    <tr style=\"text-align: right;\">\n",
       "      <th></th>\n",
       "      <th>index</th>\n",
       "      <th>WTINT2YR</th>\n",
       "      <th>a1c</th>\n",
       "      <th>age</th>\n",
       "      <th>bmi</th>\n",
       "      <th>diedBy2011</th>\n",
       "      <th>gender</th>\n",
       "      <th>hdl</th>\n",
       "      <th>ldl</th>\n",
       "      <th>timeInUS</th>\n",
       "      <th>tot_chol</th>\n",
       "      <th>trig</th>\n",
       "      <th>weight</th>\n",
       "      <th>year</th>\n",
       "      <th>meanSBP</th>\n",
       "      <th>meanDBP</th>\n",
       "      <th>raceEthnicity</th>\n",
       "      <th>smokingStatus</th>\n",
       "    </tr>\n",
       "  </thead>\n",
       "  <tbody>\n",
       "    <tr>\n",
       "      <th>0</th>\n",
       "      <td>0</td>\n",
       "      <td>102641.406474</td>\n",
       "      <td>5.1</td>\n",
       "      <td>22.0</td>\n",
       "      <td>23.3</td>\n",
       "      <td>0</td>\n",
       "      <td>1.0</td>\n",
       "      <td>41.0</td>\n",
       "      <td>110.0</td>\n",
       "      <td>NaN</td>\n",
       "      <td>168.0</td>\n",
       "      <td>0.948</td>\n",
       "      <td>69.2</td>\n",
       "      <td>2011</td>\n",
       "      <td>110.666667</td>\n",
       "      <td>74.666667</td>\n",
       "      <td>3</td>\n",
       "      <td>0</td>\n",
       "    </tr>\n",
       "    <tr>\n",
       "      <th>1</th>\n",
       "      <td>1</td>\n",
       "      <td>127351.373299</td>\n",
       "      <td>4.9</td>\n",
       "      <td>44.0</td>\n",
       "      <td>23.2</td>\n",
       "      <td>0</td>\n",
       "      <td>2.0</td>\n",
       "      <td>28.0</td>\n",
       "      <td>151.0</td>\n",
       "      <td>NaN</td>\n",
       "      <td>190.0</td>\n",
       "      <td>0.632</td>\n",
       "      <td>67.2</td>\n",
       "      <td>2011</td>\n",
       "      <td>118.000000</td>\n",
       "      <td>60.000000</td>\n",
       "      <td>3</td>\n",
       "      <td>0</td>\n",
       "    </tr>\n",
       "    <tr>\n",
       "      <th>2</th>\n",
       "      <td>2</td>\n",
       "      <td>14391.778470</td>\n",
       "      <td>5.4</td>\n",
       "      <td>21.0</td>\n",
       "      <td>20.1</td>\n",
       "      <td>0</td>\n",
       "      <td>1.0</td>\n",
       "      <td>43.0</td>\n",
       "      <td>73.0</td>\n",
       "      <td>NaN</td>\n",
       "      <td>132.0</td>\n",
       "      <td>0.881</td>\n",
       "      <td>54.6</td>\n",
       "      <td>2011</td>\n",
       "      <td>124.666667</td>\n",
       "      <td>78.000000</td>\n",
       "      <td>5</td>\n",
       "      <td>0</td>\n",
       "    </tr>\n",
       "    <tr>\n",
       "      <th>3</th>\n",
       "      <td>3</td>\n",
       "      <td>26960.774346</td>\n",
       "      <td>5.6</td>\n",
       "      <td>43.0</td>\n",
       "      <td>33.3</td>\n",
       "      <td>0</td>\n",
       "      <td>2.0</td>\n",
       "      <td>73.0</td>\n",
       "      <td>68.0</td>\n",
       "      <td>NaN</td>\n",
       "      <td>169.0</td>\n",
       "      <td>1.592</td>\n",
       "      <td>98.6</td>\n",
       "      <td>2011</td>\n",
       "      <td>102.000000</td>\n",
       "      <td>71.333333</td>\n",
       "      <td>4</td>\n",
       "      <td>2</td>\n",
       "    </tr>\n",
       "    <tr>\n",
       "      <th>4</th>\n",
       "      <td>4</td>\n",
       "      <td>24912.668432</td>\n",
       "      <td>5.0</td>\n",
       "      <td>80.0</td>\n",
       "      <td>33.9</td>\n",
       "      <td>0</td>\n",
       "      <td>1.0</td>\n",
       "      <td>54.0</td>\n",
       "      <td>132.0</td>\n",
       "      <td>NaN</td>\n",
       "      <td>203.0</td>\n",
       "      <td>1.084</td>\n",
       "      <td>95.8</td>\n",
       "      <td>2011</td>\n",
       "      <td>98.000000</td>\n",
       "      <td>38.000000</td>\n",
       "      <td>3</td>\n",
       "      <td>0</td>\n",
       "    </tr>\n",
       "  </tbody>\n",
       "</table>\n",
       "</div>"
      ],
      "text/plain": [
       "   index       WTINT2YR  a1c   age   bmi  diedBy2011  gender   hdl    ldl  \\\n",
       "0      0  102641.406474  5.1  22.0  23.3           0     1.0  41.0  110.0   \n",
       "1      1  127351.373299  4.9  44.0  23.2           0     2.0  28.0  151.0   \n",
       "2      2   14391.778470  5.4  21.0  20.1           0     1.0  43.0   73.0   \n",
       "3      3   26960.774346  5.6  43.0  33.3           0     2.0  73.0   68.0   \n",
       "4      4   24912.668432  5.0  80.0  33.9           0     1.0  54.0  132.0   \n",
       "\n",
       "   timeInUS  tot_chol   trig  weight  year     meanSBP    meanDBP  \\\n",
       "0       NaN     168.0  0.948    69.2  2011  110.666667  74.666667   \n",
       "1       NaN     190.0  0.632    67.2  2011  118.000000  60.000000   \n",
       "2       NaN     132.0  0.881    54.6  2011  124.666667  78.000000   \n",
       "3       NaN     169.0  1.592    98.6  2011  102.000000  71.333333   \n",
       "4       NaN     203.0  1.084    95.8  2011   98.000000  38.000000   \n",
       "\n",
       "  raceEthnicity smokingStatus  \n",
       "0             3             0  \n",
       "1             3             0  \n",
       "2             5             0  \n",
       "3             4             2  \n",
       "4             3             0  "
      ]
     },
     "execution_count": 8,
     "metadata": {},
     "output_type": "execute_result"
    }
   ],
   "source": [
    "nhanes = pd.read_stata(\"fullyImputedDataset.dta\")\n",
    "nhanes.head()"
   ]
  },
  {
   "cell_type": "markdown",
   "metadata": {},
   "source": [
    "## Problem 1: Variables are  non-normally distributted \n",
    "Not terrible for BP and HDL, but pretty awful for a1c\n",
    "\n"
   ]
  },
  {
   "cell_type": "code",
   "execution_count": 9,
   "metadata": {},
   "outputs": [
    {
     "data": {
      "text/plain": [
       "<matplotlib.axes._subplots.AxesSubplot at 0x1161ee908>"
      ]
     },
     "execution_count": 9,
     "metadata": {},
     "output_type": "execute_result"
    },
    {
     "data": {
      "image/png": "[encoded data removed]",
      "text/plain": [
       "<Figure size 432x288 with 1 Axes>"
      ]
     },
     "metadata": {},
     "output_type": "display_data"
    }
   ],
   "source": [
    "nhanes.meanSBP.hist()\n",
    "\n",
    "nhanes.a1c.hist()\n",
    "\n",
    "nhanes.hdl.hist()\n",
    "\n",
    "nhanes.tot_chol.hist()\n",
    "\n",
    "nhanes.age.hist()"
   ]
  },
  {
   "cell_type": "markdown",
   "metadata": {},
   "source": [
    "## Problem 2 — Risk factors are correlated\n",
    "\n"
   ]
  },
  {
   "cell_type": "code",
   "execution_count": 10,
   "metadata": {},
   "outputs": [
    {
     "data": {
      "text/plain": [
       "<matplotlib.collections.PathCollection at 0x107510710>"
      ]
     },
     "execution_count": 10,
     "metadata": {},
     "output_type": "execute_result"
    },
    {
     "data": {
      "image/png": "[encoded data removed]",
      "text/plain": [
       "<Figure size 432x288 with 1 Axes>"
      ]
     },
     "metadata": {},
     "output_type": "display_data"
    }
   ],
   "source": [
    "import matplotlib.pyplot as plt\n",
    "%matplotlib inline  \n",
    "\n",
    "plt.scatter(nhanes.age, nhanes.meanSBP)\n",
    "\n",
    "plt.scatter(nhanes.hdl, nhanes.meanSBP)\n",
    "\n",
    "plt.scatter(nhanes.a1c, nhanes.meanSBP)\n",
    "\n",
    "plt.scatter(nhanes.hdl, nhanes.a1c)"
   ]
  },
  {
   "cell_type": "markdown",
   "metadata": {},
   "source": [
    "\n",
    "\n",
    "## So...does it matter?\n",
    "\n",
    "So, there are two key questions, i think:\n",
    "1. Does our data reproduce NHANES — if we have enough outliers that are problematic enough, then with repeated sampling we might end up with samples that are pretty far off from the main sample by luck...\n",
    "\n"
   ]
  },
  {
   "cell_type": "code",
   "execution_count": 11,
   "metadata": {},
   "outputs": [
    {
     "name": "stdout",
     "output_type": "stream",
     "text": [
      "count    263112.000000\n",
      "mean         46.912136\n",
      "std          17.390264\n",
      "min          19.000000\n",
      "25%          33.000000\n",
      "50%          45.000000\n",
      "75%          61.000000\n",
      "max          85.000000\n",
      "Name: age, dtype: float64\n",
      "count    13504.00000\n",
      "mean        46.86878\n",
      "std         17.36586\n",
      "min         19.00000\n",
      "25%         33.00000\n",
      "50%         45.00000\n",
      "75%         61.00000\n",
      "max         85.00000\n",
      "Name: age, dtype: float64\n",
      "count    263112.000000\n",
      "mean        122.917355\n",
      "std          19.186178\n",
      "min          76.666667\n",
      "25%         110.000000\n",
      "50%         119.333333\n",
      "75%         132.000000\n",
      "max         252.000000\n",
      "Name: meanSBP, dtype: float64\n",
      "count    13504.000000\n",
      "mean       122.872334\n",
      "std         19.177544\n",
      "min         76.666667\n",
      "25%        110.000000\n",
      "50%        119.333333\n",
      "75%        132.000000\n",
      "max        252.000000\n",
      "Name: meanSBP, dtype: float64\n",
      "count    263112.00000\n",
      "mean          5.76143\n",
      "std           1.15219\n",
      "min           3.50000\n",
      "25%           5.20000\n",
      "50%           5.50000\n",
      "75%           5.80000\n",
      "max          17.50000\n",
      "Name: a1c, dtype: float64\n",
      "count    13504.000000\n",
      "mean         5.760826\n",
      "std          1.154849\n",
      "min          3.500000\n",
      "25%          5.200000\n",
      "50%          5.500000\n",
      "75%          5.800000\n",
      "max         17.500000\n",
      "Name: a1c, dtype: float64\n",
      "[[1.         0.53068627]\n",
      " [0.53068627 1.        ]]\n",
      "[[1.         0.52920126]\n",
      " [0.52920126 1.        ]]\n",
      "[[1.         0.22035337]\n",
      " [0.22035337 1.        ]]\n",
      "[[1.         0.21847378]\n",
      " [0.21847378 1.        ]]\n",
      "[[ 1.         -0.13597157]\n",
      " [-0.13597157  1.        ]]\n",
      "[[ 1.         -0.13674084]\n",
      " [-0.13674084  1.        ]]\n"
     ]
    }
   ],
   "source": [
    "\n",
    "largeSample = nhanes.sample(1000000, replace=True).dropna()\n",
    "\n",
    "print(largeSample.age.describe())\n",
    "print(nhanes.dropna().age.describe())\n",
    "\n",
    "print(largeSample.meanSBP.describe())\n",
    "print(nhanes.dropna().meanSBP.describe())\n",
    "\n",
    "print(largeSample.a1c.describe())\n",
    "print(nhanes.dropna().a1c.describe())\n",
    "\n",
    "print( np.corrcoef (largeSample.age, largeSample.meanSBP))\n",
    "print (np.corrcoef(nhanes.dropna().age, nhanes.dropna().meanSBP))\n",
    "\n",
    "print( np.corrcoef (largeSample.meanSBP, largeSample.a1c))\n",
    "print (np.corrcoef(nhanes.dropna().meanSBP, nhanes.dropna().a1c))\n",
    "\n",
    "print( np.corrcoef (largeSample.hdl, largeSample.a1c))\n",
    "print (np.corrcoef(nhanes.dropna().hdl, nhanes.dropna().a1c))\n"
   ]
  },
  {
   "cell_type": "markdown",
   "metadata": {},
   "source": [
    "\n",
    "It Looks like this this isn't going to be a huge problem — a large sample pretty nicely reproduces the mean, variation adn the the correlations in teh underlyign data structure reasonably well. This isn't a guarantee that everythign will work well, but I think it means that we can get away with a relatively simple approach.\n",
    "\n",
    "For a single year, just sample with replacement from NHANES, while applying weights.\n",
    "\n",
    "For mulitple years, it'll be a little trickier — but, we can probably combine mulitple years of data, and then \n",
    "\n",
    "\n"
   ]
  },
  {
   "cell_type": "code",
   "execution_count": null,
   "metadata": {},
   "outputs": [],
   "source": []
  }
 ],
 "metadata": {
  "kernelspec": {
   "display_name": "Python 3",
   "language": "python",
   "name": "python3"
  },
  "language_info": {
   "codemirror_mode": {
    "name": "ipython",
    "version": 3
   },
   "file_extension": ".py",
   "mimetype": "text/x-python",
   "name": "python",
   "nbconvert_exporter": "python",
   "pygments_lexer": "ipython3",
   "version": "3.7.4"
  }
 },
 "nbformat": 4,
 "nbformat_minor": 2
}
