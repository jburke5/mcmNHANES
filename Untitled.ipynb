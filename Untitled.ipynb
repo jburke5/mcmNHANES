{
 "cells": [
  {
   "cell_type": "code",
   "execution_count": 6,
   "metadata": {},
   "outputs": [],
   "source": [
    "import os \n",
    "import pandas as  pd"
   ]
  },
  {
   "cell_type": "code",
   "execution_count": 13,
   "metadata": {},
   "outputs": [],
   "source": [
    "os.chdir(\"/Users/burke/Documents/research/bpCog/nhanes/sourceData/nhanesRawData/2009-2010\")"
   ]
  },
  {
   "cell_type": "code",
   "execution_count": 14,
   "metadata": {},
   "outputs": [],
   "source": [
    "mort = pd.read_sas(\"2009Mortality.xpt\")"
   ]
  },
  {
   "cell_type": "code",
   "execution_count": 15,
   "metadata": {},
   "outputs": [
    {
     "data": {
      "text/html": [
       "<div>\n",
       "<style scoped>\n",
       "    .dataframe tbody tr th:only-of-type {\n",
       "        vertical-align: middle;\n",
       "    }\n",
       "\n",
       "    .dataframe tbody tr th {\n",
       "        vertical-align: top;\n",
       "    }\n",
       "\n",
       "    .dataframe thead th {\n",
       "        text-align: right;\n",
       "    }\n",
       "</style>\n",
       "<table border=\"1\" class=\"dataframe\">\n",
       "  <thead>\n",
       "    <tr style=\"text-align: right;\">\n",
       "      <th></th>\n",
       "      <th>PUBLICID</th>\n",
       "      <th>SEQN</th>\n",
       "      <th>ELIGSTAT</th>\n",
       "      <th>MORTSTAT</th>\n",
       "      <th>CAUSEAVL</th>\n",
       "      <th>UCOD_LEA</th>\n",
       "      <th>DIABETES</th>\n",
       "      <th>HYPERTEN</th>\n",
       "      <th>DODQTR</th>\n",
       "      <th>DODYEAR</th>\n",
       "      <th>WGT_NEW</th>\n",
       "      <th>SA_WGT_N</th>\n",
       "      <th>PERMTH_I</th>\n",
       "      <th>PERMTH_E</th>\n",
       "      <th>MORTSRCE</th>\n",
       "      <th>MORTSRC2</th>\n",
       "      <th>MORTSRC3</th>\n",
       "      <th>MORTSRC4</th>\n",
       "      <th>MORTSRC5</th>\n",
       "    </tr>\n",
       "  </thead>\n",
       "  <tbody>\n",
       "    <tr>\n",
       "      <th>0</th>\n",
       "      <td>b'51624'</td>\n",
       "      <td>51624.0</td>\n",
       "      <td>1.0</td>\n",
       "      <td>5.397605e-79</td>\n",
       "      <td>NaN</td>\n",
       "      <td>b''</td>\n",
       "      <td>NaN</td>\n",
       "      <td>NaN</td>\n",
       "      <td>NaN</td>\n",
       "      <td>NaN</td>\n",
       "      <td>NaN</td>\n",
       "      <td>NaN</td>\n",
       "      <td>35.0</td>\n",
       "      <td>34.0</td>\n",
       "      <td>NaN</td>\n",
       "      <td>NaN</td>\n",
       "      <td>NaN</td>\n",
       "      <td>NaN</td>\n",
       "      <td>NaN</td>\n",
       "    </tr>\n",
       "    <tr>\n",
       "      <th>1</th>\n",
       "      <td>b'51625'</td>\n",
       "      <td>51625.0</td>\n",
       "      <td>2.0</td>\n",
       "      <td>NaN</td>\n",
       "      <td>NaN</td>\n",
       "      <td>b''</td>\n",
       "      <td>NaN</td>\n",
       "      <td>NaN</td>\n",
       "      <td>NaN</td>\n",
       "      <td>NaN</td>\n",
       "      <td>NaN</td>\n",
       "      <td>NaN</td>\n",
       "      <td>NaN</td>\n",
       "      <td>NaN</td>\n",
       "      <td>NaN</td>\n",
       "      <td>NaN</td>\n",
       "      <td>NaN</td>\n",
       "      <td>NaN</td>\n",
       "      <td>NaN</td>\n",
       "    </tr>\n",
       "    <tr>\n",
       "      <th>2</th>\n",
       "      <td>b'51626'</td>\n",
       "      <td>51626.0</td>\n",
       "      <td>2.0</td>\n",
       "      <td>NaN</td>\n",
       "      <td>NaN</td>\n",
       "      <td>b''</td>\n",
       "      <td>NaN</td>\n",
       "      <td>NaN</td>\n",
       "      <td>NaN</td>\n",
       "      <td>NaN</td>\n",
       "      <td>NaN</td>\n",
       "      <td>NaN</td>\n",
       "      <td>NaN</td>\n",
       "      <td>NaN</td>\n",
       "      <td>NaN</td>\n",
       "      <td>NaN</td>\n",
       "      <td>NaN</td>\n",
       "      <td>NaN</td>\n",
       "      <td>NaN</td>\n",
       "    </tr>\n",
       "    <tr>\n",
       "      <th>3</th>\n",
       "      <td>b'51627'</td>\n",
       "      <td>51627.0</td>\n",
       "      <td>2.0</td>\n",
       "      <td>NaN</td>\n",
       "      <td>NaN</td>\n",
       "      <td>b''</td>\n",
       "      <td>NaN</td>\n",
       "      <td>NaN</td>\n",
       "      <td>NaN</td>\n",
       "      <td>NaN</td>\n",
       "      <td>NaN</td>\n",
       "      <td>NaN</td>\n",
       "      <td>NaN</td>\n",
       "      <td>NaN</td>\n",
       "      <td>NaN</td>\n",
       "      <td>NaN</td>\n",
       "      <td>NaN</td>\n",
       "      <td>NaN</td>\n",
       "      <td>NaN</td>\n",
       "    </tr>\n",
       "    <tr>\n",
       "      <th>4</th>\n",
       "      <td>b'51628'</td>\n",
       "      <td>51628.0</td>\n",
       "      <td>1.0</td>\n",
       "      <td>5.397605e-79</td>\n",
       "      <td>NaN</td>\n",
       "      <td>b''</td>\n",
       "      <td>NaN</td>\n",
       "      <td>NaN</td>\n",
       "      <td>NaN</td>\n",
       "      <td>NaN</td>\n",
       "      <td>NaN</td>\n",
       "      <td>NaN</td>\n",
       "      <td>15.0</td>\n",
       "      <td>14.0</td>\n",
       "      <td>NaN</td>\n",
       "      <td>NaN</td>\n",
       "      <td>NaN</td>\n",
       "      <td>NaN</td>\n",
       "      <td>NaN</td>\n",
       "    </tr>\n",
       "  </tbody>\n",
       "</table>\n",
       "</div>"
      ],
      "text/plain": [
       "   PUBLICID     SEQN  ELIGSTAT      MORTSTAT  CAUSEAVL UCOD_LEA  DIABETES  \\\n",
       "0  b'51624'  51624.0       1.0  5.397605e-79       NaN      b''       NaN   \n",
       "1  b'51625'  51625.0       2.0           NaN       NaN      b''       NaN   \n",
       "2  b'51626'  51626.0       2.0           NaN       NaN      b''       NaN   \n",
       "3  b'51627'  51627.0       2.0           NaN       NaN      b''       NaN   \n",
       "4  b'51628'  51628.0       1.0  5.397605e-79       NaN      b''       NaN   \n",
       "\n",
       "   HYPERTEN  DODQTR  DODYEAR  WGT_NEW  SA_WGT_N  PERMTH_I  PERMTH_E  MORTSRCE  \\\n",
       "0       NaN     NaN      NaN      NaN       NaN      35.0      34.0       NaN   \n",
       "1       NaN     NaN      NaN      NaN       NaN       NaN       NaN       NaN   \n",
       "2       NaN     NaN      NaN      NaN       NaN       NaN       NaN       NaN   \n",
       "3       NaN     NaN      NaN      NaN       NaN       NaN       NaN       NaN   \n",
       "4       NaN     NaN      NaN      NaN       NaN      15.0      14.0       NaN   \n",
       "\n",
       "   MORTSRC2  MORTSRC3  MORTSRC4  MORTSRC5  \n",
       "0       NaN       NaN       NaN       NaN  \n",
       "1       NaN       NaN       NaN       NaN  \n",
       "2       NaN       NaN       NaN       NaN  \n",
       "3       NaN       NaN       NaN       NaN  \n",
       "4       NaN       NaN       NaN       NaN  "
      ]
     },
     "execution_count": 15,
     "metadata": {},
     "output_type": "execute_result"
    }
   ],
   "source": [
    "mort.head()"
   ]
  },
  {
   "cell_type": "code",
   "execution_count": 21,
   "metadata": {},
   "outputs": [
    {
     "data": {
      "text/plain": [
       "Series([], Name: DODYEAR, dtype: int64)"
      ]
     },
     "execution_count": 21,
     "metadata": {},
     "output_type": "execute_result"
    }
   ],
   "source": [
    "mort.DODYEAR.value_counts()"
   ]
  },
  {
   "cell_type": "code",
   "execution_count": 17,
   "metadata": {},
   "outputs": [
    {
     "data": {
      "text/plain": [
       "b''       10403\n",
       "b'002'       40\n",
       "b'010'       36\n",
       "b'001'       29\n",
       "b'003'        8\n",
       "b'004'        6\n",
       "b'005'        5\n",
       "b'008'        5\n",
       "b'007'        5\n",
       "Name: UCOD_LEA, dtype: int64"
      ]
     },
     "execution_count": 17,
     "metadata": {},
     "output_type": "execute_result"
    }
   ],
   "source": [
    "mort.UCOD_LEA.value_counts()"
   ]
  },
  {
   "cell_type": "code",
   "execution_count": null,
   "metadata": {},
   "outputs": [],
   "source": []
  }
 ],
 "metadata": {
  "kernelspec": {
   "display_name": "Python 3",
   "language": "python",
   "name": "python3"
  },
  "language_info": {
   "codemirror_mode": {
    "name": "ipython",
    "version": 3
   },
   "file_extension": ".py",
   "mimetype": "text/x-python",
   "name": "python",
   "nbconvert_exporter": "python",
   "pygments_lexer": "ipython3",
   "version": "3.6.5"
  }
 },
 "nbformat": 4,
 "nbformat_minor": 2
}
