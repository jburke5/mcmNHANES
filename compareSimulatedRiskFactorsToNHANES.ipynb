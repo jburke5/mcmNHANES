{
 "cells": [
  {
   "cell_type": "code",
   "execution_count": 1,
   "metadata": {
    "collapsed": false
   },
   "outputs": [
    {
     "data": {
      "text/html": [
       "<div>\n",
       "<style scoped>\n",
       "    .dataframe tbody tr th:only-of-type {\n",
       "        vertical-align: middle;\n",
       "    }\n",
       "\n",
       "    .dataframe tbody tr th {\n",
       "        vertical-align: top;\n",
       "    }\n",
       "\n",
       "    .dataframe thead th {\n",
       "        text-align: right;\n",
       "    }\n",
       "</style>\n",
       "<table border=\"1\" class=\"dataframe\">\n",
       "  <thead>\n",
       "    <tr style=\"text-align: right;\">\n",
       "      <th></th>\n",
       "      <th>index</th>\n",
       "      <th>WTINT2YR</th>\n",
       "      <th>a1c</th>\n",
       "      <th>age</th>\n",
       "      <th>bmi</th>\n",
       "      <th>diedBy2011</th>\n",
       "      <th>gender</th>\n",
       "      <th>hdl</th>\n",
       "      <th>ldl</th>\n",
       "      <th>timeInUS</th>\n",
       "      <th>tot_chol</th>\n",
       "      <th>trig</th>\n",
       "      <th>weight</th>\n",
       "      <th>year</th>\n",
       "      <th>meanSBP</th>\n",
       "      <th>meanDBP</th>\n",
       "      <th>raceEthnicity</th>\n",
       "      <th>smokingStatus</th>\n",
       "    </tr>\n",
       "  </thead>\n",
       "  <tbody>\n",
       "    <tr>\n",
       "      <th>0</th>\n",
       "      <td>0</td>\n",
       "      <td>102641.406474</td>\n",
       "      <td>5.1</td>\n",
       "      <td>22.0</td>\n",
       "      <td>23.3</td>\n",
       "      <td>0</td>\n",
       "      <td>1.0</td>\n",
       "      <td>41.0</td>\n",
       "      <td>110.0</td>\n",
       "      <td>NaN</td>\n",
       "      <td>168.0</td>\n",
       "      <td>0.948</td>\n",
       "      <td>69.2</td>\n",
       "      <td>2011</td>\n",
       "      <td>110.666667</td>\n",
       "      <td>74.666667</td>\n",
       "      <td>3</td>\n",
       "      <td>0</td>\n",
       "    </tr>\n",
       "    <tr>\n",
       "      <th>1</th>\n",
       "      <td>1</td>\n",
       "      <td>127351.373299</td>\n",
       "      <td>4.9</td>\n",
       "      <td>44.0</td>\n",
       "      <td>23.2</td>\n",
       "      <td>0</td>\n",
       "      <td>2.0</td>\n",
       "      <td>28.0</td>\n",
       "      <td>151.0</td>\n",
       "      <td>NaN</td>\n",
       "      <td>190.0</td>\n",
       "      <td>0.632</td>\n",
       "      <td>67.2</td>\n",
       "      <td>2011</td>\n",
       "      <td>118.000000</td>\n",
       "      <td>60.000000</td>\n",
       "      <td>3</td>\n",
       "      <td>0</td>\n",
       "    </tr>\n",
       "    <tr>\n",
       "      <th>2</th>\n",
       "      <td>2</td>\n",
       "      <td>14391.778470</td>\n",
       "      <td>5.4</td>\n",
       "      <td>21.0</td>\n",
       "      <td>20.1</td>\n",
       "      <td>0</td>\n",
       "      <td>1.0</td>\n",
       "      <td>43.0</td>\n",
       "      <td>73.0</td>\n",
       "      <td>NaN</td>\n",
       "      <td>132.0</td>\n",
       "      <td>0.881</td>\n",
       "      <td>54.6</td>\n",
       "      <td>2011</td>\n",
       "      <td>124.666667</td>\n",
       "      <td>78.000000</td>\n",
       "      <td>5</td>\n",
       "      <td>0</td>\n",
       "    </tr>\n",
       "    <tr>\n",
       "      <th>3</th>\n",
       "      <td>3</td>\n",
       "      <td>26960.774346</td>\n",
       "      <td>5.6</td>\n",
       "      <td>43.0</td>\n",
       "      <td>33.3</td>\n",
       "      <td>0</td>\n",
       "      <td>2.0</td>\n",
       "      <td>73.0</td>\n",
       "      <td>68.0</td>\n",
       "      <td>NaN</td>\n",
       "      <td>169.0</td>\n",
       "      <td>1.592</td>\n",
       "      <td>98.6</td>\n",
       "      <td>2011</td>\n",
       "      <td>102.000000</td>\n",
       "      <td>71.333333</td>\n",
       "      <td>4</td>\n",
       "      <td>2</td>\n",
       "    </tr>\n",
       "    <tr>\n",
       "      <th>4</th>\n",
       "      <td>4</td>\n",
       "      <td>24912.668432</td>\n",
       "      <td>5.0</td>\n",
       "      <td>80.0</td>\n",
       "      <td>33.9</td>\n",
       "      <td>0</td>\n",
       "      <td>1.0</td>\n",
       "      <td>54.0</td>\n",
       "      <td>132.0</td>\n",
       "      <td>NaN</td>\n",
       "      <td>203.0</td>\n",
       "      <td>1.084</td>\n",
       "      <td>95.8</td>\n",
       "      <td>2011</td>\n",
       "      <td>98.000000</td>\n",
       "      <td>38.000000</td>\n",
       "      <td>3</td>\n",
       "      <td>0</td>\n",
       "    </tr>\n",
       "  </tbody>\n",
       "</table>\n",
       "</div>"
      ],
      "text/plain": [
       "   index       WTINT2YR  a1c   age   bmi  diedBy2011  gender   hdl    ldl  \\\n",
       "0      0  102641.406474  5.1  22.0  23.3           0     1.0  41.0  110.0   \n",
       "1      1  127351.373299  4.9  44.0  23.2           0     2.0  28.0  151.0   \n",
       "2      2   14391.778470  5.4  21.0  20.1           0     1.0  43.0   73.0   \n",
       "3      3   26960.774346  5.6  43.0  33.3           0     2.0  73.0   68.0   \n",
       "4      4   24912.668432  5.0  80.0  33.9           0     1.0  54.0  132.0   \n",
       "\n",
       "   timeInUS  tot_chol   trig  weight  year     meanSBP    meanDBP  \\\n",
       "0       NaN     168.0  0.948    69.2  2011  110.666667  74.666667   \n",
       "1       NaN     190.0  0.632    67.2  2011  118.000000  60.000000   \n",
       "2       NaN     132.0  0.881    54.6  2011  124.666667  78.000000   \n",
       "3       NaN     169.0  1.592    98.6  2011  102.000000  71.333333   \n",
       "4       NaN     203.0  1.084    95.8  2011   98.000000  38.000000   \n",
       "\n",
       "  raceEthnicity smokingStatus  \n",
       "0             3             0  \n",
       "1             3             0  \n",
       "2             5             0  \n",
       "3             4             2  \n",
       "4             3             0  "
      ]
     },
     "execution_count": 1,
     "metadata": {},
     "output_type": "execute_result"
    }
   ],
   "source": [
    "%load_ext autoreload\n",
    "%autoreload 2\n",
    "\n",
    "import pandas as pd\n",
    "import numpy as np\n",
    "import os\n",
    "\n",
    "pd.set_option('display.max_columns', None)\n",
    "\n",
    "imputedDataset = pd.read_stata(\"/Users/burke/Documents/research/bpCog/mcm/mcm/data/fullyImputedDataset.dta\")\n",
    "imputedDataset.head()"
   ]
  },
  {
   "cell_type": "markdown",
   "metadata": {},
   "source": [
    "# Now the goal is to see what the risk factors would look like for the NHANES 1999 population, if we advanced them to 20110\n",
    "\n",
    "For the NHANES side of things, we want the blood pressure distribution in 2011 that excludes people that moved into the coutnry in the prior 12 years (since 1999). \n",
    "\n",
    "For the simulation side of things, we'll need to load the mortality data so that we can take out the poeple that died between 1999 and 2011.\n",
    "\n"
   ]
  },
  {
   "cell_type": "code",
   "execution_count": 2,
   "metadata": {
    "collapsed": false
   },
   "outputs": [
    {
     "name": "stdout",
     "output_type": "stream",
     "text": [
      "count    4297.000000\n",
      "mean      123.872547\n",
      "std        18.095625\n",
      "min        80.666667\n",
      "25%       112.000000\n",
      "50%       121.333333\n",
      "75%       132.666667\n",
      "max       220.000000\n",
      "Name: meanSBP, dtype: float64\n"
     ]
    },
    {
     "data": {
      "text/plain": [
       "<matplotlib.axes._subplots.AxesSubplot at 0x1101ce048>"
      ]
     },
     "execution_count": 2,
     "metadata": {},
     "output_type": "execute_result"
    },
    {
     "data": {
      "image/png": "[encoded data removed]",
      "text/plain": [
       "<Figure size 432x288 with 1 Axes>"
      ]
     },
     "metadata": {},
     "output_type": "display_data"
    }
   ],
   "source": [
    "% matplotlib inline\n",
    "noRecentUSInmigration = imputedDataset.loc[~imputedDataset.timeInUS.isin([1,2,3])]\n",
    "recentCrossSectionOfNonImmigrants = noRecentUSInmigration.loc[noRecentUSInmigration.year==2011]\n",
    "# the simulated cohort starts in 1999 and then ages people forward 11 years...so, teh youngest age is 29\n",
    "recentCrossSectionOfNonImmigrants = recentCrossSectionOfNonImmigrants.loc[recentCrossSectionOfNonImmigrants.age > 18 +11]\n",
    "recentCrossSectionOfNonImmigrants = recentCrossSectionOfNonImmigrants.sample(n=len(recentCrossSectionOfNonImmigrants), weights=recentCrossSectionOfNonImmigrants.WTINT2YR, replace=True)\n",
    "\n",
    "\n",
    "print (recentCrossSectionOfNonImmigrants.meanSBP.describe())\n",
    "recentCrossSectionOfNonImmigrants.meanSBP.hist()"
   ]
  },
  {
   "cell_type": "code",
   "execution_count": 3,
   "metadata": {
    "collapsed": false
   },
   "outputs": [
    {
     "name": "stdout",
     "output_type": "stream",
     "text": [
      "count    5306.000000\n",
      "mean      123.603656\n",
      "std        19.742903\n",
      "min        83.333333\n",
      "25%       110.000000\n",
      "50%       120.000000\n",
      "75%       132.666667\n",
      "max       228.000000\n",
      "Name: meanSBP, dtype: float64\n"
     ]
    },
    {
     "data": {
      "text/plain": [
       "<matplotlib.axes._subplots.AxesSubplot at 0x1102a3c88>"
      ]
     },
     "execution_count": 3,
     "metadata": {},
     "output_type": "execute_result"
    },
    {
     "data": {
      "image/png": "[encoded data removed]",
      "text/plain": [
       "<Figure size 432x288 with 1 Axes>"
      ]
     },
     "metadata": {},
     "output_type": "display_data"
    }
   ],
   "source": [
    "earlyCrossSectionOfNonImmigrants = imputedDataset.loc[imputedDataset.year==2001]\n",
    "# here we just need to throw out the very young people for comparisons\n",
    "earlyCrossSectionOfNonImmigrants = earlyCrossSectionOfNonImmigrants.loc[earlyCrossSectionOfNonImmigrants.age > 18 + 2]\n",
    "earlyCrossSectionOfNonImmigrants = earlyCrossSectionOfNonImmigrants.sample(n=len(earlyCrossSectionOfNonImmigrants), weights=earlyCrossSectionOfNonImmigrants.WTINT2YR, replace=True)\n",
    "\n",
    "print (earlyCrossSectionOfNonImmigrants.meanSBP.describe())\n",
    "\n",
    "earlyCrossSectionOfNonImmigrants.meanSBP.hist()"
   ]
  },
  {
   "cell_type": "markdown",
   "metadata": {},
   "source": [
    "Reasons that our risk factors might not match up with what we hoped:\n",
    "- Non-normality of the underlying blood pressures and failure to to accoutn for high outliers, in particular\n",
    "- Failure to update other risk factors over time, dragging down the other population means - i dont' think that's likely to be it...after fixing the DBP model, it didn't fix much...\n",
    "- We didn't kill poeple off yet — not it...using the survivors, we don't see anythnig..."
   ]
  },
  {
   "cell_type": "code",
   "execution_count": 6,
   "metadata": {
    "collapsed": false
   },
   "outputs": [
    {
     "name": "stdout",
     "output_type": "stream",
     "text": [
      "count    4393.000000\n",
      "mean      116.945062\n",
      "std         6.830689\n",
      "min        99.984181\n",
      "25%       111.987082\n",
      "50%       116.160592\n",
      "75%       121.137680\n",
      "max       175.886016\n",
      "dtype: float64\n"
     ]
    },
    {
     "data": {
      "image/png": "[encoded data removed]",
      "text/plain": [
       "<Figure size 432x288 with 1 Axes>"
      ]
     },
     "metadata": {},
     "output_type": "display_data"
    }
   ],
   "source": [
    "% matplotlib inline\n",
    "import os\n",
    "os.chdir(\"/Users/burke/Documents/research/bpCog/mcm\")\n",
    "from mcm.population import NHANESDirectSamplePopulation\n",
    "\n",
    "pop = NHANESDirectSamplePopulation(n=5000, year=1999)\n",
    "pop.advance(10)\n",
    "\n",
    "sbps = pd.Series([ person._sbp[-1] for person in pop._people if not person.diedBy2011])\n",
    "sbps.hist()\n",
    "print(sbps.describe())"
   ]
  },
  {
   "cell_type": "code",
   "execution_count": null,
   "metadata": {
    "collapsed": true
   },
   "outputs": [],
   "source": []
  },
  {
   "cell_type": "code",
   "execution_count": 77,
   "metadata": {
    "collapsed": false
   },
   "outputs": [
    {
     "data": {
      "text/plain": [
       "count    5000.000000\n",
       "mean      121.703525\n",
       "std         9.635639\n",
       "min        89.829102\n",
       "25%       115.234236\n",
       "50%       121.144197\n",
       "75%       127.929761\n",
       "max       167.493409\n",
       "dtype: float64"
      ]
     },
     "execution_count": 77,
     "metadata": {},
     "output_type": "execute_result"
    }
   ],
   "source": [
    "from mcm.log_linear_risk_factor_model import LogLinearRiskFactorModel\n",
    "from statsmodels.regression.linear_model import OLSResults\n",
    "\n",
    "modelResults = OLSResults.load(\"mcm/data/logSBPModel.pickle\")\n",
    "\n",
    "sbpModel = LogLinearRiskFactorModel(\"sbp\", modelResults.params, modelResults.bse, modelResults.resid)\n",
    "\n",
    "estiamtes = [sbpModel.estimate_next_risk(age = pd.Series([person._age[0] for person in pop._people]).mean(),\n",
    "                            gender=pd.Series([person._gender for person in pop._people]).mean(),\n",
    "                            race_ethnicity=pd.Series([person._race_ethnicity for person in pop._people]).mean(),\n",
    "                            sbp=pd.Series([person._sbp[0] for person in pop._people]).mean(),\n",
    "                            dbp=pd.Series([person._dbp[0] for person in pop._people]).mean(),\n",
    "                            a1c=pd.Series([person._a1c[0] for person in pop._people]).mean(),\n",
    "                            hdl=pd.Series([person._hdl[0] for person in pop._people]).mean(),\n",
    "                            chol=pd.Series([person._tot_chol[0] for person in pop._people]).mean(),\n",
    "                            bmi=pd.Series([person._bmi[0] for person in pop._people]).mean(),\n",
    "                            smoking_status=pd.Series([person._smoking_status for person in pop._people]).mean())\n",
    "             for count in range(5000)]\n",
    "pd.Series(estiamtes).describe()\n",
    "                            "
   ]
  },
  {
   "cell_type": "code",
   "execution_count": 80,
   "metadata": {
    "collapsed": false
   },
   "outputs": [
    {
     "data": {
      "text/plain": [
       "count    5.000000e+03\n",
       "mean     7.210553e+01\n",
       "std      1.272732e+01\n",
       "min      5.397605e-79\n",
       "25%      6.533333e+01\n",
       "50%      7.266667e+01\n",
       "75%      7.933333e+01\n",
       "max      1.206667e+02\n",
       "dtype: float64"
      ]
     },
     "execution_count": 80,
     "metadata": {},
     "output_type": "execute_result"
    }
   ],
   "source": [
    "pd.Series([person._dbp[0] for person in pop._people]).describe()"
   ]
  },
  {
   "cell_type": "markdown",
   "metadata": {},
   "source": [
    "One thing that needs to be figured out...is the problem that smoking status and BMI (particularly BMI) arne't figuring into the regression models...we're essentially aasuming that everybody has a 0 BMI...and BMI has a nin-trivial effect on BP...that could push the means down, right?"
   ]
  }
 ],
 "metadata": {
  "kernelspec": {
   "display_name": "Python 3",
   "language": "python",
   "name": "python3"
  },
  "language_info": {
   "codemirror_mode": {
    "name": "ipython",
    "version": 3
   },
   "file_extension": ".py",
   "mimetype": "text/x-python",
   "name": "python",
   "nbconvert_exporter": "python",
   "pygments_lexer": "ipython3",
   "version": "3.6.5"
  }
 },
 "nbformat": 4,
 "nbformat_minor": 2
}
