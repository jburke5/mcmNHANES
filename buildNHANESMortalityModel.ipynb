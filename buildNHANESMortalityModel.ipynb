{
 "cells": [
  {
   "cell_type": "markdown",
   "metadata": {},
   "source": [
    "### Data setup"
   ]
  },
  {
   "cell_type": "code",
   "execution_count": null,
   "metadata": {},
   "outputs": [],
   "source": [
    "import pandas as pd\n",
    "pd.set_option('display.max_columns', None)\n",
    "\n",
    "imputedDataset = pd.read_stata(\"/Users/burke/Documents/research/bpCog/mcm/mcm/data/fullyImputedDataset.dta\")"
   ]
  },
  {
   "cell_type": "code",
   "execution_count": 2,
   "metadata": {},
   "outputs": [
    {
     "data": {
      "text/html": [
       "<div>\n",
       "<style scoped>\n",
       "    .dataframe tbody tr th:only-of-type {\n",
       "        vertical-align: middle;\n",
       "    }\n",
       "\n",
       "    .dataframe tbody tr th {\n",
       "        vertical-align: top;\n",
       "    }\n",
       "\n",
       "    .dataframe thead th {\n",
       "        text-align: right;\n",
       "    }\n",
       "</style>\n",
       "<table border=\"1\" class=\"dataframe\">\n",
       "  <thead>\n",
       "    <tr style=\"text-align: right;\">\n",
       "      <th></th>\n",
       "      <th>Surv prob</th>\n",
       "      <th>Surv prob SE</th>\n",
       "      <th>num at risk</th>\n",
       "      <th>num events</th>\n",
       "    </tr>\n",
       "    <tr>\n",
       "      <th>Time</th>\n",
       "      <th></th>\n",
       "      <th></th>\n",
       "      <th></th>\n",
       "      <th></th>\n",
       "    </tr>\n",
       "  </thead>\n",
       "  <tbody>\n",
       "    <tr>\n",
       "      <th>5.397605e-79</th>\n",
       "      <td>0.999646</td>\n",
       "      <td>0.000102</td>\n",
       "      <td>33902</td>\n",
       "      <td>12.0</td>\n",
       "    </tr>\n",
       "    <tr>\n",
       "      <th>1.000000e+00</th>\n",
       "      <td>0.999233</td>\n",
       "      <td>0.000150</td>\n",
       "      <td>33889</td>\n",
       "      <td>14.0</td>\n",
       "    </tr>\n",
       "    <tr>\n",
       "      <th>2.000000e+00</th>\n",
       "      <td>0.998083</td>\n",
       "      <td>0.000238</td>\n",
       "      <td>33874</td>\n",
       "      <td>39.0</td>\n",
       "    </tr>\n",
       "    <tr>\n",
       "      <th>3.000000e+00</th>\n",
       "      <td>0.997227</td>\n",
       "      <td>0.000286</td>\n",
       "      <td>33834</td>\n",
       "      <td>29.0</td>\n",
       "    </tr>\n",
       "    <tr>\n",
       "      <th>4.000000e+00</th>\n",
       "      <td>0.996313</td>\n",
       "      <td>0.000329</td>\n",
       "      <td>33805</td>\n",
       "      <td>31.0</td>\n",
       "    </tr>\n",
       "  </tbody>\n",
       "</table>\n",
       "</div>"
      ],
      "text/plain": [
       "              Surv prob  Surv prob SE  num at risk  num events\n",
       "Time                                                          \n",
       "5.397605e-79   0.999646      0.000102        33902        12.0\n",
       "1.000000e+00   0.999233      0.000150        33889        14.0\n",
       "2.000000e+00   0.998083      0.000238        33874        39.0\n",
       "3.000000e+00   0.997227      0.000286        33834        29.0\n",
       "4.000000e+00   0.996313      0.000329        33805        31.0"
      ]
     },
     "execution_count": 2,
     "metadata": {},
     "output_type": "execute_result"
    }
   ],
   "source": [
    "import statsmodels.api as sm\n",
    "\n",
    "imputedDataset = imputedDataset.rename({'selfReportMI' : 'mi', \n",
    "                                        'selfReportStroke' : 'stroke', \n",
    "                                        'tot_chol' : 'totChol',\n",
    "                                        'meanDBP' : 'meanDbp',\n",
    "                                        'meanSBP' : 'meanSbp',\n",
    "                                        'age' : 'baseAge'}, axis='columns')\n",
    "\n",
    "imputedDataset['anyDeath'] = imputedDataset.ucod >= 1\n",
    "imputedDataset = imputedDataset.loc[imputedDataset.year < 2011] # we dont' have mortality data after this time\n",
    "#imputedDataset.monthsToDeath.loc[imputedDataset.anyDeath==0] = np.nan\n",
    "\n",
    "sf1 = sm.duration.SurvfuncRight(imputedDataset.monthsToDeath, imputedDataset.anyDeath)\n",
    "sf1.summary().head()"
   ]
  },
  {
   "cell_type": "code",
   "execution_count": 3,
   "metadata": {},
   "outputs": [
    {
     "data": {
      "image/png": "[encoded data removed]",
      "text/plain": [
       "<Figure size 432x288 with 1 Axes>"
      ]
     },
     "execution_count": 3,
     "metadata": {},
     "output_type": "execute_result"
    },
    {
     "data": {
      "image/png": "[encoded data removed]",
      "text/plain": [
       "<Figure size 432x288 with 1 Axes>"
      ]
     },
     "metadata": {},
     "output_type": "display_data"
    }
   ],
   "source": [
    "import matplotlib.pyplot as plt\n",
    "%matplotlib inline\n",
    "\n",
    "sf1.plot()"
   ]
  },
  {
   "cell_type": "markdown",
   "metadata": {},
   "source": [
    "### Build Mortality Model"
   ]
  },
  {
   "cell_type": "code",
   "execution_count": 4,
   "metadata": {
    "scrolled": true
   },
   "outputs": [
    {
     "data": {
      "text/html": [
       "<table class=\"simpletable\">\n",
       "<tr>\n",
       "        <td>Model:</td>           <td>PH Reg</td>     <td>Sample size:</td> <td>33902</td>\n",
       "</tr>\n",
       "<tr>\n",
       "  <td>Dependent variable:</td> <td>monthsToDeath</td> <td>Num. events:</td> <td>3640</td> \n",
       "</tr>\n",
       "<tr>\n",
       "         <td>Ties:</td>           <td>Breslow</td>          <td></td>         <td></td>   \n",
       "</tr>\n",
       "</table>\n",
       "<table class=\"simpletable\">\n",
       "<tr>\n",
       "           <td></td>          <th>log HR</th>  <th>log HR SE</th>   <th>HR</th>      <th>t</th>     <th>P>|t|</th> <th>[0.025</th> <th>0.975]</th>\n",
       "</tr>\n",
       "<tr>\n",
       "  <th>raceEthnicity[T.2]</th> <td>-0.0749</td>  <td>0.1004</td>   <td>0.9278</td> <td>-0.7461</td> <td>0.4556</td> <td>0.7620</td> <td>1.1297</td>\n",
       "</tr>\n",
       "<tr>\n",
       "  <th>raceEthnicity[T.3]</th> <td>0.1519</td>   <td>0.0505</td>   <td>1.1641</td> <td>3.0095</td>  <td>0.0026</td> <td>1.0544</td> <td>1.2852</td>\n",
       "</tr>\n",
       "<tr>\n",
       "  <th>raceEthnicity[T.4]</th> <td>0.3042</td>   <td>0.0595</td>   <td>1.3555</td> <td>5.1153</td>  <td>0.0000</td> <td>1.2064</td> <td>1.5231</td>\n",
       "</tr>\n",
       "<tr>\n",
       "  <th>raceEthnicity[T.5]</th> <td>-0.0242</td>  <td>0.1162</td>   <td>0.9761</td> <td>-0.2084</td> <td>0.8349</td> <td>0.7773</td> <td>1.2257</td>\n",
       "</tr>\n",
       "<tr>\n",
       "  <th>smokingStatus[T.1]</th> <td>0.2152</td>   <td>0.0387</td>   <td>1.2401</td> <td>5.5558</td>  <td>0.0000</td> <td>1.1495</td> <td>1.3379</td>\n",
       "</tr>\n",
       "<tr>\n",
       "  <th>smokingStatus[T.2]</th> <td>0.8039</td>   <td>0.0494</td>   <td>2.2343</td> <td>16.2864</td> <td>0.0000</td> <td>2.0282</td> <td>2.4612</td>\n",
       "</tr>\n",
       "<tr>\n",
       "  <th>baseAge</th>            <td>0.0086</td>   <td>0.0083</td>   <td>1.0087</td> <td>1.0395</td>  <td>0.2986</td> <td>0.9924</td> <td>1.0252</td>\n",
       "</tr>\n",
       "<tr>\n",
       "  <th>squareBaseAge</th>      <td>0.0006</td>   <td>0.0001</td>   <td>1.0006</td> <td>8.8103</td>  <td>0.0000</td> <td>1.0005</td> <td>1.0007</td>\n",
       "</tr>\n",
       "<tr>\n",
       "  <th>a1c</th>                <td>0.1181</td>   <td>0.0136</td>   <td>1.1254</td> <td>8.6815</td>  <td>0.0000</td> <td>1.0958</td> <td>1.1558</td>\n",
       "</tr>\n",
       "<tr>\n",
       "  <th>bmi</th>                <td>-0.0112</td>  <td>0.0033</td>   <td>0.9888</td> <td>-3.4257</td> <td>0.0006</td> <td>0.9825</td> <td>0.9952</td>\n",
       "</tr>\n",
       "<tr>\n",
       "  <th>gender</th>             <td>-0.2592</td>  <td>0.0377</td>   <td>0.7717</td> <td>-6.8712</td> <td>0.0000</td> <td>0.7167</td> <td>0.8309</td>\n",
       "</tr>\n",
       "<tr>\n",
       "  <th>hdl</th>                <td>-0.0001</td>  <td>0.0016</td>   <td>0.9999</td> <td>-0.0904</td> <td>0.9279</td> <td>0.9967</td> <td>1.0030</td>\n",
       "</tr>\n",
       "<tr>\n",
       "  <th>ldl</th>                <td>0.0000</td>   <td>0.0015</td>   <td>1.0000</td> <td>0.0188</td>  <td>0.9850</td> <td>0.9970</td> <td>1.0031</td>\n",
       "</tr>\n",
       "<tr>\n",
       "  <th>mi</th>                 <td>0.3956</td>   <td>0.0487</td>   <td>1.4853</td> <td>8.1304</td>  <td>0.0000</td> <td>1.3502</td> <td>1.6340</td>\n",
       "</tr>\n",
       "<tr>\n",
       "  <th>stroke</th>             <td>0.4847</td>   <td>0.0504</td>   <td>1.6237</td> <td>9.6257</td>  <td>0.0000</td> <td>1.4711</td> <td>1.7922</td>\n",
       "</tr>\n",
       "<tr>\n",
       "  <th>totChol</th>            <td>-0.0013</td>  <td>0.0015</td>   <td>0.9987</td> <td>-0.8740</td> <td>0.3821</td> <td>0.9959</td> <td>1.0016</td>\n",
       "</tr>\n",
       "<tr>\n",
       "  <th>trig</th>               <td>0.0002</td>   <td>0.0002</td>   <td>1.0002</td> <td>1.2720</td>  <td>0.2034</td> <td>0.9999</td> <td>1.0005</td>\n",
       "</tr>\n",
       "<tr>\n",
       "  <th>meanSbp</th>            <td>0.0049</td>   <td>0.0008</td>   <td>1.0049</td> <td>6.2886</td>  <td>0.0000</td> <td>1.0033</td> <td>1.0064</td>\n",
       "</tr>\n",
       "<tr>\n",
       "  <th>meanDbp</th>            <td>-0.0038</td>  <td>0.0010</td>   <td>0.9963</td> <td>-3.6512</td> <td>0.0003</td> <td>0.9942</td> <td>0.9983</td>\n",
       "</tr>\n",
       "</table>"
      ],
      "text/plain": [
       "<class 'statsmodels.iolib.summary2.Summary'>\n",
       "\"\"\"\n",
       "                             Results: PHReg\n",
       "========================================================================\n",
       "Model:                      PH Reg              Sample size:       33902\n",
       "Dependent variable:         monthsToDeath       Num. events:       3640 \n",
       "Ties:                       Breslow                                     \n",
       "------------------------------------------------------------------------\n",
       "                    log HR log HR SE   HR      t    P>|t|  [0.025 0.975]\n",
       "------------------------------------------------------------------------\n",
       "raceEthnicity[T.2] -0.0749    0.1004 0.9278 -0.7461 0.4556 0.7620 1.1297\n",
       "raceEthnicity[T.3]  0.1519    0.0505 1.1641  3.0095 0.0026 1.0544 1.2852\n",
       "raceEthnicity[T.4]  0.3042    0.0595 1.3555  5.1153 0.0000 1.2064 1.5231\n",
       "raceEthnicity[T.5] -0.0242    0.1162 0.9761 -0.2084 0.8349 0.7773 1.2257\n",
       "smokingStatus[T.1]  0.2152    0.0387 1.2401  5.5558 0.0000 1.1495 1.3379\n",
       "smokingStatus[T.2]  0.8039    0.0494 2.2343 16.2864 0.0000 2.0282 2.4612\n",
       "baseAge             0.0086    0.0083 1.0087  1.0395 0.2986 0.9924 1.0252\n",
       "squareBaseAge       0.0006    0.0001 1.0006  8.8103 0.0000 1.0005 1.0007\n",
       "a1c                 0.1181    0.0136 1.1254  8.6815 0.0000 1.0958 1.1558\n",
       "bmi                -0.0112    0.0033 0.9888 -3.4257 0.0006 0.9825 0.9952\n",
       "gender             -0.2592    0.0377 0.7717 -6.8712 0.0000 0.7167 0.8309\n",
       "hdl                -0.0001    0.0016 0.9999 -0.0904 0.9279 0.9967 1.0030\n",
       "ldl                 0.0000    0.0015 1.0000  0.0188 0.9850 0.9970 1.0031\n",
       "mi                  0.3956    0.0487 1.4853  8.1304 0.0000 1.3502 1.6340\n",
       "stroke              0.4847    0.0504 1.6237  9.6257 0.0000 1.4711 1.7922\n",
       "totChol            -0.0013    0.0015 0.9987 -0.8740 0.3821 0.9959 1.0016\n",
       "trig                0.0002    0.0002 1.0002  1.2720 0.2034 0.9999 1.0005\n",
       "meanSbp             0.0049    0.0008 1.0049  6.2886 0.0000 1.0033 1.0064\n",
       "meanDbp            -0.0038    0.0010 0.9963 -3.6512 0.0003 0.9942 0.9983\n",
       "========================================================================\n",
       "Confidence intervals are for the hazard ratios\n",
       "\"\"\""
      ]
     },
     "execution_count": 4,
     "metadata": {},
     "output_type": "execute_result"
    }
   ],
   "source": [
    "imputedDataset['squareBaseAge'] = imputedDataset['baseAge']**2\n",
    "coxModel = sm.PHReg.from_formula(\"monthsToDeath ~  baseAge + squareBaseAge + a1c + bmi + gender + hdl + ldl + mi + stroke + totChol + trig + meanSbp + meanDbp + raceEthnicity + smokingStatus\", status=\"anyDeath\", data=imputedDataset)\n",
    "results = coxModel.fit()\n",
    "results.summary()"
   ]
  },
  {
   "cell_type": "markdown",
   "metadata": {},
   "source": [
    "### Figure out how to get baseline cumulative hazard function"
   ]
  },
  {
   "cell_type": "code",
   "execution_count": 5,
   "metadata": {},
   "outputs": [],
   "source": [
    "# get the baseline cumulative hazard at one year.\n",
    "tuples = coxModel.baseline_cumulative_hazard(results.params)\n",
    "rawOneYearCumHazard = tuples[0][1][12]"
   ]
  },
  {
   "cell_type": "code",
   "execution_count": 6,
   "metadata": {},
   "outputs": [
    {
     "data": {
      "image/png": "[encoded data removed]",
      "text/plain": [
       "<Figure size 432x288 with 1 Axes>"
      ]
     },
     "metadata": {},
     "output_type": "display_data"
    }
   ],
   "source": [
    "import matplotlib.pyplot as plt\n",
    "%matplotlib inline\n",
    "import numpy as np\n",
    "\n",
    "# ok...here is a trick — the cumulative hazard curve is non linear\n",
    "# applyign the 12 month cumulative hazard (repatedly, as per our plan) is going to lead to underestimation on the long-term\n",
    "# to start, let's try and fit a simple linear model to the cmulative hazard curve \n",
    "# then plug that in as a baseline hazard\n",
    "time = tuples[0][0]\n",
    "timeYears = time/ 12\n",
    "cumSurv = tuples[0][2]\n",
    "cumHaz = tuples[0][1]\n",
    "\n",
    "\n",
    "plt.scatter(time, cumHaz )\n",
    "plt.ylim(0.000, 0.005)\n",
    "\n",
    "model = sm.OLS(cumHaz , timeYears)\n",
    "cumHazardLinearResult = model.fit()\n",
    "\n",
    "plt.scatter(time, cumHazardLinearResult.params[0] * timeYears )\n",
    "\n",
    "model = sm.OLS(cumHaz , np.column_stack((timeYears, timeYears**2)))\n",
    "cumHazardQuadResult = model.fit()\n",
    "\n",
    "quadOutcome = cumHazardQuadResult.params[0] * timeYears + cumHazardQuadResult.params[1] * timeYears**2\n",
    "plt.scatter(time, quadOutcome)\n",
    "\n",
    "plt.show()"
   ]
  },
  {
   "cell_type": "markdown",
   "metadata": {},
   "source": [
    "### So, the quadratic (green line on top of the blue line) fits very well...export to json and use for the model"
   ]
  },
  {
   "cell_type": "code",
   "execution_count": 7,
   "metadata": {},
   "outputs": [],
   "source": [
    "import sys\n",
    "import os\n",
    "sys.path.append(os.path.abspath(\"../mcm/\"))\n",
    "from mcm.cox_regression_model import CoxRegressionModel\n",
    "\n",
    "\n",
    "coxModelExport = CoxRegressionModel(dict(zip(results.model.exog_names, results.params)),\n",
    "                              dict(zip(results.model.exog_names, results.standard_errors)), \n",
    "                              cumHazardQuadResult.params[0] , cumHazardQuadResult.params[1] )\n",
    "\n",
    "coxModelExport.write_json(os.path.abspath(\"../mcm/mcm/data/nhanesMortalityModelSpec.json\"))"
   ]
  },
  {
   "cell_type": "markdown",
   "metadata": {},
   "source": [
    "### In the calibration, we find that we're-over-predicting mortality in the simluation. \n",
    "\n",
    "Possible explanations:\n",
    "<ul>\n",
    "    <li> Bad model fit in NHANES</li>\n",
    "    <li> Misimplementaiton of cumulative hazard logic</li>\n",
    "    <li> Misimplementaiton of the one year aggregation of the cumulative hazard</li>\n",
    "    <li> Coding Error </li>\n",
    "</ul>\n",
    "\n",
    "## first, let's check that the model is well-calibrated against itself..."
   ]
  },
  {
   "cell_type": "code",
   "execution_count": 9,
   "metadata": {},
   "outputs": [],
   "source": [
    "cumHazardPredicted = coxModel.predict(results.params, pred_type='cumhaz').predicted_values\n",
    "betaOutput = coxModel.predict(results.params, pred_type='lhr').predicted_values"
   ]
  },
  {
   "cell_type": "code",
   "execution_count": 10,
   "metadata": {},
   "outputs": [
    {
     "name": "stderr",
     "output_type": "stream",
     "text": [
      "/anaconda3/lib/python3.6/site-packages/pandas/core/indexing.py:189: SettingWithCopyWarning: \n",
      "A value is trying to be set on a copy of a slice from a DataFrame\n",
      "\n",
      "See the caveats in the documentation: http://pandas.pydata.org/pandas-docs/stable/indexing.html#indexing-view-versus-copy\n",
      "  self._setitem_with_indexer(indexer, value)\n"
     ]
    }
   ],
   "source": [
    "imputedDataset['monthsToDeath'] = imputedDataset['monthsToDeath'].astype(int)\n",
    "imputedDataset['monthsToDeath'].loc[imputedDataset['monthsToDeath'] >=150] = 150\n",
    "imputedDataset['cumHazardAt2011'] = cumHaz[imputedDataset.monthsToDeath]\n",
    "imputedDataset['estimatedCumHazardAt2011'] = cumHazardQuadResult.params[0] * imputedDataset.monthsToDeath/12 + cumHazardQuadResult.params[1] * (imputedDataset.monthsToDeath/12)**2"
   ]
  },
  {
   "cell_type": "code",
   "execution_count": 11,
   "metadata": {},
   "outputs": [],
   "source": [
    "imputedDataset['cumHazardPredicted'] = cumHazardPredicted\n",
    "imputedDataset['betaOutput'] = betaOutput\n",
    "imputedDataset['calcCumHazard'] = imputedDataset.cumHazardAt2011 * np.exp(imputedDataset.betaOutput)\n",
    "imputedDataset['calcCumHazardUsingEstimation'] = imputedDataset.estimatedCumHazardAt2011 * np.exp(imputedDataset.betaOutput)\n",
    "imputedDataset['delta'] = imputedDataset.cumHazardPredicted - imputedDataset.calcCumHazard"
   ]
  },
  {
   "cell_type": "code",
   "execution_count": 12,
   "metadata": {},
   "outputs": [
    {
     "data": {
      "text/html": [
       "<div>\n",
       "<style scoped>\n",
       "    .dataframe tbody tr th:only-of-type {\n",
       "        vertical-align: middle;\n",
       "    }\n",
       "\n",
       "    .dataframe tbody tr th {\n",
       "        vertical-align: top;\n",
       "    }\n",
       "\n",
       "    .dataframe thead th {\n",
       "        text-align: right;\n",
       "    }\n",
       "</style>\n",
       "<table border=\"1\" class=\"dataframe\">\n",
       "  <thead>\n",
       "    <tr style=\"text-align: right;\">\n",
       "      <th></th>\n",
       "      <th>count</th>\n",
       "      <th>mean</th>\n",
       "      <th>std</th>\n",
       "      <th>min</th>\n",
       "      <th>25%</th>\n",
       "      <th>50%</th>\n",
       "      <th>75%</th>\n",
       "      <th>max</th>\n",
       "    </tr>\n",
       "    <tr>\n",
       "      <th>anyDeath</th>\n",
       "      <th></th>\n",
       "      <th></th>\n",
       "      <th></th>\n",
       "      <th></th>\n",
       "      <th></th>\n",
       "      <th></th>\n",
       "      <th></th>\n",
       "      <th></th>\n",
       "    </tr>\n",
       "  </thead>\n",
       "  <tbody>\n",
       "    <tr>\n",
       "      <th>False</th>\n",
       "      <td>30262.0</td>\n",
       "      <td>-0.00001</td>\n",
       "      <td>0.000306</td>\n",
       "      <td>-0.037045</td>\n",
       "      <td>0.0</td>\n",
       "      <td>0.0</td>\n",
       "      <td>0.0</td>\n",
       "      <td>0.0</td>\n",
       "    </tr>\n",
       "    <tr>\n",
       "      <th>True</th>\n",
       "      <td>3640.0</td>\n",
       "      <td>0.00000</td>\n",
       "      <td>0.000000</td>\n",
       "      <td>0.000000</td>\n",
       "      <td>0.0</td>\n",
       "      <td>0.0</td>\n",
       "      <td>0.0</td>\n",
       "      <td>0.0</td>\n",
       "    </tr>\n",
       "  </tbody>\n",
       "</table>\n",
       "</div>"
      ],
      "text/plain": [
       "            count     mean       std       min  25%  50%  75%  max\n",
       "anyDeath                                                          \n",
       "False     30262.0 -0.00001  0.000306 -0.037045  0.0  0.0  0.0  0.0\n",
       "True       3640.0  0.00000  0.000000  0.000000  0.0  0.0  0.0  0.0"
      ]
     },
     "execution_count": 12,
     "metadata": {},
     "output_type": "execute_result"
    }
   ],
   "source": [
    "imputedDataset.groupby('anyDeath')['delta'].describe() "
   ]
  },
  {
   "cell_type": "markdown",
   "metadata": {},
   "source": [
    "### So, we've checked that our calculattion of the cumulative hazard lines up with what the model predicts..."
   ]
  },
  {
   "cell_type": "code",
   "execution_count": 13,
   "metadata": {},
   "outputs": [
    {
     "name": "stdout",
     "output_type": "stream",
     "text": [
      "                anyDeath  calcCumHazard  calcCumHazardUsingEstimation  \\\n",
      "ageDecile                                                               \n",
      "(18.999, 23.0]  0.008031       0.008221                      0.008203   \n",
      "(23.0, 29.0]    0.008277       0.010413                      0.010384   \n",
      "(29.0, 35.0]    0.010328       0.013298                      0.013256   \n",
      "(35.0, 41.0]    0.019808       0.019049                      0.018990   \n",
      "(41.0, 47.0]    0.030247       0.027815                      0.027732   \n",
      "(47.0, 54.0]    0.051435       0.043040                      0.042866   \n",
      "(54.0, 61.0]    0.087304       0.073388                      0.073092   \n",
      "(61.0, 69.0]    0.138024       0.138762                      0.138168   \n",
      "(69.0, 77.0]    0.236428       0.256366                      0.255392   \n",
      "(77.0, 85.0]    0.506944       0.485915                      0.483149   \n",
      "\n",
      "                  baseAge  \n",
      "ageDecile                  \n",
      "(18.999, 23.0]  20.570466  \n",
      "(23.0, 29.0]    26.498965  \n",
      "(29.0, 35.0]    32.441677  \n",
      "(35.0, 41.0]    38.537815  \n",
      "(41.0, 47.0]    44.478086  \n",
      "(47.0, 54.0]    51.002842  \n",
      "(54.0, 61.0]    58.327151  \n",
      "(61.0, 69.0]    65.261010  \n",
      "(69.0, 77.0]    73.230646  \n",
      "(77.0, 85.0]    81.519928  \n"
     ]
    },
    {
     "data": {
      "text/plain": [
       "<matplotlib.legend.Legend at 0x1c2612a550>"
      ]
     },
     "execution_count": 13,
     "metadata": {},
     "output_type": "execute_result"
    },
    {
     "data": {
      "image/png": "[encoded data removed]",
      "text/plain": [
       "<Figure size 432x288 with 1 Axes>"
      ]
     },
     "metadata": {},
     "output_type": "display_data"
    }
   ],
   "source": [
    "imputedDataset['ageDecile'] = pd.qcut(imputedDataset.baseAge, 10)\n",
    "output = imputedDataset.groupby('ageDecile')[['anyDeath', 'calcCumHazard', 'calcCumHazardUsingEstimation', 'baseAge']].mean()\n",
    "print(output)\n",
    "plt.bar(output.index.codes+0.5, output.anyDeath, width=0.5, label=\"actualDeath\")\n",
    "plt.bar(output.index.codes, output.calcCumHazard, width=0.5, label=\"estimated\")\n",
    "plt.legend()"
   ]
  },
  {
   "cell_type": "markdown",
   "metadata": {},
   "source": [
    "### So, we do not have a fundamental failure of model calibration...it looks pretty good in the sample it was derived from. Also, we tested our quadratic estimate on the baseline hazard and it looks like it also performs well.\n",
    "\n",
    "However there was one interesting potential lesson here — if the times to event are a little bit off it can lead to very different conclusions. "
   ]
  },
  {
   "cell_type": "markdown",
   "metadata": {},
   "source": [
    "### One other thing to check that came up when validating the overall simulation against NHANES...is there under-prediciton in teh oldest old under long follow-up? Let's specifically check"
   ]
  },
  {
   "cell_type": "code",
   "execution_count": 14,
   "metadata": {},
   "outputs": [],
   "source": [
    "earlyCrossSectionOfNonImmigrants = pd.read_stata(\"/Users/burke/Documents/research/bpCog/nhanes/earlyCrossSectionOfNonImmigrants.dta\")\n",
    "earlyCrossSectionOfNonImmigrants['ageDecile'] = pd.qcut(earlyCrossSectionOfNonImmigrants.age, 10)\n",
    "earlyCrossSectionOfNonImmigrants['squareBaseAge'] = earlyCrossSectionOfNonImmigrants.age**2\n",
    "\n",
    "earlyCrossSectionOfNonImmigrants = earlyCrossSectionOfNonImmigrants.rename({'selfReportMI' : 'mi', \n",
    "                                        'selfReportStroke' : 'stroke', \n",
    "                                        'tot_chol' : 'totChol',\n",
    "                                        'meanDBP' : 'meanDbp',\n",
    "                                        'meanSBP' : 'meanSbp',\n",
    "                                        'age' : 'baseAge'}, axis='columns')\n",
    "\n",
    "earlyCrossSectionOfNonImmigrants = pd.concat([earlyCrossSectionOfNonImmigrants, pd.get_dummies(earlyCrossSectionOfNonImmigrants.raceEthnicity, prefix='raceEthnicity')], axis=1)\n",
    "earlyCrossSectionOfNonImmigrants = pd.concat([earlyCrossSectionOfNonImmigrants, pd.get_dummies(earlyCrossSectionOfNonImmigrants.smokingStatus, prefix='smokingStatus')], axis=1)"
   ]
  },
  {
   "cell_type": "code",
   "execution_count": 15,
   "metadata": {},
   "outputs": [],
   "source": [
    "variablesForModel = earlyCrossSectionOfNonImmigrants[['raceEthnicity_2', 'raceEthnicity_3', 'raceEthnicity_4', 'raceEthnicity_5', 'smokingStatus_1', 'smokingStatus_2','baseAge', 'squareBaseAge', 'a1c','bmi','gender', 'hdl', 'ldl','mi','stroke', 'totChol', 'trig', 'meanSbp', 'meanDbp']]\n",
    "\n",
    "cumHazardPredicted = coxModel.predict(results.params, exog=variablesForModel, endog=earlyCrossSectionOfNonImmigrants.monthsToDeath,\n",
    "                                      pred_type='cumhaz').predicted_values\n",
    "earlyCrossSectionOfNonImmigrants['cumHazardPredicted'] = cumHazardPredicted"
   ]
  },
  {
   "cell_type": "code",
   "execution_count": 16,
   "metadata": {},
   "outputs": [
    {
     "name": "stdout",
     "output_type": "stream",
     "text": [
      "                diedBy2011  cumHazardPredicted\n",
      "ageDecile                                     \n",
      "(20.999, 26.0]    0.014337            0.016932\n",
      "(26.0, 31.0]      0.019190            0.019315\n",
      "(31.0, 36.0]      0.012739            0.023175\n",
      "(36.0, 40.0]      0.037895            0.031946\n",
      "(40.0, 45.0]      0.036851            0.037682\n",
      "(45.0, 49.0]      0.064877            0.056182\n",
      "(49.0, 54.0]      0.066253            0.075511\n",
      "(54.0, 60.0]      0.098655            0.108546\n",
      "(60.0, 72.0]      0.218075            0.216124\n",
      "(72.0, 85.0]      0.611940            0.584430\n"
     ]
    },
    {
     "data": {
      "text/plain": [
       "<matplotlib.legend.Legend at 0x1c260772b0>"
      ]
     },
     "execution_count": 16,
     "metadata": {},
     "output_type": "execute_result"
    },
    {
     "data": {
      "image/png": "[encoded data removed]",
      "text/plain": [
       "<Figure size 432x288 with 1 Axes>"
      ]
     },
     "metadata": {},
     "output_type": "display_data"
    }
   ],
   "source": [
    "output = earlyCrossSectionOfNonImmigrants.groupby('ageDecile')[['diedBy2011', 'cumHazardPredicted']].mean()\n",
    "print(output)\n",
    "plt.bar(output.index.codes+0.5, output.diedBy2011, width=0.5, label=\"actualDeath\")\n",
    "plt.bar(output.index.codes, output.cumHazardPredicted, width=0.5, label=\"estimated\")\n",
    "plt.legend()"
   ]
  },
  {
   "cell_type": "markdown",
   "metadata": {},
   "source": [
    "### Doesn't look like it — using the NHANES based dataset (earlyImmigrants) for comparison of long term mortality and then running the predictions using the model estiamted here, we're getting very similar predictions to what we saw in the whle sample..."
   ]
  },
  {
   "cell_type": "markdown",
   "metadata": {},
   "source": [
    "### So, the next step is to run the model on these same data and comapre...first, we'll run the model with our implementtation of the cox model. THen we'll run the markov-ed version"
   ]
  },
  {
   "cell_type": "code",
   "execution_count": 19,
   "metadata": {},
   "outputs": [],
   "source": [
    "from mcm.gender import NHANESGender\n",
    "from mcm.person import Person\n",
    "from mcm.outcome import Outcome\n",
    "from mcm.race_ethnicity import NHANESRaceEthnicity\n",
    "from mcm.smoking_status import SmokingStatus\n",
    "from mcm.cohort_risk_model_repository import CohortRiskModelRepository\n",
    "from mcm.outcome_model_repository import OutcomeModelRepository"
   ]
  },
  {
   "cell_type": "code",
   "execution_count": 21,
   "metadata": {},
   "outputs": [],
   "source": [
    "import os \n",
    "\n",
    "cohortModel = OutcomeModelRepository()\n",
    "riskModel = CohortRiskModelRepository()\n",
    "\n",
    "def calcMortalityRunningFullModel(x):\n",
    "        temp =  Person(\n",
    "            age=x.baseAge,\n",
    "            gender=NHANESGender(int(x.gender)),\n",
    "            raceEthnicity=NHANESRaceEthnicity(int(x.raceEthnicity)),\n",
    "            sbp=x.meanSbp,\n",
    "            dbp=x.meanDbp,\n",
    "            a1c=x.a1c,\n",
    "            hdl=x.hdl,\n",
    "            ldl=x.ldl,\n",
    "            trig=x.trig,\n",
    "            totChol=x.totChol,\n",
    "            bmi=x.bmi,\n",
    "            smokingStatus=SmokingStatus(int(x.smokingStatus)),\n",
    "            dfIndex=x.index,\n",
    "            diedBy2011=x.diedBy2011)\n",
    "        \n",
    "        for year in range(1,11):\n",
    "            if not temp.is_dead():\n",
    "                temp.advance_year(riskModel, cohortModel)\n",
    "        return temp.is_dead()\n",
    "\n",
    "\n",
    "earlyCrossSectionOfNonImmigrants['estMortalityFromModel'] = earlyCrossSectionOfNonImmigrants.apply(calcMortalityRunningFullModel, axis=1)"
   ]
  },
  {
   "cell_type": "code",
   "execution_count": 22,
   "metadata": {},
   "outputs": [
    {
     "name": "stdout",
     "output_type": "stream",
     "text": [
      "                diedBy2011  cumHazardPredicted  estMortalityFromModel\n",
      "ageDecile                                                            \n",
      "(20.999, 26.0]    0.014337            0.016932               0.005376\n",
      "(26.0, 31.0]      0.019190            0.019315               0.017058\n",
      "(31.0, 36.0]      0.012739            0.023175               0.036093\n",
      "(36.0, 40.0]      0.037895            0.031946               0.023158\n",
      "(40.0, 45.0]      0.036851            0.037682               0.038526\n",
      "(45.0, 49.0]      0.064877            0.056182               0.042506\n",
      "(49.0, 54.0]      0.066253            0.075511               0.097308\n",
      "(54.0, 60.0]      0.098655            0.108546               0.076233\n",
      "(60.0, 72.0]      0.218075            0.216124               0.198428\n",
      "(72.0, 85.0]      0.611940            0.584430               0.586354\n"
     ]
    },
    {
     "data": {
      "text/plain": [
       "<matplotlib.legend.Legend at 0x114cf45c0>"
      ]
     },
     "execution_count": 22,
     "metadata": {},
     "output_type": "execute_result"
    },
    {
     "data": {
      "image/png": "[encoded data removed]",
      "text/plain": [
       "<Figure size 432x288 with 1 Axes>"
      ]
     },
     "metadata": {},
     "output_type": "display_data"
    }
   ],
   "source": [
    "output = earlyCrossSectionOfNonImmigrants.groupby('ageDecile')[['diedBy2011', 'cumHazardPredicted',  'estMortalityFromModel']].mean()\n",
    "print(output)\n",
    "plt.bar(output.index.codes+1, output.diedBy2011, width=0.20, label=\"actualDeath\")\n",
    "plt.bar(output.index.codes+1.2, output.cumHazardPredicted, width=0.20, label=\"direct model estimate\")\n",
    "plt.bar(output.index.codes+1.6, output.estMortalityFromModel, width=0.20, label=\"full code\")\n",
    "\n",
    "plt.legend()"
   ]
  },
  {
   "cell_type": "markdown",
   "metadata": {},
   "source": [
    "### Ok...this is telling the story, i think...\n",
    "1. there is a small problem witht eh green bars — rthey should be exactly the same as the orange bars or extremely close.\n",
    " to figure that out, we can just esetimat ethe linear predictors and hazard functions for both and compare\n",
    "2. the bigger problem si that the red bars are over-estimating risk. its conceivable that whatefger the problem in #1 is is being amplified\n",
    ", but its more likely thtat there is something wrong about aggregating over time..."
   ]
  },
  {
   "cell_type": "code",
   "execution_count": 24,
   "metadata": {},
   "outputs": [],
   "source": [
    "def calcLinearPredictorUsingModel(x):\n",
    "    temp =  Person(\n",
    "            age=x.baseAge,\n",
    "            gender=NHANESGender(int(x.gender)),\n",
    "            raceEthnicity=NHANESRaceEthnicity(int(x.raceEthnicity)),\n",
    "            sbp=x.meanSbp,\n",
    "            dbp=x.meanDbp,\n",
    "            a1c=x.a1c,\n",
    "            hdl=x.hdl,\n",
    "            ldl=x.ldl,\n",
    "            trig=x.trig,\n",
    "            totChol=x.totChol,\n",
    "            bmi=x.bmi,\n",
    "            smokingStatus=SmokingStatus(int(x.smokingStatus)),\n",
    "            dfIndex=x.index,\n",
    "            diedBy2011=x.diedBy2011)\n",
    "    return statsModel.linear_predictor(temp)\n",
    "\n",
    "def calcCumHazardUsingModel(x):\n",
    "    temp =  Person(\n",
    "            age=x.baseAge,\n",
    "            gender=NHANESGender(int(x.gender)),\n",
    "            raceEthnicity=NHANESRaceEthnicity(int(x.raceEthnicity)),\n",
    "            sbp=x.meanSbp,\n",
    "            dbp=x.meanDbp,\n",
    "            a1c=x.a1c,\n",
    "            hdl=x.hdl,\n",
    "            ldl=x.ldl,\n",
    "            trig=x.trig,\n",
    "            totChol=x.totChol,\n",
    "            bmi=x.bmi,\n",
    "            smokingStatus=SmokingStatus(int(x.smokingStatus)),\n",
    "            dfIndex=x.index,\n",
    "            diedBy2011=x.diedBy2011)\n",
    "    return statsModel.get_cumulative_hazard_for_interval(0, x.monthsToDeath/12)\n",
    "\n",
    "cohortModel = OutcomeModelRepository()\n",
    "riskModel = CohortRiskModelRepository()\n",
    "\n",
    "earlyCrossSectionOfNonImmigrants['estLinearPredictorFromOurCode'] = earlyCrossSectionOfNonImmigrants.apply(calcLinearPredictorUsingModel, axis=1)\n",
    "earlyCrossSectionOfNonImmigrants['estCumHazardFromOurCode'] = earlyCrossSectionOfNonImmigrants.apply(calcCumHazardUsingModel, axis=1)\n"
   ]
  },
  {
   "cell_type": "code",
   "execution_count": 27,
   "metadata": {},
   "outputs": [],
   "source": [
    "variablesForModel = earlyCrossSectionOfNonImmigrants[['raceEthnicity_2', 'raceEthnicity_3', 'raceEthnicity_4', 'raceEthnicity_5', 'smokingStatus_1', 'smokingStatus_2','baseAge', 'squareBaseAge', 'a1c','bmi','gender', 'hdl', 'ldl','mi','stroke', 'totChol', 'trig', 'meanSbp', 'meanDbp']]\n",
    "\n",
    "linearPredictorPredicted = coxModel.predict(results.params, exog=variablesForModel, endog=earlyCrossSectionOfNonImmigrants.monthsToDeath,\n",
    "                                      pred_type='lhr').predicted_values\n",
    "earlyCrossSectionOfNonImmigrants['linearPredictorFromCox'] = linearPredictorPredicted\n",
    "earlyCrossSectionOfNonImmigrants['baselineHazardFromCox'] = cumHaz[earlyCrossSectionOfNonImmigrants.monthsToDeath.astype(int)]"
   ]
  },
  {
   "cell_type": "code",
   "execution_count": 28,
   "metadata": {},
   "outputs": [
    {
     "name": "stdout",
     "output_type": "stream",
     "text": [
      "                linearPredictorFromCox  estLinearPredictorFromOurCode\n",
      "ageDecile                                                            \n",
      "(20.999, 26.0]                1.003385                       1.000636\n",
      "(26.0, 31.0]                  1.157677                       1.155450\n",
      "(31.0, 36.0]                  1.342369                       1.333863\n",
      "(36.0, 40.0]                  1.671952                       1.663334\n",
      "(40.0, 45.0]                  1.841432                       1.833784\n",
      "(45.0, 49.0]                  2.232966                       2.224690\n",
      "(49.0, 54.0]                  2.563518                       2.540487\n",
      "(54.0, 60.0]                  2.920201                       2.892655\n",
      "(60.0, 72.0]                  3.715388                       3.657640\n",
      "(72.0, 85.0]                  5.092387                       4.946215\n"
     ]
    },
    {
     "data": {
      "text/plain": [
       "<matplotlib.legend.Legend at 0x1c2486c9b0>"
      ]
     },
     "execution_count": 28,
     "metadata": {},
     "output_type": "execute_result"
    },
    {
     "data": {
      "image/png": "[encoded data removed]",
      "text/plain": [
       "<Figure size 432x288 with 1 Axes>"
      ]
     },
     "metadata": {},
     "output_type": "display_data"
    }
   ],
   "source": [
    "output = earlyCrossSectionOfNonImmigrants.groupby('ageDecile')[['linearPredictorFromCox', 'estLinearPredictorFromOurCode']].mean()\n",
    "print(output)\n",
    "plt.bar(output.index.codes+1, output.linearPredictorFromCox, width=0.40, label=\"cox estimate\")\n",
    "plt.bar(output.index.codes+1.4, output.estLinearPredictorFromOurCode, width=0.40, label=\"code estimate\")\n",
    "\n",
    "plt.legend()"
   ]
  },
  {
   "cell_type": "code",
   "execution_count": 30,
   "metadata": {},
   "outputs": [
    {
     "name": "stdout",
     "output_type": "stream",
     "text": [
      "                estCumHazardFromOurCode  baselineHazardFromCox\n",
      "ageDecile                                                     \n",
      "(20.999, 26.0]                 0.005613               0.005576\n",
      "(26.0, 31.0]                   0.005532               0.005495\n",
      "(31.0, 36.0]                   0.005569               0.005529\n",
      "(36.0, 40.0]                   0.005489               0.005454\n",
      "(40.0, 45.0]                   0.005521               0.005488\n",
      "(45.0, 49.0]                   0.005417               0.005392\n",
      "(49.0, 54.0]                   0.005377               0.005344\n",
      "(54.0, 60.0]                   0.005385               0.005359\n",
      "(60.0, 72.0]                   0.004932               0.004897\n",
      "(72.0, 85.0]                   0.003521               0.003509\n"
     ]
    },
    {
     "data": {
      "text/plain": [
       "<matplotlib.legend.Legend at 0x1c248dceb8>"
      ]
     },
     "execution_count": 30,
     "metadata": {},
     "output_type": "execute_result"
    },
    {
     "data": {
      "image/png": "[encoded data removed]",
      "text/plain": [
       "<Figure size 432x288 with 1 Axes>"
      ]
     },
     "metadata": {},
     "output_type": "display_data"
    }
   ],
   "source": [
    "output = earlyCrossSectionOfNonImmigrants.groupby('ageDecile')[['estCumHazardFromOurCode', 'baselineHazardFromCox']].mean()\n",
    "print(output)\n",
    "plt.bar(output.index.codes+1, output.estCumHazardFromOurCode, width=0.40, label=\"code estimate\")\n",
    "plt.bar(output.index.codes+1.4, output.baselineHazardFromCox, width=0.40, label=\"cox estimate\")\n",
    "\n",
    "plt.legend()"
   ]
  },
  {
   "cell_type": "code",
   "execution_count": null,
   "metadata": {},
   "outputs": [],
   "source": []
  }
 ],
 "metadata": {
  "kernelspec": {
   "display_name": "Python 3",
   "language": "python",
   "name": "python3"
  },
  "language_info": {
   "codemirror_mode": {
    "name": "ipython",
    "version": 3
   },
   "file_extension": ".py",
   "mimetype": "text/x-python",
   "name": "python",
   "nbconvert_exporter": "python",
   "pygments_lexer": "ipython3",
   "version": "3.6.5"
  }
 },
 "nbformat": 4,
 "nbformat_minor": 2
}
