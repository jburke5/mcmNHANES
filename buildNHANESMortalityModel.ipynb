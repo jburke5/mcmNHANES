{
 "cells": [
  {
   "cell_type": "markdown",
   "metadata": {},
   "source": [
    "### Data setup"
   ]
  },
  {
   "cell_type": "code",
   "execution_count": 1,
   "metadata": {},
   "outputs": [],
   "source": [
    "import pandas as pd\n",
    "pd.set_option('display.max_columns', None)\n",
    "\n",
    "imputedDataset = pd.read_stata(\"/Users/burke/Documents/research/bpCog/mcm/mcm/data/fullyImputedDataset.dta\")"
   ]
  },
  {
   "cell_type": "code",
   "execution_count": 2,
   "metadata": {},
   "outputs": [
    {
     "data": {
      "text/html": [
       "<div>\n",
       "<style scoped>\n",
       "    .dataframe tbody tr th:only-of-type {\n",
       "        vertical-align: middle;\n",
       "    }\n",
       "\n",
       "    .dataframe tbody tr th {\n",
       "        vertical-align: top;\n",
       "    }\n",
       "\n",
       "    .dataframe thead th {\n",
       "        text-align: right;\n",
       "    }\n",
       "</style>\n",
       "<table border=\"1\" class=\"dataframe\">\n",
       "  <thead>\n",
       "    <tr style=\"text-align: right;\">\n",
       "      <th></th>\n",
       "      <th>Surv prob</th>\n",
       "      <th>Surv prob SE</th>\n",
       "      <th>num at risk</th>\n",
       "      <th>num events</th>\n",
       "    </tr>\n",
       "    <tr>\n",
       "      <th>Time</th>\n",
       "      <th></th>\n",
       "      <th></th>\n",
       "      <th></th>\n",
       "      <th></th>\n",
       "    </tr>\n",
       "  </thead>\n",
       "  <tbody>\n",
       "    <tr>\n",
       "      <th>5.397605e-79</th>\n",
       "      <td>0.999646</td>\n",
       "      <td>0.000102</td>\n",
       "      <td>33902</td>\n",
       "      <td>12.0</td>\n",
       "    </tr>\n",
       "    <tr>\n",
       "      <th>1.000000e+00</th>\n",
       "      <td>0.999410</td>\n",
       "      <td>0.000132</td>\n",
       "      <td>33889</td>\n",
       "      <td>8.0</td>\n",
       "    </tr>\n",
       "    <tr>\n",
       "      <th>2.000000e+00</th>\n",
       "      <td>0.998584</td>\n",
       "      <td>0.000204</td>\n",
       "      <td>33874</td>\n",
       "      <td>28.0</td>\n",
       "    </tr>\n",
       "    <tr>\n",
       "      <th>3.000000e+00</th>\n",
       "      <td>0.998082</td>\n",
       "      <td>0.000238</td>\n",
       "      <td>33834</td>\n",
       "      <td>17.0</td>\n",
       "    </tr>\n",
       "    <tr>\n",
       "      <th>4.000000e+00</th>\n",
       "      <td>0.997521</td>\n",
       "      <td>0.000270</td>\n",
       "      <td>33805</td>\n",
       "      <td>19.0</td>\n",
       "    </tr>\n",
       "  </tbody>\n",
       "</table>\n",
       "</div>"
      ],
      "text/plain": [
       "              Surv prob  Surv prob SE  num at risk  num events\n",
       "Time                                                          \n",
       "5.397605e-79   0.999646      0.000102        33902        12.0\n",
       "1.000000e+00   0.999410      0.000132        33889         8.0\n",
       "2.000000e+00   0.998584      0.000204        33874        28.0\n",
       "3.000000e+00   0.998082      0.000238        33834        17.0\n",
       "4.000000e+00   0.997521      0.000270        33805        19.0"
      ]
     },
     "execution_count": 2,
     "metadata": {},
     "output_type": "execute_result"
    }
   ],
   "source": [
    "import statsmodels.api as sm\n",
    "\n",
    "imputedDataset = imputedDataset.rename({'selfReportMI' : 'mi', \n",
    "                                        'selfReportStroke' : 'stroke', \n",
    "                                        'tot_chol' : 'totChol',\n",
    "                                        'meanDBP' : 'meanDbp',\n",
    "                                        'meanSBP' : 'meanSbp',\n",
    "                                        'age' : 'baseAge'}, axis='columns')\n",
    "\n",
    "imputedDataset['anyDeath'] = imputedDataset.ucod >= 1\n",
    "imputedDataset['nonCVDeath'] = imputedDataset.ucod == 3\n",
    "imputedDataset['cvDeath'] = imputedDataset.ucod.isin([1,2])\n",
    "\n",
    "\n",
    "imputedDataset = imputedDataset.loc[imputedDataset.year < 2011] # we dont' have mortality data after this time\n",
    "#imputedDataset.monthsToDeath.loc[imputedDataset.anyDeath==0] = np.nan\n",
    "\n",
    "sf1 = sm.duration.SurvfuncRight(imputedDataset.monthsToDeath, imputedDataset.nonCVDeath)\n",
    "sf1.summary().head()"
   ]
  },
  {
   "cell_type": "code",
   "execution_count": 3,
   "metadata": {},
   "outputs": [
    {
     "data": {
      "image/png": "[encoded data removed]",
      "text/plain": [
       "<Figure size 432x288 with 1 Axes>"
      ]
     },
     "execution_count": 3,
     "metadata": {},
     "output_type": "execute_result"
    },
    {
     "data": {
      "image/png": "[encoded data removed]",
      "text/plain": [
       "<Figure size 432x288 with 1 Axes>"
      ]
     },
     "metadata": {},
     "output_type": "display_data"
    }
   ],
   "source": [
    "import matplotlib.pyplot as plt\n",
    "%matplotlib inline\n",
    "\n",
    "sf1.plot()"
   ]
  },
  {
   "cell_type": "markdown",
   "metadata": {},
   "source": [
    "### Build Mortality Model"
   ]
  },
  {
   "cell_type": "code",
   "execution_count": 4,
   "metadata": {
    "scrolled": true
   },
   "outputs": [
    {
     "data": {
      "text/html": [
       "<table class=\"simpletable\">\n",
       "<tr>\n",
       "        <td>Model:</td>           <td>PH Reg</td>     <td>Sample size:</td> <td>33902</td>\n",
       "</tr>\n",
       "<tr>\n",
       "  <td>Dependent variable:</td> <td>monthsToDeath</td> <td>Num. events:</td> <td>2280</td> \n",
       "</tr>\n",
       "<tr>\n",
       "         <td>Ties:</td>           <td>Breslow</td>          <td></td>         <td></td>   \n",
       "</tr>\n",
       "</table>\n",
       "<table class=\"simpletable\">\n",
       "<tr>\n",
       "           <td></td>          <th>log HR</th>  <th>log HR SE</th>   <th>HR</th>      <th>t</th>     <th>P>|t|</th> <th>[0.025</th> <th>0.975]</th>\n",
       "</tr>\n",
       "<tr>\n",
       "  <th>raceEthnicity[T.2]</th> <td>-0.0538</td>  <td>0.1240</td>   <td>0.9477</td> <td>-0.4336</td> <td>0.6646</td> <td>0.7432</td> <td>1.2083</td>\n",
       "</tr>\n",
       "<tr>\n",
       "  <th>raceEthnicity[T.3]</th> <td>0.1369</td>   <td>0.0631</td>   <td>1.1468</td> <td>2.1718</td>  <td>0.0299</td> <td>1.0134</td> <td>1.2976</td>\n",
       "</tr>\n",
       "<tr>\n",
       "  <th>raceEthnicity[T.4]</th> <td>0.2793</td>   <td>0.0745</td>   <td>1.3222</td> <td>3.7488</td>  <td>0.0002</td> <td>1.1426</td> <td>1.5301</td>\n",
       "</tr>\n",
       "<tr>\n",
       "  <th>raceEthnicity[T.5]</th> <td>-0.0855</td>  <td>0.1482</td>   <td>0.9181</td> <td>-0.5766</td> <td>0.5642</td> <td>0.6866</td> <td>1.2276</td>\n",
       "</tr>\n",
       "<tr>\n",
       "  <th>smokingStatus[T.1]</th> <td>0.3145</td>   <td>0.0495</td>   <td>1.3696</td> <td>6.3578</td>  <td>0.0000</td> <td>1.2430</td> <td>1.5090</td>\n",
       "</tr>\n",
       "<tr>\n",
       "  <th>smokingStatus[T.2]</th> <td>0.9355</td>   <td>0.0614</td>   <td>2.5486</td> <td>15.2421</td> <td>0.0000</td> <td>2.2597</td> <td>2.8744</td>\n",
       "</tr>\n",
       "<tr>\n",
       "  <th>baseAge</th>            <td>0.0324</td>   <td>0.0110</td>   <td>1.0329</td> <td>2.9440</td>  <td>0.0032</td> <td>1.0109</td> <td>1.0554</td>\n",
       "</tr>\n",
       "<tr>\n",
       "  <th>squareBaseAge</th>      <td>0.0004</td>   <td>0.0001</td>   <td>1.0004</td> <td>4.4783</td>  <td>0.0000</td> <td>1.0002</td> <td>1.0006</td>\n",
       "</tr>\n",
       "<tr>\n",
       "  <th>a1c</th>                <td>0.1322</td>   <td>0.0166</td>   <td>1.1414</td> <td>7.9510</td>  <td>0.0000</td> <td>1.1048</td> <td>1.1792</td>\n",
       "</tr>\n",
       "<tr>\n",
       "  <th>bmi</th>                <td>-0.0160</td>  <td>0.0042</td>   <td>0.9841</td> <td>-3.8295</td> <td>0.0001</td> <td>0.9761</td> <td>0.9922</td>\n",
       "</tr>\n",
       "<tr>\n",
       "  <th>gender</th>             <td>-0.2745</td>  <td>0.0478</td>   <td>0.7599</td> <td>-5.7449</td> <td>0.0000</td> <td>0.6920</td> <td>0.8346</td>\n",
       "</tr>\n",
       "<tr>\n",
       "  <th>hdl</th>                <td>-0.0022</td>  <td>0.0020</td>   <td>0.9978</td> <td>-1.1006</td> <td>0.2711</td> <td>0.9938</td> <td>1.0018</td>\n",
       "</tr>\n",
       "<tr>\n",
       "  <th>ldl</th>                <td>-0.0001</td>  <td>0.0019</td>   <td>0.9999</td> <td>-0.0723</td> <td>0.9424</td> <td>0.9961</td> <td>1.0037</td>\n",
       "</tr>\n",
       "<tr>\n",
       "  <th>mi</th>                 <td>0.5090</td>   <td>0.0594</td>   <td>1.6635</td> <td>8.5629</td>  <td>0.0000</td> <td>1.4806</td> <td>1.8691</td>\n",
       "</tr>\n",
       "<tr>\n",
       "  <th>stroke</th>             <td>0.3759</td>   <td>0.0659</td>   <td>1.4564</td> <td>5.7077</td>  <td>0.0000</td> <td>1.2800</td> <td>1.6570</td>\n",
       "</tr>\n",
       "<tr>\n",
       "  <th>totChol</th>            <td>-0.0006</td>  <td>0.0018</td>   <td>0.9994</td> <td>-0.3439</td> <td>0.7309</td> <td>0.9958</td> <td>1.0030</td>\n",
       "</tr>\n",
       "<tr>\n",
       "  <th>trig</th>               <td>0.0001</td>   <td>0.0002</td>   <td>1.0001</td> <td>0.5609</td>  <td>0.5749</td> <td>0.9997</td> <td>1.0005</td>\n",
       "</tr>\n",
       "<tr>\n",
       "  <th>meanSbp</th>            <td>0.0043</td>   <td>0.0010</td>   <td>1.0043</td> <td>4.3552</td>  <td>0.0000</td> <td>1.0024</td> <td>1.0062</td>\n",
       "</tr>\n",
       "<tr>\n",
       "  <th>meanDbp</th>            <td>-0.0027</td>  <td>0.0013</td>   <td>0.9973</td> <td>-2.0029</td> <td>0.0452</td> <td>0.9947</td> <td>0.9999</td>\n",
       "</tr>\n",
       "</table>"
      ],
      "text/plain": [
       "<class 'statsmodels.iolib.summary2.Summary'>\n",
       "\"\"\"\n",
       "                             Results: PHReg\n",
       "========================================================================\n",
       "Model:                      PH Reg              Sample size:       33902\n",
       "Dependent variable:         monthsToDeath       Num. events:       2280 \n",
       "Ties:                       Breslow                                     \n",
       "------------------------------------------------------------------------\n",
       "                    log HR log HR SE   HR      t    P>|t|  [0.025 0.975]\n",
       "------------------------------------------------------------------------\n",
       "raceEthnicity[T.2] -0.0538    0.1240 0.9477 -0.4336 0.6646 0.7432 1.2083\n",
       "raceEthnicity[T.3]  0.1369    0.0631 1.1468  2.1718 0.0299 1.0134 1.2976\n",
       "raceEthnicity[T.4]  0.2793    0.0745 1.3222  3.7488 0.0002 1.1426 1.5301\n",
       "raceEthnicity[T.5] -0.0855    0.1482 0.9181 -0.5766 0.5642 0.6866 1.2276\n",
       "smokingStatus[T.1]  0.3145    0.0495 1.3696  6.3578 0.0000 1.2430 1.5090\n",
       "smokingStatus[T.2]  0.9355    0.0614 2.5486 15.2421 0.0000 2.2597 2.8744\n",
       "baseAge             0.0324    0.0110 1.0329  2.9440 0.0032 1.0109 1.0554\n",
       "squareBaseAge       0.0004    0.0001 1.0004  4.4783 0.0000 1.0002 1.0006\n",
       "a1c                 0.1322    0.0166 1.1414  7.9510 0.0000 1.1048 1.1792\n",
       "bmi                -0.0160    0.0042 0.9841 -3.8295 0.0001 0.9761 0.9922\n",
       "gender             -0.2745    0.0478 0.7599 -5.7449 0.0000 0.6920 0.8346\n",
       "hdl                -0.0022    0.0020 0.9978 -1.1006 0.2711 0.9938 1.0018\n",
       "ldl                -0.0001    0.0019 0.9999 -0.0723 0.9424 0.9961 1.0037\n",
       "mi                  0.5090    0.0594 1.6635  8.5629 0.0000 1.4806 1.8691\n",
       "stroke              0.3759    0.0659 1.4564  5.7077 0.0000 1.2800 1.6570\n",
       "totChol            -0.0006    0.0018 0.9994 -0.3439 0.7309 0.9958 1.0030\n",
       "trig                0.0001    0.0002 1.0001  0.5609 0.5749 0.9997 1.0005\n",
       "meanSbp             0.0043    0.0010 1.0043  4.3552 0.0000 1.0024 1.0062\n",
       "meanDbp            -0.0027    0.0013 0.9973 -2.0029 0.0452 0.9947 0.9999\n",
       "========================================================================\n",
       "Confidence intervals are for the hazard ratios\n",
       "\"\"\""
      ]
     },
     "execution_count": 4,
     "metadata": {},
     "output_type": "execute_result"
    }
   ],
   "source": [
    "imputedDataset['squareBaseAge'] = imputedDataset['baseAge']**2\n",
    "coxModel = sm.PHReg.from_formula(\"monthsToDeath ~  baseAge + squareBaseAge + a1c + bmi + gender + hdl + ldl + mi + stroke + totChol + trig + meanSbp + meanDbp + raceEthnicity + smokingStatus\", status=\"nonCVDeath\", data=imputedDataset)\n",
    "results = coxModel.fit()\n",
    "results.summary()"
   ]
  },
  {
   "cell_type": "markdown",
   "metadata": {},
   "source": [
    "### Figure out how to get baseline cumulative hazard function"
   ]
  },
  {
   "cell_type": "code",
   "execution_count": 5,
   "metadata": {},
   "outputs": [],
   "source": [
    "# get the baseline cumulative hazard at one year.\n",
    "tuples = coxModel.baseline_cumulative_hazard(results.params)\n",
    "rawOneYearCumHazard = tuples[0][1][12]"
   ]
  },
  {
   "cell_type": "code",
   "execution_count": 6,
   "metadata": {},
   "outputs": [
    {
     "data": {
      "image/png": "[encoded data removed]",
      "text/plain": [
       "<Figure size 432x288 with 1 Axes>"
      ]
     },
     "metadata": {},
     "output_type": "display_data"
    }
   ],
   "source": [
    "import matplotlib.pyplot as plt\n",
    "%matplotlib inline\n",
    "import numpy as np\n",
    "\n",
    "# ok...here is a trick — the cumulative hazard curve is non linear\n",
    "# applyign the 12 month cumulative hazard (repatedly, as per our plan) is going to lead to underestimation on the long-term\n",
    "# to start, let's try and fit a simple linear model to the cmulative hazard curve \n",
    "# then plug that in as a baseline hazard\n",
    "time = tuples[0][0]\n",
    "timeYears = time/ 12\n",
    "cumSurv = tuples[0][2]\n",
    "cumHaz = tuples[0][1]\n",
    "\n",
    "\n",
    "plt.scatter(time, cumHaz )\n",
    "plt.ylim(0.000, 0.005)\n",
    "\n",
    "model = sm.OLS(cumHaz , timeYears)\n",
    "cumHazardLinearResult = model.fit()\n",
    "\n",
    "plt.scatter(time, cumHazardLinearResult.params[0] * timeYears )\n",
    "\n",
    "model = sm.OLS(cumHaz , np.column_stack((timeYears, timeYears**2)))\n",
    "cumHazardQuadResult = model.fit()\n",
    "\n",
    "quadOutcome = cumHazardQuadResult.params[0] * timeYears + cumHazardQuadResult.params[1] * timeYears**2\n",
    "plt.scatter(time, quadOutcome)\n",
    "\n",
    "plt.show()"
   ]
  },
  {
   "cell_type": "markdown",
   "metadata": {},
   "source": [
    "### So, the quadratic (green line on top of the blue line) fits very well...export to json and use for the model"
   ]
  },
  {
   "cell_type": "code",
   "execution_count": 7,
   "metadata": {},
   "outputs": [],
   "source": [
    "import sys\n",
    "import os\n",
    "sys.path.append(os.path.abspath(\"../mcm/\"))\n",
    "from mcm.cox_regression_model import CoxRegressionModel\n",
    "\n",
    "\n",
    "coxModelExport = CoxRegressionModel(dict(zip(results.model.exog_names, results.params)),\n",
    "                              dict(zip(results.model.exog_names, results.standard_errors)), \n",
    "                              cumHazardQuadResult.params[0] , cumHazardQuadResult.params[1] )\n",
    "\n",
    "coxModelExport.write_json(os.path.abspath(\"../mcm/mcm/data/nhanesMortalityModelSpec.json\"))"
   ]
  },
  {
   "cell_type": "markdown",
   "metadata": {},
   "source": [
    "### In the calibration, we find that we're-over-predicting mortality in the simluation. \n",
    "\n",
    "Possible explanations:\n",
    "<ul>\n",
    "    <li> Bad model fit in NHANES</li>\n",
    "    <li> Misimplementaiton of cumulative hazard logic</li>\n",
    "    <li> Misimplementaiton of the one year aggregation of the cumulative hazard</li>\n",
    "    <li> Coding Error </li>\n",
    "</ul>\n",
    "\n",
    "## first, let's check that the model is well-calibrated against itself..."
   ]
  },
  {
   "cell_type": "code",
   "execution_count": 8,
   "metadata": {},
   "outputs": [],
   "source": [
    "cumHazardPredicted = coxModel.predict(results.params, pred_type='cumhaz').predicted_values\n",
    "betaOutput = coxModel.predict(results.params, pred_type='lhr').predicted_values"
   ]
  },
  {
   "cell_type": "code",
   "execution_count": 10,
   "metadata": {},
   "outputs": [
    {
     "name": "stderr",
     "output_type": "stream",
     "text": [
      "/anaconda3/lib/python3.6/site-packages/pandas/core/indexing.py:189: SettingWithCopyWarning: \n",
      "A value is trying to be set on a copy of a slice from a DataFrame\n",
      "\n",
      "See the caveats in the documentation: http://pandas.pydata.org/pandas-docs/stable/indexing.html#indexing-view-versus-copy\n",
      "  self._setitem_with_indexer(indexer, value)\n"
     ]
    }
   ],
   "source": [
    "imputedDataset['monthsToDeath'] = imputedDataset['monthsToDeath'].astype(int)\n",
    "imputedDataset['monthsToDeath'].loc[imputedDataset['monthsToDeath'] >=149] = 149\n",
    "imputedDataset['cumHazardAt2011'] = cumHaz[imputedDataset.monthsToDeath]\n",
    "imputedDataset['estimatedCumHazardAt2011'] = cumHazardQuadResult.params[0] * imputedDataset.monthsToDeath/12 + cumHazardQuadResult.params[1] * (imputedDataset.monthsToDeath/12)**2"
   ]
  },
  {
   "cell_type": "code",
   "execution_count": 11,
   "metadata": {},
   "outputs": [],
   "source": [
    "imputedDataset['cumHazardPredicted'] = cumHazardPredicted\n",
    "imputedDataset['betaOutput'] = betaOutput\n",
    "imputedDataset['calcCumHazard'] = imputedDataset.cumHazardAt2011 * np.exp(imputedDataset.betaOutput)\n",
    "imputedDataset['calcCumHazardUsingEstimation'] = imputedDataset.estimatedCumHazardAt2011 * np.exp(imputedDataset.betaOutput)\n",
    "imputedDataset['delta'] = imputedDataset.cumHazardPredicted - imputedDataset.calcCumHazard"
   ]
  },
  {
   "cell_type": "code",
   "execution_count": 12,
   "metadata": {},
   "outputs": [
    {
     "data": {
      "text/html": [
       "<div>\n",
       "<style scoped>\n",
       "    .dataframe tbody tr th:only-of-type {\n",
       "        vertical-align: middle;\n",
       "    }\n",
       "\n",
       "    .dataframe tbody tr th {\n",
       "        vertical-align: top;\n",
       "    }\n",
       "\n",
       "    .dataframe thead th {\n",
       "        text-align: right;\n",
       "    }\n",
       "</style>\n",
       "<table border=\"1\" class=\"dataframe\">\n",
       "  <thead>\n",
       "    <tr style=\"text-align: right;\">\n",
       "      <th></th>\n",
       "      <th>count</th>\n",
       "      <th>mean</th>\n",
       "      <th>std</th>\n",
       "      <th>min</th>\n",
       "      <th>25%</th>\n",
       "      <th>50%</th>\n",
       "      <th>75%</th>\n",
       "      <th>max</th>\n",
       "    </tr>\n",
       "    <tr>\n",
       "      <th>anyDeath</th>\n",
       "      <th></th>\n",
       "      <th></th>\n",
       "      <th></th>\n",
       "      <th></th>\n",
       "      <th></th>\n",
       "      <th></th>\n",
       "      <th></th>\n",
       "      <th></th>\n",
       "    </tr>\n",
       "  </thead>\n",
       "  <tbody>\n",
       "    <tr>\n",
       "      <th>False</th>\n",
       "      <td>30262.0</td>\n",
       "      <td>0.0</td>\n",
       "      <td>0.0</td>\n",
       "      <td>0.0</td>\n",
       "      <td>0.0</td>\n",
       "      <td>0.0</td>\n",
       "      <td>0.0</td>\n",
       "      <td>0.0</td>\n",
       "    </tr>\n",
       "    <tr>\n",
       "      <th>True</th>\n",
       "      <td>3640.0</td>\n",
       "      <td>0.0</td>\n",
       "      <td>0.0</td>\n",
       "      <td>0.0</td>\n",
       "      <td>0.0</td>\n",
       "      <td>0.0</td>\n",
       "      <td>0.0</td>\n",
       "      <td>0.0</td>\n",
       "    </tr>\n",
       "  </tbody>\n",
       "</table>\n",
       "</div>"
      ],
      "text/plain": [
       "            count  mean  std  min  25%  50%  75%  max\n",
       "anyDeath                                             \n",
       "False     30262.0   0.0  0.0  0.0  0.0  0.0  0.0  0.0\n",
       "True       3640.0   0.0  0.0  0.0  0.0  0.0  0.0  0.0"
      ]
     },
     "execution_count": 12,
     "metadata": {},
     "output_type": "execute_result"
    }
   ],
   "source": [
    "imputedDataset.groupby('anyDeath')['delta'].describe() "
   ]
  },
  {
   "cell_type": "markdown",
   "metadata": {},
   "source": [
    "### So, we've checked that our calculattion of the cumulative hazard lines up with what the model predicts..."
   ]
  },
  {
   "cell_type": "code",
   "execution_count": 13,
   "metadata": {},
   "outputs": [
    {
     "name": "stdout",
     "output_type": "stream",
     "text": [
      "                anyDeath  calcCumHazard  calcCumHazardUsingEstimation  \\\n",
      "ageDecile                                                               \n",
      "(18.999, 23.0]  0.008031       0.004003                      0.003992   \n",
      "(23.0, 29.0]    0.008277       0.005665                      0.005645   \n",
      "(29.0, 35.0]    0.010328       0.007801                      0.007770   \n",
      "(35.0, 41.0]    0.019808       0.012019                      0.011974   \n",
      "(41.0, 47.0]    0.030247       0.018312                      0.018247   \n",
      "(47.0, 54.0]    0.051435       0.029459                      0.029315   \n",
      "(54.0, 61.0]    0.087304       0.050501                      0.050269   \n",
      "(61.0, 69.0]    0.138024       0.093777                      0.093350   \n",
      "(69.0, 77.0]    0.236428       0.165261                      0.164633   \n",
      "(77.0, 85.0]    0.506944       0.287200                      0.285515   \n",
      "\n",
      "                  baseAge  \n",
      "ageDecile                  \n",
      "(18.999, 23.0]  20.570466  \n",
      "(23.0, 29.0]    26.498965  \n",
      "(29.0, 35.0]    32.441677  \n",
      "(35.0, 41.0]    38.537815  \n",
      "(41.0, 47.0]    44.478086  \n",
      "(47.0, 54.0]    51.002842  \n",
      "(54.0, 61.0]    58.327151  \n",
      "(61.0, 69.0]    65.261010  \n",
      "(69.0, 77.0]    73.230646  \n",
      "(77.0, 85.0]    81.519928  \n"
     ]
    },
    {
     "data": {
      "text/plain": [
       "<matplotlib.legend.Legend at 0x1c1867a400>"
      ]
     },
     "execution_count": 13,
     "metadata": {},
     "output_type": "execute_result"
    },
    {
     "data": {
      "image/png": "[encoded data removed]",
      "text/plain": [
       "<Figure size 432x288 with 1 Axes>"
      ]
     },
     "metadata": {},
     "output_type": "display_data"
    }
   ],
   "source": [
    "imputedDataset['ageDecile'] = pd.qcut(imputedDataset.baseAge, 10)\n",
    "output = imputedDataset.groupby('ageDecile')[['anyDeath', 'calcCumHazard', 'calcCumHazardUsingEstimation', 'baseAge']].mean()\n",
    "print(output)\n",
    "plt.bar(output.index.codes+0.5, output.anyDeath, width=0.5, label=\"actualDeath\")\n",
    "plt.bar(output.index.codes, output.calcCumHazard, width=0.5, label=\"estimated\")\n",
    "plt.legend()"
   ]
  },
  {
   "cell_type": "markdown",
   "metadata": {},
   "source": [
    "### So, we do not have a fundamental failure of model calibration...it looks pretty good in the sample it was derived from. Also, we tested our quadratic estimate on the baseline hazard and it looks like it also performs well.\n",
    "\n",
    "However there was one interesting potential lesson here — if the times to event are a little bit off it can lead to very different conclusions. "
   ]
  },
  {
   "cell_type": "markdown",
   "metadata": {},
   "source": [
    "### One other thing to check that came up when validating the overall simulation against NHANES...is there under-prediciton in teh oldest old under long follow-up? Let's specifically check"
   ]
  },
  {
   "cell_type": "code",
   "execution_count": 14,
   "metadata": {},
   "outputs": [],
   "source": [
    "earlyCrossSectionOfNonImmigrants = pd.read_stata(\"/Users/burke/Documents/research/bpCog/nhanes/earlyCrossSectionOfNonImmigrants.dta\")\n",
    "earlyCrossSectionOfNonImmigrants['ageDecile'] = pd.qcut(earlyCrossSectionOfNonImmigrants.age, 10)\n",
    "earlyCrossSectionOfNonImmigrants['squareBaseAge'] = earlyCrossSectionOfNonImmigrants.age**2\n",
    "\n",
    "earlyCrossSectionOfNonImmigrants = earlyCrossSectionOfNonImmigrants.rename({'selfReportMI' : 'mi', \n",
    "                                        'selfReportStroke' : 'stroke', \n",
    "                                        'tot_chol' : 'totChol',\n",
    "                                        'meanDBP' : 'meanDbp',\n",
    "                                        'meanSBP' : 'meanSbp',\n",
    "                                        'age' : 'baseAge'}, axis='columns')\n",
    "\n",
    "earlyCrossSectionOfNonImmigrants = pd.concat([earlyCrossSectionOfNonImmigrants, pd.get_dummies(earlyCrossSectionOfNonImmigrants.raceEthnicity, prefix='raceEthnicity')], axis=1)\n",
    "earlyCrossSectionOfNonImmigrants = pd.concat([earlyCrossSectionOfNonImmigrants, pd.get_dummies(earlyCrossSectionOfNonImmigrants.smokingStatus, prefix='smokingStatus')], axis=1)"
   ]
  },
  {
   "cell_type": "code",
   "execution_count": 15,
   "metadata": {},
   "outputs": [],
   "source": [
    "variablesForModel = earlyCrossSectionOfNonImmigrants[['raceEthnicity_2', 'raceEthnicity_3', 'raceEthnicity_4', 'raceEthnicity_5', 'smokingStatus_1', 'smokingStatus_2','baseAge', 'squareBaseAge', 'a1c','bmi','gender', 'hdl', 'ldl','mi','stroke', 'totChol', 'trig', 'meanSbp', 'meanDbp']]\n",
    "\n",
    "cumHazardPredicted = coxModel.predict(results.params, exog=variablesForModel, endog=earlyCrossSectionOfNonImmigrants.monthsToDeath,\n",
    "                                      pred_type='cumhaz').predicted_values\n",
    "earlyCrossSectionOfNonImmigrants['cumHazardPredicted'] = cumHazardPredicted"
   ]
  },
  {
   "cell_type": "code",
   "execution_count": 16,
   "metadata": {},
   "outputs": [
    {
     "name": "stdout",
     "output_type": "stream",
     "text": [
      "                diedBy2011  cumHazardPredicted\n",
      "ageDecile                                     \n",
      "(20.999, 25.0]    0.024291            0.008427\n",
      "(25.0, 30.0]      0.023904            0.010037\n",
      "(30.0, 36.0]      0.014109            0.014037\n",
      "(36.0, 40.0]      0.069378            0.019267\n",
      "(40.0, 45.0]      0.021239            0.026139\n",
      "(45.0, 49.0]      0.046154            0.037151\n",
      "(49.0, 54.0]      0.065891            0.053316\n",
      "(54.0, 61.0]      0.099567            0.083952\n",
      "(61.0, 72.0]      0.208421            0.163467\n",
      "(72.0, 85.0]      0.631915            0.327812\n"
     ]
    },
    {
     "data": {
      "text/plain": [
       "<matplotlib.legend.Legend at 0x107893630>"
      ]
     },
     "execution_count": 16,
     "metadata": {},
     "output_type": "execute_result"
    },
    {
     "data": {
      "image/png": "[encoded data removed]",
      "text/plain": [
       "<Figure size 432x288 with 1 Axes>"
      ]
     },
     "metadata": {},
     "output_type": "display_data"
    }
   ],
   "source": [
    "output = earlyCrossSectionOfNonImmigrants.groupby('ageDecile')[['diedBy2011', 'cumHazardPredicted']].mean()\n",
    "print(output)\n",
    "plt.bar(output.index.codes+0.5, output.diedBy2011, width=0.5, label=\"actualDeath\")\n",
    "plt.bar(output.index.codes, output.cumHazardPredicted, width=0.5, label=\"estimated\")\n",
    "plt.legend()"
   ]
  },
  {
   "cell_type": "markdown",
   "metadata": {},
   "source": [
    "### Doesn't look like it — using the NHANES based dataset (earlyImmigrants) for comparison of long term mortality and then running the predictions using the model estiamted here, we're getting very similar predictions to what we saw in the whle sample..."
   ]
  },
  {
   "cell_type": "markdown",
   "metadata": {},
   "source": [
    "### So, the next step is to run the model on these same data and comapre...first, we'll run the model with our implementtation of the cox model. THen we'll run the markov-ed version"
   ]
  },
  {
   "cell_type": "code",
   "execution_count": 17,
   "metadata": {},
   "outputs": [],
   "source": [
    "from mcm.gender import NHANESGender\n",
    "from mcm.person import Person\n",
    "from mcm.outcome import Outcome\n",
    "from mcm.race_ethnicity import NHANESRaceEthnicity\n",
    "from mcm.smoking_status import SmokingStatus\n",
    "from mcm.cohort_risk_model_repository import CohortRiskModelRepository\n",
    "from mcm.outcome_model_repository import OutcomeModelRepository"
   ]
  },
  {
   "cell_type": "code",
   "execution_count": null,
   "metadata": {},
   "outputs": [],
   "source": [
    "import os \n",
    "\n",
    "cohortModel = OutcomeModelRepository()\n",
    "riskModel = CohortRiskModelRepository()\n",
    "\n",
    "def calcMortalityRunningFullModel(x):\n",
    "        temp =  Person(\n",
    "            age=x.baseAge,\n",
    "            gender=NHANESGender(int(x.gender)),\n",
    "            raceEthnicity=NHANESRaceEthnicity(int(x.raceEthnicity)),\n",
    "            sbp=x.meanSbp,\n",
    "            dbp=x.meanDbp,\n",
    "            a1c=x.a1c,\n",
    "            hdl=x.hdl,\n",
    "            ldl=x.ldl,\n",
    "            trig=x.trig,\n",
    "            totChol=x.totChol,\n",
    "            bmi=x.bmi,\n",
    "            smokingStatus=SmokingStatus(int(x.smokingStatus)),\n",
    "            dfIndex=x.index,\n",
    "            diedBy2011=x.diedBy2011)\n",
    "        \n",
    "        for year in range(1,11):\n",
    "            if not temp.is_dead():\n",
    "                temp.advance_year(riskModel, cohortModel)\n",
    "        return temp.is_dead()\n",
    "\n",
    "\n",
    "earlyCrossSectionOfNonImmigrants['estMortalityFromModel'] = earlyCrossSectionOfNonImmigrants.apply(calcMortalityRunningFullModel, axis=1)"
   ]
  },
  {
   "cell_type": "code",
   "execution_count": null,
   "metadata": {},
   "outputs": [],
   "source": [
    "output = earlyCrossSectionOfNonImmigrants.groupby('ageDecile')[['diedBy2011', 'cumHazardPredicted',  'estMortalityFromModel']].mean()\n",
    "print(output)\n",
    "plt.bar(output.index.codes+1, output.diedBy2011, width=0.20, label=\"actualDeath\")\n",
    "plt.bar(output.index.codes+1.2, output.cumHazardPredicted, width=0.20, label=\"direct model estimate\")\n",
    "plt.bar(output.index.codes+1.6, output.estMortalityFromModel, width=0.20, label=\"full code\")\n",
    "\n",
    "plt.legend()"
   ]
  },
  {
   "cell_type": "markdown",
   "metadata": {},
   "source": [
    "### Ok...this is telling the story, i think...\n",
    "1. there is a small problem witht eh green bars — rthey should be exactly the same as the orange bars or extremely close.\n",
    " to figure that out, we can just esetimat ethe linear predictors and hazard functions for both and compare\n",
    "2. the bigger problem si that the red bars are over-estimating risk. its conceivable that whatefger the problem in #1 is is being amplified\n",
    ", but its more likely thtat there is something wrong about aggregating over time..."
   ]
  },
  {
   "cell_type": "code",
   "execution_count": 24,
   "metadata": {},
   "outputs": [],
   "source": [
    "def calcLinearPredictorUsingModel(x):\n",
    "    temp =  Person(\n",
    "            age=x.baseAge,\n",
    "            gender=NHANESGender(int(x.gender)),\n",
    "            raceEthnicity=NHANESRaceEthnicity(int(x.raceEthnicity)),\n",
    "            sbp=x.meanSbp,\n",
    "            dbp=x.meanDbp,\n",
    "            a1c=x.a1c,\n",
    "            hdl=x.hdl,\n",
    "            ldl=x.ldl,\n",
    "            trig=x.trig,\n",
    "            totChol=x.totChol,\n",
    "            bmi=x.bmi,\n",
    "            smokingStatus=SmokingStatus(int(x.smokingStatus)),\n",
    "            dfIndex=x.index,\n",
    "            diedBy2011=x.diedBy2011)\n",
    "    return statsModel.linear_predictor(temp)\n",
    "\n",
    "def calcCumHazardUsingModel(x):\n",
    "    temp =  Person(\n",
    "            age=x.baseAge,\n",
    "            gender=NHANESGender(int(x.gender)),\n",
    "            raceEthnicity=NHANESRaceEthnicity(int(x.raceEthnicity)),\n",
    "            sbp=x.meanSbp,\n",
    "            dbp=x.meanDbp,\n",
    "            a1c=x.a1c,\n",
    "            hdl=x.hdl,\n",
    "            ldl=x.ldl,\n",
    "            trig=x.trig,\n",
    "            totChol=x.totChol,\n",
    "            bmi=x.bmi,\n",
    "            smokingStatus=SmokingStatus(int(x.smokingStatus)),\n",
    "            dfIndex=x.index,\n",
    "            diedBy2011=x.diedBy2011)\n",
    "    return statsModel.get_cumulative_hazard_for_interval(0, x.monthsToDeath/12)\n",
    "\n",
    "cohortModel = OutcomeModelRepository()\n",
    "riskModel = CohortRiskModelRepository()\n",
    "\n",
    "earlyCrossSectionOfNonImmigrants['estLinearPredictorFromOurCode'] = earlyCrossSectionOfNonImmigrants.apply(calcLinearPredictorUsingModel, axis=1)\n",
    "earlyCrossSectionOfNonImmigrants['estCumHazardFromOurCode'] = earlyCrossSectionOfNonImmigrants.apply(calcCumHazardUsingModel, axis=1)\n"
   ]
  },
  {
   "cell_type": "code",
   "execution_count": 27,
   "metadata": {},
   "outputs": [],
   "source": [
    "variablesForModel = earlyCrossSectionOfNonImmigrants[['raceEthnicity_2', 'raceEthnicity_3', 'raceEthnicity_4', 'raceEthnicity_5', 'smokingStatus_1', 'smokingStatus_2','baseAge', 'squareBaseAge', 'a1c','bmi','gender', 'hdl', 'ldl','mi','stroke', 'totChol', 'trig', 'meanSbp', 'meanDbp']]\n",
    "\n",
    "linearPredictorPredicted = coxModel.predict(results.params, exog=variablesForModel, endog=earlyCrossSectionOfNonImmigrants.monthsToDeath,\n",
    "                                      pred_type='lhr').predicted_values\n",
    "earlyCrossSectionOfNonImmigrants['linearPredictorFromCox'] = linearPredictorPredicted\n",
    "earlyCrossSectionOfNonImmigrants['baselineHazardFromCox'] = cumHaz[earlyCrossSectionOfNonImmigrants.monthsToDeath.astype(int)]"
   ]
  },
  {
   "cell_type": "code",
   "execution_count": 28,
   "metadata": {},
   "outputs": [
    {
     "name": "stdout",
     "output_type": "stream",
     "text": [
      "                linearPredictorFromCox  estLinearPredictorFromOurCode\n",
      "ageDecile                                                            \n",
      "(20.999, 26.0]                1.003385                       1.000636\n",
      "(26.0, 31.0]                  1.157677                       1.155450\n",
      "(31.0, 36.0]                  1.342369                       1.333863\n",
      "(36.0, 40.0]                  1.671952                       1.663334\n",
      "(40.0, 45.0]                  1.841432                       1.833784\n",
      "(45.0, 49.0]                  2.232966                       2.224690\n",
      "(49.0, 54.0]                  2.563518                       2.540487\n",
      "(54.0, 60.0]                  2.920201                       2.892655\n",
      "(60.0, 72.0]                  3.715388                       3.657640\n",
      "(72.0, 85.0]                  5.092387                       4.946215\n"
     ]
    },
    {
     "data": {
      "text/plain": [
       "<matplotlib.legend.Legend at 0x1c2486c9b0>"
      ]
     },
     "execution_count": 28,
     "metadata": {},
     "output_type": "execute_result"
    },
    {
     "data": {
      "image/png": "[encoded data removed]",
      "text/plain": [
       "<Figure size 432x288 with 1 Axes>"
      ]
     },
     "metadata": {},
     "output_type": "display_data"
    }
   ],
   "source": [
    "output = earlyCrossSectionOfNonImmigrants.groupby('ageDecile')[['linearPredictorFromCox', 'estLinearPredictorFromOurCode']].mean()\n",
    "print(output)\n",
    "plt.bar(output.index.codes+1, output.linearPredictorFromCox, width=0.40, label=\"cox estimate\")\n",
    "plt.bar(output.index.codes+1.4, output.estLinearPredictorFromOurCode, width=0.40, label=\"code estimate\")\n",
    "\n",
    "plt.legend()"
   ]
  },
  {
   "cell_type": "code",
   "execution_count": 30,
   "metadata": {},
   "outputs": [
    {
     "name": "stdout",
     "output_type": "stream",
     "text": [
      "                estCumHazardFromOurCode  baselineHazardFromCox\n",
      "ageDecile                                                     \n",
      "(20.999, 26.0]                 0.005613               0.005576\n",
      "(26.0, 31.0]                   0.005532               0.005495\n",
      "(31.0, 36.0]                   0.005569               0.005529\n",
      "(36.0, 40.0]                   0.005489               0.005454\n",
      "(40.0, 45.0]                   0.005521               0.005488\n",
      "(45.0, 49.0]                   0.005417               0.005392\n",
      "(49.0, 54.0]                   0.005377               0.005344\n",
      "(54.0, 60.0]                   0.005385               0.005359\n",
      "(60.0, 72.0]                   0.004932               0.004897\n",
      "(72.0, 85.0]                   0.003521               0.003509\n"
     ]
    },
    {
     "data": {
      "text/plain": [
       "<matplotlib.legend.Legend at 0x1c248dceb8>"
      ]
     },
     "execution_count": 30,
     "metadata": {},
     "output_type": "execute_result"
    },
    {
     "data": {
      "image/png": "[encoded data removed]",
      "text/plain": [
       "<Figure size 432x288 with 1 Axes>"
      ]
     },
     "metadata": {},
     "output_type": "display_data"
    }
   ],
   "source": [
    "output = earlyCrossSectionOfNonImmigrants.groupby('ageDecile')[['estCumHazardFromOurCode', 'baselineHazardFromCox']].mean()\n",
    "print(output)\n",
    "plt.bar(output.index.codes+1, output.estCumHazardFromOurCode, width=0.40, label=\"code estimate\")\n",
    "plt.bar(output.index.codes+1.4, output.baselineHazardFromCox, width=0.40, label=\"cox estimate\")\n",
    "\n",
    "plt.legend()"
   ]
  },
  {
   "cell_type": "code",
   "execution_count": null,
   "metadata": {},
   "outputs": [],
   "source": []
  }
 ],
 "metadata": {
  "kernelspec": {
   "display_name": "Python 3",
   "language": "python",
   "name": "python3"
  },
  "language_info": {
   "codemirror_mode": {
    "name": "ipython",
    "version": 3
   },
   "file_extension": ".py",
   "mimetype": "text/x-python",
   "name": "python",
   "nbconvert_exporter": "python",
   "pygments_lexer": "ipython3",
   "version": "3.6.5"
  }
 },
 "nbformat": 4,
 "nbformat_minor": 2
}
