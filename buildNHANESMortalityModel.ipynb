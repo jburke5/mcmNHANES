{
 "cells": [
  {
   "cell_type": "code",
   "execution_count": 1,
   "metadata": {},
   "outputs": [],
   "source": [
    "import pandas as pd\n",
    "\n",
    "imputedDataset = pd.read_stata(\"/Users/burke/Documents/research/bpCog/mcm/mcm/data/fullyImputedDataset.dta\")"
   ]
  },
  {
   "cell_type": "code",
   "execution_count": 46,
   "metadata": {},
   "outputs": [
    {
     "data": {
      "text/html": [
       "<div>\n",
       "<style scoped>\n",
       "    .dataframe tbody tr th:only-of-type {\n",
       "        vertical-align: middle;\n",
       "    }\n",
       "\n",
       "    .dataframe tbody tr th {\n",
       "        vertical-align: top;\n",
       "    }\n",
       "\n",
       "    .dataframe thead th {\n",
       "        text-align: right;\n",
       "    }\n",
       "</style>\n",
       "<table border=\"1\" class=\"dataframe\">\n",
       "  <thead>\n",
       "    <tr style=\"text-align: right;\">\n",
       "      <th></th>\n",
       "      <th>Surv prob</th>\n",
       "      <th>Surv prob SE</th>\n",
       "      <th>num at risk</th>\n",
       "      <th>num events</th>\n",
       "    </tr>\n",
       "    <tr>\n",
       "      <th>Time</th>\n",
       "      <th></th>\n",
       "      <th></th>\n",
       "      <th></th>\n",
       "      <th></th>\n",
       "    </tr>\n",
       "  </thead>\n",
       "  <tbody>\n",
       "    <tr>\n",
       "      <th>5.397605e-79</th>\n",
       "      <td>0.999767</td>\n",
       "      <td>0.000067</td>\n",
       "      <td>51397</td>\n",
       "      <td>12.0</td>\n",
       "    </tr>\n",
       "    <tr>\n",
       "      <th>1.000000e+00</th>\n",
       "      <td>0.999493</td>\n",
       "      <td>0.000099</td>\n",
       "      <td>51163</td>\n",
       "      <td>14.0</td>\n",
       "    </tr>\n",
       "    <tr>\n",
       "      <th>2.000000e+00</th>\n",
       "      <td>0.998726</td>\n",
       "      <td>0.000158</td>\n",
       "      <td>50830</td>\n",
       "      <td>39.0</td>\n",
       "    </tr>\n",
       "    <tr>\n",
       "      <th>3.000000e+00</th>\n",
       "      <td>0.998147</td>\n",
       "      <td>0.000191</td>\n",
       "      <td>50006</td>\n",
       "      <td>29.0</td>\n",
       "    </tr>\n",
       "    <tr>\n",
       "      <th>4.000000e+00</th>\n",
       "      <td>0.997520</td>\n",
       "      <td>0.000222</td>\n",
       "      <td>49336</td>\n",
       "      <td>31.0</td>\n",
       "    </tr>\n",
       "  </tbody>\n",
       "</table>\n",
       "</div>"
      ],
      "text/plain": [
       "              Surv prob  Surv prob SE  num at risk  num events\n",
       "Time                                                          \n",
       "5.397605e-79   0.999767      0.000067        51397        12.0\n",
       "1.000000e+00   0.999493      0.000099        51163        14.0\n",
       "2.000000e+00   0.998726      0.000158        50830        39.0\n",
       "3.000000e+00   0.998147      0.000191        50006        29.0\n",
       "4.000000e+00   0.997520      0.000222        49336        31.0"
      ]
     },
     "execution_count": 46,
     "metadata": {},
     "output_type": "execute_result"
    }
   ],
   "source": [
    "import statsmodels.api as sm\n",
    "\n",
    "imputedDataset = imputedDataset.rename({'selfReportMI' : 'mi', \n",
    "                                        'selfReportStroke' : 'stroke', \n",
    "                                        'tot_chol' : 'totChol',\n",
    "                                        'meanDBP' : 'meanDbp',\n",
    "                                        'meanSBP' : 'meanSbp'}, axis='columns')\n",
    "\n",
    "imputedDataset['anyDeath'] = imputedDataset.ucod >= 1\n",
    "#imputedDataset.monthsToDeath.loc[imputedDataset.anyDeath==0] = np.nan\n",
    "\n",
    "sf1 = sm.duration.SurvfuncRight(imputedDataset.monthsToDeath, imputedDataset.anyDeath)\n",
    "sf1.summary().head()"
   ]
  },
  {
   "cell_type": "code",
   "execution_count": 22,
   "metadata": {},
   "outputs": [
    {
     "data": {
      "image/png": "[encoded data removed]",
      "text/plain": [
       "<Figure size 432x288 with 1 Axes>"
      ]
     },
     "execution_count": 22,
     "metadata": {},
     "output_type": "execute_result"
    },
    {
     "data": {
      "image/png": "[encoded data removed]",
      "text/plain": [
       "<Figure size 432x288 with 1 Axes>"
      ]
     },
     "metadata": {},
     "output_type": "display_data"
    }
   ],
   "source": [
    "import matplotlib.pyplot as plt\n",
    "%matplotlib inline\n",
    "\n",
    "sf1.plot()"
   ]
  },
  {
   "cell_type": "code",
   "execution_count": 47,
   "metadata": {},
   "outputs": [
    {
     "data": {
      "text/html": [
       "<table class=\"simpletable\">\n",
       "<tr>\n",
       "        <td>Model:</td>           <td>PH Reg</td>     <td>Sample size:</td> <td>51397</td>\n",
       "</tr>\n",
       "<tr>\n",
       "  <td>Dependent variable:</td> <td>monthsToDeath</td> <td>Num. events:</td> <td>3640</td> \n",
       "</tr>\n",
       "<tr>\n",
       "         <td>Ties:</td>           <td>Breslow</td>          <td></td>         <td></td>   \n",
       "</tr>\n",
       "</table>\n",
       "<table class=\"simpletable\">\n",
       "<tr>\n",
       "           <td></td>          <th>log HR</th>  <th>log HR SE</th>   <th>HR</th>      <th>t</th>     <th>P>|t|</th> <th>[0.025</th> <th>0.975]</th>\n",
       "</tr>\n",
       "<tr>\n",
       "  <th>raceEthnicity[T.2]</th> <td>-0.1008</td>  <td>0.1005</td>   <td>0.9041</td> <td>-1.0032</td> <td>0.3158</td> <td>0.7425</td> <td>1.1009</td>\n",
       "</tr>\n",
       "<tr>\n",
       "  <th>raceEthnicity[T.3]</th> <td>0.1925</td>   <td>0.0502</td>   <td>1.2123</td> <td>3.8351</td>  <td>0.0001</td> <td>1.0987</td> <td>1.3376</td>\n",
       "</tr>\n",
       "<tr>\n",
       "  <th>raceEthnicity[T.4]</th> <td>0.2946</td>   <td>0.0595</td>   <td>1.3426</td> <td>4.9523</td>  <td>0.0000</td> <td>1.1948</td> <td>1.5086</td>\n",
       "</tr>\n",
       "<tr>\n",
       "  <th>raceEthnicity[T.5]</th> <td>-0.1302</td>  <td>0.1163</td>   <td>0.8779</td> <td>-1.1190</td> <td>0.2631</td> <td>0.6989</td> <td>1.1028</td>\n",
       "</tr>\n",
       "<tr>\n",
       "  <th>smokingStatus[T.1]</th> <td>0.1869</td>   <td>0.0385</td>   <td>1.2055</td> <td>4.8510</td>  <td>0.0000</td> <td>1.1178</td> <td>1.3000</td>\n",
       "</tr>\n",
       "<tr>\n",
       "  <th>smokingStatus[T.2]</th> <td>0.7442</td>   <td>0.0489</td>   <td>2.1049</td> <td>15.2147</td> <td>0.0000</td> <td>1.9124</td> <td>2.3167</td>\n",
       "</tr>\n",
       "<tr>\n",
       "  <th>age</th>                <td>0.0822</td>   <td>0.0016</td>   <td>1.0857</td> <td>50.3549</td> <td>0.0000</td> <td>1.0823</td> <td>1.0892</td>\n",
       "</tr>\n",
       "<tr>\n",
       "  <th>a1c</th>                <td>0.0992</td>   <td>0.0137</td>   <td>1.1043</td> <td>7.2537</td>  <td>0.0000</td> <td>1.0751</td> <td>1.1343</td>\n",
       "</tr>\n",
       "<tr>\n",
       "  <th>bmi</th>                <td>-0.0158</td>  <td>0.0033</td>   <td>0.9843</td> <td>-4.8261</td> <td>0.0000</td> <td>0.9780</td> <td>0.9907</td>\n",
       "</tr>\n",
       "<tr>\n",
       "  <th>gender</th>             <td>-0.2502</td>  <td>0.0377</td>   <td>0.7786</td> <td>-6.6380</td> <td>0.0000</td> <td>0.7232</td> <td>0.8383</td>\n",
       "</tr>\n",
       "<tr>\n",
       "  <th>hdl</th>                <td>-0.0010</td>  <td>0.0016</td>   <td>0.9990</td> <td>-0.6405</td> <td>0.5218</td> <td>0.9959</td> <td>1.0021</td>\n",
       "</tr>\n",
       "<tr>\n",
       "  <th>ldl</th>                <td>-0.0005</td>  <td>0.0015</td>   <td>0.9995</td> <td>-0.3300</td> <td>0.7414</td> <td>0.9965</td> <td>1.0025</td>\n",
       "</tr>\n",
       "<tr>\n",
       "  <th>mi</th>                 <td>0.4022</td>   <td>0.0486</td>   <td>1.4951</td> <td>8.2784</td>  <td>0.0000</td> <td>1.3593</td> <td>1.6445</td>\n",
       "</tr>\n",
       "<tr>\n",
       "  <th>stroke</th>             <td>0.4993</td>   <td>0.0503</td>   <td>1.6476</td> <td>9.9347</td>  <td>0.0000</td> <td>1.4931</td> <td>1.8182</td>\n",
       "</tr>\n",
       "<tr>\n",
       "  <th>totChol</th>            <td>-0.0007</td>  <td>0.0015</td>   <td>0.9993</td> <td>-0.4593</td> <td>0.6460</td> <td>0.9965</td> <td>1.0022</td>\n",
       "</tr>\n",
       "<tr>\n",
       "  <th>trig</th>               <td>0.0002</td>   <td>0.0002</td>   <td>1.0002</td> <td>1.3881</td>  <td>0.1651</td> <td>0.9999</td> <td>1.0005</td>\n",
       "</tr>\n",
       "<tr>\n",
       "  <th>meanSbp</th>            <td>0.0057</td>   <td>0.0008</td>   <td>1.0057</td> <td>7.4768</td>  <td>0.0000</td> <td>1.0042</td> <td>1.0073</td>\n",
       "</tr>\n",
       "<tr>\n",
       "  <th>meanDbp</th>            <td>-0.0050</td>  <td>0.0010</td>   <td>0.9950</td> <td>-4.9529</td> <td>0.0000</td> <td>0.9930</td> <td>0.9970</td>\n",
       "</tr>\n",
       "</table>"
      ],
      "text/plain": [
       "<class 'statsmodels.iolib.summary2.Summary'>\n",
       "\"\"\"\n",
       "                             Results: PHReg\n",
       "========================================================================\n",
       "Model:                      PH Reg              Sample size:       51397\n",
       "Dependent variable:         monthsToDeath       Num. events:       3640 \n",
       "Ties:                       Breslow                                     \n",
       "------------------------------------------------------------------------\n",
       "                    log HR log HR SE   HR      t    P>|t|  [0.025 0.975]\n",
       "------------------------------------------------------------------------\n",
       "raceEthnicity[T.2] -0.1008    0.1005 0.9041 -1.0032 0.3158 0.7425 1.1009\n",
       "raceEthnicity[T.3]  0.1925    0.0502 1.2123  3.8351 0.0001 1.0987 1.3376\n",
       "raceEthnicity[T.4]  0.2946    0.0595 1.3426  4.9523 0.0000 1.1948 1.5086\n",
       "raceEthnicity[T.5] -0.1302    0.1163 0.8779 -1.1190 0.2631 0.6989 1.1028\n",
       "smokingStatus[T.1]  0.1869    0.0385 1.2055  4.8510 0.0000 1.1178 1.3000\n",
       "smokingStatus[T.2]  0.7442    0.0489 2.1049 15.2147 0.0000 1.9124 2.3167\n",
       "age                 0.0822    0.0016 1.0857 50.3549 0.0000 1.0823 1.0892\n",
       "a1c                 0.0992    0.0137 1.1043  7.2537 0.0000 1.0751 1.1343\n",
       "bmi                -0.0158    0.0033 0.9843 -4.8261 0.0000 0.9780 0.9907\n",
       "gender             -0.2502    0.0377 0.7786 -6.6380 0.0000 0.7232 0.8383\n",
       "hdl                -0.0010    0.0016 0.9990 -0.6405 0.5218 0.9959 1.0021\n",
       "ldl                -0.0005    0.0015 0.9995 -0.3300 0.7414 0.9965 1.0025\n",
       "mi                  0.4022    0.0486 1.4951  8.2784 0.0000 1.3593 1.6445\n",
       "stroke              0.4993    0.0503 1.6476  9.9347 0.0000 1.4931 1.8182\n",
       "totChol            -0.0007    0.0015 0.9993 -0.4593 0.6460 0.9965 1.0022\n",
       "trig                0.0002    0.0002 1.0002  1.3881 0.1651 0.9999 1.0005\n",
       "meanSbp             0.0057    0.0008 1.0057  7.4768 0.0000 1.0042 1.0073\n",
       "meanDbp            -0.0050    0.0010 0.9950 -4.9529 0.0000 0.9930 0.9970\n",
       "========================================================================\n",
       "Confidence intervals are for the hazard ratios\n",
       "\"\"\""
      ]
     },
     "execution_count": 47,
     "metadata": {},
     "output_type": "execute_result"
    }
   ],
   "source": [
    "model = sm.PHReg.from_formula(\"monthsToDeath ~  age + a1c + bmi + gender + hdl + ldl + mi + stroke + totChol + trig + meanSbp + meanDbp + raceEthnicity + smokingStatus\", status=\"anyDeath\", data=imputedDataset)\n",
    "results = model.fit()\n",
    "results.summary()"
   ]
  },
  {
   "cell_type": "code",
   "execution_count": 27,
   "metadata": {},
   "outputs": [
    {
     "data": {
      "text/plain": [
       "Index(['index', 'WTINT2YR', 'a1c', 'age', 'bmi', 'diedBy2011', 'gender', 'hdl',\n",
       "       'ldl', 'monthsToDeath', 'monthsToDeath2', 'selfReportMI',\n",
       "       'selfReportMIAge', 'selfReportStroke', 'selfReportStrokeAge',\n",
       "       'timeInUS', 'tot_chol', 'trig', 'ucod', 'weight', 'year', 'meanSBP',\n",
       "       'meanDBP', 'raceEthnicity', 'smokingStatus', 'anyDeath'],\n",
       "      dtype='object')"
      ]
     },
     "execution_count": 27,
     "metadata": {},
     "output_type": "execute_result"
    }
   ],
   "source": [
    "imputedDataset.columns"
   ]
  },
  {
   "cell_type": "code",
   "execution_count": 36,
   "metadata": {},
   "outputs": [],
   "source": [
    "# get the baseline cumulative hazard at one year.\n",
    "tuples = model.baseline_cumulative_hazard([0] * 18)\n",
    "oneYearCumHazard = tuples[0][1][12]"
   ]
  },
  {
   "cell_type": "code",
   "execution_count": 37,
   "metadata": {},
   "outputs": [
    {
     "data": {
      "text/plain": [
       "0.008245026000825028"
      ]
     },
     "execution_count": 37,
     "metadata": {},
     "output_type": "execute_result"
    }
   ],
   "source": [
    "oneYearCumHazard"
   ]
  },
  {
   "cell_type": "code",
   "execution_count": 48,
   "metadata": {},
   "outputs": [],
   "source": [
    "import sys\n",
    "import os\n",
    "sys.path.append(os.path.abspath(\"../mcm/\"))\n",
    "from mcm.cox_regression_model import CoxRegressionModel\n",
    "\n",
    "\n",
    "coxModel = CoxRegressionModel(dict(zip(results.model.exog_names, results.params)),\n",
    "                              dict(zip(results.model.exog_names, results.standard_errors)), \n",
    "                              oneYearCumHazard, 0)\n",
    "\n",
    "coxModel.write_json(os.path.abspath(\"../mcm/mcm/data/nhanesMortalityModelSpec.json\"))\n",
    "\n"
   ]
  },
  {
   "cell_type": "code",
   "execution_count": 10,
   "metadata": {},
   "outputs": [],
   "source": [
    "test = model.predict(results.params)"
   ]
  },
  {
   "cell_type": "code",
   "execution_count": 11,
   "metadata": {},
   "outputs": [
    {
     "data": {
      "text/plain": [
       "array([1.95740109, 3.58564639, 1.73575721, ..., 3.39585851, 1.95145865,\n",
       "       3.42881329])"
      ]
     },
     "execution_count": 11,
     "metadata": {},
     "output_type": "execute_result"
    }
   ],
   "source": [
    "test.predicted_values"
   ]
  },
  {
   "cell_type": "code",
   "execution_count": 15,
   "metadata": {},
   "outputs": [
    {
     "data": {
      "text/plain": [
       "51397"
      ]
     },
     "execution_count": 15,
     "metadata": {},
     "output_type": "execute_result"
    }
   ],
   "source": [
    "len(test.predicted_values)"
   ]
  },
  {
   "cell_type": "code",
   "execution_count": 20,
   "metadata": {},
   "outputs": [
    {
     "data": {
      "text/html": [
       "<div>\n",
       "<style scoped>\n",
       "    .dataframe tbody tr th:only-of-type {\n",
       "        vertical-align: middle;\n",
       "    }\n",
       "\n",
       "    .dataframe tbody tr th {\n",
       "        vertical-align: top;\n",
       "    }\n",
       "\n",
       "    .dataframe thead th {\n",
       "        text-align: right;\n",
       "    }\n",
       "</style>\n",
       "<table border=\"1\" class=\"dataframe\">\n",
       "  <thead>\n",
       "    <tr style=\"text-align: right;\">\n",
       "      <th></th>\n",
       "      <th>index</th>\n",
       "      <th>WTINT2YR</th>\n",
       "      <th>a1c</th>\n",
       "      <th>age</th>\n",
       "      <th>bmi</th>\n",
       "      <th>diedBy2011</th>\n",
       "      <th>gender</th>\n",
       "      <th>hdl</th>\n",
       "      <th>ldl</th>\n",
       "      <th>monthsToDeath</th>\n",
       "      <th>...</th>\n",
       "      <th>tot_chol</th>\n",
       "      <th>trig</th>\n",
       "      <th>ucod</th>\n",
       "      <th>weight</th>\n",
       "      <th>year</th>\n",
       "      <th>meanSBP</th>\n",
       "      <th>meanDBP</th>\n",
       "      <th>raceEthnicity</th>\n",
       "      <th>smokingStatus</th>\n",
       "      <th>anyDeath</th>\n",
       "    </tr>\n",
       "  </thead>\n",
       "  <tbody>\n",
       "    <tr>\n",
       "      <th>0</th>\n",
       "      <td>0</td>\n",
       "      <td>102641.406474</td>\n",
       "      <td>5.1</td>\n",
       "      <td>22.0</td>\n",
       "      <td>23.3</td>\n",
       "      <td>0</td>\n",
       "      <td>1.0</td>\n",
       "      <td>41.0</td>\n",
       "      <td>110.0</td>\n",
       "      <td>7.0</td>\n",
       "      <td>...</td>\n",
       "      <td>168.0</td>\n",
       "      <td>84.0</td>\n",
       "      <td>0</td>\n",
       "      <td>69.2</td>\n",
       "      <td>2011</td>\n",
       "      <td>110.666667</td>\n",
       "      <td>74.666667</td>\n",
       "      <td>3</td>\n",
       "      <td>0</td>\n",
       "      <td>False</td>\n",
       "    </tr>\n",
       "  </tbody>\n",
       "</table>\n",
       "<p>1 rows × 26 columns</p>\n",
       "</div>"
      ],
      "text/plain": [
       "   index       WTINT2YR  a1c   age   bmi  diedBy2011  gender   hdl    ldl  \\\n",
       "0      0  102641.406474  5.1  22.0  23.3           0     1.0  41.0  110.0   \n",
       "\n",
       "   monthsToDeath    ...     tot_chol  trig  ucod  weight  year     meanSBP  \\\n",
       "0            7.0    ...        168.0  84.0     0    69.2  2011  110.666667   \n",
       "\n",
       "     meanDBP  raceEthnicity  smokingStatus  anyDeath  \n",
       "0  74.666667              3              0     False  \n",
       "\n",
       "[1 rows x 26 columns]"
      ]
     },
     "execution_count": 20,
     "metadata": {},
     "output_type": "execute_result"
    }
   ],
   "source": [
    "imputedDataset.head(1)"
   ]
  },
  {
   "cell_type": "code",
   "execution_count": null,
   "metadata": {},
   "outputs": [],
   "source": []
  }
 ],
 "metadata": {
  "kernelspec": {
   "display_name": "Python 3",
   "language": "python",
   "name": "python3"
  },
  "language_info": {
   "codemirror_mode": {
    "name": "ipython",
    "version": 3
   },
   "file_extension": ".py",
   "mimetype": "text/x-python",
   "name": "python",
   "nbconvert_exporter": "python",
   "pygments_lexer": "ipython3",
   "version": "3.6.5"
  }
 },
 "nbformat": 4,
 "nbformat_minor": 2
}
