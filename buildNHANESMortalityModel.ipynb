{
 "cells": [
  {
   "cell_type": "markdown",
   "metadata": {},
   "source": [
    "### Data setup"
   ]
  },
  {
   "cell_type": "code",
   "execution_count": 1,
   "metadata": {},
   "outputs": [],
   "source": [
    "import pandas as pd\n",
    "pd.set_option('display.max_columns', None)\n",
    "\n",
    "imputedDataset = pd.read_stata(\"/Users/burke/Documents/research/bpCog/mcm/mcm/data/fullyImputedDataset.dta\")"
   ]
  },
  {
   "cell_type": "code",
   "execution_count": 2,
   "metadata": {},
   "outputs": [
    {
     "data": {
      "text/html": [
       "<div>\n",
       "<style scoped>\n",
       "    .dataframe tbody tr th:only-of-type {\n",
       "        vertical-align: middle;\n",
       "    }\n",
       "\n",
       "    .dataframe tbody tr th {\n",
       "        vertical-align: top;\n",
       "    }\n",
       "\n",
       "    .dataframe thead th {\n",
       "        text-align: right;\n",
       "    }\n",
       "</style>\n",
       "<table border=\"1\" class=\"dataframe\">\n",
       "  <thead>\n",
       "    <tr style=\"text-align: right;\">\n",
       "      <th></th>\n",
       "      <th>Surv prob</th>\n",
       "      <th>Surv prob SE</th>\n",
       "      <th>num at risk</th>\n",
       "      <th>num events</th>\n",
       "    </tr>\n",
       "    <tr>\n",
       "      <th>Time</th>\n",
       "      <th></th>\n",
       "      <th></th>\n",
       "      <th></th>\n",
       "      <th></th>\n",
       "    </tr>\n",
       "  </thead>\n",
       "  <tbody>\n",
       "    <tr>\n",
       "      <th>5.397605e-79</th>\n",
       "      <td>0.999646</td>\n",
       "      <td>0.000102</td>\n",
       "      <td>33902</td>\n",
       "      <td>12.0</td>\n",
       "    </tr>\n",
       "    <tr>\n",
       "      <th>1.000000e+00</th>\n",
       "      <td>0.999410</td>\n",
       "      <td>0.000132</td>\n",
       "      <td>33890</td>\n",
       "      <td>8.0</td>\n",
       "    </tr>\n",
       "    <tr>\n",
       "      <th>2.000000e+00</th>\n",
       "      <td>0.998584</td>\n",
       "      <td>0.000204</td>\n",
       "      <td>33874</td>\n",
       "      <td>28.0</td>\n",
       "    </tr>\n",
       "    <tr>\n",
       "      <th>3.000000e+00</th>\n",
       "      <td>0.998082</td>\n",
       "      <td>0.000238</td>\n",
       "      <td>33835</td>\n",
       "      <td>17.0</td>\n",
       "    </tr>\n",
       "    <tr>\n",
       "      <th>4.000000e+00</th>\n",
       "      <td>0.997521</td>\n",
       "      <td>0.000270</td>\n",
       "      <td>33806</td>\n",
       "      <td>19.0</td>\n",
       "    </tr>\n",
       "  </tbody>\n",
       "</table>\n",
       "</div>"
      ],
      "text/plain": [
       "              Surv prob  Surv prob SE  num at risk  num events\n",
       "Time                                                          \n",
       "5.397605e-79   0.999646      0.000102        33902        12.0\n",
       "1.000000e+00   0.999410      0.000132        33890         8.0\n",
       "2.000000e+00   0.998584      0.000204        33874        28.0\n",
       "3.000000e+00   0.998082      0.000238        33835        17.0\n",
       "4.000000e+00   0.997521      0.000270        33806        19.0"
      ]
     },
     "execution_count": 2,
     "metadata": {},
     "output_type": "execute_result"
    }
   ],
   "source": [
    "import statsmodels.api as sm\n",
    "\n",
    "imputedDataset = imputedDataset.rename({'selfReportMI' : 'mi', \n",
    "                                        'selfReportStroke' : 'stroke', \n",
    "                                        'tot_chol' : 'totChol',\n",
    "                                        'meanDBP' : 'meanDbp',\n",
    "                                        'meanSBP' : 'meanSbp',\n",
    "                                        'age' : 'baseAge'}, axis='columns')\n",
    "\n",
    "imputedDataset['anyDeath'] = imputedDataset.ucod >= 1\n",
    "imputedDataset['nonCVDeath'] = imputedDataset.ucod == 3\n",
    "imputedDataset['cvDeath'] = imputedDataset.ucod.isin([1,2])\n",
    "\n",
    "\n",
    "imputedDataset = imputedDataset.loc[imputedDataset.year < 2011] # we dont' have mortality data after this time\n",
    "#imputedDataset.monthsToDeath.loc[imputedDataset.anyDeath==0] = np.nan\n",
    "\n",
    "sf1 = sm.duration.SurvfuncRight(imputedDataset.monthsToDeath, imputedDataset.nonCVDeath)\n",
    "sf1.summary().head()"
   ]
  },
  {
   "cell_type": "code",
   "execution_count": 3,
   "metadata": {},
   "outputs": [
    {
     "data": {
      "text/plain": [
       "2.0    17623\n",
       "1.0    16279\n",
       "Name: gender, dtype: int64"
      ]
     },
     "execution_count": 3,
     "metadata": {},
     "output_type": "execute_result"
    }
   ],
   "source": [
    "imputedDataset.gender.value_counts()"
   ]
  },
  {
   "cell_type": "code",
   "execution_count": 4,
   "metadata": {},
   "outputs": [
    {
     "data": {
      "image/png": "[encoded data removed]",
      "text/plain": [
       "<Figure size 432x288 with 1 Axes>"
      ]
     },
     "execution_count": 4,
     "metadata": {},
     "output_type": "execute_result"
    },
    {
     "data": {
      "image/png": "[encoded data removed]",
      "text/plain": [
       "<Figure size 432x288 with 1 Axes>"
      ]
     },
     "metadata": {},
     "output_type": "display_data"
    }
   ],
   "source": [
    "import matplotlib.pyplot as plt\n",
    "%matplotlib inline\n",
    "\n",
    "sf1.plot()"
   ]
  },
  {
   "cell_type": "markdown",
   "metadata": {},
   "source": [
    "### Build Mortality Model"
   ]
  },
  {
   "cell_type": "code",
   "execution_count": 5,
   "metadata": {
    "scrolled": true
   },
   "outputs": [
    {
     "data": {
      "text/html": [
       "<table class=\"simpletable\">\n",
       "<tr>\n",
       "        <td>Model:</td>           <td>PH Reg</td>     <td>Sample size:</td> <td>33902</td>\n",
       "</tr>\n",
       "<tr>\n",
       "  <td>Dependent variable:</td> <td>monthsToDeath</td> <td>Num. events:</td> <td>2280</td> \n",
       "</tr>\n",
       "<tr>\n",
       "         <td>Ties:</td>           <td>Breslow</td>          <td></td>         <td></td>   \n",
       "</tr>\n",
       "</table>\n",
       "<table class=\"simpletable\">\n",
       "<tr>\n",
       "           <td></td>          <th>log HR</th>  <th>log HR SE</th>   <th>HR</th>      <th>t</th>     <th>P>|t|</th> <th>[0.025</th> <th>0.975]</th>\n",
       "</tr>\n",
       "<tr>\n",
       "  <th>raceEthnicity[T.2]</th> <td>-0.0337</td>  <td>0.1240</td>   <td>0.9669</td> <td>-0.2717</td> <td>0.7858</td> <td>0.7582</td> <td>1.2329</td>\n",
       "</tr>\n",
       "<tr>\n",
       "  <th>raceEthnicity[T.3]</th> <td>0.1340</td>   <td>0.0631</td>   <td>1.1434</td> <td>2.1246</td>  <td>0.0336</td> <td>1.0104</td> <td>1.2939</td>\n",
       "</tr>\n",
       "<tr>\n",
       "  <th>raceEthnicity[T.4]</th> <td>0.2726</td>   <td>0.0744</td>   <td>1.3133</td> <td>3.6649</td>  <td>0.0002</td> <td>1.1352</td> <td>1.5194</td>\n",
       "</tr>\n",
       "<tr>\n",
       "  <th>raceEthnicity[T.5]</th> <td>-0.0814</td>  <td>0.1482</td>   <td>0.9218</td> <td>-0.5493</td> <td>0.5828</td> <td>0.6895</td> <td>1.2325</td>\n",
       "</tr>\n",
       "<tr>\n",
       "  <th>smokingStatus[T.1]</th> <td>0.3166</td>   <td>0.0495</td>   <td>1.3725</td> <td>6.4009</td>  <td>0.0000</td> <td>1.2456</td> <td>1.5122</td>\n",
       "</tr>\n",
       "<tr>\n",
       "  <th>smokingStatus[T.2]</th> <td>0.9498</td>   <td>0.0614</td>   <td>2.5852</td> <td>15.4732</td> <td>0.0000</td> <td>2.2921</td> <td>2.9157</td>\n",
       "</tr>\n",
       "<tr>\n",
       "  <th>baseAge</th>            <td>0.0343</td>   <td>0.0110</td>   <td>1.0349</td> <td>3.1246</td>  <td>0.0018</td> <td>1.0129</td> <td>1.0574</td>\n",
       "</tr>\n",
       "<tr>\n",
       "  <th>squareBaseAge</th>      <td>0.0004</td>   <td>0.0001</td>   <td>1.0004</td> <td>4.3329</td>  <td>0.0000</td> <td>1.0002</td> <td>1.0006</td>\n",
       "</tr>\n",
       "<tr>\n",
       "  <th>a1c</th>                <td>0.1358</td>   <td>0.0169</td>   <td>1.1454</td> <td>8.0145</td>  <td>0.0000</td> <td>1.1080</td> <td>1.1841</td>\n",
       "</tr>\n",
       "<tr>\n",
       "  <th>bmi</th>                <td>-0.0137</td>  <td>0.0041</td>   <td>0.9863</td> <td>-3.3216</td> <td>0.0009</td> <td>0.9784</td> <td>0.9944</td>\n",
       "</tr>\n",
       "<tr>\n",
       "  <th>gender</th>             <td>-0.2698</td>  <td>0.0478</td>   <td>0.7635</td> <td>-5.6429</td> <td>0.0000</td> <td>0.6952</td> <td>0.8385</td>\n",
       "</tr>\n",
       "<tr>\n",
       "  <th>hdl</th>                <td>-0.0002</td>  <td>0.0020</td>   <td>0.9998</td> <td>-0.0943</td> <td>0.9249</td> <td>0.9959</td> <td>1.0038</td>\n",
       "</tr>\n",
       "<tr>\n",
       "  <th>ldl</th>                <td>0.0014</td>   <td>0.0019</td>   <td>1.0014</td> <td>0.7110</td>  <td>0.4771</td> <td>0.9976</td> <td>1.0052</td>\n",
       "</tr>\n",
       "<tr>\n",
       "  <th>mi</th>                 <td>0.4884</td>   <td>0.0594</td>   <td>1.6297</td> <td>8.2201</td>  <td>0.0000</td> <td>1.4506</td> <td>1.8310</td>\n",
       "</tr>\n",
       "<tr>\n",
       "  <th>stroke</th>             <td>0.3784</td>   <td>0.0658</td>   <td>1.4599</td> <td>5.7526</td>  <td>0.0000</td> <td>1.2833</td> <td>1.6608</td>\n",
       "</tr>\n",
       "<tr>\n",
       "  <th>totChol</th>            <td>-0.0028</td>  <td>0.0018</td>   <td>0.9972</td> <td>-1.5609</td> <td>0.1186</td> <td>0.9936</td> <td>1.0007</td>\n",
       "</tr>\n",
       "<tr>\n",
       "  <th>trig</th>               <td>0.0002</td>   <td>0.0002</td>   <td>1.0002</td> <td>0.8046</td>  <td>0.4210</td> <td>0.9998</td> <td>1.0006</td>\n",
       "</tr>\n",
       "<tr>\n",
       "  <th>meanSbp</th>            <td>0.0038</td>   <td>0.0010</td>   <td>1.0038</td> <td>3.9241</td>  <td>0.0001</td> <td>1.0019</td> <td>1.0057</td>\n",
       "</tr>\n",
       "<tr>\n",
       "  <th>meanDbp</th>            <td>-0.0041</td>  <td>0.0013</td>   <td>0.9959</td> <td>-3.1126</td> <td>0.0019</td> <td>0.9934</td> <td>0.9985</td>\n",
       "</tr>\n",
       "</table>"
      ],
      "text/plain": [
       "<class 'statsmodels.iolib.summary2.Summary'>\n",
       "\"\"\"\n",
       "                             Results: PHReg\n",
       "========================================================================\n",
       "Model:                      PH Reg              Sample size:       33902\n",
       "Dependent variable:         monthsToDeath       Num. events:       2280 \n",
       "Ties:                       Breslow                                     \n",
       "------------------------------------------------------------------------\n",
       "                    log HR log HR SE   HR      t    P>|t|  [0.025 0.975]\n",
       "------------------------------------------------------------------------\n",
       "raceEthnicity[T.2] -0.0337    0.1240 0.9669 -0.2717 0.7858 0.7582 1.2329\n",
       "raceEthnicity[T.3]  0.1340    0.0631 1.1434  2.1246 0.0336 1.0104 1.2939\n",
       "raceEthnicity[T.4]  0.2726    0.0744 1.3133  3.6649 0.0002 1.1352 1.5194\n",
       "raceEthnicity[T.5] -0.0814    0.1482 0.9218 -0.5493 0.5828 0.6895 1.2325\n",
       "smokingStatus[T.1]  0.3166    0.0495 1.3725  6.4009 0.0000 1.2456 1.5122\n",
       "smokingStatus[T.2]  0.9498    0.0614 2.5852 15.4732 0.0000 2.2921 2.9157\n",
       "baseAge             0.0343    0.0110 1.0349  3.1246 0.0018 1.0129 1.0574\n",
       "squareBaseAge       0.0004    0.0001 1.0004  4.3329 0.0000 1.0002 1.0006\n",
       "a1c                 0.1358    0.0169 1.1454  8.0145 0.0000 1.1080 1.1841\n",
       "bmi                -0.0137    0.0041 0.9863 -3.3216 0.0009 0.9784 0.9944\n",
       "gender             -0.2698    0.0478 0.7635 -5.6429 0.0000 0.6952 0.8385\n",
       "hdl                -0.0002    0.0020 0.9998 -0.0943 0.9249 0.9959 1.0038\n",
       "ldl                 0.0014    0.0019 1.0014  0.7110 0.4771 0.9976 1.0052\n",
       "mi                  0.4884    0.0594 1.6297  8.2201 0.0000 1.4506 1.8310\n",
       "stroke              0.3784    0.0658 1.4599  5.7526 0.0000 1.2833 1.6608\n",
       "totChol            -0.0028    0.0018 0.9972 -1.5609 0.1186 0.9936 1.0007\n",
       "trig                0.0002    0.0002 1.0002  0.8046 0.4210 0.9998 1.0006\n",
       "meanSbp             0.0038    0.0010 1.0038  3.9241 0.0001 1.0019 1.0057\n",
       "meanDbp            -0.0041    0.0013 0.9959 -3.1126 0.0019 0.9934 0.9985\n",
       "========================================================================\n",
       "Confidence intervals are for the hazard ratios\n",
       "\"\"\""
      ]
     },
     "execution_count": 5,
     "metadata": {},
     "output_type": "execute_result"
    }
   ],
   "source": [
    "imputedDataset['squareBaseAge'] = imputedDataset['baseAge']**2\n",
    "coxModel = sm.PHReg.from_formula(\"monthsToDeath ~  baseAge + squareBaseAge + a1c + bmi + gender + hdl + ldl + mi + stroke + totChol + trig + meanSbp + meanDbp + raceEthnicity + smokingStatus\", status=\"nonCVDeath\", data=imputedDataset)\n",
    "results = coxModel.fit()\n",
    "results.summary()"
   ]
  },
  {
   "cell_type": "code",
   "execution_count": 27,
   "metadata": {},
   "outputs": [
    {
     "data": {
      "text/plain": [
       "0.943272562939755"
      ]
     },
     "execution_count": 27,
     "metadata": {},
     "output_type": "execute_result"
    }
   ],
   "source": [
    "np.exp(-0.0584)"
   ]
  },
  {
   "cell_type": "markdown",
   "metadata": {},
   "source": [
    "### Figure out how to get baseline cumulative hazard function"
   ]
  },
  {
   "cell_type": "code",
   "execution_count": 6,
   "metadata": {},
   "outputs": [],
   "source": [
    "# get the baseline cumulative hazard at one year.\n",
    "tuples = coxModel.baseline_cumulative_hazard(results.params)\n",
    "rawOneYearCumHazard = tuples[0][1][12]"
   ]
  },
  {
   "cell_type": "markdown",
   "metadata": {},
   "source": [
    "### Simple test case — will use to validate that test_cox_model code is working"
   ]
  },
  {
   "cell_type": "code",
   "execution_count": 7,
   "metadata": {},
   "outputs": [
    {
     "data": {
      "text/plain": [
       "index                        11574\n",
       "WTINT2YR                   9935.27\n",
       "a1c                            9.5\n",
       "baseAge                         71\n",
       "bmi                          30.05\n",
       "diedBy2015             5.39761e-79\n",
       "gender                           1\n",
       "hdl                             34\n",
       "ldl                            131\n",
       "monthsToDeath                   44\n",
       "monthsToDeath2                  43\n",
       "mi                               0\n",
       "selfReportMIAge                NaN\n",
       "stroke                           0\n",
       "selfReportStrokeAge            NaN\n",
       "timeInUS                       NaN\n",
       "totChol                        191\n",
       "trig                           172\n",
       "ucod                             0\n",
       "weight                        83.9\n",
       "year                          2007\n",
       "meanSbp                    144.667\n",
       "meanDbp                    52.6667\n",
       "raceEthnicity                    3\n",
       "smokingStatus                    1\n",
       "anyDeath                     False\n",
       "nonCVDeath                   False\n",
       "cvDeath                      False\n",
       "squareBaseAge                 5041\n",
       "Name: 11574, dtype: object"
      ]
     },
     "execution_count": 7,
     "metadata": {},
     "output_type": "execute_result"
    }
   ],
   "source": [
    "imputedDataset.iloc[1,]"
   ]
  },
  {
   "cell_type": "code",
   "execution_count": 8,
   "metadata": {},
   "outputs": [
    {
     "name": "stdout",
     "output_type": "stream",
     "text": [
      "5.440096345569454\n",
      "0.00011411612640965728\n"
     ]
    },
    {
     "data": {
      "text/plain": [
       "0.026299703075722214"
      ]
     },
     "execution_count": 8,
     "metadata": {},
     "output_type": "execute_result"
    }
   ],
   "source": [
    "import numpy as np\n",
    "\n",
    "print(results.predict().predicted_values[1])\n",
    "print (rawOneYearCumHazard)\n",
    "np.exp(results.predict().predicted_values[1]) * rawOneYearCumHazard"
   ]
  },
  {
   "cell_type": "code",
   "execution_count": 9,
   "metadata": {},
   "outputs": [
    {
     "name": "stdout",
     "output_type": "stream",
     "text": [
      "0.027086409382256874\n"
     ]
    }
   ],
   "source": [
    "print(282.42149105594353*9.590774866666027e-05)"
   ]
  },
  {
   "cell_type": "code",
   "execution_count": 10,
   "metadata": {},
   "outputs": [
    {
     "data": {
      "image/png": "[encoded data removed]",
      "text/plain": [
       "<Figure size 432x288 with 1 Axes>"
      ]
     },
     "metadata": {},
     "output_type": "display_data"
    }
   ],
   "source": [
    "import matplotlib.pyplot as plt\n",
    "%matplotlib inline\n",
    "import numpy as np\n",
    "\n",
    "# ok...here is a trick — the cumulative hazard curve is non linear\n",
    "# applyign the 12 month cumulative hazard (repatedly, as per our plan) is going to lead to underestimation on the long-term\n",
    "# to start, let's try and fit a simple linear model to the cmulative hazard curve \n",
    "# then plug that in as a baseline hazard\n",
    "time = tuples[0][0]\n",
    "timeYears = time/ 12\n",
    "cumSurv = tuples[0][2]\n",
    "cumHaz = tuples[0][1]\n",
    "\n",
    "\n",
    "plt.scatter(time, cumHaz )\n",
    "plt.ylim(0.000, 0.005)\n",
    "\n",
    "model = sm.OLS(cumHaz , timeYears)\n",
    "cumHazardLinearResult = model.fit()\n",
    "\n",
    "plt.scatter(time, cumHazardLinearResult.params[0] * timeYears )\n",
    "\n",
    "model = sm.OLS(cumHaz , np.column_stack((timeYears, timeYears**2)))\n",
    "cumHazardQuadResult = model.fit()\n",
    "\n",
    "quadOutcome = cumHazardQuadResult.params[0] * timeYears + cumHazardQuadResult.params[1] * timeYears**2\n",
    "plt.scatter(time, quadOutcome)\n",
    "\n",
    "plt.show()"
   ]
  },
  {
   "cell_type": "markdown",
   "metadata": {},
   "source": [
    "### So, the quadratic (green line on top of the blue line) fits very well...export to json and use for the model"
   ]
  },
  {
   "cell_type": "code",
   "execution_count": 11,
   "metadata": {},
   "outputs": [],
   "source": [
    "import sys\n",
    "import os\n",
    "sys.path.append(os.path.abspath(\"../mcm/\"))\n",
    "from mcm.cox_regression_model import CoxRegressionModel\n",
    "\n",
    "\n",
    "coxModelExport = CoxRegressionModel(dict(zip(results.model.exog_names, results.params)),\n",
    "                              dict(zip(results.model.exog_names, results.standard_errors)), \n",
    "                              cumHazardQuadResult.params[0] , cumHazardQuadResult.params[1] )\n",
    "\n",
    "coxModelExport.write_json(os.path.abspath(\"../mcm/mcm/data/nhanesMortalityModelSpec.json\"))"
   ]
  },
  {
   "cell_type": "markdown",
   "metadata": {},
   "source": [
    "### In the calibration, we find that we're-over-predicting mortality in the simluation. \n",
    "\n",
    "Possible explanations:\n",
    "<ul>\n",
    "    <li> Bad model fit in NHANES</li>\n",
    "    <li> Misimplementaiton of cumulative hazard logic</li>\n",
    "    <li> Misimplementaiton of the one year aggregation of the cumulative hazard</li>\n",
    "    <li> Coding Error </li>\n",
    "</ul>\n",
    "\n",
    "## first, let's check that the model is well-calibrated against itself..."
   ]
  },
  {
   "cell_type": "code",
   "execution_count": 12,
   "metadata": {},
   "outputs": [],
   "source": [
    "cumHazardPredicted = coxModel.predict(results.params, pred_type='cumhaz').predicted_values\n",
    "betaOutput = coxModel.predict(results.params, pred_type='lhr').predicted_values"
   ]
  },
  {
   "cell_type": "code",
   "execution_count": 13,
   "metadata": {},
   "outputs": [
    {
     "name": "stderr",
     "output_type": "stream",
     "text": [
      "/anaconda3/lib/python3.6/site-packages/pandas/core/indexing.py:189: SettingWithCopyWarning: \n",
      "A value is trying to be set on a copy of a slice from a DataFrame\n",
      "\n",
      "See the caveats in the documentation: http://pandas.pydata.org/pandas-docs/stable/indexing.html#indexing-view-versus-copy\n",
      "  self._setitem_with_indexer(indexer, value)\n"
     ]
    }
   ],
   "source": [
    "imputedDataset['monthsToDeath'] = imputedDataset['monthsToDeath'].astype(int)\n",
    "imputedDataset['monthsToDeath'].loc[imputedDataset['monthsToDeath'] >=149] = 149\n",
    "imputedDataset['cumHazardAt2011'] = cumHaz[imputedDataset.monthsToDeath]\n",
    "imputedDataset['estimatedCumHazardAt2011'] = cumHazardQuadResult.params[0] * imputedDataset.monthsToDeath/12 + cumHazardQuadResult.params[1] * (imputedDataset.monthsToDeath/12)**2"
   ]
  },
  {
   "cell_type": "code",
   "execution_count": 14,
   "metadata": {},
   "outputs": [],
   "source": [
    "imputedDataset['cumHazardPredicted'] = cumHazardPredicted\n",
    "imputedDataset['betaOutput'] = betaOutput\n",
    "imputedDataset['calcCumHazard'] = imputedDataset.cumHazardAt2011 * np.exp(imputedDataset.betaOutput)\n",
    "imputedDataset['calcCumHazardUsingEstimation'] = imputedDataset.estimatedCumHazardAt2011 * np.exp(imputedDataset.betaOutput)\n",
    "imputedDataset['delta'] = imputedDataset.cumHazardPredicted - imputedDataset.calcCumHazard"
   ]
  },
  {
   "cell_type": "code",
   "execution_count": 15,
   "metadata": {},
   "outputs": [
    {
     "data": {
      "text/html": [
       "<div>\n",
       "<style scoped>\n",
       "    .dataframe tbody tr th:only-of-type {\n",
       "        vertical-align: middle;\n",
       "    }\n",
       "\n",
       "    .dataframe tbody tr th {\n",
       "        vertical-align: top;\n",
       "    }\n",
       "\n",
       "    .dataframe thead th {\n",
       "        text-align: right;\n",
       "    }\n",
       "</style>\n",
       "<table border=\"1\" class=\"dataframe\">\n",
       "  <thead>\n",
       "    <tr style=\"text-align: right;\">\n",
       "      <th></th>\n",
       "      <th>count</th>\n",
       "      <th>mean</th>\n",
       "      <th>std</th>\n",
       "      <th>min</th>\n",
       "      <th>25%</th>\n",
       "      <th>50%</th>\n",
       "      <th>75%</th>\n",
       "      <th>max</th>\n",
       "    </tr>\n",
       "    <tr>\n",
       "      <th>nonCVDeath</th>\n",
       "      <th></th>\n",
       "      <th></th>\n",
       "      <th></th>\n",
       "      <th></th>\n",
       "      <th></th>\n",
       "      <th></th>\n",
       "      <th></th>\n",
       "      <th></th>\n",
       "    </tr>\n",
       "  </thead>\n",
       "  <tbody>\n",
       "    <tr>\n",
       "      <th>False</th>\n",
       "      <td>31622.0</td>\n",
       "      <td>0.0</td>\n",
       "      <td>0.0</td>\n",
       "      <td>0.0</td>\n",
       "      <td>0.0</td>\n",
       "      <td>0.0</td>\n",
       "      <td>0.0</td>\n",
       "      <td>0.0</td>\n",
       "    </tr>\n",
       "    <tr>\n",
       "      <th>True</th>\n",
       "      <td>2280.0</td>\n",
       "      <td>0.0</td>\n",
       "      <td>0.0</td>\n",
       "      <td>0.0</td>\n",
       "      <td>0.0</td>\n",
       "      <td>0.0</td>\n",
       "      <td>0.0</td>\n",
       "      <td>0.0</td>\n",
       "    </tr>\n",
       "  </tbody>\n",
       "</table>\n",
       "</div>"
      ],
      "text/plain": [
       "              count  mean  std  min  25%  50%  75%  max\n",
       "nonCVDeath                                             \n",
       "False       31622.0   0.0  0.0  0.0  0.0  0.0  0.0  0.0\n",
       "True         2280.0   0.0  0.0  0.0  0.0  0.0  0.0  0.0"
      ]
     },
     "execution_count": 15,
     "metadata": {},
     "output_type": "execute_result"
    }
   ],
   "source": [
    "imputedDataset.groupby('nonCVDeath')['delta'].describe() "
   ]
  },
  {
   "cell_type": "markdown",
   "metadata": {},
   "source": [
    "### So, we've checked that our calculattion of the cumulative hazard lines up with what the model predicts..."
   ]
  },
  {
   "cell_type": "code",
   "execution_count": 16,
   "metadata": {},
   "outputs": [
    {
     "name": "stdout",
     "output_type": "stream",
     "text": [
      "                nonCVDeath  calcCumHazard  calcCumHazardUsingEstimation  \\\n",
      "ageDecile                                                                 \n",
      "(18.999, 23.0]    0.004663       0.004043                      0.004031   \n",
      "(23.0, 29.0]      0.004434       0.005707                      0.005686   \n",
      "(29.0, 35.0]      0.006075       0.007818                      0.007785   \n",
      "(35.0, 41.0]      0.011405       0.011991                      0.011943   \n",
      "(41.0, 47.0]      0.018210       0.018180                      0.018110   \n",
      "(47.0, 54.0]      0.033816       0.029385                      0.029232   \n",
      "(54.0, 61.0]      0.058523       0.050436                      0.050188   \n",
      "(61.0, 69.0]      0.094791       0.093588                      0.093131   \n",
      "(69.0, 77.0]      0.157726       0.165606                      0.164899   \n",
      "(77.0, 85.0]      0.297101       0.287185                      0.285344   \n",
      "\n",
      "                  baseAge  \n",
      "ageDecile                  \n",
      "(18.999, 23.0]  20.570466  \n",
      "(23.0, 29.0]    26.498965  \n",
      "(29.0, 35.0]    32.441677  \n",
      "(35.0, 41.0]    38.537815  \n",
      "(41.0, 47.0]    44.478086  \n",
      "(47.0, 54.0]    51.002842  \n",
      "(54.0, 61.0]    58.327151  \n",
      "(61.0, 69.0]    65.261010  \n",
      "(69.0, 77.0]    73.230646  \n",
      "(77.0, 85.0]    81.519928  \n"
     ]
    },
    {
     "data": {
      "text/plain": [
       "<matplotlib.legend.Legend at 0x1c14b58f98>"
      ]
     },
     "execution_count": 16,
     "metadata": {},
     "output_type": "execute_result"
    },
    {
     "data": {
      "image/png": "[encoded data removed]",
      "text/plain": [
       "<Figure size 432x288 with 1 Axes>"
      ]
     },
     "metadata": {},
     "output_type": "display_data"
    }
   ],
   "source": [
    "imputedDataset['ageDecile'] = pd.qcut(imputedDataset.baseAge, 10)\n",
    "output = imputedDataset.groupby('ageDecile')[['nonCVDeath', 'calcCumHazard', 'calcCumHazardUsingEstimation', 'baseAge']].mean()\n",
    "print(output)\n",
    "plt.bar(output.index.codes+0.5, output.nonCVDeath, width=0.5, label=\"actualDeath\")\n",
    "plt.bar(output.index.codes, output.calcCumHazard, width=0.5, label=\"estimated\")\n",
    "plt.legend()"
   ]
  },
  {
   "cell_type": "markdown",
   "metadata": {},
   "source": [
    "### So, we do not have a fundamental failure of model calibration...it looks pretty good in the sample it was derived from. Also, we tested our quadratic estimate on the baseline hazard and it looks like it also performs well.\n",
    "\n",
    "However there was one interesting potential lesson here — if the times to event are a little bit off it can lead to very different conclusions. "
   ]
  },
  {
   "cell_type": "markdown",
   "metadata": {},
   "source": [
    "### One other thing to check that came up when validating the overall simulation against NHANES...is there under-prediciton in teh oldest old under long follow-up? Let's specifically check"
   ]
  },
  {
   "cell_type": "code",
   "execution_count": 17,
   "metadata": {},
   "outputs": [],
   "source": [
    "earlyCrossSectionOfNonImmigrants = pd.read_stata(\"/Users/burke/Documents/research/bpCog/nhanes/earlyCrossSectionOfNonImmigrants.dta\")\n",
    "earlyCrossSectionOfNonImmigrants['ageDecile'] = pd.qcut(earlyCrossSectionOfNonImmigrants.age, 10)\n",
    "earlyCrossSectionOfNonImmigrants['squareBaseAge'] = earlyCrossSectionOfNonImmigrants.age**2\n",
    "\n",
    "earlyCrossSectionOfNonImmigrants = earlyCrossSectionOfNonImmigrants.rename({'selfReportMI' : 'mi', \n",
    "                                        'selfReportStroke' : 'stroke', \n",
    "                                        'tot_chol' : 'totChol',\n",
    "                                        'meanDBP' : 'meanDbp',\n",
    "                                        'meanSBP' : 'meanSbp',\n",
    "                                        'age' : 'baseAge'}, axis='columns')\n",
    "earlyCrossSectionOfNonImmigrants['nonCVDeath'] = earlyCrossSectionOfNonImmigrants.ucod == 3\n",
    "\n",
    "\n",
    "\n",
    "earlyCrossSectionOfNonImmigrants = pd.concat([earlyCrossSectionOfNonImmigrants, pd.get_dummies(earlyCrossSectionOfNonImmigrants.raceEthnicity, prefix='raceEthnicity')], axis=1)\n",
    "earlyCrossSectionOfNonImmigrants = pd.concat([earlyCrossSectionOfNonImmigrants, pd.get_dummies(earlyCrossSectionOfNonImmigrants.smokingStatus, prefix='smokingStatus')], axis=1)"
   ]
  },
  {
   "cell_type": "code",
   "execution_count": 18,
   "metadata": {},
   "outputs": [],
   "source": [
    "variablesForModel = earlyCrossSectionOfNonImmigrants[['raceEthnicity_2', 'raceEthnicity_3', 'raceEthnicity_4', 'raceEthnicity_5', 'smokingStatus_1', 'smokingStatus_2','baseAge', 'squareBaseAge', 'a1c','bmi','gender', 'hdl', 'ldl','mi','stroke', 'totChol', 'trig', 'meanSbp', 'meanDbp']]\n",
    "\n",
    "cumHazardPredicted = coxModel.predict(results.params, exog=variablesForModel, endog=earlyCrossSectionOfNonImmigrants.monthsToDeath,\n",
    "                                      pred_type='cumhaz').predicted_values\n",
    "earlyCrossSectionOfNonImmigrants['cumHazardPredicted'] = cumHazardPredicted"
   ]
  },
  {
   "cell_type": "code",
   "execution_count": 19,
   "metadata": {},
   "outputs": [
    {
     "name": "stdout",
     "output_type": "stream",
     "text": [
      "                nonCVDeath  cumHazardPredicted\n",
      "ageDecile                                     \n",
      "(20.999, 25.0]    0.018219            0.008526\n",
      "(25.0, 30.0]      0.017928            0.010075\n",
      "(30.0, 36.0]      0.008818            0.013982\n",
      "(36.0, 40.0]      0.059809            0.019294\n",
      "(40.0, 45.0]      0.015929            0.026068\n",
      "(45.0, 49.0]      0.017582            0.037265\n",
      "(49.0, 54.0]      0.044574            0.053054\n",
      "(54.0, 61.0]      0.069264            0.083623\n",
      "(61.0, 72.0]      0.136842            0.163590\n",
      "(72.0, 85.0]      0.357447            0.329762\n"
     ]
    },
    {
     "data": {
      "text/plain": [
       "<matplotlib.legend.Legend at 0x1c14c8c828>"
      ]
     },
     "execution_count": 19,
     "metadata": {},
     "output_type": "execute_result"
    },
    {
     "data": {
      "image/png": "[encoded data removed]",
      "text/plain": [
       "<Figure size 432x288 with 1 Axes>"
      ]
     },
     "metadata": {},
     "output_type": "display_data"
    }
   ],
   "source": [
    "output = earlyCrossSectionOfNonImmigrants.groupby('ageDecile')[['nonCVDeath', 'cumHazardPredicted']].mean()\n",
    "print(output)\n",
    "plt.bar(output.index.codes+0.5, output.nonCVDeath, width=0.5, label=\"actualDeath\")\n",
    "plt.bar(output.index.codes, output.cumHazardPredicted, width=0.5, label=\"estimated\")\n",
    "plt.legend()"
   ]
  },
  {
   "cell_type": "markdown",
   "metadata": {},
   "source": [
    "### Doesn't look like it — using the NHANES based dataset (earlyImmigrants) for comparison of long term mortality and then running the predictions using the model estiamted here, we're getting very similar predictions to what we saw in the whle sample..."
   ]
  },
  {
   "cell_type": "markdown",
   "metadata": {},
   "source": [
    "### So, the next step is to run the model on these same data and comapre...first, we'll run the model with our implementtation of the cox model. THen we'll run the markov-ed version"
   ]
  },
  {
   "cell_type": "code",
   "execution_count": 20,
   "metadata": {},
   "outputs": [],
   "source": [
    "from mcm.gender import NHANESGender\n",
    "from mcm.person import Person\n",
    "from mcm.outcome import Outcome\n",
    "from mcm.race_ethnicity import NHANESRaceEthnicity\n",
    "from mcm.smoking_status import SmokingStatus\n",
    "from mcm.cohort_risk_model_repository import CohortRiskModelRepository\n",
    "from mcm.outcome_model_repository import OutcomeModelRepository"
   ]
  },
  {
   "cell_type": "code",
   "execution_count": 21,
   "metadata": {},
   "outputs": [],
   "source": [
    "import os \n",
    "\n",
    "cohortModel = OutcomeModelRepository()\n",
    "riskModel = CohortRiskModelRepository()\n",
    "\n",
    "def calcMortalityRunningFullModel(x):\n",
    "        temp =  Person(\n",
    "            age=x.baseAge,\n",
    "            gender=NHANESGender(int(x.gender)),\n",
    "            raceEthnicity=NHANESRaceEthnicity(int(x.raceEthnicity)),\n",
    "            sbp=x.meanSbp,\n",
    "            dbp=x.meanDbp,\n",
    "            a1c=x.a1c,\n",
    "            hdl=x.hdl,\n",
    "            ldl=x.ldl,\n",
    "            trig=x.trig,\n",
    "            totChol=x.totChol,\n",
    "            bmi=x.bmi,\n",
    "            smokingStatus=SmokingStatus(int(x.smokingStatus)),\n",
    "            dfIndex=x.index,\n",
    "            diedBy2011=x.diedBy2011)\n",
    "        \n",
    "        for year in range(1,11):\n",
    "            if not temp.is_dead():\n",
    "                temp.advance_year(riskModel, cohortModel)\n",
    "        return temp.is_dead() and not temp.has_fatal_mi() and not temp.has_fatal_stroke()\n",
    "\n",
    "\n",
    "earlyCrossSectionOfNonImmigrants['estMortalityFromModel'] = earlyCrossSectionOfNonImmigrants.apply(calcMortalityRunningFullModel, axis=1)"
   ]
  },
  {
   "cell_type": "code",
   "execution_count": 22,
   "metadata": {},
   "outputs": [
    {
     "name": "stdout",
     "output_type": "stream",
     "text": [
      "                nonCVDeath  cumHazardPredicted  estMortalityFromModel\n",
      "ageDecile                                                            \n",
      "(20.999, 25.0]    0.018219            0.008526               0.004049\n",
      "(25.0, 30.0]      0.017928            0.010075               0.005976\n",
      "(30.0, 36.0]      0.008818            0.013982               0.015873\n",
      "(36.0, 40.0]      0.059809            0.019294               0.011962\n",
      "(40.0, 45.0]      0.015929            0.026068               0.028319\n",
      "(45.0, 49.0]      0.017582            0.037265               0.030769\n",
      "(49.0, 54.0]      0.044574            0.053054               0.052326\n",
      "(54.0, 61.0]      0.069264            0.083623               0.073593\n",
      "(61.0, 72.0]      0.136842            0.163590               0.176842\n",
      "(72.0, 85.0]      0.357447            0.329762               0.427660\n"
     ]
    },
    {
     "data": {
      "text/plain": [
       "<matplotlib.legend.Legend at 0x1c156a5b38>"
      ]
     },
     "execution_count": 22,
     "metadata": {},
     "output_type": "execute_result"
    },
    {
     "data": {
      "image/png": "[encoded data removed]",
      "text/plain": [
       "<Figure size 432x288 with 1 Axes>"
      ]
     },
     "metadata": {},
     "output_type": "display_data"
    }
   ],
   "source": [
    "output = earlyCrossSectionOfNonImmigrants.groupby('ageDecile')[['nonCVDeath', 'cumHazardPredicted',  'estMortalityFromModel']].mean()\n",
    "print(output)\n",
    "plt.bar(output.index.codes+1, output.nonCVDeath, width=0.20, label=\"actualDeath\")\n",
    "plt.bar(output.index.codes+1.2, output.cumHazardPredicted, width=0.20, label=\"direct model estimate\")\n",
    "plt.bar(output.index.codes+1.6, output.estMortalityFromModel, width=0.20, label=\"full code\")\n",
    "\n",
    "plt.legend()"
   ]
  },
  {
   "cell_type": "markdown",
   "metadata": {},
   "source": [
    "### Ok...this is telling the story, i think...\n",
    "1. there is a small problem witht eh green bars — rthey should be exactly the same as the orange bars or extremely close.\n",
    " to figure that out, we can just esetimat ethe linear predictors and hazard functions for both and compare\n",
    "2. the bigger problem si that the red bars are over-estimating risk. its conceivable that whatefger the problem in #1 is is being amplified\n",
    ", but its more likely thtat there is something wrong about aggregating over time..."
   ]
  },
  {
   "cell_type": "code",
   "execution_count": 24,
   "metadata": {},
   "outputs": [],
   "source": [
    "def calcLinearPredictorUsingModel(x):\n",
    "    temp =  Person(\n",
    "            age=x.baseAge,\n",
    "            gender=NHANESGender(int(x.gender)),\n",
    "            raceEthnicity=NHANESRaceEthnicity(int(x.raceEthnicity)),\n",
    "            sbp=x.meanSbp,\n",
    "            dbp=x.meanDbp,\n",
    "            a1c=x.a1c,\n",
    "            hdl=x.hdl,\n",
    "            ldl=x.ldl,\n",
    "            trig=x.trig,\n",
    "            totChol=x.totChol,\n",
    "            bmi=x.bmi,\n",
    "            smokingStatus=SmokingStatus(int(x.smokingStatus)),\n",
    "            dfIndex=x.index,\n",
    "            diedBy2011=x.diedBy2011)\n",
    "    return statsModel.linear_predictor(temp)\n",
    "\n",
    "def calcCumHazardUsingModel(x):\n",
    "    temp =  Person(\n",
    "            age=x.baseAge,\n",
    "            gender=NHANESGender(int(x.gender)),\n",
    "            raceEthnicity=NHANESRaceEthnicity(int(x.raceEthnicity)),\n",
    "            sbp=x.meanSbp,\n",
    "            dbp=x.meanDbp,\n",
    "            a1c=x.a1c,\n",
    "            hdl=x.hdl,\n",
    "            ldl=x.ldl,\n",
    "            trig=x.trig,\n",
    "            totChol=x.totChol,\n",
    "            bmi=x.bmi,\n",
    "            smokingStatus=SmokingStatus(int(x.smokingStatus)),\n",
    "            dfIndex=x.index,\n",
    "            diedBy2011=x.diedBy2011)\n",
    "    return statsModel.get_cumulative_hazard_for_interval(0, x.monthsToDeath/12)\n",
    "\n",
    "cohortModel = OutcomeModelRepository()\n",
    "riskModel = CohortRiskModelRepository()\n",
    "\n",
    "earlyCrossSectionOfNonImmigrants['estLinearPredictorFromOurCode'] = earlyCrossSectionOfNonImmigrants.apply(calcLinearPredictorUsingModel, axis=1)\n",
    "earlyCrossSectionOfNonImmigrants['estCumHazardFromOurCode'] = earlyCrossSectionOfNonImmigrants.apply(calcCumHazardUsingModel, axis=1)\n"
   ]
  },
  {
   "cell_type": "code",
   "execution_count": 27,
   "metadata": {},
   "outputs": [],
   "source": [
    "variablesForModel = earlyCrossSectionOfNonImmigrants[['raceEthnicity_2', 'raceEthnicity_3', 'raceEthnicity_4', 'raceEthnicity_5', 'smokingStatus_1', 'smokingStatus_2','baseAge', 'squareBaseAge', 'a1c','bmi','gender', 'hdl', 'ldl','mi','stroke', 'totChol', 'trig', 'meanSbp', 'meanDbp']]\n",
    "\n",
    "linearPredictorPredicted = coxModel.predict(results.params, exog=variablesForModel, endog=earlyCrossSectionOfNonImmigrants.monthsToDeath,\n",
    "                                      pred_type='lhr').predicted_values\n",
    "earlyCrossSectionOfNonImmigrants['linearPredictorFromCox'] = linearPredictorPredicted\n",
    "earlyCrossSectionOfNonImmigrants['baselineHazardFromCox'] = cumHaz[earlyCrossSectionOfNonImmigrants.monthsToDeath.astype(int)]"
   ]
  },
  {
   "cell_type": "code",
   "execution_count": 28,
   "metadata": {},
   "outputs": [
    {
     "name": "stdout",
     "output_type": "stream",
     "text": [
      "                linearPredictorFromCox  estLinearPredictorFromOurCode\n",
      "ageDecile                                                            \n",
      "(20.999, 26.0]                1.003385                       1.000636\n",
      "(26.0, 31.0]                  1.157677                       1.155450\n",
      "(31.0, 36.0]                  1.342369                       1.333863\n",
      "(36.0, 40.0]                  1.671952                       1.663334\n",
      "(40.0, 45.0]                  1.841432                       1.833784\n",
      "(45.0, 49.0]                  2.232966                       2.224690\n",
      "(49.0, 54.0]                  2.563518                       2.540487\n",
      "(54.0, 60.0]                  2.920201                       2.892655\n",
      "(60.0, 72.0]                  3.715388                       3.657640\n",
      "(72.0, 85.0]                  5.092387                       4.946215\n"
     ]
    },
    {
     "data": {
      "text/plain": [
       "<matplotlib.legend.Legend at 0x1c2486c9b0>"
      ]
     },
     "execution_count": 28,
     "metadata": {},
     "output_type": "execute_result"
    },
    {
     "data": {
      "image/png": "[encoded data removed]",
      "text/plain": [
       "<Figure size 432x288 with 1 Axes>"
      ]
     },
     "metadata": {},
     "output_type": "display_data"
    }
   ],
   "source": [
    "output = earlyCrossSectionOfNonImmigrants.groupby('ageDecile')[['linearPredictorFromCox', 'estLinearPredictorFromOurCode']].mean()\n",
    "print(output)\n",
    "plt.bar(output.index.codes+1, output.linearPredictorFromCox, width=0.40, label=\"cox estimate\")\n",
    "plt.bar(output.index.codes+1.4, output.estLinearPredictorFromOurCode, width=0.40, label=\"code estimate\")\n",
    "\n",
    "plt.legend()"
   ]
  },
  {
   "cell_type": "code",
   "execution_count": 30,
   "metadata": {},
   "outputs": [
    {
     "name": "stdout",
     "output_type": "stream",
     "text": [
      "                estCumHazardFromOurCode  baselineHazardFromCox\n",
      "ageDecile                                                     \n",
      "(20.999, 26.0]                 0.005613               0.005576\n",
      "(26.0, 31.0]                   0.005532               0.005495\n",
      "(31.0, 36.0]                   0.005569               0.005529\n",
      "(36.0, 40.0]                   0.005489               0.005454\n",
      "(40.0, 45.0]                   0.005521               0.005488\n",
      "(45.0, 49.0]                   0.005417               0.005392\n",
      "(49.0, 54.0]                   0.005377               0.005344\n",
      "(54.0, 60.0]                   0.005385               0.005359\n",
      "(60.0, 72.0]                   0.004932               0.004897\n",
      "(72.0, 85.0]                   0.003521               0.003509\n"
     ]
    },
    {
     "data": {
      "text/plain": [
       "<matplotlib.legend.Legend at 0x1c248dceb8>"
      ]
     },
     "execution_count": 30,
     "metadata": {},
     "output_type": "execute_result"
    },
    {
     "data": {
      "image/png": "[encoded data removed]",
      "text/plain": [
       "<Figure size 432x288 with 1 Axes>"
      ]
     },
     "metadata": {},
     "output_type": "display_data"
    }
   ],
   "source": [
    "output = earlyCrossSectionOfNonImmigrants.groupby('ageDecile')[['estCumHazardFromOurCode', 'baselineHazardFromCox']].mean()\n",
    "print(output)\n",
    "plt.bar(output.index.codes+1, output.estCumHazardFromOurCode, width=0.40, label=\"code estimate\")\n",
    "plt.bar(output.index.codes+1.4, output.baselineHazardFromCox, width=0.40, label=\"cox estimate\")\n",
    "\n",
    "plt.legend()"
   ]
  },
  {
   "cell_type": "code",
   "execution_count": null,
   "metadata": {},
   "outputs": [],
   "source": []
  }
 ],
 "metadata": {
  "kernelspec": {
   "display_name": "Python 3",
   "language": "python",
   "name": "python3"
  },
  "language_info": {
   "codemirror_mode": {
    "name": "ipython",
    "version": 3
   },
   "file_extension": ".py",
   "mimetype": "text/x-python",
   "name": "python",
   "nbconvert_exporter": "python",
   "pygments_lexer": "ipython3",
   "version": "3.7.4"
  }
 },
 "nbformat": 4,
 "nbformat_minor": 2
}
