{
 "cells": [
  {
   "cell_type": "markdown",
   "metadata": {},
   "source": [
    "This block sets up a PDF and CDF that take aset of data (resids) measure, their mean, SD, skew and kurtosis and sets up the distributions"
   ]
  },
  {
   "cell_type": "code",
   "execution_count": null,
   "metadata": {},
   "outputs": [],
   "source": [
    "x = np.linspace(stats.norm.ppf(0.01),\n",
    "                stats.norm.ppf(0.99), 1000)\n",
    "\n",
    "# this code sets up a distribution of residuals that reflects the empiric\n",
    "# distrbiution of residuals from the regression, accounting for skew and kurotosis\n",
    "# the following code trsnaltes this to a cumulative distribution function\n",
    "# so that we can later sample from the CDF\n",
    "pdfFunc = extras.pdf_mvsk([resids.mean(), resids.var(),\n",
    "                           stats.skew(resids), stats.kurtosis(resids)])\n",
    "\n",
    "pdfVals = pdfFunc(x)\n",
    "\n",
    "# remove negative elements from pdf values, which can happen with large kurtosis\n",
    "pdfVals = [val if val > 0 else 0 for val in pdfVals]\n",
    "# normalize the PDF\n",
    "normPDFVals = pdfVals / sum(pdfVals)\n",
    "\n",
    "# get CDF from PDF\n",
    "cdf = [0]\n",
    "for idx, val in enumerate(normPDFVals):\n",
    "    cdf.append(cdf[idx] + val)\n",
    "del(cdf[0])\n",
    "\n",
    "_residCDF = cdf"
   ]
  },
  {
   "cell_type": "markdown",
   "metadata": {},
   "source": [
    "This is a method that gives you a random draw from the CDF above"
   ]
  },
  {
   "cell_type": "code",
   "execution_count": null,
   "metadata": {},
   "outputs": [],
   "source": [
    "\n",
    "    def get_residual_draw_from_cdf(self):\n",
    "        rand = np.random.random()\n",
    "        distanceToCDF = pd.Series(data=[abs(val-rand)\n",
    "                                        for val in self._residCDF],\n",
    "                                  index=np.arange(0, len(self._residCDF)))\n",
    "        minIndex = distanceToCDF.idxmin()\n",
    "        return (float(minIndex) - len(self._residCDF)/2) / len(self._residCDF)"
   ]
  }
 ],
 "metadata": {
  "kernelspec": {
   "display_name": "Python 3",
   "language": "python",
   "name": "python3"
  },
  "language_info": {
   "codemirror_mode": {
    "name": "ipython",
    "version": 3
   },
   "file_extension": ".py",
   "mimetype": "text/x-python",
   "name": "python",
   "nbconvert_exporter": "python",
   "pygments_lexer": "ipython3",
   "version": "3.6.5"
  }
 },
 "nbformat": 4,
 "nbformat_minor": 2
}
